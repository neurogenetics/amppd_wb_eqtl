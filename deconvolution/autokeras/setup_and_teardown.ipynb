{
 "cells": [
  {
   "cell_type": "markdown",
   "metadata": {},
   "source": [
    "## Notebook for setting up and tearing down the AutoKeras deepML cell fraction deconvolution"
   ]
  },
  {
   "cell_type": "markdown",
   "metadata": {},
   "source": [
    "#### obviously can't chicken or egg this notebook have to pull it down first before running"
   ]
  },
  {
   "cell_type": "code",
   "execution_count": 2,
   "metadata": {},
   "outputs": [],
   "source": [
    "# this is based on using GCP AI Platform notebook with this REST or similar\n",
    "\n",
    "# {\n",
    "#   \"cpuPlatform\": \"Intel Haswell\",\n",
    "#   \"creationTimestamp\": \"2020-09-12T19:38:16.729-07:00\",\n",
    "#   \"deletionProtection\": false,\n",
    "#   \"disks\": [\n",
    "#     {\n",
    "#       \"autoDelete\": true,\n",
    "#       \"boot\": true,\n",
    "#       \"deviceName\": \"boot\",\n",
    "#       \"diskSizeGb\": \"500\",\n",
    "#       \"guestOsFeatures\": [\n",
    "#         {\n",
    "#           \"type\": \"UEFI_COMPATIBLE\"\n",
    "#         },\n",
    "#         {\n",
    "#           \"type\": \"VIRTIO_SCSI_MULTIQUEUE\"\n",
    "#         }\n",
    "#       ],\n",
    "#       \"index\": 0,\n",
    "#       \"interface\": \"SCSI\",\n",
    "#       \"kind\": \"compute#attachedDisk\",\n",
    "#       \"licenses\": [\n",
    "#         \"projects/click-to-deploy-images/global/licenses/c2d-tensorflow\",\n",
    "#         \"projects/click-to-deploy-images/global/licenses/c2d-dl-platform-gpu-tensorflow-experimental\",\n",
    "#         \"projects/click-to-deploy-images/global/licenses/c2d-dl-platform-lts-gpu-tensorflow-2-3\",\n",
    "#         \"projects/debian-cloud/global/licenses/debian-10-buster\"\n",
    "#       ],\n",
    "#       \"mode\": \"READ_WRITE\",\n",
    "#       \"source\": \"projects/nih-nia-lng-cbg/zones/us-central1-a/disks/tensorflow-2-3-20200912-223516-boot\",\n",
    "#       \"type\": \"PERSISTENT\"\n",
    "#     },\n",
    "#     {\n",
    "#       \"autoDelete\": true,\n",
    "#       \"boot\": false,\n",
    "#       \"deviceName\": \"data\",\n",
    "#       \"diskSizeGb\": \"100\",\n",
    "#       \"index\": 1,\n",
    "#       \"interface\": \"SCSI\",\n",
    "#       \"kind\": \"compute#attachedDisk\",\n",
    "#       \"mode\": \"READ_WRITE\",\n",
    "#       \"source\": \"projects/nih-nia-lng-cbg/zones/us-central1-a/disks/tensorflow-2-3-20200912-223516-data\",\n",
    "#       \"type\": \"PERSISTENT\"\n",
    "#     }\n",
    "#   ],\n",
    "#   \"guestAccelerators\": [\n",
    "#     {\n",
    "#       \"acceleratorCount\": 2,\n",
    "#       \"acceleratorType\": \"projects/nih-nia-lng-cbg/zones/us-central1-a/acceleratorTypes/nvidia-tesla-t4\"\n",
    "#     }\n",
    "#   ],\n",
    "#   \"id\": \"3241388043532253431\",\n",
    "#   \"kind\": \"compute#instance\",\n",
    "#   \"labelFingerprint\": \"42WmSpB8rSM=\",\n",
    "#   \"machineType\": \"projects/nih-nia-lng-cbg/zones/us-central1-a/machineTypes/n1-standard-16\",\n",
    "#   \"metadata\": {\n",
    "#     \"fingerprint\": \"9uPdfv5qFqA=\",\n",
    "#     \"items\": [\n",
    "#       {\n",
    "#         \"key\": \"framework\",\n",
    "#         \"value\": \"TensorFlow:2.3\"\n",
    "#       },\n",
    "#       {\n",
    "#         \"key\": \"install-nvidia-driver\",\n",
    "#         \"value\": \"True\"\n",
    "#       },\n",
    "#       {\n",
    "#         \"key\": \"installed-extensions\",\n",
    "#         \"value\": \"jupyterlab_gcedetails-latest.tar.gz,jupyterlab_gcsfilebrowser-latest.tar.gz\"\n",
    "#       },\n",
    "#       {\n",
    "#         \"key\": \"notebooks-api\",\n",
    "#         \"value\": \"PROD\"\n",
    "#       },\n",
    "#       {\n",
    "#         \"key\": \"proxy-mode\",\n",
    "#         \"value\": \"service_account\"\n",
    "#       },\n",
    "#       {\n",
    "#         \"key\": \"restriction\",\n",
    "#         \"value\": \"\"\n",
    "#       },\n",
    "#       {\n",
    "#         \"key\": \"shutdown-script\",\n",
    "#         \"value\": \"/opt/deeplearning/bin/shutdown_script.sh\"\n",
    "#       },\n",
    "#       {\n",
    "#         \"key\": \"title\",\n",
    "#         \"value\": \"TensorFlow2.3/Keras.CUDA11.0\"\n",
    "#       },\n",
    "#       {\n",
    "#         \"key\": \"version\",\n",
    "#         \"value\": \"55\"\n",
    "#       },\n",
    "#       {\n",
    "#         \"key\": \"proxy-url\",\n",
    "#         \"value\": \"6d2e7c49e9cc2c96-dot-us-central1.notebooks.googleusercontent.com\"\n",
    "#       }\n",
    "#     ],\n",
    "#     \"kind\": \"compute#metadata\"\n",
    "#   },\n",
    "#   \"name\": \"tensorflow-2-3-20200912-223516\",\n",
    "#   \"networkInterfaces\": [\n",
    "#     {\n",
    "#       \"accessConfigs\": [\n",
    "#         {\n",
    "#           \"kind\": \"compute#accessConfig\",\n",
    "#           \"name\": \"external-nat\",\n",
    "#           \"natIP\": \"34.123.68.175\",\n",
    "#           \"networkTier\": \"PREMIUM\",\n",
    "#           \"type\": \"ONE_TO_ONE_NAT\"\n",
    "#         }\n",
    "#       ],\n",
    "#       \"fingerprint\": \"EnTvKGLLcm8=\",\n",
    "#       \"kind\": \"compute#networkInterface\",\n",
    "#       \"name\": \"nic0\",\n",
    "#       \"network\": \"projects/nih-nia-lng-cbg/global/networks/default\",\n",
    "#       \"networkIP\": \"10.128.0.5\",\n",
    "#       \"subnetwork\": \"projects/nih-nia-lng-cbg/regions/us-central1/subnetworks/default\"\n",
    "#     }\n",
    "#   ],\n",
    "#   \"scheduling\": {\n",
    "#     \"automaticRestart\": true,\n",
    "#     \"onHostMaintenance\": \"TERMINATE\",\n",
    "#     \"preemptible\": false\n",
    "#   },\n",
    "#   \"selfLink\": \"projects/nih-nia-lng-cbg/zones/us-central1-a/instances/tensorflow-2-3-20200912-223516\",\n",
    "#   \"serviceAccounts\": [\n",
    "#     {\n",
    "#       \"email\": \"463418702553-compute@developer.gserviceaccount.com\",\n",
    "#       \"scopes\": [\n",
    "#         \"https://www.googleapis.com/auth/cloud-platform\",\n",
    "#         \"https://www.googleapis.com/auth/userinfo.email\"\n",
    "#       ]\n",
    "#     }\n",
    "#   ],\n",
    "#   \"shieldedInstanceConfig\": {\n",
    "#     \"enableIntegrityMonitoring\": true,\n",
    "#     \"enableSecureBoot\": false,\n",
    "#     \"enableVtpm\": true\n",
    "#   },\n",
    "#   \"startRestricted\": false,\n",
    "#   \"status\": \"RUNNING\",\n",
    "#   \"tags\": {\n",
    "#     \"fingerprint\": \"OOp0AY3QO9M=\",\n",
    "#     \"items\": [\n",
    "#       \"deeplearning-vm\",\n",
    "#       \"notebook-instance\"\n",
    "#     ]\n",
    "#   },\n",
    "#   \"zone\": \"projects/nih-nia-lng-cbg/zones/us-central1-a\"\n",
    "# }"
   ]
  },
  {
   "cell_type": "markdown",
   "metadata": {},
   "source": [
    "#### import libraries and setup notebook variables"
   ]
  },
  {
   "cell_type": "code",
   "execution_count": 1,
   "metadata": {},
   "outputs": [],
   "source": [
    "# bucket paths\n",
    "parent_cohort = 'amppd'\n",
    "cohort = 'ppmi'\n",
    "cohort_bckt_path = f'gs://nihnialngcbg-eqtl/{parent_cohort}'\n",
    "nb_bckt_path = f'{cohort_bckt_path}/notebooks/deconvolution/autokeras'\n",
    "decon_bckt_path = f'{cohort_bckt_path}/deconvolution/autokeras'\n",
    "\n",
    "# output path for the generated notebooks\n",
    "out_nb_dir = 'pm_gend_nbs'\n",
    "\n",
    "# pull down pre-existing training and models\n",
    "pull_existing_models = True"
   ]
  },
  {
   "cell_type": "markdown",
   "metadata": {},
   "source": [
    "#### simple helper functions"
   ]
  },
  {
   "cell_type": "code",
   "execution_count": 2,
   "metadata": {},
   "outputs": [],
   "source": [
    "def run_or_print_bash_cmd(this_cmd, run_cmd=False, print_cmd=True):\n",
    "    if print_cmd:\n",
    "        print(this_cmd)\n",
    "    if run_cmd:\n",
    "        !{this_cmd}"
   ]
  },
  {
   "cell_type": "markdown",
   "metadata": {},
   "source": [
    "#### pull down the setup"
   ]
  },
  {
   "cell_type": "code",
   "execution_count": 22,
   "metadata": {},
   "outputs": [
    {
     "name": "stdout",
     "output_type": "stream",
     "text": [
      "gsutil -mq cp gs://nihnialngcbg-eqtl/amppd/notebooks/deconvolution/autokeras/*.ipynb .\n",
      "gsutil -mq cp -r sdr_* gs://nihnialngcbg-eqtl/amppd/deconvolution/autokeras/\n",
      "gsutil -mq cp ppmi.*.model.cellfracs.h5 gs://nihnialngcbg-eqtl/amppd/deconvolution/autokeras/\n"
     ]
    }
   ],
   "source": [
    "run_these_cmds = False        \n",
    "# pull notebooks notebooks\n",
    "this_cmd = f'gsutil -mq cp {nb_bckt_path}/*.ipynb .'\n",
    "run_or_print_bash_cmd(this_cmd, run_these_cmds, True)\n",
    "\n",
    "if pull_existing_models:\n",
    "    # pull existing the AutoKeras project dirs\n",
    "    this_cmd = f'gsutil -mq cp -r sdr_* {decon_bckt_path}/'\n",
    "    run_or_print_bash_cmd(this_cmd, run_these_cmds, True)\n",
    "    # pull existing best Keras model info\n",
    "    this_cmd = f'gsutil -mq cp {cohort}.*.model.cellfracs.h5 {decon_bckt_path}/'\n",
    "    run_or_print_bash_cmd(this_cmd, run_these_cmds, True)"
   ]
  },
  {
   "cell_type": "markdown",
   "metadata": {},
   "source": [
    "### now your can actuall run the cell fraction deconvolution using\n",
    "dl_cell_fractions_runner.ipynb"
   ]
  },
  {
   "cell_type": "code",
   "execution_count": null,
   "metadata": {},
   "outputs": [],
   "source": []
  },
  {
   "cell_type": "markdown",
   "metadata": {},
   "source": [
    "#### push back the results"
   ]
  },
  {
   "cell_type": "code",
   "execution_count": 5,
   "metadata": {},
   "outputs": [
    {
     "name": "stdout",
     "output_type": "stream",
     "text": [
      "gsutil -mq cp *.ipynb gs://nihnialngcbg-eqtl/amppd/notebooks/deconvolution/autokeras/\n",
      "gsutil -mq cp pm_gend_nbs/*.ipynb gs://nihnialngcbg-eqtl/amppd/notebooks/deconvolution/autokeras/pm_gend_nbs/\n",
      "gsutil -mq cp -r sdr_* gs://nihnialngcbg-eqtl/amppd/deconvolution/autokeras/\n",
      "gsutil -mq cp -r tb_*_logs gs://nihnialngcbg-eqtl/amppd/deconvolution/autokeras/\n",
      "gsutil -mq cp ppmi.*.features_targets.csv gs://nihnialngcbg-eqtl/amppd/deconvolution/autokeras/\n",
      "gsutil -mq cp ppmi.*.model.cellfracs.h5 gs://nihnialngcbg-eqtl/amppd/deconvolution/autokeras/\n",
      "gsutil -mq cp *_model_with_shape_info.png gs://nihnialngcbg-eqtl/amppd/deconvolution/autokeras/\n",
      "gsutil -mq cp ppmi.*.predicted.bld_chem_fractions.csv gs://nihnialngcbg-eqtl/amppd/deconvolution/autokeras/\n"
     ]
    }
   ],
   "source": [
    "run_these_cmds = True        \n",
    "# push back notebooks, including PaperMill generated ones\n",
    "this_cmd = f'gsutil -mq cp *.ipynb {nb_bckt_path}/'\n",
    "run_or_print_bash_cmd(this_cmd, run_these_cmds, True)\n",
    "\n",
    "this_cmd = f'gsutil -mq cp {out_nb_dir}/*.ipynb {nb_bckt_path}/{out_nb_dir}/'\n",
    "run_or_print_bash_cmd(this_cmd, run_these_cmds, True)\n",
    "\n",
    "# push back the AutoKeras project dirs\n",
    "this_cmd = f'gsutil -mq cp -r sdr_* {decon_bckt_path}/'\n",
    "run_or_print_bash_cmd(this_cmd, run_these_cmds, True)\n",
    "\n",
    "# push back the Keras callback logging dirs\n",
    "this_cmd = f'gsutil -mq cp -r tb_*_logs {decon_bckt_path}/'\n",
    "run_or_print_bash_cmd(this_cmd, run_these_cmds, True)\n",
    "\n",
    "# push back the formatted features/targets data\n",
    "this_cmd = f'gsutil -mq cp {cohort}.*.features_targets.csv {decon_bckt_path}/'\n",
    "run_or_print_bash_cmd(this_cmd, run_these_cmds, True)\n",
    "\n",
    "# push back best Keras model info\n",
    "this_cmd = f'gsutil -mq cp {cohort}.*.model.cellfracs.h5 {decon_bckt_path}/'\n",
    "run_or_print_bash_cmd(this_cmd, run_these_cmds, True)\n",
    "this_cmd = f'gsutil -mq cp *_model_with_shape_info.png {decon_bckt_path}/'\n",
    "run_or_print_bash_cmd(this_cmd, run_these_cmds, True)\n",
    "\n",
    "# push back any predicted cell fractions\n",
    "this_cmd = f'gsutil -mq cp {cohort}.*.predicted.bld_chem_fractions.csv {decon_bckt_path}/'\n",
    "run_or_print_bash_cmd(this_cmd, run_these_cmds, True)"
   ]
  },
  {
   "cell_type": "code",
   "execution_count": null,
   "metadata": {},
   "outputs": [],
   "source": []
  }
 ],
 "metadata": {
  "environment": {
   "name": "tf2-2-3-gpu.2-3.m55",
   "type": "gcloud",
   "uri": "gcr.io/deeplearning-platform-release/tf2-2-3-gpu.2-3:m55"
  },
  "kernelspec": {
   "display_name": "Python 3",
   "language": "python",
   "name": "python3"
  },
  "language_info": {
   "codemirror_mode": {
    "name": "ipython",
    "version": 3
   },
   "file_extension": ".py",
   "mimetype": "text/x-python",
   "name": "python",
   "nbconvert_exporter": "python",
   "pygments_lexer": "ipython3",
   "version": "3.7.8"
  }
 },
 "nbformat": 4,
 "nbformat_minor": 4
}
