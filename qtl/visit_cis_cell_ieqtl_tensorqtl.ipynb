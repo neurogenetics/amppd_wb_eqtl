{
 "cells": [
  {
   "cell_type": "markdown",
   "id": "afc6bb00",
   "metadata": {
    "papermill": {
     "duration": 0.016555,
     "end_time": "2021-06-14T12:58:45.800762",
     "exception": false,
     "start_time": "2021-06-14T12:58:45.784207",
     "status": "completed"
    },
    "tags": []
   },
   "source": [
    "## Notebook to run interaction *cis*-eQTL interaction analysis for the cell fractions using [tensorQTL](https://github.com/broadinstitute/tensorqtl)\n",
    "\n",
    "[Taylor-Weiner, Aguet, et al., Genome Biol. 20:228, 2019.](https://genomebiology.biomedcentral.com/articles/10.1186/s13059-019-1836-7)"
   ]
  },
  {
   "cell_type": "code",
   "execution_count": 1,
   "id": "bba19146",
   "metadata": {
    "execution": {
     "iopub.execute_input": "2021-06-14T12:58:45.849838Z",
     "iopub.status.busy": "2021-06-14T12:58:45.844543Z",
     "iopub.status.idle": "2021-06-14T12:58:45.962723Z",
     "shell.execute_reply": "2021-06-14T12:58:45.962256Z"
    },
    "papermill": {
     "duration": 0.144723,
     "end_time": "2021-06-14T12:58:45.962861",
     "exception": false,
     "start_time": "2021-06-14T12:58:45.818138",
     "status": "completed"
    },
    "tags": []
   },
   "outputs": [
    {
     "name": "stdout",
     "output_type": "stream",
     "text": [
      "Mon Jun 21 20:45:10 UTC 2021\n"
     ]
    }
   ],
   "source": [
    "!date"
   ]
  },
  {
   "cell_type": "markdown",
   "id": "354806a9",
   "metadata": {
    "papermill": {
     "duration": 0.017147,
     "end_time": "2021-06-14T12:58:45.997784",
     "exception": false,
     "start_time": "2021-06-14T12:58:45.980637",
     "status": "completed"
    },
    "tags": []
   },
   "source": [
    "#### import libraries and set notebook variables"
   ]
  },
  {
   "cell_type": "code",
   "execution_count": 2,
   "id": "f6828e5d",
   "metadata": {
    "execution": {
     "iopub.execute_input": "2021-06-14T12:58:46.036158Z",
     "iopub.status.busy": "2021-06-14T12:58:46.035656Z",
     "iopub.status.idle": "2021-06-14T12:58:47.642664Z",
     "shell.execute_reply": "2021-06-14T12:58:47.642187Z"
    },
    "papermill": {
     "duration": 1.62841,
     "end_time": "2021-06-14T12:58:47.642791",
     "exception": false,
     "start_time": "2021-06-14T12:58:46.014381",
     "status": "completed"
    },
    "tags": []
   },
   "outputs": [
    {
     "name": "stdout",
     "output_type": "stream",
     "text": [
      "Warning: 'rfunc' cannot be imported. R and the 'rpy2' Python package are needed.\n",
      "PyTorch 1.8.0\n",
      "Pandas 1.2.4\n"
     ]
    }
   ],
   "source": [
    "import pandas as pd\n",
    "import numpy as np\n",
    "import torch\n",
    "import tensorqtl.tensorqtl as tensorqtl\n",
    "from tensorqtl.tensorqtl import genotypeio, cis, trans\n",
    "print('PyTorch {}'.format(torch.__version__))\n",
    "print('Pandas {}'.format(pd.__version__))\n",
    "\n",
    "import os\n",
    "\n",
    "import warnings\n",
    "warnings.filterwarnings('ignore')\n",
    "\n",
    "# import random\n",
    "# import numpy as np\n",
    "# import threading\n"
   ]
  },
  {
   "cell_type": "code",
   "execution_count": 3,
   "id": "e8b299c0",
   "metadata": {
    "execution": {
     "iopub.execute_input": "2021-06-14T12:58:47.682049Z",
     "iopub.status.busy": "2021-06-14T12:58:47.681550Z",
     "iopub.status.idle": "2021-06-14T12:58:47.683337Z",
     "shell.execute_reply": "2021-06-14T12:58:47.683640Z"
    },
    "papermill": {
     "duration": 0.022719,
     "end_time": "2021-06-14T12:58:47.683766",
     "exception": false,
     "start_time": "2021-06-14T12:58:47.661047",
     "status": "completed"
    },
    "tags": [
     "parameters"
    ]
   },
   "outputs": [],
   "source": [
    "# parameters\n",
    "cohort = 'biofind'\n",
    "version = 'amppdv1'\n",
    "visit = 1\n",
    "visit_name = 'SVM0_5T1'\n",
    "tissue = 'wb'"
   ]
  },
  {
   "cell_type": "code",
   "execution_count": 5,
   "id": "8d65bf46",
   "metadata": {
    "execution": {
     "iopub.execute_input": "2021-06-14T12:58:47.760569Z",
     "iopub.status.busy": "2021-06-14T12:58:47.760153Z",
     "iopub.status.idle": "2021-06-14T12:58:47.762122Z",
     "shell.execute_reply": "2021-06-14T12:58:47.761710Z"
    },
    "papermill": {
     "duration": 0.023421,
     "end_time": "2021-06-14T12:58:47.762223",
     "exception": false,
     "start_time": "2021-06-14T12:58:47.738802",
     "status": "completed"
    },
    "tags": []
   },
   "outputs": [],
   "source": [
    "# naming\n",
    "cohort_version = f'{cohort}.{version}'\n",
    "cohort_build = f'{cohort}.{tissue}{visit}'\n",
    "quant_type = 'genes'\n",
    "\n",
    "# directories\n",
    "wrk_dir = f'/home/jupyter/{cohort}'\n",
    "geno_dir = f'{wrk_dir}/genotypes'\n",
    "expr_dir = f'{wrk_dir}/expression'\n",
    "info_dir = f'{wrk_dir}/sample_info'\n",
    "tensorqtl_dir = f'{wrk_dir}/tensorqtl'\n",
    "results_dir = f'{wrk_dir}/results'\n",
    "\n",
    "# input files\n",
    "expr_bed_file = f'{expr_dir}/{cohort_build}.norm.adj.bed.gz'\n",
    "bfile_prefix_path = f'{geno_dir}/{cohort_version}.bfile'\n",
    "assay_covs_files = f'{info_dir}/{cohort}_rna_sample_info.csv'\n",
    "\n",
    "# output files\n",
    "\n",
    "# constant values\n",
    "alpha_value = 0.05\n",
    "\n",
    "cell_types_dict = {'predicted_Lymphocytes': 'Lymphocytes', \n",
    "                   'predicted_Neutrophils': 'Neutrophils',\n",
    "                   'predicted_Monocytes': 'Monocytes', \n",
    "                   'predicted_Basophils': 'Basophils',\n",
    "                   'predicted_Eosinophils': 'Eosinophils'}\n",
    "\n",
    "terms_list = ['Basophils', 'Eosinophils', 'Lymphocytes', 'Monocytes', 'Neutrophils']"
   ]
  },
  {
   "cell_type": "code",
   "execution_count": 6,
   "id": "cbe28a22",
   "metadata": {
    "execution": {
     "iopub.execute_input": "2021-06-14T12:58:47.801033Z",
     "iopub.status.busy": "2021-06-14T12:58:47.800544Z",
     "iopub.status.idle": "2021-06-14T12:58:47.802287Z",
     "shell.execute_reply": "2021-06-14T12:58:47.802610Z"
    },
    "papermill": {
     "duration": 0.02289,
     "end_time": "2021-06-14T12:58:47.802725",
     "exception": false,
     "start_time": "2021-06-14T12:58:47.779835",
     "status": "completed"
    },
    "tags": []
   },
   "outputs": [],
   "source": [
    "os.makedirs(tensorqtl_dir, exist_ok=True)\n",
    "os.makedirs(results_dir, exist_ok=True)"
   ]
  },
  {
   "cell_type": "markdown",
   "id": "32118d7a",
   "metadata": {
    "papermill": {
     "duration": 0.016854,
     "end_time": "2021-06-14T12:58:47.836314",
     "exception": false,
     "start_time": "2021-06-14T12:58:47.819460",
     "status": "completed"
    },
    "tags": []
   },
   "source": [
    "#### load phenotypes and covariates (if needed)"
   ]
  },
  {
   "cell_type": "code",
   "execution_count": 8,
   "id": "ce437f26",
   "metadata": {
    "execution": {
     "iopub.execute_input": "2021-06-14T12:58:47.874036Z",
     "iopub.status.busy": "2021-06-14T12:58:47.873621Z",
     "iopub.status.idle": "2021-06-14T12:58:54.877903Z",
     "shell.execute_reply": "2021-06-14T12:58:54.877526Z"
    },
    "papermill": {
     "duration": 7.025106,
     "end_time": "2021-06-14T12:58:54.878026",
     "exception": false,
     "start_time": "2021-06-14T12:58:47.852920",
     "status": "completed"
    },
    "tags": []
   },
   "outputs": [
    {
     "name": "stdout",
     "output_type": "stream",
     "text": [
      "phenotype_df (14700, 1383)\n",
      "phenotype_pos_df (14700, 2)\n",
      "covariates_df (3538, 54)\n",
      "CPU times: user 6.65 s, sys: 171 ms, total: 6.82 s\n",
      "Wall time: 6.82 s\n"
     ]
    }
   ],
   "source": [
    "%%time\n",
    "\n",
    "phenotype_df, phenotype_pos_df = tensorqtl.read_phenotype_bed(expr_bed_file)\n",
    "covs_df = pd.read_csv(assay_covs_files, index_col=0)\n",
    "print(f'phenotype_df {phenotype_df.shape}')\n",
    "print(f'phenotype_pos_df {phenotype_pos_df.shape}')\n",
    "print(f'covariates_df {covs_df.shape}')\n",
    "# display(phenotype_df.head())\n",
    "# display(phenotype_pos_df.head())\n",
    "# display(covs_df.head())\n",
    "# display(grs_df.head())"
   ]
  },
  {
   "cell_type": "markdown",
   "id": "5c0e044c",
   "metadata": {
    "papermill": {
     "duration": 0.017778,
     "end_time": "2021-06-14T12:58:54.914516",
     "exception": false,
     "start_time": "2021-06-14T12:58:54.896738",
     "status": "completed"
    },
    "tags": []
   },
   "source": [
    "#### load plink bfiles"
   ]
  },
  {
   "cell_type": "code",
   "execution_count": 9,
   "id": "44d872f9",
   "metadata": {
    "execution": {
     "iopub.execute_input": "2021-06-14T12:58:54.952715Z",
     "iopub.status.busy": "2021-06-14T12:58:54.952209Z",
     "iopub.status.idle": "2021-06-14T13:00:10.574946Z",
     "shell.execute_reply": "2021-06-14T13:00:10.575323Z"
    },
    "papermill": {
     "duration": 75.644111,
     "end_time": "2021-06-14T13:00:10.575508",
     "exception": false,
     "start_time": "2021-06-14T12:58:54.931397",
     "status": "completed"
    },
    "tags": []
   },
   "outputs": [
    {
     "name": "stderr",
     "output_type": "stream",
     "text": [
      "Mapping files: 100%|██████████| 3/3 [00:15<00:00,  5.14s/it]\n"
     ]
    },
    {
     "name": "stdout",
     "output_type": "stream",
     "text": [
      "CPU times: user 1min 54s, sys: 28.9 s, total: 2min 23s\n",
      "Wall time: 1min 20s\n"
     ]
    }
   ],
   "source": [
    "%%time\n",
    "\n",
    "# pr = genotypeio.PlinkReader(bfile_prefix_path, select_samples=phenotype_df.columns)\n",
    "pr = genotypeio.PlinkReader(bfile_prefix_path)\n",
    "genotype_df = pr.load_genotypes()\n",
    "variant_df = pr.bim.set_index('snp')[['chrom', 'pos']]"
   ]
  },
  {
   "cell_type": "code",
   "execution_count": 10,
   "id": "2beaa118",
   "metadata": {
    "execution": {
     "iopub.execute_input": "2021-06-14T13:00:10.621081Z",
     "iopub.status.busy": "2021-06-14T13:00:10.620637Z",
     "iopub.status.idle": "2021-06-14T13:00:10.622793Z",
     "shell.execute_reply": "2021-06-14T13:00:10.623118Z"
    },
    "papermill": {
     "duration": 0.025256,
     "end_time": "2021-06-14T13:00:10.623246",
     "exception": false,
     "start_time": "2021-06-14T13:00:10.597990",
     "status": "completed"
    },
    "tags": []
   },
   "outputs": [
    {
     "name": "stdout",
     "output_type": "stream",
     "text": [
      "(8442414, 1383)\n",
      "(8442414, 2)\n"
     ]
    }
   ],
   "source": [
    "print(genotype_df.shape)\n",
    "# display(genotype_df.head())\n",
    "print(variant_df.shape)\n",
    "# display(variant_df.head())"
   ]
  },
  {
   "cell_type": "code",
   "execution_count": 11,
   "id": "055b005b",
   "metadata": {
    "execution": {
     "iopub.execute_input": "2021-06-14T13:00:10.902389Z",
     "iopub.status.busy": "2021-06-14T13:00:10.901916Z",
     "iopub.status.idle": "2021-06-14T13:00:12.008803Z",
     "shell.execute_reply": "2021-06-14T13:00:12.008368Z"
    },
    "papermill": {
     "duration": 1.354068,
     "end_time": "2021-06-14T13:00:12.008944",
     "exception": false,
     "start_time": "2021-06-14T13:00:10.654876",
     "status": "completed"
    },
    "tags": []
   },
   "outputs": [
    {
     "name": "stdout",
     "output_type": "stream",
     "text": [
      "(8442414, 2)\n"
     ]
    }
   ],
   "source": [
    "# tensorQTL says wants plink bfiles, but wants bim chrs to include 'chr'\n",
    "variant_df['chrom'] = 'chr' + variant_df['chrom']\n",
    "print(variant_df.shape)\n",
    "# display(variant_df.head())"
   ]
  },
  {
   "cell_type": "markdown",
   "id": "fef708cf",
   "metadata": {
    "papermill": {
     "duration": 0.01991,
     "end_time": "2021-06-14T13:00:12.049682",
     "exception": false,
     "start_time": "2021-06-14T13:00:12.029772",
     "status": "completed"
    },
    "tags": []
   },
   "source": [
    "#### make sure the pheno and genos have same samples"
   ]
  },
  {
   "cell_type": "code",
   "execution_count": 12,
   "id": "d2f3343c",
   "metadata": {
    "execution": {
     "iopub.execute_input": "2021-06-14T13:00:12.095469Z",
     "iopub.status.busy": "2021-06-14T13:00:12.094983Z",
     "iopub.status.idle": "2021-06-14T13:00:12.097300Z",
     "shell.execute_reply": "2021-06-14T13:00:12.097628Z"
    },
    "papermill": {
     "duration": 0.027935,
     "end_time": "2021-06-14T13:00:12.097756",
     "exception": false,
     "start_time": "2021-06-14T13:00:12.069821",
     "status": "completed"
    },
    "tags": []
   },
   "outputs": [
    {
     "name": "stdout",
     "output_type": "stream",
     "text": [
      "intersect 1184\n",
      "number of genotypes samples not in expression 199\n",
      "number of expression samples not in genotypes 199\n"
     ]
    }
   ],
   "source": [
    "assay_intersect_samples = set(genotype_df.columns) & set(phenotype_df.columns) \n",
    "print(f'intersect {len(assay_intersect_samples)}')\n",
    "extra_geno_samples = set(genotype_df.columns) - set(phenotype_df.columns)\n",
    "print(f'number of genotypes samples not in expression {len(extra_geno_samples)}')\n",
    "extra_expr_samples = set(phenotype_df.columns) - set(genotype_df.columns)\n",
    "print(f'number of expression samples not in genotypes {len(extra_geno_samples)}')"
   ]
  },
  {
   "cell_type": "markdown",
   "id": "a44a69fb",
   "metadata": {
    "papermill": {
     "duration": 0.020468,
     "end_time": "2021-06-14T13:00:12.138264",
     "exception": false,
     "start_time": "2021-06-14T13:00:12.117796",
     "status": "completed"
    },
    "tags": []
   },
   "source": [
    "#### drop the non-matched samples"
   ]
  },
  {
   "cell_type": "code",
   "execution_count": 13,
   "id": "c5bb6bce",
   "metadata": {
    "execution": {
     "iopub.execute_input": "2021-06-14T13:00:22.980775Z",
     "iopub.status.busy": "2021-06-14T13:00:22.950936Z",
     "iopub.status.idle": "2021-06-14T13:00:22.983520Z",
     "shell.execute_reply": "2021-06-14T13:00:22.983106Z"
    },
    "papermill": {
     "duration": 10.824638,
     "end_time": "2021-06-14T13:00:22.983650",
     "exception": false,
     "start_time": "2021-06-14T13:00:12.159012",
     "status": "completed"
    },
    "tags": []
   },
   "outputs": [
    {
     "name": "stdout",
     "output_type": "stream",
     "text": [
      "(8442414, 1184)\n",
      "(14700, 1184)\n"
     ]
    }
   ],
   "source": [
    "genotype_df.drop(columns=extra_geno_samples, inplace=True)\n",
    "phenotype_df.drop(columns=extra_expr_samples, inplace=True)\n",
    "\n",
    "print(genotype_df.shape)\n",
    "# display(genotype_df.head())\n",
    "print(phenotype_df.shape)\n",
    "# display(phenotype_df.head())"
   ]
  },
  {
   "cell_type": "markdown",
   "id": "76fa0e9f",
   "metadata": {
    "papermill": {
     "duration": 0.019898,
     "end_time": "2021-06-14T13:00:23.023728",
     "exception": false,
     "start_time": "2021-06-14T13:00:23.003830",
     "status": "completed"
    },
    "tags": []
   },
   "source": [
    "#### need to make sure phenos and genos have matched chromosomes; ie just autosomes"
   ]
  },
  {
   "cell_type": "code",
   "execution_count": 14,
   "id": "0dd9c1a1",
   "metadata": {
    "execution": {
     "iopub.execute_input": "2021-06-14T13:00:23.095124Z",
     "iopub.status.busy": "2021-06-14T13:00:23.089904Z",
     "iopub.status.idle": "2021-06-14T13:00:40.831141Z",
     "shell.execute_reply": "2021-06-14T13:00:40.830633Z"
    },
    "papermill": {
     "duration": 17.78689,
     "end_time": "2021-06-14T13:00:40.831285",
     "exception": false,
     "start_time": "2021-06-14T13:00:23.044395",
     "status": "completed"
    },
    "tags": []
   },
   "outputs": [
    {
     "name": "stdout",
     "output_type": "stream",
     "text": [
      "intersect 22\n",
      "number of genotypes chroms not in expression 0\n",
      "set()\n",
      "number of expression chroms not in genotypes 3\n",
      "{'chrY', 'chrX', 'chrM'}\n"
     ]
    }
   ],
   "source": [
    "# need to ditch any non-autosomal genes\n",
    "assay_intersect_chroms = set(phenotype_pos_df['chr']) & set(variant_df['chrom']) \n",
    "print(f'intersect {len(assay_intersect_chroms)}')\n",
    "extra_geno_chroms = set(variant_df['chrom']) - set(phenotype_pos_df['chr'])\n",
    "print(f'number of genotypes chroms not in expression {len(extra_geno_chroms)}')\n",
    "print(extra_geno_chroms)\n",
    "extra_expr_chroms = set(phenotype_pos_df['chr']) - set(variant_df['chrom'])\n",
    "print(f'number of expression chroms not in genotypes {len(extra_expr_chroms)}')\n",
    "print(extra_expr_chroms)"
   ]
  },
  {
   "cell_type": "code",
   "execution_count": 15,
   "id": "8ca5fdf2",
   "metadata": {
    "execution": {
     "iopub.execute_input": "2021-06-14T13:00:40.884267Z",
     "iopub.status.busy": "2021-06-14T13:00:40.883775Z",
     "iopub.status.idle": "2021-06-14T13:00:40.916732Z",
     "shell.execute_reply": "2021-06-14T13:00:40.917060Z"
    },
    "papermill": {
     "duration": 0.061455,
     "end_time": "2021-06-14T13:00:40.917227",
     "exception": false,
     "start_time": "2021-06-14T13:00:40.855772",
     "status": "completed"
    },
    "tags": []
   },
   "outputs": [
    {
     "name": "stdout",
     "output_type": "stream",
     "text": [
      "(8442414, 1184)\n",
      "(8442414, 2)\n",
      "(14241, 1184)\n",
      "(14241, 2)\n"
     ]
    }
   ],
   "source": [
    "if len(extra_geno_chroms) > 0:\n",
    "    variant_df = variant_df.loc[~variant_df['chrom'].isin(extra_geno_chroms)]\n",
    "    # this will remove variants so need to remove them from genos df as well\n",
    "    genotype_df = genotype_df.loc[genotype_df.index.isin(variant_df.index)]\n",
    "if len(extra_expr_chroms) > 0:\n",
    "    phenotype_pos_df = phenotype_pos_df.loc[~phenotype_pos_df['chr'].isin(extra_expr_chroms)]\n",
    "    # this will remove genes so need to remove them from phenos df as well\n",
    "    phenotype_df = phenotype_df.loc[phenotype_df.index.isin(phenotype_pos_df.index)]\n",
    "\n",
    "print(genotype_df.shape)\n",
    "# display(genotype_df.head())\n",
    "print(variant_df.shape)\n",
    "# display(variant_df.head())\n",
    "print(phenotype_df.shape)\n",
    "# display(phenotype_df.head())\n",
    "print(phenotype_pos_df.shape)\n",
    "# display(phenotype_pos_df.head())"
   ]
  },
  {
   "cell_type": "markdown",
   "id": "7365b7f3",
   "metadata": {
    "papermill": {
     "duration": 0.023039,
     "end_time": "2021-06-14T13:00:40.964623",
     "exception": false,
     "start_time": "2021-06-14T13:00:40.941584",
     "status": "completed"
    },
    "tags": []
   },
   "source": [
    "#### make sure covariates match geno and pheno samples"
   ]
  },
  {
   "cell_type": "code",
   "execution_count": 16,
   "id": "8c9d687c",
   "metadata": {
    "execution": {
     "iopub.execute_input": "2021-06-14T13:00:41.017077Z",
     "iopub.status.busy": "2021-06-14T13:00:41.016524Z",
     "iopub.status.idle": "2021-06-14T13:00:41.022370Z",
     "shell.execute_reply": "2021-06-14T13:00:41.021809Z"
    },
    "papermill": {
     "duration": 0.034485,
     "end_time": "2021-06-14T13:00:41.022513",
     "exception": false,
     "start_time": "2021-06-14T13:00:40.988028",
     "status": "completed"
    },
    "tags": []
   },
   "outputs": [
    {
     "name": "stdout",
     "output_type": "stream",
     "text": [
      "(1184, 54)\n",
      "intersect 1184\n",
      "number of expression samples not in covariates 0\n",
      "number of covariate samples not in genotypes 0\n"
     ]
    }
   ],
   "source": [
    "# subest covs to just this 'visit'; ie all differention days covs in file\n",
    "# also since only interested in cell fractions as the only covariates, subset now\n",
    "covs_df = covs_df.loc[(covs_df['visit'] == visit_name) & (covs_df['wgsid'].isin(phenotype_df.columns))]\n",
    "print(covs_df.shape)\n",
    "\n",
    "cov_intersect_samples = set(phenotype_df.columns) & set(covs_df['wgsid']) \n",
    "print(f'intersect {len(cov_intersect_samples)}')\n",
    "extra_expr_samples = set(phenotype_df.columns) - set(covs_df['wgsid'])\n",
    "print(f'number of expression samples not in covariates {len(extra_expr_samples)}')\n",
    "extra_cov_samples = set(covs_df['wgsid']) - set(phenotype_df.columns)\n",
    "print(f'number of covariate samples not in genotypes {len(extra_cov_samples)}')"
   ]
  },
  {
   "cell_type": "markdown",
   "id": "70688b56",
   "metadata": {
    "papermill": {
     "duration": 0.023105,
     "end_time": "2021-06-14T13:00:41.169153",
     "exception": false,
     "start_time": "2021-06-14T13:00:41.146048",
     "status": "completed"
    },
    "tags": []
   },
   "source": [
    "#### subset covariates from full cohort to cohort visit\n",
    "also rename the cell fractions names"
   ]
  },
  {
   "cell_type": "code",
   "execution_count": 17,
   "id": "39a34f4a",
   "metadata": {
    "execution": {
     "iopub.execute_input": "2021-06-14T13:00:41.220211Z",
     "iopub.status.busy": "2021-06-14T13:00:41.219710Z",
     "iopub.status.idle": "2021-06-14T13:00:41.222404Z",
     "shell.execute_reply": "2021-06-14T13:00:41.221893Z"
    },
    "papermill": {
     "duration": 0.030099,
     "end_time": "2021-06-14T13:00:41.222530",
     "exception": false,
     "start_time": "2021-06-14T13:00:41.192431",
     "status": "completed"
    },
    "tags": []
   },
   "outputs": [
    {
     "name": "stdout",
     "output_type": "stream",
     "text": [
      "(1184, 54)\n"
     ]
    }
   ],
   "source": [
    "covs_df.rename(columns=cell_types_dict, inplace=True)\n",
    "print(covs_df.shape)\n",
    "# display(covs_df.head())"
   ]
  },
  {
   "cell_type": "code",
   "execution_count": 18,
   "id": "26dfb3f2",
   "metadata": {
    "execution": {
     "iopub.execute_input": "2021-06-14T13:00:41.276570Z",
     "iopub.status.busy": "2021-06-14T13:00:41.275970Z",
     "iopub.status.idle": "2021-06-14T13:00:41.279658Z",
     "shell.execute_reply": "2021-06-14T13:00:41.279267Z"
    },
    "papermill": {
     "duration": 0.033074,
     "end_time": "2021-06-14T13:00:41.279759",
     "exception": false,
     "start_time": "2021-06-14T13:00:41.246685",
     "status": "completed"
    },
    "tags": []
   },
   "outputs": [
    {
     "name": "stdout",
     "output_type": "stream",
     "text": [
      "(1184, 1)\n"
     ]
    }
   ],
   "source": [
    "# covs_columns_to_use = ['wgsid'] + list(cell_types_dict.values())\n",
    "covs_columns_to_use = ['wgsid'] + terms_list\n",
    "covs_to_use = covs_df[covs_columns_to_use]\n",
    "covs_to_use.set_index('wgsid', inplace=True)\n",
    "# re-order columns to match phenotypes\n",
    "covs_to_use = covs_to_use.transpose()\n",
    "covs_to_use = covs_to_use[phenotype_df.columns]\n",
    "# now transpose back\n",
    "covs_to_use = covs_to_use.transpose()\n",
    "print(covs_to_use.shape)\n",
    "# display(covs_to_use.head())\n",
    "\n",
    "for term in terms_list:\n",
    "    covs_to_use[term].fillna(covs_to_use[term].mean(), inplace=True)"
   ]
  },
  {
   "cell_type": "markdown",
   "id": "f465e12d",
   "metadata": {
    "papermill": {
     "duration": 0.023621,
     "end_time": "2021-06-14T13:00:41.661562",
     "exception": false,
     "start_time": "2021-06-14T13:00:41.637941",
     "status": "completed"
    },
    "tags": []
   },
   "source": [
    "#### run the term interactions; ie the ieQTL"
   ]
  },
  {
   "cell_type": "code",
   "execution_count": 20,
   "id": "363b5557",
   "metadata": {
    "execution": {
     "iopub.execute_input": "2021-06-14T13:00:41.732459Z",
     "iopub.status.busy": "2021-06-14T13:00:41.732039Z",
     "iopub.status.idle": "2021-06-14T14:14:35.915118Z",
     "shell.execute_reply": "2021-06-14T14:14:35.915517Z"
    },
    "papermill": {
     "duration": 4434.229292,
     "end_time": "2021-06-14T14:14:35.915662",
     "exception": false,
     "start_time": "2021-06-14T13:00:41.686370",
     "status": "completed"
    },
    "tags": []
   },
   "outputs": [
    {
     "name": "stdout",
     "output_type": "stream",
     "text": [
      "Neutrophils\n",
      "cis-QTL mapping: nominal associations for all variant-phenotype pairs\n",
      "  * 1184 samples\n",
      "  * 14241 phenotypes\n",
      "  * 0 covariates\n",
      "  * 8442414 variants\n",
      "  * including interaction term\n",
      "    * using 0.05 MAF threshold\n",
      "  * checking phenotypes: 14241/14241\n",
      "    ** dropping 7 phenotypes without variants in cis-window\n",
      "  * Computing associations\n",
      "    Mapping chromosome chr12\n",
      "    processing phenotype 833/14234    time elapsed: 1.95 min\n",
      "    * writing output\n",
      "    Mapping chromosome chr16\n",
      "    processing phenotype 660/14234    time elapsed: 3.48 min\n",
      "    * writing output\n",
      "    Mapping chromosome chr11\n",
      "    processing phenotype 789/14234    time elapsed: 5.35 min\n",
      "    * writing output\n",
      "    Mapping chromosome chr1\n",
      "    processing phenotype 1437/14234    time elapsed: 8.41 min\n",
      "    * writing output\n",
      "    Mapping chromosome chr3\n",
      "    processing phenotype 833/14234    time elapsed: 10.44 min\n",
      "    * writing output\n",
      "    Mapping chromosome chr13\n",
      "    processing phenotype 285/14234    time elapsed: 11.28 min\n",
      "    * writing output\n",
      "    Mapping chromosome chr9\n",
      "    processing phenotype 564/14234    time elapsed: 12.63 min\n",
      "    * writing output\n",
      "    Mapping chromosome chr17\n",
      "    processing phenotype 897/14234    time elapsed: 14.77 min\n",
      "    * writing output\n",
      "    Mapping chromosome chr2\n",
      "    processing phenotype 1029/14234    time elapsed: 17.29 min\n",
      "    * writing output\n",
      "    Mapping chromosome chr10\n",
      "    processing phenotype 558/14234    time elapsed: 18.77 min\n",
      "    * writing output\n",
      "    Mapping chromosome chr19\n",
      "    processing phenotype 929/14234    time elapsed: 21.44 min\n",
      "    * writing output\n",
      "    Mapping chromosome chr15\n",
      "    processing phenotype 530/14234    time elapsed: 22.75 min\n",
      "    * writing output\n",
      "    Mapping chromosome chr6\n",
      "    processing phenotype 782/14234    time elapsed: 25.36 min\n",
      "    * writing output\n",
      "    Mapping chromosome chr22\n",
      "    processing phenotype 349/14234    time elapsed: 26.32 min\n",
      "    * writing output\n",
      "    Mapping chromosome chr21\n",
      "    processing phenotype 177/14234    time elapsed: 26.81 min\n",
      "    * writing output\n",
      "    Mapping chromosome chr5\n",
      "    processing phenotype 695/14234    time elapsed: 28.57 min\n",
      "    * writing output\n",
      "    Mapping chromosome chr7\n",
      "    processing phenotype 761/14234    time elapsed: 30.55 min\n",
      "    * writing output\n",
      "    Mapping chromosome chr20\n",
      "    processing phenotype 407/14234    time elapsed: 31.64 min\n",
      "    * writing output\n",
      "    Mapping chromosome chr14\n",
      "    processing phenotype 663/14234    time elapsed: 33.40 min\n",
      "    * writing output\n",
      "    Mapping chromosome chr4\n",
      "    processing phenotype 620/14234    time elapsed: 35.10 min\n",
      "    * writing output\n",
      "    Mapping chromosome chr8\n",
      "    processing phenotype 599/14234    time elapsed: 36.51 min\n",
      "    * writing output\n",
      "    Mapping chromosome chr18\n",
      "    processing phenotype 345/14234    time elapsed: 37.26 min\n",
      "    * writing output\n",
      "done.\n",
      "CPU times: user 9h 9min 49s, sys: 22min 4s, total: 9h 31min 54s\n",
      "Wall time: 37min 38s\n"
     ]
    }
   ],
   "source": [
    "%%time\n",
    "for term in terms_list:\n",
    "    print(term)\n",
    "    cis.map_nominal(genotype_df, variant_df, phenotype_df, phenotype_pos_df, \n",
    "                    covariates_df=pd.DataFrame(index=phenotype_df.columns), \n",
    "                    interaction_s=covs_to_use[term],\n",
    "                    prefix=f'{cohort_build}.{term}', output_dir=tensorqtl_dir,\n",
    "                    run_eigenmt=True, write_top=True, write_stats=True)"
   ]
  },
  {
   "cell_type": "markdown",
   "id": "9c1043bf",
   "metadata": {
    "papermill": {
     "duration": 5.457138,
     "end_time": "2021-06-14T14:14:46.749933",
     "exception": false,
     "start_time": "2021-06-14T14:14:41.292795",
     "status": "completed"
    },
    "tags": []
   },
   "source": [
    "#### load term interaction top results and save significant results"
   ]
  },
  {
   "cell_type": "code",
   "execution_count": 21,
   "id": "57d94cf3",
   "metadata": {
    "execution": {
     "iopub.execute_input": "2021-06-14T14:14:57.484961Z",
     "iopub.status.busy": "2021-06-14T14:14:57.484194Z",
     "iopub.status.idle": "2021-06-14T14:14:57.579718Z",
     "shell.execute_reply": "2021-06-14T14:14:57.579276Z"
    },
    "papermill": {
     "duration": 5.529982,
     "end_time": "2021-06-14T14:14:57.579883",
     "exception": false,
     "start_time": "2021-06-14T14:14:52.049901",
     "status": "completed"
    },
    "tags": []
   },
   "outputs": [
    {
     "name": "stdout",
     "output_type": "stream",
     "text": [
      "Neutrophils\n",
      "(14233, 18)\n",
      "(231, 18)\n",
      "CPU times: user 64.3 ms, sys: 229 µs, total: 64.6 ms\n",
      "Wall time: 62.3 ms\n"
     ]
    }
   ],
   "source": [
    "%%time\n",
    "for term in terms_list:\n",
    "    print(term)\n",
    "    top_file = f'{tensorqtl_dir}/{cohort_build}.{term}.cis_qtl_top_assoc.txt.gz'\n",
    "    top_results_file = f'{results_dir}/{cohort_build}.{term}.cis_qtl_top_assoc.txt.gz'\n",
    "    top_ieqtl = pd.read_csv(top_file, sep='\\t')\n",
    "    print(top_ieqtl.shape)\n",
    "    top_sig_ieqtl = top_ieqtl.loc[top_ieqtl['pval_adj_bh'] <= alpha_value]\n",
    "    print(top_sig_ieqtl.shape)\n",
    "    top_sig_ieqtl.to_csv(top_results_file)"
   ]
  },
  {
   "cell_type": "code",
   "execution_count": null,
   "id": "cb9adc9d",
   "metadata": {
    "papermill": {
     "duration": 5.352394,
     "end_time": "2021-06-14T14:16:04.621685",
     "exception": false,
     "start_time": "2021-06-14T14:15:59.269291",
     "status": "completed"
    },
    "tags": []
   },
   "outputs": [],
   "source": []
  }
 ],
 "metadata": {
  "environment": {
   "name": "pytorch-gpu.1-8.m65",
   "type": "gcloud",
   "uri": "gcr.io/deeplearning-platform-release/pytorch-gpu.1-8:m65"
  },
  "kernelspec": {
   "display_name": "Python 3",
   "language": "python",
   "name": "python3"
  },
  "language_info": {
   "codemirror_mode": {
    "name": "ipython",
    "version": 3
   },
   "file_extension": ".py",
   "mimetype": "text/x-python",
   "name": "python",
   "nbconvert_exporter": "python",
   "pygments_lexer": "ipython3",
   "version": "3.7.10"
  },
  "papermill": {
   "default_parameters": {},
   "duration": 4648.387623,
   "end_time": "2021-06-14T14:16:12.659502",
   "environment_variables": {},
   "exception": null,
   "input_path": "/home/jupyter/notebooks/visit_cis_ieqtl_tensorqtl.ipynb",
   "output_path": "/home/jupyter/notebooks/pdbp/pm_gend_nbs/pdbp.wb0_cis_ieqtl_tensorqtl.ipynb",
   "parameters": {
    "cohort": "pdbp",
    "tissue": "wb",
    "version": "amppdv1",
    "visit": 0,
    "visit_name": "BLM0T1"
   },
   "start_time": "2021-06-14T12:58:44.271879",
   "version": "2.3.3"
  },
  "toc-autonumbering": false,
  "toc-showcode": false,
  "toc-showmarkdowntxt": false,
  "widgets": {
   "application/vnd.jupyter.widget-state+json": {
    "state": {},
    "version_major": 2,
    "version_minor": 0
   }
  }
 },
 "nbformat": 4,
 "nbformat_minor": 5
}
