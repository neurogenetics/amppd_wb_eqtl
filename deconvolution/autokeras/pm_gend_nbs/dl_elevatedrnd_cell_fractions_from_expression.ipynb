{
 "cells": [
  {
   "cell_type": "markdown",
   "metadata": {
    "papermill": {
     "duration": 0.014612,
     "end_time": "2020-09-22T20:45:37.871169",
     "exception": false,
     "start_time": "2020-09-22T20:45:37.856557",
     "status": "completed"
    },
    "tags": []
   },
   "source": [
    "## use autokeras to learn cell fractions from gene expression"
   ]
  },
  {
   "cell_type": "markdown",
   "metadata": {
    "papermill": {
     "duration": 0.014418,
     "end_time": "2020-09-22T20:45:37.901637",
     "exception": false,
     "start_time": "2020-09-22T20:45:37.887219",
     "status": "completed"
    },
    "tags": []
   },
   "source": [
    "#### imports and notebook variables"
   ]
  },
  {
   "cell_type": "code",
   "execution_count": 1,
   "metadata": {
    "execution": {
     "iopub.execute_input": "2020-09-22T20:45:37.935555Z",
     "iopub.status.busy": "2020-09-22T20:45:37.935102Z",
     "iopub.status.idle": "2020-09-22T20:45:39.538657Z",
     "shell.execute_reply": "2020-09-22T20:45:39.538145Z"
    },
    "papermill": {
     "duration": 1.622565,
     "end_time": "2020-09-22T20:45:39.538808",
     "exception": false,
     "start_time": "2020-09-22T20:45:37.916243",
     "status": "completed"
    },
    "tags": []
   },
   "outputs": [
    {
     "name": "stderr",
     "output_type": "stream",
     "text": [
      "Using TensorFlow backend.\n"
     ]
    }
   ],
   "source": [
    "import pandas as pd\n",
    "import random\n",
    "import autokeras as ak\n",
    "from sklearn.model_selection import train_test_split\n",
    "from keras.callbacks import TensorBoard\n",
    "from sklearn.metrics import r2_score, mean_squared_error, mean_absolute_error\n",
    "from sklearn.model_selection import cross_val_score\n",
    "import seaborn as sns\n",
    "import matplotlib.pyplot as plt\n",
    "import warnings\n",
    "warnings.filterwarnings('ignore')"
   ]
  },
  {
   "cell_type": "code",
   "execution_count": 2,
   "metadata": {
    "execution": {
     "iopub.execute_input": "2020-09-22T20:45:39.572145Z",
     "iopub.status.busy": "2020-09-22T20:45:39.571683Z",
     "iopub.status.idle": "2020-09-22T20:45:39.573827Z",
     "shell.execute_reply": "2020-09-22T20:45:39.573443Z"
    },
    "papermill": {
     "duration": 0.019606,
     "end_time": "2020-09-22T20:45:39.573945",
     "exception": false,
     "start_time": "2020-09-22T20:45:39.554339",
     "status": "completed"
    },
    "tags": [
     "parameters"
    ]
   },
   "outputs": [],
   "source": [
    "# parameters\n",
    "# naming\n",
    "cohort = 'ppmi'\n",
    "# expr_name = 'enriched'\n",
    "# expr_name = 'enhanced'\n",
    "expr_name = 'specific'\n",
    "overwrite_model = False\n",
    "add_random = False"
   ]
  },
  {
   "cell_type": "code",
   "execution_count": 3,
   "metadata": {
    "execution": {
     "iopub.execute_input": "2020-09-22T20:45:39.605738Z",
     "iopub.status.busy": "2020-09-22T20:45:39.605325Z",
     "iopub.status.idle": "2020-09-22T20:45:39.607301Z",
     "shell.execute_reply": "2020-09-22T20:45:39.606958Z"
    },
    "papermill": {
     "duration": 0.018723,
     "end_time": "2020-09-22T20:45:39.607392",
     "exception": false,
     "start_time": "2020-09-22T20:45:39.588669",
     "status": "completed"
    },
    "tags": [
     "injected-parameters"
    ]
   },
   "outputs": [],
   "source": [
    "# Parameters\n",
    "cohort = \"ppmi\"\n",
    "expr_name = \"elevated\"\n",
    "overwrite_model = True\n",
    "add_random = True\n"
   ]
  },
  {
   "cell_type": "code",
   "execution_count": 4,
   "metadata": {
    "execution": {
     "iopub.execute_input": "2020-09-22T20:45:39.642915Z",
     "iopub.status.busy": "2020-09-22T20:45:39.642378Z",
     "iopub.status.idle": "2020-09-22T20:45:39.658307Z",
     "shell.execute_reply": "2020-09-22T20:45:39.658636Z"
    },
    "papermill": {
     "duration": 0.036157,
     "end_time": "2020-09-22T20:45:39.658754",
     "exception": false,
     "start_time": "2020-09-22T20:45:39.622597",
     "status": "completed"
    },
    "tags": []
   },
   "outputs": [],
   "source": [
    "# naming\n",
    "visit_months = {'BL':0, 'V02':6, 'V04':12, 'V06':24, 'V08':36}\n",
    "visit_names = {'BL':'BLM0T1', 'V02':'SVM6T1', 'V04':'SVM12T1', 'V06':'SVM24T1', 'V08':'SVM36T1'}\n",
    "cell_types = ['Basophils', 'Eosinophils', 'Lymphocytes', 'Monocytes', 'Neutrophils']\n",
    "\n",
    "# in bucket data\n",
    "expr_bckt_file = f'gs://nihnialngcbg-eqtl/amppd/salmon/quantification/{cohort}.wb.norm.hdf5'\n",
    "fracs_bckt_file = f'gs://nihnialngcbg-eqtl/amppd/clinical/{cohort}.bld_chem_fractions.csv'\n",
    "cell_genes_bckt_file = f'gs://nihnialngcbg-eqtl/amppd/salmon/quantification/blood_cell_lineage_{expr_name}_genes.csv'\n",
    "# gencode_bckt_file = 'gs://nihnialngcbg-eqtl/amppd/salmon/quantification/gencode.v29.primary_assembly.annotation.pkl'\n",
    "\n",
    "# local files\n",
    "expr_file = f'{cohort}.wb.norm.hdf5'\n",
    "fracs_file = f'{cohort}.bld_chem_fractions.csv'\n",
    "cell_genes_enriched_file = 'blood_cell_lineage_genes.csv'\n",
    "# gencode_pkl = 'gencode.v29.primary_assembly.annotation.pkl'\n",
    "model_file = f'{cohort}.{expr_name}.model.cellfracs.h5'\n",
    "predicted_fractions_for_missing_file = f'{cohort}.{expr_name}.predicted.bld_chem_fractions.csv'\n",
    "tboard_log_dir = f'./tb_{expr_name}_logs'\n",
    "train_test_file = f'{cohort}.{expr_name}.features_targets.csv'\n",
    "\n",
    "capture_out = !(nproc)\n",
    "max_threads = int(capture_out[0])"
   ]
  },
  {
   "cell_type": "markdown",
   "metadata": {
    "papermill": {
     "duration": 0.014319,
     "end_time": "2020-09-22T20:45:39.688878",
     "exception": false,
     "start_time": "2020-09-22T20:45:39.674559",
     "status": "completed"
    },
    "tags": []
   },
   "source": [
    "#### pull src data local"
   ]
  },
  {
   "cell_type": "code",
   "execution_count": 5,
   "metadata": {
    "execution": {
     "iopub.execute_input": "2020-09-22T20:45:39.728097Z",
     "iopub.status.busy": "2020-09-22T20:45:39.722401Z",
     "iopub.status.idle": "2020-09-22T20:45:51.065158Z",
     "shell.execute_reply": "2020-09-22T20:45:51.065569Z"
    },
    "papermill": {
     "duration": 11.362398,
     "end_time": "2020-09-22T20:45:51.065748",
     "exception": false,
     "start_time": "2020-09-22T20:45:39.703350",
     "status": "completed"
    },
    "tags": []
   },
   "outputs": [],
   "source": [
    "!gsutil -mq cp {expr_bckt_file} {expr_file}\n",
    "!gsutil -mq cp {fracs_bckt_file} {fracs_file}\n",
    "!gsutil -mq cp {cell_genes_bckt_file} {cell_genes_enriched_file}\n",
    "# !gsutil -mq cp {gencode_bckt_file} {gencode_pkl}"
   ]
  },
  {
   "cell_type": "markdown",
   "metadata": {
    "papermill": {
     "duration": 0.014519,
     "end_time": "2020-09-22T20:45:51.096357",
     "exception": false,
     "start_time": "2020-09-22T20:45:51.081838",
     "status": "completed"
    },
    "tags": []
   },
   "source": [
    "#### load the expression data subset for enriched genes"
   ]
  },
  {
   "cell_type": "code",
   "execution_count": 6,
   "metadata": {
    "execution": {
     "iopub.execute_input": "2020-09-22T20:45:51.132698Z",
     "iopub.status.busy": "2020-09-22T20:45:51.132263Z",
     "iopub.status.idle": "2020-09-22T20:45:51.706750Z",
     "shell.execute_reply": "2020-09-22T20:45:51.707079Z"
    },
    "papermill": {
     "duration": 0.595426,
     "end_time": "2020-09-22T20:45:51.707227",
     "exception": false,
     "start_time": "2020-09-22T20:45:51.111801",
     "status": "completed"
    },
    "tags": []
   },
   "outputs": [
    {
     "name": "stdout",
     "output_type": "stream",
     "text": [
      "all expr data (4610, 16782)\n",
      "all enriched genes (903, 2)\n",
      "found 610 of enriched genes in expression data\n",
      "found 1206 of enriched genes plus random in expression data\n",
      "all enriched expr data (4610, 1206)\n"
     ]
    }
   ],
   "source": [
    "expr_df = pd.read_hdf(expr_file)\n",
    "print(f'all expr data {expr_df.shape}')\n",
    "enriched_genes = pd.read_csv(cell_genes_enriched_file)\n",
    "print(f'all enriched genes {enriched_genes.shape}')\n",
    "gene_id_to_keep = set(enriched_genes['gene_id']) & set(expr_df.columns)\n",
    "print(f'found {len(gene_id_to_keep)} of enriched genes in expression data')\n",
    "if add_random:\n",
    "#     quants_vars = expr_df.var()\n",
    "#     gene_id_to_keep = gene_id_to_keep | set(quants_vars.sort_values(ascending=False).head(len(gene_id_to_keep)).index)\n",
    "#     print(f'found {len(gene_id_to_keep)} of enriched genes plus high variance in expression data')\n",
    "    gene_id_to_keep = gene_id_to_keep | set(random.sample(list(expr_df.columns.values), \n",
    "                                                          len(gene_id_to_keep)))\n",
    "    print(f'found {len(gene_id_to_keep)} of enriched genes plus random in expression data')\n",
    "expr_df = expr_df[list(gene_id_to_keep)]\n",
    "print(f'all enriched expr data {expr_df.shape}')"
   ]
  },
  {
   "cell_type": "markdown",
   "metadata": {
    "papermill": {
     "duration": 0.014954,
     "end_time": "2020-09-22T20:45:51.738453",
     "exception": false,
     "start_time": "2020-09-22T20:45:51.723499",
     "status": "completed"
    },
    "tags": []
   },
   "source": [
    "#### load the cell fractions data"
   ]
  },
  {
   "cell_type": "code",
   "execution_count": 7,
   "metadata": {
    "execution": {
     "iopub.execute_input": "2020-09-22T20:45:51.772318Z",
     "iopub.status.busy": "2020-09-22T20:45:51.771824Z",
     "iopub.status.idle": "2020-09-22T20:45:51.779123Z",
     "shell.execute_reply": "2020-09-22T20:45:51.778778Z"
    },
    "papermill": {
     "duration": 0.025768,
     "end_time": "2020-09-22T20:45:51.779215",
     "exception": false,
     "start_time": "2020-09-22T20:45:51.753447",
     "status": "completed"
    },
    "tags": []
   },
   "outputs": [
    {
     "name": "stdout",
     "output_type": "stream",
     "text": [
      "(5035, 7)\n"
     ]
    }
   ],
   "source": [
    "fracs_df = pd.read_csv(fracs_file)\n",
    "print(fracs_df.shape)"
   ]
  },
  {
   "cell_type": "code",
   "execution_count": 8,
   "metadata": {
    "execution": {
     "iopub.execute_input": "2020-09-22T20:45:51.814497Z",
     "iopub.status.busy": "2020-09-22T20:45:51.814050Z",
     "iopub.status.idle": "2020-09-22T20:45:51.832456Z",
     "shell.execute_reply": "2020-09-22T20:45:51.832040Z"
    },
    "papermill": {
     "duration": 0.038377,
     "end_time": "2020-09-22T20:45:51.832560",
     "exception": false,
     "start_time": "2020-09-22T20:45:51.794183",
     "status": "completed"
    },
    "tags": []
   },
   "outputs": [
    {
     "name": "stdout",
     "output_type": "stream",
     "text": [
      "(2387, 5)\n"
     ]
    }
   ],
   "source": [
    "# set the rna IDs to the match the IDs in the expression matrix\n",
    "for visit_number, visit_name in visit_names.items():\n",
    "    fracs_df.loc[fracs_df['visit'] == visit_number, 'rnaid'] = fracs_df['id'] + '-' + visit_name \n",
    "\n",
    "# drop the samples where a rnaid wasn't set, ie nans\n",
    "fracs_df.dropna(subset=['rnaid'], inplace=True)\n",
    "# set this new id as the index\n",
    "fracs_df.set_index('rnaid', drop=True, inplace=True)\n",
    "# and then drop original id and visit\n",
    "fracs_df.drop(columns=['id', 'visit'], inplace=True)    \n",
    "print(fracs_df.shape)"
   ]
  },
  {
   "cell_type": "code",
   "execution_count": 9,
   "metadata": {
    "execution": {
     "iopub.execute_input": "2020-09-22T20:45:51.871502Z",
     "iopub.status.busy": "2020-09-22T20:45:51.871024Z",
     "iopub.status.idle": "2020-09-22T20:45:51.889764Z",
     "shell.execute_reply": "2020-09-22T20:45:51.889360Z"
    },
    "papermill": {
     "duration": 0.040619,
     "end_time": "2020-09-22T20:45:51.889886",
     "exception": false,
     "start_time": "2020-09-22T20:45:51.849267",
     "status": "completed"
    },
    "tags": []
   },
   "outputs": [
    {
     "data": {
      "text/html": [
       "<div>\n",
       "<style scoped>\n",
       "    .dataframe tbody tr th:only-of-type {\n",
       "        vertical-align: middle;\n",
       "    }\n",
       "\n",
       "    .dataframe tbody tr th {\n",
       "        vertical-align: top;\n",
       "    }\n",
       "\n",
       "    .dataframe thead th {\n",
       "        text-align: right;\n",
       "    }\n",
       "</style>\n",
       "<table border=\"1\" class=\"dataframe\">\n",
       "  <thead>\n",
       "    <tr style=\"text-align: right;\">\n",
       "      <th></th>\n",
       "      <th>Basophils</th>\n",
       "      <th>Eosinophils</th>\n",
       "      <th>Lymphocytes</th>\n",
       "      <th>Monocytes</th>\n",
       "      <th>Neutrophils</th>\n",
       "    </tr>\n",
       "  </thead>\n",
       "  <tbody>\n",
       "    <tr>\n",
       "      <th>count</th>\n",
       "      <td>2387.000000</td>\n",
       "      <td>2387.000000</td>\n",
       "      <td>2387.000000</td>\n",
       "      <td>2387.000000</td>\n",
       "      <td>2387.000000</td>\n",
       "    </tr>\n",
       "    <tr>\n",
       "      <th>mean</th>\n",
       "      <td>0.642648</td>\n",
       "      <td>2.392333</td>\n",
       "      <td>28.050021</td>\n",
       "      <td>6.379933</td>\n",
       "      <td>62.535023</td>\n",
       "    </tr>\n",
       "    <tr>\n",
       "      <th>std</th>\n",
       "      <td>0.340675</td>\n",
       "      <td>1.597931</td>\n",
       "      <td>7.397466</td>\n",
       "      <td>1.714341</td>\n",
       "      <td>7.934574</td>\n",
       "    </tr>\n",
       "    <tr>\n",
       "      <th>min</th>\n",
       "      <td>0.000000</td>\n",
       "      <td>0.000000</td>\n",
       "      <td>5.500000</td>\n",
       "      <td>1.000000</td>\n",
       "      <td>25.000000</td>\n",
       "    </tr>\n",
       "    <tr>\n",
       "      <th>25%</th>\n",
       "      <td>0.400000</td>\n",
       "      <td>1.400000</td>\n",
       "      <td>22.900000</td>\n",
       "      <td>5.300000</td>\n",
       "      <td>57.300000</td>\n",
       "    </tr>\n",
       "    <tr>\n",
       "      <th>50%</th>\n",
       "      <td>0.600000</td>\n",
       "      <td>2.000000</td>\n",
       "      <td>27.800000</td>\n",
       "      <td>6.200000</td>\n",
       "      <td>62.600000</td>\n",
       "    </tr>\n",
       "    <tr>\n",
       "      <th>75%</th>\n",
       "      <td>0.800000</td>\n",
       "      <td>3.000000</td>\n",
       "      <td>32.800000</td>\n",
       "      <td>7.300000</td>\n",
       "      <td>68.000000</td>\n",
       "    </tr>\n",
       "    <tr>\n",
       "      <th>max</th>\n",
       "      <td>3.200000</td>\n",
       "      <td>16.400000</td>\n",
       "      <td>69.000000</td>\n",
       "      <td>15.700000</td>\n",
       "      <td>91.400000</td>\n",
       "    </tr>\n",
       "  </tbody>\n",
       "</table>\n",
       "</div>"
      ],
      "text/plain": [
       "         Basophils  Eosinophils  Lymphocytes    Monocytes  Neutrophils\n",
       "count  2387.000000  2387.000000  2387.000000  2387.000000  2387.000000\n",
       "mean      0.642648     2.392333    28.050021     6.379933    62.535023\n",
       "std       0.340675     1.597931     7.397466     1.714341     7.934574\n",
       "min       0.000000     0.000000     5.500000     1.000000    25.000000\n",
       "25%       0.400000     1.400000    22.900000     5.300000    57.300000\n",
       "50%       0.600000     2.000000    27.800000     6.200000    62.600000\n",
       "75%       0.800000     3.000000    32.800000     7.300000    68.000000\n",
       "max       3.200000    16.400000    69.000000    15.700000    91.400000"
      ]
     },
     "execution_count": 9,
     "metadata": {},
     "output_type": "execute_result"
    }
   ],
   "source": [
    "# check cell type summaries\n",
    "fracs_df.describe()"
   ]
  },
  {
   "cell_type": "markdown",
   "metadata": {
    "papermill": {
     "duration": 0.015931,
     "end_time": "2020-09-22T20:45:51.922058",
     "exception": false,
     "start_time": "2020-09-22T20:45:51.906127",
     "status": "completed"
    },
    "tags": []
   },
   "source": [
    "#### merge expr data and cell fraction data"
   ]
  },
  {
   "cell_type": "code",
   "execution_count": 10,
   "metadata": {
    "execution": {
     "iopub.execute_input": "2020-09-22T20:45:51.958935Z",
     "iopub.status.busy": "2020-09-22T20:45:51.958534Z",
     "iopub.status.idle": "2020-09-22T20:45:51.970410Z",
     "shell.execute_reply": "2020-09-22T20:45:51.969979Z"
    },
    "papermill": {
     "duration": 0.032909,
     "end_time": "2020-09-22T20:45:51.970522",
     "exception": false,
     "start_time": "2020-09-22T20:45:51.937613",
     "status": "completed"
    },
    "tags": []
   },
   "outputs": [
    {
     "name": "stdout",
     "output_type": "stream",
     "text": [
      "(1804, 1211)\n"
     ]
    }
   ],
   "source": [
    "data_df = expr_df.merge(fracs_df, how='inner', left_index=True, right_index=True)\n",
    "print(data_df.shape)"
   ]
  },
  {
   "cell_type": "markdown",
   "metadata": {
    "papermill": {
     "duration": 0.015984,
     "end_time": "2020-09-22T20:45:52.003747",
     "exception": false,
     "start_time": "2020-09-22T20:45:51.987763",
     "status": "completed"
    },
    "tags": []
   },
   "source": [
    "#### save the feature/target data set"
   ]
  },
  {
   "cell_type": "code",
   "execution_count": 11,
   "metadata": {
    "execution": {
     "iopub.execute_input": "2020-09-22T20:45:52.041352Z",
     "iopub.status.busy": "2020-09-22T20:45:52.040482Z",
     "iopub.status.idle": "2020-09-22T20:45:55.272712Z",
     "shell.execute_reply": "2020-09-22T20:45:55.272278Z"
    },
    "papermill": {
     "duration": 3.252068,
     "end_time": "2020-09-22T20:45:55.272930",
     "exception": false,
     "start_time": "2020-09-22T20:45:52.020862",
     "status": "completed"
    },
    "tags": []
   },
   "outputs": [],
   "source": [
    "data_df.to_csv(train_test_file)"
   ]
  },
  {
   "cell_type": "markdown",
   "metadata": {
    "papermill": {
     "duration": 0.017357,
     "end_time": "2020-09-22T20:45:55.308043",
     "exception": false,
     "start_time": "2020-09-22T20:45:55.290686",
     "status": "completed"
    },
    "tags": []
   },
   "source": [
    "#### prep the test and train split"
   ]
  },
  {
   "cell_type": "code",
   "execution_count": 12,
   "metadata": {
    "execution": {
     "iopub.execute_input": "2020-09-22T20:45:55.348751Z",
     "iopub.status.busy": "2020-09-22T20:45:55.348275Z",
     "iopub.status.idle": "2020-09-22T20:45:55.380222Z",
     "shell.execute_reply": "2020-09-22T20:45:55.380611Z"
    },
    "papermill": {
     "duration": 0.054671,
     "end_time": "2020-09-22T20:45:55.380761",
     "exception": false,
     "start_time": "2020-09-22T20:45:55.326090",
     "status": "completed"
    },
    "tags": []
   },
   "outputs": [
    {
     "name": "stdout",
     "output_type": "stream",
     "text": [
      "(1262, 1206) (542, 1206) (1262, 5) (542, 5)\n"
     ]
    }
   ],
   "source": [
    "features, targets = data_df.drop(columns=cell_types), data_df[cell_types] #label encode the target\n",
    "features_train, features_test, targets_train, targets_test = train_test_split(features, \n",
    "                                                                              targets, \n",
    "                                                                              test_size=0.3)\n",
    "print(features_train.shape, features_test.shape, targets_train.shape, targets_test.shape)"
   ]
  },
  {
   "cell_type": "markdown",
   "metadata": {
    "papermill": {
     "duration": 0.016686,
     "end_time": "2020-09-22T20:45:55.415095",
     "exception": false,
     "start_time": "2020-09-22T20:45:55.398409",
     "status": "completed"
    },
    "tags": []
   },
   "source": [
    "#### setup the tensorboard callback"
   ]
  },
  {
   "cell_type": "code",
   "execution_count": 13,
   "metadata": {
    "execution": {
     "iopub.execute_input": "2020-09-22T20:45:56.148915Z",
     "iopub.status.busy": "2020-09-22T20:45:56.148408Z",
     "iopub.status.idle": "2020-09-22T20:45:56.151170Z",
     "shell.execute_reply": "2020-09-22T20:45:56.150678Z"
    },
    "papermill": {
     "duration": 0.719201,
     "end_time": "2020-09-22T20:45:56.151291",
     "exception": false,
     "start_time": "2020-09-22T20:45:55.432090",
     "status": "completed"
    },
    "tags": []
   },
   "outputs": [],
   "source": [
    "tensorboard_callback = TensorBoard(log_dir=tboard_log_dir, histogram_freq=0, \n",
    "                                   write_graph=True, write_images=False)"
   ]
  },
  {
   "cell_type": "markdown",
   "metadata": {
    "papermill": {
     "duration": 0.017327,
     "end_time": "2020-09-22T20:45:56.187155",
     "exception": false,
     "start_time": "2020-09-22T20:45:56.169828",
     "status": "completed"
    },
    "tags": []
   },
   "source": [
    "#### search for the best model"
   ]
  },
  {
   "cell_type": "code",
   "execution_count": 14,
   "metadata": {
    "execution": {
     "iopub.execute_input": "2020-09-22T20:45:56.225242Z",
     "iopub.status.busy": "2020-09-22T20:45:56.224767Z",
     "iopub.status.idle": "2020-09-23T01:48:29.543241Z",
     "shell.execute_reply": "2020-09-23T01:48:29.542856Z"
    },
    "papermill": {
     "duration": 18153.339419,
     "end_time": "2020-09-23T01:48:29.543353",
     "exception": false,
     "start_time": "2020-09-22T20:45:56.203934",
     "status": "completed"
    },
    "tags": []
   },
   "outputs": [
    {
     "name": "stdout",
     "output_type": "stream",
     "text": [
      "WARNING:tensorflow:From /opt/conda/lib/python3.7/site-packages/tensorflow/python/ops/summary_ops_v2.py:1277: stop (from tensorflow.python.eager.profiler) is deprecated and will be removed after 2020-07-01.\n",
      "Instructions for updating:\n",
      "use `tf.profiler.experimental.stop` instead.\n"
     ]
    },
    {
     "name": "stdout",
     "output_type": "stream",
     "text": [
      "WARNING:tensorflow:Callbacks method `on_train_batch_end` is slow compared to the batch time (batch time: 0.1198s vs `on_train_batch_end` time: 0.7183s). Check your callbacks.\n"
     ]
    },
    {
     "name": "stdout",
     "output_type": "stream",
     "text": [
      "WARNING:tensorflow:Callbacks method `on_train_batch_end` is slow compared to the batch time (batch time: 0.1225s vs `on_train_batch_end` time: 1.9724s). Check your callbacks.\n"
     ]
    },
    {
     "name": "stdout",
     "output_type": "stream",
     "text": [
      "WARNING:tensorflow:Callbacks method `on_train_batch_end` is slow compared to the batch time (batch time: 0.1230s vs `on_train_batch_end` time: 1.8620s). Check your callbacks.\n"
     ]
    },
    {
     "name": "stdout",
     "output_type": "stream",
     "text": [
      "WARNING:tensorflow:Callbacks method `on_train_batch_end` is slow compared to the batch time (batch time: 0.1243s vs `on_train_batch_end` time: 1.7982s). Check your callbacks.\n"
     ]
    },
    {
     "name": "stdout",
     "output_type": "stream",
     "text": [
      "WARNING:tensorflow:Callbacks method `on_train_batch_end` is slow compared to the batch time (batch time: 0.1218s vs `on_train_batch_end` time: 1.8262s). Check your callbacks.\n"
     ]
    },
    {
     "name": "stdout",
     "output_type": "stream",
     "text": [
      "WARNING:tensorflow:Callbacks method `on_train_batch_end` is slow compared to the batch time (batch time: 0.1208s vs `on_train_batch_end` time: 1.8841s). Check your callbacks.\n"
     ]
    },
    {
     "name": "stdout",
     "output_type": "stream",
     "text": [
      "WARNING:tensorflow:Callbacks method `on_train_batch_end` is slow compared to the batch time (batch time: 0.1231s vs `on_train_batch_end` time: 1.8160s). Check your callbacks.\n"
     ]
    },
    {
     "name": "stdout",
     "output_type": "stream",
     "text": [
      "WARNING:tensorflow:Callbacks method `on_train_batch_end` is slow compared to the batch time (batch time: 0.1202s vs `on_train_batch_end` time: 1.7986s). Check your callbacks.\n"
     ]
    },
    {
     "name": "stdout",
     "output_type": "stream",
     "text": [
      "WARNING:tensorflow:Callbacks method `on_train_batch_end` is slow compared to the batch time (batch time: 0.1191s vs `on_train_batch_end` time: 1.7270s). Check your callbacks.\n"
     ]
    },
    {
     "name": "stdout",
     "output_type": "stream",
     "text": [
      "WARNING:tensorflow:Callbacks method `on_train_batch_end` is slow compared to the batch time (batch time: 0.1202s vs `on_train_batch_end` time: 1.7454s). Check your callbacks.\n"
     ]
    },
    {
     "name": "stdout",
     "output_type": "stream",
     "text": [
      "WARNING:tensorflow:Callbacks method `on_train_batch_end` is slow compared to the batch time (batch time: 0.1199s vs `on_train_batch_end` time: 1.7807s). Check your callbacks.\n"
     ]
    },
    {
     "name": "stdout",
     "output_type": "stream",
     "text": [
      "WARNING:tensorflow:Callbacks method `on_train_batch_end` is slow compared to the batch time (batch time: 0.1189s vs `on_train_batch_end` time: 1.7677s). Check your callbacks.\n"
     ]
    },
    {
     "name": "stdout",
     "output_type": "stream",
     "text": [
      "WARNING:tensorflow:Callbacks method `on_train_batch_end` is slow compared to the batch time (batch time: 0.1200s vs `on_train_batch_end` time: 1.7820s). Check your callbacks.\n"
     ]
    },
    {
     "name": "stdout",
     "output_type": "stream",
     "text": [
      "WARNING:tensorflow:Callbacks method `on_train_batch_end` is slow compared to the batch time (batch time: 0.1156s vs `on_train_batch_end` time: 1.7576s). Check your callbacks.\n"
     ]
    },
    {
     "name": "stdout",
     "output_type": "stream",
     "text": [
      "WARNING:tensorflow:Callbacks method `on_train_batch_end` is slow compared to the batch time (batch time: 0.1193s vs `on_train_batch_end` time: 1.7677s). Check your callbacks.\n"
     ]
    },
    {
     "name": "stdout",
     "output_type": "stream",
     "text": [
      "WARNING:tensorflow:Callbacks method `on_train_batch_end` is slow compared to the batch time (batch time: 0.1172s vs `on_train_batch_end` time: 1.7608s). Check your callbacks.\n"
     ]
    },
    {
     "name": "stdout",
     "output_type": "stream",
     "text": [
      "WARNING:tensorflow:Callbacks method `on_train_batch_end` is slow compared to the batch time (batch time: 0.1258s vs `on_train_batch_end` time: 1.7775s). Check your callbacks.\n"
     ]
    },
    {
     "name": "stdout",
     "output_type": "stream",
     "text": [
      "WARNING:tensorflow:Callbacks method `on_train_batch_end` is slow compared to the batch time (batch time: 0.1079s vs `on_train_batch_end` time: 1.7458s). Check your callbacks.\n"
     ]
    },
    {
     "name": "stdout",
     "output_type": "stream",
     "text": [
      "WARNING:tensorflow:Callbacks method `on_train_batch_end` is slow compared to the batch time (batch time: 0.1183s vs `on_train_batch_end` time: 1.8302s). Check your callbacks.\n"
     ]
    },
    {
     "name": "stdout",
     "output_type": "stream",
     "text": [
      "WARNING:tensorflow:Callbacks method `on_train_batch_end` is slow compared to the batch time (batch time: 0.1277s vs `on_train_batch_end` time: 1.8955s). Check your callbacks.\n"
     ]
    },
    {
     "name": "stdout",
     "output_type": "stream",
     "text": [
      "WARNING:tensorflow:Callbacks method `on_train_batch_end` is slow compared to the batch time (batch time: 0.1190s vs `on_train_batch_end` time: 1.9143s). Check your callbacks.\n"
     ]
    },
    {
     "name": "stdout",
     "output_type": "stream",
     "text": [
      "WARNING:tensorflow:Callbacks method `on_train_batch_end` is slow compared to the batch time (batch time: 0.1302s vs `on_train_batch_end` time: 1.9513s). Check your callbacks.\n"
     ]
    },
    {
     "name": "stdout",
     "output_type": "stream",
     "text": [
      "WARNING:tensorflow:Callbacks method `on_train_batch_end` is slow compared to the batch time (batch time: 0.1308s vs `on_train_batch_end` time: 1.8994s). Check your callbacks.\n"
     ]
    },
    {
     "name": "stdout",
     "output_type": "stream",
     "text": [
      "WARNING:tensorflow:Callbacks method `on_train_batch_end` is slow compared to the batch time (batch time: 0.1276s vs `on_train_batch_end` time: 1.9008s). Check your callbacks.\n"
     ]
    },
    {
     "name": "stdout",
     "output_type": "stream",
     "text": [
      "WARNING:tensorflow:Callbacks method `on_train_batch_end` is slow compared to the batch time (batch time: 0.1291s vs `on_train_batch_end` time: 1.8656s). Check your callbacks.\n"
     ]
    },
    {
     "name": "stdout",
     "output_type": "stream",
     "text": [
      "WARNING:tensorflow:Callbacks method `on_train_batch_end` is slow compared to the batch time (batch time: 0.1235s vs `on_train_batch_end` time: 1.8754s). Check your callbacks.\n"
     ]
    },
    {
     "name": "stdout",
     "output_type": "stream",
     "text": [
      "WARNING:tensorflow:Callbacks method `on_train_batch_end` is slow compared to the batch time (batch time: 0.1276s vs `on_train_batch_end` time: 1.8616s). Check your callbacks.\n"
     ]
    },
    {
     "name": "stdout",
     "output_type": "stream",
     "text": [
      "WARNING:tensorflow:Callbacks method `on_train_batch_end` is slow compared to the batch time (batch time: 0.1248s vs `on_train_batch_end` time: 1.8897s). Check your callbacks.\n"
     ]
    },
    {
     "name": "stdout",
     "output_type": "stream",
     "text": [
      "WARNING:tensorflow:Callbacks method `on_train_batch_end` is slow compared to the batch time (batch time: 0.1210s vs `on_train_batch_end` time: 1.8480s). Check your callbacks.\n"
     ]
    },
    {
     "name": "stdout",
     "output_type": "stream",
     "text": [
      "WARNING:tensorflow:Callbacks method `on_train_batch_end` is slow compared to the batch time (batch time: 0.1192s vs `on_train_batch_end` time: 1.8332s). Check your callbacks.\n"
     ]
    },
    {
     "name": "stdout",
     "output_type": "stream",
     "text": [
      "WARNING:tensorflow:Callbacks method `on_train_batch_end` is slow compared to the batch time (batch time: 0.1280s vs `on_train_batch_end` time: 1.8915s). Check your callbacks.\n"
     ]
    },
    {
     "name": "stdout",
     "output_type": "stream",
     "text": [
      "WARNING:tensorflow:Callbacks method `on_train_batch_end` is slow compared to the batch time (batch time: 0.1257s vs `on_train_batch_end` time: 1.8996s). Check your callbacks.\n"
     ]
    },
    {
     "name": "stdout",
     "output_type": "stream",
     "text": [
      "WARNING:tensorflow:Callbacks method `on_train_batch_end` is slow compared to the batch time (batch time: 0.1267s vs `on_train_batch_end` time: 1.8888s). Check your callbacks.\n"
     ]
    },
    {
     "name": "stdout",
     "output_type": "stream",
     "text": [
      "WARNING:tensorflow:Callbacks method `on_train_batch_end` is slow compared to the batch time (batch time: 0.1283s vs `on_train_batch_end` time: 1.8706s). Check your callbacks.\n"
     ]
    },
    {
     "name": "stdout",
     "output_type": "stream",
     "text": [
      "WARNING:tensorflow:Callbacks method `on_train_batch_end` is slow compared to the batch time (batch time: 0.1208s vs `on_train_batch_end` time: 1.8813s). Check your callbacks.\n"
     ]
    },
    {
     "name": "stdout",
     "output_type": "stream",
     "text": [
      "WARNING:tensorflow:Callbacks method `on_train_batch_end` is slow compared to the batch time (batch time: 0.1265s vs `on_train_batch_end` time: 1.8706s). Check your callbacks.\n"
     ]
    },
    {
     "name": "stdout",
     "output_type": "stream",
     "text": [
      "WARNING:tensorflow:Callbacks method `on_train_batch_end` is slow compared to the batch time (batch time: 0.1271s vs `on_train_batch_end` time: 1.8958s). Check your callbacks.\n"
     ]
    },
    {
     "name": "stdout",
     "output_type": "stream",
     "text": [
      "WARNING:tensorflow:Callbacks method `on_train_batch_end` is slow compared to the batch time (batch time: 0.1279s vs `on_train_batch_end` time: 1.8886s). Check your callbacks.\n"
     ]
    },
    {
     "name": "stdout",
     "output_type": "stream",
     "text": [
      "WARNING:tensorflow:Callbacks method `on_train_batch_end` is slow compared to the batch time (batch time: 0.1279s vs `on_train_batch_end` time: 1.8867s). Check your callbacks.\n"
     ]
    },
    {
     "name": "stdout",
     "output_type": "stream",
     "text": [
      "WARNING:tensorflow:Callbacks method `on_train_batch_end` is slow compared to the batch time (batch time: 0.1218s vs `on_train_batch_end` time: 1.9209s). Check your callbacks.\n"
     ]
    },
    {
     "name": "stdout",
     "output_type": "stream",
     "text": [
      "WARNING:tensorflow:Callbacks method `on_train_batch_end` is slow compared to the batch time (batch time: 0.1286s vs `on_train_batch_end` time: 1.9451s). Check your callbacks.\n"
     ]
    },
    {
     "name": "stdout",
     "output_type": "stream",
     "text": [
      "WARNING:tensorflow:Callbacks method `on_train_batch_end` is slow compared to the batch time (batch time: 0.1262s vs `on_train_batch_end` time: 1.9148s). Check your callbacks.\n"
     ]
    },
    {
     "name": "stdout",
     "output_type": "stream",
     "text": [
      "WARNING:tensorflow:Callbacks method `on_train_batch_end` is slow compared to the batch time (batch time: 0.1270s vs `on_train_batch_end` time: 1.9370s). Check your callbacks.\n"
     ]
    },
    {
     "name": "stdout",
     "output_type": "stream",
     "text": [
      "WARNING:tensorflow:Callbacks method `on_train_batch_end` is slow compared to the batch time (batch time: 0.1323s vs `on_train_batch_end` time: 1.9332s). Check your callbacks.\n"
     ]
    },
    {
     "name": "stdout",
     "output_type": "stream",
     "text": [
      "WARNING:tensorflow:Callbacks method `on_train_batch_end` is slow compared to the batch time (batch time: 0.1269s vs `on_train_batch_end` time: 1.9140s). Check your callbacks.\n"
     ]
    },
    {
     "name": "stdout",
     "output_type": "stream",
     "text": [
      "WARNING:tensorflow:Callbacks method `on_train_batch_end` is slow compared to the batch time (batch time: 0.1100s vs `on_train_batch_end` time: 1.9545s). Check your callbacks.\n"
     ]
    },
    {
     "name": "stdout",
     "output_type": "stream",
     "text": [
      "WARNING:tensorflow:Callbacks method `on_train_batch_end` is slow compared to the batch time (batch time: 0.1264s vs `on_train_batch_end` time: 1.9076s). Check your callbacks.\n"
     ]
    },
    {
     "name": "stdout",
     "output_type": "stream",
     "text": [
      "WARNING:tensorflow:Callbacks method `on_train_batch_end` is slow compared to the batch time (batch time: 0.1255s vs `on_train_batch_end` time: 1.9056s). Check your callbacks.\n"
     ]
    },
    {
     "name": "stdout",
     "output_type": "stream",
     "text": [
      "WARNING:tensorflow:Callbacks method `on_train_batch_end` is slow compared to the batch time (batch time: 0.1275s vs `on_train_batch_end` time: 1.9038s). Check your callbacks.\n"
     ]
    },
    {
     "name": "stdout",
     "output_type": "stream",
     "text": [
      "WARNING:tensorflow:Callbacks method `on_train_batch_end` is slow compared to the batch time (batch time: 0.1272s vs `on_train_batch_end` time: 1.9248s). Check your callbacks.\n"
     ]
    },
    {
     "name": "stdout",
     "output_type": "stream",
     "text": [
      "WARNING:tensorflow:Callbacks method `on_train_batch_end` is slow compared to the batch time (batch time: 0.1216s vs `on_train_batch_end` time: 1.9179s). Check your callbacks.\n"
     ]
    },
    {
     "name": "stdout",
     "output_type": "stream",
     "text": [
      "WARNING:tensorflow:Callbacks method `on_train_batch_end` is slow compared to the batch time (batch time: 0.1244s vs `on_train_batch_end` time: 1.8994s). Check your callbacks.\n"
     ]
    },
    {
     "name": "stdout",
     "output_type": "stream",
     "text": [
      "WARNING:tensorflow:Callbacks method `on_train_batch_end` is slow compared to the batch time (batch time: 0.1180s vs `on_train_batch_end` time: 1.9241s). Check your callbacks.\n"
     ]
    },
    {
     "name": "stdout",
     "output_type": "stream",
     "text": [
      "WARNING:tensorflow:Callbacks method `on_train_batch_end` is slow compared to the batch time (batch time: 0.1271s vs `on_train_batch_end` time: 1.8892s). Check your callbacks.\n"
     ]
    },
    {
     "name": "stdout",
     "output_type": "stream",
     "text": [
      "WARNING:tensorflow:Callbacks method `on_train_batch_end` is slow compared to the batch time (batch time: 0.1173s vs `on_train_batch_end` time: 1.9175s). Check your callbacks.\n"
     ]
    },
    {
     "name": "stdout",
     "output_type": "stream",
     "text": [
      "WARNING:tensorflow:Callbacks method `on_train_batch_end` is slow compared to the batch time (batch time: 0.1235s vs `on_train_batch_end` time: 1.8758s). Check your callbacks.\n"
     ]
    },
    {
     "name": "stdout",
     "output_type": "stream",
     "text": [
      "WARNING:tensorflow:Callbacks method `on_train_batch_end` is slow compared to the batch time (batch time: 0.1200s vs `on_train_batch_end` time: 1.8693s). Check your callbacks.\n"
     ]
    },
    {
     "name": "stdout",
     "output_type": "stream",
     "text": [
      "WARNING:tensorflow:Callbacks method `on_train_batch_end` is slow compared to the batch time (batch time: 0.1196s vs `on_train_batch_end` time: 1.8723s). Check your callbacks.\n"
     ]
    },
    {
     "name": "stdout",
     "output_type": "stream",
     "text": [
      "WARNING:tensorflow:Callbacks method `on_train_batch_end` is slow compared to the batch time (batch time: 0.1202s vs `on_train_batch_end` time: 1.9036s). Check your callbacks.\n"
     ]
    },
    {
     "name": "stdout",
     "output_type": "stream",
     "text": [
      "WARNING:tensorflow:Callbacks method `on_train_batch_end` is slow compared to the batch time (batch time: 0.1253s vs `on_train_batch_end` time: 1.8755s). Check your callbacks.\n"
     ]
    },
    {
     "name": "stdout",
     "output_type": "stream",
     "text": [
      "WARNING:tensorflow:Callbacks method `on_train_batch_end` is slow compared to the batch time (batch time: 0.1247s vs `on_train_batch_end` time: 1.8653s). Check your callbacks.\n"
     ]
    },
    {
     "name": "stdout",
     "output_type": "stream",
     "text": [
      "WARNING:tensorflow:Callbacks method `on_train_batch_end` is slow compared to the batch time (batch time: 0.1290s vs `on_train_batch_end` time: 1.8939s). Check your callbacks.\n"
     ]
    },
    {
     "name": "stdout",
     "output_type": "stream",
     "text": [
      "WARNING:tensorflow:Callbacks method `on_train_batch_end` is slow compared to the batch time (batch time: 0.1169s vs `on_train_batch_end` time: 1.8142s). Check your callbacks.\n"
     ]
    },
    {
     "name": "stdout",
     "output_type": "stream",
     "text": [
      "WARNING:tensorflow:Callbacks method `on_train_batch_end` is slow compared to the batch time (batch time: 0.1258s vs `on_train_batch_end` time: 1.8530s). Check your callbacks.\n"
     ]
    },
    {
     "name": "stdout",
     "output_type": "stream",
     "text": [
      "WARNING:tensorflow:Callbacks method `on_train_batch_end` is slow compared to the batch time (batch time: 0.1170s vs `on_train_batch_end` time: 1.8187s). Check your callbacks.\n"
     ]
    },
    {
     "name": "stdout",
     "output_type": "stream",
     "text": [
      "WARNING:tensorflow:Callbacks method `on_train_batch_end` is slow compared to the batch time (batch time: 0.1214s vs `on_train_batch_end` time: 1.7639s). Check your callbacks.\n"
     ]
    },
    {
     "name": "stdout",
     "output_type": "stream",
     "text": [
      "WARNING:tensorflow:Callbacks method `on_train_batch_end` is slow compared to the batch time (batch time: 0.1158s vs `on_train_batch_end` time: 1.8375s). Check your callbacks.\n"
     ]
    },
    {
     "name": "stdout",
     "output_type": "stream",
     "text": [
      "INFO:tensorflow:Oracle triggered exit\n"
     ]
    },
    {
     "name": "stdout",
     "output_type": "stream",
     "text": [
      "WARNING:tensorflow:Callbacks method `on_train_batch_end` is slow compared to the batch time (batch time: 0.1184s vs `on_train_batch_end` time: 1.8214s). Check your callbacks.\n"
     ]
    },
    {
     "name": "stdout",
     "output_type": "stream",
     "text": [
      "WARNING:tensorflow:Early stopping conditioned on metric `val_loss` which is not available. Available metrics are: loss,mean_squared_error\n"
     ]
    },
    {
     "name": "stdout",
     "output_type": "stream",
     "text": [
      "WARNING:tensorflow:Early stopping conditioned on metric `val_loss` which is not available. Available metrics are: loss,mean_squared_error\n"
     ]
    },
    {
     "name": "stdout",
     "output_type": "stream",
     "text": [
      "WARNING:tensorflow:Early stopping conditioned on metric `val_loss` which is not available. Available metrics are: loss,mean_squared_error\n"
     ]
    },
    {
     "name": "stdout",
     "output_type": "stream",
     "text": [
      "WARNING:tensorflow:Early stopping conditioned on metric `val_loss` which is not available. Available metrics are: loss,mean_squared_error\n"
     ]
    },
    {
     "name": "stdout",
     "output_type": "stream",
     "text": [
      "WARNING:tensorflow:Early stopping conditioned on metric `val_loss` which is not available. Available metrics are: loss,mean_squared_error\n"
     ]
    },
    {
     "name": "stdout",
     "output_type": "stream",
     "text": [
      "WARNING:tensorflow:Early stopping conditioned on metric `val_loss` which is not available. Available metrics are: loss,mean_squared_error\n"
     ]
    },
    {
     "name": "stdout",
     "output_type": "stream",
     "text": [
      "WARNING:tensorflow:Early stopping conditioned on metric `val_loss` which is not available. Available metrics are: loss,mean_squared_error\n"
     ]
    },
    {
     "name": "stdout",
     "output_type": "stream",
     "text": [
      "WARNING:tensorflow:Early stopping conditioned on metric `val_loss` which is not available. Available metrics are: loss,mean_squared_error\n"
     ]
    },
    {
     "name": "stdout",
     "output_type": "stream",
     "text": [
      "WARNING:tensorflow:Early stopping conditioned on metric `val_loss` which is not available. Available metrics are: loss,mean_squared_error\n"
     ]
    },
    {
     "name": "stdout",
     "output_type": "stream",
     "text": [
      "WARNING:tensorflow:Early stopping conditioned on metric `val_loss` which is not available. Available metrics are: loss,mean_squared_error\n"
     ]
    },
    {
     "name": "stdout",
     "output_type": "stream",
     "text": [
      "CPU times: user 12h 20min 7s, sys: 4h 5min 4s, total: 16h 25min 11s\n",
      "Wall time: 5h 2min 33s\n"
     ]
    }
   ],
   "source": [
    "%%time\n",
    "# define the search\n",
    "search = ak.StructuredDataRegressor(loss='mean_absolute_error', \n",
    "                                    project_name=f'sdr_{expr_name}',\n",
    "                                    column_names=features_train.columns.to_list(),\n",
    "                                    overwrite=overwrite_model,\n",
    "                                    seed=42)\n",
    "# perform the search\n",
    "search.fit(x=features_train, y=targets_train, verbose=0, callbacks=[tensorboard_callback])"
   ]
  },
  {
   "cell_type": "code",
   "execution_count": 15,
   "metadata": {
    "execution": {
     "iopub.execute_input": "2020-09-23T01:48:30.139976Z",
     "iopub.status.busy": "2020-09-23T01:48:30.139503Z",
     "iopub.status.idle": "2020-09-23T01:48:40.765476Z",
     "shell.execute_reply": "2020-09-23T01:48:40.765811Z"
    },
    "papermill": {
     "duration": 11.189655,
     "end_time": "2020-09-23T01:48:40.765953",
     "exception": false,
     "start_time": "2020-09-23T01:48:29.576298",
     "status": "completed"
    },
    "tags": []
   },
   "outputs": [
    {
     "name": "stdout",
     "output_type": "stream",
     "text": [
      "MAE: 1.366\n",
      "MSE: 5.508\n"
     ]
    }
   ],
   "source": [
    "# evaluate the model\n",
    "mae, mse = search.evaluate(features_test, targets_test, verbose=0)\n",
    "print('MAE: %.3f' % mae)\n",
    "print('MSE: %.3f' % mse)"
   ]
  },
  {
   "cell_type": "code",
   "execution_count": 16,
   "metadata": {
    "execution": {
     "iopub.execute_input": "2020-09-23T01:48:40.835158Z",
     "iopub.status.busy": "2020-09-23T01:48:40.834022Z",
     "iopub.status.idle": "2020-09-23T01:48:43.182799Z",
     "shell.execute_reply": "2020-09-23T01:48:43.183138Z"
    },
    "papermill": {
     "duration": 2.384103,
     "end_time": "2020-09-23T01:48:43.183295",
     "exception": false,
     "start_time": "2020-09-23T01:48:40.799192",
     "status": "completed"
    },
    "tags": []
   },
   "outputs": [
    {
     "name": "stdout",
     "output_type": "stream",
     "text": [
      "WARNING:tensorflow:Unresolved object in checkpoint: (root).optimizer.iter\n"
     ]
    },
    {
     "name": "stdout",
     "output_type": "stream",
     "text": [
      "WARNING:tensorflow:Unresolved object in checkpoint: (root).optimizer.beta_1\n"
     ]
    },
    {
     "name": "stdout",
     "output_type": "stream",
     "text": [
      "WARNING:tensorflow:Unresolved object in checkpoint: (root).optimizer.beta_2\n"
     ]
    },
    {
     "name": "stdout",
     "output_type": "stream",
     "text": [
      "WARNING:tensorflow:Unresolved object in checkpoint: (root).optimizer.decay\n"
     ]
    },
    {
     "name": "stdout",
     "output_type": "stream",
     "text": [
      "WARNING:tensorflow:Unresolved object in checkpoint: (root).optimizer.learning_rate\n"
     ]
    },
    {
     "name": "stdout",
     "output_type": "stream",
     "text": [
      "WARNING:tensorflow:A checkpoint was restored (e.g. tf.train.Checkpoint.restore or tf.keras.Model.load_weights) but not all checkpointed values were used. See above for specific issues. Use expect_partial() on the load status object, e.g. tf.train.Checkpoint.restore(...).expect_partial(), to silence these warnings, or use assert_consumed() to make the check explicit. See https://www.tensorflow.org/guide/checkpoint#loading_mechanics for details.\n"
     ]
    },
    {
     "name": "stdout",
     "output_type": "stream",
     "text": [
      "Model: \"functional_1\"\n",
      "_________________________________________________________________\n",
      "Layer (type)                 Output Shape              Param #   \n",
      "=================================================================\n",
      "input_1 (InputLayer)         [(None, 1206)]            0         \n",
      "_________________________________________________________________\n",
      "multi_category_encoding (Mul (None, 1206)              0         \n",
      "_________________________________________________________________\n",
      "normalization (Normalization (None, 1206)              2413      \n",
      "_________________________________________________________________\n",
      "dense (Dense)                (None, 16)                19312     \n",
      "_________________________________________________________________\n",
      "batch_normalization (BatchNo (None, 16)                64        \n",
      "_________________________________________________________________\n",
      "re_lu (ReLU)                 (None, 16)                0         \n",
      "_________________________________________________________________\n",
      "regression_head_1 (Dense)    (None, 5)                 85        \n",
      "=================================================================\n",
      "Total params: 21,874\n",
      "Trainable params: 19,429\n",
      "Non-trainable params: 2,445\n",
      "_________________________________________________________________\n"
     ]
    }
   ],
   "source": [
    "# get the best performing model\n",
    "model = search.export_model()\n",
    "# summarize the loaded model\n",
    "model.summary()"
   ]
  },
  {
   "cell_type": "code",
   "execution_count": 17,
   "metadata": {
    "execution": {
     "iopub.execute_input": "2020-09-23T01:48:43.275872Z",
     "iopub.status.busy": "2020-09-23T01:48:43.275231Z",
     "iopub.status.idle": "2020-09-23T01:48:43.302175Z",
     "shell.execute_reply": "2020-09-23T01:48:43.301559Z"
    },
    "papermill": {
     "duration": 0.084261,
     "end_time": "2020-09-23T01:48:43.302358",
     "exception": false,
     "start_time": "2020-09-23T01:48:43.218097",
     "status": "completed"
    },
    "tags": []
   },
   "outputs": [],
   "source": [
    "# save the best performing model to file\n",
    "model.save(model_file)"
   ]
  },
  {
   "cell_type": "markdown",
   "metadata": {
    "papermill": {
     "duration": 0.040183,
     "end_time": "2020-09-23T01:48:43.384392",
     "exception": false,
     "start_time": "2020-09-23T01:48:43.344209",
     "status": "completed"
    },
    "tags": []
   },
   "source": [
    "#### see sklearn metrics"
   ]
  },
  {
   "cell_type": "code",
   "execution_count": 18,
   "metadata": {
    "execution": {
     "iopub.execute_input": "2020-09-23T01:48:44.016961Z",
     "iopub.status.busy": "2020-09-23T01:48:43.468417Z",
     "iopub.status.idle": "2020-09-23T01:49:03.266631Z",
     "shell.execute_reply": "2020-09-23T01:49:03.267197Z"
    },
    "papermill": {
     "duration": 19.845405,
     "end_time": "2020-09-23T01:49:03.267421",
     "exception": false,
     "start_time": "2020-09-23T01:48:43.422016",
     "status": "completed"
    },
    "tags": []
   },
   "outputs": [
    {
     "name": "stdout",
     "output_type": "stream",
     "text": [
      "['Basophils', 'Eosinophils', 'Lymphocytes', 'Monocytes', 'Neutrophils']\n"
     ]
    },
    {
     "name": "stdout",
     "output_type": "stream",
     "text": [
      "r2_score, raw_values: [0.06130177 0.73773818 0.83290311 0.36749471 0.7489588 ]\n",
      "mean_squared_error, raw_values: [ 0.12597481  0.58765168  8.89927635  1.85305517 16.07221163]\n",
      "mean_squared_error, uniform_average: 5.50763392752088\n",
      "mean_absolute_error, raw_values: [0.2501905  0.54866241 2.01653555 0.98142405 3.03517206]\n",
      "mean_absolute_error, uniform_average: 1.3663969130698603\n"
     ]
    },
    {
     "name": "stdout",
     "output_type": "stream",
     "text": [
      "WARNING:tensorflow:Unresolved object in checkpoint: (root).optimizer.iter\n"
     ]
    },
    {
     "name": "stdout",
     "output_type": "stream",
     "text": [
      "WARNING:tensorflow:Unresolved object in checkpoint: (root).optimizer.beta_1\n"
     ]
    },
    {
     "name": "stdout",
     "output_type": "stream",
     "text": [
      "WARNING:tensorflow:Unresolved object in checkpoint: (root).optimizer.beta_2\n"
     ]
    },
    {
     "name": "stdout",
     "output_type": "stream",
     "text": [
      "WARNING:tensorflow:Unresolved object in checkpoint: (root).optimizer.decay\n"
     ]
    },
    {
     "name": "stdout",
     "output_type": "stream",
     "text": [
      "WARNING:tensorflow:Unresolved object in checkpoint: (root).optimizer.learning_rate\n"
     ]
    },
    {
     "name": "stdout",
     "output_type": "stream",
     "text": [
      "WARNING:tensorflow:A checkpoint was restored (e.g. tf.train.Checkpoint.restore or tf.keras.Model.load_weights) but not all checkpointed values were used. See above for specific issues. Use expect_partial() on the load status object, e.g. tf.train.Checkpoint.restore(...).expect_partial(), to silence these warnings, or use assert_consumed() to make the check explicit. See https://www.tensorflow.org/guide/checkpoint#loading_mechanics for details.\n"
     ]
    },
    {
     "name": "stdout",
     "output_type": "stream",
     "text": [
      "r2_score, raw_values: [-5.97953811e-04  7.34084604e-01  8.31001238e-01  3.17579721e-01\n",
      "  7.71109866e-01]\n",
      "mean_squared_error, raw_values: [ 0.11008825  0.71074521  9.73189726  1.94227925 15.01865174]\n",
      "mean_squared_error, uniform_average: 5.5027323415326475\n",
      "mean_absolute_error, raw_values: [0.24352543 0.54321642 1.96483688 0.95090511 2.83267674]\n",
      "mean_absolute_error, uniform_average: 1.307032117055827\n"
     ]
    }
   ],
   "source": [
    "def print_sklearn_reg_metrics(test_actual, test_predicted):\n",
    "    sk_metrics = r2_score(test_actual, test_predicted, multioutput='raw_values')\n",
    "    print(f'r2_score, raw_values: {sk_metrics}')\n",
    "    sk_metrics = mean_squared_error(test_actual, test_predicted, multioutput='raw_values')\n",
    "    print(f'mean_squared_error, raw_values: {sk_metrics}')\n",
    "    sk_metrics = mean_squared_error(test_actual, test_predicted, multioutput='uniform_average')\n",
    "    print(f'mean_squared_error, uniform_average: {sk_metrics}')\n",
    "    sk_metrics = mean_absolute_error(test_actual, test_predicted, multioutput='raw_values')\n",
    "    print(f'mean_absolute_error, raw_values: {sk_metrics}')\n",
    "    sk_metrics = mean_absolute_error(test_actual, test_predicted, multioutput='uniform_average')\n",
    "    print(f'mean_absolute_error, uniform_average: {sk_metrics}')\n",
    "\n",
    "print(cell_types)\n",
    "features_test_predicted = search.predict(features_test)\n",
    "print_sklearn_reg_metrics(targets_test, features_test_predicted)\n",
    "features_train_predicted = search.predict(features_train)\n",
    "print_sklearn_reg_metrics(targets_train, features_train_predicted)"
   ]
  },
  {
   "cell_type": "markdown",
   "metadata": {
    "papermill": {
     "duration": 0.035823,
     "end_time": "2020-09-23T01:49:03.340767",
     "exception": false,
     "start_time": "2020-09-23T01:49:03.304944",
     "status": "completed"
    },
    "tags": []
   },
   "source": [
    "#### check scores with cross fold validation"
   ]
  },
  {
   "cell_type": "code",
   "execution_count": 19,
   "metadata": {
    "execution": {
     "iopub.execute_input": "2020-09-23T01:49:03.428961Z",
     "iopub.status.busy": "2020-09-23T01:49:03.428257Z",
     "iopub.status.idle": "2020-09-23T01:49:03.430434Z",
     "shell.execute_reply": "2020-09-23T01:49:03.430759Z"
    },
    "papermill": {
     "duration": 0.048876,
     "end_time": "2020-09-23T01:49:03.430900",
     "exception": false,
     "start_time": "2020-09-23T01:49:03.382024",
     "status": "completed"
    },
    "tags": []
   },
   "outputs": [],
   "source": [
    "# n_scores = cross_val_score(model, features_train, targets_train, scoring='accuracy', cv=5, n_jobs=max_threads)\n",
    "# print(n_scores)"
   ]
  },
  {
   "cell_type": "markdown",
   "metadata": {
    "papermill": {
     "duration": 0.03757,
     "end_time": "2020-09-23T01:49:03.507828",
     "exception": false,
     "start_time": "2020-09-23T01:49:03.470258",
     "status": "completed"
    },
    "tags": []
   },
   "source": [
    "#### plot the test comparisons"
   ]
  },
  {
   "cell_type": "code",
   "execution_count": 20,
   "metadata": {
    "execution": {
     "iopub.execute_input": "2020-09-23T01:49:03.587949Z",
     "iopub.status.busy": "2020-09-23T01:49:03.587406Z",
     "iopub.status.idle": "2020-09-23T01:49:05.293394Z",
     "shell.execute_reply": "2020-09-23T01:49:05.292954Z"
    },
    "papermill": {
     "duration": 1.748768,
     "end_time": "2020-09-23T01:49:05.293513",
     "exception": false,
     "start_time": "2020-09-23T01:49:03.544745",
     "status": "completed"
    },
    "tags": []
   },
   "outputs": [
    {
     "data": {
      "image/png": "[encoded data removed]",
      "text/plain": [
       "<Figure size 432x288 with 1 Axes>"
      ]
     },
     "metadata": {
      "needs_background": "light"
     },
     "output_type": "display_data"
    },
    {
     "data": {
      "image/png": "[encoded data removed]",
      "text/plain": [
       "<Figure size 432x288 with 1 Axes>"
      ]
     },
     "metadata": {
      "needs_background": "light"
     },
     "output_type": "display_data"
    }
   ],
   "source": [
    "def plot_regressions(cell_types, actual_df, predicted_df, title):\n",
    "    for index, celltype in enumerate(cell_types):\n",
    "        sns.regplot(x=actual_df[celltype], y=predicted_df[:,index])\n",
    "    plt.xlabel('Actual cell %')\n",
    "    plt.ylabel('Predicted cell %')\n",
    "    plt.title(f'Actual vs Predicted: {title}')\n",
    "    plt.legend(cell_types, bbox_to_anchor=(1, 1))\n",
    "    plt.show()\n",
    "    \n",
    "plot_regressions(cell_types, targets_test, features_test_predicted, 'test data')\n",
    "plot_regressions(cell_types, targets_train, features_train_predicted, 'train data')"
   ]
  },
  {
   "cell_type": "markdown",
   "metadata": {
    "papermill": {
     "duration": 0.038456,
     "end_time": "2020-09-23T01:49:05.370959",
     "exception": false,
     "start_time": "2020-09-23T01:49:05.332503",
     "status": "completed"
    },
    "tags": []
   },
   "source": [
    "#### plot the model"
   ]
  },
  {
   "cell_type": "code",
   "execution_count": 21,
   "metadata": {
    "execution": {
     "iopub.execute_input": "2020-09-23T01:49:05.452502Z",
     "iopub.status.busy": "2020-09-23T01:49:05.452026Z",
     "iopub.status.idle": "2020-09-23T01:49:05.938777Z",
     "shell.execute_reply": "2020-09-23T01:49:05.939129Z"
    },
    "papermill": {
     "duration": 0.528913,
     "end_time": "2020-09-23T01:49:05.939279",
     "exception": false,
     "start_time": "2020-09-23T01:49:05.410366",
     "status": "completed"
    },
    "tags": []
   },
   "outputs": [
    {
     "name": "stdout",
     "output_type": "stream",
     "text": [
      "WARNING:tensorflow:Unresolved object in checkpoint: (root).optimizer.iter\n"
     ]
    },
    {
     "name": "stdout",
     "output_type": "stream",
     "text": [
      "WARNING:tensorflow:Unresolved object in checkpoint: (root).optimizer.beta_1\n"
     ]
    },
    {
     "name": "stdout",
     "output_type": "stream",
     "text": [
      "WARNING:tensorflow:Unresolved object in checkpoint: (root).optimizer.beta_2\n"
     ]
    },
    {
     "name": "stdout",
     "output_type": "stream",
     "text": [
      "WARNING:tensorflow:Unresolved object in checkpoint: (root).optimizer.decay\n"
     ]
    },
    {
     "name": "stdout",
     "output_type": "stream",
     "text": [
      "WARNING:tensorflow:Unresolved object in checkpoint: (root).optimizer.learning_rate\n"
     ]
    },
    {
     "name": "stdout",
     "output_type": "stream",
     "text": [
      "WARNING:tensorflow:A checkpoint was restored (e.g. tf.train.Checkpoint.restore or tf.keras.Model.load_weights) but not all checkpointed values were used. See above for specific issues. Use expect_partial() on the load status object, e.g. tf.train.Checkpoint.restore(...).expect_partial(), to silence these warnings, or use assert_consumed() to make the check explicit. See https://www.tensorflow.org/guide/checkpoint#loading_mechanics for details.\n"
     ]
    },
    {
     "data": {
      "image/png": "[encoded data removed]",
      "text/plain": [
       "<IPython.core.display.Image object>"
      ]
     },
     "execution_count": 21,
     "metadata": {},
     "output_type": "execute_result"
    }
   ],
   "source": [
    "import keras\n",
    "keras.utils.plot_model(model, f'{expr_name}_model_with_shape_info.png', show_shapes=True)\n"
   ]
  },
  {
   "cell_type": "markdown",
   "metadata": {
    "papermill": {
     "duration": 0.046365,
     "end_time": "2020-09-23T01:49:06.029584",
     "exception": false,
     "start_time": "2020-09-23T01:49:05.983219",
     "status": "completed"
    },
    "tags": []
   },
   "source": [
    "#### now predict fractions for samples that don't have them"
   ]
  },
  {
   "cell_type": "code",
   "execution_count": 22,
   "metadata": {
    "execution": {
     "iopub.execute_input": "2020-09-23T01:49:06.133354Z",
     "iopub.status.busy": "2020-09-23T01:49:06.123965Z",
     "iopub.status.idle": "2020-09-23T01:49:06.135839Z",
     "shell.execute_reply": "2020-09-23T01:49:06.136182Z"
    },
    "papermill": {
     "duration": 0.058058,
     "end_time": "2020-09-23T01:49:06.136341",
     "exception": false,
     "start_time": "2020-09-23T01:49:06.078283",
     "status": "completed"
    },
    "tags": []
   },
   "outputs": [
    {
     "name": "stdout",
     "output_type": "stream",
     "text": [
      "(2806, 1206)\n"
     ]
    }
   ],
   "source": [
    "missing_fracs_expr_df = expr_df.loc[~expr_df.index.isin(data_df.index)]\n",
    "print(missing_fracs_expr_df.shape)"
   ]
  },
  {
   "cell_type": "code",
   "execution_count": 23,
   "metadata": {
    "execution": {
     "iopub.execute_input": "2020-09-23T01:49:08.941932Z",
     "iopub.status.busy": "2020-09-23T01:49:08.941428Z",
     "iopub.status.idle": "2020-09-23T01:49:23.682452Z",
     "shell.execute_reply": "2020-09-23T01:49:23.681979Z"
    },
    "papermill": {
     "duration": 17.502488,
     "end_time": "2020-09-23T01:49:23.682577",
     "exception": false,
     "start_time": "2020-09-23T01:49:06.180089",
     "status": "completed"
    },
    "tags": []
   },
   "outputs": [],
   "source": [
    "missing_predicted = search.predict(missing_fracs_expr_df)"
   ]
  },
  {
   "cell_type": "code",
   "execution_count": 24,
   "metadata": {
    "execution": {
     "iopub.execute_input": "2020-09-23T01:49:23.769674Z",
     "iopub.status.busy": "2020-09-23T01:49:23.769212Z",
     "iopub.status.idle": "2020-09-23T01:49:23.788548Z",
     "shell.execute_reply": "2020-09-23T01:49:23.788025Z"
    },
    "papermill": {
     "duration": 0.064696,
     "end_time": "2020-09-23T01:49:23.788670",
     "exception": false,
     "start_time": "2020-09-23T01:49:23.723974",
     "status": "completed"
    },
    "tags": []
   },
   "outputs": [],
   "source": [
    "missing_predicted_df = pd.DataFrame(data=missing_predicted, columns=cell_types, \n",
    "                                 index=missing_fracs_expr_df.index)\n",
    "missing_predicted_df.index.name = 'rnaid'\n",
    "missing_predicted_df.to_csv(predicted_fractions_for_missing_file)"
   ]
  },
  {
   "cell_type": "code",
   "execution_count": 25,
   "metadata": {
    "execution": {
     "iopub.execute_input": "2020-09-23T01:49:23.886541Z",
     "iopub.status.busy": "2020-09-23T01:49:23.886006Z",
     "iopub.status.idle": "2020-09-23T01:49:23.888749Z",
     "shell.execute_reply": "2020-09-23T01:49:23.889224Z"
    },
    "papermill": {
     "duration": 0.05538,
     "end_time": "2020-09-23T01:49:23.889422",
     "exception": false,
     "start_time": "2020-09-23T01:49:23.834042",
     "status": "completed"
    },
    "tags": []
   },
   "outputs": [
    {
     "data": {
      "text/plain": [
       "Basophils       0.689789\n",
       "Eosinophils     2.383412\n",
       "Lymphocytes    28.487154\n",
       "Monocytes       6.470761\n",
       "Neutrophils    61.618458\n",
       "dtype: float32"
      ]
     },
     "execution_count": 25,
     "metadata": {},
     "output_type": "execute_result"
    }
   ],
   "source": [
    "missing_predicted_df.mean(axis=0)"
   ]
  },
  {
   "cell_type": "code",
   "execution_count": 26,
   "metadata": {
    "execution": {
     "iopub.execute_input": "2020-09-23T01:49:23.985819Z",
     "iopub.status.busy": "2020-09-23T01:49:23.985308Z",
     "iopub.status.idle": "2020-09-23T01:49:23.987776Z",
     "shell.execute_reply": "2020-09-23T01:49:23.988210Z"
    },
    "papermill": {
     "duration": 0.054792,
     "end_time": "2020-09-23T01:49:23.988358",
     "exception": false,
     "start_time": "2020-09-23T01:49:23.933566",
     "status": "completed"
    },
    "tags": []
   },
   "outputs": [
    {
     "data": {
      "text/plain": [
       "Basophils       0.645404\n",
       "Eosinophils     2.462282\n",
       "Lymphocytes    27.960222\n",
       "Monocytes       6.414422\n",
       "Neutrophils    62.518859\n",
       "dtype: float64"
      ]
     },
     "execution_count": 26,
     "metadata": {},
     "output_type": "execute_result"
    }
   ],
   "source": [
    "targets_train.mean(axis=0)"
   ]
  },
  {
   "cell_type": "code",
   "execution_count": 27,
   "metadata": {
    "execution": {
     "iopub.execute_input": "2020-09-23T01:49:24.094401Z",
     "iopub.status.busy": "2020-09-23T01:49:24.092725Z",
     "iopub.status.idle": "2020-09-23T01:49:25.364081Z",
     "shell.execute_reply": "2020-09-23T01:49:25.363617Z"
    },
    "papermill": {
     "duration": 1.329169,
     "end_time": "2020-09-23T01:49:25.364254",
     "exception": false,
     "start_time": "2020-09-23T01:49:24.035085",
     "status": "completed"
    },
    "tags": []
   },
   "outputs": [
    {
     "data": {
      "image/png": "[encoded data removed]",
      "text/plain": [
       "<Figure size 432x288 with 1 Axes>"
      ]
     },
     "metadata": {
      "needs_background": "light"
     },
     "output_type": "display_data"
    },
    {
     "name": "stdout",
     "output_type": "stream",
     "text": [
      "WARNING:tensorflow:Unresolved object in checkpoint: (root).optimizer.iter\n"
     ]
    },
    {
     "name": "stdout",
     "output_type": "stream",
     "text": [
      "WARNING:tensorflow:Unresolved object in checkpoint: (root).optimizer.beta_1\n"
     ]
    },
    {
     "name": "stdout",
     "output_type": "stream",
     "text": [
      "WARNING:tensorflow:Unresolved object in checkpoint: (root).optimizer.beta_2\n"
     ]
    },
    {
     "name": "stdout",
     "output_type": "stream",
     "text": [
      "WARNING:tensorflow:Unresolved object in checkpoint: (root).optimizer.decay\n"
     ]
    },
    {
     "name": "stdout",
     "output_type": "stream",
     "text": [
      "WARNING:tensorflow:Unresolved object in checkpoint: (root).optimizer.learning_rate\n"
     ]
    },
    {
     "name": "stdout",
     "output_type": "stream",
     "text": [
      "WARNING:tensorflow:A checkpoint was restored (e.g. tf.train.Checkpoint.restore or tf.keras.Model.load_weights) but not all checkpointed values were used. See above for specific issues. Use expect_partial() on the load status object, e.g. tf.train.Checkpoint.restore(...).expect_partial(), to silence these warnings, or use assert_consumed() to make the check explicit. See https://www.tensorflow.org/guide/checkpoint#loading_mechanics for details.\n"
     ]
    },
    {
     "data": {
      "image/png": "[encoded data removed]",
      "text/plain": [
       "<Figure size 432x288 with 1 Axes>"
      ]
     },
     "metadata": {
      "needs_background": "light"
     },
     "output_type": "display_data"
    },
    {
     "data": {
      "image/png": "[encoded data removed]",
      "text/plain": [
       "<Figure size 432x288 with 1 Axes>"
      ]
     },
     "metadata": {
      "needs_background": "light"
     },
     "output_type": "display_data"
    },
    {
     "data": {
      "image/png": "[encoded data removed]",
      "text/plain": [
       "<Figure size 432x288 with 1 Axes>"
      ]
     },
     "metadata": {
      "needs_background": "light"
     },
     "output_type": "display_data"
    },
    {
     "data": {
      "image/png": "[encoded data removed]",
      "text/plain": [
       "<Figure size 432x288 with 1 Axes>"
      ]
     },
     "metadata": {
      "needs_background": "light"
     },
     "output_type": "display_data"
    }
   ],
   "source": [
    "def plot_densities(cell_types, known_df, predicted_df):\n",
    "    for index, celltype in enumerate(cell_types):\n",
    "        sns.distplot(known_df[celltype], rug=True, hist=False)\n",
    "        sns.distplot(predicted_df[celltype], rug=True, hist=False)\n",
    "        plt.xlabel('Known')\n",
    "        plt.ylabel('Predicted')\n",
    "        plt.title(f'Known vs Predicted: {celltype}')\n",
    "        plt.legend(['known', 'predicted'], bbox_to_anchor=(1, 1))\n",
    "        plt.show()\n",
    "    \n",
    "plot_densities(cell_types, targets_train, missing_predicted_df)"
   ]
  },
  {
   "cell_type": "code",
   "execution_count": null,
   "metadata": {
    "papermill": {
     "duration": 0.045284,
     "end_time": "2020-09-23T01:49:25.459957",
     "exception": false,
     "start_time": "2020-09-23T01:49:25.414673",
     "status": "completed"
    },
    "tags": []
   },
   "outputs": [],
   "source": []
  }
 ],
 "metadata": {
  "environment": {
   "name": "tf2-2-3-gpu.2-3.m55",
   "type": "gcloud",
   "uri": "gcr.io/deeplearning-platform-release/tf2-2-3-gpu.2-3:m55"
  },
  "kernelspec": {
   "display_name": "Python 3",
   "language": "python",
   "name": "python3"
  },
  "language_info": {
   "codemirror_mode": {
    "name": "ipython",
    "version": 3
   },
   "file_extension": ".py",
   "mimetype": "text/x-python",
   "name": "python",
   "nbconvert_exporter": "python",
   "pygments_lexer": "ipython3",
   "version": "3.7.8"
  },
  "papermill": {
   "duration": 18231.918861,
   "end_time": "2020-09-23T01:49:28.356561",
   "environment_variables": {},
   "exception": null,
   "input_path": "dl_cell_fractions_from_expression.ipynb",
   "output_path": "pm_gend_nbs/dl_elevated_cell_fractions_from_expression.ipynb",
   "parameters": {
    "add_random": true,
    "cohort": "ppmi",
    "expr_name": "elevated",
    "overwrite_model": true
   },
   "start_time": "2020-09-22T20:45:36.437700",
   "version": "2.1.2"
  }
 },
 "nbformat": 4,
 "nbformat_minor": 4
}