{
 "cells": [
  {
   "cell_type": "markdown",
   "metadata": {},
   "source": [
    "## Notebook to browse the detected eQTL result for items of interest"
   ]
  },
  {
   "cell_type": "code",
   "execution_count": null,
   "metadata": {},
   "outputs": [],
   "source": [
    "!date"
   ]
  },
  {
   "cell_type": "markdown",
   "metadata": {},
   "source": [
    "#### import libraries and set notebook variables"
   ]
  },
  {
   "cell_type": "code",
   "execution_count": null,
   "metadata": {},
   "outputs": [],
   "source": [
    "import pandas as pd\n",
    "import numpy as np\n",
    "import seaborn as sns\n",
    "import matplotlib.pyplot as plt"
   ]
  },
  {
   "cell_type": "code",
   "execution_count": null,
   "metadata": {
    "tags": [
     "parameters"
    ]
   },
   "outputs": [],
   "source": [
    "# parameters\n",
    "cohort = 'pdbp'\n",
    "version = 'amppdv1'\n",
    "visit = 0\n",
    "tissue = 'wb'"
   ]
  },
  {
   "cell_type": "code",
   "execution_count": null,
   "metadata": {},
   "outputs": [],
   "source": [
    "# naming\n",
    "cohort_version = f'{cohort}.{version}'\n",
    "cohort_build = f'{cohort}.{tissue}{visit}'\n",
    "\n",
    "# directories\n",
    "home_dir = '/home/jupyter'\n",
    "wrk_dir = f'{home_dir}/{cohort}'\n",
    "genos_dir = f'{wrk_dir}/genotypes'\n",
    "tensorqtl_dir = f'{wrk_dir}/tensorqtl'\n",
    "results_dir = f'{wrk_dir}/results'\n",
    "gwas_dir = f'{home_dir}/gwas'\n",
    "\n",
    "# input files\n",
    "gencode_pkl = f'{home_dir}/amppd/expression/gencode.v29.primary_assembly.annotation.pkl'\n",
    "eqtl_results_file = f'{results_dir}/{cohort_build}.cis.indep.csv'\n",
    "meta5_st2_clean_file = f'{gwas_dir}/pd.table_s2.clean.txt'\n",
    "\n",
    "# output files\n",
    "\n",
    "# constant values\n",
    "autosomes = [str(x) for x in list(range(1,23))]\n",
    "alpha_value = 0.05\n",
    "\n",
    "# items of interest\n",
    "genes = ['SNCA', 'LRRK2', 'GBA', 'CHURC1', 'RAB29', 'FBXL5', 'GCH1', 'STX4', 'TTC3', 'GPR65']"
   ]
  },
  {
   "cell_type": "markdown",
   "metadata": {},
   "source": [
    "#### load the gencode annotations"
   ]
  },
  {
   "cell_type": "code",
   "execution_count": null,
   "metadata": {},
   "outputs": [],
   "source": [
    "%%time\n",
    "gencode_df = pd.read_pickle(gencode_pkl)\n",
    "# drop the ont and tag columns\n",
    "discard_cols = gencode_df.columns[(gencode_df.columns.str.startswith('ont:')) |\n",
    "                                (gencode_df.columns.str.startswith('tag:'))]\n",
    "gencode_df.drop(columns=discard_cols, inplace=True)\n",
    "# should only be autosomal but sometimes annotation quirks allow in others, so force\n",
    "gencode_df = gencode_df.loc[(gencode_df['seqname'].str.startswith('chr')) & \n",
    "                           (~gencode_df['seqname'].isin(['chrX','chrY','chrM']))]\n",
    "# every now and again having problem with mics_RNA genes mapping every chrom so drop\n",
    "gencode_df = gencode_df.loc[~gencode_df['gene_type'].isin(['misc_RNA'])]\n",
    "print(gencode_df.shape)\n",
    "display(gencode_df.head())"
   ]
  },
  {
   "cell_type": "markdown",
   "metadata": {},
   "source": [
    "#### load the detected eQTL"
   ]
  },
  {
   "cell_type": "code",
   "execution_count": null,
   "metadata": {},
   "outputs": [],
   "source": [
    "eqtl_df = pd.read_csv(eqtl_results_file)\n",
    "print(eqtl_df.shape)\n",
    "number_genes = len(eqtl_df['phenotype_id'].unique())\n",
    "print(f'detected eqtl for {number_genes} genes')\n",
    "eqtl_df.head()"
   ]
  },
  {
   "cell_type": "markdown",
   "metadata": {},
   "source": [
    "#### grab the max pval_nominal and max pval_beta"
   ]
  },
  {
   "cell_type": "code",
   "execution_count": null,
   "metadata": {},
   "outputs": [],
   "source": [
    "max_pvalue = eqtl_df['pval_nominal'].max()\n",
    "max_pval_beta = eqtl_df['pval_beta'].max()\n",
    "print(f'max p-value: {max_pvalue} and p-values(beta): {max_pval_beta}')"
   ]
  },
  {
   "cell_type": "code",
   "execution_count": null,
   "metadata": {},
   "outputs": [],
   "source": [
    "genes_oi_df = gencode_df.loc[gencode_df['gene_name'].isin(genes)]\n",
    "print(genes_oi_df.shape)\n",
    "gene_ids = genes_oi_df['gene_id'].unique()\n",
    "print(gene_ids)\n",
    "gene_names = genes_oi_df['gene_name'].unique()\n",
    "print(gene_names)\n",
    "genes_oi_df.head()"
   ]
  },
  {
   "cell_type": "code",
   "execution_count": null,
   "metadata": {},
   "outputs": [],
   "source": [
    "eqtl_genes_oi_df = eqtl_df.loc[eqtl_df['phenotype_id'].isin(genes_oi_df['gene_id'])]\n",
    "print(eqtl_genes_oi_df.shape)\n",
    "print(eqtl_genes_oi_df['phenotype_id'].unique())\n",
    "print(genes_oi_df.loc[genes_oi_df['gene_id'].isin(eqtl_genes_oi_df['phenotype_id']), \n",
    "                      ['gene_name']]['gene_name'].unique())"
   ]
  },
  {
   "cell_type": "markdown",
   "metadata": {},
   "source": [
    "#### load the variants of interest"
   ]
  },
  {
   "cell_type": "code",
   "execution_count": null,
   "metadata": {},
   "outputs": [],
   "source": [
    "variants_oi_df = pd.read_csv(meta5_st2_clean_file, sep='\\t')\n",
    "print(variants_oi_df.shape)\n",
    "variants_oi_df.head()"
   ]
  },
  {
   "cell_type": "markdown",
   "metadata": {},
   "source": [
    "#### see if any of the independent significant results happen to be risk independent variants"
   ]
  },
  {
   "cell_type": "code",
   "execution_count": null,
   "metadata": {},
   "outputs": [],
   "source": [
    "def check_eqtls_for_variants(eqtl_df, variants_df, gencode_df):\n",
    "    eqtl_variants_oi_df = eqtl_df.loc[eqtl_df['variant_id'].isin(variants_df['SNP'])]\n",
    "    print(eqtl_variants_oi_df.shape)\n",
    "    this_cnt = len(eqtl_variants_oi_df['variant_id'].unique())\n",
    "    print(f'variants {this_cnt}')\n",
    "    print(eqtl_variants_oi_df['variant_id'].unique())\n",
    "    this_cnt = len(eqtl_variants_oi_df['phenotype_id'].unique())\n",
    "    print(f'genes {this_cnt}')\n",
    "    oi_genes = gencode_df.loc[gencode_df['gene_id'].isin(eqtl_variants_oi_df['phenotype_id']), \n",
    "                              ['gene_name']]['gene_name'].unique()\n",
    "    print(oi_genes)\n",
    "    return oi_genes"
   ]
  },
  {
   "cell_type": "code",
   "execution_count": null,
   "metadata": {},
   "outputs": [],
   "source": [
    "these_genes = check_eqtls_for_variants(eqtl_df, variants_oi_df, gencode_df)\n",
    "if len(these_genes) > 0:\n",
    "    genes = set(genes) | set(these_genes)\n",
    "    print(genes)"
   ]
  },
  {
   "cell_type": "markdown",
   "metadata": {},
   "source": [
    "#### now load rest of results and see if risk index variants are eQTL"
   ]
  },
  {
   "cell_type": "code",
   "execution_count": null,
   "metadata": {},
   "outputs": [],
   "source": [
    "for chrom in autosomes:\n",
    "    print(f'checking chromosome {chrom}')\n",
    "    chrom_eqtl_df = pd.read_parquet(f'{tensorqtl_dir}/{cohort_build}.cis_qtl_pairs.chr{chrom}.parquet')\n",
    "#     oi_chrom_eqtl_df = chrom_eqtl_df.loc[chrom_eqtl_df['pval_nominal'] < max_pvalue]\n",
    "    oi_chrom_eqtl_df = chrom_eqtl_df.loc[chrom_eqtl_df['pval_nominal'] < max_pval_beta]\n",
    "    these_genes = check_eqtls_for_variants(oi_chrom_eqtl_df, variants_oi_df, gencode_df)\n",
    "#     if len(these_genes) > 0:\n",
    "#         genes = set(genes) | set(these_genes)\n",
    "    \n",
    "print(genes)    "
   ]
  },
  {
   "cell_type": "markdown",
   "metadata": {},
   "source": [
    "#### check all the genes of interest regardless of detectable eQTL"
   ]
  },
  {
   "cell_type": "code",
   "execution_count": null,
   "metadata": {},
   "outputs": [],
   "source": [
    "#plot local manhattan for gene eQTL\n",
    "def plot_eqtl_manhattan(gene_id, gene_name, gene_chrom, gene_start, gene_stop, eqtl_df):\n",
    "    print(f'{gene_name} {gene_id}')\n",
    "    print(f'gene {gene_name} is on {gene_chrom} from {gene_start} to {gene_stop}')\n",
    "\n",
    "    #pull in all results for the gene from chromosome for all visits\n",
    "    gene_results_df = eqtl_df.loc[eqtl_df['phenotype_id'] == gene_id]\n",
    "    print(gene_results_df.shape)\n",
    "\n",
    "    if not gene_results_df is None and gene_results_df.shape[0] > 0:\n",
    "#         #get suggestive results counts\n",
    "#         temp_results_df = gene_results_df.loc[gene_results_df['bh_fdr'] <= alpha_value]\n",
    "#         print(temp_results_df.shape)\n",
    "\n",
    "        #create some cleaner data columns for plotting purposes\n",
    "#         gene_results_df['log10_bh_pvalue'] = np.log10(gene_results_df['bh_fdr'])*-1\n",
    "        gene_results_df['log10_pvalue'] = np.log10(gene_results_df['pval_nominal'])*-1\n",
    "        gene_results_df['z_score'] = gene_results_df['slope']/gene_results_df['slope_se']\n",
    "        gene_results_df['z_score_abs'] = np.abs(gene_results_df['z_score'])\n",
    "\n",
    "        #now actually do the plotting\n",
    "        sns.set(style='darkgrid')\n",
    "#         sns.relplot(x='tss_distance',y='log10_pvalue',size='z_score_abs', \\\n",
    "#                     alpha=.5, palette=\"dark\", height=12, data=gene_results_df)\n",
    "        sns.relplot(x='pos',y='log10_pvalue',size='z_score_abs', \\\n",
    "                    alpha=.5, palette=\"dark\", height=12, data=gene_results_df)        \n",
    "\n",
    "        min_y = round(min(gene_results_df['log10_pvalue']))\n",
    "\n",
    "        plt.plot([gene_start, gene_stop], [min_y, min_y], linewidth=3)\n",
    "        plt.text(gene_stop+10000,min_y,gene_name,fontsize='small')\n",
    "#         plt.plot([0, 0], [min_y, min_y], linewidth=3)\n",
    "#         plt.text(0+10000,min_y,gene_name,fontsize='small')\n",
    "\n",
    "\n",
    "        plt.title(f'{gene_name} eQTL',fontsize='large') \n",
    "        plt.show()\n",
    "\n",
    "#     plot_out_file_name = f'{WRKDIR}/plink/images/{gene_name}.local_man.png'\n",
    "#     plt.savefig(plot_out_file_name,format='png',dpi=600,bbox_inches='tight')\n",
    "    \n",
    "    return"
   ]
  },
  {
   "cell_type": "code",
   "execution_count": null,
   "metadata": {},
   "outputs": [],
   "source": [
    "genes_oi_df = gencode_df.loc[gencode_df['gene_name'].isin(genes)]\n",
    "print(genes_oi_df.shape)\n",
    "gene_ids = genes_oi_df['gene_id'].unique()\n",
    "print(gene_ids)"
   ]
  },
  {
   "cell_type": "code",
   "execution_count": null,
   "metadata": {},
   "outputs": [],
   "source": [
    "%%time\n",
    "\n",
    "for gene_id in gene_ids:\n",
    "    gene_df = genes_oi_df.loc[genes_oi_df['gene_id'] == gene_id]\n",
    "    print(gene_df['seqname'].unique()[0])\n",
    "    chrom = gene_df['seqname'].unique()[0]\n",
    "    gene_name = gene_df['gene_name'].unique()[0]\n",
    "    gene_start = gene_df['start'].min()\n",
    "    gene_stop = gene_df['end'].max()\n",
    "    # now load the chromosome eqtl results and extract specific gene results\n",
    "    chrom_eqtl_df = pd.read_parquet(f'{tensorqtl_dir}/{cohort_build}.cis_qtl_pairs.{chrom}.parquet')\n",
    "    chrom_bim_df = pd.read_csv(f'{genos_dir}/{cohort_version}.{chrom}.bfile.bim', \n",
    "                               header=None, sep='\\s+')\n",
    "    chrom_bim_df.columns = ['chr', 'name', 'cm', 'pos', 'a1', 'a2']\n",
    "    chrom_eqtl_df = chrom_eqtl_df.merge(chrom_bim_df, how='inner', \n",
    "                                    left_on='variant_id', right_on='name')    \n",
    "    print(chrom_eqtl_df.shape)\n",
    "    gene_eqtl_df = chrom_eqtl_df.loc[chrom_eqtl_df['phenotype_id'] == gene_id]\n",
    "    print(gene_eqtl_df.shape)\n",
    "    plot_eqtl_manhattan(gene_id, gene_name, chrom, gene_start, gene_stop, gene_eqtl_df)"
   ]
  },
  {
   "cell_type": "code",
   "execution_count": null,
   "metadata": {},
   "outputs": [],
   "source": []
  },
  {
   "cell_type": "code",
   "execution_count": null,
   "metadata": {},
   "outputs": [],
   "source": []
  }
 ],
 "metadata": {
  "environment": {
   "name": "pytorch-gpu.1-8.m65",
   "type": "gcloud",
   "uri": "gcr.io/deeplearning-platform-release/pytorch-gpu.1-8:m65"
  },
  "kernelspec": {
   "display_name": "Python 3",
   "language": "python",
   "name": "python3"
  },
  "language_info": {
   "codemirror_mode": {
    "name": "ipython",
    "version": 3
   },
   "file_extension": ".py",
   "mimetype": "text/x-python",
   "name": "python",
   "nbconvert_exporter": "python",
   "pygments_lexer": "ipython3",
   "version": "3.7.10"
  },
  "widgets": {
   "application/vnd.jupyter.widget-state+json": {
    "state": {},
    "version_major": 2,
    "version_minor": 0
   }
  }
 },
 "nbformat": 4,
 "nbformat_minor": 4
}
