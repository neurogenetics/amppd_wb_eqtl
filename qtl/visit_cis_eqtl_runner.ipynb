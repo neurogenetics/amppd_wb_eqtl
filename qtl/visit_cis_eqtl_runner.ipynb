{
 "cells": [
  {
   "cell_type": "markdown",
   "metadata": {},
   "source": [
    "## Notebook to runner for AMP-PD tissue and visit expression prep via papermill"
   ]
  },
  {
   "cell_type": "markdown",
   "metadata": {},
   "source": [
    "#### import libraries"
   ]
  },
  {
   "cell_type": "code",
   "execution_count": 1,
   "metadata": {},
   "outputs": [],
   "source": [
    "import pandas as pd\n",
    "import os\n",
    "import papermill as pm"
   ]
  },
  {
   "cell_type": "code",
   "execution_count": 2,
   "metadata": {},
   "outputs": [],
   "source": [
    "# base notebook to be run per tuple iteration\n",
    "base_notebook = '/home/jupyter/notebooks/visit_cis_eqtl_tensorqtl.ipynb'\n",
    "\n",
    "# setup iteration tuples\n",
    "cohort_names = ['biofind', 'pdbp', 'ppmi']\n",
    "version = 'amppdv1'\n",
    "tissue = 'wb'\n",
    "months = [0, 1, 6 , 12, 18, 24, 36]\n",
    "visit_names = ['BLM0T1', 'SVM0_5T1', 'SVM6T1', 'SVM12T1', 'SVM18T1', 'SVM24T1', 'SVM36T1']\n",
    "column_names = ['cohort', 'amp_abbr', 'version', 'tissue', 'visit', 'visit_name']\n",
    "# nb_combo_df = pd.DataFrame(data=X, columns=column_names)\n",
    "quant_type = 'genes'"
   ]
  },
  {
   "cell_type": "markdown",
   "metadata": {},
   "source": [
    "#### iterate over the tuples running the notebook per tuple"
   ]
  },
  {
   "cell_type": "code",
   "execution_count": null,
   "metadata": {},
   "outputs": [
    {
     "name": "stdout",
     "output_type": "stream",
     "text": [
      "{'cohort': 'biofind', 'version': 'amppdv1', 'tissue': 'wb', 'visit': 1, 'visit_name': 'SVM0_5T1'}\n",
      "/home/jupyter/notebooks/biofind/pm_gend_nbs/biofind.wb1_cis_eqtl_tensorqtl.ipynb\n"
     ]
    },
    {
     "data": {
      "application/vnd.jupyter.widget-view+json": {
       "model_id": "614a2b31b213432e90cc4359c6420c07",
       "version_major": 2,
       "version_minor": 0
      },
      "text/plain": [
       "Executing:   0%|          | 0/48 [00:00<?, ?cell/s]"
      ]
     },
     "metadata": {},
     "output_type": "display_data"
    },
    {
     "name": "stderr",
     "output_type": "stream",
     "text": [
      "Autosave too slow: 7.89 sec, over 25% limit. Backing off to 60 sec\n"
     ]
    },
    {
     "name": "stdout",
     "output_type": "stream",
     "text": [
      "{'cohort': 'pdbp', 'version': 'amppdv1', 'tissue': 'wb', 'visit': 0, 'visit_name': 'BLM0T1'}\n",
      "/home/jupyter/notebooks/pdbp/pm_gend_nbs/pdbp.wb0_cis_eqtl_tensorqtl.ipynb\n"
     ]
    },
    {
     "data": {
      "application/vnd.jupyter.widget-view+json": {
       "model_id": "b85ec3e945d7476bab12c7b84240ce1b",
       "version_major": 2,
       "version_minor": 0
      },
      "text/plain": [
       "Executing:   0%|          | 0/48 [00:00<?, ?cell/s]"
      ]
     },
     "metadata": {},
     "output_type": "display_data"
    },
    {
     "name": "stderr",
     "output_type": "stream",
     "text": [
      "Autosave too slow: 10.20 sec, over 25% limit. Backing off to 60 sec\n"
     ]
    },
    {
     "name": "stdout",
     "output_type": "stream",
     "text": [
      "{'cohort': 'pdbp', 'version': 'amppdv1', 'tissue': 'wb', 'visit': 6, 'visit_name': 'SVM6T1'}\n",
      "/home/jupyter/notebooks/pdbp/pm_gend_nbs/pdbp.wb6_cis_eqtl_tensorqtl.ipynb\n"
     ]
    },
    {
     "data": {
      "application/vnd.jupyter.widget-view+json": {
       "model_id": "019f0e313d4a43678f14e6174fd499bd",
       "version_major": 2,
       "version_minor": 0
      },
      "text/plain": [
       "Executing:   0%|          | 0/48 [00:00<?, ?cell/s]"
      ]
     },
     "metadata": {},
     "output_type": "display_data"
    },
    {
     "name": "stderr",
     "output_type": "stream",
     "text": [
      "Autosave too slow: 8.98 sec, over 25% limit. Backing off to 60 sec\n"
     ]
    },
    {
     "name": "stdout",
     "output_type": "stream",
     "text": [
      "{'cohort': 'pdbp', 'version': 'amppdv1', 'tissue': 'wb', 'visit': 12, 'visit_name': 'SVM12T1'}\n",
      "/home/jupyter/notebooks/pdbp/pm_gend_nbs/pdbp.wb12_cis_eqtl_tensorqtl.ipynb\n"
     ]
    },
    {
     "data": {
      "application/vnd.jupyter.widget-view+json": {
       "model_id": "59b2f3cd579f412a9ad335c4b564f241",
       "version_major": 2,
       "version_minor": 0
      },
      "text/plain": [
       "Executing:   0%|          | 0/48 [00:00<?, ?cell/s]"
      ]
     },
     "metadata": {},
     "output_type": "display_data"
    },
    {
     "name": "stderr",
     "output_type": "stream",
     "text": [
      "Autosave too slow: 8.62 sec, over 25% limit. Backing off to 60 sec\n"
     ]
    },
    {
     "name": "stdout",
     "output_type": "stream",
     "text": [
      "{'cohort': 'pdbp', 'version': 'amppdv1', 'tissue': 'wb', 'visit': 18, 'visit_name': 'SVM18T1'}\n",
      "/home/jupyter/notebooks/pdbp/pm_gend_nbs/pdbp.wb18_cis_eqtl_tensorqtl.ipynb\n"
     ]
    },
    {
     "data": {
      "application/vnd.jupyter.widget-view+json": {
       "model_id": "075295dad2b0424796cbf9959896737f",
       "version_major": 2,
       "version_minor": 0
      },
      "text/plain": [
       "Executing:   0%|          | 0/48 [00:00<?, ?cell/s]"
      ]
     },
     "metadata": {},
     "output_type": "display_data"
    }
   ],
   "source": [
    "%%time\n",
    "\n",
    "for cohort in cohort_names:\n",
    "    out_nb_dir = f'/home/jupyter/notebooks/{cohort}/pm_gend_nbs'\n",
    "    # make sure the notebook output dir exists\n",
    "    os.makedirs(out_nb_dir, exist_ok=True)\n",
    "    wrk_dir = f'/home/jupyter/{cohort}'\n",
    "    visits = zip(months, visit_names)\n",
    "    for month, visit in visits:\n",
    "        # before running prep notebook make expr data for the cohort and visit\n",
    "        src_expression_matrix = f'{wrk_dir}/expression/{cohort}.{tissue}{month}.norm.adj.bed.gz'\n",
    "        if os.path.isfile(src_expression_matrix):\n",
    "            param_dict = {'cohort': cohort, 'version': version, \n",
    "                          'tissue': tissue, 'visit': month, 'visit_name': visit}\n",
    "            out_notebook = f'{out_nb_dir}/{cohort}.{tissue}{month}_cis_eqtl_tensorqtl.ipynb'\n",
    "            print(param_dict)\n",
    "            print(out_notebook)\n",
    "            pm.execute_notebook(input_path=base_notebook, output_path=out_notebook, \n",
    "                                parameters=param_dict)"
   ]
  },
  {
   "cell_type": "code",
   "execution_count": null,
   "metadata": {},
   "outputs": [],
   "source": []
  }
 ],
 "metadata": {
  "environment": {
   "name": "pytorch-gpu.1-8.m65",
   "type": "gcloud",
   "uri": "gcr.io/deeplearning-platform-release/pytorch-gpu.1-8:m65"
  },
  "kernelspec": {
   "display_name": "Python 3",
   "language": "python",
   "name": "python3"
  },
  "language_info": {
   "codemirror_mode": {
    "name": "ipython",
    "version": 3
   },
   "file_extension": ".py",
   "mimetype": "text/x-python",
   "name": "python",
   "nbconvert_exporter": "python",
   "pygments_lexer": "ipython3",
   "version": "3.7.10"
  }
 },
 "nbformat": 4,
 "nbformat_minor": 4
}
