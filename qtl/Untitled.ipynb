{
 "cells": [
  {
   "cell_type": "code",
   "execution_count": 1,
   "id": "64ae6eb1",
   "metadata": {},
   "outputs": [],
   "source": [
    "import pandas as pd\n",
    "\n",
    "home_dir = '/home/jupyter'\n",
    "dexpr_file = f'{home_dir}/ppmi/results/ppmi.replicated.expr_time_mm_and_mmcov.csv'\n",
    "eqtl_file = f'{home_dir}/ppmi/results/ppmi.pdbp.replicated.wb.cis.csv'\n",
    "eqtl_file = f'{home_dir}/pdbp/tensorqtl/pdbp.wb0.cis_qtl_pairs.chr12.parquet'"
   ]
  },
  {
   "cell_type": "code",
   "execution_count": 3,
   "id": "c1230d3e",
   "metadata": {},
   "outputs": [
    {
     "name": "stdout",
     "output_type": "stream",
     "text": [
      "(4875005, 9)\n"
     ]
    },
    {
     "data": {
      "text/html": [
       "<div>\n",
       "<style scoped>\n",
       "    .dataframe tbody tr th:only-of-type {\n",
       "        vertical-align: middle;\n",
       "    }\n",
       "\n",
       "    .dataframe tbody tr th {\n",
       "        vertical-align: top;\n",
       "    }\n",
       "\n",
       "    .dataframe thead th {\n",
       "        text-align: right;\n",
       "    }\n",
       "</style>\n",
       "<table border=\"1\" class=\"dataframe\">\n",
       "  <thead>\n",
       "    <tr style=\"text-align: right;\">\n",
       "      <th></th>\n",
       "      <th>phenotype_id</th>\n",
       "      <th>variant_id</th>\n",
       "      <th>tss_distance</th>\n",
       "      <th>af</th>\n",
       "      <th>ma_samples</th>\n",
       "      <th>ma_count</th>\n",
       "      <th>pval_nominal</th>\n",
       "      <th>slope</th>\n",
       "      <th>slope_se</th>\n",
       "    </tr>\n",
       "  </thead>\n",
       "  <tbody>\n",
       "    <tr>\n",
       "      <th>0</th>\n",
       "      <td>ENSG00000196387.9</td>\n",
       "      <td>rs111293448</td>\n",
       "      <td>-999141</td>\n",
       "      <td>0.054054</td>\n",
       "      <td>127</td>\n",
       "      <td>128</td>\n",
       "      <td>0.376488</td>\n",
       "      <td>0.080400</td>\n",
       "      <td>0.090876</td>\n",
       "    </tr>\n",
       "    <tr>\n",
       "      <th>1</th>\n",
       "      <td>ENSG00000196387.9</td>\n",
       "      <td>rs150892313</td>\n",
       "      <td>-996466</td>\n",
       "      <td>0.054054</td>\n",
       "      <td>124</td>\n",
       "      <td>128</td>\n",
       "      <td>0.307331</td>\n",
       "      <td>-0.090654</td>\n",
       "      <td>0.088765</td>\n",
       "    </tr>\n",
       "    <tr>\n",
       "      <th>2</th>\n",
       "      <td>ENSG00000196387.9</td>\n",
       "      <td>rs11246916</td>\n",
       "      <td>-996353</td>\n",
       "      <td>0.049409</td>\n",
       "      <td>116</td>\n",
       "      <td>117</td>\n",
       "      <td>0.535880</td>\n",
       "      <td>0.058504</td>\n",
       "      <td>0.094478</td>\n",
       "    </tr>\n",
       "    <tr>\n",
       "      <th>3</th>\n",
       "      <td>ENSG00000196387.9</td>\n",
       "      <td>rs7305975</td>\n",
       "      <td>-996304</td>\n",
       "      <td>0.049831</td>\n",
       "      <td>117</td>\n",
       "      <td>118</td>\n",
       "      <td>0.519785</td>\n",
       "      <td>0.060600</td>\n",
       "      <td>0.094118</td>\n",
       "    </tr>\n",
       "    <tr>\n",
       "      <th>4</th>\n",
       "      <td>ENSG00000196387.9</td>\n",
       "      <td>rs150931528</td>\n",
       "      <td>-996272</td>\n",
       "      <td>0.049831</td>\n",
       "      <td>117</td>\n",
       "      <td>118</td>\n",
       "      <td>0.519785</td>\n",
       "      <td>0.060600</td>\n",
       "      <td>0.094118</td>\n",
       "    </tr>\n",
       "  </tbody>\n",
       "</table>\n",
       "</div>"
      ],
      "text/plain": [
       "        phenotype_id   variant_id  tss_distance        af  ma_samples  \\\n",
       "0  ENSG00000196387.9  rs111293448       -999141  0.054054         127   \n",
       "1  ENSG00000196387.9  rs150892313       -996466  0.054054         124   \n",
       "2  ENSG00000196387.9   rs11246916       -996353  0.049409         116   \n",
       "3  ENSG00000196387.9    rs7305975       -996304  0.049831         117   \n",
       "4  ENSG00000196387.9  rs150931528       -996272  0.049831         117   \n",
       "\n",
       "   ma_count  pval_nominal     slope  slope_se  \n",
       "0       128      0.376488  0.080400  0.090876  \n",
       "1       128      0.307331 -0.090654  0.088765  \n",
       "2       117      0.535880  0.058504  0.094478  \n",
       "3       118      0.519785  0.060600  0.094118  \n",
       "4       118      0.519785  0.060600  0.094118  "
      ]
     },
     "metadata": {},
     "output_type": "display_data"
    }
   ],
   "source": [
    "eqtl = pd.read_parquet(eqtl_file)\n",
    "print(eqtl.shape)\n",
    "display(eqtl.head())"
   ]
  },
  {
   "cell_type": "code",
   "execution_count": 4,
   "id": "6f500aae",
   "metadata": {},
   "outputs": [
    {
     "data": {
      "text/html": [
       "<div>\n",
       "<style scoped>\n",
       "    .dataframe tbody tr th:only-of-type {\n",
       "        vertical-align: middle;\n",
       "    }\n",
       "\n",
       "    .dataframe tbody tr th {\n",
       "        vertical-align: top;\n",
       "    }\n",
       "\n",
       "    .dataframe thead th {\n",
       "        text-align: right;\n",
       "    }\n",
       "</style>\n",
       "<table border=\"1\" class=\"dataframe\">\n",
       "  <thead>\n",
       "    <tr style=\"text-align: right;\">\n",
       "      <th></th>\n",
       "      <th>phenotype_id</th>\n",
       "      <th>variant_id</th>\n",
       "      <th>tss_distance</th>\n",
       "      <th>af</th>\n",
       "      <th>ma_samples</th>\n",
       "      <th>ma_count</th>\n",
       "      <th>pval_nominal</th>\n",
       "      <th>slope</th>\n",
       "      <th>slope_se</th>\n",
       "    </tr>\n",
       "  </thead>\n",
       "  <tbody>\n",
       "    <tr>\n",
       "      <th>690704</th>\n",
       "      <td>ENSG00000188906.15</td>\n",
       "      <td>rs76904798</td>\n",
       "      <td>23888</td>\n",
       "      <td>0.13598</td>\n",
       "      <td>301</td>\n",
       "      <td>322</td>\n",
       "      <td>0.000012</td>\n",
       "      <td>0.187589</td>\n",
       "      <td>0.04267</td>\n",
       "    </tr>\n",
       "  </tbody>\n",
       "</table>\n",
       "</div>"
      ],
      "text/plain": [
       "              phenotype_id  variant_id  tss_distance       af  ma_samples  \\\n",
       "690704  ENSG00000188906.15  rs76904798         23888  0.13598         301   \n",
       "\n",
       "        ma_count  pval_nominal     slope  slope_se  \n",
       "690704       322      0.000012  0.187589   0.04267  "
      ]
     },
     "execution_count": 4,
     "metadata": {},
     "output_type": "execute_result"
    }
   ],
   "source": [
    "eqtl.loc[(eqtl['phenotype_id'] == 'ENSG00000188906.15') & \n",
    "         (eqtl['variant_id'].isin(['rs76904798', 'rs34637584']))]"
   ]
  },
  {
   "cell_type": "code",
   "execution_count": 2,
   "id": "7032a780",
   "metadata": {},
   "outputs": [
    {
     "name": "stdout",
     "output_type": "stream",
     "text": [
      "(9852, 7)\n"
     ]
    },
    {
     "data": {
      "text/html": [
       "<div>\n",
       "<style scoped>\n",
       "    .dataframe tbody tr th:only-of-type {\n",
       "        vertical-align: middle;\n",
       "    }\n",
       "\n",
       "    .dataframe tbody tr th {\n",
       "        vertical-align: top;\n",
       "    }\n",
       "\n",
       "    .dataframe thead th {\n",
       "        text-align: right;\n",
       "    }\n",
       "</style>\n",
       "<table border=\"1\" class=\"dataframe\">\n",
       "  <thead>\n",
       "    <tr style=\"text-align: right;\">\n",
       "      <th></th>\n",
       "      <th>feature</th>\n",
       "      <th>coef</th>\n",
       "      <th>stderr</th>\n",
       "      <th>term_cnt</th>\n",
       "      <th>p-value</th>\n",
       "      <th>bh_fdr</th>\n",
       "      <th>cohort</th>\n",
       "    </tr>\n",
       "  </thead>\n",
       "  <tbody>\n",
       "    <tr>\n",
       "      <th>0</th>\n",
       "      <td>ENSG00000263812.5</td>\n",
       "      <td>0.002463</td>\n",
       "      <td>0.000966</td>\n",
       "      <td>3</td>\n",
       "      <td>1.077182e-02</td>\n",
       "      <td>2.414147e-02</td>\n",
       "      <td>PP</td>\n",
       "    </tr>\n",
       "    <tr>\n",
       "      <th>1</th>\n",
       "      <td>ENSG00000142230.11</td>\n",
       "      <td>-0.008054</td>\n",
       "      <td>0.001119</td>\n",
       "      <td>3</td>\n",
       "      <td>6.225744e-13</td>\n",
       "      <td>1.682146e-11</td>\n",
       "      <td>PP</td>\n",
       "    </tr>\n",
       "    <tr>\n",
       "      <th>2</th>\n",
       "      <td>ENSG00000185164.14</td>\n",
       "      <td>0.002418</td>\n",
       "      <td>0.000926</td>\n",
       "      <td>3</td>\n",
       "      <td>9.054107e-03</td>\n",
       "      <td>2.074218e-02</td>\n",
       "      <td>PP</td>\n",
       "    </tr>\n",
       "    <tr>\n",
       "      <th>3</th>\n",
       "      <td>ENSG00000207166.1</td>\n",
       "      <td>0.007776</td>\n",
       "      <td>0.001026</td>\n",
       "      <td>3</td>\n",
       "      <td>3.499672e-14</td>\n",
       "      <td>1.188200e-12</td>\n",
       "      <td>PP</td>\n",
       "    </tr>\n",
       "    <tr>\n",
       "      <th>4</th>\n",
       "      <td>ENSG00000246731.2</td>\n",
       "      <td>-0.003225</td>\n",
       "      <td>0.001123</td>\n",
       "      <td>3</td>\n",
       "      <td>4.064190e-03</td>\n",
       "      <td>1.034898e-02</td>\n",
       "      <td>PP</td>\n",
       "    </tr>\n",
       "  </tbody>\n",
       "</table>\n",
       "</div>"
      ],
      "text/plain": [
       "              feature      coef    stderr  term_cnt       p-value  \\\n",
       "0   ENSG00000263812.5  0.002463  0.000966         3  1.077182e-02   \n",
       "1  ENSG00000142230.11 -0.008054  0.001119         3  6.225744e-13   \n",
       "2  ENSG00000185164.14  0.002418  0.000926         3  9.054107e-03   \n",
       "3   ENSG00000207166.1  0.007776  0.001026         3  3.499672e-14   \n",
       "4   ENSG00000246731.2 -0.003225  0.001123         3  4.064190e-03   \n",
       "\n",
       "         bh_fdr cohort  \n",
       "0  2.414147e-02     PP  \n",
       "1  1.682146e-11     PP  \n",
       "2  2.074218e-02     PP  \n",
       "3  1.188200e-12     PP  \n",
       "4  1.034898e-02     PP  "
      ]
     },
     "metadata": {},
     "output_type": "display_data"
    }
   ],
   "source": [
    "dexpr = pd.read_csv(dexpr_file)\n",
    "print(dexpr.shape)\n",
    "display(dexpr.head())"
   ]
  },
  {
   "cell_type": "code",
   "execution_count": 2,
   "id": "ebe4ad92",
   "metadata": {},
   "outputs": [
    {
     "ename": "ParserError",
     "evalue": "Error tokenizing data. C error: Expected 3 fields in line 65, saw 4\n",
     "output_type": "error",
     "traceback": [
      "\u001b[0;31m---------------------------------------------------------------------------\u001b[0m",
      "\u001b[0;31mParserError\u001b[0m                               Traceback (most recent call last)",
      "\u001b[0;32m<ipython-input-2-4a21bedd6584>\u001b[0m in \u001b[0;36m<module>\u001b[0;34m\u001b[0m\n\u001b[0;32m----> 1\u001b[0;31m \u001b[0meqtl\u001b[0m \u001b[0;34m=\u001b[0m \u001b[0mpd\u001b[0m\u001b[0;34m.\u001b[0m\u001b[0mread_csv\u001b[0m\u001b[0;34m(\u001b[0m\u001b[0meqtl_file\u001b[0m\u001b[0;34m)\u001b[0m\u001b[0;34m\u001b[0m\u001b[0;34m\u001b[0m\u001b[0m\n\u001b[0m\u001b[1;32m      2\u001b[0m \u001b[0mprint\u001b[0m\u001b[0;34m(\u001b[0m\u001b[0meqtl\u001b[0m\u001b[0;34m.\u001b[0m\u001b[0mshape\u001b[0m\u001b[0;34m)\u001b[0m\u001b[0;34m\u001b[0m\u001b[0;34m\u001b[0m\u001b[0m\n\u001b[1;32m      3\u001b[0m \u001b[0mdisplay\u001b[0m\u001b[0;34m(\u001b[0m\u001b[0meqtl\u001b[0m\u001b[0;34m.\u001b[0m\u001b[0mhead\u001b[0m\u001b[0;34m(\u001b[0m\u001b[0;34m)\u001b[0m\u001b[0;34m)\u001b[0m\u001b[0;34m\u001b[0m\u001b[0;34m\u001b[0m\u001b[0m\n",
      "\u001b[0;32m/opt/conda/lib/python3.7/site-packages/pandas/io/parsers.py\u001b[0m in \u001b[0;36mread_csv\u001b[0;34m(filepath_or_buffer, sep, delimiter, header, names, index_col, usecols, squeeze, prefix, mangle_dupe_cols, dtype, engine, converters, true_values, false_values, skipinitialspace, skiprows, skipfooter, nrows, na_values, keep_default_na, na_filter, verbose, skip_blank_lines, parse_dates, infer_datetime_format, keep_date_col, date_parser, dayfirst, cache_dates, iterator, chunksize, compression, thousands, decimal, lineterminator, quotechar, quoting, doublequote, escapechar, comment, encoding, dialect, error_bad_lines, warn_bad_lines, delim_whitespace, low_memory, memory_map, float_precision, storage_options)\u001b[0m\n\u001b[1;32m    608\u001b[0m     \u001b[0mkwds\u001b[0m\u001b[0;34m.\u001b[0m\u001b[0mupdate\u001b[0m\u001b[0;34m(\u001b[0m\u001b[0mkwds_defaults\u001b[0m\u001b[0;34m)\u001b[0m\u001b[0;34m\u001b[0m\u001b[0;34m\u001b[0m\u001b[0m\n\u001b[1;32m    609\u001b[0m \u001b[0;34m\u001b[0m\u001b[0m\n\u001b[0;32m--> 610\u001b[0;31m     \u001b[0;32mreturn\u001b[0m \u001b[0m_read\u001b[0m\u001b[0;34m(\u001b[0m\u001b[0mfilepath_or_buffer\u001b[0m\u001b[0;34m,\u001b[0m \u001b[0mkwds\u001b[0m\u001b[0;34m)\u001b[0m\u001b[0;34m\u001b[0m\u001b[0;34m\u001b[0m\u001b[0m\n\u001b[0m\u001b[1;32m    611\u001b[0m \u001b[0;34m\u001b[0m\u001b[0m\n\u001b[1;32m    612\u001b[0m \u001b[0;34m\u001b[0m\u001b[0m\n",
      "\u001b[0;32m/opt/conda/lib/python3.7/site-packages/pandas/io/parsers.py\u001b[0m in \u001b[0;36m_read\u001b[0;34m(filepath_or_buffer, kwds)\u001b[0m\n\u001b[1;32m    466\u001b[0m \u001b[0;34m\u001b[0m\u001b[0m\n\u001b[1;32m    467\u001b[0m     \u001b[0;32mwith\u001b[0m \u001b[0mparser\u001b[0m\u001b[0;34m:\u001b[0m\u001b[0;34m\u001b[0m\u001b[0;34m\u001b[0m\u001b[0m\n\u001b[0;32m--> 468\u001b[0;31m         \u001b[0;32mreturn\u001b[0m \u001b[0mparser\u001b[0m\u001b[0;34m.\u001b[0m\u001b[0mread\u001b[0m\u001b[0;34m(\u001b[0m\u001b[0mnrows\u001b[0m\u001b[0;34m)\u001b[0m\u001b[0;34m\u001b[0m\u001b[0;34m\u001b[0m\u001b[0m\n\u001b[0m\u001b[1;32m    469\u001b[0m \u001b[0;34m\u001b[0m\u001b[0m\n\u001b[1;32m    470\u001b[0m \u001b[0;34m\u001b[0m\u001b[0m\n",
      "\u001b[0;32m/opt/conda/lib/python3.7/site-packages/pandas/io/parsers.py\u001b[0m in \u001b[0;36mread\u001b[0;34m(self, nrows)\u001b[0m\n\u001b[1;32m   1055\u001b[0m     \u001b[0;32mdef\u001b[0m \u001b[0mread\u001b[0m\u001b[0;34m(\u001b[0m\u001b[0mself\u001b[0m\u001b[0;34m,\u001b[0m \u001b[0mnrows\u001b[0m\u001b[0;34m=\u001b[0m\u001b[0;32mNone\u001b[0m\u001b[0;34m)\u001b[0m\u001b[0;34m:\u001b[0m\u001b[0;34m\u001b[0m\u001b[0;34m\u001b[0m\u001b[0m\n\u001b[1;32m   1056\u001b[0m         \u001b[0mnrows\u001b[0m \u001b[0;34m=\u001b[0m \u001b[0mvalidate_integer\u001b[0m\u001b[0;34m(\u001b[0m\u001b[0;34m\"nrows\"\u001b[0m\u001b[0;34m,\u001b[0m \u001b[0mnrows\u001b[0m\u001b[0;34m)\u001b[0m\u001b[0;34m\u001b[0m\u001b[0;34m\u001b[0m\u001b[0m\n\u001b[0;32m-> 1057\u001b[0;31m         \u001b[0mindex\u001b[0m\u001b[0;34m,\u001b[0m \u001b[0mcolumns\u001b[0m\u001b[0;34m,\u001b[0m \u001b[0mcol_dict\u001b[0m \u001b[0;34m=\u001b[0m \u001b[0mself\u001b[0m\u001b[0;34m.\u001b[0m\u001b[0m_engine\u001b[0m\u001b[0;34m.\u001b[0m\u001b[0mread\u001b[0m\u001b[0;34m(\u001b[0m\u001b[0mnrows\u001b[0m\u001b[0;34m)\u001b[0m\u001b[0;34m\u001b[0m\u001b[0;34m\u001b[0m\u001b[0m\n\u001b[0m\u001b[1;32m   1058\u001b[0m \u001b[0;34m\u001b[0m\u001b[0m\n\u001b[1;32m   1059\u001b[0m         \u001b[0;32mif\u001b[0m \u001b[0mindex\u001b[0m \u001b[0;32mis\u001b[0m \u001b[0;32mNone\u001b[0m\u001b[0;34m:\u001b[0m\u001b[0;34m\u001b[0m\u001b[0;34m\u001b[0m\u001b[0m\n",
      "\u001b[0;32m/opt/conda/lib/python3.7/site-packages/pandas/io/parsers.py\u001b[0m in \u001b[0;36mread\u001b[0;34m(self, nrows)\u001b[0m\n\u001b[1;32m   2059\u001b[0m     \u001b[0;32mdef\u001b[0m \u001b[0mread\u001b[0m\u001b[0;34m(\u001b[0m\u001b[0mself\u001b[0m\u001b[0;34m,\u001b[0m \u001b[0mnrows\u001b[0m\u001b[0;34m=\u001b[0m\u001b[0;32mNone\u001b[0m\u001b[0;34m)\u001b[0m\u001b[0;34m:\u001b[0m\u001b[0;34m\u001b[0m\u001b[0;34m\u001b[0m\u001b[0m\n\u001b[1;32m   2060\u001b[0m         \u001b[0;32mtry\u001b[0m\u001b[0;34m:\u001b[0m\u001b[0;34m\u001b[0m\u001b[0;34m\u001b[0m\u001b[0m\n\u001b[0;32m-> 2061\u001b[0;31m             \u001b[0mdata\u001b[0m \u001b[0;34m=\u001b[0m \u001b[0mself\u001b[0m\u001b[0;34m.\u001b[0m\u001b[0m_reader\u001b[0m\u001b[0;34m.\u001b[0m\u001b[0mread\u001b[0m\u001b[0;34m(\u001b[0m\u001b[0mnrows\u001b[0m\u001b[0;34m)\u001b[0m\u001b[0;34m\u001b[0m\u001b[0;34m\u001b[0m\u001b[0m\n\u001b[0m\u001b[1;32m   2062\u001b[0m         \u001b[0;32mexcept\u001b[0m \u001b[0mStopIteration\u001b[0m\u001b[0;34m:\u001b[0m\u001b[0;34m\u001b[0m\u001b[0;34m\u001b[0m\u001b[0m\n\u001b[1;32m   2063\u001b[0m             \u001b[0;32mif\u001b[0m \u001b[0mself\u001b[0m\u001b[0;34m.\u001b[0m\u001b[0m_first_chunk\u001b[0m\u001b[0;34m:\u001b[0m\u001b[0;34m\u001b[0m\u001b[0;34m\u001b[0m\u001b[0m\n",
      "\u001b[0;32mpandas/_libs/parsers.pyx\u001b[0m in \u001b[0;36mpandas._libs.parsers.TextReader.read\u001b[0;34m()\u001b[0m\n",
      "\u001b[0;32mpandas/_libs/parsers.pyx\u001b[0m in \u001b[0;36mpandas._libs.parsers.TextReader._read_low_memory\u001b[0;34m()\u001b[0m\n",
      "\u001b[0;32mpandas/_libs/parsers.pyx\u001b[0m in \u001b[0;36mpandas._libs.parsers.TextReader._read_rows\u001b[0;34m()\u001b[0m\n",
      "\u001b[0;32mpandas/_libs/parsers.pyx\u001b[0m in \u001b[0;36mpandas._libs.parsers.TextReader._tokenize_rows\u001b[0;34m()\u001b[0m\n",
      "\u001b[0;32mpandas/_libs/parsers.pyx\u001b[0m in \u001b[0;36mpandas._libs.parsers.raise_parser_error\u001b[0;34m()\u001b[0m\n",
      "\u001b[0;31mParserError\u001b[0m: Error tokenizing data. C error: Expected 3 fields in line 65, saw 4\n"
     ]
    }
   ],
   "source": [
    "eqtl = pd.read_csv(eqtl_file)\n",
    "print(eqtl.shape)\n",
    "display(eqtl.head())"
   ]
  },
  {
   "cell_type": "code",
   "execution_count": 6,
   "id": "9be5e744",
   "metadata": {},
   "outputs": [
    {
     "name": "stdout",
     "output_type": "stream",
     "text": [
      "4926\n",
      "5859\n"
     ]
    }
   ],
   "source": [
    "dexpr_features = dexpr['feature'].unique()\n",
    "eqtl_features = eqtl['phenotype_id'].unique()\n",
    "print(len(dexpr_features))\n",
    "print(len(eqtl_features))"
   ]
  },
  {
   "cell_type": "code",
   "execution_count": 8,
   "id": "6ddf9566",
   "metadata": {},
   "outputs": [
    {
     "data": {
      "text/plain": [
       "1818"
      ]
     },
     "execution_count": 8,
     "metadata": {},
     "output_type": "execute_result"
    }
   ],
   "source": [
    "len(set(dexpr_features) & set(eqtl_features))"
   ]
  },
  {
   "cell_type": "code",
   "execution_count": 9,
   "id": "dcfa59a3",
   "metadata": {},
   "outputs": [
    {
     "data": {
      "text/plain": [
       "0.3690621193666261"
      ]
     },
     "execution_count": 9,
     "metadata": {},
     "output_type": "execute_result"
    }
   ],
   "source": [
    "1818/4926"
   ]
  },
  {
   "cell_type": "code",
   "execution_count": 10,
   "id": "433c5d46",
   "metadata": {},
   "outputs": [
    {
     "data": {
      "text/plain": [
       "0.3102918586789555"
      ]
     },
     "execution_count": 10,
     "metadata": {},
     "output_type": "execute_result"
    }
   ],
   "source": [
    "1818/5859"
   ]
  },
  {
   "cell_type": "code",
   "execution_count": 11,
   "id": "acaee048",
   "metadata": {},
   "outputs": [
    {
     "data": {
      "text/plain": [
       "0.1212"
      ]
     },
     "execution_count": 11,
     "metadata": {},
     "output_type": "execute_result"
    }
   ],
   "source": [
    "1818/15000"
   ]
  },
  {
   "cell_type": "code",
   "execution_count": null,
   "id": "3c29f893",
   "metadata": {},
   "outputs": [],
   "source": []
  }
 ],
 "metadata": {
  "environment": {
   "name": "pytorch-gpu.1-8.m73",
   "type": "gcloud",
   "uri": "gcr.io/deeplearning-platform-release/pytorch-gpu.1-8:m73"
  },
  "kernelspec": {
   "display_name": "Python 3",
   "language": "python",
   "name": "python3"
  },
  "language_info": {
   "codemirror_mode": {
    "name": "ipython",
    "version": 3
   },
   "file_extension": ".py",
   "mimetype": "text/x-python",
   "name": "python",
   "nbconvert_exporter": "python",
   "pygments_lexer": "ipython3",
   "version": "3.7.10"
  }
 },
 "nbformat": 4,
 "nbformat_minor": 5
}
