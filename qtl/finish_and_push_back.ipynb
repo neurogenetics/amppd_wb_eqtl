{
 "cells": [
  {
   "cell_type": "markdown",
   "metadata": {},
   "source": [
    "## Notebook to do any finishing up and push back output to GCS"
   ]
  },
  {
   "cell_type": "code",
   "execution_count": 1,
   "metadata": {},
   "outputs": [
    {
     "name": "stdout",
     "output_type": "stream",
     "text": [
      "Thu Jul 15 03:57:22 UTC 2021\n"
     ]
    }
   ],
   "source": [
    "!date"
   ]
  },
  {
   "cell_type": "code",
   "execution_count": 2,
   "metadata": {},
   "outputs": [],
   "source": [
    "# parameter variables\n",
    "cohort_names = ['biofind', 'pdbp', 'ppmi']\n",
    "cohorts_and_amp = ['amppd'] + ['biofind', 'pdbp', 'ppmi']\n",
    "\n",
    "# directories\n",
    "home_dir = '/home/jupyter'\n",
    "nbs_dir = '/home/jupyter/notebooks'\n",
    "\n",
    "# bucket paths\n",
    "eqtl_bucket_path = f'gs://ppmi-wb-analysis/eqtl'\n",
    "nbs_bucket_path = f'{eqtl_bucket_path}/notebooks'"
   ]
  },
  {
   "cell_type": "markdown",
   "metadata": {},
   "source": [
    "#### push the generated (keep) files back to GCS"
   ]
  },
  {
   "cell_type": "markdown",
   "metadata": {},
   "source": [
    "#### push sample info files back"
   ]
  },
  {
   "cell_type": "code",
   "execution_count": 11,
   "metadata": {},
   "outputs": [
    {
     "name": "stdout",
     "output_type": "stream",
     "text": [
      "amppd\n",
      "gsutil -mq cp -P /home/jupyter/amppd/sample_info/* gs://ppmi-wb-analysis/eqtl/amppd/sample_info/\n",
      "biofind\n",
      "gsutil -mq cp -P /home/jupyter/biofind/sample_info/* gs://ppmi-wb-analysis/eqtl/biofind/sample_info/\n",
      "pdbp\n",
      "gsutil -mq cp -P /home/jupyter/pdbp/sample_info/* gs://ppmi-wb-analysis/eqtl/pdbp/sample_info/\n",
      "ppmi\n",
      "gsutil -mq cp -P /home/jupyter/ppmi/sample_info/* gs://ppmi-wb-analysis/eqtl/ppmi/sample_info/\n",
      "CPU times: user 170 ms, sys: 90.3 ms, total: 261 ms\n",
      "Wall time: 8.96 s\n"
     ]
    }
   ],
   "source": [
    "%%time\n",
    "for cohort in cohorts_and_amp:\n",
    "    print(cohort)\n",
    "    info_dir = f'{home_dir}/{cohort}/sample_info'\n",
    "    info_bckt = f'{eqtl_bucket_path}/{cohort}/sample_info'\n",
    "    this_cmd = f'gsutil -mq cp -P {info_dir}/* {info_bckt}/'\n",
    "    print(this_cmd)\n",
    "    !{this_cmd}"
   ]
  },
  {
   "cell_type": "markdown",
   "metadata": {},
   "source": [
    "#### push the expression files back"
   ]
  },
  {
   "cell_type": "code",
   "execution_count": 12,
   "metadata": {},
   "outputs": [
    {
     "name": "stdout",
     "output_type": "stream",
     "text": [
      "amppd\n",
      "gsutil -mq cp -P /home/jupyter/amppd/expression/* gs://ppmi-wb-analysis/eqtl/amppd/expression/\n",
      "biofind\n",
      "gsutil -mq cp -P /home/jupyter/biofind/expression/* gs://ppmi-wb-analysis/eqtl/biofind/expression/\n",
      "pdbp\n",
      "gsutil -mq cp -P /home/jupyter/pdbp/expression/* gs://ppmi-wb-analysis/eqtl/pdbp/expression/\n",
      "ppmi\n",
      "gsutil -mq cp -P /home/jupyter/ppmi/expression/* gs://ppmi-wb-analysis/eqtl/ppmi/expression/\n",
      "CPU times: user 2.25 s, sys: 522 ms, total: 2.77 s\n",
      "Wall time: 2min 14s\n"
     ]
    }
   ],
   "source": [
    "%%time\n",
    "for cohort in cohorts_and_amp:\n",
    "    print(cohort)\n",
    "    expr_dir = f'{home_dir}/{cohort}/expression'\n",
    "    expr_bckt = f'{eqtl_bucket_path}/{cohort}/expression'\n",
    "    this_cmd = f'gsutil -mq cp -P {expr_dir}/* {expr_bckt}/'\n",
    "    print(this_cmd)\n",
    "    !{this_cmd}"
   ]
  },
  {
   "cell_type": "markdown",
   "metadata": {},
   "source": [
    "#### push the plink bfiles back"
   ]
  },
  {
   "cell_type": "code",
   "execution_count": 10,
   "metadata": {},
   "outputs": [
    {
     "name": "stdout",
     "output_type": "stream",
     "text": [
      "biofind\n",
      "gsutil -mq cp -P /home/jupyter/biofind/genotypes/biofind.amppdv1.bfile.* gs://ppmi-wb-analysis/eqtl/biofind/genotypes/\n",
      "pdbp\n",
      "gsutil -mq cp -P /home/jupyter/pdbp/genotypes/pdbp.amppdv1.bfile.* gs://ppmi-wb-analysis/eqtl/pdbp/genotypes/\n",
      "ppmi\n",
      "gsutil -mq cp -P /home/jupyter/ppmi/genotypes/ppmi.amppdv1.bfile.* gs://ppmi-wb-analysis/eqtl/ppmi/genotypes/\n",
      "CPU times: user 1.22 s, sys: 328 ms, total: 1.55 s\n",
      "Wall time: 1min 6s\n"
     ]
    }
   ],
   "source": [
    "%%time\n",
    "for cohort in cohort_names:\n",
    "    print(cohort)\n",
    "    genos_dir = f'{home_dir}/{cohort}/genotypes'\n",
    "    genos_bckt = f'{eqtl_bucket_path}/{cohort}/genotypes'\n",
    "    this_cmd = f'gsutil -mq cp -P {genos_dir}/{cohort}.amppdv1.bfile.* {genos_bckt}/'\n",
    "    print(this_cmd)\n",
    "    !{this_cmd}"
   ]
  },
  {
   "cell_type": "markdown",
   "metadata": {},
   "source": [
    "#### push the raw tensorqtl resutls back"
   ]
  },
  {
   "cell_type": "code",
   "execution_count": null,
   "metadata": {},
   "outputs": [
    {
     "name": "stdout",
     "output_type": "stream",
     "text": [
      "biofind\n",
      "gsutil -mq cp -P /home/jupyter/biofind/tensorqtl/* gs://ppmi-wb-analysis/eqtl/biofind/tensorqtl/\n",
      "pdbp\n",
      "gsutil -mq cp -P /home/jupyter/pdbp/tensorqtl/* gs://ppmi-wb-analysis/eqtl/pdbp/tensorqtl/\n",
      "ppmi\n",
      "gsutil -mq cp -P /home/jupyter/ppmi/tensorqtl/* gs://ppmi-wb-analysis/eqtl/ppmi/tensorqtl/\n",
      "CPU times: user 34.3 s, sys: 10.4 s, total: 44.7 s\n",
      "Wall time: 43min 19s\n"
     ]
    }
   ],
   "source": [
    "%%time\n",
    "for cohort in cohort_names:\n",
    "    print(cohort)\n",
    "    tensorqtl_dir = f'{home_dir}/{cohort}/tensorqtl'\n",
    "    tensorqtl_bucket_path = f'{eqtl_bucket_path}/{cohort}/tensorqtl'\n",
    "    this_cmd = f'gsutil -mq cp -P {tensorqtl_dir}/* {tensorqtl_bucket_path}/'\n",
    "    print(this_cmd)\n",
    "    !{this_cmd}"
   ]
  },
  {
   "cell_type": "markdown",
   "metadata": {},
   "source": [
    "#### push the suggestive tensorqtl results back"
   ]
  },
  {
   "cell_type": "code",
   "execution_count": 5,
   "metadata": {},
   "outputs": [
    {
     "name": "stdout",
     "output_type": "stream",
     "text": [
      "biofind\n",
      "gsutil -mq cp -P /home/jupyter/biofind/results/* gs://ppmi-wb-analysis/eqtl/biofind/results/\n",
      "pdbp\n",
      "gsutil -mq cp -P /home/jupyter/pdbp/results/* gs://ppmi-wb-analysis/eqtl/pdbp/results/\n",
      "ppmi\n",
      "gsutil -mq cp -P /home/jupyter/ppmi/results/* gs://ppmi-wb-analysis/eqtl/ppmi/results/\n",
      "CPU times: user 99.1 ms, sys: 37.6 ms, total: 137 ms\n",
      "Wall time: 6.94 s\n"
     ]
    }
   ],
   "source": [
    "%%time\n",
    "for cohort in cohort_names:\n",
    "    print(cohort)\n",
    "    results_dir = f'{home_dir}/{cohort}/results'\n",
    "    results_bucket_path = f'{eqtl_bucket_path}/{cohort}/results'\n",
    "    this_cmd = f'gsutil -mq cp -P {results_dir}/* {results_bucket_path}/'\n",
    "    print(this_cmd)\n",
    "    !{this_cmd}"
   ]
  },
  {
   "cell_type": "markdown",
   "metadata": {},
   "source": [
    "#### push the eqts results back"
   ]
  },
  {
   "cell_type": "code",
   "execution_count": 8,
   "metadata": {},
   "outputs": [
    {
     "name": "stdout",
     "output_type": "stream",
     "text": [
      "biofind\n",
      "gsutil -mq cp -P /home/jupyter/biofind/eqts/* gs://ppmi-wb-analysis/eqtl/biofind/eqts/\n",
      "pdbp\n",
      "gsutil -mq cp -P /home/jupyter/pdbp/eqts/* gs://ppmi-wb-analysis/eqtl/pdbp/eqts/\n",
      "ppmi\n",
      "gsutil -mq cp -P /home/jupyter/ppmi/eqts/* gs://ppmi-wb-analysis/eqtl/ppmi/eqts/\n",
      "CPU times: user 95.8 ms, sys: 58.9 ms, total: 155 ms\n",
      "Wall time: 6.13 s\n"
     ]
    }
   ],
   "source": [
    "%%time\n",
    "for cohort in cohort_names:\n",
    "    print(cohort)\n",
    "    eqts_dir = f'{home_dir}/{cohort}/eqts'\n",
    "    eqts_bucket_path = f'{eqtl_bucket_path}/{cohort}/eqts'\n",
    "    this_cmd = f'gsutil -mq cp -P {eqts_dir}/* {eqts_bucket_path}/'\n",
    "    print(this_cmd)\n",
    "    !{this_cmd}"
   ]
  },
  {
   "cell_type": "markdown",
   "metadata": {},
   "source": [
    "#### push all the original and generated notebooks back"
   ]
  },
  {
   "cell_type": "code",
   "execution_count": 3,
   "metadata": {},
   "outputs": [
    {
     "name": "stdout",
     "output_type": "stream",
     "text": [
      "gsutil -mq cp -P -r /home/jupyter/notebooks/* gs://ppmi-wb-analysis/eqtl/notebooks/\n",
      "CPU times: user 127 ms, sys: 74.2 ms, total: 201 ms\n",
      "Wall time: 9.42 s\n"
     ]
    }
   ],
   "source": [
    "%%time\n",
    "this_cmd = f'gsutil -mq cp -P -r {nbs_dir}/* {nbs_bucket_path}/'\n",
    "print(this_cmd)\n",
    "!{this_cmd}"
   ]
  },
  {
   "cell_type": "code",
   "execution_count": null,
   "metadata": {},
   "outputs": [],
   "source": []
  }
 ],
 "metadata": {
  "environment": {
   "name": "pytorch-gpu.1-8.m73",
   "type": "gcloud",
   "uri": "gcr.io/deeplearning-platform-release/pytorch-gpu.1-8:m73"
  },
  "kernelspec": {
   "display_name": "Python 3",
   "language": "python",
   "name": "python3"
  },
  "language_info": {
   "codemirror_mode": {
    "name": "ipython",
    "version": 3
   },
   "file_extension": ".py",
   "mimetype": "text/x-python",
   "name": "python",
   "nbconvert_exporter": "python",
   "pygments_lexer": "ipython3",
   "version": "3.7.10"
  },
  "widgets": {
   "application/vnd.jupyter.widget-state+json": {
    "state": {},
    "version_major": 2,
    "version_minor": 0
   }
  }
 },
 "nbformat": 4,
 "nbformat_minor": 4
}
