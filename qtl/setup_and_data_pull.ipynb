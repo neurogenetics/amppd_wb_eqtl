{
 "cells": [
  {
   "cell_type": "markdown",
   "metadata": {},
   "source": [
    "## Notebook to do any addtional setup on instance and pull input data for analysis"
   ]
  },
  {
   "cell_type": "code",
   "execution_count": 1,
   "metadata": {},
   "outputs": [
    {
     "name": "stdout",
     "output_type": "stream",
     "text": [
      "Tue Apr 27 21:45:19 UTC 2021\n"
     ]
    }
   ],
   "source": [
    "!date"
   ]
  },
  {
   "cell_type": "code",
   "execution_count": 1,
   "metadata": {},
   "outputs": [],
   "source": [
    "import os"
   ]
  },
  {
   "cell_type": "code",
   "execution_count": 33,
   "metadata": {},
   "outputs": [],
   "source": [
    "# parameter variables\n",
    "cohort = 'amppd'\n",
    "cohorts = ['biofind', 'pdbp', 'ppmi']\n",
    "amp_version = 'amppdv1'\n",
    "\n",
    "# directories for initial setup\n",
    "home_dir = '/home/jupyter'\n",
    "nbs_dir = f'{home_dir}/notebooks'\n",
    "gwas_dir = f'{home_dir}/gwas'\n",
    "\n",
    "# input data\n",
    "eqtl_bucket_path = f'gs://ppmi-wb-analysis/eqtl'\n",
    "nbs_bucket_path = f'{eqtl_bucket_path}/notebooks'\n",
    "gwas_bucket_path = f'{eqtl_bucket_path}/gwas'\n",
    "quants_bucket_path = f'{eqtl_bucket_path}/amppd/expression/matrix.genes.tsv'\n",
    "gencode_bucket_path = f'{eqtl_bucket_path}/amppd/expression/gencode.v29.primary_assembly.annotation.gtf.gz'\n",
    "tissue_genes_bckt_path = f'{eqtl_bucket_path}/amppd/expression/blood.elevated.features_targets.csv'\n",
    "\n",
    "lcl_gencode_gtf = f'{home_dir}/{cohort}/expression/gencode.v29.primary_assembly.annotation.gtf.gz'\n",
    "lcl_gencode_pkl = f'{home_dir}/{cohort}/expression/gencode.v29.primary_assembly.annotation.pkl'\n",
    "\n",
    "# constants\n",
    "capture_out = !(nproc)\n",
    "max_procs = int(capture_out[0])"
   ]
  },
  {
   "cell_type": "code",
   "execution_count": 35,
   "metadata": {},
   "outputs": [],
   "source": [
    "# make the dirs\n",
    "for this_cohort in [cohort] + cohorts:\n",
    "    os.makedirs(f'{home_dir}/{this_cohort}', exist_ok=True)\n",
    "    os.makedirs(f'{home_dir}/{this_cohort}/sample_info', exist_ok=True)    \n",
    "    os.makedirs(f'{home_dir}/{this_cohort}/expression', exist_ok=True)\n",
    "\n",
    "for this_cohort in [cohort] + cohorts:    \n",
    "    os.makedirs(f'{home_dir}/{this_cohort}/genotypes', exist_ok=True)\n",
    "    \n",
    "os.makedirs(gwas_dir, exist_ok=True)    "
   ]
  },
  {
   "cell_type": "markdown",
   "metadata": {},
   "source": [
    "#### pull down the rest of the analysis notebooks"
   ]
  },
  {
   "cell_type": "code",
   "execution_count": 8,
   "metadata": {},
   "outputs": [
    {
     "name": "stdout",
     "output_type": "stream",
     "text": [
      "gsutil -mq cp -n -P -r gs://ppmi-wb-analysis/eqtl/notebooks/* /home/jupyter/notebooks/\n",
      "total 436K\n",
      "-rw-r--r-- 1 jupyter jupyter 7.4K Apr 27 20:01 Readme.md\n",
      "drwxr-xr-x 2 jupyter jupyter 4.0K Apr 27 21:47 amppd\n",
      "-rw-r--r-- 1 jupyter jupyter 384K Apr 27 19:57 compare_day_indep_results.ipynb\n",
      "-rw-r--r-- 1 jupyter jupyter 5.4K Apr 27 19:57 finish_and_push_back.ipynb\n",
      "drwxr-xr-x 2 jupyter jupyter 4.0K Apr 27 21:47 foundin\n",
      "-rw-r--r-- 1 jupyter jupyter  25K Apr 27 21:47 setup_and_data_pull.ipynb\n"
     ]
    }
   ],
   "source": [
    "this_cmd = f'gsutil -mq cp -n -P -r {nbs_bucket_path}/* {nbs_dir}/'\n",
    "print(this_cmd)\n",
    "!{this_cmd}\n",
    "!ls -lh {nbs_dir}"
   ]
  },
  {
   "cell_type": "markdown",
   "metadata": {},
   "source": [
    "#### mirror down input data from the input buckets"
   ]
  },
  {
   "cell_type": "code",
   "execution_count": 10,
   "metadata": {},
   "outputs": [
    {
     "name": "stdout",
     "output_type": "stream",
     "text": [
      "gsutil -mq cp -P gs://ppmi-wb-analysis/eqtl/biofind/genotypes/* /home/jupyter/biofind/genotypes/\n",
      "gsutil -mq cp -P gs://ppmi-wb-analysis/eqtl/pdbp/genotypes/* /home/jupyter/pdbp/genotypes/\n",
      "gsutil -mq cp -P gs://ppmi-wb-analysis/eqtl/ppmi/genotypes/* /home/jupyter/ppmi/genotypes/\n"
     ]
    }
   ],
   "source": [
    "# pull genotypes to local disk\n",
    "for this_cohort in cohorts:\n",
    "    genos_bucket_path = f'{eqtl_bucket_path}/{this_cohort}/genotypes'\n",
    "    geno_dir = f'{home_dir}/{this_cohort}/genotypes'\n",
    "    this_cmd = f'gsutil -mq cp -P {genos_bucket_path}/* {geno_dir}/'\n",
    "    print(this_cmd)\n",
    "    !{this_cmd}\n",
    "#     !ls -lh {geno_dir}"
   ]
  },
  {
   "cell_type": "markdown",
   "metadata": {},
   "source": [
    "#### pull expression to local disk"
   ]
  },
  {
   "cell_type": "code",
   "execution_count": 11,
   "metadata": {},
   "outputs": [
    {
     "name": "stdout",
     "output_type": "stream",
     "text": [
      "gsutil -mq cp -P gs://ppmi-wb-analysis/eqtl/amppd/expression/matrix.genes.tsv /home/jupyter/amppd/expression/\n"
     ]
    }
   ],
   "source": [
    "this_cmd = f'gsutil -mq cp -P {quants_bucket_path} {home_dir}/{cohort}/expression/'\n",
    "print(this_cmd)\n",
    "!{this_cmd}"
   ]
  },
  {
   "cell_type": "markdown",
   "metadata": {},
   "source": [
    "#### pull gencode annotation file"
   ]
  },
  {
   "cell_type": "code",
   "execution_count": 32,
   "metadata": {},
   "outputs": [
    {
     "name": "stdout",
     "output_type": "stream",
     "text": [
      "gsutil -mq cp -P gs://ppmi-wb-analysis/eqtl/amppd/expression/gencode.v29.primary_assembly.annotation.gtf.gz /home/jupyter/amppd/expression/\n",
      "gsutil -mq cp -P gs://ppmi-wb-analysis/eqtl/amppd/expression/blood.elevated.features_targets.csv /home/jupyter/amppd/expression/\n",
      "total 20G\n",
      "-rw-r--r-- 1 jupyter jupyter  95M Apr 28 03:40 BF.SVM0_5T1.genes.csv\n",
      "-rw-r--r-- 1 jupyter jupyter  95M Apr 28 03:44 BF.all_visits.genes.hdf5\n",
      "-rw-r--r-- 1 jupyter jupyter 637M Apr 28 03:40 PD.BLM0T1.genes.csv\n",
      "-rw-r--r-- 1 jupyter jupyter 268M Apr 28 03:40 PD.SVM12T1.genes.csv\n",
      "-rw-r--r-- 1 jupyter jupyter 222M Apr 28 03:40 PD.SVM18T1.genes.csv\n",
      "-rw-r--r-- 1 jupyter jupyter 207M Apr 28 03:40 PD.SVM24T1.genes.csv\n",
      "-rw-r--r-- 1 jupyter jupyter 252M Apr 28 03:40 PD.SVM6T1.genes.csv\n",
      "-rw-r--r-- 1 jupyter jupyter 1.6G Apr 28 03:44 PD.all_visits.genes.hdf5\n",
      "-rw-r--r-- 1 jupyter jupyter 675M Apr 28 03:40 PP.BLM0T1.genes.csv\n",
      "-rw-r--r-- 1 jupyter jupyter 391M Apr 28 03:40 PP.SVM12T1.genes.csv\n",
      "-rw-r--r-- 1 jupyter jupyter 372M Apr 28 03:40 PP.SVM24T1.genes.csv\n",
      "-rw-r--r-- 1 jupyter jupyter 243M Apr 28 03:40 PP.SVM36T1.genes.csv\n",
      "-rw-r--r-- 1 jupyter jupyter 382M Apr 28 03:40 PP.SVM6T1.genes.csv\n",
      "-rw-r--r-- 1 jupyter jupyter 2.1G Apr 28 03:44 PP.all_visits.genes.hdf5\n",
      "-rw-r--r-- 1 jupyter jupyter 3.7G Apr 28 03:10 amppd.genes.hdf5\n",
      "-rw-r--r-- 1 jupyter jupyter 1.8G Apr 28 04:04 amppd.genes.norm.adj.hdf5\n",
      "-rw-r--r-- 1 jupyter jupyter 1.8G Apr 28 03:50 amppd.genes.norm.genes.hd5f\n",
      "-rw-r--r-- 1 jupyter jupyter  12K Apr 28 12:53 blood.elevated.features_targets.csv\n",
      "-rw-r--r-- 1 jupyter jupyter  38M Apr 28 12:53 gencode.v29.primary_assembly.annotation.gtf.gz\n",
      "-rw-r--r-- 1 jupyter jupyter 2.1G Apr 28 03:32 gencode.v29.primary_assembly.annotation.pkl\n",
      "-rw-r--r-- 1 jupyter jupyter 2.8G Apr 27 22:10 matrix.genes.tsv\n"
     ]
    }
   ],
   "source": [
    "this_cmd = f'gsutil -mq cp -P {gencode_bucket_path} {home_dir}/{cohort}/expression/'\n",
    "print(this_cmd)\n",
    "!{this_cmd}\n",
    "\n",
    "this_cmd = f'gsutil -mq cp -P {tissue_genes_bckt_path} {home_dir}/{cohort}/expression/'\n",
    "print(this_cmd)\n",
    "!{this_cmd}\n",
    "\n",
    "!ls -lh {home_dir}/{cohort}/expression/"
   ]
  },
  {
   "cell_type": "markdown",
   "metadata": {},
   "source": [
    "#### pull down the sample info"
   ]
  },
  {
   "cell_type": "code",
   "execution_count": 16,
   "metadata": {},
   "outputs": [
    {
     "name": "stdout",
     "output_type": "stream",
     "text": [
      "gsutil -mq cp -P gs://ppmi-wb-analysis/eqtl/amppd/sample_info/* /home/jupyter/amppd/sample_info/\n",
      "total 2.5M\n",
      "-rw-r--r-- 1 jupyter jupyter 896K Apr 27 22:12 amppd.wb.pred_cell_fracs.csv\n",
      "-rw-r--r-- 1 jupyter jupyter 856K Apr 27 22:12 amppd_demographicsPlus_2019_v1release_1015.csv\n",
      "-rw-r--r-- 1 jupyter jupyter 789K Apr 27 22:12 rna_quality_metrics.csv\n",
      "gsutil -mq cp -P gs://ppmi-wb-analysis/eqtl/biofind/sample_info/* /home/jupyter/biofind/sample_info/\n",
      "total 48K\n",
      "-rw-r--r-- 1 jupyter jupyter  160 Apr 27 22:12 biofind.freeze9.pca.eigenval\n",
      "-rw-r--r-- 1 jupyter jupyter  38K Apr 27 22:12 biofind.freeze9.pca.eigenvec\n",
      "-rw-r--r-- 1 jupyter jupyter 1.2K Apr 27 22:12 biofind.freeze9.pca.log\n",
      "gsutil -mq cp -P gs://ppmi-wb-analysis/eqtl/pdbp/sample_info/* /home/jupyter/pdbp/sample_info/\n",
      "total 368K\n",
      "-rw-r--r-- 1 jupyter jupyter  159 Apr 27 22:13 pdbp.freeze9.pca.eigenval\n",
      "-rw-r--r-- 1 jupyter jupyter 358K Apr 27 22:13 pdbp.freeze9.pca.eigenvec\n",
      "-rw-r--r-- 1 jupyter jupyter 1.2K Apr 27 22:13 pdbp.freeze9.pca.log\n",
      "gsutil -mq cp -P gs://ppmi-wb-analysis/eqtl/ppmi/sample_info/* /home/jupyter/ppmi/sample_info/\n",
      "total 348K\n",
      "-rw-r--r-- 1 jupyter jupyter  159 Apr 27 22:13 ppmi.freeze9.pca.eigenval\n",
      "-rw-r--r-- 1 jupyter jupyter 340K Apr 27 22:13 ppmi.freeze9.pca.eigenvec\n",
      "-rw-r--r-- 1 jupyter jupyter 1.2K Apr 27 22:13 ppmi.freeze9.pca.log\n"
     ]
    }
   ],
   "source": [
    "for this_cohort in [cohort] + cohorts:\n",
    "    info_bucket_path = f'{eqtl_bucket_path}/{this_cohort}/sample_info'\n",
    "    info_dir = f'{home_dir}/{this_cohort}/sample_info'\n",
    "    this_cmd = f'gsutil -mq cp -P {info_bucket_path}/* {info_dir}/'\n",
    "    print(this_cmd)\n",
    "    !{this_cmd}\n",
    "    !ls -lh {info_dir}"
   ]
  },
  {
   "cell_type": "markdown",
   "metadata": {},
   "source": [
    "#### pull down the gwas data"
   ]
  },
  {
   "cell_type": "code",
   "execution_count": 36,
   "metadata": {},
   "outputs": [
    {
     "name": "stdout",
     "output_type": "stream",
     "text": [
      "gsutil -mq cp -P gs://ppmi-wb-analysis/eqtl/gwas/* /home/jupyter/gwas/\n",
      "total 825M\n",
      "-rw-r--r-- 1 jupyter jupyter 6.9K Apr 29 02:30 pd.table_s2.clean.txt\n",
      "-rw-r--r-- 1 jupyter jupyter  15K Apr 29 02:30 pd_meta5v2_cojo_results.jma.cojo.csv\n",
      "-rw-r--r-- 1 jupyter jupyter 825M Apr 29 02:30 pdmeta_sumstats_hg38.h5\n"
     ]
    }
   ],
   "source": [
    "this_cmd = f'gsutil -mq cp -P {gwas_bucket_path}/* {gwas_dir}/'\n",
    "print(this_cmd)\n",
    "!{this_cmd}\n",
    "!ls -lh {gwas_dir}"
   ]
  },
  {
   "cell_type": "markdown",
   "metadata": {},
   "source": [
    "#### add plink2"
   ]
  },
  {
   "cell_type": "code",
   "execution_count": 17,
   "metadata": {},
   "outputs": [
    {
     "name": "stdout",
     "output_type": "stream",
     "text": [
      "--2021-04-27 22:13:06--  http://s3.amazonaws.com/plink2-assets/alpha2/plink2_linux_x86_64.zip\n",
      "Resolving s3.amazonaws.com (s3.amazonaws.com)... 52.216.146.221\n",
      "Connecting to s3.amazonaws.com (s3.amazonaws.com)|52.216.146.221|:80... connected.\n",
      "HTTP request sent, awaiting response... 200 OK\n",
      "Length: 8879151 (8.5M) [application/zip]\n",
      "Saving to: ‘/tmp/plink_linux_x86_64.zip’\n",
      "\n",
      "/tmp/plink_linux_x8 100%[===================>]   8.47M  28.4MB/s    in 0.3s    \n",
      "\n",
      "2021-04-27 22:13:06 (28.4 MB/s) - ‘/tmp/plink_linux_x86_64.zip’ saved [8879151/8879151]\n",
      "\n",
      "Archive:  /tmp/plink_linux_x86_64.zip\n",
      "  inflating: /tmp/plink/plink2       \n"
     ]
    }
   ],
   "source": [
    "!wget http://s3.amazonaws.com/plink2-assets/alpha2/plink2_linux_x86_64.zip -O /tmp/plink_linux_x86_64.zip\n",
    "!unzip /tmp/plink_linux_x86_64.zip -d /tmp/plink\n",
    "!rm -f /tmp/plink_linux_x86_64.zip\n",
    "!sudo mv /tmp/plink/plink2 /usr/local/bin/\n",
    "!rm -rf /tmp/plink"
   ]
  },
  {
   "cell_type": "code",
   "execution_count": 18,
   "metadata": {},
   "outputs": [
    {
     "name": "stdout",
     "output_type": "stream",
     "text": [
      "PLINK v2.00a2.3LM 64-bit Intel (24 Jan 2020)   www.cog-genomics.org/plink/2.0/\n",
      "(C) 2005-2020 Shaun Purcell, Christopher Chang   GNU General Public License v3\n",
      "\n",
      "  plink2 <input flag(s)...> [command flag(s)...] [other flag(s)...]\n",
      "  plink2 --help [flag name(s)...]\n",
      "\n",
      "Commands include --rm-dup list, --make-bpgen, --export, --freq, --geno-counts,\n",
      "--sample-counts, --missing, --hardy, --indep-pairwise, --ld, --sample-diff,\n",
      "--make-king, --king-cutoff, --write-samples, --write-snplist, --make-grm-list,\n",
      "--pca, --glm, --adjust-file, --score, --variant-score, --genotyping-rate,\n",
      "--pgen-info, --validate, and --zst-decompress.\n",
      "\n",
      "\"plink2 --help | more\" describes all functions.\n"
     ]
    }
   ],
   "source": [
    "!plink2"
   ]
  },
  {
   "cell_type": "markdown",
   "metadata": {},
   "source": [
    "#### add plink1.9"
   ]
  },
  {
   "cell_type": "code",
   "execution_count": 19,
   "metadata": {},
   "outputs": [
    {
     "name": "stdout",
     "output_type": "stream",
     "text": [
      "--2021-04-27 22:13:14--  http://s3.amazonaws.com/plink1-assets/plink_linux_x86_64_20201019.zip\n",
      "Resolving s3.amazonaws.com (s3.amazonaws.com)... 52.216.17.91\n",
      "Connecting to s3.amazonaws.com (s3.amazonaws.com)|52.216.17.91|:80... connected.\n",
      "HTTP request sent, awaiting response... 200 OK\n",
      "Length: 8916695 (8.5M) [application/zip]\n",
      "Saving to: ‘/tmp/plink_linux_x86_64_20201019.zip’\n",
      "\n",
      "/tmp/plink_linux_x8 100%[===================>]   8.50M  30.0MB/s    in 0.3s    \n",
      "\n",
      "2021-04-27 22:13:14 (30.0 MB/s) - ‘/tmp/plink_linux_x86_64_20201019.zip’ saved [8916695/8916695]\n",
      "\n",
      "Archive:  /tmp/plink_linux_x86_64_20201019.zip\n",
      "  inflating: /tmp/plink/plink        \n",
      "  inflating: /tmp/plink/LICENSE      \n",
      "  inflating: /tmp/plink/toy.ped      \n",
      "  inflating: /tmp/plink/toy.map      \n",
      "  inflating: /tmp/plink/prettify     \n"
     ]
    }
   ],
   "source": [
    "!wget http://s3.amazonaws.com/plink1-assets/plink_linux_x86_64_20201019.zip -O /tmp/plink_linux_x86_64_20201019.zip\n",
    "!unzip /tmp/plink_linux_x86_64_20201019.zip -d /tmp/plink\n",
    "!rm -f /tmp/plink_linux_x86_64_20201019.zip\n",
    "!sudo mv /tmp/plink/plink /usr/local/bin/\n",
    "!rm -rf /tmp/plink"
   ]
  },
  {
   "cell_type": "code",
   "execution_count": 20,
   "metadata": {},
   "outputs": [
    {
     "name": "stdout",
     "output_type": "stream",
     "text": [
      "PLINK v1.90b6.21 64-bit (19 Oct 2020)          www.cog-genomics.org/plink/1.9/\n",
      "(C) 2005-2020 Shaun Purcell, Christopher Chang   GNU General Public License v3\n",
      "\n",
      "  plink <input flag(s)...> [command flag(s)...] [other flag(s)...]\n",
      "  plink --help [flag name(s)...]\n",
      "\n",
      "Commands include --make-bed, --recode, --flip-scan, --merge-list,\n",
      "--write-snplist, --list-duplicate-vars, --freqx, --missing, --test-mishap,\n",
      "--hardy, --mendel, --ibc, --impute-sex, --indep-pairphase, --r2, --show-tags,\n",
      "--blocks, --distance, --genome, --homozyg, --make-rel, --make-grm-gz,\n",
      "--rel-cutoff, --cluster, --pca, --neighbour, --ibs-test, --regress-distance,\n",
      "--model, --bd, --gxe, --logistic, --dosage, --lasso, --test-missing,\n",
      "--make-perm-pheno, --tdt, --qfam, --annotate, --clump, --gene-report,\n",
      "--meta-analysis, --epistasis, --fast-epistasis, and --score.\n",
      "\n",
      "\"plink --help | more\" describes all functions (warning: long).\n"
     ]
    }
   ],
   "source": [
    "!plink"
   ]
  },
  {
   "cell_type": "markdown",
   "metadata": {},
   "source": [
    "#### install umap and ppscore"
   ]
  },
  {
   "cell_type": "code",
   "execution_count": 3,
   "metadata": {},
   "outputs": [],
   "source": [
    "!pip install -U --quiet umap-learn ppscore dask[complete] tables plotly-express"
   ]
  },
  {
   "cell_type": "code",
   "execution_count": 4,
   "metadata": {},
   "outputs": [],
   "source": [
    "import umap\n",
    "import ppscore\n",
    "import dask.dataframe as dd"
   ]
  },
  {
   "cell_type": "markdown",
   "metadata": {},
   "source": [
    "#### install tensorQTL\n",
    "there is an older version in pypi, but need a couple of the bug fixes so install from github"
   ]
  },
  {
   "cell_type": "code",
   "execution_count": 5,
   "metadata": {},
   "outputs": [],
   "source": [
    "# required by tensorQTL\n",
    "!pip install -U --quiet pandas-plink"
   ]
  },
  {
   "cell_type": "code",
   "execution_count": 25,
   "metadata": {},
   "outputs": [
    {
     "name": "stdout",
     "output_type": "stream",
     "text": [
      "Note: you may need to restart the kernel to use updated packages.\n"
     ]
    }
   ],
   "source": [
    "# install github works but need to pull code to comment some of the logging \n",
    "# so doesn't spill 1K's our lines output to notebook\n",
    "# pip install -U --quiet git+https://github.com/broadinstitute/tensorqtl.git"
   ]
  },
  {
   "cell_type": "code",
   "execution_count": null,
   "metadata": {},
   "outputs": [],
   "source": [
    "### NOTE: had some permission problems, used jupyterlab to clone the git\n",
    "\n",
    "# !git clone --quiet git@github.com:broadinstitute/tensorqtl.git\n",
    "# os.chdir(f'{nbs_dir}/tensorqtl')\n",
    "# !pip install -r install/requirements.txt"
   ]
  },
  {
   "cell_type": "markdown",
   "metadata": {},
   "source": [
    "#### if want to use Story q-value call with tensorQTL need to add R"
   ]
  },
  {
   "cell_type": "code",
   "execution_count": null,
   "metadata": {},
   "outputs": [],
   "source": [
    "# sudo apt-get --quiet install -y r-base build-essential libcurl4-gnutls-dev \\\n",
    "# libxml2-dev libssl-dev"
   ]
  },
  {
   "cell_type": "code",
   "execution_count": null,
   "metadata": {},
   "outputs": [],
   "source": [
    "#sudo -i R\n",
    "# install.packages(\"devtools\")\n",
    "# library(\"devtools\")\n",
    "# install_github(\"jdstorey/qvalue\")"
   ]
  },
  {
   "cell_type": "code",
   "execution_count": null,
   "metadata": {},
   "outputs": [],
   "source": []
  },
  {
   "cell_type": "code",
   "execution_count": 26,
   "metadata": {},
   "outputs": [
    {
     "name": "stdout",
     "output_type": "stream",
     "text": [
      "Warning: 'rfunc' cannot be imported. R and the 'rpy2' Python package are needed.\n"
     ]
    }
   ],
   "source": [
    "import tensorqtl"
   ]
  },
  {
   "cell_type": "markdown",
   "metadata": {},
   "source": [
    "#### convert the gencode gtf to easier to read format\n",
    "tool needs to be installed [gtf2csv](https://github.com/zyxue/gtf2csv)"
   ]
  },
  {
   "cell_type": "code",
   "execution_count": 27,
   "metadata": {},
   "outputs": [],
   "source": [
    "!pip install -U --quiet git+https://github.com/zyxue/gtf2csv.git#egg=gtf2csv"
   ]
  },
  {
   "cell_type": "markdown",
   "metadata": {},
   "source": [
    "#### converst gene annots gtf to pickle"
   ]
  },
  {
   "cell_type": "code",
   "execution_count": 30,
   "metadata": {},
   "outputs": [
    {
     "name": "stdout",
     "output_type": "stream",
     "text": [
      "gtf2csv --gtf /home/jupyter/amppd/expression/gencode.v29.primary_assembly.annotation.gtf.gz -m pkl -t 16 -o /home/jupyter/amppd/expression/gencode.v29.primary_assembly.annotation.pkl\n",
      "2021-04-28 03:30:52,794|INFO|will use 16 CPUs for parallel processing\n",
      "2021-04-28 03:30:52,794|INFO|reading /home/jupyter/amppd/expression/gencode.v29.primary_assembly.annotation.gtf.gz ...\n",
      "2021-04-28 03:31:05,268|INFO|time spent on read_gtf: 12.47s\n",
      "2021-04-28 03:31:05,268|INFO|1st pass of gtf to obtain multiplicity tags ...\n",
      "2021-04-28 03:31:10,620|INFO|multiplicity tags found: {'tag', 'ont'}\n",
      "2021-04-28 03:31:10,748|INFO|time spent on get_multiplicity_tags: 5.48s\n",
      "2021-04-28 03:31:10,748|INFO|2nd pass of gtf to classify multiplicity tags into low- and high-cardinality tags ...\n",
      "2021-04-28 03:31:24,751|INFO|2 low-cardinality tags found: [('tag', 63), ('ont', 6)]; 0 high-cardinality tags found: []\n",
      "2021-04-28 03:31:24,752|INFO|time spent on classify_multiplicity_tags: 14.00s\n",
      "2021-04-28 03:31:24,752|INFO|3rd pass of gtf to parse the attribute column and convert it into a dataframe ...\n",
      "2021-04-28 03:31:40,856|INFO|time spent on parse_attribute_column: 16.10s\n",
      "2021-04-28 03:31:40,856|INFO|converting to dataframe...\n",
      "2021-04-28 03:32:22,899|INFO|time spent on from_dict: 42.04s\n",
      "2021-04-28 03:32:24,841|INFO|time spent on concat: 1.69s\n",
      "2021-04-28 03:32:31,451|INFO|writing to /home/jupyter/amppd/expression/gencode.v29.primary_assembly.annotation.pkl ...\n"
     ]
    }
   ],
   "source": [
    "this_cmd = f'gtf2csv --gtf {lcl_gencode_gtf} -m pkl -t {max_procs} -o {lcl_gencode_pkl}'\n",
    "\n",
    "print(this_cmd)\n",
    "!{this_cmd}"
   ]
  },
  {
   "cell_type": "markdown",
   "metadata": {},
   "source": [
    "#### install bcftools"
   ]
  },
  {
   "cell_type": "code",
   "execution_count": 41,
   "metadata": {},
   "outputs": [
    {
     "name": "stdout",
     "output_type": "stream",
     "text": [
      "Reading package lists...\n",
      "Building dependency tree...\n",
      "Reading state information...\n",
      "The following additional packages will be installed:\n",
      "  automake autotools-dev bzip2-doc libltdl-dev libsigsegv2 libtool m4\n",
      "Suggested packages:\n",
      "  autoconf-archive gnu-standards autoconf-doc gettext libtool-doc liblzma-doc\n",
      "  ncurses-doc gfortran | fortran95-compiler gcj-jdk m4-doc\n",
      "The following NEW packages will be installed:\n",
      "  autoconf automake autotools-dev bzip2-doc libbz2-dev libltdl-dev liblzma-dev\n",
      "  libncurses-dev libsigsegv2 libtool libtool-bin m4\n",
      "0 upgraded, 12 newly installed, 0 to remove and 7 not upgraded.\n",
      "Need to get 3632 kB of archives.\n",
      "After this operation, 10.9 MB of additional disk space will be used.\n",
      "Get:1 http://deb.debian.org/debian buster/main amd64 libsigsegv2 amd64 2.12-2 [32.8 kB]\n",
      "Get:2 http://deb.debian.org/debian buster/main amd64 m4 amd64 1.4.18-2 [203 kB]\n",
      "Get:3 http://deb.debian.org/debian buster/main amd64 autoconf all 2.69-11 [341 kB]\n",
      "Get:4 http://deb.debian.org/debian buster/main amd64 autotools-dev all 20180224.1 [77.0 kB]\n",
      "Get:5 http://deb.debian.org/debian buster/main amd64 automake all 1:1.16.1-4 [771 kB]\n",
      "Get:6 http://deb.debian.org/debian buster/main amd64 bzip2-doc all 1.0.6-9.2~deb10u1 [493 kB]\n",
      "Get:7 http://deb.debian.org/debian buster/main amd64 libbz2-dev amd64 1.0.6-9.2~deb10u1 [30.2 kB]\n",
      "Get:8 http://deb.debian.org/debian buster/main amd64 libltdl-dev amd64 2.4.6-9 [162 kB]\n",
      "Get:9 http://deb.debian.org/debian buster/main amd64 liblzma-dev amd64 5.2.4-1 [210 kB]\n",
      "Get:10 http://deb.debian.org/debian buster/main amd64 libncurses-dev amd64 6.1+20181013-2+deb10u2 [333 kB]\n",
      "Get:11 http://deb.debian.org/debian buster/main amd64 libtool all 2.4.6-9 [547 kB]\n",
      "Get:12 http://deb.debian.org/debian buster/main amd64 libtool-bin amd64 2.4.6-9 [431 kB]\n",
      "Fetched 3632 kB in 0s (22.4 MB/s)\n",
      "Selecting previously unselected package libsigsegv2:amd64.\n",
      "(Reading database ... 93513 files and directories currently installed.)\n",
      "Preparing to unpack .../00-libsigsegv2_2.12-2_amd64.deb ...\n",
      "Unpacking libsigsegv2:amd64 (2.12-2) ...\n",
      "Selecting previously unselected package m4.\n",
      "Preparing to unpack .../01-m4_1.4.18-2_amd64.deb ...\n",
      "Unpacking m4 (1.4.18-2) ...\n",
      "Selecting previously unselected package autoconf.\n",
      "Preparing to unpack .../02-autoconf_2.69-11_all.deb ...\n",
      "Unpacking autoconf (2.69-11) ...\n",
      "Selecting previously unselected package autotools-dev.\n",
      "Preparing to unpack .../03-autotools-dev_20180224.1_all.deb ...\n",
      "Unpacking autotools-dev (20180224.1) ...\n",
      "Selecting previously unselected package automake.\n",
      "Preparing to unpack .../04-automake_1%3a1.16.1-4_all.deb ...\n",
      "Unpacking automake (1:1.16.1-4) ...\n",
      "Selecting previously unselected package bzip2-doc.\n",
      "Preparing to unpack .../05-bzip2-doc_1.0.6-9.2~deb10u1_all.deb ...\n",
      "Unpacking bzip2-doc (1.0.6-9.2~deb10u1) ...\n",
      "Selecting previously unselected package libbz2-dev:amd64.\n",
      "Preparing to unpack .../06-libbz2-dev_1.0.6-9.2~deb10u1_amd64.deb ...\n",
      "Unpacking libbz2-dev:amd64 (1.0.6-9.2~deb10u1) ...\n",
      "Selecting previously unselected package libltdl-dev:amd64.\n",
      "Preparing to unpack .../07-libltdl-dev_2.4.6-9_amd64.deb ...\n",
      "Unpacking libltdl-dev:amd64 (2.4.6-9) ...\n",
      "Selecting previously unselected package liblzma-dev:amd64.\n",
      "Preparing to unpack .../08-liblzma-dev_5.2.4-1_amd64.deb ...\n",
      "Unpacking liblzma-dev:amd64 (5.2.4-1) ...\n",
      "Selecting previously unselected package libncurses-dev:amd64.\n",
      "Preparing to unpack .../09-libncurses-dev_6.1+20181013-2+deb10u2_amd64.deb ...\n",
      "Unpacking libncurses-dev:amd64 (6.1+20181013-2+deb10u2) ...\n",
      "Selecting previously unselected package libtool.\n",
      "Preparing to unpack .../10-libtool_2.4.6-9_all.deb ...\n",
      "Unpacking libtool (2.4.6-9) ...\n",
      "Selecting previously unselected package libtool-bin.\n",
      "Preparing to unpack .../11-libtool-bin_2.4.6-9_amd64.deb ...\n",
      "Unpacking libtool-bin (2.4.6-9) ...\n",
      "Setting up bzip2-doc (1.0.6-9.2~deb10u1) ...\n",
      "Setting up libncurses-dev:amd64 (6.1+20181013-2+deb10u2) ...\n",
      "Setting up autotools-dev (20180224.1) ...\n",
      "Setting up libsigsegv2:amd64 (2.12-2) ...\n",
      "Setting up liblzma-dev:amd64 (5.2.4-1) ...\n",
      "Setting up libbz2-dev:amd64 (1.0.6-9.2~deb10u1) ...\n",
      "Setting up libtool (2.4.6-9) ...\n",
      "Setting up m4 (1.4.18-2) ...\n",
      "Setting up autoconf (2.69-11) ...\n",
      "Setting up automake (1:1.16.1-4) ...\n",
      "update-alternatives: using /usr/bin/automake-1.16 to provide /usr/bin/automake (automake) in auto mode\n",
      "Setting up libtool-bin (2.4.6-9) ...\n",
      "Setting up libltdl-dev:amd64 (2.4.6-9) ...\n",
      "Processing triggers for libc-bin (2.28-10) ...\n",
      "ldconfig: /usr/local/cuda-11.0/targets/x86_64-linux/lib/libcudnn_adv_train.so.8 is not a symbolic link\n",
      "\n",
      "ldconfig: /usr/local/cuda-11.0/targets/x86_64-linux/lib/libcudnn_ops_infer.so.8 is not a symbolic link\n",
      "\n",
      "ldconfig: /usr/local/cuda-11.0/targets/x86_64-linux/lib/libcudnn_cnn_infer.so.8 is not a symbolic link\n",
      "\n",
      "ldconfig: /usr/local/cuda-11.0/targets/x86_64-linux/lib/libcudnn_cnn_train.so.8 is not a symbolic link\n",
      "\n",
      "ldconfig: /usr/local/cuda-11.0/targets/x86_64-linux/lib/libcudnn.so.8 is not a symbolic link\n",
      "\n",
      "ldconfig: /usr/local/cuda-11.0/targets/x86_64-linux/lib/libcudnn_adv_infer.so.8 is not a symbolic link\n",
      "\n",
      "ldconfig: /usr/local/cuda-11.0/targets/x86_64-linux/lib/libcudnn_ops_train.so.8 is not a symbolic link\n",
      "\n",
      "ldconfig: /lib/libnvinfer_plugin.so.7 is not a symbolic link\n",
      "\n",
      "ldconfig: /lib/libnvinfer.so.7 is not a symbolic link\n",
      "\n",
      "ldconfig: /lib/libnvonnxparser.so.7 is not a symbolic link\n",
      "\n",
      "ldconfig: /lib/libmyelin.so.1 is not a symbolic link\n",
      "\n",
      "ldconfig: /lib/libnvparsers.so.7 is not a symbolic link\n",
      "\n",
      "Processing triggers for man-db (2.8.5-2) ...\n",
      "Processing triggers for install-info (6.5.0.dfsg.1-4+b1) ...\n",
      "configure: WARNING: S3 support not enabled: requires SSL development files\n",
      "configure: WARNING: S3 support not enabled: requires SSL development files\n"
     ]
    }
   ],
   "source": [
    "!sudo apt-get --quiet install -y libbz2-dev liblzma-dev libtool-bin libncurses-dev\n",
    "\n",
    "samtools_version = '1.12'\n",
    "# htslib\n",
    "!wget --quiet https://github.com/samtools/htslib/releases/download/{samtools_version}/htslib-{samtools_version}.tar.bz2 -O {home_dir}/htslib-{samtools_version}.tar.bz2\n",
    "!tar -xf {home_dir}/htslib-{samtools_version}.tar.bz2 -C {home_dir}\n",
    "# !cd {tools_dir}/htslib-{samtools_version}\n",
    "os.chdir(f'{home_dir}/htslib-{samtools_version}')\n",
    "!./configure --quiet --prefix=/usr/local\n",
    "!make --quiet\n",
    "!sudo make --quiet install\n",
    "!rm {home_dir}/htslib-{samtools_version}.tar.bz2\n",
    "# also need bcftools for subsetting vcf\n",
    "!wget --quiet https://github.com/samtools/bcftools/releases/download/{samtools_version}/bcftools-{samtools_version}.tar.bz2 -O {home_dir}/bcftools-{samtools_version}.tar.bz2\n",
    "!tar -xf /{home_dir}/bcftools-{samtools_version}.tar.bz2 -C {home_dir}\n",
    "# !cd {tools_dir}/bcftools-{samtools_version}\n",
    "os.chdir(f'{home_dir}/bcftools-{samtools_version}')\n",
    "!./configure --quiet --prefix=/usr/local\n",
    "!make --quiet {home_dir}/\n",
    "!sudo make --quiet install\n",
    "!rm {home_dir}/bcftools-{samtools_version}.tar.bz2"
   ]
  },
  {
   "cell_type": "code",
   "execution_count": null,
   "metadata": {},
   "outputs": [],
   "source": []
  }
 ],
 "metadata": {
  "environment": {
   "name": "pytorch-gpu.1-8.m73",
   "type": "gcloud",
   "uri": "gcr.io/deeplearning-platform-release/pytorch-gpu.1-8:m73"
  },
  "kernelspec": {
   "display_name": "Python 3",
   "language": "python",
   "name": "python3"
  },
  "language_info": {
   "codemirror_mode": {
    "name": "ipython",
    "version": 3
   },
   "file_extension": ".py",
   "mimetype": "text/x-python",
   "name": "python",
   "nbconvert_exporter": "python",
   "pygments_lexer": "ipython3",
   "version": "3.7.10"
  },
  "widgets": {
   "application/vnd.jupyter.widget-state+json": {
    "state": {},
    "version_major": 2,
    "version_minor": 0
   }
  }
 },
 "nbformat": 4,
 "nbformat_minor": 4
}
