{
 "cells": [
  {
   "cell_type": "markdown",
   "metadata": {},
   "source": [
    "## Notebook to runner for AMP-PD to compare replication between cohort's for ieQTL results per interaction term via papermill"
   ]
  },
  {
   "cell_type": "code",
   "execution_count": 1,
   "metadata": {},
   "outputs": [
    {
     "name": "stdout",
     "output_type": "stream",
     "text": [
      "Thu Jun 24 17:30:05 UTC 2021\n"
     ]
    }
   ],
   "source": [
    "!date"
   ]
  },
  {
   "cell_type": "markdown",
   "metadata": {},
   "source": [
    "#### import libraries"
   ]
  },
  {
   "cell_type": "code",
   "execution_count": 2,
   "metadata": {},
   "outputs": [],
   "source": [
    "import pandas as pd\n",
    "import os\n",
    "import papermill as pm"
   ]
  },
  {
   "cell_type": "code",
   "execution_count": 3,
   "metadata": {},
   "outputs": [],
   "source": [
    "# base notebook to be run per tuple iteration\n",
    "base_notebook = '/home/jupyter/notebooks/cohort_replicated_ieqtl.ipynb'\n",
    "\n",
    "# setup iteration tuples\n",
    "disc_cohort = 'ppmi'\n",
    "rep_cohort = 'pdbp'\n",
    "tissue = 'wb'\n",
    "terms = ['DX', 'GRS', 'Basophils', 'Eosinophils', 'Lymphocytes', 'Monocytes', 'Neutrophils']"
   ]
  },
  {
   "cell_type": "markdown",
   "metadata": {},
   "source": [
    "#### iterate over the tuples running the notebook per tuple"
   ]
  },
  {
   "cell_type": "code",
   "execution_count": 4,
   "metadata": {},
   "outputs": [
    {
     "name": "stdout",
     "output_type": "stream",
     "text": [
      "{'disc_cohort': 'ppmi', 'rep_cohort': 'pdbp', 'tissue': 'wb', 'term': 'DX'}\n",
      "/home/jupyter/notebooks/ppmi/pm_gend_nbs/ppmi.wb.DX.replicated_ieqtl.ipynb\n"
     ]
    },
    {
     "data": {
      "application/vnd.jupyter.widget-view+json": {
       "model_id": "d71e35acc8f44a8db8051ad711f10a5e",
       "version_major": 2,
       "version_minor": 0
      },
      "text/plain": [
       "Executing:   0%|          | 0/51 [00:00<?, ?cell/s]"
      ]
     },
     "metadata": {},
     "output_type": "display_data"
    },
    {
     "name": "stdout",
     "output_type": "stream",
     "text": [
      "{'disc_cohort': 'ppmi', 'rep_cohort': 'pdbp', 'tissue': 'wb', 'term': 'GRS'}\n",
      "/home/jupyter/notebooks/ppmi/pm_gend_nbs/ppmi.wb.GRS.replicated_ieqtl.ipynb\n"
     ]
    },
    {
     "data": {
      "application/vnd.jupyter.widget-view+json": {
       "model_id": "26957cec7aae45d398dcd7b645830de2",
       "version_major": 2,
       "version_minor": 0
      },
      "text/plain": [
       "Executing:   0%|          | 0/51 [00:00<?, ?cell/s]"
      ]
     },
     "metadata": {},
     "output_type": "display_data"
    },
    {
     "name": "stdout",
     "output_type": "stream",
     "text": [
      "{'disc_cohort': 'ppmi', 'rep_cohort': 'pdbp', 'tissue': 'wb', 'term': 'Basophils'}\n",
      "/home/jupyter/notebooks/ppmi/pm_gend_nbs/ppmi.wb.Basophils.replicated_ieqtl.ipynb\n"
     ]
    },
    {
     "data": {
      "application/vnd.jupyter.widget-view+json": {
       "model_id": "78e4cde4540c4751a9c7def9b7a9e7de",
       "version_major": 2,
       "version_minor": 0
      },
      "text/plain": [
       "Executing:   0%|          | 0/51 [00:00<?, ?cell/s]"
      ]
     },
     "metadata": {},
     "output_type": "display_data"
    },
    {
     "name": "stdout",
     "output_type": "stream",
     "text": [
      "{'disc_cohort': 'ppmi', 'rep_cohort': 'pdbp', 'tissue': 'wb', 'term': 'Eosinophils'}\n",
      "/home/jupyter/notebooks/ppmi/pm_gend_nbs/ppmi.wb.Eosinophils.replicated_ieqtl.ipynb\n"
     ]
    },
    {
     "data": {
      "application/vnd.jupyter.widget-view+json": {
       "model_id": "5ff7e4bf0ab445678cba6a256dedc46a",
       "version_major": 2,
       "version_minor": 0
      },
      "text/plain": [
       "Executing:   0%|          | 0/51 [00:00<?, ?cell/s]"
      ]
     },
     "metadata": {},
     "output_type": "display_data"
    },
    {
     "name": "stdout",
     "output_type": "stream",
     "text": [
      "{'disc_cohort': 'ppmi', 'rep_cohort': 'pdbp', 'tissue': 'wb', 'term': 'Lymphocytes'}\n",
      "/home/jupyter/notebooks/ppmi/pm_gend_nbs/ppmi.wb.Lymphocytes.replicated_ieqtl.ipynb\n"
     ]
    },
    {
     "data": {
      "application/vnd.jupyter.widget-view+json": {
       "model_id": "541cbe4740e84e2c9e83eaf6bd37ed4e",
       "version_major": 2,
       "version_minor": 0
      },
      "text/plain": [
       "Executing:   0%|          | 0/51 [00:00<?, ?cell/s]"
      ]
     },
     "metadata": {},
     "output_type": "display_data"
    },
    {
     "name": "stdout",
     "output_type": "stream",
     "text": [
      "{'disc_cohort': 'ppmi', 'rep_cohort': 'pdbp', 'tissue': 'wb', 'term': 'Monocytes'}\n",
      "/home/jupyter/notebooks/ppmi/pm_gend_nbs/ppmi.wb.Monocytes.replicated_ieqtl.ipynb\n"
     ]
    },
    {
     "data": {
      "application/vnd.jupyter.widget-view+json": {
       "model_id": "f77a8f4a88da4bbabcaf34a776fb9682",
       "version_major": 2,
       "version_minor": 0
      },
      "text/plain": [
       "Executing:   0%|          | 0/51 [00:00<?, ?cell/s]"
      ]
     },
     "metadata": {},
     "output_type": "display_data"
    },
    {
     "name": "stdout",
     "output_type": "stream",
     "text": [
      "{'disc_cohort': 'ppmi', 'rep_cohort': 'pdbp', 'tissue': 'wb', 'term': 'Neutrophils'}\n",
      "/home/jupyter/notebooks/ppmi/pm_gend_nbs/ppmi.wb.Neutrophils.replicated_ieqtl.ipynb\n"
     ]
    },
    {
     "data": {
      "application/vnd.jupyter.widget-view+json": {
       "model_id": "4d2299591f914d07a241cfa31f226f23",
       "version_major": 2,
       "version_minor": 0
      },
      "text/plain": [
       "Executing:   0%|          | 0/51 [00:00<?, ?cell/s]"
      ]
     },
     "metadata": {},
     "output_type": "display_data"
    },
    {
     "name": "stdout",
     "output_type": "stream",
     "text": [
      "CPU times: user 24.5 s, sys: 739 ms, total: 25.3 s\n",
      "Wall time: 26min 16s\n"
     ]
    }
   ],
   "source": [
    "%%time\n",
    "\n",
    "out_nb_dir = f'/home/jupyter/notebooks/{disc_cohort}/pm_gend_nbs'\n",
    "# make sure the notebook output dir exists\n",
    "os.makedirs(out_nb_dir, exist_ok=True)\n",
    "wrk_dir = f'/home/jupyter/{disc_cohort}'\n",
    "for term in terms:\n",
    "    # before running prep notebook make results exist for the cohort and visit\n",
    "    results_file = f'{wrk_dir}/results/{disc_cohort}.{tissue}.{term}.cis.ieqtl.csv'\n",
    "    if os.path.isfile(results_file):\n",
    "        param_dict = {'disc_cohort': disc_cohort, 'rep_cohort': rep_cohort, \n",
    "                      'tissue': tissue, 'term': term}\n",
    "        out_notebook = f'{out_nb_dir}/{disc_cohort}.{tissue}.{term}.replicated_ieqtl.ipynb'\n",
    "        print(param_dict)\n",
    "        print(out_notebook)\n",
    "        pm.execute_notebook(input_path=base_notebook, output_path=out_notebook, \n",
    "                            parameters=param_dict)"
   ]
  },
  {
   "cell_type": "code",
   "execution_count": null,
   "metadata": {},
   "outputs": [],
   "source": []
  }
 ],
 "metadata": {
  "environment": {
   "name": "pytorch-gpu.1-8.m65",
   "type": "gcloud",
   "uri": "gcr.io/deeplearning-platform-release/pytorch-gpu.1-8:m65"
  },
  "kernelspec": {
   "display_name": "Python 3",
   "language": "python",
   "name": "python3"
  },
  "language_info": {
   "codemirror_mode": {
    "name": "ipython",
    "version": 3
   },
   "file_extension": ".py",
   "mimetype": "text/x-python",
   "name": "python",
   "nbconvert_exporter": "python",
   "pygments_lexer": "ipython3",
   "version": "3.7.10"
  }
 },
 "nbformat": 4,
 "nbformat_minor": 4
}
