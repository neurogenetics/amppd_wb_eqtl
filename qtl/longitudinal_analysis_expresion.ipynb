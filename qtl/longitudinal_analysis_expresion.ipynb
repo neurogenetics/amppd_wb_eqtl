{
 "cells": [
  {
   "cell_type": "markdown",
   "id": "7f0f281a",
   "metadata": {},
   "source": [
    "## Notebook to do longitudinal analysis of expression over time\n",
    "- here using PPMI as discovery cohort and PDBP as replication\n",
    "- features to be considered, probably should do in separate notebooks\n",
    "    - expression ~ time + (1| subject)\n",
    "    - cell fractions ~ time + (1| subject), (caveat cell fractions predicted based on PPMI, so PDBP not full replication)\n",
    "    - eqtl_betas ~ time\n",
    "    \n",
    "based on running linear mixed effects models in python examples:\n",
    "- [Comparing R lmer to Statsmodels MixedLM](https://nbviewer.jupyter.org/urls/umich.box.com/shared/static/6tfc1e0q6jincsv5pgfa.ipynb)\n",
    "- [Linear Mixed Effects Models](https://www.statsmodels.org/devel/examples/notebooks/generated/mixed_lm_example.html)\n",
    "- [statsmodel mixedlm from formula](https://www.statsmodels.org/dev/generated/statsmodels.regression.mixed_linear_model.MixedLM.from_formula.html)"
   ]
  },
  {
   "cell_type": "code",
   "execution_count": 1,
   "id": "a98f4a11",
   "metadata": {},
   "outputs": [
    {
     "name": "stdout",
     "output_type": "stream",
     "text": [
      "Thu May  6 16:36:34 UTC 2021\n"
     ]
    }
   ],
   "source": [
    "!date"
   ]
  },
  {
   "cell_type": "markdown",
   "id": "b8544e0e",
   "metadata": {},
   "source": [
    "#### import libraries and set notebook variables"
   ]
  },
  {
   "cell_type": "code",
   "execution_count": 2,
   "id": "bf3b23a2",
   "metadata": {},
   "outputs": [],
   "source": [
    "import pandas as pd\n",
    "import statsmodels.api as sm\n",
    "import statsmodels.formula.api as smf\n",
    "import statsmodels.stats.multitest as smm\n",
    "import seaborn as sns\n",
    "import matplotlib.pyplot as plt\n",
    "import concurrent.futures"
   ]
  },
  {
   "cell_type": "code",
   "execution_count": 3,
   "id": "fe1edd32",
   "metadata": {},
   "outputs": [],
   "source": [
    "# parameters\n",
    "cohort = 'amppd'\n",
    "disc_cohort = 'PP'\n",
    "disc_name = 'ppmi'\n",
    "rep_cohort = 'PD'\n",
    "rep_name = 'pdbp'\n",
    "months = [0, 1, 6 , 12, 18, 24, 36]\n",
    "visit_names = ['BLM0T1', 'SVM0_5T1', 'SVM6T1', 'SVM12T1', 'SVM18T1', 'SVM24T1', 'SVM36T1']\n",
    "visits = zip(months, visit_names)\n",
    "quant_type = 'genes'\n",
    "\n",
    "# directories\n",
    "home_dir = '/home/jupyter'\n",
    "wrk_dir = f'{home_dir}/{cohort}'\n",
    "expr_dir = f'{wrk_dir}/expression'\n",
    "info_dir = f'{wrk_dir}/sample_info'\n",
    "\n",
    "# in files\n",
    "known_covs_file = f'{info_dir}/{cohort}_rna_sample_info.csv'\n",
    "umaps_file = f'{info_dir}/{cohort}_rna.umap.covs.csv'\n",
    "quants_file = f'{expr_dir}/{cohort}.{quant_type}.norm.adj.hdf5'\n",
    "\n",
    "# out files\n",
    "\n",
    "\n",
    "# constants\n",
    "capture_out = !(nproc)\n",
    "max_threads = int(capture_out[0])"
   ]
  },
  {
   "cell_type": "markdown",
   "id": "3c2365cb",
   "metadata": {},
   "source": [
    "#### analysis functions"
   ]
  },
  {
   "cell_type": "code",
   "execution_count": 4,
   "id": "251676a5",
   "metadata": {},
   "outputs": [],
   "source": [
    "def mixed_model(formula, df, group_name, term):\n",
    "    model = sm.MixedLM.from_formula(formula, df, groups=df[group_name])\n",
    "    result = model.fit()\n",
    "    return [result.params[term], result.bse[term], \n",
    "            result.params.shape[0], result.pvalues[term]]\n",
    "\n",
    "def frmt_run_mm(dep_var, indep_var, df, group_name, hard_covs=False):\n",
    "    if hard_covs:\n",
    "        this_formula = f'Q(\"{dep_var}\") ~ {indep_var} + age_at_baseline + sex'        \n",
    "    else:\n",
    "        this_formula = f'Q(\"{dep_var}\") ~ {indep_var}'\n",
    "    try:\n",
    "        results = mixed_model(this_formula, df, group_name, indep_var)\n",
    "    except:\n",
    "#         print(f'Caught NameError for {dep_var}')\n",
    "        results = [np.nan, np.nan, np.nan, np.nan]\n",
    "    return [dep_var] + results"
   ]
  },
  {
   "cell_type": "markdown",
   "id": "42563eec",
   "metadata": {},
   "source": [
    "#### load the known sample covariates"
   ]
  },
  {
   "cell_type": "code",
   "execution_count": 5,
   "id": "30c3f713",
   "metadata": {},
   "outputs": [
    {
     "name": "stdout",
     "output_type": "stream",
     "text": [
      "(8356, 37)\n"
     ]
    }
   ],
   "source": [
    "known_covs_df = pd.read_csv(known_covs_file, index_col=0)\n",
    "print(known_covs_df.shape)\n",
    "# display(known_covs_df.head())"
   ]
  },
  {
   "cell_type": "code",
   "execution_count": 6,
   "id": "92e201dd",
   "metadata": {},
   "outputs": [
    {
     "name": "stdout",
     "output_type": "stream",
     "text": [
      "(8266, 2)\n"
     ]
    }
   ],
   "source": [
    "umaps_df = pd.read_csv(umaps_file, index_col=0)\n",
    "print(umaps_df.shape)\n",
    "# display(umaps_df.head())"
   ]
  },
  {
   "cell_type": "code",
   "execution_count": 7,
   "id": "3717897f",
   "metadata": {},
   "outputs": [
    {
     "name": "stdout",
     "output_type": "stream",
     "text": [
      "(8266, 39)\n"
     ]
    }
   ],
   "source": [
    "covs_df = umaps_df.merge(known_covs_df, how='inner', left_index=True, right_index=True)\n",
    "print(covs_df.shape)\n",
    "# display(covs_df.head())"
   ]
  },
  {
   "cell_type": "markdown",
   "id": "2b8eaaed",
   "metadata": {},
   "source": [
    "#### add month column based on visit"
   ]
  },
  {
   "cell_type": "code",
   "execution_count": 8,
   "id": "0117bc0f",
   "metadata": {},
   "outputs": [],
   "source": [
    "for month, visit in visits:\n",
    "    covs_df.loc[covs_df['visit'] == visit, 'month'] = int(month)\n",
    "    \n",
    "covs_df['month'] = covs_df['month'].astype('int32')"
   ]
  },
  {
   "cell_type": "code",
   "execution_count": 9,
   "id": "715368fe",
   "metadata": {},
   "outputs": [
    {
     "data": {
      "text/plain": [
       "cohort  month\n",
       "BF      1         207\n",
       "PD      0        1383\n",
       "        12        575\n",
       "        6         551\n",
       "        18        487\n",
       "        24        456\n",
       "PP      0        1511\n",
       "        12        872\n",
       "        6         853\n",
       "        24        830\n",
       "        36        541\n",
       "Name: month, dtype: int64"
      ]
     },
     "execution_count": 9,
     "metadata": {},
     "output_type": "execute_result"
    }
   ],
   "source": [
    "covs_df.groupby('cohort')['month'].value_counts()"
   ]
  },
  {
   "cell_type": "markdown",
   "id": "2bdec19b",
   "metadata": {},
   "source": [
    "#### load the expression matrix"
   ]
  },
  {
   "cell_type": "code",
   "execution_count": 10,
   "id": "010686e0",
   "metadata": {},
   "outputs": [
    {
     "name": "stdout",
     "output_type": "stream",
     "text": [
      "(8266, 15482)\n",
      "CPU times: user 378 ms, sys: 670 ms, total: 1.05 s\n",
      "Wall time: 10.1 s\n"
     ]
    }
   ],
   "source": [
    "%%time\n",
    "expr_df = pd.read_hdf(quants_file, index_col=0)\n",
    "print(expr_df.shape)\n",
    "# display(expr_df.head())"
   ]
  },
  {
   "cell_type": "markdown",
   "id": "55c343d0",
   "metadata": {},
   "source": [
    "#### test something simple"
   ]
  },
  {
   "cell_type": "code",
   "execution_count": 11,
   "id": "86dcb20f",
   "metadata": {},
   "outputs": [
    {
     "name": "stdout",
     "output_type": "stream",
     "text": [
      "(4607, 40)\n"
     ]
    },
    {
     "data": {
      "text/plain": [
       "cohort  month\n",
       "PP      0        1511\n",
       "        12        872\n",
       "        6         853\n",
       "        24        830\n",
       "        36        541\n",
       "Name: month, dtype: int64"
      ]
     },
     "execution_count": 11,
     "metadata": {},
     "output_type": "execute_result"
    }
   ],
   "source": [
    "disc_cov_df = covs_df.loc[covs_df['cohort'] == disc_cohort]\n",
    "print(disc_cov_df.shape)\n",
    "# display(disc_cov_df.head())\n",
    "disc_cov_df.groupby('cohort')['month'].value_counts()"
   ]
  },
  {
   "cell_type": "code",
   "execution_count": 12,
   "id": "f6880171",
   "metadata": {},
   "outputs": [
    {
     "name": "stdout",
     "output_type": "stream",
     "text": [
      "(3452, 40)\n"
     ]
    },
    {
     "data": {
      "text/plain": [
       "cohort  month\n",
       "PD      0        1383\n",
       "        12        575\n",
       "        6         551\n",
       "        18        487\n",
       "        24        456\n",
       "Name: month, dtype: int64"
      ]
     },
     "execution_count": 12,
     "metadata": {},
     "output_type": "execute_result"
    }
   ],
   "source": [
    "rep_cov_df = covs_df.loc[covs_df['cohort'] == rep_cohort]\n",
    "print(rep_cov_df.shape)\n",
    "# display(rep_cov_df.head())\n",
    "rep_cov_df.groupby('cohort')['month'].value_counts()"
   ]
  },
  {
   "cell_type": "code",
   "execution_count": 13,
   "id": "54911002",
   "metadata": {},
   "outputs": [
    {
     "name": "stdout",
     "output_type": "stream",
     "text": [
      "(4607, 15522)\n",
      "(3452, 15522)\n"
     ]
    }
   ],
   "source": [
    "disc_df = expr_df.merge(disc_cov_df, how='inner', \n",
    "                        left_index=True, right_index=True)\n",
    "print(disc_df.shape)\n",
    "rep_df = expr_df.merge(rep_cov_df, how='inner', \n",
    "                        left_index=True, right_index=True)\n",
    "print(rep_df.shape)"
   ]
  },
  {
   "cell_type": "markdown",
   "id": "96908c76",
   "metadata": {},
   "source": [
    "#### split the features into batches"
   ]
  },
  {
   "cell_type": "code",
   "execution_count": 14,
   "id": "797aedf3",
   "metadata": {},
   "outputs": [
    {
     "name": "stdout",
     "output_type": "stream",
     "text": [
      "15482\n",
      "120\n",
      "130\n"
     ]
    }
   ],
   "source": [
    "features = expr_df.columns.values\n",
    "print(len(features))\n",
    "features_partioned = np.array_split(features, np.floor(len(features)/max_threads/4))\n",
    "print(len(features_partioned))\n",
    "print(len(features_partioned[0]))"
   ]
  },
  {
   "cell_type": "markdown",
   "id": "689ce50a",
   "metadata": {},
   "source": [
    "#### run just the mixed effects model"
   ]
  },
  {
   "cell_type": "code",
   "execution_count": 16,
   "id": "c6344cf6",
   "metadata": {},
   "outputs": [],
   "source": [
    "def run_mm_batch(feat_list, ind_var, df, group_name, extra_terms=False):\n",
    "    batch_results = []\n",
    "    for feature in feat_list:\n",
    "        batch_results.append(frmt_run_mm(feature, ind_var, df, group_name, extra_terms))\n",
    "    return batch_results"
   ]
  },
  {
   "cell_type": "markdown",
   "id": "e8860a12",
   "metadata": {},
   "source": [
    "#### run the discovery cohort"
   ]
  },
  {
   "cell_type": "code",
   "execution_count": 16,
   "id": "32f255ca",
   "metadata": {},
   "outputs": [
    {
     "name": "stderr",
     "output_type": "stream",
     "text": [
      "/opt/conda/lib/python3.7/site-packages/statsmodels/regression/mixed_linear_model.py:2237: ConvergenceWarning: The MLE may be on the boundary of the parameter space.\n",
      "  warnings.warn(msg, ConvergenceWarning)\n",
      "/opt/conda/lib/python3.7/site-packages/statsmodels/regression/mixed_linear_model.py:2237: ConvergenceWarning: The MLE may be on the boundary of the parameter space.\n",
      "  warnings.warn(msg, ConvergenceWarning)\n",
      "/opt/conda/lib/python3.7/site-packages/statsmodels/regression/mixed_linear_model.py:2237: ConvergenceWarning: The MLE may be on the boundary of the parameter space.\n",
      "  warnings.warn(msg, ConvergenceWarning)\n",
      "/opt/conda/lib/python3.7/site-packages/statsmodels/regression/mixed_linear_model.py:2237: ConvergenceWarning: The MLE may be on the boundary of the parameter space.\n",
      "  warnings.warn(msg, ConvergenceWarning)\n",
      "/opt/conda/lib/python3.7/site-packages/statsmodels/regression/mixed_linear_model.py:2237: ConvergenceWarning: The MLE may be on the boundary of the parameter space.\n",
      "  warnings.warn(msg, ConvergenceWarning)\n",
      "/opt/conda/lib/python3.7/site-packages/statsmodels/regression/mixed_linear_model.py:2237: ConvergenceWarning: The MLE may be on the boundary of the parameter space.\n",
      "  warnings.warn(msg, ConvergenceWarning)\n",
      "/opt/conda/lib/python3.7/site-packages/statsmodels/regression/mixed_linear_model.py:2237: ConvergenceWarning: The MLE may be on the boundary of the parameter space.\n",
      "  warnings.warn(msg, ConvergenceWarning)\n",
      "/opt/conda/lib/python3.7/site-packages/statsmodels/regression/mixed_linear_model.py:2237: ConvergenceWarning: The MLE may be on the boundary of the parameter space.\n",
      "  warnings.warn(msg, ConvergenceWarning)\n",
      "/opt/conda/lib/python3.7/site-packages/statsmodels/regression/mixed_linear_model.py:2237: ConvergenceWarning: The MLE may be on the boundary of the parameter space.\n",
      "  warnings.warn(msg, ConvergenceWarning)\n",
      "/opt/conda/lib/python3.7/site-packages/statsmodels/regression/mixed_linear_model.py:2237: ConvergenceWarning: The MLE may be on the boundary of the parameter space.\n",
      "  warnings.warn(msg, ConvergenceWarning)\n"
     ]
    },
    {
     "name": "stdout",
     "output_type": "stream",
     "text": [
      "CPU times: user 34.1 s, sys: 50 s, total: 1min 24s\n",
      "Wall time: 46min 40s\n"
     ]
    }
   ],
   "source": [
    "%%time\n",
    "indep_var = 'month'\n",
    "grouping = 'wgsid'\n",
    "\n",
    "fs_list = []\n",
    "lm_results = []\n",
    "with concurrent.futures.ProcessPoolExecutor(max_workers=max_threads*2) as ppe:\n",
    "    for batch_features in features_partioned:\n",
    "        fs_list.append(ppe.submit(run_mm_batch, batch_features, indep_var, disc_df, grouping))\n",
    "for future in concurrent.futures.as_completed(fs_list):\n",
    "    lm_results.append(future.result())"
   ]
  },
  {
   "cell_type": "code",
   "execution_count": 18,
   "id": "713ecb0b",
   "metadata": {},
   "outputs": [],
   "source": [
    "# flatten the list\n",
    "results = [item for sublist in lm_results for item in sublist]"
   ]
  },
  {
   "cell_type": "code",
   "execution_count": 21,
   "id": "8d84206c",
   "metadata": {},
   "outputs": [
    {
     "name": "stdout",
     "output_type": "stream",
     "text": [
      "(15482, 5)\n"
     ]
    },
    {
     "data": {
      "text/html": [
       "<div>\n",
       "<style scoped>\n",
       "    .dataframe tbody tr th:only-of-type {\n",
       "        vertical-align: middle;\n",
       "    }\n",
       "\n",
       "    .dataframe tbody tr th {\n",
       "        vertical-align: top;\n",
       "    }\n",
       "\n",
       "    .dataframe thead th {\n",
       "        text-align: right;\n",
       "    }\n",
       "</style>\n",
       "<table border=\"1\" class=\"dataframe\">\n",
       "  <thead>\n",
       "    <tr style=\"text-align: right;\">\n",
       "      <th></th>\n",
       "      <th>feature</th>\n",
       "      <th>coef</th>\n",
       "      <th>stderr</th>\n",
       "      <th>term_cnt</th>\n",
       "      <th>p-value</th>\n",
       "    </tr>\n",
       "  </thead>\n",
       "  <tbody>\n",
       "    <tr>\n",
       "      <th>0</th>\n",
       "      <td>ENSG00000263812.5</td>\n",
       "      <td>0.002463</td>\n",
       "      <td>0.000966</td>\n",
       "      <td>3</td>\n",
       "      <td>1.077182e-02</td>\n",
       "    </tr>\n",
       "    <tr>\n",
       "      <th>1</th>\n",
       "      <td>ENSG00000188820.12</td>\n",
       "      <td>-0.000226</td>\n",
       "      <td>0.000865</td>\n",
       "      <td>3</td>\n",
       "      <td>7.941197e-01</td>\n",
       "    </tr>\n",
       "    <tr>\n",
       "      <th>2</th>\n",
       "      <td>ENSG00000203865.9</td>\n",
       "      <td>-0.004776</td>\n",
       "      <td>0.001135</td>\n",
       "      <td>3</td>\n",
       "      <td>2.559569e-05</td>\n",
       "    </tr>\n",
       "    <tr>\n",
       "      <th>3</th>\n",
       "      <td>ENSG00000142230.11</td>\n",
       "      <td>-0.008054</td>\n",
       "      <td>0.001119</td>\n",
       "      <td>3</td>\n",
       "      <td>6.225744e-13</td>\n",
       "    </tr>\n",
       "    <tr>\n",
       "      <th>4</th>\n",
       "      <td>ENSG00000268683.1</td>\n",
       "      <td>-0.000158</td>\n",
       "      <td>0.001089</td>\n",
       "      <td>3</td>\n",
       "      <td>8.848302e-01</td>\n",
       "    </tr>\n",
       "  </tbody>\n",
       "</table>\n",
       "</div>"
      ],
      "text/plain": [
       "              feature      coef    stderr  term_cnt       p-value\n",
       "0   ENSG00000263812.5  0.002463  0.000966         3  1.077182e-02\n",
       "1  ENSG00000188820.12 -0.000226  0.000865         3  7.941197e-01\n",
       "2   ENSG00000203865.9 -0.004776  0.001135         3  2.559569e-05\n",
       "3  ENSG00000142230.11 -0.008054  0.001119         3  6.225744e-13\n",
       "4   ENSG00000268683.1 -0.000158  0.001089         3  8.848302e-01"
      ]
     },
     "metadata": {},
     "output_type": "display_data"
    }
   ],
   "source": [
    "dics_results_df = pd.DataFrame(data=results, columns=['feature', 'coef', 'stderr', 'term_cnt', 'p-value'])\n",
    "print(this_df.shape)\n",
    "display(this_df.head())"
   ]
  },
  {
   "cell_type": "markdown",
   "id": "3103dab6",
   "metadata": {},
   "source": [
    "#### calc FDR"
   ]
  },
  {
   "cell_type": "code",
   "execution_count": 26,
   "id": "9df30436",
   "metadata": {},
   "outputs": [
    {
     "name": "stdout",
     "output_type": "stream",
     "text": [
      "(7870, 6)\n"
     ]
    },
    {
     "data": {
      "text/html": [
       "<div>\n",
       "<style scoped>\n",
       "    .dataframe tbody tr th:only-of-type {\n",
       "        vertical-align: middle;\n",
       "    }\n",
       "\n",
       "    .dataframe tbody tr th {\n",
       "        vertical-align: top;\n",
       "    }\n",
       "\n",
       "    .dataframe thead th {\n",
       "        text-align: right;\n",
       "    }\n",
       "</style>\n",
       "<table border=\"1\" class=\"dataframe\">\n",
       "  <thead>\n",
       "    <tr style=\"text-align: right;\">\n",
       "      <th></th>\n",
       "      <th>feature</th>\n",
       "      <th>coef</th>\n",
       "      <th>stderr</th>\n",
       "      <th>term_cnt</th>\n",
       "      <th>p-value</th>\n",
       "      <th>bh_fdr</th>\n",
       "    </tr>\n",
       "  </thead>\n",
       "  <tbody>\n",
       "    <tr>\n",
       "      <th>0</th>\n",
       "      <td>ENSG00000263812.5</td>\n",
       "      <td>0.002463</td>\n",
       "      <td>0.000966</td>\n",
       "      <td>3</td>\n",
       "      <td>1.077182e-02</td>\n",
       "      <td>2.414147e-02</td>\n",
       "    </tr>\n",
       "    <tr>\n",
       "      <th>1</th>\n",
       "      <td>ENSG00000188820.12</td>\n",
       "      <td>-0.000226</td>\n",
       "      <td>0.000865</td>\n",
       "      <td>3</td>\n",
       "      <td>7.941197e-01</td>\n",
       "      <td>8.466342e-01</td>\n",
       "    </tr>\n",
       "    <tr>\n",
       "      <th>2</th>\n",
       "      <td>ENSG00000203865.9</td>\n",
       "      <td>-0.004776</td>\n",
       "      <td>0.001135</td>\n",
       "      <td>3</td>\n",
       "      <td>2.559569e-05</td>\n",
       "      <td>1.222309e-04</td>\n",
       "    </tr>\n",
       "    <tr>\n",
       "      <th>3</th>\n",
       "      <td>ENSG00000142230.11</td>\n",
       "      <td>-0.008054</td>\n",
       "      <td>0.001119</td>\n",
       "      <td>3</td>\n",
       "      <td>6.225744e-13</td>\n",
       "      <td>1.682146e-11</td>\n",
       "    </tr>\n",
       "    <tr>\n",
       "      <th>4</th>\n",
       "      <td>ENSG00000268683.1</td>\n",
       "      <td>-0.000158</td>\n",
       "      <td>0.001089</td>\n",
       "      <td>3</td>\n",
       "      <td>8.848302e-01</td>\n",
       "      <td>9.166237e-01</td>\n",
       "    </tr>\n",
       "  </tbody>\n",
       "</table>\n",
       "</div>"
      ],
      "text/plain": [
       "              feature      coef    stderr  term_cnt       p-value  \\\n",
       "0   ENSG00000263812.5  0.002463  0.000966         3  1.077182e-02   \n",
       "1  ENSG00000188820.12 -0.000226  0.000865         3  7.941197e-01   \n",
       "2   ENSG00000203865.9 -0.004776  0.001135         3  2.559569e-05   \n",
       "3  ENSG00000142230.11 -0.008054  0.001119         3  6.225744e-13   \n",
       "4   ENSG00000268683.1 -0.000158  0.001089         3  8.848302e-01   \n",
       "\n",
       "         bh_fdr  \n",
       "0  2.414147e-02  \n",
       "1  8.466342e-01  \n",
       "2  1.222309e-04  \n",
       "3  1.682146e-11  \n",
       "4  9.166237e-01  "
      ]
     },
     "metadata": {},
     "output_type": "display_data"
    }
   ],
   "source": [
    "alpha=0.05\n",
    "method='fdr_bh'\n",
    "test_adjust = smm.multipletests(np.array(dics_results_df['p-value']),\n",
    "                                alpha=alpha, method=method)\n",
    "dics_results_df['bh_fdr'] = test_adjust[1]\n",
    "\n",
    "print(dics_results_df.loc[dics_results_df['bh_fdr'] < 0.05].shape)\n",
    "display(dics_results_df.head())"
   ]
  },
  {
   "cell_type": "markdown",
   "id": "be1c4396",
   "metadata": {},
   "source": [
    "#### save the discovery cohort results"
   ]
  },
  {
   "cell_type": "code",
   "execution_count": 32,
   "id": "4b941246",
   "metadata": {},
   "outputs": [],
   "source": [
    "out_file = f'{home_dir}/{disc_name}/results/{disc_name}.expr_time_mm.csv'\n",
    "dics_results_df.to_csv(out_file, index=False)"
   ]
  },
  {
   "cell_type": "markdown",
   "id": "60af2c50",
   "metadata": {},
   "source": [
    "#### run the replication cohort"
   ]
  },
  {
   "cell_type": "code",
   "execution_count": 33,
   "id": "8c9788fe",
   "metadata": {},
   "outputs": [
    {
     "name": "stderr",
     "output_type": "stream",
     "text": [
      "/opt/conda/lib/python3.7/site-packages/statsmodels/regression/mixed_linear_model.py:2237: ConvergenceWarning: The MLE may be on the boundary of the parameter space.\n",
      "  warnings.warn(msg, ConvergenceWarning)\n",
      "/opt/conda/lib/python3.7/site-packages/statsmodels/regression/mixed_linear_model.py:2237: ConvergenceWarning: The MLE may be on the boundary of the parameter space.\n",
      "  warnings.warn(msg, ConvergenceWarning)\n",
      "/opt/conda/lib/python3.7/site-packages/statsmodels/regression/mixed_linear_model.py:2237: ConvergenceWarning: The MLE may be on the boundary of the parameter space.\n",
      "  warnings.warn(msg, ConvergenceWarning)\n",
      "/opt/conda/lib/python3.7/site-packages/statsmodels/regression/mixed_linear_model.py:2237: ConvergenceWarning: The MLE may be on the boundary of the parameter space.\n",
      "  warnings.warn(msg, ConvergenceWarning)\n",
      "/opt/conda/lib/python3.7/site-packages/statsmodels/regression/mixed_linear_model.py:2237: ConvergenceWarning: The MLE may be on the boundary of the parameter space.\n",
      "  warnings.warn(msg, ConvergenceWarning)\n"
     ]
    },
    {
     "name": "stdout",
     "output_type": "stream",
     "text": [
      "CPU times: user 25.8 s, sys: 37.8 s, total: 1min 3s\n",
      "Wall time: 43min 34s\n"
     ]
    }
   ],
   "source": [
    "%%time\n",
    "indep_var = 'month'\n",
    "grouping = 'wgsid'\n",
    "\n",
    "fs_list = []\n",
    "lm_results = []\n",
    "with concurrent.futures.ProcessPoolExecutor(max_workers=max_threads*2) as ppe:\n",
    "    for batch_features in features_partioned:\n",
    "        fs_list.append(ppe.submit(run_mm_batch, batch_features, indep_var, rep_df, grouping))\n",
    "    for future in concurrent.futures.as_completed(fs_list):\n",
    "        lm_results.append(future.result())"
   ]
  },
  {
   "cell_type": "code",
   "execution_count": 34,
   "id": "d5a02b52",
   "metadata": {},
   "outputs": [],
   "source": [
    "# flatten the list\n",
    "results = [item for sublist in lm_results for item in sublist]"
   ]
  },
  {
   "cell_type": "code",
   "execution_count": 35,
   "id": "c3c0e44d",
   "metadata": {},
   "outputs": [
    {
     "name": "stdout",
     "output_type": "stream",
     "text": [
      "(15482, 5)\n"
     ]
    },
    {
     "data": {
      "text/html": [
       "<div>\n",
       "<style scoped>\n",
       "    .dataframe tbody tr th:only-of-type {\n",
       "        vertical-align: middle;\n",
       "    }\n",
       "\n",
       "    .dataframe tbody tr th {\n",
       "        vertical-align: top;\n",
       "    }\n",
       "\n",
       "    .dataframe thead th {\n",
       "        text-align: right;\n",
       "    }\n",
       "</style>\n",
       "<table border=\"1\" class=\"dataframe\">\n",
       "  <thead>\n",
       "    <tr style=\"text-align: right;\">\n",
       "      <th></th>\n",
       "      <th>feature</th>\n",
       "      <th>coef</th>\n",
       "      <th>stderr</th>\n",
       "      <th>term_cnt</th>\n",
       "      <th>p-value</th>\n",
       "    </tr>\n",
       "  </thead>\n",
       "  <tbody>\n",
       "    <tr>\n",
       "      <th>0</th>\n",
       "      <td>ENSG00000263812.5</td>\n",
       "      <td>0.002463</td>\n",
       "      <td>0.000966</td>\n",
       "      <td>3</td>\n",
       "      <td>1.077182e-02</td>\n",
       "    </tr>\n",
       "    <tr>\n",
       "      <th>1</th>\n",
       "      <td>ENSG00000188820.12</td>\n",
       "      <td>-0.000226</td>\n",
       "      <td>0.000865</td>\n",
       "      <td>3</td>\n",
       "      <td>7.941197e-01</td>\n",
       "    </tr>\n",
       "    <tr>\n",
       "      <th>2</th>\n",
       "      <td>ENSG00000203865.9</td>\n",
       "      <td>-0.004776</td>\n",
       "      <td>0.001135</td>\n",
       "      <td>3</td>\n",
       "      <td>2.559569e-05</td>\n",
       "    </tr>\n",
       "    <tr>\n",
       "      <th>3</th>\n",
       "      <td>ENSG00000142230.11</td>\n",
       "      <td>-0.008054</td>\n",
       "      <td>0.001119</td>\n",
       "      <td>3</td>\n",
       "      <td>6.225744e-13</td>\n",
       "    </tr>\n",
       "    <tr>\n",
       "      <th>4</th>\n",
       "      <td>ENSG00000268683.1</td>\n",
       "      <td>-0.000158</td>\n",
       "      <td>0.001089</td>\n",
       "      <td>3</td>\n",
       "      <td>8.848302e-01</td>\n",
       "    </tr>\n",
       "  </tbody>\n",
       "</table>\n",
       "</div>"
      ],
      "text/plain": [
       "              feature      coef    stderr  term_cnt       p-value\n",
       "0   ENSG00000263812.5  0.002463  0.000966         3  1.077182e-02\n",
       "1  ENSG00000188820.12 -0.000226  0.000865         3  7.941197e-01\n",
       "2   ENSG00000203865.9 -0.004776  0.001135         3  2.559569e-05\n",
       "3  ENSG00000142230.11 -0.008054  0.001119         3  6.225744e-13\n",
       "4   ENSG00000268683.1 -0.000158  0.001089         3  8.848302e-01"
      ]
     },
     "metadata": {},
     "output_type": "display_data"
    }
   ],
   "source": [
    "rep_results_df = pd.DataFrame(data=results, columns=['feature', 'coef', 'stderr', 'term_cnt', 'p-value'])\n",
    "print(this_df.shape)\n",
    "display(this_df.head())"
   ]
  },
  {
   "cell_type": "markdown",
   "id": "26e182b2",
   "metadata": {},
   "source": [
    "#### calc FDR"
   ]
  },
  {
   "cell_type": "code",
   "execution_count": 36,
   "id": "f4a8172d",
   "metadata": {},
   "outputs": [
    {
     "name": "stdout",
     "output_type": "stream",
     "text": [
      "(9187, 6)\n"
     ]
    },
    {
     "data": {
      "text/html": [
       "<div>\n",
       "<style scoped>\n",
       "    .dataframe tbody tr th:only-of-type {\n",
       "        vertical-align: middle;\n",
       "    }\n",
       "\n",
       "    .dataframe tbody tr th {\n",
       "        vertical-align: top;\n",
       "    }\n",
       "\n",
       "    .dataframe thead th {\n",
       "        text-align: right;\n",
       "    }\n",
       "</style>\n",
       "<table border=\"1\" class=\"dataframe\">\n",
       "  <thead>\n",
       "    <tr style=\"text-align: right;\">\n",
       "      <th></th>\n",
       "      <th>feature</th>\n",
       "      <th>coef</th>\n",
       "      <th>stderr</th>\n",
       "      <th>term_cnt</th>\n",
       "      <th>p-value</th>\n",
       "      <th>bh_fdr</th>\n",
       "    </tr>\n",
       "  </thead>\n",
       "  <tbody>\n",
       "    <tr>\n",
       "      <th>0</th>\n",
       "      <td>ENSG00000263812.5</td>\n",
       "      <td>0.007703</td>\n",
       "      <td>0.001732</td>\n",
       "      <td>3</td>\n",
       "      <td>0.000009</td>\n",
       "      <td>0.000034</td>\n",
       "    </tr>\n",
       "    <tr>\n",
       "      <th>1</th>\n",
       "      <td>ENSG00000188820.12</td>\n",
       "      <td>-0.006475</td>\n",
       "      <td>0.001372</td>\n",
       "      <td>3</td>\n",
       "      <td>0.000002</td>\n",
       "      <td>0.000010</td>\n",
       "    </tr>\n",
       "    <tr>\n",
       "      <th>2</th>\n",
       "      <td>ENSG00000203865.9</td>\n",
       "      <td>0.001123</td>\n",
       "      <td>0.001717</td>\n",
       "      <td>3</td>\n",
       "      <td>0.513040</td>\n",
       "      <td>0.588929</td>\n",
       "    </tr>\n",
       "    <tr>\n",
       "      <th>3</th>\n",
       "      <td>ENSG00000142230.11</td>\n",
       "      <td>-0.004701</td>\n",
       "      <td>0.001521</td>\n",
       "      <td>3</td>\n",
       "      <td>0.001995</td>\n",
       "      <td>0.004478</td>\n",
       "    </tr>\n",
       "    <tr>\n",
       "      <th>4</th>\n",
       "      <td>ENSG00000268683.1</td>\n",
       "      <td>-0.001301</td>\n",
       "      <td>0.002033</td>\n",
       "      <td>3</td>\n",
       "      <td>0.522374</td>\n",
       "      <td>0.597605</td>\n",
       "    </tr>\n",
       "  </tbody>\n",
       "</table>\n",
       "</div>"
      ],
      "text/plain": [
       "              feature      coef    stderr  term_cnt   p-value    bh_fdr\n",
       "0   ENSG00000263812.5  0.007703  0.001732         3  0.000009  0.000034\n",
       "1  ENSG00000188820.12 -0.006475  0.001372         3  0.000002  0.000010\n",
       "2   ENSG00000203865.9  0.001123  0.001717         3  0.513040  0.588929\n",
       "3  ENSG00000142230.11 -0.004701  0.001521         3  0.001995  0.004478\n",
       "4   ENSG00000268683.1 -0.001301  0.002033         3  0.522374  0.597605"
      ]
     },
     "metadata": {},
     "output_type": "display_data"
    }
   ],
   "source": [
    "alpha=0.05\n",
    "method='fdr_bh'\n",
    "test_adjust = smm.multipletests(np.array(rep_results_df['p-value']),\n",
    "                                alpha=alpha, method=method)\n",
    "rep_results_df['bh_fdr'] = test_adjust[1]\n",
    "\n",
    "print(rep_results_df.loc[rep_results_df['bh_fdr'] < 0.05].shape)\n",
    "display(rep_results_df.head())"
   ]
  },
  {
   "cell_type": "markdown",
   "id": "c6d51195",
   "metadata": {},
   "source": [
    "#### save the replication cohort results"
   ]
  },
  {
   "cell_type": "code",
   "execution_count": 37,
   "id": "077ebea1",
   "metadata": {},
   "outputs": [],
   "source": [
    "out_file = f'{home_dir}/{rep_name}/results/{rep_name}.expr_time_mm.csv'\n",
    "rep_results_df.to_csv(out_file, index=False)"
   ]
  },
  {
   "cell_type": "markdown",
   "id": "51758f0c",
   "metadata": {},
   "source": [
    "#### find replicated"
   ]
  },
  {
   "cell_type": "code",
   "execution_count": 62,
   "id": "522314e2",
   "metadata": {},
   "outputs": [
    {
     "name": "stdout",
     "output_type": "stream",
     "text": [
      "(5159, 6)\n"
     ]
    },
    {
     "data": {
      "text/html": [
       "<div>\n",
       "<style scoped>\n",
       "    .dataframe tbody tr th:only-of-type {\n",
       "        vertical-align: middle;\n",
       "    }\n",
       "\n",
       "    .dataframe tbody tr th {\n",
       "        vertical-align: top;\n",
       "    }\n",
       "\n",
       "    .dataframe thead th {\n",
       "        text-align: right;\n",
       "    }\n",
       "</style>\n",
       "<table border=\"1\" class=\"dataframe\">\n",
       "  <thead>\n",
       "    <tr style=\"text-align: right;\">\n",
       "      <th></th>\n",
       "      <th>feature</th>\n",
       "      <th>coef</th>\n",
       "      <th>stderr</th>\n",
       "      <th>term_cnt</th>\n",
       "      <th>p-value</th>\n",
       "      <th>bh_fdr</th>\n",
       "    </tr>\n",
       "  </thead>\n",
       "  <tbody>\n",
       "    <tr>\n",
       "      <th>0</th>\n",
       "      <td>ENSG00000263812.5</td>\n",
       "      <td>0.007703</td>\n",
       "      <td>0.001732</td>\n",
       "      <td>3</td>\n",
       "      <td>8.668913e-06</td>\n",
       "      <td>3.365399e-05</td>\n",
       "    </tr>\n",
       "    <tr>\n",
       "      <th>3</th>\n",
       "      <td>ENSG00000142230.11</td>\n",
       "      <td>-0.004701</td>\n",
       "      <td>0.001521</td>\n",
       "      <td>3</td>\n",
       "      <td>1.994538e-03</td>\n",
       "      <td>4.477876e-03</td>\n",
       "    </tr>\n",
       "    <tr>\n",
       "      <th>8</th>\n",
       "      <td>ENSG00000185164.14</td>\n",
       "      <td>0.004668</td>\n",
       "      <td>0.001639</td>\n",
       "      <td>3</td>\n",
       "      <td>4.405090e-03</td>\n",
       "      <td>9.129800e-03</td>\n",
       "    </tr>\n",
       "    <tr>\n",
       "      <th>10</th>\n",
       "      <td>ENSG00000207166.1</td>\n",
       "      <td>0.002816</td>\n",
       "      <td>0.001082</td>\n",
       "      <td>3</td>\n",
       "      <td>9.238322e-03</td>\n",
       "      <td>1.764903e-02</td>\n",
       "    </tr>\n",
       "    <tr>\n",
       "      <th>14</th>\n",
       "      <td>ENSG00000246731.2</td>\n",
       "      <td>-0.008115</td>\n",
       "      <td>0.001549</td>\n",
       "      <td>3</td>\n",
       "      <td>1.614023e-07</td>\n",
       "      <td>9.032979e-07</td>\n",
       "    </tr>\n",
       "  </tbody>\n",
       "</table>\n",
       "</div>"
      ],
      "text/plain": [
       "               feature      coef    stderr  term_cnt       p-value  \\\n",
       "0    ENSG00000263812.5  0.007703  0.001732         3  8.668913e-06   \n",
       "3   ENSG00000142230.11 -0.004701  0.001521         3  1.994538e-03   \n",
       "8   ENSG00000185164.14  0.004668  0.001639         3  4.405090e-03   \n",
       "10   ENSG00000207166.1  0.002816  0.001082         3  9.238322e-03   \n",
       "14   ENSG00000246731.2 -0.008115  0.001549         3  1.614023e-07   \n",
       "\n",
       "          bh_fdr  \n",
       "0   3.365399e-05  \n",
       "3   4.477876e-03  \n",
       "8   9.129800e-03  \n",
       "10  1.764903e-02  \n",
       "14  9.032979e-07  "
      ]
     },
     "metadata": {},
     "output_type": "display_data"
    }
   ],
   "source": [
    "# get sig in discovery\n",
    "sig_df = dics_results_df.loc[dics_results_df['bh_fdr'] < 0.05]\n",
    "replicated_df = rep_results_df.loc[(rep_results_df['feature'].isin(sig_df['feature'])) & \n",
    "                                   (rep_results_df['bh_fdr'] < 0.05)]\n",
    "print(replicated_df.shape)\n",
    "display(replicated_df.head())"
   ]
  },
  {
   "cell_type": "code",
   "execution_count": 63,
   "id": "3af49b64",
   "metadata": {},
   "outputs": [
    {
     "name": "stdout",
     "output_type": "stream",
     "text": [
      "(10318, 7)\n"
     ]
    },
    {
     "name": "stderr",
     "output_type": "stream",
     "text": [
      "/opt/conda/lib/python3.7/site-packages/ipykernel_launcher.py:2: SettingWithCopyWarning: \n",
      "A value is trying to be set on a copy of a slice from a DataFrame.\n",
      "Try using .loc[row_indexer,col_indexer] = value instead\n",
      "\n",
      "See the caveats in the documentation: https://pandas.pydata.org/pandas-docs/stable/user_guide/indexing.html#returning-a-view-versus-a-copy\n",
      "  \n",
      "/opt/conda/lib/python3.7/site-packages/ipykernel_launcher.py:3: SettingWithCopyWarning: \n",
      "A value is trying to be set on a copy of a slice from a DataFrame.\n",
      "Try using .loc[row_indexer,col_indexer] = value instead\n",
      "\n",
      "See the caveats in the documentation: https://pandas.pydata.org/pandas-docs/stable/user_guide/indexing.html#returning-a-view-versus-a-copy\n",
      "  This is separate from the ipykernel package so we can avoid doing imports until\n"
     ]
    },
    {
     "data": {
      "text/html": [
       "<div>\n",
       "<style scoped>\n",
       "    .dataframe tbody tr th:only-of-type {\n",
       "        vertical-align: middle;\n",
       "    }\n",
       "\n",
       "    .dataframe tbody tr th {\n",
       "        vertical-align: top;\n",
       "    }\n",
       "\n",
       "    .dataframe thead th {\n",
       "        text-align: right;\n",
       "    }\n",
       "</style>\n",
       "<table border=\"1\" class=\"dataframe\">\n",
       "  <thead>\n",
       "    <tr style=\"text-align: right;\">\n",
       "      <th></th>\n",
       "      <th>feature</th>\n",
       "      <th>coef</th>\n",
       "      <th>stderr</th>\n",
       "      <th>term_cnt</th>\n",
       "      <th>p-value</th>\n",
       "      <th>bh_fdr</th>\n",
       "      <th>cohort</th>\n",
       "    </tr>\n",
       "  </thead>\n",
       "  <tbody>\n",
       "    <tr>\n",
       "      <th>0</th>\n",
       "      <td>ENSG00000263812.5</td>\n",
       "      <td>0.002463</td>\n",
       "      <td>0.000966</td>\n",
       "      <td>3</td>\n",
       "      <td>1.077182e-02</td>\n",
       "      <td>2.414147e-02</td>\n",
       "      <td>PP</td>\n",
       "    </tr>\n",
       "    <tr>\n",
       "      <th>3</th>\n",
       "      <td>ENSG00000142230.11</td>\n",
       "      <td>-0.008054</td>\n",
       "      <td>0.001119</td>\n",
       "      <td>3</td>\n",
       "      <td>6.225744e-13</td>\n",
       "      <td>1.682146e-11</td>\n",
       "      <td>PP</td>\n",
       "    </tr>\n",
       "    <tr>\n",
       "      <th>8</th>\n",
       "      <td>ENSG00000185164.14</td>\n",
       "      <td>0.002418</td>\n",
       "      <td>0.000926</td>\n",
       "      <td>3</td>\n",
       "      <td>9.054107e-03</td>\n",
       "      <td>2.074218e-02</td>\n",
       "      <td>PP</td>\n",
       "    </tr>\n",
       "    <tr>\n",
       "      <th>10</th>\n",
       "      <td>ENSG00000207166.1</td>\n",
       "      <td>0.007776</td>\n",
       "      <td>0.001026</td>\n",
       "      <td>3</td>\n",
       "      <td>3.499672e-14</td>\n",
       "      <td>1.188200e-12</td>\n",
       "      <td>PP</td>\n",
       "    </tr>\n",
       "    <tr>\n",
       "      <th>14</th>\n",
       "      <td>ENSG00000246731.2</td>\n",
       "      <td>-0.003225</td>\n",
       "      <td>0.001123</td>\n",
       "      <td>3</td>\n",
       "      <td>4.064190e-03</td>\n",
       "      <td>1.034898e-02</td>\n",
       "      <td>PP</td>\n",
       "    </tr>\n",
       "  </tbody>\n",
       "</table>\n",
       "</div>"
      ],
      "text/plain": [
       "               feature      coef    stderr  term_cnt       p-value  \\\n",
       "0    ENSG00000263812.5  0.002463  0.000966         3  1.077182e-02   \n",
       "3   ENSG00000142230.11 -0.008054  0.001119         3  6.225744e-13   \n",
       "8   ENSG00000185164.14  0.002418  0.000926         3  9.054107e-03   \n",
       "10   ENSG00000207166.1  0.007776  0.001026         3  3.499672e-14   \n",
       "14   ENSG00000246731.2 -0.003225  0.001123         3  4.064190e-03   \n",
       "\n",
       "          bh_fdr cohort  \n",
       "0   2.414147e-02     PP  \n",
       "3   1.682146e-11     PP  \n",
       "8   2.074218e-02     PP  \n",
       "10  1.188200e-12     PP  \n",
       "14  1.034898e-02     PP  "
      ]
     },
     "metadata": {},
     "output_type": "display_data"
    }
   ],
   "source": [
    "disc_replicated_df = sig_df.loc[sig_df['feature'].isin(replicated_df['feature'])]\n",
    "disc_replicated_df['cohort'] = disc_cohort\n",
    "replicated_df['cohort'] = rep_cohort\n",
    "disc_replicated_df = pd.concat([disc_replicated_df, replicated_df])\n",
    "print(disc_replicated_df.shape)\n",
    "display(disc_replicated_df.head())"
   ]
  },
  {
   "cell_type": "code",
   "execution_count": 64,
   "id": "3026a1e7",
   "metadata": {},
   "outputs": [
    {
     "data": {
      "text/plain": [
       "PP    5159\n",
       "PD    5159\n",
       "Name: cohort, dtype: int64"
      ]
     },
     "execution_count": 64,
     "metadata": {},
     "output_type": "execute_result"
    }
   ],
   "source": [
    "disc_replicated_df['cohort'].value_counts()"
   ]
  },
  {
   "cell_type": "markdown",
   "id": "95628fbe",
   "metadata": {},
   "source": [
    "#### save the replicated results"
   ]
  },
  {
   "cell_type": "code",
   "execution_count": 65,
   "id": "21a97979",
   "metadata": {},
   "outputs": [],
   "source": [
    "out_file = f'{home_dir}/{disc_name}/results/{disc_name}.replicated.expr_time_mm.csv'\n",
    "disc_replicated_df.to_csv(out_file, index=False)"
   ]
  },
  {
   "cell_type": "markdown",
   "id": "586fb619",
   "metadata": {},
   "source": [
    "#### do some example plotting"
   ]
  },
  {
   "cell_type": "code",
   "execution_count": 66,
   "id": "7e91d0a1",
   "metadata": {},
   "outputs": [
    {
     "name": "stdout",
     "output_type": "stream",
     "text": [
      "(4607, 5199)\n"
     ]
    }
   ],
   "source": [
    "keep_cols = set(replicated_df['feature']) | set(disc_cov_df.columns)\n",
    "disc_rep_df = disc_df[keep_cols]\n",
    "print(disc_rep_df.shape)\n",
    "# display(disc_rep_df.head())"
   ]
  },
  {
   "cell_type": "code",
   "execution_count": 49,
   "id": "f9500993",
   "metadata": {},
   "outputs": [
    {
     "data": {
      "text/html": [
       "<div>\n",
       "<style scoped>\n",
       "    .dataframe tbody tr th:only-of-type {\n",
       "        vertical-align: middle;\n",
       "    }\n",
       "\n",
       "    .dataframe tbody tr th {\n",
       "        vertical-align: top;\n",
       "    }\n",
       "\n",
       "    .dataframe thead th {\n",
       "        text-align: right;\n",
       "    }\n",
       "</style>\n",
       "<table border=\"1\" class=\"dataframe\">\n",
       "  <thead>\n",
       "    <tr style=\"text-align: right;\">\n",
       "      <th></th>\n",
       "      <th>feature</th>\n",
       "      <th>coef</th>\n",
       "      <th>stderr</th>\n",
       "      <th>term_cnt</th>\n",
       "      <th>p-value</th>\n",
       "      <th>bh_fdr</th>\n",
       "    </tr>\n",
       "  </thead>\n",
       "  <tbody>\n",
       "    <tr>\n",
       "      <th>0</th>\n",
       "      <td>ENSG00000263812.5</td>\n",
       "      <td>0.002463</td>\n",
       "      <td>0.000966</td>\n",
       "      <td>3</td>\n",
       "      <td>1.077182e-02</td>\n",
       "      <td>2.414147e-02</td>\n",
       "    </tr>\n",
       "    <tr>\n",
       "      <th>2</th>\n",
       "      <td>ENSG00000203865.9</td>\n",
       "      <td>-0.004776</td>\n",
       "      <td>0.001135</td>\n",
       "      <td>3</td>\n",
       "      <td>2.559569e-05</td>\n",
       "      <td>1.222309e-04</td>\n",
       "    </tr>\n",
       "    <tr>\n",
       "      <th>3</th>\n",
       "      <td>ENSG00000142230.11</td>\n",
       "      <td>-0.008054</td>\n",
       "      <td>0.001119</td>\n",
       "      <td>3</td>\n",
       "      <td>6.225744e-13</td>\n",
       "      <td>1.682146e-11</td>\n",
       "    </tr>\n",
       "    <tr>\n",
       "      <th>7</th>\n",
       "      <td>ENSG00000147687.18</td>\n",
       "      <td>-0.004315</td>\n",
       "      <td>0.001170</td>\n",
       "      <td>3</td>\n",
       "      <td>2.244701e-04</td>\n",
       "      <td>8.223489e-04</td>\n",
       "    </tr>\n",
       "    <tr>\n",
       "      <th>8</th>\n",
       "      <td>ENSG00000185164.14</td>\n",
       "      <td>0.002418</td>\n",
       "      <td>0.000926</td>\n",
       "      <td>3</td>\n",
       "      <td>9.054107e-03</td>\n",
       "      <td>2.074218e-02</td>\n",
       "    </tr>\n",
       "  </tbody>\n",
       "</table>\n",
       "</div>"
      ],
      "text/plain": [
       "              feature      coef    stderr  term_cnt       p-value  \\\n",
       "0   ENSG00000263812.5  0.002463  0.000966         3  1.077182e-02   \n",
       "2   ENSG00000203865.9 -0.004776  0.001135         3  2.559569e-05   \n",
       "3  ENSG00000142230.11 -0.008054  0.001119         3  6.225744e-13   \n",
       "7  ENSG00000147687.18 -0.004315  0.001170         3  2.244701e-04   \n",
       "8  ENSG00000185164.14  0.002418  0.000926         3  9.054107e-03   \n",
       "\n",
       "         bh_fdr  \n",
       "0  2.414147e-02  \n",
       "2  1.222309e-04  \n",
       "3  1.682146e-11  \n",
       "7  8.223489e-04  \n",
       "8  2.074218e-02  "
      ]
     },
     "execution_count": 49,
     "metadata": {},
     "output_type": "execute_result"
    }
   ],
   "source": [
    "sig_df.head()"
   ]
  },
  {
   "cell_type": "code",
   "execution_count": 67,
   "id": "99bf28e6",
   "metadata": {},
   "outputs": [
    {
     "data": {
      "text/html": [
       "<div>\n",
       "<style scoped>\n",
       "    .dataframe tbody tr th:only-of-type {\n",
       "        vertical-align: middle;\n",
       "    }\n",
       "\n",
       "    .dataframe tbody tr th {\n",
       "        vertical-align: top;\n",
       "    }\n",
       "\n",
       "    .dataframe thead th {\n",
       "        text-align: right;\n",
       "    }\n",
       "</style>\n",
       "<table border=\"1\" class=\"dataframe\">\n",
       "  <thead>\n",
       "    <tr style=\"text-align: right;\">\n",
       "      <th></th>\n",
       "      <th>feature</th>\n",
       "      <th>coef</th>\n",
       "      <th>stderr</th>\n",
       "      <th>term_cnt</th>\n",
       "      <th>p-value</th>\n",
       "      <th>bh_fdr</th>\n",
       "    </tr>\n",
       "  </thead>\n",
       "  <tbody>\n",
       "    <tr>\n",
       "      <th>14242</th>\n",
       "      <td>ENSG00000132002.7</td>\n",
       "      <td>-0.013</td>\n",
       "      <td>0.001016</td>\n",
       "      <td>3</td>\n",
       "      <td>1.826458e-37</td>\n",
       "      <td>2.827723e-33</td>\n",
       "    </tr>\n",
       "  </tbody>\n",
       "</table>\n",
       "</div>"
      ],
      "text/plain": [
       "                 feature   coef    stderr  term_cnt       p-value  \\\n",
       "14242  ENSG00000132002.7 -0.013  0.001016         3  1.826458e-37   \n",
       "\n",
       "             bh_fdr  \n",
       "14242  2.827723e-33  "
      ]
     },
     "metadata": {},
     "output_type": "display_data"
    },
    {
     "data": {
      "text/html": [
       "<div>\n",
       "<style scoped>\n",
       "    .dataframe tbody tr th:only-of-type {\n",
       "        vertical-align: middle;\n",
       "    }\n",
       "\n",
       "    .dataframe tbody tr th {\n",
       "        vertical-align: top;\n",
       "    }\n",
       "\n",
       "    .dataframe thead th {\n",
       "        text-align: right;\n",
       "    }\n",
       "</style>\n",
       "<table border=\"1\" class=\"dataframe\">\n",
       "  <thead>\n",
       "    <tr style=\"text-align: right;\">\n",
       "      <th></th>\n",
       "      <th>feature</th>\n",
       "      <th>coef</th>\n",
       "      <th>stderr</th>\n",
       "      <th>term_cnt</th>\n",
       "      <th>p-value</th>\n",
       "      <th>bh_fdr</th>\n",
       "    </tr>\n",
       "  </thead>\n",
       "  <tbody>\n",
       "    <tr>\n",
       "      <th>1296</th>\n",
       "      <td>ENSG00000263676.1</td>\n",
       "      <td>-0.002414</td>\n",
       "      <td>0.00108</td>\n",
       "      <td>3</td>\n",
       "      <td>0.025394</td>\n",
       "      <td>0.049957</td>\n",
       "    </tr>\n",
       "  </tbody>\n",
       "</table>\n",
       "</div>"
      ],
      "text/plain": [
       "                feature      coef   stderr  term_cnt   p-value    bh_fdr\n",
       "1296  ENSG00000263676.1 -0.002414  0.00108         3  0.025394  0.049957"
      ]
     },
     "metadata": {},
     "output_type": "display_data"
    }
   ],
   "source": [
    "disc_replicated_df = sig_df.loc[sig_df['feature'].isin(replicated_df['feature'])]\n",
    "display(disc_replicated_df.loc[disc_replicated_df['p-value'] == min(disc_replicated_df['p-value'])])\n",
    "display(disc_replicated_df.loc[disc_replicated_df['p-value'] == max(disc_replicated_df['p-value'])])"
   ]
  },
  {
   "cell_type": "code",
   "execution_count": 57,
   "id": "ad695bda",
   "metadata": {},
   "outputs": [
    {
     "data": {
      "text/plain": [
       "<seaborn.axisgrid.FacetGrid at 0x7f4f64334850>"
      ]
     },
     "execution_count": 57,
     "metadata": {},
     "output_type": "execute_result"
    },
    {
     "data": {
      "image/png": "[encoded data removed]",
      "text/plain": [
       "<Figure size 495.125x360 with 1 Axes>"
      ]
     },
     "metadata": {
      "needs_background": "light"
     },
     "output_type": "display_data"
    }
   ],
   "source": [
    "sns.lmplot(x='month', y='ENSG00000132002.7', hue='case_control_other_latest', \n",
    "           data=disc_rep_df, palette='Set1')"
   ]
  },
  {
   "cell_type": "code",
   "execution_count": 59,
   "id": "e0e40684",
   "metadata": {},
   "outputs": [
    {
     "data": {
      "text/plain": [
       "<AxesSubplot:xlabel='month', ylabel='ENSG00000132002.7'>"
      ]
     },
     "execution_count": 59,
     "metadata": {},
     "output_type": "execute_result"
    },
    {
     "data": {
      "image/png": "[encoded data removed]",
      "text/plain": [
       "<Figure size 432x288 with 1 Axes>"
      ]
     },
     "metadata": {
      "needs_background": "light"
     },
     "output_type": "display_data"
    }
   ],
   "source": [
    "sns.lineplot(x='month', y='ENSG00000132002.7', hue='case_control_other_latest', \n",
    "           data=disc_rep_df, palette='Set1')"
   ]
  },
  {
   "cell_type": "code",
   "execution_count": 68,
   "id": "eea25a7b",
   "metadata": {},
   "outputs": [
    {
     "data": {
      "text/plain": [
       "<AxesSubplot:xlabel='month', ylabel='ENSG00000263676.1'>"
      ]
     },
     "execution_count": 68,
     "metadata": {},
     "output_type": "execute_result"
    },
    {
     "data": {
      "image/png": "[encoded data removed]",
      "text/plain": [
       "<Figure size 432x288 with 1 Axes>"
      ]
     },
     "metadata": {
      "needs_background": "light"
     },
     "output_type": "display_data"
    }
   ],
   "source": [
    "sns.lineplot(x='month', y='ENSG00000263676.1', hue='case_control_other_latest', \n",
    "           data=disc_rep_df, palette='Set1')"
   ]
  },
  {
   "cell_type": "markdown",
   "id": "63a5312f",
   "metadata": {},
   "source": [
    "### now re-run everything included age and set in the mixed model by subject"
   ]
  },
  {
   "cell_type": "markdown",
   "id": "699c33fe",
   "metadata": {},
   "source": [
    "#### run the discovery cohort"
   ]
  },
  {
   "cell_type": "code",
   "execution_count": 16,
   "id": "a9cf2abe",
   "metadata": {},
   "outputs": [
    {
     "name": "stderr",
     "output_type": "stream",
     "text": [
      "/opt/conda/lib/python3.7/site-packages/statsmodels/regression/mixed_linear_model.py:2237: ConvergenceWarning: The MLE may be on the boundary of the parameter space.\n",
      "  warnings.warn(msg, ConvergenceWarning)\n",
      "/opt/conda/lib/python3.7/site-packages/statsmodels/regression/mixed_linear_model.py:2237: ConvergenceWarning: The MLE may be on the boundary of the parameter space.\n",
      "  warnings.warn(msg, ConvergenceWarning)\n",
      "/opt/conda/lib/python3.7/site-packages/statsmodels/regression/mixed_linear_model.py:2237: ConvergenceWarning: The MLE may be on the boundary of the parameter space.\n",
      "  warnings.warn(msg, ConvergenceWarning)\n",
      "/opt/conda/lib/python3.7/site-packages/statsmodels/regression/mixed_linear_model.py:2237: ConvergenceWarning: The MLE may be on the boundary of the parameter space.\n",
      "  warnings.warn(msg, ConvergenceWarning)\n",
      "/opt/conda/lib/python3.7/site-packages/statsmodels/regression/mixed_linear_model.py:2237: ConvergenceWarning: The MLE may be on the boundary of the parameter space.\n",
      "  warnings.warn(msg, ConvergenceWarning)\n",
      "/opt/conda/lib/python3.7/site-packages/statsmodels/regression/mixed_linear_model.py:2237: ConvergenceWarning: The MLE may be on the boundary of the parameter space.\n",
      "  warnings.warn(msg, ConvergenceWarning)\n",
      "/opt/conda/lib/python3.7/site-packages/statsmodels/regression/mixed_linear_model.py:2237: ConvergenceWarning: The MLE may be on the boundary of the parameter space.\n",
      "  warnings.warn(msg, ConvergenceWarning)\n",
      "/opt/conda/lib/python3.7/site-packages/statsmodels/regression/mixed_linear_model.py:2237: ConvergenceWarning: The MLE may be on the boundary of the parameter space.\n",
      "  warnings.warn(msg, ConvergenceWarning)\n",
      "/opt/conda/lib/python3.7/site-packages/statsmodels/regression/mixed_linear_model.py:2237: ConvergenceWarning: The MLE may be on the boundary of the parameter space.\n",
      "  warnings.warn(msg, ConvergenceWarning)\n",
      "/opt/conda/lib/python3.7/site-packages/statsmodels/regression/mixed_linear_model.py:2237: ConvergenceWarning: The MLE may be on the boundary of the parameter space.\n",
      "  warnings.warn(msg, ConvergenceWarning)\n",
      "/opt/conda/lib/python3.7/site-packages/statsmodels/regression/mixed_linear_model.py:2237: ConvergenceWarning: The MLE may be on the boundary of the parameter space.\n",
      "  warnings.warn(msg, ConvergenceWarning)\n"
     ]
    },
    {
     "name": "stdout",
     "output_type": "stream",
     "text": [
      "CPU times: user 34.3 s, sys: 50.8 s, total: 1min 25s\n",
      "Wall time: 55min 9s\n"
     ]
    }
   ],
   "source": [
    "%%time\n",
    "indep_var = 'month'\n",
    "grouping = 'wgsid'\n",
    "\n",
    "fs_list = []\n",
    "lm_results = []\n",
    "with concurrent.futures.ProcessPoolExecutor(max_workers=max_threads*2) as ppe:\n",
    "    for batch_features in features_partioned:\n",
    "        fs_list.append(ppe.submit(run_mm_batch, batch_features, indep_var, disc_df, grouping, True))\n",
    "    for future in concurrent.futures.as_completed(fs_list):\n",
    "        lm_results.append(future.result())"
   ]
  },
  {
   "cell_type": "code",
   "execution_count": 17,
   "id": "0ddc5930",
   "metadata": {},
   "outputs": [],
   "source": [
    "# flatten the list\n",
    "results = [item for sublist in lm_results for item in sublist]"
   ]
  },
  {
   "cell_type": "code",
   "execution_count": 19,
   "id": "7a135602",
   "metadata": {},
   "outputs": [
    {
     "name": "stdout",
     "output_type": "stream",
     "text": [
      "(15482, 5)\n"
     ]
    },
    {
     "data": {
      "text/html": [
       "<div>\n",
       "<style scoped>\n",
       "    .dataframe tbody tr th:only-of-type {\n",
       "        vertical-align: middle;\n",
       "    }\n",
       "\n",
       "    .dataframe tbody tr th {\n",
       "        vertical-align: top;\n",
       "    }\n",
       "\n",
       "    .dataframe thead th {\n",
       "        text-align: right;\n",
       "    }\n",
       "</style>\n",
       "<table border=\"1\" class=\"dataframe\">\n",
       "  <thead>\n",
       "    <tr style=\"text-align: right;\">\n",
       "      <th></th>\n",
       "      <th>feature</th>\n",
       "      <th>coef</th>\n",
       "      <th>stderr</th>\n",
       "      <th>term_cnt</th>\n",
       "      <th>p-value</th>\n",
       "    </tr>\n",
       "  </thead>\n",
       "  <tbody>\n",
       "    <tr>\n",
       "      <th>0</th>\n",
       "      <td>ENSG00000263812.5</td>\n",
       "      <td>0.002419</td>\n",
       "      <td>0.000967</td>\n",
       "      <td>5</td>\n",
       "      <td>1.233562e-02</td>\n",
       "    </tr>\n",
       "    <tr>\n",
       "      <th>1</th>\n",
       "      <td>ENSG00000188820.12</td>\n",
       "      <td>-0.000446</td>\n",
       "      <td>0.000866</td>\n",
       "      <td>5</td>\n",
       "      <td>6.064639e-01</td>\n",
       "    </tr>\n",
       "    <tr>\n",
       "      <th>2</th>\n",
       "      <td>ENSG00000203865.9</td>\n",
       "      <td>-0.004467</td>\n",
       "      <td>0.001133</td>\n",
       "      <td>5</td>\n",
       "      <td>8.052568e-05</td>\n",
       "    </tr>\n",
       "    <tr>\n",
       "      <th>3</th>\n",
       "      <td>ENSG00000142230.11</td>\n",
       "      <td>-0.007709</td>\n",
       "      <td>0.001117</td>\n",
       "      <td>5</td>\n",
       "      <td>5.116885e-12</td>\n",
       "    </tr>\n",
       "    <tr>\n",
       "      <th>4</th>\n",
       "      <td>ENSG00000268683.1</td>\n",
       "      <td>-0.000177</td>\n",
       "      <td>0.001091</td>\n",
       "      <td>5</td>\n",
       "      <td>8.710182e-01</td>\n",
       "    </tr>\n",
       "  </tbody>\n",
       "</table>\n",
       "</div>"
      ],
      "text/plain": [
       "              feature      coef    stderr  term_cnt       p-value\n",
       "0   ENSG00000263812.5  0.002419  0.000967         5  1.233562e-02\n",
       "1  ENSG00000188820.12 -0.000446  0.000866         5  6.064639e-01\n",
       "2   ENSG00000203865.9 -0.004467  0.001133         5  8.052568e-05\n",
       "3  ENSG00000142230.11 -0.007709  0.001117         5  5.116885e-12\n",
       "4   ENSG00000268683.1 -0.000177  0.001091         5  8.710182e-01"
      ]
     },
     "metadata": {},
     "output_type": "display_data"
    }
   ],
   "source": [
    "dics_results_df = pd.DataFrame(data=results, columns=['feature', 'coef', 'stderr', 'term_cnt', 'p-value'])\n",
    "print(dics_results_df.shape)\n",
    "display(dics_results_df.head())"
   ]
  },
  {
   "cell_type": "markdown",
   "id": "ed25c6dc",
   "metadata": {},
   "source": [
    "#### calc FDR"
   ]
  },
  {
   "cell_type": "code",
   "execution_count": 20,
   "id": "bb54a862",
   "metadata": {},
   "outputs": [
    {
     "name": "stdout",
     "output_type": "stream",
     "text": [
      "(7705, 6)\n"
     ]
    },
    {
     "data": {
      "text/html": [
       "<div>\n",
       "<style scoped>\n",
       "    .dataframe tbody tr th:only-of-type {\n",
       "        vertical-align: middle;\n",
       "    }\n",
       "\n",
       "    .dataframe tbody tr th {\n",
       "        vertical-align: top;\n",
       "    }\n",
       "\n",
       "    .dataframe thead th {\n",
       "        text-align: right;\n",
       "    }\n",
       "</style>\n",
       "<table border=\"1\" class=\"dataframe\">\n",
       "  <thead>\n",
       "    <tr style=\"text-align: right;\">\n",
       "      <th></th>\n",
       "      <th>feature</th>\n",
       "      <th>coef</th>\n",
       "      <th>stderr</th>\n",
       "      <th>term_cnt</th>\n",
       "      <th>p-value</th>\n",
       "      <th>bh_fdr</th>\n",
       "    </tr>\n",
       "  </thead>\n",
       "  <tbody>\n",
       "    <tr>\n",
       "      <th>0</th>\n",
       "      <td>ENSG00000263812.5</td>\n",
       "      <td>0.002419</td>\n",
       "      <td>0.000967</td>\n",
       "      <td>5</td>\n",
       "      <td>1.233562e-02</td>\n",
       "      <td>2.746334e-02</td>\n",
       "    </tr>\n",
       "    <tr>\n",
       "      <th>1</th>\n",
       "      <td>ENSG00000188820.12</td>\n",
       "      <td>-0.000446</td>\n",
       "      <td>0.000866</td>\n",
       "      <td>5</td>\n",
       "      <td>6.064639e-01</td>\n",
       "      <td>6.911502e-01</td>\n",
       "    </tr>\n",
       "    <tr>\n",
       "      <th>2</th>\n",
       "      <td>ENSG00000203865.9</td>\n",
       "      <td>-0.004467</td>\n",
       "      <td>0.001133</td>\n",
       "      <td>5</td>\n",
       "      <td>8.052568e-05</td>\n",
       "      <td>3.436325e-04</td>\n",
       "    </tr>\n",
       "    <tr>\n",
       "      <th>3</th>\n",
       "      <td>ENSG00000142230.11</td>\n",
       "      <td>-0.007709</td>\n",
       "      <td>0.001117</td>\n",
       "      <td>5</td>\n",
       "      <td>5.116885e-12</td>\n",
       "      <td>1.182382e-10</td>\n",
       "    </tr>\n",
       "    <tr>\n",
       "      <th>4</th>\n",
       "      <td>ENSG00000268683.1</td>\n",
       "      <td>-0.000177</td>\n",
       "      <td>0.001091</td>\n",
       "      <td>5</td>\n",
       "      <td>8.710182e-01</td>\n",
       "      <td>9.080878e-01</td>\n",
       "    </tr>\n",
       "  </tbody>\n",
       "</table>\n",
       "</div>"
      ],
      "text/plain": [
       "              feature      coef    stderr  term_cnt       p-value  \\\n",
       "0   ENSG00000263812.5  0.002419  0.000967         5  1.233562e-02   \n",
       "1  ENSG00000188820.12 -0.000446  0.000866         5  6.064639e-01   \n",
       "2   ENSG00000203865.9 -0.004467  0.001133         5  8.052568e-05   \n",
       "3  ENSG00000142230.11 -0.007709  0.001117         5  5.116885e-12   \n",
       "4   ENSG00000268683.1 -0.000177  0.001091         5  8.710182e-01   \n",
       "\n",
       "         bh_fdr  \n",
       "0  2.746334e-02  \n",
       "1  6.911502e-01  \n",
       "2  3.436325e-04  \n",
       "3  1.182382e-10  \n",
       "4  9.080878e-01  "
      ]
     },
     "metadata": {},
     "output_type": "display_data"
    }
   ],
   "source": [
    "alpha=0.05\n",
    "method='fdr_bh'\n",
    "test_adjust = smm.multipletests(np.array(dics_results_df['p-value']),\n",
    "                                alpha=alpha, method=method)\n",
    "dics_results_df['bh_fdr'] = test_adjust[1]\n",
    "\n",
    "print(dics_results_df.loc[dics_results_df['bh_fdr'] < 0.05].shape)\n",
    "display(dics_results_df.head())"
   ]
  },
  {
   "cell_type": "markdown",
   "id": "9528a7d5",
   "metadata": {},
   "source": [
    "#### save the discovery cohort results"
   ]
  },
  {
   "cell_type": "code",
   "execution_count": 21,
   "id": "98627cbf",
   "metadata": {},
   "outputs": [],
   "source": [
    "out_file = f'{home_dir}/{disc_name}/results/{disc_name}.expr_time_cov_mm.csv'\n",
    "dics_results_df.to_csv(out_file, index=False)"
   ]
  },
  {
   "cell_type": "code",
   "execution_count": 26,
   "id": "1fa8cb60",
   "metadata": {},
   "outputs": [
    {
     "data": {
      "text/html": [
       "<div>\n",
       "<style scoped>\n",
       "    .dataframe tbody tr th:only-of-type {\n",
       "        vertical-align: middle;\n",
       "    }\n",
       "\n",
       "    .dataframe tbody tr th {\n",
       "        vertical-align: top;\n",
       "    }\n",
       "\n",
       "    .dataframe thead th {\n",
       "        text-align: right;\n",
       "    }\n",
       "</style>\n",
       "<table border=\"1\" class=\"dataframe\">\n",
       "  <thead>\n",
       "    <tr style=\"text-align: right;\">\n",
       "      <th></th>\n",
       "      <th>feature</th>\n",
       "      <th>coef</th>\n",
       "      <th>stderr</th>\n",
       "      <th>term_cnt</th>\n",
       "      <th>p-value</th>\n",
       "      <th>bh_fdr</th>\n",
       "    </tr>\n",
       "  </thead>\n",
       "  <tbody>\n",
       "    <tr>\n",
       "      <th>0</th>\n",
       "      <td>ENSG00000263812.5</td>\n",
       "      <td>0.002419</td>\n",
       "      <td>0.000967</td>\n",
       "      <td>5</td>\n",
       "      <td>1.233562e-02</td>\n",
       "      <td>2.746334e-02</td>\n",
       "    </tr>\n",
       "    <tr>\n",
       "      <th>1</th>\n",
       "      <td>ENSG00000188820.12</td>\n",
       "      <td>-0.000446</td>\n",
       "      <td>0.000866</td>\n",
       "      <td>5</td>\n",
       "      <td>6.064639e-01</td>\n",
       "      <td>6.911502e-01</td>\n",
       "    </tr>\n",
       "    <tr>\n",
       "      <th>2</th>\n",
       "      <td>ENSG00000203865.9</td>\n",
       "      <td>-0.004467</td>\n",
       "      <td>0.001133</td>\n",
       "      <td>5</td>\n",
       "      <td>8.052568e-05</td>\n",
       "      <td>3.436325e-04</td>\n",
       "    </tr>\n",
       "    <tr>\n",
       "      <th>3</th>\n",
       "      <td>ENSG00000142230.11</td>\n",
       "      <td>-0.007709</td>\n",
       "      <td>0.001117</td>\n",
       "      <td>5</td>\n",
       "      <td>5.116885e-12</td>\n",
       "      <td>1.182382e-10</td>\n",
       "    </tr>\n",
       "    <tr>\n",
       "      <th>4</th>\n",
       "      <td>ENSG00000268683.1</td>\n",
       "      <td>-0.000177</td>\n",
       "      <td>0.001091</td>\n",
       "      <td>5</td>\n",
       "      <td>8.710182e-01</td>\n",
       "      <td>9.080878e-01</td>\n",
       "    </tr>\n",
       "  </tbody>\n",
       "</table>\n",
       "</div>"
      ],
      "text/plain": [
       "              feature      coef    stderr  term_cnt       p-value  \\\n",
       "0   ENSG00000263812.5  0.002419  0.000967         5  1.233562e-02   \n",
       "1  ENSG00000188820.12 -0.000446  0.000866         5  6.064639e-01   \n",
       "2   ENSG00000203865.9 -0.004467  0.001133         5  8.052568e-05   \n",
       "3  ENSG00000142230.11 -0.007709  0.001117         5  5.116885e-12   \n",
       "4   ENSG00000268683.1 -0.000177  0.001091         5  8.710182e-01   \n",
       "\n",
       "         bh_fdr  \n",
       "0  2.746334e-02  \n",
       "1  6.911502e-01  \n",
       "2  3.436325e-04  \n",
       "3  1.182382e-10  \n",
       "4  9.080878e-01  "
      ]
     },
     "metadata": {},
     "output_type": "display_data"
    }
   ],
   "source": [
    "try:\n",
    "    dics_results_df.shape\n",
    "except NameError:\n",
    "    out_file = f'{home_dir}/{disc_name}/results/{disc_name}.expr_time_cov_mm.csv'\n",
    "    dics_results_df = pd.read_csv(out_file)\n",
    "    display(dics_results_df.head())"
   ]
  },
  {
   "cell_type": "markdown",
   "id": "8f9b2684",
   "metadata": {},
   "source": [
    "#### run the replication cohort"
   ]
  },
  {
   "cell_type": "code",
   "execution_count": 17,
   "id": "dbd49280",
   "metadata": {},
   "outputs": [
    {
     "name": "stderr",
     "output_type": "stream",
     "text": [
      "/opt/conda/lib/python3.7/site-packages/statsmodels/regression/mixed_linear_model.py:2237: ConvergenceWarning: The MLE may be on the boundary of the parameter space.\n",
      "  warnings.warn(msg, ConvergenceWarning)\n",
      "/opt/conda/lib/python3.7/site-packages/statsmodels/regression/mixed_linear_model.py:2237: ConvergenceWarning: The MLE may be on the boundary of the parameter space.\n",
      "  warnings.warn(msg, ConvergenceWarning)\n",
      "/opt/conda/lib/python3.7/site-packages/statsmodels/regression/mixed_linear_model.py:2237: ConvergenceWarning: The MLE may be on the boundary of the parameter space.\n",
      "  warnings.warn(msg, ConvergenceWarning)\n",
      "/opt/conda/lib/python3.7/site-packages/statsmodels/regression/mixed_linear_model.py:2237: ConvergenceWarning: The MLE may be on the boundary of the parameter space.\n",
      "  warnings.warn(msg, ConvergenceWarning)\n",
      "/opt/conda/lib/python3.7/site-packages/statsmodels/regression/mixed_linear_model.py:2237: ConvergenceWarning: The MLE may be on the boundary of the parameter space.\n",
      "  warnings.warn(msg, ConvergenceWarning)\n",
      "/opt/conda/lib/python3.7/site-packages/statsmodels/regression/mixed_linear_model.py:1634: UserWarning: Random effects covariance is singular\n",
      "  warnings.warn(msg)\n",
      "/opt/conda/lib/python3.7/site-packages/statsmodels/regression/mixed_linear_model.py:2237: ConvergenceWarning: The MLE may be on the boundary of the parameter space.\n",
      "  warnings.warn(msg, ConvergenceWarning)\n"
     ]
    },
    {
     "name": "stdout",
     "output_type": "stream",
     "text": [
      "CPU times: user 25 s, sys: 37.3 s, total: 1min 2s\n",
      "Wall time: 49min 56s\n"
     ]
    }
   ],
   "source": [
    "%%time\n",
    "indep_var = 'month'\n",
    "grouping = 'wgsid'\n",
    "\n",
    "fs_list = []\n",
    "lm_results = []\n",
    "with concurrent.futures.ProcessPoolExecutor(max_workers=max_threads*2) as ppe:\n",
    "    for batch_features in features_partioned:\n",
    "        fs_list.append(ppe.submit(run_mm_batch, batch_features, indep_var, rep_df, grouping, True))\n",
    "    for future in concurrent.futures.as_completed(fs_list):\n",
    "        lm_results.append(future.result())"
   ]
  },
  {
   "cell_type": "code",
   "execution_count": 18,
   "id": "3e5e68f0",
   "metadata": {},
   "outputs": [],
   "source": [
    "# flatten the list\n",
    "results = [item for sublist in lm_results for item in sublist]"
   ]
  },
  {
   "cell_type": "code",
   "execution_count": 19,
   "id": "63904c02",
   "metadata": {},
   "outputs": [
    {
     "name": "stdout",
     "output_type": "stream",
     "text": [
      "(15482, 5)\n"
     ]
    },
    {
     "data": {
      "text/html": [
       "<div>\n",
       "<style scoped>\n",
       "    .dataframe tbody tr th:only-of-type {\n",
       "        vertical-align: middle;\n",
       "    }\n",
       "\n",
       "    .dataframe tbody tr th {\n",
       "        vertical-align: top;\n",
       "    }\n",
       "\n",
       "    .dataframe thead th {\n",
       "        text-align: right;\n",
       "    }\n",
       "</style>\n",
       "<table border=\"1\" class=\"dataframe\">\n",
       "  <thead>\n",
       "    <tr style=\"text-align: right;\">\n",
       "      <th></th>\n",
       "      <th>feature</th>\n",
       "      <th>coef</th>\n",
       "      <th>stderr</th>\n",
       "      <th>term_cnt</th>\n",
       "      <th>p-value</th>\n",
       "    </tr>\n",
       "  </thead>\n",
       "  <tbody>\n",
       "    <tr>\n",
       "      <th>0</th>\n",
       "      <td>ENSG00000244509.3</td>\n",
       "      <td>0.002767</td>\n",
       "      <td>0.001732</td>\n",
       "      <td>5</td>\n",
       "      <td>1.101819e-01</td>\n",
       "    </tr>\n",
       "    <tr>\n",
       "      <th>1</th>\n",
       "      <td>ENSG00000093217.10</td>\n",
       "      <td>0.004822</td>\n",
       "      <td>0.001661</td>\n",
       "      <td>5</td>\n",
       "      <td>3.702653e-03</td>\n",
       "    </tr>\n",
       "    <tr>\n",
       "      <th>2</th>\n",
       "      <td>ENSG00000250254.1</td>\n",
       "      <td>0.010835</td>\n",
       "      <td>0.001686</td>\n",
       "      <td>5</td>\n",
       "      <td>1.295943e-10</td>\n",
       "    </tr>\n",
       "    <tr>\n",
       "      <th>3</th>\n",
       "      <td>ENSG00000115282.19</td>\n",
       "      <td>-0.005045</td>\n",
       "      <td>0.001779</td>\n",
       "      <td>5</td>\n",
       "      <td>4.573093e-03</td>\n",
       "    </tr>\n",
       "    <tr>\n",
       "      <th>4</th>\n",
       "      <td>ENSG00000204625.10</td>\n",
       "      <td>-0.000097</td>\n",
       "      <td>0.001832</td>\n",
       "      <td>5</td>\n",
       "      <td>9.579023e-01</td>\n",
       "    </tr>\n",
       "  </tbody>\n",
       "</table>\n",
       "</div>"
      ],
      "text/plain": [
       "              feature      coef    stderr  term_cnt       p-value\n",
       "0   ENSG00000244509.3  0.002767  0.001732         5  1.101819e-01\n",
       "1  ENSG00000093217.10  0.004822  0.001661         5  3.702653e-03\n",
       "2   ENSG00000250254.1  0.010835  0.001686         5  1.295943e-10\n",
       "3  ENSG00000115282.19 -0.005045  0.001779         5  4.573093e-03\n",
       "4  ENSG00000204625.10 -0.000097  0.001832         5  9.579023e-01"
      ]
     },
     "metadata": {},
     "output_type": "display_data"
    }
   ],
   "source": [
    "rep_results_df = pd.DataFrame(data=results, columns=['feature', 'coef', 'stderr', 'term_cnt', 'p-value'])\n",
    "print(rep_results_df.shape)\n",
    "display(rep_results_df.head())"
   ]
  },
  {
   "cell_type": "markdown",
   "id": "60b51f95",
   "metadata": {},
   "source": [
    "#### calc FDR"
   ]
  },
  {
   "cell_type": "code",
   "execution_count": 20,
   "id": "e5e0487e",
   "metadata": {},
   "outputs": [
    {
     "name": "stdout",
     "output_type": "stream",
     "text": [
      "(9162, 6)\n"
     ]
    },
    {
     "data": {
      "text/html": [
       "<div>\n",
       "<style scoped>\n",
       "    .dataframe tbody tr th:only-of-type {\n",
       "        vertical-align: middle;\n",
       "    }\n",
       "\n",
       "    .dataframe tbody tr th {\n",
       "        vertical-align: top;\n",
       "    }\n",
       "\n",
       "    .dataframe thead th {\n",
       "        text-align: right;\n",
       "    }\n",
       "</style>\n",
       "<table border=\"1\" class=\"dataframe\">\n",
       "  <thead>\n",
       "    <tr style=\"text-align: right;\">\n",
       "      <th></th>\n",
       "      <th>feature</th>\n",
       "      <th>coef</th>\n",
       "      <th>stderr</th>\n",
       "      <th>term_cnt</th>\n",
       "      <th>p-value</th>\n",
       "      <th>bh_fdr</th>\n",
       "    </tr>\n",
       "  </thead>\n",
       "  <tbody>\n",
       "    <tr>\n",
       "      <th>0</th>\n",
       "      <td>ENSG00000244509.3</td>\n",
       "      <td>0.002767</td>\n",
       "      <td>0.001732</td>\n",
       "      <td>5</td>\n",
       "      <td>1.101819e-01</td>\n",
       "      <td>1.586382e-01</td>\n",
       "    </tr>\n",
       "    <tr>\n",
       "      <th>1</th>\n",
       "      <td>ENSG00000093217.10</td>\n",
       "      <td>0.004822</td>\n",
       "      <td>0.001661</td>\n",
       "      <td>5</td>\n",
       "      <td>3.702653e-03</td>\n",
       "      <td>7.846219e-03</td>\n",
       "    </tr>\n",
       "    <tr>\n",
       "      <th>2</th>\n",
       "      <td>ENSG00000250254.1</td>\n",
       "      <td>0.010835</td>\n",
       "      <td>0.001686</td>\n",
       "      <td>5</td>\n",
       "      <td>1.295943e-10</td>\n",
       "      <td>1.421015e-09</td>\n",
       "    </tr>\n",
       "    <tr>\n",
       "      <th>3</th>\n",
       "      <td>ENSG00000115282.19</td>\n",
       "      <td>-0.005045</td>\n",
       "      <td>0.001779</td>\n",
       "      <td>5</td>\n",
       "      <td>4.573093e-03</td>\n",
       "      <td>9.467855e-03</td>\n",
       "    </tr>\n",
       "    <tr>\n",
       "      <th>4</th>\n",
       "      <td>ENSG00000204625.10</td>\n",
       "      <td>-0.000097</td>\n",
       "      <td>0.001832</td>\n",
       "      <td>5</td>\n",
       "      <td>9.579023e-01</td>\n",
       "      <td>9.693603e-01</td>\n",
       "    </tr>\n",
       "  </tbody>\n",
       "</table>\n",
       "</div>"
      ],
      "text/plain": [
       "              feature      coef    stderr  term_cnt       p-value  \\\n",
       "0   ENSG00000244509.3  0.002767  0.001732         5  1.101819e-01   \n",
       "1  ENSG00000093217.10  0.004822  0.001661         5  3.702653e-03   \n",
       "2   ENSG00000250254.1  0.010835  0.001686         5  1.295943e-10   \n",
       "3  ENSG00000115282.19 -0.005045  0.001779         5  4.573093e-03   \n",
       "4  ENSG00000204625.10 -0.000097  0.001832         5  9.579023e-01   \n",
       "\n",
       "         bh_fdr  \n",
       "0  1.586382e-01  \n",
       "1  7.846219e-03  \n",
       "2  1.421015e-09  \n",
       "3  9.467855e-03  \n",
       "4  9.693603e-01  "
      ]
     },
     "metadata": {},
     "output_type": "display_data"
    }
   ],
   "source": [
    "alpha=0.05\n",
    "method='fdr_bh'\n",
    "test_adjust = smm.multipletests(np.array(rep_results_df['p-value']),\n",
    "                                alpha=alpha, method=method)\n",
    "rep_results_df['bh_fdr'] = test_adjust[1]\n",
    "\n",
    "print(rep_results_df.loc[rep_results_df['bh_fdr'] < 0.05].shape)\n",
    "display(rep_results_df.head())"
   ]
  },
  {
   "cell_type": "markdown",
   "id": "176d1ce1",
   "metadata": {},
   "source": [
    "#### save the replication cohort results"
   ]
  },
  {
   "cell_type": "code",
   "execution_count": 21,
   "id": "ef11c055",
   "metadata": {},
   "outputs": [],
   "source": [
    "out_file = f'{home_dir}/{rep_name}/results/{rep_name}.expr_time_cov_mm.csv'\n",
    "rep_results_df.to_csv(out_file, index=False)"
   ]
  },
  {
   "cell_type": "markdown",
   "id": "9f000263",
   "metadata": {},
   "source": [
    "#### find replicated"
   ]
  },
  {
   "cell_type": "code",
   "execution_count": 27,
   "id": "cb7bfeaa",
   "metadata": {},
   "outputs": [
    {
     "name": "stdout",
     "output_type": "stream",
     "text": [
      "(5052, 6)\n"
     ]
    },
    {
     "data": {
      "text/html": [
       "<div>\n",
       "<style scoped>\n",
       "    .dataframe tbody tr th:only-of-type {\n",
       "        vertical-align: middle;\n",
       "    }\n",
       "\n",
       "    .dataframe tbody tr th {\n",
       "        vertical-align: top;\n",
       "    }\n",
       "\n",
       "    .dataframe thead th {\n",
       "        text-align: right;\n",
       "    }\n",
       "</style>\n",
       "<table border=\"1\" class=\"dataframe\">\n",
       "  <thead>\n",
       "    <tr style=\"text-align: right;\">\n",
       "      <th></th>\n",
       "      <th>feature</th>\n",
       "      <th>coef</th>\n",
       "      <th>stderr</th>\n",
       "      <th>term_cnt</th>\n",
       "      <th>p-value</th>\n",
       "      <th>bh_fdr</th>\n",
       "    </tr>\n",
       "  </thead>\n",
       "  <tbody>\n",
       "    <tr>\n",
       "      <th>2</th>\n",
       "      <td>ENSG00000250254.1</td>\n",
       "      <td>0.010835</td>\n",
       "      <td>0.001686</td>\n",
       "      <td>5</td>\n",
       "      <td>1.295943e-10</td>\n",
       "      <td>1.421015e-09</td>\n",
       "    </tr>\n",
       "    <tr>\n",
       "      <th>3</th>\n",
       "      <td>ENSG00000115282.19</td>\n",
       "      <td>-0.005045</td>\n",
       "      <td>0.001779</td>\n",
       "      <td>5</td>\n",
       "      <td>4.573093e-03</td>\n",
       "      <td>9.467855e-03</td>\n",
       "    </tr>\n",
       "    <tr>\n",
       "      <th>10</th>\n",
       "      <td>ENSG00000003147.18</td>\n",
       "      <td>0.004395</td>\n",
       "      <td>0.001779</td>\n",
       "      <td>5</td>\n",
       "      <td>1.350684e-02</td>\n",
       "      <td>2.485592e-02</td>\n",
       "    </tr>\n",
       "    <tr>\n",
       "      <th>11</th>\n",
       "      <td>ENSG00000111229.15</td>\n",
       "      <td>-0.003256</td>\n",
       "      <td>0.001432</td>\n",
       "      <td>5</td>\n",
       "      <td>2.298072e-02</td>\n",
       "      <td>3.991334e-02</td>\n",
       "    </tr>\n",
       "    <tr>\n",
       "      <th>12</th>\n",
       "      <td>ENSG00000270629.5</td>\n",
       "      <td>0.005423</td>\n",
       "      <td>0.001261</td>\n",
       "      <td>5</td>\n",
       "      <td>1.697152e-05</td>\n",
       "      <td>6.185336e-05</td>\n",
       "    </tr>\n",
       "  </tbody>\n",
       "</table>\n",
       "</div>"
      ],
      "text/plain": [
       "               feature      coef    stderr  term_cnt       p-value  \\\n",
       "2    ENSG00000250254.1  0.010835  0.001686         5  1.295943e-10   \n",
       "3   ENSG00000115282.19 -0.005045  0.001779         5  4.573093e-03   \n",
       "10  ENSG00000003147.18  0.004395  0.001779         5  1.350684e-02   \n",
       "11  ENSG00000111229.15 -0.003256  0.001432         5  2.298072e-02   \n",
       "12   ENSG00000270629.5  0.005423  0.001261         5  1.697152e-05   \n",
       "\n",
       "          bh_fdr  \n",
       "2   1.421015e-09  \n",
       "3   9.467855e-03  \n",
       "10  2.485592e-02  \n",
       "11  3.991334e-02  \n",
       "12  6.185336e-05  "
      ]
     },
     "metadata": {},
     "output_type": "display_data"
    }
   ],
   "source": [
    "# get sig in discovery\n",
    "sig_df = dics_results_df.loc[dics_results_df['bh_fdr'] < 0.05]\n",
    "replicated_df = rep_results_df.loc[(rep_results_df['feature'].isin(sig_df['feature'])) & \n",
    "                                   (rep_results_df['bh_fdr'] < 0.05)]\n",
    "print(replicated_df.shape)\n",
    "display(replicated_df.head())"
   ]
  },
  {
   "cell_type": "code",
   "execution_count": 28,
   "id": "72a9e9b5",
   "metadata": {},
   "outputs": [
    {
     "name": "stdout",
     "output_type": "stream",
     "text": [
      "(10104, 7)\n"
     ]
    },
    {
     "name": "stderr",
     "output_type": "stream",
     "text": [
      "/opt/conda/lib/python3.7/site-packages/ipykernel_launcher.py:2: SettingWithCopyWarning: \n",
      "A value is trying to be set on a copy of a slice from a DataFrame.\n",
      "Try using .loc[row_indexer,col_indexer] = value instead\n",
      "\n",
      "See the caveats in the documentation: https://pandas.pydata.org/pandas-docs/stable/user_guide/indexing.html#returning-a-view-versus-a-copy\n",
      "  \n",
      "/opt/conda/lib/python3.7/site-packages/ipykernel_launcher.py:3: SettingWithCopyWarning: \n",
      "A value is trying to be set on a copy of a slice from a DataFrame.\n",
      "Try using .loc[row_indexer,col_indexer] = value instead\n",
      "\n",
      "See the caveats in the documentation: https://pandas.pydata.org/pandas-docs/stable/user_guide/indexing.html#returning-a-view-versus-a-copy\n",
      "  This is separate from the ipykernel package so we can avoid doing imports until\n"
     ]
    },
    {
     "data": {
      "text/html": [
       "<div>\n",
       "<style scoped>\n",
       "    .dataframe tbody tr th:only-of-type {\n",
       "        vertical-align: middle;\n",
       "    }\n",
       "\n",
       "    .dataframe tbody tr th {\n",
       "        vertical-align: top;\n",
       "    }\n",
       "\n",
       "    .dataframe thead th {\n",
       "        text-align: right;\n",
       "    }\n",
       "</style>\n",
       "<table border=\"1\" class=\"dataframe\">\n",
       "  <thead>\n",
       "    <tr style=\"text-align: right;\">\n",
       "      <th></th>\n",
       "      <th>feature</th>\n",
       "      <th>coef</th>\n",
       "      <th>stderr</th>\n",
       "      <th>term_cnt</th>\n",
       "      <th>p-value</th>\n",
       "      <th>bh_fdr</th>\n",
       "      <th>cohort</th>\n",
       "    </tr>\n",
       "  </thead>\n",
       "  <tbody>\n",
       "    <tr>\n",
       "      <th>0</th>\n",
       "      <td>ENSG00000263812.5</td>\n",
       "      <td>0.002419</td>\n",
       "      <td>0.000967</td>\n",
       "      <td>5</td>\n",
       "      <td>1.233562e-02</td>\n",
       "      <td>2.746334e-02</td>\n",
       "      <td>PP</td>\n",
       "    </tr>\n",
       "    <tr>\n",
       "      <th>3</th>\n",
       "      <td>ENSG00000142230.11</td>\n",
       "      <td>-0.007709</td>\n",
       "      <td>0.001117</td>\n",
       "      <td>5</td>\n",
       "      <td>5.116885e-12</td>\n",
       "      <td>1.182382e-10</td>\n",
       "      <td>PP</td>\n",
       "    </tr>\n",
       "    <tr>\n",
       "      <th>8</th>\n",
       "      <td>ENSG00000185164.14</td>\n",
       "      <td>0.002251</td>\n",
       "      <td>0.000927</td>\n",
       "      <td>5</td>\n",
       "      <td>1.514773e-02</td>\n",
       "      <td>3.271725e-02</td>\n",
       "      <td>PP</td>\n",
       "    </tr>\n",
       "    <tr>\n",
       "      <th>10</th>\n",
       "      <td>ENSG00000207166.1</td>\n",
       "      <td>0.007637</td>\n",
       "      <td>0.001026</td>\n",
       "      <td>5</td>\n",
       "      <td>9.970936e-14</td>\n",
       "      <td>3.334126e-12</td>\n",
       "      <td>PP</td>\n",
       "    </tr>\n",
       "    <tr>\n",
       "      <th>14</th>\n",
       "      <td>ENSG00000246731.2</td>\n",
       "      <td>-0.003732</td>\n",
       "      <td>0.001121</td>\n",
       "      <td>5</td>\n",
       "      <td>8.685895e-04</td>\n",
       "      <td>2.770967e-03</td>\n",
       "      <td>PP</td>\n",
       "    </tr>\n",
       "  </tbody>\n",
       "</table>\n",
       "</div>"
      ],
      "text/plain": [
       "               feature      coef    stderr  term_cnt       p-value  \\\n",
       "0    ENSG00000263812.5  0.002419  0.000967         5  1.233562e-02   \n",
       "3   ENSG00000142230.11 -0.007709  0.001117         5  5.116885e-12   \n",
       "8   ENSG00000185164.14  0.002251  0.000927         5  1.514773e-02   \n",
       "10   ENSG00000207166.1  0.007637  0.001026         5  9.970936e-14   \n",
       "14   ENSG00000246731.2 -0.003732  0.001121         5  8.685895e-04   \n",
       "\n",
       "          bh_fdr cohort  \n",
       "0   2.746334e-02     PP  \n",
       "3   1.182382e-10     PP  \n",
       "8   3.271725e-02     PP  \n",
       "10  3.334126e-12     PP  \n",
       "14  2.770967e-03     PP  "
      ]
     },
     "metadata": {},
     "output_type": "display_data"
    }
   ],
   "source": [
    "disc_replicated_df = sig_df.loc[sig_df['feature'].isin(replicated_df['feature'])]\n",
    "disc_replicated_df['cohort'] = disc_cohort\n",
    "replicated_df['cohort'] = rep_cohort\n",
    "disc_replicated_df = pd.concat([disc_replicated_df, replicated_df])\n",
    "print(disc_replicated_df.shape)\n",
    "display(disc_replicated_df.head())"
   ]
  },
  {
   "cell_type": "code",
   "execution_count": 29,
   "id": "4dfb390a",
   "metadata": {},
   "outputs": [
    {
     "data": {
      "text/plain": [
       "PD    5052\n",
       "PP    5052\n",
       "Name: cohort, dtype: int64"
      ]
     },
     "execution_count": 29,
     "metadata": {},
     "output_type": "execute_result"
    }
   ],
   "source": [
    "disc_replicated_df['cohort'].value_counts()"
   ]
  },
  {
   "cell_type": "markdown",
   "id": "169f1875",
   "metadata": {},
   "source": [
    "#### save the replicated results"
   ]
  },
  {
   "cell_type": "code",
   "execution_count": 30,
   "id": "8a55d75a",
   "metadata": {},
   "outputs": [],
   "source": [
    "out_file = f'{home_dir}/{disc_name}/results/{disc_name}.replicated.expr_time_cov_mm.csv'\n",
    "disc_replicated_df.to_csv(out_file, index=False)"
   ]
  },
  {
   "cell_type": "markdown",
   "id": "177e3fb2",
   "metadata": {},
   "source": [
    "#### do some example plotting"
   ]
  },
  {
   "cell_type": "code",
   "execution_count": 31,
   "id": "9b8c2568",
   "metadata": {},
   "outputs": [
    {
     "name": "stdout",
     "output_type": "stream",
     "text": [
      "(4607, 5092)\n"
     ]
    }
   ],
   "source": [
    "keep_cols = set(replicated_df['feature']) | set(disc_cov_df.columns)\n",
    "disc_rep_df = disc_df[keep_cols]\n",
    "print(disc_rep_df.shape)\n",
    "# display(disc_rep_df.head())"
   ]
  },
  {
   "cell_type": "code",
   "execution_count": 32,
   "id": "9cf2f256",
   "metadata": {},
   "outputs": [
    {
     "data": {
      "text/html": [
       "<div>\n",
       "<style scoped>\n",
       "    .dataframe tbody tr th:only-of-type {\n",
       "        vertical-align: middle;\n",
       "    }\n",
       "\n",
       "    .dataframe tbody tr th {\n",
       "        vertical-align: top;\n",
       "    }\n",
       "\n",
       "    .dataframe thead th {\n",
       "        text-align: right;\n",
       "    }\n",
       "</style>\n",
       "<table border=\"1\" class=\"dataframe\">\n",
       "  <thead>\n",
       "    <tr style=\"text-align: right;\">\n",
       "      <th></th>\n",
       "      <th>feature</th>\n",
       "      <th>coef</th>\n",
       "      <th>stderr</th>\n",
       "      <th>term_cnt</th>\n",
       "      <th>p-value</th>\n",
       "      <th>bh_fdr</th>\n",
       "    </tr>\n",
       "  </thead>\n",
       "  <tbody>\n",
       "    <tr>\n",
       "      <th>0</th>\n",
       "      <td>ENSG00000263812.5</td>\n",
       "      <td>0.002419</td>\n",
       "      <td>0.000967</td>\n",
       "      <td>5</td>\n",
       "      <td>1.233562e-02</td>\n",
       "      <td>2.746334e-02</td>\n",
       "    </tr>\n",
       "    <tr>\n",
       "      <th>2</th>\n",
       "      <td>ENSG00000203865.9</td>\n",
       "      <td>-0.004467</td>\n",
       "      <td>0.001133</td>\n",
       "      <td>5</td>\n",
       "      <td>8.052568e-05</td>\n",
       "      <td>3.436325e-04</td>\n",
       "    </tr>\n",
       "    <tr>\n",
       "      <th>3</th>\n",
       "      <td>ENSG00000142230.11</td>\n",
       "      <td>-0.007709</td>\n",
       "      <td>0.001117</td>\n",
       "      <td>5</td>\n",
       "      <td>5.116885e-12</td>\n",
       "      <td>1.182382e-10</td>\n",
       "    </tr>\n",
       "    <tr>\n",
       "      <th>7</th>\n",
       "      <td>ENSG00000147687.18</td>\n",
       "      <td>-0.004114</td>\n",
       "      <td>0.001170</td>\n",
       "      <td>5</td>\n",
       "      <td>4.375068e-04</td>\n",
       "      <td>1.512275e-03</td>\n",
       "    </tr>\n",
       "    <tr>\n",
       "      <th>8</th>\n",
       "      <td>ENSG00000185164.14</td>\n",
       "      <td>0.002251</td>\n",
       "      <td>0.000927</td>\n",
       "      <td>5</td>\n",
       "      <td>1.514773e-02</td>\n",
       "      <td>3.271725e-02</td>\n",
       "    </tr>\n",
       "  </tbody>\n",
       "</table>\n",
       "</div>"
      ],
      "text/plain": [
       "              feature      coef    stderr  term_cnt       p-value  \\\n",
       "0   ENSG00000263812.5  0.002419  0.000967         5  1.233562e-02   \n",
       "2   ENSG00000203865.9 -0.004467  0.001133         5  8.052568e-05   \n",
       "3  ENSG00000142230.11 -0.007709  0.001117         5  5.116885e-12   \n",
       "7  ENSG00000147687.18 -0.004114  0.001170         5  4.375068e-04   \n",
       "8  ENSG00000185164.14  0.002251  0.000927         5  1.514773e-02   \n",
       "\n",
       "         bh_fdr  \n",
       "0  2.746334e-02  \n",
       "2  3.436325e-04  \n",
       "3  1.182382e-10  \n",
       "7  1.512275e-03  \n",
       "8  3.271725e-02  "
      ]
     },
     "execution_count": 32,
     "metadata": {},
     "output_type": "execute_result"
    }
   ],
   "source": [
    "sig_df.head()"
   ]
  },
  {
   "cell_type": "code",
   "execution_count": 33,
   "id": "55755f1e",
   "metadata": {},
   "outputs": [
    {
     "data": {
      "text/html": [
       "<div>\n",
       "<style scoped>\n",
       "    .dataframe tbody tr th:only-of-type {\n",
       "        vertical-align: middle;\n",
       "    }\n",
       "\n",
       "    .dataframe tbody tr th {\n",
       "        vertical-align: top;\n",
       "    }\n",
       "\n",
       "    .dataframe thead th {\n",
       "        text-align: right;\n",
       "    }\n",
       "</style>\n",
       "<table border=\"1\" class=\"dataframe\">\n",
       "  <thead>\n",
       "    <tr style=\"text-align: right;\">\n",
       "      <th></th>\n",
       "      <th>feature</th>\n",
       "      <th>coef</th>\n",
       "      <th>stderr</th>\n",
       "      <th>term_cnt</th>\n",
       "      <th>p-value</th>\n",
       "      <th>bh_fdr</th>\n",
       "    </tr>\n",
       "  </thead>\n",
       "  <tbody>\n",
       "    <tr>\n",
       "      <th>3573</th>\n",
       "      <td>ENSG00000210082.2</td>\n",
       "      <td>-0.013712</td>\n",
       "      <td>0.001094</td>\n",
       "      <td>5</td>\n",
       "      <td>4.835430e-36</td>\n",
       "      <td>7.486213e-32</td>\n",
       "    </tr>\n",
       "  </tbody>\n",
       "</table>\n",
       "</div>"
      ],
      "text/plain": [
       "                feature      coef    stderr  term_cnt       p-value  \\\n",
       "3573  ENSG00000210082.2 -0.013712  0.001094         5  4.835430e-36   \n",
       "\n",
       "            bh_fdr  \n",
       "3573  7.486213e-32  "
      ]
     },
     "metadata": {},
     "output_type": "display_data"
    },
    {
     "data": {
      "text/html": [
       "<div>\n",
       "<style scoped>\n",
       "    .dataframe tbody tr th:only-of-type {\n",
       "        vertical-align: middle;\n",
       "    }\n",
       "\n",
       "    .dataframe tbody tr th {\n",
       "        vertical-align: top;\n",
       "    }\n",
       "\n",
       "    .dataframe thead th {\n",
       "        text-align: right;\n",
       "    }\n",
       "</style>\n",
       "<table border=\"1\" class=\"dataframe\">\n",
       "  <thead>\n",
       "    <tr style=\"text-align: right;\">\n",
       "      <th></th>\n",
       "      <th>feature</th>\n",
       "      <th>coef</th>\n",
       "      <th>stderr</th>\n",
       "      <th>term_cnt</th>\n",
       "      <th>p-value</th>\n",
       "      <th>bh_fdr</th>\n",
       "    </tr>\n",
       "  </thead>\n",
       "  <tbody>\n",
       "    <tr>\n",
       "      <th>5816</th>\n",
       "      <td>ENSG00000011454.16</td>\n",
       "      <td>0.002644</td>\n",
       "      <td>0.001178</td>\n",
       "      <td>5</td>\n",
       "      <td>0.024777</td>\n",
       "      <td>0.049792</td>\n",
       "    </tr>\n",
       "  </tbody>\n",
       "</table>\n",
       "</div>"
      ],
      "text/plain": [
       "                 feature      coef    stderr  term_cnt   p-value    bh_fdr\n",
       "5816  ENSG00000011454.16  0.002644  0.001178         5  0.024777  0.049792"
      ]
     },
     "metadata": {},
     "output_type": "display_data"
    }
   ],
   "source": [
    "disc_replicated_df = sig_df.loc[sig_df['feature'].isin(replicated_df['feature'])]\n",
    "display(disc_replicated_df.loc[disc_replicated_df['p-value'] == min(disc_replicated_df['p-value'])])\n",
    "display(disc_replicated_df.loc[disc_replicated_df['p-value'] == max(disc_replicated_df['p-value'])])"
   ]
  },
  {
   "cell_type": "code",
   "execution_count": 34,
   "id": "97f0600e",
   "metadata": {},
   "outputs": [
    {
     "data": {
      "text/plain": [
       "<seaborn.axisgrid.FacetGrid at 0x7f53a04a1790>"
      ]
     },
     "execution_count": 34,
     "metadata": {},
     "output_type": "execute_result"
    },
    {
     "data": {
      "image/png": "[encoded data removed]",
      "text/plain": [
       "<Figure size 495.125x360 with 1 Axes>"
      ]
     },
     "metadata": {
      "needs_background": "light"
     },
     "output_type": "display_data"
    }
   ],
   "source": [
    "sns.lmplot(x='month', y='ENSG00000210082.2', hue='case_control_other_latest', \n",
    "           data=disc_rep_df, palette='Set1')"
   ]
  },
  {
   "cell_type": "code",
   "execution_count": 35,
   "id": "b667002e",
   "metadata": {},
   "outputs": [
    {
     "data": {
      "text/plain": [
       "<AxesSubplot:xlabel='month', ylabel='ENSG00000210082.2'>"
      ]
     },
     "execution_count": 35,
     "metadata": {},
     "output_type": "execute_result"
    },
    {
     "data": {
      "image/png": "[encoded data removed]",
      "text/plain": [
       "<Figure size 432x288 with 1 Axes>"
      ]
     },
     "metadata": {
      "needs_background": "light"
     },
     "output_type": "display_data"
    }
   ],
   "source": [
    "sns.lineplot(x='month', y='ENSG00000210082.2', hue='case_control_other_latest', \n",
    "           data=disc_rep_df, palette='Set1')"
   ]
  },
  {
   "cell_type": "code",
   "execution_count": 36,
   "id": "959bf2e2",
   "metadata": {},
   "outputs": [
    {
     "data": {
      "text/plain": [
       "<AxesSubplot:xlabel='month', ylabel='ENSG00000011454.16'>"
      ]
     },
     "execution_count": 36,
     "metadata": {},
     "output_type": "execute_result"
    },
    {
     "data": {
      "image/png": "[encoded data removed]",
      "text/plain": [
       "<Figure size 432x288 with 1 Axes>"
      ]
     },
     "metadata": {
      "needs_background": "light"
     },
     "output_type": "display_data"
    }
   ],
   "source": [
    "sns.lineplot(x='month', y='ENSG00000011454.16', hue='case_control_other_latest', \n",
    "           data=disc_rep_df, palette='Set1')"
   ]
  },
  {
   "cell_type": "code",
   "execution_count": 41,
   "id": "ed813e88",
   "metadata": {},
   "outputs": [
    {
     "data": {
      "text/plain": [
       "False    10430\n",
       "True      5052\n",
       "Name: Replicates, dtype: int64"
      ]
     },
     "execution_count": 41,
     "metadata": {},
     "output_type": "execute_result"
    }
   ],
   "source": [
    "dics_results_df['Replicates'] = np.where(dics_results_df['feature'].isin(replicated_df['feature']), \n",
    "                                         True, False)\n",
    "dics_results_df['Replicates'].value_counts()       "
   ]
  },
  {
   "cell_type": "code",
   "execution_count": 43,
   "id": "e1cbb946",
   "metadata": {},
   "outputs": [],
   "source": [
    "dics_results_df['log10_pvalue'] = np.log10(dics_results_df['p-value'])*-1\n",
    "dics_results_df['z_score'] = dics_results_df['coef']/dics_results_df['stderr']"
   ]
  },
  {
   "cell_type": "code",
   "execution_count": 48,
   "id": "1da56250",
   "metadata": {},
   "outputs": [
    {
     "data": {
      "text/plain": [
       "<AxesSubplot:xlabel='coef', ylabel='log10_pvalue'>"
      ]
     },
     "execution_count": 48,
     "metadata": {},
     "output_type": "execute_result"
    },
    {
     "data": {
      "image/png": "[encoded data removed]",
      "text/plain": [
       "<Figure size 432x288 with 1 Axes>"
      ]
     },
     "metadata": {
      "needs_background": "light"
     },
     "output_type": "display_data"
    }
   ],
   "source": [
    "sns.scatterplot(x='coef', y='log10_pvalue', hue='Replicates', data=dics_results_df)"
   ]
  },
  {
   "cell_type": "code",
   "execution_count": 49,
   "id": "588a8684",
   "metadata": {},
   "outputs": [
    {
     "data": {
      "text/html": [
       "<div>\n",
       "<style scoped>\n",
       "    .dataframe tbody tr th:only-of-type {\n",
       "        vertical-align: middle;\n",
       "    }\n",
       "\n",
       "    .dataframe tbody tr th {\n",
       "        vertical-align: top;\n",
       "    }\n",
       "\n",
       "    .dataframe thead th {\n",
       "        text-align: right;\n",
       "    }\n",
       "</style>\n",
       "<table border=\"1\" class=\"dataframe\">\n",
       "  <thead>\n",
       "    <tr style=\"text-align: right;\">\n",
       "      <th></th>\n",
       "      <th>feature</th>\n",
       "      <th>coef</th>\n",
       "      <th>stderr</th>\n",
       "      <th>term_cnt</th>\n",
       "      <th>p-value</th>\n",
       "      <th>bh_fdr</th>\n",
       "      <th>Replicates</th>\n",
       "      <th>log10_pvalue</th>\n",
       "      <th>z_score</th>\n",
       "    </tr>\n",
       "  </thead>\n",
       "  <tbody>\n",
       "    <tr>\n",
       "      <th>0</th>\n",
       "      <td>ENSG00000263812.5</td>\n",
       "      <td>0.002419</td>\n",
       "      <td>0.000967</td>\n",
       "      <td>5</td>\n",
       "      <td>1.233562e-02</td>\n",
       "      <td>2.746334e-02</td>\n",
       "      <td>True</td>\n",
       "      <td>1.908839</td>\n",
       "      <td>2.502395</td>\n",
       "    </tr>\n",
       "    <tr>\n",
       "      <th>1</th>\n",
       "      <td>ENSG00000188820.12</td>\n",
       "      <td>-0.000446</td>\n",
       "      <td>0.000866</td>\n",
       "      <td>5</td>\n",
       "      <td>6.064639e-01</td>\n",
       "      <td>6.911502e-01</td>\n",
       "      <td>False</td>\n",
       "      <td>0.217195</td>\n",
       "      <td>-0.515127</td>\n",
       "    </tr>\n",
       "    <tr>\n",
       "      <th>2</th>\n",
       "      <td>ENSG00000203865.9</td>\n",
       "      <td>-0.004467</td>\n",
       "      <td>0.001133</td>\n",
       "      <td>5</td>\n",
       "      <td>8.052568e-05</td>\n",
       "      <td>3.436325e-04</td>\n",
       "      <td>False</td>\n",
       "      <td>4.094066</td>\n",
       "      <td>-3.942830</td>\n",
       "    </tr>\n",
       "    <tr>\n",
       "      <th>3</th>\n",
       "      <td>ENSG00000142230.11</td>\n",
       "      <td>-0.007709</td>\n",
       "      <td>0.001117</td>\n",
       "      <td>5</td>\n",
       "      <td>5.116885e-12</td>\n",
       "      <td>1.182382e-10</td>\n",
       "      <td>True</td>\n",
       "      <td>11.290994</td>\n",
       "      <td>-6.902296</td>\n",
       "    </tr>\n",
       "    <tr>\n",
       "      <th>4</th>\n",
       "      <td>ENSG00000268683.1</td>\n",
       "      <td>-0.000177</td>\n",
       "      <td>0.001091</td>\n",
       "      <td>5</td>\n",
       "      <td>8.710182e-01</td>\n",
       "      <td>9.080878e-01</td>\n",
       "      <td>False</td>\n",
       "      <td>0.059973</td>\n",
       "      <td>-0.162365</td>\n",
       "    </tr>\n",
       "  </tbody>\n",
       "</table>\n",
       "</div>"
      ],
      "text/plain": [
       "              feature      coef    stderr  term_cnt       p-value  \\\n",
       "0   ENSG00000263812.5  0.002419  0.000967         5  1.233562e-02   \n",
       "1  ENSG00000188820.12 -0.000446  0.000866         5  6.064639e-01   \n",
       "2   ENSG00000203865.9 -0.004467  0.001133         5  8.052568e-05   \n",
       "3  ENSG00000142230.11 -0.007709  0.001117         5  5.116885e-12   \n",
       "4   ENSG00000268683.1 -0.000177  0.001091         5  8.710182e-01   \n",
       "\n",
       "         bh_fdr  Replicates  log10_pvalue   z_score  \n",
       "0  2.746334e-02        True      1.908839  2.502395  \n",
       "1  6.911502e-01       False      0.217195 -0.515127  \n",
       "2  3.436325e-04       False      4.094066 -3.942830  \n",
       "3  1.182382e-10        True     11.290994 -6.902296  \n",
       "4  9.080878e-01       False      0.059973 -0.162365  "
      ]
     },
     "execution_count": 49,
     "metadata": {},
     "output_type": "execute_result"
    }
   ],
   "source": [
    "dics_results_df.head()"
   ]
  },
  {
   "cell_type": "code",
   "execution_count": 50,
   "id": "de00ebe8",
   "metadata": {},
   "outputs": [
    {
     "data": {
      "text/html": [
       "<div>\n",
       "<style scoped>\n",
       "    .dataframe tbody tr th:only-of-type {\n",
       "        vertical-align: middle;\n",
       "    }\n",
       "\n",
       "    .dataframe tbody tr th {\n",
       "        vertical-align: top;\n",
       "    }\n",
       "\n",
       "    .dataframe thead th {\n",
       "        text-align: right;\n",
       "    }\n",
       "</style>\n",
       "<table border=\"1\" class=\"dataframe\">\n",
       "  <thead>\n",
       "    <tr style=\"text-align: right;\">\n",
       "      <th></th>\n",
       "      <th>feature</th>\n",
       "      <th>coef</th>\n",
       "      <th>stderr</th>\n",
       "      <th>term_cnt</th>\n",
       "      <th>p-value</th>\n",
       "      <th>bh_fdr</th>\n",
       "      <th>Replicates</th>\n",
       "      <th>log10_pvalue</th>\n",
       "      <th>z_score</th>\n",
       "      <th>Trajectory</th>\n",
       "    </tr>\n",
       "  </thead>\n",
       "  <tbody>\n",
       "    <tr>\n",
       "      <th>6562</th>\n",
       "      <td>ENSG00000256594.8</td>\n",
       "      <td>0.004184</td>\n",
       "      <td>0.001095</td>\n",
       "      <td>5</td>\n",
       "      <td>0.000133</td>\n",
       "      <td>0.000531</td>\n",
       "      <td>True</td>\n",
       "      <td>3.876955</td>\n",
       "      <td>3.821294</td>\n",
       "      <td>Increasing</td>\n",
       "    </tr>\n",
       "    <tr>\n",
       "      <th>2154</th>\n",
       "      <td>ENSG00000145041.15</td>\n",
       "      <td>-0.000030</td>\n",
       "      <td>0.001148</td>\n",
       "      <td>5</td>\n",
       "      <td>0.978893</td>\n",
       "      <td>0.985513</td>\n",
       "      <td>False</td>\n",
       "      <td>0.009265</td>\n",
       "      <td>-0.026457</td>\n",
       "      <td>Descreasing</td>\n",
       "    </tr>\n",
       "    <tr>\n",
       "      <th>6143</th>\n",
       "      <td>ENSG00000263551.5</td>\n",
       "      <td>0.004013</td>\n",
       "      <td>0.001126</td>\n",
       "      <td>5</td>\n",
       "      <td>0.000364</td>\n",
       "      <td>0.001288</td>\n",
       "      <td>True</td>\n",
       "      <td>3.438619</td>\n",
       "      <td>3.564728</td>\n",
       "      <td>Increasing</td>\n",
       "    </tr>\n",
       "    <tr>\n",
       "      <th>660</th>\n",
       "      <td>ENSG00000107438.8</td>\n",
       "      <td>0.002835</td>\n",
       "      <td>0.000848</td>\n",
       "      <td>5</td>\n",
       "      <td>0.000825</td>\n",
       "      <td>0.002645</td>\n",
       "      <td>True</td>\n",
       "      <td>3.083515</td>\n",
       "      <td>3.344248</td>\n",
       "      <td>Increasing</td>\n",
       "    </tr>\n",
       "    <tr>\n",
       "      <th>7035</th>\n",
       "      <td>ENSG00000169490.16</td>\n",
       "      <td>-0.005487</td>\n",
       "      <td>0.001174</td>\n",
       "      <td>5</td>\n",
       "      <td>0.000003</td>\n",
       "      <td>0.000018</td>\n",
       "      <td>False</td>\n",
       "      <td>5.530182</td>\n",
       "      <td>-4.674273</td>\n",
       "      <td>Descreasing</td>\n",
       "    </tr>\n",
       "  </tbody>\n",
       "</table>\n",
       "</div>"
      ],
      "text/plain": [
       "                 feature      coef    stderr  term_cnt   p-value    bh_fdr  \\\n",
       "6562   ENSG00000256594.8  0.004184  0.001095         5  0.000133  0.000531   \n",
       "2154  ENSG00000145041.15 -0.000030  0.001148         5  0.978893  0.985513   \n",
       "6143   ENSG00000263551.5  0.004013  0.001126         5  0.000364  0.001288   \n",
       "660    ENSG00000107438.8  0.002835  0.000848         5  0.000825  0.002645   \n",
       "7035  ENSG00000169490.16 -0.005487  0.001174         5  0.000003  0.000018   \n",
       "\n",
       "      Replicates  log10_pvalue   z_score   Trajectory  \n",
       "6562        True      3.876955  3.821294   Increasing  \n",
       "2154       False      0.009265 -0.026457  Descreasing  \n",
       "6143        True      3.438619  3.564728   Increasing  \n",
       "660         True      3.083515  3.344248   Increasing  \n",
       "7035       False      5.530182 -4.674273  Descreasing  "
      ]
     },
     "metadata": {},
     "output_type": "display_data"
    }
   ],
   "source": [
    "dics_results_df['Trajectory'] = np.where(dics_results_df['coef'] > 0, \n",
    "                                         'Increasing', 'Descreasing')\n",
    "display(dics_results_df.sample(5))"
   ]
  },
  {
   "cell_type": "markdown",
   "id": "80418c16",
   "metadata": {},
   "source": [
    "#### check the replicated mixed model results against the mixed model results also adjusted for age and sex"
   ]
  },
  {
   "cell_type": "code",
   "execution_count": 56,
   "id": "787f1e22",
   "metadata": {},
   "outputs": [
    {
     "name": "stdout",
     "output_type": "stream",
     "text": [
      "(10318, 7)\n",
      "(10104, 7)\n"
     ]
    }
   ],
   "source": [
    "mm_file = f'{home_dir}/{disc_name}/results/{disc_name}.replicated.expr_time_mm.csv'\n",
    "mm_cov_file =  f'{home_dir}/{disc_name}/results/{disc_name}.replicated.expr_time_cov_mm.csv'\n",
    "mm_results_df = pd.read_csv(mm_file)\n",
    "print(mm_results_df.shape)\n",
    "mm_cov_results_df = pd.read_csv(mm_cov_file)\n",
    "print(mm_cov_results_df.shape)"
   ]
  },
  {
   "cell_type": "code",
   "execution_count": 70,
   "id": "35e706eb",
   "metadata": {},
   "outputs": [
    {
     "data": {
      "text/plain": [
       "PD    5052\n",
       "PP    5052\n",
       "Name: cohort, dtype: int64"
      ]
     },
     "execution_count": 70,
     "metadata": {},
     "output_type": "execute_result"
    }
   ],
   "source": [
    "mm_cov_results_df['cohort'].value_counts()"
   ]
  },
  {
   "cell_type": "code",
   "execution_count": 60,
   "id": "ace442ef",
   "metadata": {},
   "outputs": [
    {
     "name": "stdout",
     "output_type": "stream",
     "text": [
      "4926\n",
      "233\n",
      "126\n"
     ]
    }
   ],
   "source": [
    "in_both = set(mm_results_df['feature']) & set(mm_cov_results_df['feature'])\n",
    "print(len(in_both))\n",
    "in_just_mm = set(mm_results_df['feature']) - set(mm_cov_results_df['feature']) \n",
    "print(len(in_just_mm))\n",
    "in_just_mm_cov = set(mm_cov_results_df['feature']) - set(mm_results_df['feature'])\n",
    "print(len(in_just_mm_cov))"
   ]
  },
  {
   "cell_type": "code",
   "execution_count": 80,
   "id": "5c55367a",
   "metadata": {},
   "outputs": [],
   "source": [
    "both_file = f'{home_dir}/{disc_name}/results/{disc_name}.replicated.expr_time_mm_and_mmcov.csv'\n",
    "just_mm_file = f'{home_dir}/{disc_name}/results/{disc_name}.replicated.expr_time_mm_only.csv'\n",
    "just_mmcov_file = f'{home_dir}/{disc_name}/results/{disc_name}.replicated.expr_time_mmcov_only.csv'\n",
    "\n",
    "mm_results_df.loc[mm_results_df['feature'].isin(in_both)].to_csv(both_file, index=False)\n",
    "mm_results_df.loc[mm_results_df['feature'].isin(in_just_mm)].to_csv(just_mm_file, index=False)\n",
    "mm_cov_results_df.loc[mm_cov_results_df['feature'].isin(in_just_mm_cov)].to_csv(just_mmcov_file, index=False)"
   ]
  },
  {
   "cell_type": "code",
   "execution_count": 63,
   "id": "4561c7bd",
   "metadata": {},
   "outputs": [
    {
     "data": {
      "text/html": [
       "<div>\n",
       "<style scoped>\n",
       "    .dataframe tbody tr th:only-of-type {\n",
       "        vertical-align: middle;\n",
       "    }\n",
       "\n",
       "    .dataframe tbody tr th {\n",
       "        vertical-align: top;\n",
       "    }\n",
       "\n",
       "    .dataframe thead th {\n",
       "        text-align: right;\n",
       "    }\n",
       "</style>\n",
       "<table border=\"1\" class=\"dataframe\">\n",
       "  <thead>\n",
       "    <tr style=\"text-align: right;\">\n",
       "      <th></th>\n",
       "      <th>feature</th>\n",
       "      <th>coef</th>\n",
       "      <th>stderr</th>\n",
       "      <th>term_cnt</th>\n",
       "      <th>p-value</th>\n",
       "      <th>bh_fdr</th>\n",
       "      <th>cohort</th>\n",
       "    </tr>\n",
       "  </thead>\n",
       "  <tbody>\n",
       "    <tr>\n",
       "      <th>0</th>\n",
       "      <td>ENSG00000263812.5</td>\n",
       "      <td>0.002463</td>\n",
       "      <td>0.000966</td>\n",
       "      <td>3</td>\n",
       "      <td>1.077182e-02</td>\n",
       "      <td>2.414147e-02</td>\n",
       "      <td>PP</td>\n",
       "    </tr>\n",
       "    <tr>\n",
       "      <th>1</th>\n",
       "      <td>ENSG00000142230.11</td>\n",
       "      <td>-0.008054</td>\n",
       "      <td>0.001119</td>\n",
       "      <td>3</td>\n",
       "      <td>6.225744e-13</td>\n",
       "      <td>1.682146e-11</td>\n",
       "      <td>PP</td>\n",
       "    </tr>\n",
       "    <tr>\n",
       "      <th>2</th>\n",
       "      <td>ENSG00000185164.14</td>\n",
       "      <td>0.002418</td>\n",
       "      <td>0.000926</td>\n",
       "      <td>3</td>\n",
       "      <td>9.054107e-03</td>\n",
       "      <td>2.074218e-02</td>\n",
       "      <td>PP</td>\n",
       "    </tr>\n",
       "    <tr>\n",
       "      <th>3</th>\n",
       "      <td>ENSG00000207166.1</td>\n",
       "      <td>0.007776</td>\n",
       "      <td>0.001026</td>\n",
       "      <td>3</td>\n",
       "      <td>3.499672e-14</td>\n",
       "      <td>1.188200e-12</td>\n",
       "      <td>PP</td>\n",
       "    </tr>\n",
       "    <tr>\n",
       "      <th>4</th>\n",
       "      <td>ENSG00000246731.2</td>\n",
       "      <td>-0.003225</td>\n",
       "      <td>0.001123</td>\n",
       "      <td>3</td>\n",
       "      <td>4.064190e-03</td>\n",
       "      <td>1.034898e-02</td>\n",
       "      <td>PP</td>\n",
       "    </tr>\n",
       "  </tbody>\n",
       "</table>\n",
       "</div>"
      ],
      "text/plain": [
       "              feature      coef    stderr  term_cnt       p-value  \\\n",
       "0   ENSG00000263812.5  0.002463  0.000966         3  1.077182e-02   \n",
       "1  ENSG00000142230.11 -0.008054  0.001119         3  6.225744e-13   \n",
       "2  ENSG00000185164.14  0.002418  0.000926         3  9.054107e-03   \n",
       "3   ENSG00000207166.1  0.007776  0.001026         3  3.499672e-14   \n",
       "4   ENSG00000246731.2 -0.003225  0.001123         3  4.064190e-03   \n",
       "\n",
       "         bh_fdr cohort  \n",
       "0  2.414147e-02     PP  \n",
       "1  1.682146e-11     PP  \n",
       "2  2.074218e-02     PP  \n",
       "3  1.188200e-12     PP  \n",
       "4  1.034898e-02     PP  "
      ]
     },
     "execution_count": 63,
     "metadata": {},
     "output_type": "execute_result"
    }
   ],
   "source": [
    "mm_results_df.head()"
   ]
  },
  {
   "cell_type": "code",
   "execution_count": 64,
   "id": "f65726b6",
   "metadata": {},
   "outputs": [
    {
     "data": {
      "text/html": [
       "<div>\n",
       "<style scoped>\n",
       "    .dataframe tbody tr th:only-of-type {\n",
       "        vertical-align: middle;\n",
       "    }\n",
       "\n",
       "    .dataframe tbody tr th {\n",
       "        vertical-align: top;\n",
       "    }\n",
       "\n",
       "    .dataframe thead th {\n",
       "        text-align: right;\n",
       "    }\n",
       "</style>\n",
       "<table border=\"1\" class=\"dataframe\">\n",
       "  <thead>\n",
       "    <tr style=\"text-align: right;\">\n",
       "      <th></th>\n",
       "      <th>feature</th>\n",
       "      <th>coef</th>\n",
       "      <th>stderr</th>\n",
       "      <th>term_cnt</th>\n",
       "      <th>p-value</th>\n",
       "      <th>bh_fdr</th>\n",
       "      <th>cohort</th>\n",
       "    </tr>\n",
       "  </thead>\n",
       "  <tbody>\n",
       "    <tr>\n",
       "      <th>0</th>\n",
       "      <td>ENSG00000263812.5</td>\n",
       "      <td>0.002419</td>\n",
       "      <td>0.000967</td>\n",
       "      <td>5</td>\n",
       "      <td>1.233562e-02</td>\n",
       "      <td>2.746334e-02</td>\n",
       "      <td>PP</td>\n",
       "    </tr>\n",
       "    <tr>\n",
       "      <th>1</th>\n",
       "      <td>ENSG00000142230.11</td>\n",
       "      <td>-0.007709</td>\n",
       "      <td>0.001117</td>\n",
       "      <td>5</td>\n",
       "      <td>5.116885e-12</td>\n",
       "      <td>1.182382e-10</td>\n",
       "      <td>PP</td>\n",
       "    </tr>\n",
       "    <tr>\n",
       "      <th>2</th>\n",
       "      <td>ENSG00000185164.14</td>\n",
       "      <td>0.002251</td>\n",
       "      <td>0.000927</td>\n",
       "      <td>5</td>\n",
       "      <td>1.514773e-02</td>\n",
       "      <td>3.271725e-02</td>\n",
       "      <td>PP</td>\n",
       "    </tr>\n",
       "    <tr>\n",
       "      <th>3</th>\n",
       "      <td>ENSG00000207166.1</td>\n",
       "      <td>0.007637</td>\n",
       "      <td>0.001026</td>\n",
       "      <td>5</td>\n",
       "      <td>9.970936e-14</td>\n",
       "      <td>3.334126e-12</td>\n",
       "      <td>PP</td>\n",
       "    </tr>\n",
       "    <tr>\n",
       "      <th>4</th>\n",
       "      <td>ENSG00000246731.2</td>\n",
       "      <td>-0.003732</td>\n",
       "      <td>0.001121</td>\n",
       "      <td>5</td>\n",
       "      <td>8.685895e-04</td>\n",
       "      <td>2.770967e-03</td>\n",
       "      <td>PP</td>\n",
       "    </tr>\n",
       "  </tbody>\n",
       "</table>\n",
       "</div>"
      ],
      "text/plain": [
       "              feature      coef    stderr  term_cnt       p-value  \\\n",
       "0   ENSG00000263812.5  0.002419  0.000967         5  1.233562e-02   \n",
       "1  ENSG00000142230.11 -0.007709  0.001117         5  5.116885e-12   \n",
       "2  ENSG00000185164.14  0.002251  0.000927         5  1.514773e-02   \n",
       "3   ENSG00000207166.1  0.007637  0.001026         5  9.970936e-14   \n",
       "4   ENSG00000246731.2 -0.003732  0.001121         5  8.685895e-04   \n",
       "\n",
       "         bh_fdr cohort  \n",
       "0  2.746334e-02     PP  \n",
       "1  1.182382e-10     PP  \n",
       "2  3.271725e-02     PP  \n",
       "3  3.334126e-12     PP  \n",
       "4  2.770967e-03     PP  "
      ]
     },
     "execution_count": 64,
     "metadata": {},
     "output_type": "execute_result"
    }
   ],
   "source": [
    "mm_cov_results_df.head()"
   ]
  },
  {
   "cell_type": "code",
   "execution_count": 74,
   "id": "11483a02",
   "metadata": {},
   "outputs": [
    {
     "name": "stdout",
     "output_type": "stream",
     "text": [
      "(19704, 13)\n"
     ]
    }
   ],
   "source": [
    "both_df = mm_results_df.merge(mm_cov_results_df, how='inner', left_on='feature', right_on='feature')\n",
    "print(both_df.shape)"
   ]
  },
  {
   "cell_type": "code",
   "execution_count": null,
   "id": "65219693",
   "metadata": {},
   "outputs": [],
   "source": [
    "dics_results_df['log10_pvalue'] = np.log10(dics_results_df['p-value'])*-1\n",
    "dics_results_df['z_score'] = dics_results_df['coef']/dics_results_df['stderr']"
   ]
  },
  {
   "cell_type": "code",
   "execution_count": 79,
   "id": "329d14cd",
   "metadata": {},
   "outputs": [
    {
     "data": {
      "text/plain": [
       "<AxesSubplot:xlabel='coef_x', ylabel='coef_y'>"
      ]
     },
     "execution_count": 79,
     "metadata": {},
     "output_type": "execute_result"
    },
    {
     "data": {
      "image/png": "[encoded data removed]",
      "text/plain": [
       "<Figure size 432x288 with 1 Axes>"
      ]
     },
     "metadata": {
      "needs_background": "light"
     },
     "output_type": "display_data"
    }
   ],
   "source": [
    "sns.scatterplot(x='coef_x', y='coef_y', data=both_df.loc[both_df['cohort_x'] == 'PP'])"
   ]
  },
  {
   "cell_type": "code",
   "execution_count": 66,
   "id": "10941bd8",
   "metadata": {},
   "outputs": [
    {
     "data": {
      "text/html": [
       "<div>\n",
       "<style scoped>\n",
       "    .dataframe tbody tr th:only-of-type {\n",
       "        vertical-align: middle;\n",
       "    }\n",
       "\n",
       "    .dataframe tbody tr th {\n",
       "        vertical-align: top;\n",
       "    }\n",
       "\n",
       "    .dataframe thead th {\n",
       "        text-align: right;\n",
       "    }\n",
       "</style>\n",
       "<table border=\"1\" class=\"dataframe\">\n",
       "  <thead>\n",
       "    <tr style=\"text-align: right;\">\n",
       "      <th></th>\n",
       "      <th>feature</th>\n",
       "      <th>coef_x</th>\n",
       "      <th>stderr_x</th>\n",
       "      <th>term_cnt_x</th>\n",
       "      <th>p-value_x</th>\n",
       "      <th>bh_fdr_x</th>\n",
       "      <th>cohort_x</th>\n",
       "      <th>coef_y</th>\n",
       "      <th>stderr_y</th>\n",
       "      <th>term_cnt_y</th>\n",
       "      <th>p-value_y</th>\n",
       "      <th>bh_fdr_y</th>\n",
       "      <th>cohort_y</th>\n",
       "    </tr>\n",
       "  </thead>\n",
       "  <tbody>\n",
       "    <tr>\n",
       "      <th>0</th>\n",
       "      <td>ENSG00000263812.5</td>\n",
       "      <td>0.002463</td>\n",
       "      <td>0.000966</td>\n",
       "      <td>3</td>\n",
       "      <td>1.077182e-02</td>\n",
       "      <td>2.414147e-02</td>\n",
       "      <td>PP</td>\n",
       "      <td>0.002419</td>\n",
       "      <td>0.000967</td>\n",
       "      <td>5</td>\n",
       "      <td>1.233562e-02</td>\n",
       "      <td>2.746334e-02</td>\n",
       "      <td>PP</td>\n",
       "    </tr>\n",
       "    <tr>\n",
       "      <th>1</th>\n",
       "      <td>ENSG00000263812.5</td>\n",
       "      <td>0.002463</td>\n",
       "      <td>0.000966</td>\n",
       "      <td>3</td>\n",
       "      <td>1.077182e-02</td>\n",
       "      <td>2.414147e-02</td>\n",
       "      <td>PP</td>\n",
       "      <td>0.007576</td>\n",
       "      <td>0.001729</td>\n",
       "      <td>5</td>\n",
       "      <td>1.175869e-05</td>\n",
       "      <td>4.438031e-05</td>\n",
       "      <td>PD</td>\n",
       "    </tr>\n",
       "    <tr>\n",
       "      <th>2</th>\n",
       "      <td>ENSG00000263812.5</td>\n",
       "      <td>0.007703</td>\n",
       "      <td>0.001732</td>\n",
       "      <td>3</td>\n",
       "      <td>8.668913e-06</td>\n",
       "      <td>3.365399e-05</td>\n",
       "      <td>PD</td>\n",
       "      <td>0.002419</td>\n",
       "      <td>0.000967</td>\n",
       "      <td>5</td>\n",
       "      <td>1.233562e-02</td>\n",
       "      <td>2.746334e-02</td>\n",
       "      <td>PP</td>\n",
       "    </tr>\n",
       "    <tr>\n",
       "      <th>3</th>\n",
       "      <td>ENSG00000263812.5</td>\n",
       "      <td>0.007703</td>\n",
       "      <td>0.001732</td>\n",
       "      <td>3</td>\n",
       "      <td>8.668913e-06</td>\n",
       "      <td>3.365399e-05</td>\n",
       "      <td>PD</td>\n",
       "      <td>0.007576</td>\n",
       "      <td>0.001729</td>\n",
       "      <td>5</td>\n",
       "      <td>1.175869e-05</td>\n",
       "      <td>4.438031e-05</td>\n",
       "      <td>PD</td>\n",
       "    </tr>\n",
       "    <tr>\n",
       "      <th>4</th>\n",
       "      <td>ENSG00000142230.11</td>\n",
       "      <td>-0.008054</td>\n",
       "      <td>0.001119</td>\n",
       "      <td>3</td>\n",
       "      <td>6.225744e-13</td>\n",
       "      <td>1.682146e-11</td>\n",
       "      <td>PP</td>\n",
       "      <td>-0.007709</td>\n",
       "      <td>0.001117</td>\n",
       "      <td>5</td>\n",
       "      <td>5.116885e-12</td>\n",
       "      <td>1.182382e-10</td>\n",
       "      <td>PP</td>\n",
       "    </tr>\n",
       "  </tbody>\n",
       "</table>\n",
       "</div>"
      ],
      "text/plain": [
       "              feature    coef_x  stderr_x  term_cnt_x     p-value_x  \\\n",
       "0   ENSG00000263812.5  0.002463  0.000966           3  1.077182e-02   \n",
       "1   ENSG00000263812.5  0.002463  0.000966           3  1.077182e-02   \n",
       "2   ENSG00000263812.5  0.007703  0.001732           3  8.668913e-06   \n",
       "3   ENSG00000263812.5  0.007703  0.001732           3  8.668913e-06   \n",
       "4  ENSG00000142230.11 -0.008054  0.001119           3  6.225744e-13   \n",
       "\n",
       "       bh_fdr_x cohort_x    coef_y  stderr_y  term_cnt_y     p-value_y  \\\n",
       "0  2.414147e-02       PP  0.002419  0.000967           5  1.233562e-02   \n",
       "1  2.414147e-02       PP  0.007576  0.001729           5  1.175869e-05   \n",
       "2  3.365399e-05       PD  0.002419  0.000967           5  1.233562e-02   \n",
       "3  3.365399e-05       PD  0.007576  0.001729           5  1.175869e-05   \n",
       "4  1.682146e-11       PP -0.007709  0.001117           5  5.116885e-12   \n",
       "\n",
       "       bh_fdr_y cohort_y  \n",
       "0  2.746334e-02       PP  \n",
       "1  4.438031e-05       PD  \n",
       "2  2.746334e-02       PP  \n",
       "3  4.438031e-05       PD  \n",
       "4  1.182382e-10       PP  "
      ]
     },
     "execution_count": 66,
     "metadata": {},
     "output_type": "execute_result"
    }
   ],
   "source": [
    "both_df.head()"
   ]
  },
  {
   "cell_type": "code",
   "execution_count": 71,
   "id": "8bf753b0",
   "metadata": {},
   "outputs": [
    {
     "data": {
      "text/html": [
       "<div>\n",
       "<style scoped>\n",
       "    .dataframe tbody tr th:only-of-type {\n",
       "        vertical-align: middle;\n",
       "    }\n",
       "\n",
       "    .dataframe tbody tr th {\n",
       "        vertical-align: top;\n",
       "    }\n",
       "\n",
       "    .dataframe thead th {\n",
       "        text-align: right;\n",
       "    }\n",
       "</style>\n",
       "<table border=\"1\" class=\"dataframe\">\n",
       "  <thead>\n",
       "    <tr style=\"text-align: right;\">\n",
       "      <th></th>\n",
       "      <th>feature</th>\n",
       "      <th>coef</th>\n",
       "      <th>stderr</th>\n",
       "      <th>term_cnt</th>\n",
       "      <th>p-value</th>\n",
       "      <th>bh_fdr</th>\n",
       "      <th>cohort</th>\n",
       "    </tr>\n",
       "  </thead>\n",
       "  <tbody>\n",
       "    <tr>\n",
       "      <th>0</th>\n",
       "      <td>ENSG00000263812.5</td>\n",
       "      <td>0.002463</td>\n",
       "      <td>0.000966</td>\n",
       "      <td>3</td>\n",
       "      <td>0.010772</td>\n",
       "      <td>0.024141</td>\n",
       "      <td>PP</td>\n",
       "    </tr>\n",
       "    <tr>\n",
       "      <th>5159</th>\n",
       "      <td>ENSG00000263812.5</td>\n",
       "      <td>0.007703</td>\n",
       "      <td>0.001732</td>\n",
       "      <td>3</td>\n",
       "      <td>0.000009</td>\n",
       "      <td>0.000034</td>\n",
       "      <td>PD</td>\n",
       "    </tr>\n",
       "  </tbody>\n",
       "</table>\n",
       "</div>"
      ],
      "text/plain": [
       "                feature      coef    stderr  term_cnt   p-value    bh_fdr  \\\n",
       "0     ENSG00000263812.5  0.002463  0.000966         3  0.010772  0.024141   \n",
       "5159  ENSG00000263812.5  0.007703  0.001732         3  0.000009  0.000034   \n",
       "\n",
       "     cohort  \n",
       "0        PP  \n",
       "5159     PD  "
      ]
     },
     "execution_count": 71,
     "metadata": {},
     "output_type": "execute_result"
    }
   ],
   "source": [
    "mm_results_df.loc[mm_results_df['feature'] == 'ENSG00000263812.5']"
   ]
  },
  {
   "cell_type": "code",
   "execution_count": 72,
   "id": "6e6d5e88",
   "metadata": {},
   "outputs": [
    {
     "data": {
      "text/html": [
       "<div>\n",
       "<style scoped>\n",
       "    .dataframe tbody tr th:only-of-type {\n",
       "        vertical-align: middle;\n",
       "    }\n",
       "\n",
       "    .dataframe tbody tr th {\n",
       "        vertical-align: top;\n",
       "    }\n",
       "\n",
       "    .dataframe thead th {\n",
       "        text-align: right;\n",
       "    }\n",
       "</style>\n",
       "<table border=\"1\" class=\"dataframe\">\n",
       "  <thead>\n",
       "    <tr style=\"text-align: right;\">\n",
       "      <th></th>\n",
       "      <th>feature</th>\n",
       "      <th>coef</th>\n",
       "      <th>stderr</th>\n",
       "      <th>term_cnt</th>\n",
       "      <th>p-value</th>\n",
       "      <th>bh_fdr</th>\n",
       "      <th>cohort</th>\n",
       "    </tr>\n",
       "  </thead>\n",
       "  <tbody>\n",
       "    <tr>\n",
       "      <th>0</th>\n",
       "      <td>ENSG00000263812.5</td>\n",
       "      <td>0.002419</td>\n",
       "      <td>0.000967</td>\n",
       "      <td>5</td>\n",
       "      <td>0.012336</td>\n",
       "      <td>0.027463</td>\n",
       "      <td>PP</td>\n",
       "    </tr>\n",
       "    <tr>\n",
       "      <th>5134</th>\n",
       "      <td>ENSG00000263812.5</td>\n",
       "      <td>0.007576</td>\n",
       "      <td>0.001729</td>\n",
       "      <td>5</td>\n",
       "      <td>0.000012</td>\n",
       "      <td>0.000044</td>\n",
       "      <td>PD</td>\n",
       "    </tr>\n",
       "  </tbody>\n",
       "</table>\n",
       "</div>"
      ],
      "text/plain": [
       "                feature      coef    stderr  term_cnt   p-value    bh_fdr  \\\n",
       "0     ENSG00000263812.5  0.002419  0.000967         5  0.012336  0.027463   \n",
       "5134  ENSG00000263812.5  0.007576  0.001729         5  0.000012  0.000044   \n",
       "\n",
       "     cohort  \n",
       "0        PP  \n",
       "5134     PD  "
      ]
     },
     "execution_count": 72,
     "metadata": {},
     "output_type": "execute_result"
    }
   ],
   "source": [
    "mm_cov_results_df.loc[mm_cov_results_df['feature'] == 'ENSG00000263812.5']"
   ]
  },
  {
   "cell_type": "code",
   "execution_count": 69,
   "id": "710edf29",
   "metadata": {},
   "outputs": [
    {
     "data": {
      "text/plain": [
       "PD    9852\n",
       "PP    9852\n",
       "Name: cohort_x, dtype: int64"
      ]
     },
     "execution_count": 69,
     "metadata": {},
     "output_type": "execute_result"
    }
   ],
   "source": [
    "both_df['cohort_x'].value_counts()"
   ]
  },
  {
   "cell_type": "code",
   "execution_count": 85,
   "id": "96be12ae",
   "metadata": {},
   "outputs": [
    {
     "data": {
      "text/plain": [
       "Index(['x_umap', 'y_umap', 'cohort', 'idpart', 'visit', 'wgsid',\n",
       "       'participant_id', 'visit_name', 'visit_month', 'age_at_baseline', 'sex',\n",
       "       'ethnicity', 'race', 'education_level_years', 'diagnosis_at_baseline',\n",
       "       'diagnosis_latest', 'case_control_other_at_baseline',\n",
       "       'case_control_other_latest', 'study_arm', 'prodromal_category',\n",
       "       'Recruitment', 'Specimen_Quantity', 'Concentration',\n",
       "       'Submitted_Volume__ul_', 'Normalization_Volume__30ng_ul_',\n",
       "       'Total_Volume__ul_', 'Input_RNASeq__ng_', 'Input_miRNA__ng_',\n",
       "       '_260_230_Ratio', '_260_280_Ratio', 'RIN_Value', 'Box', 'Plate',\n",
       "       'Position', 'predicted_Basophils', 'predicted_Eosinophils',\n",
       "       'predicted_Lymphocytes', 'predicted_Monocytes', 'predicted_Neutrophils',\n",
       "       'month'],\n",
       "      dtype='object')"
      ]
     },
     "execution_count": 85,
     "metadata": {},
     "output_type": "execute_result"
    }
   ],
   "source": [
    "covs_df.columns"
   ]
  },
  {
   "cell_type": "code",
   "execution_count": null,
   "id": "b72a1932",
   "metadata": {},
   "outputs": [],
   "source": []
  }
 ],
 "metadata": {
  "environment": {
   "name": "pytorch-gpu.1-8.m65",
   "type": "gcloud",
   "uri": "gcr.io/deeplearning-platform-release/pytorch-gpu.1-8:m65"
  },
  "kernelspec": {
   "display_name": "Python 3",
   "language": "python",
   "name": "python3"
  },
  "language_info": {
   "codemirror_mode": {
    "name": "ipython",
    "version": 3
   },
   "file_extension": ".py",
   "mimetype": "text/x-python",
   "name": "python",
   "nbconvert_exporter": "python",
   "pygments_lexer": "ipython3",
   "version": "3.7.10"
  }
 },
 "nbformat": 4,
 "nbformat_minor": 5
}
