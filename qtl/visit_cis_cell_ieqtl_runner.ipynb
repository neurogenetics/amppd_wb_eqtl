{
 "cells": [
  {
   "cell_type": "markdown",
   "metadata": {},
   "source": [
    "## Notebook runner for AMP-PD tissue and visit interaction eQTL for cell fraction terms via papermill"
   ]
  },
  {
   "cell_type": "code",
   "execution_count": 1,
   "metadata": {},
   "outputs": [
    {
     "name": "stdout",
     "output_type": "stream",
     "text": [
      "Mon Jun 21 21:58:53 UTC 2021\n"
     ]
    }
   ],
   "source": [
    "!date"
   ]
  },
  {
   "cell_type": "markdown",
   "metadata": {},
   "source": [
    "#### import libraries"
   ]
  },
  {
   "cell_type": "code",
   "execution_count": 2,
   "metadata": {},
   "outputs": [],
   "source": [
    "import pandas as pd\n",
    "import os\n",
    "import papermill as pm"
   ]
  },
  {
   "cell_type": "code",
   "execution_count": 3,
   "metadata": {},
   "outputs": [],
   "source": [
    "# base notebook to be run per tuple iteration\n",
    "base_notebook = '/home/jupyter/notebooks/visit_cis_cell_ieqtl_tensorqtl.ipynb'\n",
    "\n",
    "# setup iteration tuples\n",
    "cohort_names = ['biofind', 'pdbp', 'ppmi']\n",
    "version = 'amppdv1'\n",
    "tissue = 'wb'\n",
    "months = [0, 1, 6 , 12, 18, 24, 36]\n",
    "visit_names = ['BLM0T1', 'SVM0_5T1', 'SVM6T1', 'SVM12T1', 'SVM18T1', 'SVM24T1', 'SVM36T1']\n",
    "column_names = ['cohort', 'amp_abbr', 'version', 'tissue', 'visit', 'visit_name']\n",
    "# nb_combo_df = pd.DataFrame(data=X, columns=column_names)\n",
    "quant_type = 'genes'"
   ]
  },
  {
   "cell_type": "markdown",
   "metadata": {},
   "source": [
    "#### iterate over the tuples running the notebook per tuple"
   ]
  },
  {
   "cell_type": "code",
   "execution_count": null,
   "metadata": {},
   "outputs": [
    {
     "name": "stdout",
     "output_type": "stream",
     "text": [
      "{'cohort': 'biofind', 'version': 'amppdv1', 'tissue': 'wb', 'visit': 1, 'visit_name': 'SVM0_5T1'}\n",
      "/home/jupyter/notebooks/biofind/pm_gend_nbs/biofind.wb1.cis_cell_ieqtl_tensorqtl.ipynb\n"
     ]
    },
    {
     "data": {
      "application/vnd.jupyter.widget-view+json": {
       "model_id": "3a49dd7d1a1e48ee93138c57bf82b614",
       "version_major": 2,
       "version_minor": 0
      },
      "text/plain": [
       "Executing:   0%|          | 0/31 [00:00<?, ?cell/s]"
      ]
     },
     "metadata": {},
     "output_type": "display_data"
    },
    {
     "name": "stderr",
     "output_type": "stream",
     "text": [
      "Autosave too slow: 7.50 sec, over 25% limit. Backing off to 60 sec\n",
      "Autosave too slow: 15.11 sec, over 25% limit. Backing off to 120 sec\n"
     ]
    },
    {
     "name": "stdout",
     "output_type": "stream",
     "text": [
      "{'cohort': 'pdbp', 'version': 'amppdv1', 'tissue': 'wb', 'visit': 0, 'visit_name': 'BLM0T1'}\n",
      "/home/jupyter/notebooks/pdbp/pm_gend_nbs/pdbp.wb0.cis_cell_ieqtl_tensorqtl.ipynb\n"
     ]
    },
    {
     "data": {
      "application/vnd.jupyter.widget-view+json": {
       "model_id": "752a1651769f414daeb9092cb5249a1d",
       "version_major": 2,
       "version_minor": 0
      },
      "text/plain": [
       "Executing:   0%|          | 0/31 [00:00<?, ?cell/s]"
      ]
     },
     "metadata": {},
     "output_type": "display_data"
    },
    {
     "name": "stderr",
     "output_type": "stream",
     "text": [
      "Autosave too slow: 9.18 sec, over 25% limit. Backing off to 60 sec\n",
      "Autosave too slow: 15.41 sec, over 25% limit. Backing off to 120 sec\n"
     ]
    },
    {
     "name": "stdout",
     "output_type": "stream",
     "text": [
      "{'cohort': 'pdbp', 'version': 'amppdv1', 'tissue': 'wb', 'visit': 6, 'visit_name': 'SVM6T1'}\n",
      "/home/jupyter/notebooks/pdbp/pm_gend_nbs/pdbp.wb6.cis_cell_ieqtl_tensorqtl.ipynb\n"
     ]
    },
    {
     "data": {
      "application/vnd.jupyter.widget-view+json": {
       "model_id": "ca7afae86f55419f9943ccfdc23769eb",
       "version_major": 2,
       "version_minor": 0
      },
      "text/plain": [
       "Executing:   0%|          | 0/31 [00:00<?, ?cell/s]"
      ]
     },
     "metadata": {},
     "output_type": "display_data"
    },
    {
     "name": "stderr",
     "output_type": "stream",
     "text": [
      "Autosave too slow: 7.61 sec, over 25% limit. Backing off to 60 sec\n",
      "Autosave too slow: 15.53 sec, over 25% limit. Backing off to 120 sec\n"
     ]
    },
    {
     "name": "stdout",
     "output_type": "stream",
     "text": [
      "{'cohort': 'pdbp', 'version': 'amppdv1', 'tissue': 'wb', 'visit': 12, 'visit_name': 'SVM12T1'}\n",
      "/home/jupyter/notebooks/pdbp/pm_gend_nbs/pdbp.wb12.cis_cell_ieqtl_tensorqtl.ipynb\n"
     ]
    },
    {
     "data": {
      "application/vnd.jupyter.widget-view+json": {
       "model_id": "4858721a5490476b9453c37283db92ca",
       "version_major": 2,
       "version_minor": 0
      },
      "text/plain": [
       "Executing:   0%|          | 0/31 [00:00<?, ?cell/s]"
      ]
     },
     "metadata": {},
     "output_type": "display_data"
    },
    {
     "name": "stderr",
     "output_type": "stream",
     "text": [
      "Autosave too slow: 7.68 sec, over 25% limit. Backing off to 60 sec\n",
      "Autosave too slow: 19.12 sec, over 25% limit. Backing off to 120 sec\n"
     ]
    },
    {
     "name": "stdout",
     "output_type": "stream",
     "text": [
      "{'cohort': 'pdbp', 'version': 'amppdv1', 'tissue': 'wb', 'visit': 18, 'visit_name': 'SVM18T1'}\n",
      "/home/jupyter/notebooks/pdbp/pm_gend_nbs/pdbp.wb18.cis_cell_ieqtl_tensorqtl.ipynb\n"
     ]
    },
    {
     "data": {
      "application/vnd.jupyter.widget-view+json": {
       "model_id": "d34c082096464dae89f64e91c4988977",
       "version_major": 2,
       "version_minor": 0
      },
      "text/plain": [
       "Executing:   0%|          | 0/31 [00:00<?, ?cell/s]"
      ]
     },
     "metadata": {},
     "output_type": "display_data"
    },
    {
     "name": "stderr",
     "output_type": "stream",
     "text": [
      "Autosave too slow: 7.53 sec, over 25% limit. Backing off to 60 sec\n",
      "Autosave too slow: 16.38 sec, over 25% limit. Backing off to 120 sec\n"
     ]
    },
    {
     "name": "stdout",
     "output_type": "stream",
     "text": [
      "{'cohort': 'pdbp', 'version': 'amppdv1', 'tissue': 'wb', 'visit': 24, 'visit_name': 'SVM24T1'}\n",
      "/home/jupyter/notebooks/pdbp/pm_gend_nbs/pdbp.wb24.cis_cell_ieqtl_tensorqtl.ipynb\n"
     ]
    },
    {
     "data": {
      "application/vnd.jupyter.widget-view+json": {
       "model_id": "2576bdf2bc494914a3ac683391e9542a",
       "version_major": 2,
       "version_minor": 0
      },
      "text/plain": [
       "Executing:   0%|          | 0/31 [00:00<?, ?cell/s]"
      ]
     },
     "metadata": {},
     "output_type": "display_data"
    },
    {
     "name": "stderr",
     "output_type": "stream",
     "text": [
      "Autosave too slow: 8.04 sec, over 25% limit. Backing off to 60 sec\n",
      "Autosave too slow: 15.14 sec, over 25% limit. Backing off to 120 sec\n"
     ]
    },
    {
     "name": "stdout",
     "output_type": "stream",
     "text": [
      "{'cohort': 'ppmi', 'version': 'amppdv1', 'tissue': 'wb', 'visit': 0, 'visit_name': 'BLM0T1'}\n",
      "/home/jupyter/notebooks/ppmi/pm_gend_nbs/ppmi.wb0.cis_cell_ieqtl_tensorqtl.ipynb\n"
     ]
    },
    {
     "data": {
      "application/vnd.jupyter.widget-view+json": {
       "model_id": "eda9c25f9d1949d7bfc1d45e6b22e8c4",
       "version_major": 2,
       "version_minor": 0
      },
      "text/plain": [
       "Executing:   0%|          | 0/31 [00:00<?, ?cell/s]"
      ]
     },
     "metadata": {},
     "output_type": "display_data"
    },
    {
     "name": "stderr",
     "output_type": "stream",
     "text": [
      "Autosave too slow: 7.87 sec, over 25% limit. Backing off to 60 sec\n",
      "Autosave too slow: 15.56 sec, over 25% limit. Backing off to 120 sec\n"
     ]
    },
    {
     "name": "stdout",
     "output_type": "stream",
     "text": [
      "{'cohort': 'ppmi', 'version': 'amppdv1', 'tissue': 'wb', 'visit': 6, 'visit_name': 'SVM6T1'}\n",
      "/home/jupyter/notebooks/ppmi/pm_gend_nbs/ppmi.wb6.cis_cell_ieqtl_tensorqtl.ipynb\n"
     ]
    },
    {
     "data": {
      "application/vnd.jupyter.widget-view+json": {
       "model_id": "870a89bf98ca4de3ae12d1c08f2d0b1b",
       "version_major": 2,
       "version_minor": 0
      },
      "text/plain": [
       "Executing:   0%|          | 0/31 [00:00<?, ?cell/s]"
      ]
     },
     "metadata": {},
     "output_type": "display_data"
    },
    {
     "name": "stderr",
     "output_type": "stream",
     "text": [
      "Autosave too slow: 7.61 sec, over 25% limit. Backing off to 60 sec\n"
     ]
    }
   ],
   "source": [
    "%%time\n",
    "\n",
    "for cohort in cohort_names:\n",
    "    out_nb_dir = f'/home/jupyter/notebooks/{cohort}/pm_gend_nbs'\n",
    "    # make sure the notebook output dir exists\n",
    "    os.makedirs(out_nb_dir, exist_ok=True)\n",
    "    wrk_dir = f'/home/jupyter/{cohort}'\n",
    "    visits = zip(months, visit_names)\n",
    "    for month, visit in visits:\n",
    "        # before running prep notebook make expr data for the cohort and visit\n",
    "        src_expression_matrix = f'{wrk_dir}/expression/{cohort}.{tissue}{month}.norm.adj.bed.gz'\n",
    "        if os.path.isfile(src_expression_matrix):\n",
    "            param_dict = {'cohort': cohort, 'version': version, \n",
    "                          'tissue': tissue, 'visit': month, 'visit_name': visit}\n",
    "            out_notebook = f'{out_nb_dir}/{cohort}.{tissue}{month}.cis_cell_ieqtl_tensorqtl.ipynb'\n",
    "            print(param_dict)\n",
    "            print(out_notebook)\n",
    "            pm.execute_notebook(input_path=base_notebook, output_path=out_notebook, \n",
    "                                parameters=param_dict)"
   ]
  },
  {
   "cell_type": "code",
   "execution_count": null,
   "metadata": {},
   "outputs": [],
   "source": []
  }
 ],
 "metadata": {
  "environment": {
   "name": "pytorch-gpu.1-8.m65",
   "type": "gcloud",
   "uri": "gcr.io/deeplearning-platform-release/pytorch-gpu.1-8:m65"
  },
  "kernelspec": {
   "display_name": "Python 3",
   "language": "python",
   "name": "python3"
  },
  "language_info": {
   "codemirror_mode": {
    "name": "ipython",
    "version": 3
   },
   "file_extension": ".py",
   "mimetype": "text/x-python",
   "name": "python",
   "nbconvert_exporter": "python",
   "pygments_lexer": "ipython3",
   "version": "3.7.10"
  }
 },
 "nbformat": 4,
 "nbformat_minor": 4
}
