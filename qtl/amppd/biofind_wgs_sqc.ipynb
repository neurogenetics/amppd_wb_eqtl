{
 "cells": [
  {
   "cell_type": "markdown",
   "metadata": {},
   "source": [
    "## Notebook for sample QC of WGS sample cohort"
   ]
  },
  {
   "cell_type": "markdown",
   "metadata": {},
   "source": [
    "#### library imports and global variables"
   ]
  },
  {
   "cell_type": "code",
   "execution_count": 1,
   "metadata": {},
   "outputs": [],
   "source": [
    "# import libraries\n",
    "import threading\n",
    "import pandas as pd\n",
    "import dask.dataframe as dd\n",
    "import os\n",
    "from umap import UMAP\n",
    "import matplotlib.pyplot as plt\n",
    "import seaborn as sns"
   ]
  },
  {
   "cell_type": "code",
   "execution_count": 2,
   "metadata": {},
   "outputs": [],
   "source": [
    "# global notebook variables for both python and bash magic (by stdin arguments)\n",
    "cohort = 'biofind'\n",
    "build = 'freeze9'\n",
    "cohort_build = f'{cohort}.{build}'\n",
    "amppd_version = 'amppdv1'\n",
    "\n",
    "# directories\n",
    "wrk_dir = '/labshare/raph/datasets/amppd'\n",
    "genos_dir = f'{wrk_dir}/genotypes'\n",
    "qc_dir = f'{wrk_dir}/qc'\n",
    "eqtl_geno_dir = f'/labshare/raph/eqtl/{cohort}/genotypes'\n",
    "eqtl_info_dir = f'/labshare/raph/eqtl/{cohort}/sample_info'\n",
    "\n",
    "# out file\n",
    "qc_bfile_set = f'{qc_dir}/{cohort_build}.geno05maf05hwe000001'\n",
    "sqc_excludes_file = f'{qc_dir}/{cohort_build}.excludes.txt'\n",
    "sample_info_file = f'{eqtl_info_dir}/{cohort_build}.sample_info.txt'\n",
    "\n",
    "\n",
    "# constants\n",
    "autosomes = [str(x) for x in list(range(1,23))]\n",
    "sexomes = ['X']\n",
    "chromosomes = autosomes + sexomes\n",
    "MAX_MISSING = 0.05\n",
    "MIN_FREQ = 0.05\n",
    "MIN_HWE_P = 0.000001\n",
    "hg38_chrX_PAREND = 2800000\n",
    "hg38_chrX_PARSTART = 155700000"
   ]
  },
  {
   "cell_type": "markdown",
   "metadata": {},
   "source": [
    "#### threading related functions"
   ]
  },
  {
   "cell_type": "code",
   "execution_count": 3,
   "metadata": {},
   "outputs": [],
   "source": [
    "#### threading related function\n",
    "\n",
    "# run command line procsss with bash majic\n",
    "# make this a small function so it can be target function for threading\n",
    "def run_bash_cmd(this_cmd):\n",
    "    !{this_cmd}\n",
    "\n",
    "# for each bash command is list add to execution thread, join and wait til all done\n",
    "def run_bash_cmds_threaded(cmd_list):\n",
    "    job_threads = []\n",
    "    for this_cmd in cmd_list:\n",
    "        this_thread = threading.Thread(target=run_bash_cmd, args=(this_cmd,))\n",
    "        job_threads.append(this_thread)\n",
    "        this_thread.start()\n",
    "\n",
    "    for job_thread in job_threads:\n",
    "        job_thread.join()          "
   ]
  },
  {
   "cell_type": "markdown",
   "metadata": {},
   "source": [
    "### run typical QC checks"
   ]
  },
  {
   "cell_type": "markdown",
   "metadata": {},
   "source": [
    "#### create output directories"
   ]
  },
  {
   "cell_type": "code",
   "execution_count": 4,
   "metadata": {},
   "outputs": [],
   "source": [
    "os.makedirs(qc_dir, exist_ok=True)\n",
    "os.makedirs(eqtl_geno_dir, exist_ok=True)\n",
    "os.makedirs(eqtl_info_dir, exist_ok=True)"
   ]
  },
  {
   "cell_type": "markdown",
   "metadata": {},
   "source": [
    "#### subset genotypes to well behaved variants for running typical sample QC"
   ]
  },
  {
   "cell_type": "code",
   "execution_count": 5,
   "metadata": {},
   "outputs": [],
   "source": [
    "# %%time\n",
    "# # since the plink bim file does handle multi-allelics need to find and create\n",
    "# # exclude list for if bfiles need\n",
    "\n",
    "# def find_pvar_multiallelics(pvar_file, outfile):\n",
    "#     pvar_dd = dd.read_csv(pvar_file, header=None, sep='\\s+', comment='#',\n",
    "#                           usecols=[0, 2, 4],\n",
    "#                           dtype={0: 'string', 2: 'string', 4: 'string'})\n",
    "\n",
    "#     # see if ALT allele(s) column contains commas\n",
    "#     multiallelics = pvar_dd.loc[pvar_dd[4].str.contains(',')]\n",
    "#     # save to variant IDs for the multiallelics\n",
    "#     multiallelics[2].compute().to_csv(outfile, header=False, index=False)\n",
    "\n",
    "# job_threads = []\n",
    "# for chrom in chromosomes:\n",
    "#     this_thread = threading.Thread(target=find_pvar_multiallelics, \n",
    "#                                    args=(f'{genos_dir}/{cohort_build}.chr{chrom}.pvar',\n",
    "#                                          f'{qc_dir}/{cohort_build}.chr{chrom}.multiallelics.list'))\n",
    "#     job_threads.append(this_thread)\n",
    "#     this_thread.start()\n",
    "\n",
    "# for job_thread in job_threads:\n",
    "#     job_thread.join()              "
   ]
  },
  {
   "cell_type": "code",
   "execution_count": 6,
   "metadata": {},
   "outputs": [],
   "source": [
    "# filter the pfiles qc checks\n",
    "\n",
    "# small function to format plink command for subsetting to \n",
    "# well behaved variants (wbv)\n",
    "def frmt_wbv_subset(chrom, in_dir, out_dir, name):\n",
    "    in_set = f'{in_dir}/{name}.chr{chrom}'\n",
    "    out_set = f'{out_dir}/{name}.chr{chrom}.geno05maf05hwe000001'\n",
    "#     multiallelics_file = f'{out_dir}/{name}.chr{chrom}.multiallelics.list'\n",
    "    hwe_filter = f'--hwe {MIN_HWE_P}'\n",
    "    # if chrom X or Y don't filter on hardy-weinber\n",
    "    if (chrom == 'X') or (chrom == 'Y'):\n",
    "        hwe_filter = '' \n",
    "#     this_cmd = f'plink2 --pfile {in_set} --geno {MAX_MISSING} --maf {MIN_FREQ} \\\n",
    "# {hwe_filter} --silent --exclude {multiallelics_file} --make-bed --out {out_set}'\n",
    "    this_cmd = f'plink2 --pfile {in_set} --geno {MAX_MISSING} --maf {MIN_FREQ} \\\n",
    "{hwe_filter} --silent --make-bed --out {out_set}'\n",
    "    return this_cmd\n",
    "\n",
    "cmd_list = [frmt_wbv_subset(chrom, genos_dir, qc_dir, cohort_build)\n",
    "            for chrom in chromosomes]"
   ]
  },
  {
   "cell_type": "code",
   "execution_count": 7,
   "metadata": {},
   "outputs": [
    {
     "name": "stdout",
     "output_type": "stream",
     "text": [
      "CPU times: user 3.14 s, sys: 1.28 s, total: 4.42 s\n",
      "Wall time: 4.46 s\n"
     ]
    }
   ],
   "source": [
    "%%time\n",
    "# execute the command list, threaded\n",
    "# print(cmd_list)\n",
    "run_bash_cmds_threaded(cmd_list)"
   ]
  },
  {
   "cell_type": "code",
   "execution_count": 8,
   "metadata": {},
   "outputs": [
    {
     "name": "stdout",
     "output_type": "stream",
     "text": [
      "23\n"
     ]
    }
   ],
   "source": [
    "# check the files generated\n",
    "!ls {qc_dir}/{cohort_build}.chr*.geno05maf05hwe000001.bed | wc -l"
   ]
  },
  {
   "cell_type": "markdown",
   "metadata": {},
   "source": [
    "#### merge per chromosome QC variants into single fileset"
   ]
  },
  {
   "cell_type": "code",
   "execution_count": 9,
   "metadata": {},
   "outputs": [
    {
     "name": "stdout",
     "output_type": "stream",
     "text": [
      "Error: 11 variants with 3+ alleles present.\n",
      "* If you believe this is due to strand inconsistency, try --flip with\n",
      "  /labshare/raph/datasets/amppd/qc/biofind.freeze9.geno05maf05hwe000001-merge.missnp.\n",
      "  (Warning: if this seems to work, strand errors involving SNPs with A/T or C/G\n",
      "  alleles probably remain in your data.  If LD between nearby SNPs is high,\n",
      "  --flip-scan should detect them.)\n",
      "* If you are dealing with genuine multiallelic variants, we recommend exporting\n",
      "  that subset of the data to VCF (via e.g. '--recode vcf'), merging with\n",
      "  another tool/script, and then importing the result; PLINK is not yet suited\n",
      "  to handling them.\n",
      "Warning: 410409 het. haploid genotypes present (see\n",
      "/labshare/raph/datasets/amppd/qc/biofind.freeze9.chrX.geno05maf05hwe000001.temp.hh\n",
      "); many commands treat these as missing.\n",
      "Warning: Variants 'rs7554766' and 'rs139584474' have the same position.\n",
      "Warning: Variants 'rs79602225' and 'rs36027939' have the same position.\n",
      "Warning: Variants 'rs60788477' and 'rs377741195' have the same position.\n",
      "730 more same-position warnings: see log file.\n",
      "Warning: 410409 het. haploid genotypes present (see\n",
      "/labshare/raph/datasets/amppd/qc/biofind.freeze9.geno05maf05hwe000001.hh );\n",
      "many commands treat these as missing.\n",
      "CPU times: user 953 ms, sys: 478 ms, total: 1.43 s\n",
      "Wall time: 56.9 s\n"
     ]
    }
   ],
   "source": [
    "%%time\n",
    "# merge the files into a single plink binary set\n",
    "merge_file_set = f'{qc_dir}/merge-list.txt'\n",
    "\n",
    "with open(merge_file_set, 'w') as file_handler:\n",
    "    for chrom in chromosomes:\n",
    "        chrom_file_set = f'{qc_dir}/{cohort_build}.chr{chrom}.geno05maf05hwe000001'\n",
    "        file_handler.write(f'{chrom_file_set}\\n')\n",
    "\n",
    "# merge the per chrom bfiles into a genome bfile\n",
    "!plink --merge-list {merge_file_set} --make-bed --allow-no-sex \\\n",
    "--silent --out {qc_bfile_set}\n",
    "\n",
    "# if there was a missnp problem remove those variant and re-attemp merge\n",
    "if os.path.exists(f'{qc_bfile_set}-merge.missnp'):\n",
    "    for chrom in chromosomes:\n",
    "        !plink --bfile {qc_dir}/{cohort_build}.chr{chrom}.geno05maf05hwe000001 \\\n",
    "--silent --exclude {qc_bfile_set}-merge.missnp \\\n",
    "--make-bed --out {qc_dir}/{cohort_build}.chr{chrom}.geno05maf05hwe000001.temp\n",
    "\n",
    "    with open(merge_file_set, 'w') as file_handler:\n",
    "        for chrom in chromosomes:\n",
    "            chrom_file_set = f'{qc_dir}/{cohort_build}.chr{chrom}.geno05maf05hwe000001.temp'\n",
    "            file_handler.write(f'{chrom_file_set}\\n')\n",
    "        \n",
    "    !plink --merge-list {merge_file_set} --make-bed --allow-no-sex \\\n",
    "--silent --out {qc_bfile_set}"
   ]
  },
  {
   "cell_type": "code",
   "execution_count": 10,
   "metadata": {},
   "outputs": [
    {
     "name": "stdout",
     "output_type": "stream",
     "text": [
      "-rw-rw-r--. 1 gibbsr gibbsr 253M Sep  3 18:01 /labshare/raph/datasets/amppd/qc/biofind.freeze9.geno05maf05hwe000001.bed\n",
      "-rw-rw-r--. 1 gibbsr gibbsr 167M Sep  3 18:01 /labshare/raph/datasets/amppd/qc/biofind.freeze9.geno05maf05hwe000001.bim\n",
      "-rw-rw-r--. 1 gibbsr gibbsr 4.2K Sep  3 18:01 /labshare/raph/datasets/amppd/qc/biofind.freeze9.geno05maf05hwe000001.fam\n",
      "-rw-rw-r--. 1 gibbsr gibbsr  11M Sep  3 18:01 /labshare/raph/datasets/amppd/qc/biofind.freeze9.geno05maf05hwe000001.hh\n",
      "-rw-rw-r--. 1 gibbsr gibbsr  54K Sep  3 18:01 /labshare/raph/datasets/amppd/qc/biofind.freeze9.geno05maf05hwe000001.log\n"
     ]
    }
   ],
   "source": [
    "# check the files generated\n",
    "!ls -lh {qc_bfile_set}.*"
   ]
  },
  {
   "cell_type": "code",
   "execution_count": 11,
   "metadata": {},
   "outputs": [
    {
     "name": "stdout",
     "output_type": "stream",
     "text": [
      "PLINK v1.90b5.4 64-bit (10 Apr 2018)\n",
      "Options in effect:\n",
      "  --allow-no-sex\n",
      "  --make-bed\n",
      "  --merge-list /labshare/raph/datasets/amppd/qc/merge-list.txt\n",
      "  --out /labshare/raph/datasets/amppd/qc/biofind.freeze9.geno05maf05hwe000001\n",
      "  --silent\n",
      "\n",
      "Hostname: lngnode6\n",
      "Working directory: /labshare/raph/notebooks/expression/amppd\n",
      "+\n",
      "/labshare/raph/datasets/amppd/qc/biofind.freeze9.geno05maf05hwe000001-merge.fam\n",
      ".\n",
      "6167353 variants loaded from .bim file.\n",
      "172 people (101 males, 71 females) loaded from .fam.\n",
      "Using 1 thread (no multithreaded calculations invoked).\n",
      "Before main variant filters, 172 founders and 0 nonfounders present.\n",
      "Calculating allele frequencies... done.\n",
      "Warning: 410409 het. haploid genotypes present (see\n",
      "/labshare/raph/datasets/amppd/qc/biofind.freeze9.geno05maf05hwe000001.hh );\n",
      "many commands treat these as missing.\n",
      "6167353 variants and 172 people pass filters and QC.\n",
      "Note: No phenotypes present.\n",
      "--make-bed to\n",
      "/labshare/raph/datasets/amppd/qc/biofind.freeze9.geno05maf05hwe000001.bed +\n",
      "/labshare/raph/datasets/amppd/qc/biofind.freeze9.geno05maf05hwe000001.bim +\n",
      "/labshare/raph/datasets/amppd/qc/biofind.freeze9.geno05maf05hwe000001.fam ...\n",
      "done.\n",
      "\n",
      "End time: Thu Sep  3 18:01:44 2020\n"
     ]
    }
   ],
   "source": [
    "# check the files generated\n",
    "!head -n 10 {qc_bfile_set}.log\n",
    "!tail -n 20 {qc_bfile_set}.log"
   ]
  },
  {
   "cell_type": "markdown",
   "metadata": {},
   "source": [
    "#### run sexcheck"
   ]
  },
  {
   "cell_type": "code",
   "execution_count": 12,
   "metadata": {},
   "outputs": [
    {
     "name": "stdout",
     "output_type": "stream",
     "text": [
      "Warning: 20466 het. haploid genotypes present (see\n",
      "/labshare/raph/datasets/amppd/qc/biofind.freeze9.sex.hh ); many commands treat\n",
      "these as missing.\n"
     ]
    }
   ],
   "source": [
    "# check sexcheck\n",
    "# hg38 non-PAR\n",
    "bim_df = pd.read_csv(f'{qc_dir}/{cohort_build}.chrX.geno05maf05hwe000001.bim',\n",
    "                     header=None, sep='\\s+')\n",
    "\n",
    "nonpar_bim_df = bim_df.loc[(bim_df[3] > hg38_chrX_PAREND) &\n",
    "                          (bim_df[3] < hg38_chrX_PARSTART)]\n",
    "\n",
    "# save just the variant names to a list file\n",
    "nonpar_bim_df[1].to_csv(f'{qc_dir}/{cohort_build}.chrX.list',\n",
    "                        header=False, index=False, sep='\\t')\n",
    "\n",
    "# now run sex-check\n",
    "!plink --bfile {qc_bfile_set} \\\n",
    "--extract {qc_dir}/{cohort_build}.chrX.list \\\n",
    "--check-sex 0.25 0.75 --silent --out {qc_dir}/{cohort_build}.sex"
   ]
  },
  {
   "cell_type": "markdown",
   "metadata": {},
   "source": [
    "#### check missingness and het rates"
   ]
  },
  {
   "cell_type": "code",
   "execution_count": 13,
   "metadata": {},
   "outputs": [],
   "source": [
    "# check missingness\n",
    "!plink2 --bfile {qc_bfile_set} --missing \\\n",
    "--autosome --silent --out {qc_dir}/{cohort_build}.missing\n",
    "\n",
    "!plink --bfile {qc_bfile_set} --het --autosome \\\n",
    "--silent --out {qc_dir}/{cohort_build}.het"
   ]
  },
  {
   "cell_type": "markdown",
   "metadata": {},
   "source": [
    "#### check for relatedness, including duplicates"
   ]
  },
  {
   "cell_type": "code",
   "execution_count": 14,
   "metadata": {},
   "outputs": [
    {
     "name": "stdout",
     "output_type": "stream",
     "text": [
      "king --related -b /labshare/raph/datasets/amppd/qc/biofind.freeze9.geno05maf05hwe000001.bed --cpus $(nproc) --degree 2 --prefix /labshare/raph/datasets/amppd/qc/biofind.freeze9.king.related > /labshare/raph/datasets/amppd/qc/biofind.freeze9.king.related.log\n",
      "CPU times: user 374 ms, sys: 113 ms, total: 487 ms\n",
      "Wall time: 20.5 s\n"
     ]
    }
   ],
   "source": [
    "%%time\n",
    "king_related_cmd = f'king --related -b {qc_bfile_set}.bed \\\n",
    "--cpus $(nproc) --degree 2 --prefix {qc_dir}/{cohort_build}.king.related \\\n",
    "> {qc_dir}/{cohort_build}.king.related.log'\n",
    "\n",
    "print(king_related_cmd)\n",
    "!{king_related_cmd}\n",
    "\n",
    "# if larger cohort then switch to running nohup in background\n",
    "# print('#run these commands at terminal:\\n')\n",
    "# print(f'nohup {king_related_cmd} &')"
   ]
  },
  {
   "cell_type": "code",
   "execution_count": 15,
   "metadata": {},
   "outputs": [
    {
     "name": "stdout",
     "output_type": "stream",
     "text": [
      "\t--cpus 24\n",
      "\t--prefix /labshare/raph/datasets/amppd/qc/biofind.freeze9.king.related\n",
      "\n",
      "Sorting autosomes...\n",
      "Total length of 40 chromosomal segments usable for IBD segment analysis is 2662.0 MB.\n",
      "  In addition to autosomes, 2 segments of length 151.9 MB on X-chr can be further used.\n",
      "  Information of these chromosomal segments can be found in file /labshare/raph/datasets/amppd/qc/biofind.freeze9.king.relatedallsegs.txt\n",
      "\n",
      "Each family consists of one individual.\n",
      "A subset of informative SNPs will be used to screen close relatives.\n",
      "Relationship inference across families starts at Thu Sep  3 18:02:12 2020\n",
      "24 CPU cores are used...\n",
      "                                         ends at Thu Sep  3 18:02:12 2020\n",
      "No close relatives are inferred.\n",
      "\n",
      "KING ends at Thu Sep  3 18:02:12 2020\n"
     ]
    }
   ],
   "source": [
    "!tail -n 16 {qc_dir}/{cohort_build}.king.related.log"
   ]
  },
  {
   "cell_type": "markdown",
   "metadata": {},
   "source": [
    "#### for the duplicates see which ones also failed sexcheck, ie clues how to correctly resolve duplicates"
   ]
  },
  {
   "cell_type": "code",
   "execution_count": 16,
   "metadata": {},
   "outputs": [
    {
     "name": "stdout",
     "output_type": "stream",
     "text": [
      "no related samples were detected in the cohort\n"
     ]
    }
   ],
   "source": [
    "# get the sex problems\n",
    "sexcheck_file = f'{qc_dir}/{cohort_build}.sex.sexcheck'\n",
    "sexcheck = pd.read_csv(sexcheck_file,sep='\\s+')\n",
    "sexmismatch = sexcheck.loc[~(sexcheck['PEDSEX'] == 0) &\n",
    "                           (sexcheck['STATUS'] == 'PROBLEM')]\n",
    "\n",
    "# get the duplicates\n",
    "relateds_file = f'{qc_dir}/{cohort_build}.king.related.kin0'\n",
    "if os.path.isfile(relateds_file):\n",
    "    rels_df = pd.read_csv(relateds_file,sep='\\s+')\n",
    "    print('number of related pairs')\n",
    "    print(rels_df.shape)\n",
    "\n",
    "    print(rels_df['InfType'].value_counts())\n",
    "\n",
    "    # subset just the dups\n",
    "    dups_df = rels_df.loc[rels_df['InfType'] == 'Dup/MZ']\n",
    "\n",
    "    print('\\njust the Dup/MZ')\n",
    "    print(dups_df.shape)\n",
    "    print(dups_df['InfType'].value_counts())\n",
    "\n",
    "    print('\\nnumber of samples in that failed sexcheck and also a duplicate')\n",
    "    print(len(set(sexmismatch['IID']) &\n",
    "              (set(rels_df['ID1']) |\n",
    "               set(rels_df['ID2']))))\n",
    "else:\n",
    "    print('no related samples were detected in the cohort')"
   ]
  },
  {
   "cell_type": "markdown",
   "metadata": {},
   "source": [
    "#### check the sample ancestries making use of 1KG data"
   ]
  },
  {
   "cell_type": "code",
   "execution_count": 17,
   "metadata": {},
   "outputs": [
    {
     "name": "stdout",
     "output_type": "stream",
     "text": [
      "-rw-rw-r--. 1 gibbsr gibbsr  60K Sep  1 01:34 /labshare/raph/datasets/amppd/qc/onekg.good.geno05maf05hwe000001.temp.fam\n",
      "-rw-rw-r--. 1 gibbsr gibbsr 145M Sep  1 01:34 /labshare/raph/datasets/amppd/qc/onekg.good.geno05maf05hwe000001.temp.bim\n",
      "-rw-rw-r--. 1 gibbsr gibbsr 3.1G Sep  1 01:34 /labshare/raph/datasets/amppd/qc/onekg.good.geno05maf05hwe000001.temp.bed\n",
      "-rw-rw-r--. 1 gibbsr gibbsr 1.5K Sep  1 01:34 /labshare/raph/datasets/amppd/qc/onekg.good.geno05maf05hwe000001.temp.log\n",
      "-rw-rw-r--. 1 gibbsr gibbsr  54K Sep  1 01:39 /labshare/raph/datasets/amppd/qc/onekg.panel\n",
      "-rw-rw-r--. 1 gibbsr gibbsr  60K Sep  3 18:02 /labshare/raph/datasets/amppd/qc/onekg.good.geno05maf05hwe000001.fam\n",
      "-rw-rw-r--. 1 gibbsr gibbsr 1.3K Sep  3 18:02 /labshare/raph/datasets/amppd/qc/onekg.good.geno05maf05hwe000001.log\n",
      "-rw-rw-r--. 1 gibbsr gibbsr 145M Sep  3 18:02 /labshare/raph/datasets/amppd/qc/onekg.good.geno05maf05hwe000001.bim\n",
      "-rw-rw-r--. 1 gibbsr gibbsr 3.1G Sep  3 18:03 /labshare/raph/datasets/amppd/qc/onekg.good.geno05maf05hwe000001.bed\n"
     ]
    }
   ],
   "source": [
    "# pull down the 1KG genotypes to look at pop-structure\n",
    "!gsutil -mq cp gs://nihnialng-pd-wgs/tools/onekg.good.geno05maf05hwe000001.* \\\n",
    "{qc_dir}/\n",
    "!ls -lhtr {qc_dir}/onekg.*"
   ]
  },
  {
   "cell_type": "code",
   "execution_count": 18,
   "metadata": {},
   "outputs": [
    {
     "name": "stdout",
     "output_type": "stream",
     "text": [
      "Error: 1196 variants with 3+ alleles present.\n",
      "* If you believe this is due to strand inconsistency, try --flip with\n",
      "  /labshare/raph/datasets/amppd/qc/biofind.freeze9.onekg-merge.missnp.\n",
      "  (Warning: if this seems to work, strand errors involving SNPs with A/T or C/G\n",
      "  alleles probably remain in your data.  If LD between nearby SNPs is high,\n",
      "  --flip-scan should detect them.)\n",
      "* If you are dealing with genuine multiallelic variants, we recommend exporting\n",
      "  that subset of the data to VCF (via e.g. '--recode vcf'), merging with\n",
      "  another tool/script, and then importing the result; PLINK is not yet suited\n",
      "  to handling them.\n",
      "Warning: Variants 'rs12066103;rs550873096' and 'rs12066103' have the same\n",
      "position.\n",
      "Warning: Variants 'rs80183958' and 'rs533071465' have the same position.\n",
      "Warning: Variants 'rs76908344' and 'rs201662806' have the same position.\n",
      "11615 more same-position warnings: see log file.\n",
      "Warning: 410351 het. haploid genotypes present (see\n",
      "/labshare/raph/datasets/amppd/qc/biofind.freeze9.onekg.hh ); many commands\n",
      "treat these as missing.\n",
      "Warning: --hwe observation counts vary by more than 10%, due to the X\n",
      "chromosome.  You may want to use a less stringent --hwe p-value threshold for X\n",
      "chromosome variants.\n",
      "-rw-rw-r--. 1 gibbsr gibbsr 2.4G Sep  3 18:06 /labshare/raph/datasets/amppd/qc/biofind.freeze9.onekg.bed\n",
      "-rw-rw-r--. 1 gibbsr gibbsr 106M Sep  3 18:06 /labshare/raph/datasets/amppd/qc/biofind.freeze9.onekg.bim\n",
      "-rw-rw-r--. 1 gibbsr gibbsr  64K Sep  3 18:06 /labshare/raph/datasets/amppd/qc/biofind.freeze9.onekg.fam\n",
      "-rw-rw-r--. 1 gibbsr gibbsr  11M Sep  3 18:05 /labshare/raph/datasets/amppd/qc/biofind.freeze9.onekg.hh\n",
      "-rw-rw-r--. 1 gibbsr gibbsr 902K Sep  3 18:06 /labshare/raph/datasets/amppd/qc/biofind.freeze9.onekg.log\n",
      "-rw-rw-r--. 1 gibbsr gibbsr  14K Sep  3 18:03 /labshare/raph/datasets/amppd/qc/biofind.freeze9.onekg-merge.missnp\n",
      "CPU times: user 3.36 s, sys: 782 ms, total: 4.15 s\n",
      "Wall time: 2min 57s\n"
     ]
    }
   ],
   "source": [
    "%%time\n",
    "# merge cohort and 1KG data with plink\n",
    "!plink --bfile {qc_bfile_set} \\\n",
    "--bmerge {qc_dir}/onekg.good.geno05maf05hwe000001 \\\n",
    "--geno {MAX_MISSING} --maf {MIN_FREQ} --hwe {MIN_HWE_P} --silent --allow-no-sex \\\n",
    "--make-bed --out {qc_dir}/{cohort_build}.onekg\n",
    "\n",
    "if os.path.exists(f'{qc_dir}/{cohort_build}.onekg-merge.missnp'):\n",
    "    !plink2 -bfile {qc_bfile_set} --allow-no-sex \\\n",
    "--exclude {qc_dir}/{cohort_build}.onekg-merge.missnp --silent \\\n",
    "--make-bed --out {qc_bfile_set}.temp\n",
    "\n",
    "    !plink2 -bfile {qc_dir}/onekg.good.geno05maf05hwe000001 --allow-no-sex \\\n",
    "--exclude {qc_dir}/{cohort_build}.onekg-merge.missnp --silent \\\n",
    "--make-bed --out {qc_dir}/onekg.good.geno05maf05hwe000001.temp\n",
    "\n",
    "    !plink --bfile {qc_bfile_set}.temp \\\n",
    "--bmerge {qc_dir}/onekg.good.geno05maf05hwe000001.temp \\\n",
    "--geno {MAX_MISSING} --maf {MIN_FREQ} --hwe {MIN_HWE_P} --silent --allow-no-sex \\\n",
    "--make-bed --out {qc_dir}/{cohort_build}.onekg\n",
    "    \n",
    "# check the merged cohort and 1KG data with plink was created\n",
    "!ls -lh {qc_dir}/{cohort_build}.onekg*    "
   ]
  },
  {
   "cell_type": "markdown",
   "metadata": {},
   "source": [
    "#### pull down the 1KG population labels"
   ]
  },
  {
   "cell_type": "code",
   "execution_count": 19,
   "metadata": {},
   "outputs": [
    {
     "name": "stdout",
     "output_type": "stream",
     "text": [
      "sample\tpop\tsuper_pop\tgender\t\t\n",
      "HG00096\tGBR\tEUR\tmale\n",
      "HG00097\tGBR\tEUR\tfemale\n",
      "HG00099\tGBR\tEUR\tfemale\n",
      "HG00100\tGBR\tEUR\tfemale\n",
      "HG00101\tGBR\tEUR\tmale\n",
      "HG00102\tGBR\tEUR\tfemale\n",
      "HG00103\tGBR\tEUR\tmale\n",
      "HG00105\tGBR\tEUR\tmale\n",
      "HG00106\tGBR\tEUR\tfemale\n"
     ]
    }
   ],
   "source": [
    "# need to pull down the 1KG population labels\n",
    "!gsutil -mq cp gs://nihnialng-pd-wgs/tools/onekg.panel {qc_dir}/\n",
    "!head {qc_dir}/onekg.panel"
   ]
  },
  {
   "cell_type": "markdown",
   "metadata": {},
   "source": [
    "#### king is to slow for population background check once we get into the thousands of samples\n",
    "\n",
    "for now switch back to LD prunning, plink genome ibs/ibd and mds methods"
   ]
  },
  {
   "cell_type": "code",
   "execution_count": 20,
   "metadata": {},
   "outputs": [
    {
     "name": "stdout",
     "output_type": "stream",
     "text": [
      "Warning: \"--pca approx\" is only recommended for analysis of >5000 samples.\n",
      "CPU times: user 10.6 s, sys: 2.33 s, total: 12.9 s\n",
      "Wall time: 3min 4s\n"
     ]
    }
   ],
   "source": [
    "%%time\n",
    "# merge cohort and 1KG data with plink\n",
    "# find pruned variants\n",
    "!plink2 --bfile {qc_dir}/{cohort_build}.onekg --silent \\\n",
    "--indep-pairwise 50 5 0.3 --out {qc_dir}/{cohort_build}.onekg.ldprune \n",
    "\n",
    "# subset to pruned variants\n",
    "!plink2 --bfile {qc_dir}/{cohort_build}.onekg --silent \\\n",
    "--extract {qc_dir}/{cohort_build}.onekg.ldprune.prune.in \\\n",
    "--make-bed --out {qc_dir}/{cohort_build}.onekg.pruned\n",
    "\n",
    "# generate pca's (plink approx from fastpca)\n",
    "!plink2 --bfile {qc_dir}/{cohort_build}.onekg.pruned \\\n",
    "--silent --pca 20 approx \\\n",
    "--out {qc_dir}/{cohort_build}.onekg.pca"
   ]
  },
  {
   "cell_type": "code",
   "execution_count": 21,
   "metadata": {},
   "outputs": [
    {
     "data": {
      "image/png": "[encoded data removed]",
      "text/plain": [
       "<Figure size 1152x576 with 2 Axes>"
      ]
     },
     "metadata": {},
     "output_type": "display_data"
    }
   ],
   "source": [
    "# mdsfile = f'{qc_dir}/{cohort_build}.onekg.ibs_ibd.mds.mds'\n",
    "mdsfile = f'{qc_dir}/{cohort_build}.onekg.pca.eigenvec'\n",
    "popinfofile = f'{qc_dir}/onekg.panel'\n",
    "output_pca_plot = f'{qc_dir}/{cohort_build}.pop_structure.pca.png'\n",
    "outfile = f'{qc_dir}/{cohort_build}.pop.outliers.txt'\n",
    "\n",
    "cohort_label = cohort\n",
    "\n",
    "expected_ancestry = 'EUR'\n",
    "\n",
    "mdsdf = pd.read_csv(mdsfile,sep='\\s+')\n",
    "infodf = pd.read_csv(popinfofile,sep=\"\\t\")\n",
    "\n",
    "df = mdsdf.merge(infodf,how='left',left_on='IID',right_on='sample')\n",
    "\n",
    "df[['super_pop']] = df[['super_pop']].fillna(cohort_label)\n",
    "df[['pop']] = df[['pop']].fillna(cohort_label)\n",
    "\n",
    "ancestry_cohort = df.loc[df['super_pop'] == expected_ancestry]\n",
    "coi = df.loc[df['super_pop'] == cohort_label]\n",
    "\n",
    "mds1_mean = np.mean(ancestry_cohort['PC1'])\n",
    "mds1_std = np.std(ancestry_cohort['PC1'])\n",
    "mds2_mean = np.mean(ancestry_cohort['PC2'])\n",
    "mds2_std = np.std(ancestry_cohort['PC2'])\n",
    "\n",
    "maxSD = 6\n",
    "plusMax_1 = mds1_mean + maxSD * mds1_std\n",
    "negMax_1 = mds1_mean - maxSD * mds1_std\n",
    "plusMax_2 = mds2_mean + maxSD * mds2_std\n",
    "negMax_2 = mds2_mean - maxSD * mds2_std\n",
    "\n",
    "df['outlier'] = ((df['super_pop'] == cohort_label) & \\\n",
    "    ((df['PC1'] > plusMax_1) | (df['PC1'] < negMax_1) | \\\n",
    "     (df['PC2'] > plusMax_2) | (df['PC2'] < negMax_2)))\n",
    "\n",
    "outliers = df.loc[df['outlier'] == True] \n",
    "outliers.to_csv(outfile,sep=\"\\t\",index=False,header=False)\n",
    "\n",
    "df.loc[df['IID'].isin(outliers['IID']),['super_pop','pop']] = 'outlier'\n",
    "\n",
    "# df = df.sort_values('super_pop',ascending=False)\n",
    "df = df.sample(frac=1)\n",
    "\n",
    "cohort_euro_df = df[df['super_pop'].isin([expected_ancestry,cohort_label,'outlier'])]\n",
    "# cohort_euro_df = cohort_euro_df.sort_values('pop',ascending=False)\n",
    "# cohort_euro_df = cohort_euro_df.sample(frac=1)\n",
    "\n",
    "sns.set()\n",
    "plt.figure(figsize=(16,8))\n",
    "plt.subplot(1,2,1)\n",
    "sns.scatterplot(x='PC1',y='PC2',hue='super_pop',style='super_pop',data=df)\n",
    "plt.xlabel('PC 1')\n",
    "plt.ylabel('PC 2')\n",
    "plt.legend(bbox_to_anchor=(1.05, 1), loc=1, borderaxespad=0,prop={'size': 8})\n",
    "plt.subplot(1,2,2)\n",
    "sns.scatterplot(x='PC1',y='PC2',hue='pop',style='pop',data=cohort_euro_df)\n",
    "plt.xlabel('PC 1')\n",
    "plt.ylabel('PC 2')\n",
    "plt.legend(bbox_to_anchor=(1.05, 1), loc=2, borderaxespad=0,prop={'size': 8})\n",
    "#plt.legend(loc='upper right', prop={'size': 6})\n",
    "plt.savefig(output_pca_plot,format='png',dpi=600,bbox_inches='tight')\n",
    "plt.show()"
   ]
  },
  {
   "cell_type": "code",
   "execution_count": 22,
   "metadata": {},
   "outputs": [
    {
     "data": {
      "text/plain": [
       "biofind    162\n",
       "IBS        107\n",
       "TSI        104\n",
       "CEU         99\n",
       "FIN         98\n",
       "GBR         91\n",
       "outlier     10\n",
       "Name: pop, dtype: int64"
      ]
     },
     "execution_count": 22,
     "metadata": {},
     "output_type": "execute_result"
    }
   ],
   "source": [
    "cohort_euro_df['pop'].value_counts()"
   ]
  },
  {
   "cell_type": "code",
   "execution_count": 23,
   "metadata": {},
   "outputs": [
    {
     "data": {
      "text/html": [
       "<div>\n",
       "<style scoped>\n",
       "    .dataframe tbody tr th:only-of-type {\n",
       "        vertical-align: middle;\n",
       "    }\n",
       "\n",
       "    .dataframe tbody tr th {\n",
       "        vertical-align: top;\n",
       "    }\n",
       "\n",
       "    .dataframe thead th {\n",
       "        text-align: right;\n",
       "    }\n",
       "</style>\n",
       "<table border=\"1\" class=\"dataframe\">\n",
       "  <thead>\n",
       "    <tr style=\"text-align: right;\">\n",
       "      <th></th>\n",
       "      <th>PC1</th>\n",
       "      <th>PC2</th>\n",
       "      <th>PC3</th>\n",
       "      <th>PC4</th>\n",
       "      <th>PC5</th>\n",
       "      <th>PC6</th>\n",
       "      <th>PC7</th>\n",
       "      <th>PC8</th>\n",
       "      <th>PC9</th>\n",
       "      <th>PC10</th>\n",
       "      <th>PC11</th>\n",
       "      <th>PC12</th>\n",
       "      <th>PC13</th>\n",
       "      <th>PC14</th>\n",
       "      <th>PC15</th>\n",
       "      <th>PC16</th>\n",
       "      <th>PC17</th>\n",
       "      <th>PC18</th>\n",
       "      <th>PC19</th>\n",
       "      <th>PC20</th>\n",
       "    </tr>\n",
       "    <tr>\n",
       "      <th>IID</th>\n",
       "      <th></th>\n",
       "      <th></th>\n",
       "      <th></th>\n",
       "      <th></th>\n",
       "      <th></th>\n",
       "      <th></th>\n",
       "      <th></th>\n",
       "      <th></th>\n",
       "      <th></th>\n",
       "      <th></th>\n",
       "      <th></th>\n",
       "      <th></th>\n",
       "      <th></th>\n",
       "      <th></th>\n",
       "      <th></th>\n",
       "      <th></th>\n",
       "      <th></th>\n",
       "      <th></th>\n",
       "      <th></th>\n",
       "      <th></th>\n",
       "    </tr>\n",
       "  </thead>\n",
       "  <tbody>\n",
       "    <tr>\n",
       "      <th>BF-1001</th>\n",
       "      <td>0.009985</td>\n",
       "      <td>-0.024588</td>\n",
       "      <td>-0.012632</td>\n",
       "      <td>0.011994</td>\n",
       "      <td>-0.013389</td>\n",
       "      <td>-0.004932</td>\n",
       "      <td>-0.000947</td>\n",
       "      <td>0.006643</td>\n",
       "      <td>-0.029044</td>\n",
       "      <td>-0.050732</td>\n",
       "      <td>0.012272</td>\n",
       "      <td>0.007767</td>\n",
       "      <td>0.001004</td>\n",
       "      <td>0.002120</td>\n",
       "      <td>-0.005244</td>\n",
       "      <td>0.014663</td>\n",
       "      <td>0.015994</td>\n",
       "      <td>-0.012102</td>\n",
       "      <td>-0.026543</td>\n",
       "      <td>0.004472</td>\n",
       "    </tr>\n",
       "    <tr>\n",
       "      <th>BF-1002</th>\n",
       "      <td>0.009236</td>\n",
       "      <td>-0.024574</td>\n",
       "      <td>-0.014158</td>\n",
       "      <td>0.011199</td>\n",
       "      <td>-0.010517</td>\n",
       "      <td>-0.008652</td>\n",
       "      <td>0.001740</td>\n",
       "      <td>0.008992</td>\n",
       "      <td>-0.009863</td>\n",
       "      <td>-0.040041</td>\n",
       "      <td>0.013062</td>\n",
       "      <td>-0.000130</td>\n",
       "      <td>0.015442</td>\n",
       "      <td>-0.000689</td>\n",
       "      <td>0.004576</td>\n",
       "      <td>0.014042</td>\n",
       "      <td>0.006343</td>\n",
       "      <td>-0.006119</td>\n",
       "      <td>-0.011481</td>\n",
       "      <td>-0.012242</td>\n",
       "    </tr>\n",
       "    <tr>\n",
       "      <th>BF-1003</th>\n",
       "      <td>0.009601</td>\n",
       "      <td>-0.023899</td>\n",
       "      <td>-0.013101</td>\n",
       "      <td>0.011461</td>\n",
       "      <td>-0.004734</td>\n",
       "      <td>-0.002186</td>\n",
       "      <td>0.003640</td>\n",
       "      <td>0.005516</td>\n",
       "      <td>-0.016371</td>\n",
       "      <td>-0.029509</td>\n",
       "      <td>0.003429</td>\n",
       "      <td>0.004046</td>\n",
       "      <td>0.004869</td>\n",
       "      <td>0.007513</td>\n",
       "      <td>0.008273</td>\n",
       "      <td>0.012227</td>\n",
       "      <td>0.010790</td>\n",
       "      <td>-0.017160</td>\n",
       "      <td>-0.013966</td>\n",
       "      <td>-0.002177</td>\n",
       "    </tr>\n",
       "    <tr>\n",
       "      <th>BF-1004</th>\n",
       "      <td>0.009215</td>\n",
       "      <td>-0.024428</td>\n",
       "      <td>-0.013203</td>\n",
       "      <td>0.010749</td>\n",
       "      <td>-0.008968</td>\n",
       "      <td>-0.002555</td>\n",
       "      <td>-0.000476</td>\n",
       "      <td>-0.000436</td>\n",
       "      <td>-0.006421</td>\n",
       "      <td>-0.038161</td>\n",
       "      <td>0.003594</td>\n",
       "      <td>0.003996</td>\n",
       "      <td>0.011756</td>\n",
       "      <td>0.000591</td>\n",
       "      <td>0.013832</td>\n",
       "      <td>0.006238</td>\n",
       "      <td>0.002349</td>\n",
       "      <td>0.008874</td>\n",
       "      <td>0.003306</td>\n",
       "      <td>-0.018286</td>\n",
       "    </tr>\n",
       "    <tr>\n",
       "      <th>BF-1005</th>\n",
       "      <td>0.009758</td>\n",
       "      <td>-0.023796</td>\n",
       "      <td>-0.012151</td>\n",
       "      <td>0.008730</td>\n",
       "      <td>-0.023303</td>\n",
       "      <td>-0.004061</td>\n",
       "      <td>-0.003141</td>\n",
       "      <td>-0.004608</td>\n",
       "      <td>0.004967</td>\n",
       "      <td>0.000185</td>\n",
       "      <td>-0.000896</td>\n",
       "      <td>0.003061</td>\n",
       "      <td>-0.005709</td>\n",
       "      <td>0.003485</td>\n",
       "      <td>-0.000709</td>\n",
       "      <td>0.016471</td>\n",
       "      <td>0.008716</td>\n",
       "      <td>0.005060</td>\n",
       "      <td>-0.003490</td>\n",
       "      <td>-0.003520</td>\n",
       "    </tr>\n",
       "  </tbody>\n",
       "</table>\n",
       "</div>"
      ],
      "text/plain": [
       "              PC1       PC2       PC3       PC4       PC5       PC6       PC7  \\\n",
       "IID                                                                             \n",
       "BF-1001  0.009985 -0.024588 -0.012632  0.011994 -0.013389 -0.004932 -0.000947   \n",
       "BF-1002  0.009236 -0.024574 -0.014158  0.011199 -0.010517 -0.008652  0.001740   \n",
       "BF-1003  0.009601 -0.023899 -0.013101  0.011461 -0.004734 -0.002186  0.003640   \n",
       "BF-1004  0.009215 -0.024428 -0.013203  0.010749 -0.008968 -0.002555 -0.000476   \n",
       "BF-1005  0.009758 -0.023796 -0.012151  0.008730 -0.023303 -0.004061 -0.003141   \n",
       "\n",
       "              PC8       PC9      PC10      PC11      PC12      PC13      PC14  \\\n",
       "IID                                                                             \n",
       "BF-1001  0.006643 -0.029044 -0.050732  0.012272  0.007767  0.001004  0.002120   \n",
       "BF-1002  0.008992 -0.009863 -0.040041  0.013062 -0.000130  0.015442 -0.000689   \n",
       "BF-1003  0.005516 -0.016371 -0.029509  0.003429  0.004046  0.004869  0.007513   \n",
       "BF-1004 -0.000436 -0.006421 -0.038161  0.003594  0.003996  0.011756  0.000591   \n",
       "BF-1005 -0.004608  0.004967  0.000185 -0.000896  0.003061 -0.005709  0.003485   \n",
       "\n",
       "             PC15      PC16      PC17      PC18      PC19      PC20  \n",
       "IID                                                                  \n",
       "BF-1001 -0.005244  0.014663  0.015994 -0.012102 -0.026543  0.004472  \n",
       "BF-1002  0.004576  0.014042  0.006343 -0.006119 -0.011481 -0.012242  \n",
       "BF-1003  0.008273  0.012227  0.010790 -0.017160 -0.013966 -0.002177  \n",
       "BF-1004  0.013832  0.006238  0.002349  0.008874  0.003306 -0.018286  \n",
       "BF-1005 -0.000709  0.016471  0.008716  0.005060 -0.003490 -0.003520  "
      ]
     },
     "execution_count": 23,
     "metadata": {},
     "output_type": "execute_result"
    }
   ],
   "source": [
    "mdsdf.set_index(mdsdf['IID'], inplace=True)\n",
    "mdsdf.drop(columns=['#FID','IID'], inplace=True)\n",
    "mdsdf.head()"
   ]
  },
  {
   "cell_type": "code",
   "execution_count": 24,
   "metadata": {},
   "outputs": [],
   "source": [
    "'''\n",
    "small function to generate umap from pandas dataframe, for all features (columns) \\\n",
    "and return back as dataframe with source index intact\n",
    "'''\n",
    "def generate_umapdf_from_df(this_df, rnd_digits=3):\n",
    "    # run UMAP on the data frame features\n",
    "    umap_results = UMAP(random_state=42).fit_transform(this_df)\n",
    "    umap_df = pd.DataFrame(umap_results, columns=['x_umap', 'y_umap'],\n",
    "                           index=this_df.index).round(rnd_digits)\n",
    "\n",
    "    umap_df = umap_df.merge(this_df,left_index=True, right_index=True)\n",
    "    print(f'The dimensions of the umap df and the traits are {umap_df.shape}')\n",
    "    return umap_df"
   ]
  },
  {
   "cell_type": "code",
   "execution_count": 25,
   "metadata": {},
   "outputs": [
    {
     "name": "stdout",
     "output_type": "stream",
     "text": [
      "The dimensions of the umap df and the traits are (2619, 22)\n",
      "CPU times: user 22.3 s, sys: 230 ms, total: 22.5 s\n",
      "Wall time: 17.9 s\n"
     ]
    }
   ],
   "source": [
    "%%time\n",
    "#run UMAP on the genetic PCs\n",
    "umap_df = generate_umapdf_from_df(mdsdf)"
   ]
  },
  {
   "cell_type": "code",
   "execution_count": 26,
   "metadata": {},
   "outputs": [
    {
     "name": "stdout",
     "output_type": "stream",
     "text": [
      "AFR        657\n",
      "EAS        499\n",
      "EUR        499\n",
      "SAS        481\n",
      "AMR        311\n",
      "biofind    162\n",
      "outlier     10\n",
      "Name: super_pop, dtype: int64\n",
      "biofind    162\n",
      "IBS        107\n",
      "TSI        104\n",
      "CEU         99\n",
      "FIN         98\n",
      "GBR         91\n",
      "outlier     10\n",
      "Name: pop, dtype: int64\n"
     ]
    }
   ],
   "source": [
    "umap_df = umap_df.merge(infodf,how='left',left_index=True,right_on='sample')\n",
    "\n",
    "umap_df[['super_pop']] = umap_df[['super_pop']].fillna(cohort_label)\n",
    "umap_df[['pop']] = umap_df[['pop']].fillna(cohort_label)\n",
    "\n",
    "umap_df.loc[umap_df['sample'].isin(outliers['IID']),\n",
    "            ['super_pop','pop']] = 'outlier'\n",
    "\n",
    "print(umap_df['super_pop'].value_counts())\n",
    "\n",
    "cohort_euro_df = umap_df[umap_df['super_pop'].isin([expected_ancestry,\n",
    "                                                    cohort_label, 'outlier'])]\n",
    "print(cohort_euro_df['pop'].value_counts())\n",
    "\n",
    "# cohort_euro_df = cohort_euro_df.sort_values('sample',ascending=False)\n",
    "cohort_euro_df = cohort_euro_df.sample(frac=1)"
   ]
  },
  {
   "cell_type": "code",
   "execution_count": 27,
   "metadata": {},
   "outputs": [
    {
     "data": {
      "image/png": "[encoded data removed]",
      "text/plain": [
       "<Figure size 1152x576 with 2 Axes>"
      ]
     },
     "metadata": {},
     "output_type": "display_data"
    }
   ],
   "source": [
    "output_plot = f'{qc_dir}/{cohort_build}.ancestry_structure.umap.png'\n",
    "\n",
    "sns.set()\n",
    "plt.figure(figsize=(16,8))\n",
    "plt.subplot(1,2,1)\n",
    "sns.scatterplot(x='x_umap',y='y_umap',hue='super_pop',style='super_pop',data=umap_df)\n",
    "plt.xlabel('x-UMAP')\n",
    "plt.ylabel('y-UMAP')\n",
    "plt.legend(bbox_to_anchor=(1.05, 1), loc=1, borderaxespad=0,prop={'size': 8})\n",
    "plt.subplot(1,2,2)\n",
    "sns.scatterplot(x='x_umap',y='y_umap',hue='pop',data=cohort_euro_df)\n",
    "plt.xlabel('x-UMAP')\n",
    "plt.ylabel('y-UMAP')\n",
    "plt.legend(bbox_to_anchor=(1.05, 1), loc=2, borderaxespad=0,prop={'size': 8})\n",
    "plt.savefig(output_plot,format='png',dpi=600,bbox_inches='tight')\n",
    "plt.show()"
   ]
  },
  {
   "cell_type": "markdown",
   "metadata": {
    "colab": {},
    "colab_type": "code",
    "id": "3rH2SKMGK-Mt"
   },
   "source": [
    "#### scan qc files for sample QC problems"
   ]
  },
  {
   "cell_type": "code",
   "execution_count": 34,
   "metadata": {},
   "outputs": [],
   "source": [
    "#sex check mismatches\n",
    "def check_sexcheck(path_prefix, verbose=False):\n",
    "    sexcheck_file = f'{path_prefix}.sex.sexcheck'\n",
    "    sexcheck_df = pd.read_csv(sexcheck_file, sep='\\s+')\n",
    "    #here failed sexcheck does not include unreported sex\n",
    "    sexcheck_problems_df = sexcheck_df.loc[(sexcheck_df['STATUS'] == 'PROBLEM') & \\\n",
    "                                           (sexcheck_df['PEDSEX'] != 0)]\n",
    "    print(f'sex mismatches {sexcheck_problems_df.shape}')\n",
    "    if(verbose):\n",
    "        print(sexcheck_problems_df)\n",
    "    return sexcheck_problems_df\n",
    "\n",
    "#check sample missingness \n",
    "def check_missingness(path_prefix, max_miss=0.05, verbose=False):\n",
    "    smiss_file = f'{path_prefix}.missing.smiss'\n",
    "    #might be plink1 file extenstion\n",
    "    if not os.path.exists(smiss_file):\n",
    "        smiss_file = f'{path_prefix}.missing.imiss'\n",
    "    smiss_df = pd.read_csv(smiss_file, sep='\\s+')\n",
    "    smiss_problems_df = smiss_df.loc[smiss_df['F_MISS'] > max_miss]\n",
    "    print(f'sample missingness problems {smiss_problems_df.shape}')\n",
    "    if(verbose):\n",
    "        print(smiss_problems_df)\n",
    "    return smiss_problems_df\n",
    "\n",
    "#het rate problems\n",
    "def check_hetrate(path_prefix, abs_max_rate=0.15, verbose=False):\n",
    "    hetcheck_file = f'{path_prefix}.het.het'\n",
    "    hetcheck_df = pd.read_csv(hetcheck_file, sep='\\s+')\n",
    "    hetcheck_problems_df = hetcheck_df.loc[(hetcheck_df['F'] > abs_max_rate) | \\\n",
    "                                           (hetcheck_df['F'] < -abs_max_rate)]\n",
    "    print(f'sample het rate problems {hetcheck_problems_df.shape}')\n",
    "    if(verbose):\n",
    "        print(hetcheck_problems_df)    \n",
    "    return hetcheck_problems_df\n",
    "\n",
    "#sample contamination problems\n",
    "def check_contamination(path_prefix, verbose=False):\n",
    "    contam_file = f'{path_prefix}.contaminated.samples.txt'\n",
    "    #might not exist if didn't process raw data\n",
    "    if os.path.exists(contam_file):\n",
    "        contam_df = pd.read_csv(contam_file, sep='\\s+')\n",
    "        print(f'sample contamination problems {contam_df.shape}')\n",
    "        if(verbose):\n",
    "            print(contam_df)         \n",
    "    else:\n",
    "        print('no comtamination file present')\n",
    "        contam_df = pd.DataFrame(data=None, columns=['id'])\n",
    "    return contam_df        \n",
    "\n",
    "#check ancestry outliers\n",
    "def check_ancestry(path_prefix):\n",
    "    pop_outliers_file = f'{path_prefix}.pop.outliers.txt'\n",
    "    pop_outliers = pd.read_csv(pop_outliers_file, sep='\\s+', header=None)\n",
    "    print(f'sample ancestry outliers {pop_outliers.shape}')\n",
    "    return pop_outliers\n",
    "\n",
    "#check sample duplicates (assume no twins)\n",
    "def check_duplicates(path_prefix, verbose=False):\n",
    "    relateds_file = f'{path_prefix}.king.related.kin0'\n",
    "    duplicates_df = None\n",
    "    if os.path.isfile(relateds_file):\n",
    "        relateds_df = pd.read_csv(relateds_file, sep='\\s+')\n",
    "        duplicates_df = relateds_df.loc[relateds_df['InfType'] == 'Dup/MZ']\n",
    "        print(f'sample duplicate pairs {duplicates_df.shape}')\n",
    "        if(verbose):\n",
    "            print(duplicates_df)\n",
    "    return duplicates_df\n",
    "\n",
    "\n",
    "def find_sample_excludes(path_prefix, exclude_pops=False):\n",
    "    sexcheck_problems_df = check_sexcheck(path_prefix)\n",
    "    smiss_problems_df = check_missingness(path_prefix)\n",
    "    hetcheck_problems_df = check_hetrate(path_prefix)\n",
    "#     contam_df = check_contamination(path_prefix)\n",
    "    pop_outliers = check_ancestry(path_prefix)\n",
    "    duplicates_df = check_duplicates(path_prefix)\n",
    "    \n",
    "#     if exclude_pops:\n",
    "#         ref_exclude_set = set(sexcheck_problems_df['IID']) | set(smiss_problems_df['IID']) \\\n",
    "# | set(hetcheck_problems_df['IID']) | set(contam_df['id']) | set(pop_outliers[0])\n",
    "#     else:\n",
    "#         ref_exclude_set = set(sexcheck_problems_df['IID']) | set(smiss_problems_df['IID']) \\\n",
    "# | set(hetcheck_problems_df['IID']) | set(contam_df['id'])\n",
    "\n",
    "    if exclude_pops:\n",
    "        ref_exclude_set = set(sexcheck_problems_df['IID']) | set(smiss_problems_df['IID']) \\\n",
    "| set(hetcheck_problems_df['IID']) | set(pop_outliers[0])\n",
    "    else:\n",
    "        ref_exclude_set = set(sexcheck_problems_df['IID']) | set(smiss_problems_df['IID']) \\\n",
    "| set(hetcheck_problems_df['IID'])\n",
    "\n",
    "    #note to split duplicate pairs, first break any that currently have QC problems\n",
    "    #then just grab first column\n",
    "    if not duplicates_df is None:\n",
    "        duplicates_df = duplicates_df.loc[~duplicates_df['ID1'].isin(list(ref_exclude_set)) & \\\n",
    "                                         ~duplicates_df['ID2'].isin(list(ref_exclude_set))]\n",
    "        print(f'refreshed duplicate pairs {duplicates_df.shape}')\n",
    "\n",
    "        #just grab the ID in 1st column to split the pair\n",
    "        ref_exclude_set = ref_exclude_set | set(duplicates_df['ID1'])\n",
    "\n",
    "    print(f'number of samples to exclude from panel {len(ref_exclude_set)}')\n",
    "    return ref_exclude_set"
   ]
  },
  {
   "cell_type": "code",
   "execution_count": 35,
   "metadata": {},
   "outputs": [
    {
     "name": "stdout",
     "output_type": "stream",
     "text": [
      "sex mismatches (0, 6)\n",
      "sample missingness problems (0, 5)\n",
      "sample het rate problems (1, 6)\n",
      "sample ancestry outliers (10, 25)\n",
      "number of samples to exclude from panel 10\n"
     ]
    }
   ],
   "source": [
    "#this of course assumes the files being check in the exclude function exist at \\\n",
    "#this QC path\n",
    "qc_prefix = f'{qc_dir}/{cohort_build}'\n",
    "cohort_excludes = find_sample_excludes(qc_prefix, True)\n",
    "\n",
    "pd.DataFrame(data=cohort_excludes).to_csv(f'{qc_prefix}.excludes.txt', \\\n",
    "                                          header=False, index=False)"
   ]
  },
  {
   "cell_type": "markdown",
   "metadata": {},
   "source": [
    "#### since there are smallish number of sample QC problems, splill to screen here"
   ]
  },
  {
   "cell_type": "code",
   "execution_count": 37,
   "metadata": {},
   "outputs": [
    {
     "name": "stdout",
     "output_type": "stream",
     "text": [
      "sex mismatches (0, 6)\n",
      "Empty DataFrame\n",
      "Columns: [FID, IID, PEDSEX, SNPSEX, STATUS, F]\n",
      "Index: []\n",
      "sample missingness problems (0, 5)\n",
      "Empty DataFrame\n",
      "Columns: [#FID, IID, MISSING_CT, OBS_CT, F_MISS]\n",
      "Index: []\n",
      "sample het rate problems (1, 6)\n",
      "        FID      IID   O(HOM)     E(HOM)    N(NM)       F\n",
      "36  BF-1057  BF-1057  4320836  4021000.0  5977844  0.1532\n"
     ]
    }
   ],
   "source": [
    "sexcheck_problems_df = check_sexcheck(qc_prefix, verbose=True)\n",
    "smiss_problems_df = check_missingness(qc_prefix, verbose=True)\n",
    "hetcheck_problems_df = check_hetrate(qc_prefix, verbose=True)\n",
    "duplicates_df = check_duplicates(qc_prefix, verbose=True)"
   ]
  },
  {
   "cell_type": "markdown",
   "metadata": {},
   "source": [
    "#### do a little intermediate file cleanup"
   ]
  },
  {
   "cell_type": "code",
   "execution_count": 38,
   "metadata": {},
   "outputs": [
    {
     "name": "stdout",
     "output_type": "stream",
     "text": [
      "rm: cannot remove ‘/labshare/raph/datasets/amppd/qc/biofind.freeze9.chr*.multiallelics.list’: No such file or directory\n"
     ]
    }
   ],
   "source": [
    "!rm {qc_dir}/{cohort_build}.chr*.multiallelics.list\n",
    "!rm {qc_dir}/{cohort_build}.chr*.geno05maf05hwe000001.*"
   ]
  },
  {
   "cell_type": "markdown",
   "metadata": {},
   "source": [
    "#### subset out the analysis ready, Euro centric, pfiles for eQTL analysis"
   ]
  },
  {
   "cell_type": "markdown",
   "metadata": {},
   "source": [
    "#### combine the sqc samples and also exclude related samples"
   ]
  },
  {
   "cell_type": "code",
   "execution_count": 41,
   "metadata": {},
   "outputs": [
    {
     "name": "stdout",
     "output_type": "stream",
     "text": [
      "(10, 1)\n",
      "10\n"
     ]
    }
   ],
   "source": [
    "# load the relateds file\n",
    "relateds_file = f'{qc_dir}/{cohort_build}.king.related.kin0'\n",
    "if os.path.isfile(relateds_file):\n",
    "    relateds_df = pd.read_csv(relateds_file, sep='\\s+')\n",
    "    # exclude non-duplicate relateds by spliting, dups already marked for exclud\n",
    "    nonduplicates_df = relateds_df.loc[relateds_df['InfType'] != 'Dup/MZ']\n",
    "\n",
    "# read the sqc samples\n",
    "excludes_df = pd.read_csv(sqc_excludes_file, header=None)\n",
    "print(excludes_df.shape)\n",
    "\n",
    "# get intersect union of sqc and too young\n",
    "if not nonduplicates_df is None:\n",
    "    exclude_ids = set(excludes_df[0]) | set(nonduplicates_df['ID2'])\n",
    "else:\n",
    "    exclude_ids = set(excludes_df[0])\n",
    "    \n",
    "print(len(exclude_ids))"
   ]
  },
  {
   "cell_type": "code",
   "execution_count": 42,
   "metadata": {},
   "outputs": [],
   "source": [
    "def frmt_plink2_subset(in_dir, out_dir, chrom, excludes_file, in_name, out_name):\n",
    "    if in_dir == out_dir:\n",
    "        print('in dir cannot be same of out dir, here')\n",
    "        plink_cmd = '#error'\n",
    "    else:    \n",
    "        in_pfiles = f'{in_dir}/{in_name}.chr{chrom}'\n",
    "        out_pfiles = f'{out_dir}/{out_name}.chr{chrom}'\n",
    "        filter_pass = ' --var-filter'\n",
    "        plink_cmd = f'plink2 --pfile {in_pfiles} --remove {excludes_file} \\\n",
    "--silent --make-pgen --out {out_pfiles}'\n",
    "    return plink_cmd\n",
    "\n",
    "os.makedirs(eqtl_geno_dir, exist_ok=True)\n",
    "\n",
    "excludes_df = pd.DataFrame(data=exclude_ids, columns=['#FID'])\n",
    "excludes_df['IID'] = excludes_df['#FID']\n",
    "excludes_df.to_csv(f'{qc_dir}/{cohort}.{amppd_version}.excludes.plink', \n",
    "                   index=False, sep='\\t')\n",
    "\n",
    "cmds = [frmt_plink2_subset(genos_dir, eqtl_geno_dir, chrom, \n",
    "                           f'{qc_dir}/{cohort}.{amppd_version}.excludes.plink',\n",
    "                           cohort_build, f'{cohort}.{amppd_version}') \n",
    "        for chrom in chromosomes] \n",
    "\n",
    "# print(cmds)\n",
    "# now run the cmds concurrently    \n",
    "run_bash_cmds_threaded(cmds)  "
   ]
  },
  {
   "cell_type": "markdown",
   "metadata": {},
   "source": [
    "#### generate the with cohort genetic PCs covariates"
   ]
  },
  {
   "cell_type": "code",
   "execution_count": 43,
   "metadata": {},
   "outputs": [],
   "source": [
    "# find pruned variants\n",
    "!plink2 --bfile {qc_bfile_set} --silent \\\n",
    "--indep-pairwise 50 5 0.3 --out {qc_dir}/{cohort_build}.ldprune \n",
    "\n",
    "# subset to pruned variants\n",
    "!plink2 --bfile {qc_bfile_set} --silent \\\n",
    "--extract {qc_dir}/{cohort_build}.ldprune.prune.in \\\n",
    "--make-bed --out {qc_dir}/{cohort_build}.pruned\n",
    "\n",
    "# generate pca's (plink approx from fastpca)\n",
    "!plink2 --bfile {qc_dir}/{cohort_build}.pruned \\\n",
    "--silent --pca 20 \\\n",
    "--out {eqtl_info_dir}/{cohort_build}.pca\n"
   ]
  },
  {
   "cell_type": "code",
   "execution_count": 44,
   "metadata": {},
   "outputs": [
    {
     "name": "stdout",
     "output_type": "stream",
     "text": [
      "#FID\tIID\tPC1\tPC2\tPC3\tPC4\tPC5\tPC6\tPC7\tPC8\tPC9\tPC10\tPC11\tPC12\tPC13\tPC14\tPC15\tPC16\tPC17\tPC18\tPC19\tPC20\n",
      "BF-1001\tBF-1001\t-0.0372813\t0.0481086\t-0.0132896\t0.0873042\t-0.0457669\t-0.0308434\t0.0790403\t0.146564\t0.195686\t0.0775902\t-0.0250785\t0.0125407\t0.0297041\t0.185943\t0.0307712\t0.00875842\t0.0589768\t0.0426533\t0.0529666\t0.021672\n",
      "BF-1002\tBF-1002\t-0.03361\t0.032859\t-0.015439\t0.0466822\t-0.0374458\t-0.0353323\t0.0197742\t0.102034\t-0.0305163\t-0.199851\t0.0346265\t-0.0620617\t0.0313748\t-0.0447334\t0.00895387\t0.0474881\t-0.0539803\t-0.0630772\t-0.150975\t0.0202519\n",
      "BF-1003\tBF-1003\t-0.0302227\t0.0277078\t-0.0102086\t0.0505654\t0.112788\t-0.0409775\t-0.00749484\t0.0703716\t0.074881\t-0.0258197\t-0.0563114\t-0.0945348\t-0.0852837\t0.0865376\t-0.0326091\t0.057085\t-0.0669448\t0.0419424\t0.0272087\t0.0842002\n",
      "BF-1004\tBF-1004\t-0.0291631\t0.0294669\t-0.0139507\t0.0533731\t-0.0692488\t0.0976026\t0.000330727\t0.00116472\t0.0387011\t-0.179128\t-0.0743264\t0.0550689\t-0.144096\t0.0567668\t0.0834661\t0.0656897\t0.0248136\t-0.057653\t-0.038696\t-0.0178288\n"
     ]
    }
   ],
   "source": [
    "!head -n 5 {eqtl_info_dir}/{cohort_build}.pca.eigenvec"
   ]
  },
  {
   "cell_type": "code",
   "execution_count": null,
   "metadata": {},
   "outputs": [],
   "source": []
  }
 ],
 "metadata": {
  "kernelspec": {
   "display_name": "Python 3",
   "language": "python",
   "name": "python3"
  },
  "language_info": {
   "codemirror_mode": {
    "name": "ipython",
    "version": 3
   },
   "file_extension": ".py",
   "mimetype": "text/x-python",
   "name": "python",
   "nbconvert_exporter": "python",
   "pygments_lexer": "ipython3",
   "version": "3.8.3"
  }
 },
 "nbformat": 4,
 "nbformat_minor": 4
}
