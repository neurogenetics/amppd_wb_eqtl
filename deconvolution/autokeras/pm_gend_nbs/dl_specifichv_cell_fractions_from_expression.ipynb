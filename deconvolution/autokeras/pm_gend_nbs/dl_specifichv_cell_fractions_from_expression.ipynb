{
 "cells": [
  {
   "cell_type": "markdown",
   "metadata": {
    "papermill": {
     "duration": 0.014552,
     "end_time": "2020-09-22T04:42:03.740944",
     "exception": false,
     "start_time": "2020-09-22T04:42:03.726392",
     "status": "completed"
    },
    "tags": []
   },
   "source": [
    "## use autokeras to learn cell fractions from gene expression"
   ]
  },
  {
   "cell_type": "markdown",
   "metadata": {
    "papermill": {
     "duration": 0.014264,
     "end_time": "2020-09-22T04:42:03.772929",
     "exception": false,
     "start_time": "2020-09-22T04:42:03.758665",
     "status": "completed"
    },
    "tags": []
   },
   "source": [
    "#### imports and notebook variables"
   ]
  },
  {
   "cell_type": "code",
   "execution_count": 1,
   "metadata": {
    "execution": {
     "iopub.execute_input": "2020-09-22T04:42:03.807157Z",
     "iopub.status.busy": "2020-09-22T04:42:03.806649Z",
     "iopub.status.idle": "2020-09-22T04:42:05.483658Z",
     "shell.execute_reply": "2020-09-22T04:42:05.483106Z"
    },
    "papermill": {
     "duration": 1.695872,
     "end_time": "2020-09-22T04:42:05.483795",
     "exception": false,
     "start_time": "2020-09-22T04:42:03.787923",
     "status": "completed"
    },
    "tags": []
   },
   "outputs": [
    {
     "name": "stderr",
     "output_type": "stream",
     "text": [
      "Using TensorFlow backend.\n"
     ]
    }
   ],
   "source": [
    "import pandas as pd\n",
    "import random\n",
    "import autokeras as ak\n",
    "from sklearn.model_selection import train_test_split\n",
    "from keras.callbacks import TensorBoard\n",
    "from sklearn.metrics import r2_score, mean_squared_error, mean_absolute_error\n",
    "from sklearn.model_selection import cross_val_score\n",
    "import seaborn as sns\n",
    "import matplotlib.pyplot as plt\n",
    "import warnings\n",
    "warnings.filterwarnings('ignore')"
   ]
  },
  {
   "cell_type": "code",
   "execution_count": 2,
   "metadata": {
    "execution": {
     "iopub.execute_input": "2020-09-22T04:42:05.518632Z",
     "iopub.status.busy": "2020-09-22T04:42:05.518135Z",
     "iopub.status.idle": "2020-09-22T04:42:05.520257Z",
     "shell.execute_reply": "2020-09-22T04:42:05.520611Z"
    },
    "papermill": {
     "duration": 0.020381,
     "end_time": "2020-09-22T04:42:05.520760",
     "exception": false,
     "start_time": "2020-09-22T04:42:05.500379",
     "status": "completed"
    },
    "tags": [
     "parameters"
    ]
   },
   "outputs": [],
   "source": [
    "# parameters\n",
    "# naming\n",
    "cohort = 'ppmi'\n",
    "# expr_name = 'enriched'\n",
    "# expr_name = 'enhanced'\n",
    "expr_name = 'specific'\n",
    "overwrite_model = False\n",
    "add_random = False"
   ]
  },
  {
   "cell_type": "code",
   "execution_count": 3,
   "metadata": {
    "execution": {
     "iopub.execute_input": "2020-09-22T04:42:05.553875Z",
     "iopub.status.busy": "2020-09-22T04:42:05.553427Z",
     "iopub.status.idle": "2020-09-22T04:42:05.555641Z",
     "shell.execute_reply": "2020-09-22T04:42:05.555265Z"
    },
    "papermill": {
     "duration": 0.020185,
     "end_time": "2020-09-22T04:42:05.555739",
     "exception": false,
     "start_time": "2020-09-22T04:42:05.535554",
     "status": "completed"
    },
    "tags": [
     "injected-parameters"
    ]
   },
   "outputs": [],
   "source": [
    "# Parameters\n",
    "cohort = \"ppmi\"\n",
    "expr_name = \"specific\"\n",
    "overwrite_model = True\n",
    "add_random = True\n"
   ]
  },
  {
   "cell_type": "code",
   "execution_count": 4,
   "metadata": {
    "execution": {
     "iopub.execute_input": "2020-09-22T04:42:05.591371Z",
     "iopub.status.busy": "2020-09-22T04:42:05.590888Z",
     "iopub.status.idle": "2020-09-22T04:42:05.607712Z",
     "shell.execute_reply": "2020-09-22T04:42:05.608079Z"
    },
    "papermill": {
     "duration": 0.037768,
     "end_time": "2020-09-22T04:42:05.608239",
     "exception": false,
     "start_time": "2020-09-22T04:42:05.570471",
     "status": "completed"
    },
    "tags": []
   },
   "outputs": [],
   "source": [
    "# naming\n",
    "visit_months = {'BL':0, 'V02':6, 'V04':12, 'V06':24, 'V08':36}\n",
    "visit_names = {'BL':'BLM0T1', 'V02':'SVM6T1', 'V04':'SVM12T1', 'V06':'SVM24T1', 'V08':'SVM36T1'}\n",
    "cell_types = ['Basophils', 'Eosinophils', 'Lymphocytes', 'Monocytes', 'Neutrophils']\n",
    "\n",
    "# in bucket data\n",
    "expr_bckt_file = f'gs://nihnialngcbg-eqtl/amppd/salmon/quantification/{cohort}.wb.norm.hdf5'\n",
    "fracs_bckt_file = f'gs://nihnialngcbg-eqtl/amppd/clinical/{cohort}.bld_chem_fractions.csv'\n",
    "cell_genes_bckt_file = f'gs://nihnialngcbg-eqtl/amppd/salmon/quantification/blood_cell_lineage_{expr_name}_genes.csv'\n",
    "# gencode_bckt_file = 'gs://nihnialngcbg-eqtl/amppd/salmon/quantification/gencode.v29.primary_assembly.annotation.pkl'\n",
    "\n",
    "# local files\n",
    "expr_file = f'{cohort}.wb.norm.hdf5'\n",
    "fracs_file = f'{cohort}.bld_chem_fractions.csv'\n",
    "cell_genes_enriched_file = 'blood_cell_lineage_genes.csv'\n",
    "# gencode_pkl = 'gencode.v29.primary_assembly.annotation.pkl'\n",
    "model_file = f'{cohort}.{expr_name}.model.cellfracs.h5'\n",
    "predicted_fractions_for_missing_file = f'{cohort}.{expr_name}.predicted.bld_chem_fractions.csv'\n",
    "tboard_log_dir = f'./tb_{expr_name}_logs'\n",
    "train_test_file = f'{cohort}.{expr_name}.features_targets.csv'\n",
    "\n",
    "capture_out = !(nproc)\n",
    "max_threads = int(capture_out[0])"
   ]
  },
  {
   "cell_type": "markdown",
   "metadata": {
    "papermill": {
     "duration": 0.015158,
     "end_time": "2020-09-22T04:42:05.640031",
     "exception": false,
     "start_time": "2020-09-22T04:42:05.624873",
     "status": "completed"
    },
    "tags": []
   },
   "source": [
    "#### pull src data local"
   ]
  },
  {
   "cell_type": "code",
   "execution_count": 5,
   "metadata": {
    "execution": {
     "iopub.execute_input": "2020-09-22T04:42:05.675421Z",
     "iopub.status.busy": "2020-09-22T04:42:05.674899Z",
     "iopub.status.idle": "2020-09-22T04:42:17.575207Z",
     "shell.execute_reply": "2020-09-22T04:42:17.574717Z"
    },
    "papermill": {
     "duration": 11.920139,
     "end_time": "2020-09-22T04:42:17.575342",
     "exception": false,
     "start_time": "2020-09-22T04:42:05.655203",
     "status": "completed"
    },
    "tags": []
   },
   "outputs": [],
   "source": [
    "!gsutil -mq cp {expr_bckt_file} {expr_file}\n",
    "!gsutil -mq cp {fracs_bckt_file} {fracs_file}\n",
    "!gsutil -mq cp {cell_genes_bckt_file} {cell_genes_enriched_file}\n",
    "# !gsutil -mq cp {gencode_bckt_file} {gencode_pkl}"
   ]
  },
  {
   "cell_type": "markdown",
   "metadata": {
    "papermill": {
     "duration": 0.01494,
     "end_time": "2020-09-22T04:42:17.606760",
     "exception": false,
     "start_time": "2020-09-22T04:42:17.591820",
     "status": "completed"
    },
    "tags": []
   },
   "source": [
    "#### load the expression data subset for enriched genes"
   ]
  },
  {
   "cell_type": "code",
   "execution_count": 6,
   "metadata": {
    "execution": {
     "iopub.execute_input": "2020-09-22T04:42:17.643266Z",
     "iopub.status.busy": "2020-09-22T04:42:17.642806Z",
     "iopub.status.idle": "2020-09-22T04:42:18.457674Z",
     "shell.execute_reply": "2020-09-22T04:42:18.457083Z"
    },
    "papermill": {
     "duration": 0.835321,
     "end_time": "2020-09-22T04:42:18.457815",
     "exception": false,
     "start_time": "2020-09-22T04:42:17.622494",
     "status": "completed"
    },
    "tags": []
   },
   "outputs": [
    {
     "name": "stdout",
     "output_type": "stream",
     "text": [
      "all expr data (4610, 16782)\n",
      "all enriched genes (199, 2)\n",
      "found 111 of enriched genes in expression data\n"
     ]
    },
    {
     "name": "stdout",
     "output_type": "stream",
     "text": [
      "found 222 of enriched genes plus high variance in expression data\n",
      "all enriched expr data (4610, 222)\n"
     ]
    }
   ],
   "source": [
    "expr_df = pd.read_hdf(expr_file)\n",
    "print(f'all expr data {expr_df.shape}')\n",
    "enriched_genes = pd.read_csv(cell_genes_enriched_file)\n",
    "print(f'all enriched genes {enriched_genes.shape}')\n",
    "gene_id_to_keep = set(enriched_genes['gene_id']) & set(expr_df.columns)\n",
    "print(f'found {len(gene_id_to_keep)} of enriched genes in expression data')\n",
    "if add_random:\n",
    "    quants_vars = expr_df.var() \n",
    "    gene_id_to_keep = gene_id_to_keep | set(quants_vars.sort_values(ascending=False).head(len(gene_id_to_keep)).index)\n",
    "    print(f'found {len(gene_id_to_keep)} of enriched genes plus high variance in expression data')\n",
    "expr_df = expr_df[list(gene_id_to_keep)]\n",
    "print(f'all enriched expr data {expr_df.shape}')"
   ]
  },
  {
   "cell_type": "markdown",
   "metadata": {
    "papermill": {
     "duration": 0.016231,
     "end_time": "2020-09-22T04:42:18.490994",
     "exception": false,
     "start_time": "2020-09-22T04:42:18.474763",
     "status": "completed"
    },
    "tags": []
   },
   "source": [
    "#### load the cell fractions data"
   ]
  },
  {
   "cell_type": "code",
   "execution_count": 7,
   "metadata": {
    "execution": {
     "iopub.execute_input": "2020-09-22T04:42:18.526016Z",
     "iopub.status.busy": "2020-09-22T04:42:18.525543Z",
     "iopub.status.idle": "2020-09-22T04:42:18.532672Z",
     "shell.execute_reply": "2020-09-22T04:42:18.532278Z"
    },
    "papermill": {
     "duration": 0.026351,
     "end_time": "2020-09-22T04:42:18.532775",
     "exception": false,
     "start_time": "2020-09-22T04:42:18.506424",
     "status": "completed"
    },
    "tags": []
   },
   "outputs": [
    {
     "name": "stdout",
     "output_type": "stream",
     "text": [
      "(5035, 7)\n"
     ]
    }
   ],
   "source": [
    "fracs_df = pd.read_csv(fracs_file)\n",
    "print(fracs_df.shape)"
   ]
  },
  {
   "cell_type": "code",
   "execution_count": 8,
   "metadata": {
    "execution": {
     "iopub.execute_input": "2020-09-22T04:42:18.568983Z",
     "iopub.status.busy": "2020-09-22T04:42:18.568546Z",
     "iopub.status.idle": "2020-09-22T04:42:18.587525Z",
     "shell.execute_reply": "2020-09-22T04:42:18.586999Z"
    },
    "papermill": {
     "duration": 0.039007,
     "end_time": "2020-09-22T04:42:18.587628",
     "exception": false,
     "start_time": "2020-09-22T04:42:18.548621",
     "status": "completed"
    },
    "tags": []
   },
   "outputs": [
    {
     "name": "stdout",
     "output_type": "stream",
     "text": [
      "(2387, 5)\n"
     ]
    }
   ],
   "source": [
    "# set the rna IDs to the match the IDs in the expression matrix\n",
    "for visit_number, visit_name in visit_names.items():\n",
    "    fracs_df.loc[fracs_df['visit'] == visit_number, 'rnaid'] = fracs_df['id'] + '-' + visit_name \n",
    "\n",
    "# drop the samples where a rnaid wasn't set, ie nans\n",
    "fracs_df.dropna(subset=['rnaid'], inplace=True)\n",
    "# set this new id as the index\n",
    "fracs_df.set_index('rnaid', drop=True, inplace=True)\n",
    "# and then drop original id and visit\n",
    "fracs_df.drop(columns=['id', 'visit'], inplace=True)    \n",
    "print(fracs_df.shape)"
   ]
  },
  {
   "cell_type": "code",
   "execution_count": 9,
   "metadata": {
    "execution": {
     "iopub.execute_input": "2020-09-22T04:42:18.627644Z",
     "iopub.status.busy": "2020-09-22T04:42:18.627141Z",
     "iopub.status.idle": "2020-09-22T04:42:18.645487Z",
     "shell.execute_reply": "2020-09-22T04:42:18.645076Z"
    },
    "papermill": {
     "duration": 0.041515,
     "end_time": "2020-09-22T04:42:18.645595",
     "exception": false,
     "start_time": "2020-09-22T04:42:18.604080",
     "status": "completed"
    },
    "tags": []
   },
   "outputs": [
    {
     "data": {
      "text/html": [
       "<div>\n",
       "<style scoped>\n",
       "    .dataframe tbody tr th:only-of-type {\n",
       "        vertical-align: middle;\n",
       "    }\n",
       "\n",
       "    .dataframe tbody tr th {\n",
       "        vertical-align: top;\n",
       "    }\n",
       "\n",
       "    .dataframe thead th {\n",
       "        text-align: right;\n",
       "    }\n",
       "</style>\n",
       "<table border=\"1\" class=\"dataframe\">\n",
       "  <thead>\n",
       "    <tr style=\"text-align: right;\">\n",
       "      <th></th>\n",
       "      <th>Basophils</th>\n",
       "      <th>Eosinophils</th>\n",
       "      <th>Lymphocytes</th>\n",
       "      <th>Monocytes</th>\n",
       "      <th>Neutrophils</th>\n",
       "    </tr>\n",
       "  </thead>\n",
       "  <tbody>\n",
       "    <tr>\n",
       "      <th>count</th>\n",
       "      <td>2387.000000</td>\n",
       "      <td>2387.000000</td>\n",
       "      <td>2387.000000</td>\n",
       "      <td>2387.000000</td>\n",
       "      <td>2387.000000</td>\n",
       "    </tr>\n",
       "    <tr>\n",
       "      <th>mean</th>\n",
       "      <td>0.642648</td>\n",
       "      <td>2.392333</td>\n",
       "      <td>28.050021</td>\n",
       "      <td>6.379933</td>\n",
       "      <td>62.535023</td>\n",
       "    </tr>\n",
       "    <tr>\n",
       "      <th>std</th>\n",
       "      <td>0.340675</td>\n",
       "      <td>1.597931</td>\n",
       "      <td>7.397466</td>\n",
       "      <td>1.714341</td>\n",
       "      <td>7.934574</td>\n",
       "    </tr>\n",
       "    <tr>\n",
       "      <th>min</th>\n",
       "      <td>0.000000</td>\n",
       "      <td>0.000000</td>\n",
       "      <td>5.500000</td>\n",
       "      <td>1.000000</td>\n",
       "      <td>25.000000</td>\n",
       "    </tr>\n",
       "    <tr>\n",
       "      <th>25%</th>\n",
       "      <td>0.400000</td>\n",
       "      <td>1.400000</td>\n",
       "      <td>22.900000</td>\n",
       "      <td>5.300000</td>\n",
       "      <td>57.300000</td>\n",
       "    </tr>\n",
       "    <tr>\n",
       "      <th>50%</th>\n",
       "      <td>0.600000</td>\n",
       "      <td>2.000000</td>\n",
       "      <td>27.800000</td>\n",
       "      <td>6.200000</td>\n",
       "      <td>62.600000</td>\n",
       "    </tr>\n",
       "    <tr>\n",
       "      <th>75%</th>\n",
       "      <td>0.800000</td>\n",
       "      <td>3.000000</td>\n",
       "      <td>32.800000</td>\n",
       "      <td>7.300000</td>\n",
       "      <td>68.000000</td>\n",
       "    </tr>\n",
       "    <tr>\n",
       "      <th>max</th>\n",
       "      <td>3.200000</td>\n",
       "      <td>16.400000</td>\n",
       "      <td>69.000000</td>\n",
       "      <td>15.700000</td>\n",
       "      <td>91.400000</td>\n",
       "    </tr>\n",
       "  </tbody>\n",
       "</table>\n",
       "</div>"
      ],
      "text/plain": [
       "         Basophils  Eosinophils  Lymphocytes    Monocytes  Neutrophils\n",
       "count  2387.000000  2387.000000  2387.000000  2387.000000  2387.000000\n",
       "mean      0.642648     2.392333    28.050021     6.379933    62.535023\n",
       "std       0.340675     1.597931     7.397466     1.714341     7.934574\n",
       "min       0.000000     0.000000     5.500000     1.000000    25.000000\n",
       "25%       0.400000     1.400000    22.900000     5.300000    57.300000\n",
       "50%       0.600000     2.000000    27.800000     6.200000    62.600000\n",
       "75%       0.800000     3.000000    32.800000     7.300000    68.000000\n",
       "max       3.200000    16.400000    69.000000    15.700000    91.400000"
      ]
     },
     "execution_count": 9,
     "metadata": {},
     "output_type": "execute_result"
    }
   ],
   "source": [
    "# check cell type summaries\n",
    "fracs_df.describe()"
   ]
  },
  {
   "cell_type": "markdown",
   "metadata": {
    "papermill": {
     "duration": 0.016241,
     "end_time": "2020-09-22T04:42:18.678757",
     "exception": false,
     "start_time": "2020-09-22T04:42:18.662516",
     "status": "completed"
    },
    "tags": []
   },
   "source": [
    "#### merge expr data and cell fraction data"
   ]
  },
  {
   "cell_type": "code",
   "execution_count": 10,
   "metadata": {
    "execution": {
     "iopub.execute_input": "2020-09-22T04:42:18.719183Z",
     "iopub.status.busy": "2020-09-22T04:42:18.715784Z",
     "iopub.status.idle": "2020-09-22T04:42:18.722432Z",
     "shell.execute_reply": "2020-09-22T04:42:18.721883Z"
    },
    "papermill": {
     "duration": 0.027563,
     "end_time": "2020-09-22T04:42:18.722546",
     "exception": false,
     "start_time": "2020-09-22T04:42:18.694983",
     "status": "completed"
    },
    "tags": []
   },
   "outputs": [
    {
     "name": "stdout",
     "output_type": "stream",
     "text": [
      "(1804, 227)\n"
     ]
    }
   ],
   "source": [
    "data_df = expr_df.merge(fracs_df, how='inner', left_index=True, right_index=True)\n",
    "print(data_df.shape)"
   ]
  },
  {
   "cell_type": "markdown",
   "metadata": {
    "papermill": {
     "duration": 0.017507,
     "end_time": "2020-09-22T04:42:18.758495",
     "exception": false,
     "start_time": "2020-09-22T04:42:18.740988",
     "status": "completed"
    },
    "tags": []
   },
   "source": [
    "#### save the feature/target data set"
   ]
  },
  {
   "cell_type": "code",
   "execution_count": 11,
   "metadata": {
    "execution": {
     "iopub.execute_input": "2020-09-22T04:42:18.796427Z",
     "iopub.status.busy": "2020-09-22T04:42:18.795601Z",
     "iopub.status.idle": "2020-09-22T04:42:19.409876Z",
     "shell.execute_reply": "2020-09-22T04:42:19.409271Z"
    },
    "papermill": {
     "duration": 0.634302,
     "end_time": "2020-09-22T04:42:19.410020",
     "exception": false,
     "start_time": "2020-09-22T04:42:18.775718",
     "status": "completed"
    },
    "tags": []
   },
   "outputs": [],
   "source": [
    "data_df.to_csv(train_test_file)"
   ]
  },
  {
   "cell_type": "markdown",
   "metadata": {
    "papermill": {
     "duration": 0.017002,
     "end_time": "2020-09-22T04:42:19.446263",
     "exception": false,
     "start_time": "2020-09-22T04:42:19.429261",
     "status": "completed"
    },
    "tags": []
   },
   "source": [
    "#### prep the test and train split"
   ]
  },
  {
   "cell_type": "code",
   "execution_count": 12,
   "metadata": {
    "execution": {
     "iopub.execute_input": "2020-09-22T04:42:19.484017Z",
     "iopub.status.busy": "2020-09-22T04:42:19.483573Z",
     "iopub.status.idle": "2020-09-22T04:42:19.493148Z",
     "shell.execute_reply": "2020-09-22T04:42:19.493512Z"
    },
    "papermill": {
     "duration": 0.031071,
     "end_time": "2020-09-22T04:42:19.493643",
     "exception": false,
     "start_time": "2020-09-22T04:42:19.462572",
     "status": "completed"
    },
    "tags": []
   },
   "outputs": [
    {
     "name": "stdout",
     "output_type": "stream",
     "text": [
      "(1262, 222) (542, 222) (1262, 5) (542, 5)\n"
     ]
    }
   ],
   "source": [
    "features, targets = data_df.drop(columns=cell_types), data_df[cell_types] #label encode the target\n",
    "features_train, features_test, targets_train, targets_test = train_test_split(features, \n",
    "                                                                              targets, \n",
    "                                                                              test_size=0.3)\n",
    "print(features_train.shape, features_test.shape, targets_train.shape, targets_test.shape)"
   ]
  },
  {
   "cell_type": "markdown",
   "metadata": {
    "papermill": {
     "duration": 0.016666,
     "end_time": "2020-09-22T04:42:19.526749",
     "exception": false,
     "start_time": "2020-09-22T04:42:19.510083",
     "status": "completed"
    },
    "tags": []
   },
   "source": [
    "#### setup the tensorboard callback"
   ]
  },
  {
   "cell_type": "code",
   "execution_count": 13,
   "metadata": {
    "execution": {
     "iopub.execute_input": "2020-09-22T04:42:20.278909Z",
     "iopub.status.busy": "2020-09-22T04:42:20.278395Z",
     "iopub.status.idle": "2020-09-22T04:42:20.280612Z",
     "shell.execute_reply": "2020-09-22T04:42:20.280074Z"
    },
    "papermill": {
     "duration": 0.736258,
     "end_time": "2020-09-22T04:42:20.280757",
     "exception": false,
     "start_time": "2020-09-22T04:42:19.544499",
     "status": "completed"
    },
    "tags": []
   },
   "outputs": [],
   "source": [
    "tensorboard_callback = TensorBoard(log_dir=tboard_log_dir, histogram_freq=0, \n",
    "                                   write_graph=True, write_images=False)"
   ]
  },
  {
   "cell_type": "markdown",
   "metadata": {
    "papermill": {
     "duration": 0.017858,
     "end_time": "2020-09-22T04:42:20.315467",
     "exception": false,
     "start_time": "2020-09-22T04:42:20.297609",
     "status": "completed"
    },
    "tags": []
   },
   "source": [
    "#### search for the best model"
   ]
  },
  {
   "cell_type": "code",
   "execution_count": 14,
   "metadata": {
    "execution": {
     "iopub.execute_input": "2020-09-22T04:42:20.357429Z",
     "iopub.status.busy": "2020-09-22T04:42:20.356930Z",
     "iopub.status.idle": "2020-09-22T06:11:32.643493Z",
     "shell.execute_reply": "2020-09-22T06:11:32.643863Z"
    },
    "papermill": {
     "duration": 5352.309436,
     "end_time": "2020-09-22T06:11:32.644023",
     "exception": false,
     "start_time": "2020-09-22T04:42:20.334587",
     "status": "completed"
    },
    "tags": []
   },
   "outputs": [
    {
     "name": "stdout",
     "output_type": "stream",
     "text": [
      "WARNING:tensorflow:From /opt/conda/lib/python3.7/site-packages/tensorflow/python/ops/summary_ops_v2.py:1277: stop (from tensorflow.python.eager.profiler) is deprecated and will be removed after 2020-07-01.\n",
      "Instructions for updating:\n",
      "use `tf.profiler.experimental.stop` instead.\n"
     ]
    },
    {
     "name": "stdout",
     "output_type": "stream",
     "text": [
      "WARNING:tensorflow:Callbacks method `on_train_batch_end` is slow compared to the batch time (batch time: 0.0243s vs `on_train_batch_end` time: 0.1736s). Check your callbacks.\n"
     ]
    },
    {
     "name": "stdout",
     "output_type": "stream",
     "text": [
      "WARNING:tensorflow:Callbacks method `on_train_batch_end` is slow compared to the batch time (batch time: 0.0304s vs `on_train_batch_end` time: 0.3716s). Check your callbacks.\n"
     ]
    },
    {
     "name": "stdout",
     "output_type": "stream",
     "text": [
      "WARNING:tensorflow:Callbacks method `on_train_batch_end` is slow compared to the batch time (batch time: 0.0315s vs `on_train_batch_end` time: 0.3824s). Check your callbacks.\n"
     ]
    },
    {
     "name": "stdout",
     "output_type": "stream",
     "text": [
      "WARNING:tensorflow:Callbacks method `on_train_batch_end` is slow compared to the batch time (batch time: 0.0287s vs `on_train_batch_end` time: 0.3544s). Check your callbacks.\n"
     ]
    },
    {
     "name": "stdout",
     "output_type": "stream",
     "text": [
      "WARNING:tensorflow:Callbacks method `on_train_batch_end` is slow compared to the batch time (batch time: 0.0300s vs `on_train_batch_end` time: 0.3630s). Check your callbacks.\n"
     ]
    },
    {
     "name": "stdout",
     "output_type": "stream",
     "text": [
      "WARNING:tensorflow:Callbacks method `on_train_batch_end` is slow compared to the batch time (batch time: 0.0329s vs `on_train_batch_end` time: 0.3951s). Check your callbacks.\n"
     ]
    },
    {
     "name": "stdout",
     "output_type": "stream",
     "text": [
      "WARNING:tensorflow:Callbacks method `on_train_batch_end` is slow compared to the batch time (batch time: 0.0293s vs `on_train_batch_end` time: 0.3783s). Check your callbacks.\n"
     ]
    },
    {
     "name": "stdout",
     "output_type": "stream",
     "text": [
      "WARNING:tensorflow:Callbacks method `on_train_batch_end` is slow compared to the batch time (batch time: 0.0286s vs `on_train_batch_end` time: 0.3642s). Check your callbacks.\n"
     ]
    },
    {
     "name": "stdout",
     "output_type": "stream",
     "text": [
      "WARNING:tensorflow:Callbacks method `on_train_batch_end` is slow compared to the batch time (batch time: 0.0300s vs `on_train_batch_end` time: 0.3722s). Check your callbacks.\n"
     ]
    },
    {
     "name": "stdout",
     "output_type": "stream",
     "text": [
      "WARNING:tensorflow:Callbacks method `on_train_batch_end` is slow compared to the batch time (batch time: 0.0298s vs `on_train_batch_end` time: 0.3927s). Check your callbacks.\n"
     ]
    },
    {
     "name": "stdout",
     "output_type": "stream",
     "text": [
      "WARNING:tensorflow:Callbacks method `on_train_batch_end` is slow compared to the batch time (batch time: 0.0330s vs `on_train_batch_end` time: 0.4265s). Check your callbacks.\n"
     ]
    },
    {
     "name": "stdout",
     "output_type": "stream",
     "text": [
      "WARNING:tensorflow:Callbacks method `on_train_batch_end` is slow compared to the batch time (batch time: 0.0343s vs `on_train_batch_end` time: 0.4154s). Check your callbacks.\n"
     ]
    },
    {
     "name": "stdout",
     "output_type": "stream",
     "text": [
      "WARNING:tensorflow:Callbacks method `on_train_batch_end` is slow compared to the batch time (batch time: 0.0329s vs `on_train_batch_end` time: 0.4393s). Check your callbacks.\n"
     ]
    },
    {
     "name": "stdout",
     "output_type": "stream",
     "text": [
      "WARNING:tensorflow:Callbacks method `on_train_batch_end` is slow compared to the batch time (batch time: 0.0336s vs `on_train_batch_end` time: 0.4016s). Check your callbacks.\n"
     ]
    },
    {
     "name": "stdout",
     "output_type": "stream",
     "text": [
      "WARNING:tensorflow:Callbacks method `on_train_batch_end` is slow compared to the batch time (batch time: 0.0325s vs `on_train_batch_end` time: 0.4273s). Check your callbacks.\n"
     ]
    },
    {
     "name": "stdout",
     "output_type": "stream",
     "text": [
      "WARNING:tensorflow:Callbacks method `on_train_batch_end` is slow compared to the batch time (batch time: 0.0300s vs `on_train_batch_end` time: 0.4192s). Check your callbacks.\n"
     ]
    },
    {
     "name": "stdout",
     "output_type": "stream",
     "text": [
      "WARNING:tensorflow:Callbacks method `on_train_batch_end` is slow compared to the batch time (batch time: 0.0294s vs `on_train_batch_end` time: 0.4103s). Check your callbacks.\n"
     ]
    },
    {
     "name": "stdout",
     "output_type": "stream",
     "text": [
      "WARNING:tensorflow:Callbacks method `on_train_batch_end` is slow compared to the batch time (batch time: 0.0288s vs `on_train_batch_end` time: 0.3932s). Check your callbacks.\n"
     ]
    },
    {
     "name": "stdout",
     "output_type": "stream",
     "text": [
      "WARNING:tensorflow:Callbacks method `on_train_batch_end` is slow compared to the batch time (batch time: 0.0307s vs `on_train_batch_end` time: 0.4029s). Check your callbacks.\n"
     ]
    },
    {
     "name": "stdout",
     "output_type": "stream",
     "text": [
      "WARNING:tensorflow:Callbacks method `on_train_batch_end` is slow compared to the batch time (batch time: 0.0284s vs `on_train_batch_end` time: 0.4066s). Check your callbacks.\n"
     ]
    },
    {
     "name": "stdout",
     "output_type": "stream",
     "text": [
      "WARNING:tensorflow:Callbacks method `on_train_batch_end` is slow compared to the batch time (batch time: 0.0299s vs `on_train_batch_end` time: 0.4050s). Check your callbacks.\n"
     ]
    },
    {
     "name": "stdout",
     "output_type": "stream",
     "text": [
      "WARNING:tensorflow:Callbacks method `on_train_batch_end` is slow compared to the batch time (batch time: 0.0296s vs `on_train_batch_end` time: 0.4117s). Check your callbacks.\n"
     ]
    },
    {
     "name": "stdout",
     "output_type": "stream",
     "text": [
      "WARNING:tensorflow:Callbacks method `on_train_batch_end` is slow compared to the batch time (batch time: 0.0296s vs `on_train_batch_end` time: 0.4083s). Check your callbacks.\n"
     ]
    },
    {
     "name": "stdout",
     "output_type": "stream",
     "text": [
      "WARNING:tensorflow:Callbacks method `on_train_batch_end` is slow compared to the batch time (batch time: 0.0307s vs `on_train_batch_end` time: 0.4138s). Check your callbacks.\n"
     ]
    },
    {
     "name": "stdout",
     "output_type": "stream",
     "text": [
      "WARNING:tensorflow:Callbacks method `on_train_batch_end` is slow compared to the batch time (batch time: 0.0300s vs `on_train_batch_end` time: 0.4194s). Check your callbacks.\n"
     ]
    },
    {
     "name": "stdout",
     "output_type": "stream",
     "text": [
      "WARNING:tensorflow:Callbacks method `on_train_batch_end` is slow compared to the batch time (batch time: 0.0300s vs `on_train_batch_end` time: 0.4115s). Check your callbacks.\n"
     ]
    },
    {
     "name": "stdout",
     "output_type": "stream",
     "text": [
      "WARNING:tensorflow:Callbacks method `on_train_batch_end` is slow compared to the batch time (batch time: 0.0295s vs `on_train_batch_end` time: 0.4082s). Check your callbacks.\n"
     ]
    },
    {
     "name": "stdout",
     "output_type": "stream",
     "text": [
      "WARNING:tensorflow:Callbacks method `on_train_batch_end` is slow compared to the batch time (batch time: 0.0298s vs `on_train_batch_end` time: 0.3924s). Check your callbacks.\n"
     ]
    },
    {
     "name": "stdout",
     "output_type": "stream",
     "text": [
      "WARNING:tensorflow:Callbacks method `on_train_batch_end` is slow compared to the batch time (batch time: 0.0287s vs `on_train_batch_end` time: 0.4034s). Check your callbacks.\n"
     ]
    },
    {
     "name": "stdout",
     "output_type": "stream",
     "text": [
      "WARNING:tensorflow:Callbacks method `on_train_batch_end` is slow compared to the batch time (batch time: 0.0290s vs `on_train_batch_end` time: 0.4137s). Check your callbacks.\n"
     ]
    },
    {
     "name": "stdout",
     "output_type": "stream",
     "text": [
      "WARNING:tensorflow:Callbacks method `on_train_batch_end` is slow compared to the batch time (batch time: 0.0327s vs `on_train_batch_end` time: 0.4198s). Check your callbacks.\n"
     ]
    },
    {
     "name": "stdout",
     "output_type": "stream",
     "text": [
      "WARNING:tensorflow:Callbacks method `on_train_batch_end` is slow compared to the batch time (batch time: 0.0291s vs `on_train_batch_end` time: 0.3985s). Check your callbacks.\n"
     ]
    },
    {
     "name": "stdout",
     "output_type": "stream",
     "text": [
      "WARNING:tensorflow:Callbacks method `on_train_batch_end` is slow compared to the batch time (batch time: 0.0290s vs `on_train_batch_end` time: 0.3963s). Check your callbacks.\n"
     ]
    },
    {
     "name": "stdout",
     "output_type": "stream",
     "text": [
      "WARNING:tensorflow:Callbacks method `on_train_batch_end` is slow compared to the batch time (batch time: 0.0286s vs `on_train_batch_end` time: 0.3851s). Check your callbacks.\n"
     ]
    },
    {
     "name": "stdout",
     "output_type": "stream",
     "text": [
      "WARNING:tensorflow:Callbacks method `on_train_batch_end` is slow compared to the batch time (batch time: 0.0303s vs `on_train_batch_end` time: 0.3902s). Check your callbacks.\n"
     ]
    },
    {
     "name": "stdout",
     "output_type": "stream",
     "text": [
      "WARNING:tensorflow:Callbacks method `on_train_batch_end` is slow compared to the batch time (batch time: 0.0299s vs `on_train_batch_end` time: 0.3934s). Check your callbacks.\n"
     ]
    },
    {
     "name": "stdout",
     "output_type": "stream",
     "text": [
      "WARNING:tensorflow:Callbacks method `on_train_batch_end` is slow compared to the batch time (batch time: 0.0293s vs `on_train_batch_end` time: 0.3944s). Check your callbacks.\n"
     ]
    },
    {
     "name": "stdout",
     "output_type": "stream",
     "text": [
      "WARNING:tensorflow:Callbacks method `on_train_batch_end` is slow compared to the batch time (batch time: 0.0281s vs `on_train_batch_end` time: 0.3992s). Check your callbacks.\n"
     ]
    },
    {
     "name": "stdout",
     "output_type": "stream",
     "text": [
      "WARNING:tensorflow:Callbacks method `on_train_batch_end` is slow compared to the batch time (batch time: 0.0279s vs `on_train_batch_end` time: 0.3941s). Check your callbacks.\n"
     ]
    },
    {
     "name": "stdout",
     "output_type": "stream",
     "text": [
      "WARNING:tensorflow:Callbacks method `on_train_batch_end` is slow compared to the batch time (batch time: 0.0278s vs `on_train_batch_end` time: 0.3876s). Check your callbacks.\n"
     ]
    },
    {
     "name": "stdout",
     "output_type": "stream",
     "text": [
      "WARNING:tensorflow:Callbacks method `on_train_batch_end` is slow compared to the batch time (batch time: 0.0297s vs `on_train_batch_end` time: 0.3977s). Check your callbacks.\n"
     ]
    },
    {
     "name": "stdout",
     "output_type": "stream",
     "text": [
      "WARNING:tensorflow:Callbacks method `on_train_batch_end` is slow compared to the batch time (batch time: 0.0286s vs `on_train_batch_end` time: 0.3890s). Check your callbacks.\n"
     ]
    },
    {
     "name": "stdout",
     "output_type": "stream",
     "text": [
      "WARNING:tensorflow:Callbacks method `on_train_batch_end` is slow compared to the batch time (batch time: 0.0288s vs `on_train_batch_end` time: 0.3886s). Check your callbacks.\n"
     ]
    },
    {
     "name": "stdout",
     "output_type": "stream",
     "text": [
      "WARNING:tensorflow:Callbacks method `on_train_batch_end` is slow compared to the batch time (batch time: 0.0308s vs `on_train_batch_end` time: 0.4235s). Check your callbacks.\n"
     ]
    },
    {
     "name": "stdout",
     "output_type": "stream",
     "text": [
      "WARNING:tensorflow:Callbacks method `on_train_batch_end` is slow compared to the batch time (batch time: 0.0285s vs `on_train_batch_end` time: 0.3846s). Check your callbacks.\n"
     ]
    },
    {
     "name": "stdout",
     "output_type": "stream",
     "text": [
      "WARNING:tensorflow:Callbacks method `on_train_batch_end` is slow compared to the batch time (batch time: 0.0284s vs `on_train_batch_end` time: 0.3822s). Check your callbacks.\n"
     ]
    },
    {
     "name": "stdout",
     "output_type": "stream",
     "text": [
      "WARNING:tensorflow:Callbacks method `on_train_batch_end` is slow compared to the batch time (batch time: 0.0289s vs `on_train_batch_end` time: 0.3930s). Check your callbacks.\n"
     ]
    },
    {
     "name": "stdout",
     "output_type": "stream",
     "text": [
      "WARNING:tensorflow:Callbacks method `on_train_batch_end` is slow compared to the batch time (batch time: 0.0291s vs `on_train_batch_end` time: 0.4036s). Check your callbacks.\n"
     ]
    },
    {
     "name": "stdout",
     "output_type": "stream",
     "text": [
      "WARNING:tensorflow:Callbacks method `on_train_batch_end` is slow compared to the batch time (batch time: 0.0278s vs `on_train_batch_end` time: 0.3990s). Check your callbacks.\n"
     ]
    },
    {
     "name": "stdout",
     "output_type": "stream",
     "text": [
      "WARNING:tensorflow:Callbacks method `on_train_batch_end` is slow compared to the batch time (batch time: 0.0295s vs `on_train_batch_end` time: 0.3914s). Check your callbacks.\n"
     ]
    },
    {
     "name": "stdout",
     "output_type": "stream",
     "text": [
      "WARNING:tensorflow:Callbacks method `on_train_batch_end` is slow compared to the batch time (batch time: 0.0288s vs `on_train_batch_end` time: 0.3878s). Check your callbacks.\n"
     ]
    },
    {
     "name": "stdout",
     "output_type": "stream",
     "text": [
      "WARNING:tensorflow:Callbacks method `on_train_batch_end` is slow compared to the batch time (batch time: 0.0306s vs `on_train_batch_end` time: 0.4240s). Check your callbacks.\n"
     ]
    },
    {
     "name": "stdout",
     "output_type": "stream",
     "text": [
      "WARNING:tensorflow:Callbacks method `on_train_batch_end` is slow compared to the batch time (batch time: 0.0299s vs `on_train_batch_end` time: 0.4037s). Check your callbacks.\n"
     ]
    },
    {
     "name": "stdout",
     "output_type": "stream",
     "text": [
      "WARNING:tensorflow:Callbacks method `on_train_batch_end` is slow compared to the batch time (batch time: 0.0280s vs `on_train_batch_end` time: 0.4127s). Check your callbacks.\n"
     ]
    },
    {
     "name": "stdout",
     "output_type": "stream",
     "text": [
      "WARNING:tensorflow:Callbacks method `on_train_batch_end` is slow compared to the batch time (batch time: 0.0286s vs `on_train_batch_end` time: 0.3878s). Check your callbacks.\n"
     ]
    },
    {
     "name": "stdout",
     "output_type": "stream",
     "text": [
      "WARNING:tensorflow:Callbacks method `on_train_batch_end` is slow compared to the batch time (batch time: 0.0283s vs `on_train_batch_end` time: 0.3887s). Check your callbacks.\n"
     ]
    },
    {
     "name": "stdout",
     "output_type": "stream",
     "text": [
      "WARNING:tensorflow:Callbacks method `on_train_batch_end` is slow compared to the batch time (batch time: 0.0290s vs `on_train_batch_end` time: 0.3985s). Check your callbacks.\n"
     ]
    },
    {
     "name": "stdout",
     "output_type": "stream",
     "text": [
      "WARNING:tensorflow:Callbacks method `on_train_batch_end` is slow compared to the batch time (batch time: 0.0297s vs `on_train_batch_end` time: 0.4124s). Check your callbacks.\n"
     ]
    },
    {
     "name": "stdout",
     "output_type": "stream",
     "text": [
      "WARNING:tensorflow:Callbacks method `on_train_batch_end` is slow compared to the batch time (batch time: 0.0285s vs `on_train_batch_end` time: 0.3993s). Check your callbacks.\n"
     ]
    },
    {
     "name": "stdout",
     "output_type": "stream",
     "text": [
      "WARNING:tensorflow:Callbacks method `on_train_batch_end` is slow compared to the batch time (batch time: 0.0292s vs `on_train_batch_end` time: 0.3933s). Check your callbacks.\n"
     ]
    },
    {
     "name": "stdout",
     "output_type": "stream",
     "text": [
      "WARNING:tensorflow:Callbacks method `on_train_batch_end` is slow compared to the batch time (batch time: 0.0300s vs `on_train_batch_end` time: 0.4015s). Check your callbacks.\n"
     ]
    },
    {
     "name": "stdout",
     "output_type": "stream",
     "text": [
      "INFO:tensorflow:Oracle triggered exit\n"
     ]
    },
    {
     "name": "stdout",
     "output_type": "stream",
     "text": [
      "WARNING:tensorflow:Callbacks method `on_train_batch_end` is slow compared to the batch time (batch time: 0.0290s vs `on_train_batch_end` time: 0.4186s). Check your callbacks.\n"
     ]
    },
    {
     "name": "stdout",
     "output_type": "stream",
     "text": [
      "WARNING:tensorflow:Early stopping conditioned on metric `val_loss` which is not available. Available metrics are: loss,mean_squared_error\n"
     ]
    },
    {
     "name": "stdout",
     "output_type": "stream",
     "text": [
      "WARNING:tensorflow:Early stopping conditioned on metric `val_loss` which is not available. Available metrics are: loss,mean_squared_error\n"
     ]
    },
    {
     "name": "stdout",
     "output_type": "stream",
     "text": [
      "WARNING:tensorflow:Early stopping conditioned on metric `val_loss` which is not available. Available metrics are: loss,mean_squared_error\n"
     ]
    },
    {
     "name": "stdout",
     "output_type": "stream",
     "text": [
      "WARNING:tensorflow:Early stopping conditioned on metric `val_loss` which is not available. Available metrics are: loss,mean_squared_error\n"
     ]
    },
    {
     "name": "stdout",
     "output_type": "stream",
     "text": [
      "WARNING:tensorflow:Early stopping conditioned on metric `val_loss` which is not available. Available metrics are: loss,mean_squared_error\n"
     ]
    },
    {
     "name": "stdout",
     "output_type": "stream",
     "text": [
      "WARNING:tensorflow:Early stopping conditioned on metric `val_loss` which is not available. Available metrics are: loss,mean_squared_error\n"
     ]
    },
    {
     "name": "stdout",
     "output_type": "stream",
     "text": [
      "WARNING:tensorflow:Early stopping conditioned on metric `val_loss` which is not available. Available metrics are: loss,mean_squared_error\n"
     ]
    },
    {
     "name": "stdout",
     "output_type": "stream",
     "text": [
      "WARNING:tensorflow:Early stopping conditioned on metric `val_loss` which is not available. Available metrics are: loss,mean_squared_error\n"
     ]
    },
    {
     "name": "stdout",
     "output_type": "stream",
     "text": [
      "WARNING:tensorflow:Early stopping conditioned on metric `val_loss` which is not available. Available metrics are: loss,mean_squared_error\n"
     ]
    },
    {
     "name": "stdout",
     "output_type": "stream",
     "text": [
      "WARNING:tensorflow:Early stopping conditioned on metric `val_loss` which is not available. Available metrics are: loss,mean_squared_error\n"
     ]
    },
    {
     "name": "stdout",
     "output_type": "stream",
     "text": [
      "WARNING:tensorflow:Early stopping conditioned on metric `val_loss` which is not available. Available metrics are: loss,mean_squared_error\n"
     ]
    },
    {
     "name": "stdout",
     "output_type": "stream",
     "text": [
      "WARNING:tensorflow:Early stopping conditioned on metric `val_loss` which is not available. Available metrics are: loss,mean_squared_error\n"
     ]
    },
    {
     "name": "stdout",
     "output_type": "stream",
     "text": [
      "WARNING:tensorflow:Early stopping conditioned on metric `val_loss` which is not available. Available metrics are: loss,mean_squared_error\n"
     ]
    },
    {
     "name": "stdout",
     "output_type": "stream",
     "text": [
      "WARNING:tensorflow:Early stopping conditioned on metric `val_loss` which is not available. Available metrics are: loss,mean_squared_error\n"
     ]
    },
    {
     "name": "stdout",
     "output_type": "stream",
     "text": [
      "WARNING:tensorflow:Early stopping conditioned on metric `val_loss` which is not available. Available metrics are: loss,mean_squared_error\n"
     ]
    },
    {
     "name": "stdout",
     "output_type": "stream",
     "text": [
      "WARNING:tensorflow:Early stopping conditioned on metric `val_loss` which is not available. Available metrics are: loss,mean_squared_error\n"
     ]
    },
    {
     "name": "stdout",
     "output_type": "stream",
     "text": [
      "WARNING:tensorflow:Early stopping conditioned on metric `val_loss` which is not available. Available metrics are: loss,mean_squared_error\n"
     ]
    },
    {
     "name": "stdout",
     "output_type": "stream",
     "text": [
      "WARNING:tensorflow:Early stopping conditioned on metric `val_loss` which is not available. Available metrics are: loss,mean_squared_error\n"
     ]
    },
    {
     "name": "stdout",
     "output_type": "stream",
     "text": [
      "WARNING:tensorflow:Early stopping conditioned on metric `val_loss` which is not available. Available metrics are: loss,mean_squared_error\n"
     ]
    },
    {
     "name": "stdout",
     "output_type": "stream",
     "text": [
      "WARNING:tensorflow:Early stopping conditioned on metric `val_loss` which is not available. Available metrics are: loss,mean_squared_error\n"
     ]
    },
    {
     "name": "stdout",
     "output_type": "stream",
     "text": [
      "WARNING:tensorflow:Early stopping conditioned on metric `val_loss` which is not available. Available metrics are: loss,mean_squared_error\n"
     ]
    },
    {
     "name": "stdout",
     "output_type": "stream",
     "text": [
      "WARNING:tensorflow:Early stopping conditioned on metric `val_loss` which is not available. Available metrics are: loss,mean_squared_error\n"
     ]
    },
    {
     "name": "stdout",
     "output_type": "stream",
     "text": [
      "WARNING:tensorflow:Early stopping conditioned on metric `val_loss` which is not available. Available metrics are: loss,mean_squared_error\n"
     ]
    },
    {
     "name": "stdout",
     "output_type": "stream",
     "text": [
      "WARNING:tensorflow:Early stopping conditioned on metric `val_loss` which is not available. Available metrics are: loss,mean_squared_error\n"
     ]
    },
    {
     "name": "stdout",
     "output_type": "stream",
     "text": [
      "WARNING:tensorflow:Early stopping conditioned on metric `val_loss` which is not available. Available metrics are: loss,mean_squared_error\n"
     ]
    },
    {
     "name": "stdout",
     "output_type": "stream",
     "text": [
      "WARNING:tensorflow:Early stopping conditioned on metric `val_loss` which is not available. Available metrics are: loss,mean_squared_error\n"
     ]
    },
    {
     "name": "stdout",
     "output_type": "stream",
     "text": [
      "WARNING:tensorflow:Early stopping conditioned on metric `val_loss` which is not available. Available metrics are: loss,mean_squared_error\n"
     ]
    },
    {
     "name": "stdout",
     "output_type": "stream",
     "text": [
      "WARNING:tensorflow:Early stopping conditioned on metric `val_loss` which is not available. Available metrics are: loss,mean_squared_error\n"
     ]
    },
    {
     "name": "stdout",
     "output_type": "stream",
     "text": [
      "WARNING:tensorflow:Early stopping conditioned on metric `val_loss` which is not available. Available metrics are: loss,mean_squared_error\n"
     ]
    },
    {
     "name": "stdout",
     "output_type": "stream",
     "text": [
      "WARNING:tensorflow:Early stopping conditioned on metric `val_loss` which is not available. Available metrics are: loss,mean_squared_error\n"
     ]
    },
    {
     "name": "stdout",
     "output_type": "stream",
     "text": [
      "WARNING:tensorflow:Early stopping conditioned on metric `val_loss` which is not available. Available metrics are: loss,mean_squared_error\n"
     ]
    },
    {
     "name": "stdout",
     "output_type": "stream",
     "text": [
      "WARNING:tensorflow:Early stopping conditioned on metric `val_loss` which is not available. Available metrics are: loss,mean_squared_error\n"
     ]
    },
    {
     "name": "stdout",
     "output_type": "stream",
     "text": [
      "WARNING:tensorflow:Early stopping conditioned on metric `val_loss` which is not available. Available metrics are: loss,mean_squared_error\n"
     ]
    },
    {
     "name": "stdout",
     "output_type": "stream",
     "text": [
      "WARNING:tensorflow:Early stopping conditioned on metric `val_loss` which is not available. Available metrics are: loss,mean_squared_error\n"
     ]
    },
    {
     "name": "stdout",
     "output_type": "stream",
     "text": [
      "WARNING:tensorflow:Early stopping conditioned on metric `val_loss` which is not available. Available metrics are: loss,mean_squared_error\n"
     ]
    },
    {
     "name": "stdout",
     "output_type": "stream",
     "text": [
      "WARNING:tensorflow:Early stopping conditioned on metric `val_loss` which is not available. Available metrics are: loss,mean_squared_error\n"
     ]
    },
    {
     "name": "stdout",
     "output_type": "stream",
     "text": [
      "WARNING:tensorflow:Early stopping conditioned on metric `val_loss` which is not available. Available metrics are: loss,mean_squared_error\n"
     ]
    },
    {
     "name": "stdout",
     "output_type": "stream",
     "text": [
      "WARNING:tensorflow:Early stopping conditioned on metric `val_loss` which is not available. Available metrics are: loss,mean_squared_error\n"
     ]
    },
    {
     "name": "stdout",
     "output_type": "stream",
     "text": [
      "WARNING:tensorflow:Early stopping conditioned on metric `val_loss` which is not available. Available metrics are: loss,mean_squared_error\n"
     ]
    },
    {
     "name": "stdout",
     "output_type": "stream",
     "text": [
      "WARNING:tensorflow:Early stopping conditioned on metric `val_loss` which is not available. Available metrics are: loss,mean_squared_error\n"
     ]
    },
    {
     "name": "stdout",
     "output_type": "stream",
     "text": [
      "WARNING:tensorflow:Early stopping conditioned on metric `val_loss` which is not available. Available metrics are: loss,mean_squared_error\n"
     ]
    },
    {
     "name": "stdout",
     "output_type": "stream",
     "text": [
      "WARNING:tensorflow:Early stopping conditioned on metric `val_loss` which is not available. Available metrics are: loss,mean_squared_error\n"
     ]
    },
    {
     "name": "stdout",
     "output_type": "stream",
     "text": [
      "WARNING:tensorflow:Early stopping conditioned on metric `val_loss` which is not available. Available metrics are: loss,mean_squared_error\n"
     ]
    },
    {
     "name": "stdout",
     "output_type": "stream",
     "text": [
      "WARNING:tensorflow:Early stopping conditioned on metric `val_loss` which is not available. Available metrics are: loss,mean_squared_error\n"
     ]
    },
    {
     "name": "stdout",
     "output_type": "stream",
     "text": [
      "WARNING:tensorflow:Early stopping conditioned on metric `val_loss` which is not available. Available metrics are: loss,mean_squared_error\n"
     ]
    },
    {
     "name": "stdout",
     "output_type": "stream",
     "text": [
      "WARNING:tensorflow:Early stopping conditioned on metric `val_loss` which is not available. Available metrics are: loss,mean_squared_error\n"
     ]
    },
    {
     "name": "stdout",
     "output_type": "stream",
     "text": [
      "WARNING:tensorflow:Early stopping conditioned on metric `val_loss` which is not available. Available metrics are: loss,mean_squared_error\n"
     ]
    },
    {
     "name": "stdout",
     "output_type": "stream",
     "text": [
      "WARNING:tensorflow:Early stopping conditioned on metric `val_loss` which is not available. Available metrics are: loss,mean_squared_error\n"
     ]
    },
    {
     "name": "stdout",
     "output_type": "stream",
     "text": [
      "WARNING:tensorflow:Early stopping conditioned on metric `val_loss` which is not available. Available metrics are: loss,mean_squared_error\n"
     ]
    },
    {
     "name": "stdout",
     "output_type": "stream",
     "text": [
      "WARNING:tensorflow:Early stopping conditioned on metric `val_loss` which is not available. Available metrics are: loss,mean_squared_error\n"
     ]
    },
    {
     "name": "stdout",
     "output_type": "stream",
     "text": [
      "WARNING:tensorflow:Early stopping conditioned on metric `val_loss` which is not available. Available metrics are: loss,mean_squared_error\n"
     ]
    },
    {
     "name": "stdout",
     "output_type": "stream",
     "text": [
      "WARNING:tensorflow:Early stopping conditioned on metric `val_loss` which is not available. Available metrics are: loss,mean_squared_error\n"
     ]
    },
    {
     "name": "stdout",
     "output_type": "stream",
     "text": [
      "WARNING:tensorflow:Early stopping conditioned on metric `val_loss` which is not available. Available metrics are: loss,mean_squared_error\n"
     ]
    },
    {
     "name": "stdout",
     "output_type": "stream",
     "text": [
      "WARNING:tensorflow:Early stopping conditioned on metric `val_loss` which is not available. Available metrics are: loss,mean_squared_error\n"
     ]
    },
    {
     "name": "stdout",
     "output_type": "stream",
     "text": [
      "WARNING:tensorflow:Early stopping conditioned on metric `val_loss` which is not available. Available metrics are: loss,mean_squared_error\n"
     ]
    },
    {
     "name": "stdout",
     "output_type": "stream",
     "text": [
      "CPU times: user 3h 33min 4s, sys: 1h 6min 57s, total: 4h 40min 2s\n",
      "Wall time: 1h 29min 12s\n"
     ]
    }
   ],
   "source": [
    "%%time\n",
    "# define the search\n",
    "search = ak.StructuredDataRegressor(loss='mean_absolute_error', \n",
    "                                    project_name=f'sdr_{expr_name}',\n",
    "                                    column_names=features_train.columns.to_list(),\n",
    "                                    overwrite=overwrite_model,\n",
    "                                    seed=42)\n",
    "# perform the search\n",
    "search.fit(x=features_train, y=targets_train, verbose=0, callbacks=[tensorboard_callback])"
   ]
  },
  {
   "cell_type": "code",
   "execution_count": 15,
   "metadata": {
    "execution": {
     "iopub.execute_input": "2020-09-22T06:11:32.737515Z",
     "iopub.status.busy": "2020-09-22T06:11:32.736981Z",
     "iopub.status.idle": "2020-09-22T06:11:35.208407Z",
     "shell.execute_reply": "2020-09-22T06:11:35.208759Z"
    },
    "papermill": {
     "duration": 2.521046,
     "end_time": "2020-09-22T06:11:35.208912",
     "exception": false,
     "start_time": "2020-09-22T06:11:32.687866",
     "status": "completed"
    },
    "tags": []
   },
   "outputs": [
    {
     "name": "stdout",
     "output_type": "stream",
     "text": [
      "MAE: 1.732\n",
      "MSE: 7.703\n"
     ]
    }
   ],
   "source": [
    "# evaluate the model\n",
    "mae, mse = search.evaluate(features_test, targets_test, verbose=0)\n",
    "print('MAE: %.3f' % mae)\n",
    "print('MSE: %.3f' % mse)"
   ]
  },
  {
   "cell_type": "code",
   "execution_count": 16,
   "metadata": {
    "execution": {
     "iopub.execute_input": "2020-09-22T06:11:35.300740Z",
     "iopub.status.busy": "2020-09-22T06:11:35.299738Z",
     "iopub.status.idle": "2020-09-22T06:11:35.991961Z",
     "shell.execute_reply": "2020-09-22T06:11:35.991417Z"
    },
    "papermill": {
     "duration": 0.738108,
     "end_time": "2020-09-22T06:11:35.992098",
     "exception": false,
     "start_time": "2020-09-22T06:11:35.253990",
     "status": "completed"
    },
    "tags": []
   },
   "outputs": [
    {
     "name": "stdout",
     "output_type": "stream",
     "text": [
      "WARNING:tensorflow:Unresolved object in checkpoint: (root).optimizer.iter\n"
     ]
    },
    {
     "name": "stdout",
     "output_type": "stream",
     "text": [
      "WARNING:tensorflow:Unresolved object in checkpoint: (root).optimizer.beta_1\n"
     ]
    },
    {
     "name": "stdout",
     "output_type": "stream",
     "text": [
      "WARNING:tensorflow:Unresolved object in checkpoint: (root).optimizer.beta_2\n"
     ]
    },
    {
     "name": "stdout",
     "output_type": "stream",
     "text": [
      "WARNING:tensorflow:Unresolved object in checkpoint: (root).optimizer.decay\n"
     ]
    },
    {
     "name": "stdout",
     "output_type": "stream",
     "text": [
      "WARNING:tensorflow:Unresolved object in checkpoint: (root).optimizer.learning_rate\n"
     ]
    },
    {
     "name": "stdout",
     "output_type": "stream",
     "text": [
      "WARNING:tensorflow:A checkpoint was restored (e.g. tf.train.Checkpoint.restore or tf.keras.Model.load_weights) but not all checkpointed values were used. See above for specific issues. Use expect_partial() on the load status object, e.g. tf.train.Checkpoint.restore(...).expect_partial(), to silence these warnings, or use assert_consumed() to make the check explicit. See https://www.tensorflow.org/guide/checkpoint#loading_mechanics for details.\n"
     ]
    },
    {
     "name": "stdout",
     "output_type": "stream",
     "text": [
      "Model: \"functional_1\"\n",
      "_________________________________________________________________\n",
      "Layer (type)                 Output Shape              Param #   \n",
      "=================================================================\n",
      "input_1 (InputLayer)         [(None, 222)]             0         \n",
      "_________________________________________________________________\n",
      "multi_category_encoding (Mul (None, 222)               0         \n",
      "_________________________________________________________________\n",
      "normalization (Normalization (None, 222)               445       \n",
      "_________________________________________________________________\n",
      "dense (Dense)                (None, 16)                3568      \n",
      "_________________________________________________________________\n",
      "batch_normalization (BatchNo (None, 16)                64        \n",
      "_________________________________________________________________\n",
      "re_lu (ReLU)                 (None, 16)                0         \n",
      "_________________________________________________________________\n",
      "dropout (Dropout)            (None, 16)                0         \n",
      "_________________________________________________________________\n",
      "regression_head_1 (Dense)    (None, 5)                 85        \n",
      "=================================================================\n",
      "Total params: 4,162\n",
      "Trainable params: 3,685\n",
      "Non-trainable params: 477\n",
      "_________________________________________________________________\n"
     ]
    }
   ],
   "source": [
    "# get the best performing model\n",
    "model = search.export_model()\n",
    "# summarize the loaded model\n",
    "model.summary()"
   ]
  },
  {
   "cell_type": "code",
   "execution_count": 17,
   "metadata": {
    "execution": {
     "iopub.execute_input": "2020-09-22T06:11:36.096801Z",
     "iopub.status.busy": "2020-09-22T06:11:36.095103Z",
     "iopub.status.idle": "2020-09-22T06:11:36.116868Z",
     "shell.execute_reply": "2020-09-22T06:11:36.116390Z"
    },
    "papermill": {
     "duration": 0.078486,
     "end_time": "2020-09-22T06:11:36.116977",
     "exception": false,
     "start_time": "2020-09-22T06:11:36.038491",
     "status": "completed"
    },
    "tags": []
   },
   "outputs": [],
   "source": [
    "# save the best performing model to file\n",
    "model.save(model_file)"
   ]
  },
  {
   "cell_type": "markdown",
   "metadata": {
    "papermill": {
     "duration": 0.047024,
     "end_time": "2020-09-22T06:11:36.209982",
     "exception": false,
     "start_time": "2020-09-22T06:11:36.162958",
     "status": "completed"
    },
    "tags": []
   },
   "source": [
    "#### see sklearn metrics"
   ]
  },
  {
   "cell_type": "code",
   "execution_count": 18,
   "metadata": {
    "execution": {
     "iopub.execute_input": "2020-09-22T06:11:36.306564Z",
     "iopub.status.busy": "2020-09-22T06:11:36.306046Z",
     "iopub.status.idle": "2020-09-22T06:11:40.725197Z",
     "shell.execute_reply": "2020-09-22T06:11:40.725601Z"
    },
    "papermill": {
     "duration": 4.470031,
     "end_time": "2020-09-22T06:11:40.725761",
     "exception": false,
     "start_time": "2020-09-22T06:11:36.255730",
     "status": "completed"
    },
    "tags": []
   },
   "outputs": [
    {
     "name": "stdout",
     "output_type": "stream",
     "text": [
      "['Basophils', 'Eosinophils', 'Lymphocytes', 'Monocytes', 'Neutrophils']\n"
     ]
    },
    {
     "name": "stdout",
     "output_type": "stream",
     "text": [
      "r2_score, raw_values: [-0.15082205  0.11441125  0.73073783 -0.02231217  0.72742464]\n",
      "mean_squared_error, raw_values: [ 0.13315726  2.2707167  15.67749595  2.6943343  17.73863375]\n",
      "mean_squared_error, uniform_average: 7.7028675933858395\n",
      "mean_absolute_error, raw_values: [0.2557863  0.98822099 2.96526921 1.25422129 3.19620537]\n",
      "mean_absolute_error, uniform_average: 1.7319406319302384\n"
     ]
    },
    {
     "name": "stdout",
     "output_type": "stream",
     "text": [
      "WARNING:tensorflow:Unresolved object in checkpoint: (root).optimizer.iter\n"
     ]
    },
    {
     "name": "stdout",
     "output_type": "stream",
     "text": [
      "WARNING:tensorflow:Unresolved object in checkpoint: (root).optimizer.beta_1\n"
     ]
    },
    {
     "name": "stdout",
     "output_type": "stream",
     "text": [
      "WARNING:tensorflow:Unresolved object in checkpoint: (root).optimizer.beta_2\n"
     ]
    },
    {
     "name": "stdout",
     "output_type": "stream",
     "text": [
      "WARNING:tensorflow:Unresolved object in checkpoint: (root).optimizer.decay\n"
     ]
    },
    {
     "name": "stdout",
     "output_type": "stream",
     "text": [
      "WARNING:tensorflow:Unresolved object in checkpoint: (root).optimizer.learning_rate\n"
     ]
    },
    {
     "name": "stdout",
     "output_type": "stream",
     "text": [
      "WARNING:tensorflow:A checkpoint was restored (e.g. tf.train.Checkpoint.restore or tf.keras.Model.load_weights) but not all checkpointed values were used. See above for specific issues. Use expect_partial() on the load status object, e.g. tf.train.Checkpoint.restore(...).expect_partial(), to silence these warnings, or use assert_consumed() to make the check explicit. See https://www.tensorflow.org/guide/checkpoint#loading_mechanics for details.\n"
     ]
    },
    {
     "name": "stdout",
     "output_type": "stream",
     "text": [
      "r2_score, raw_values: [-1.54553276e-01  1.34828199e-01  8.11129684e-01  3.79852264e-04\n",
      "  7.98648391e-01]\n",
      "mean_squared_error, raw_values: [ 0.13619227  2.19618916 10.46346538  2.97213142 13.10862656]\n",
      "mean_squared_error, uniform_average: 5.775320958988475\n",
      "mean_absolute_error, raw_values: [0.25522265 1.00166865 2.3576544  1.23108233 2.65295393]\n",
      "mean_absolute_error, uniform_average: 1.4997163929623782\n"
     ]
    }
   ],
   "source": [
    "def print_sklearn_reg_metrics(test_actual, test_predicted):\n",
    "    sk_metrics = r2_score(test_actual, test_predicted, multioutput='raw_values')\n",
    "    print(f'r2_score, raw_values: {sk_metrics}')\n",
    "    sk_metrics = mean_squared_error(test_actual, test_predicted, multioutput='raw_values')\n",
    "    print(f'mean_squared_error, raw_values: {sk_metrics}')\n",
    "    sk_metrics = mean_squared_error(test_actual, test_predicted, multioutput='uniform_average')\n",
    "    print(f'mean_squared_error, uniform_average: {sk_metrics}')\n",
    "    sk_metrics = mean_absolute_error(test_actual, test_predicted, multioutput='raw_values')\n",
    "    print(f'mean_absolute_error, raw_values: {sk_metrics}')\n",
    "    sk_metrics = mean_absolute_error(test_actual, test_predicted, multioutput='uniform_average')\n",
    "    print(f'mean_absolute_error, uniform_average: {sk_metrics}')\n",
    "\n",
    "print(cell_types)\n",
    "features_test_predicted = search.predict(features_test)\n",
    "print_sklearn_reg_metrics(targets_test, features_test_predicted)\n",
    "features_train_predicted = search.predict(features_train)\n",
    "print_sklearn_reg_metrics(targets_train, features_train_predicted)"
   ]
  },
  {
   "cell_type": "markdown",
   "metadata": {
    "papermill": {
     "duration": 0.048369,
     "end_time": "2020-09-22T06:11:40.822534",
     "exception": false,
     "start_time": "2020-09-22T06:11:40.774165",
     "status": "completed"
    },
    "tags": []
   },
   "source": [
    "#### check scores with cross fold validation"
   ]
  },
  {
   "cell_type": "code",
   "execution_count": 19,
   "metadata": {
    "execution": {
     "iopub.execute_input": "2020-09-22T06:11:40.918665Z",
     "iopub.status.busy": "2020-09-22T06:11:40.918169Z",
     "iopub.status.idle": "2020-09-22T06:11:40.920119Z",
     "shell.execute_reply": "2020-09-22T06:11:40.920516Z"
    },
    "papermill": {
     "duration": 0.051084,
     "end_time": "2020-09-22T06:11:40.920660",
     "exception": false,
     "start_time": "2020-09-22T06:11:40.869576",
     "status": "completed"
    },
    "tags": []
   },
   "outputs": [],
   "source": [
    "# n_scores = cross_val_score(model, features_train, targets_train, scoring='accuracy', cv=5, n_jobs=max_threads)\n",
    "# print(n_scores)"
   ]
  },
  {
   "cell_type": "markdown",
   "metadata": {
    "papermill": {
     "duration": 0.047995,
     "end_time": "2020-09-22T06:11:41.015684",
     "exception": false,
     "start_time": "2020-09-22T06:11:40.967689",
     "status": "completed"
    },
    "tags": []
   },
   "source": [
    "#### plot the test comparisons"
   ]
  },
  {
   "cell_type": "code",
   "execution_count": 20,
   "metadata": {
    "execution": {
     "iopub.execute_input": "2020-09-22T06:11:41.124728Z",
     "iopub.status.busy": "2020-09-22T06:11:41.124254Z",
     "iopub.status.idle": "2020-09-22T06:11:42.796334Z",
     "shell.execute_reply": "2020-09-22T06:11:42.795846Z"
    },
    "papermill": {
     "duration": 1.734679,
     "end_time": "2020-09-22T06:11:42.796450",
     "exception": false,
     "start_time": "2020-09-22T06:11:41.061771",
     "status": "completed"
    },
    "tags": []
   },
   "outputs": [
    {
     "data": {
      "image/png": "[encoded data removed]",
      "text/plain": [
       "<Figure size 432x288 with 1 Axes>"
      ]
     },
     "metadata": {
      "needs_background": "light"
     },
     "output_type": "display_data"
    },
    {
     "data": {
      "image/png": "[encoded data removed]",
      "text/plain": [
       "<Figure size 432x288 with 1 Axes>"
      ]
     },
     "metadata": {
      "needs_background": "light"
     },
     "output_type": "display_data"
    }
   ],
   "source": [
    "def plot_regressions(cell_types, actual_df, predicted_df, title):\n",
    "    for index, celltype in enumerate(cell_types):\n",
    "        sns.regplot(x=actual_df[celltype], y=predicted_df[:,index])\n",
    "    plt.xlabel('Actual cell %')\n",
    "    plt.ylabel('Predicted cell %')\n",
    "    plt.title(f'Actual vs Predicted: {title}')\n",
    "    plt.legend(cell_types, bbox_to_anchor=(1, 1))\n",
    "    plt.show()\n",
    "    \n",
    "plot_regressions(cell_types, targets_test, features_test_predicted, 'test data')\n",
    "plot_regressions(cell_types, targets_train, features_train_predicted, 'train data')"
   ]
  },
  {
   "cell_type": "markdown",
   "metadata": {
    "papermill": {
     "duration": 0.049577,
     "end_time": "2020-09-22T06:11:42.896029",
     "exception": false,
     "start_time": "2020-09-22T06:11:42.846452",
     "status": "completed"
    },
    "tags": []
   },
   "source": [
    "#### plot the model"
   ]
  },
  {
   "cell_type": "code",
   "execution_count": 21,
   "metadata": {
    "execution": {
     "iopub.execute_input": "2020-09-22T06:11:43.000550Z",
     "iopub.status.busy": "2020-09-22T06:11:43.000029Z",
     "iopub.status.idle": "2020-09-22T06:11:43.502797Z",
     "shell.execute_reply": "2020-09-22T06:11:43.503174Z"
    },
    "papermill": {
     "duration": 0.556848,
     "end_time": "2020-09-22T06:11:43.503335",
     "exception": false,
     "start_time": "2020-09-22T06:11:42.946487",
     "status": "completed"
    },
    "tags": []
   },
   "outputs": [
    {
     "data": {
      "image/png": "[encoded data removed]",
      "text/plain": [
       "<IPython.core.display.Image object>"
      ]
     },
     "execution_count": 21,
     "metadata": {},
     "output_type": "execute_result"
    }
   ],
   "source": [
    "import keras\n",
    "keras.utils.plot_model(model, f'{expr_name}_model_with_shape_info.png', show_shapes=True)\n"
   ]
  },
  {
   "cell_type": "markdown",
   "metadata": {
    "papermill": {
     "duration": 0.052029,
     "end_time": "2020-09-22T06:11:43.606462",
     "exception": false,
     "start_time": "2020-09-22T06:11:43.554433",
     "status": "completed"
    },
    "tags": []
   },
   "source": [
    "#### now predict fractions for samples that don't have them"
   ]
  },
  {
   "cell_type": "code",
   "execution_count": 22,
   "metadata": {
    "execution": {
     "iopub.execute_input": "2020-09-22T06:11:43.716085Z",
     "iopub.status.busy": "2020-09-22T06:11:43.715598Z",
     "iopub.status.idle": "2020-09-22T06:11:43.720624Z",
     "shell.execute_reply": "2020-09-22T06:11:43.720999Z"
    },
    "papermill": {
     "duration": 0.062031,
     "end_time": "2020-09-22T06:11:43.721141",
     "exception": false,
     "start_time": "2020-09-22T06:11:43.659110",
     "status": "completed"
    },
    "tags": []
   },
   "outputs": [
    {
     "name": "stdout",
     "output_type": "stream",
     "text": [
      "(2806, 222)\n"
     ]
    }
   ],
   "source": [
    "missing_fracs_expr_df = expr_df.loc[~expr_df.index.isin(data_df.index)]\n",
    "print(missing_fracs_expr_df.shape)"
   ]
  },
  {
   "cell_type": "code",
   "execution_count": 23,
   "metadata": {
    "execution": {
     "iopub.execute_input": "2020-09-22T06:11:44.371562Z",
     "iopub.status.busy": "2020-09-22T06:11:44.371061Z",
     "iopub.status.idle": "2020-09-22T06:11:47.496817Z",
     "shell.execute_reply": "2020-09-22T06:11:47.496290Z"
    },
    "papermill": {
     "duration": 3.72376,
     "end_time": "2020-09-22T06:11:47.496936",
     "exception": false,
     "start_time": "2020-09-22T06:11:43.773176",
     "status": "completed"
    },
    "tags": []
   },
   "outputs": [
    {
     "name": "stdout",
     "output_type": "stream",
     "text": [
      "WARNING:tensorflow:Unresolved object in checkpoint: (root).optimizer.iter\n"
     ]
    },
    {
     "name": "stdout",
     "output_type": "stream",
     "text": [
      "WARNING:tensorflow:Unresolved object in checkpoint: (root).optimizer.beta_1\n"
     ]
    },
    {
     "name": "stdout",
     "output_type": "stream",
     "text": [
      "WARNING:tensorflow:Unresolved object in checkpoint: (root).optimizer.beta_2\n"
     ]
    },
    {
     "name": "stdout",
     "output_type": "stream",
     "text": [
      "WARNING:tensorflow:Unresolved object in checkpoint: (root).optimizer.decay\n"
     ]
    },
    {
     "name": "stdout",
     "output_type": "stream",
     "text": [
      "WARNING:tensorflow:Unresolved object in checkpoint: (root).optimizer.learning_rate\n"
     ]
    },
    {
     "name": "stdout",
     "output_type": "stream",
     "text": [
      "WARNING:tensorflow:A checkpoint was restored (e.g. tf.train.Checkpoint.restore or tf.keras.Model.load_weights) but not all checkpointed values were used. See above for specific issues. Use expect_partial() on the load status object, e.g. tf.train.Checkpoint.restore(...).expect_partial(), to silence these warnings, or use assert_consumed() to make the check explicit. See https://www.tensorflow.org/guide/checkpoint#loading_mechanics for details.\n"
     ]
    }
   ],
   "source": [
    "missing_predicted = search.predict(missing_fracs_expr_df)"
   ]
  },
  {
   "cell_type": "code",
   "execution_count": 24,
   "metadata": {
    "execution": {
     "iopub.execute_input": "2020-09-22T06:11:47.607073Z",
     "iopub.status.busy": "2020-09-22T06:11:47.606583Z",
     "iopub.status.idle": "2020-09-22T06:11:47.625988Z",
     "shell.execute_reply": "2020-09-22T06:11:47.625591Z"
    },
    "papermill": {
     "duration": 0.076294,
     "end_time": "2020-09-22T06:11:47.626109",
     "exception": false,
     "start_time": "2020-09-22T06:11:47.549815",
     "status": "completed"
    },
    "tags": []
   },
   "outputs": [],
   "source": [
    "missing_predicted_df = pd.DataFrame(data=missing_predicted, columns=cell_types, \n",
    "                                 index=missing_fracs_expr_df.index)\n",
    "missing_predicted_df.index.name = 'rnaid'\n",
    "missing_predicted_df.to_csv(predicted_fractions_for_missing_file)"
   ]
  },
  {
   "cell_type": "code",
   "execution_count": 25,
   "metadata": {
    "execution": {
     "iopub.execute_input": "2020-09-22T06:11:47.735037Z",
     "iopub.status.busy": "2020-09-22T06:11:47.734563Z",
     "iopub.status.idle": "2020-09-22T06:11:47.737342Z",
     "shell.execute_reply": "2020-09-22T06:11:47.736918Z"
    },
    "papermill": {
     "duration": 0.059595,
     "end_time": "2020-09-22T06:11:47.737458",
     "exception": false,
     "start_time": "2020-09-22T06:11:47.677863",
     "status": "completed"
    },
    "tags": []
   },
   "outputs": [
    {
     "data": {
      "text/plain": [
       "Basophils       0.514776\n",
       "Eosinophils     1.842864\n",
       "Lymphocytes    28.886707\n",
       "Monocytes       5.928726\n",
       "Neutrophils    61.536224\n",
       "dtype: float32"
      ]
     },
     "execution_count": 25,
     "metadata": {},
     "output_type": "execute_result"
    }
   ],
   "source": [
    "missing_predicted_df.mean(axis=0)"
   ]
  },
  {
   "cell_type": "code",
   "execution_count": 26,
   "metadata": {
    "execution": {
     "iopub.execute_input": "2020-09-22T06:11:47.850459Z",
     "iopub.status.busy": "2020-09-22T06:11:47.849944Z",
     "iopub.status.idle": "2020-09-22T06:11:47.852205Z",
     "shell.execute_reply": "2020-09-22T06:11:47.852661Z"
    },
    "papermill": {
     "duration": 0.060765,
     "end_time": "2020-09-22T06:11:47.852792",
     "exception": false,
     "start_time": "2020-09-22T06:11:47.792027",
     "status": "completed"
    },
    "tags": []
   },
   "outputs": [
    {
     "data": {
      "text/plain": [
       "Basophils       0.643819\n",
       "Eosinophils     2.434073\n",
       "Lymphocytes    28.090808\n",
       "Monocytes       6.404437\n",
       "Neutrophils    62.426387\n",
       "dtype: float64"
      ]
     },
     "execution_count": 26,
     "metadata": {},
     "output_type": "execute_result"
    }
   ],
   "source": [
    "targets_train.mean(axis=0)"
   ]
  },
  {
   "cell_type": "code",
   "execution_count": 27,
   "metadata": {
    "execution": {
     "iopub.execute_input": "2020-09-22T06:11:47.976451Z",
     "iopub.status.busy": "2020-09-22T06:11:47.975932Z",
     "iopub.status.idle": "2020-09-22T06:11:48.938683Z",
     "shell.execute_reply": "2020-09-22T06:11:48.938140Z"
    },
    "papermill": {
     "duration": 1.032725,
     "end_time": "2020-09-22T06:11:48.938805",
     "exception": false,
     "start_time": "2020-09-22T06:11:47.906080",
     "status": "completed"
    },
    "tags": []
   },
   "outputs": [
    {
     "data": {
      "image/png": "[encoded data removed]",
      "text/plain": [
       "<Figure size 432x288 with 1 Axes>"
      ]
     },
     "metadata": {
      "needs_background": "light"
     },
     "output_type": "display_data"
    },
    {
     "data": {
      "image/png": "[encoded data removed]",
      "text/plain": [
       "<Figure size 432x288 with 1 Axes>"
      ]
     },
     "metadata": {
      "needs_background": "light"
     },
     "output_type": "display_data"
    },
    {
     "data": {
      "image/png": "[encoded data removed]",
      "text/plain": [
       "<Figure size 432x288 with 1 Axes>"
      ]
     },
     "metadata": {
      "needs_background": "light"
     },
     "output_type": "display_data"
    },
    {
     "data": {
      "image/png": "[encoded data removed]",
      "text/plain": [
       "<Figure size 432x288 with 1 Axes>"
      ]
     },
     "metadata": {
      "needs_background": "light"
     },
     "output_type": "display_data"
    },
    {
     "data": {
      "image/png": "[encoded data removed]",
      "text/plain": [
       "<Figure size 432x288 with 1 Axes>"
      ]
     },
     "metadata": {
      "needs_background": "light"
     },
     "output_type": "display_data"
    }
   ],
   "source": [
    "def plot_densities(cell_types, known_df, predicted_df):\n",
    "    for index, celltype in enumerate(cell_types):\n",
    "        sns.distplot(known_df[celltype], rug=True, hist=False)\n",
    "        sns.distplot(predicted_df[celltype], rug=True, hist=False)\n",
    "        plt.xlabel('Known')\n",
    "        plt.ylabel('Predicted')\n",
    "        plt.title(f'Known vs Predicted: {celltype}')\n",
    "        plt.legend(['known', 'predicted'], bbox_to_anchor=(1, 1))\n",
    "        plt.show()\n",
    "    \n",
    "plot_densities(cell_types, targets_train, missing_predicted_df)"
   ]
  },
  {
   "cell_type": "code",
   "execution_count": null,
   "metadata": {
    "papermill": {
     "duration": 0.060065,
     "end_time": "2020-09-22T06:11:49.059566",
     "exception": false,
     "start_time": "2020-09-22T06:11:48.999501",
     "status": "completed"
    },
    "tags": []
   },
   "outputs": [],
   "source": []
  }
 ],
 "metadata": {
  "environment": {
   "name": "tf2-2-3-gpu.2-3.m55",
   "type": "gcloud",
   "uri": "gcr.io/deeplearning-platform-release/tf2-2-3-gpu.2-3:m55"
  },
  "kernelspec": {
   "display_name": "Python 3",
   "language": "python",
   "name": "python3"
  },
  "language_info": {
   "codemirror_mode": {
    "name": "ipython",
    "version": 3
   },
   "file_extension": ".py",
   "mimetype": "text/x-python",
   "name": "python",
   "nbconvert_exporter": "python",
   "pygments_lexer": "ipython3",
   "version": "3.7.8"
  },
  "papermill": {
   "duration": 5389.202166,
   "end_time": "2020-09-22T06:11:51.460256",
   "environment_variables": {},
   "exception": null,
   "input_path": "dl_cell_fractions_from_expression.ipynb",
   "output_path": "pm_gend_nbs/dl_specific_cell_fractions_from_expression.ipynb",
   "parameters": {
    "add_random": true,
    "cohort": "ppmi",
    "expr_name": "specific",
    "overwrite_model": true
   },
   "start_time": "2020-09-22T04:42:02.258090",
   "version": "2.1.2"
  }
 },
 "nbformat": 4,
 "nbformat_minor": 4
}