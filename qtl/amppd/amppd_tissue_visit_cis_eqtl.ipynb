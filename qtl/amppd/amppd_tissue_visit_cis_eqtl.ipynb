{
 "cells": [
  {
   "cell_type": "markdown",
   "metadata": {},
   "source": [
    "## Notebook to run eQTL analysis"
   ]
  },
  {
   "cell_type": "markdown",
   "metadata": {},
   "source": [
    "#### import libraries and set notebook variables"
   ]
  },
  {
   "cell_type": "code",
   "execution_count": 1,
   "metadata": {},
   "outputs": [],
   "source": [
    "import pandas as pd\n",
    "import random\n",
    "import os\n",
    "import numpy as np\n",
    "import threading\n",
    "import dask.dataframe as dd\n",
    "import statsmodels.stats.multitest as smm"
   ]
  },
  {
   "cell_type": "code",
   "execution_count": null,
   "metadata": {
    "tags": [
     "parameters"
    ]
   },
   "outputs": [],
   "source": [
    "# parameter variables\n",
    "cohort = 'ppmi'\n",
    "amp_abbr = 'PP'\n",
    "version = 'amppdv1'\n",
    "tissue = 'wb'\n",
    "visit = 0\n",
    "visit_name = 'BLM0T1'"
   ]
  },
  {
   "cell_type": "code",
   "execution_count": 2,
   "metadata": {},
   "outputs": [],
   "source": [
    "# naming\n",
    "cohort_version = f'{cohort}.{version}'\n",
    "cohort_build = f'{cohort}.{tissue}{visit}'\n",
    "\n",
    "# directories\n",
    "wrk_dir = f'/labshare/raph/eqtl/{cohort}'\n",
    "geno_dir = f'{wrk_dir}/genotypes'\n",
    "expr_dir = f'{wrk_dir}/expression'\n",
    "info_dir = f'{wrk_dir}/sample_info'\n",
    "plink_out_dir = f'{wrk_dir}/plink/output'\n",
    "results_dir = f'{wrk_dir}/results'\n",
    "\n",
    "# input files\n",
    "gencode_pkl = '/labshare/raph/datasets/amppd/expression/gencode.v29.primary_assembly.annotation.pkl'\n",
    "expr_pheno_file = '{exprdir}/{cohortbuild}.chr{chr}.pheno'\n",
    "pfiles = '{genodir}/{cohortversion}.chr{chr}'\n",
    "genome_index_file = '/labseq/Genomes/GRCh38_hg38/broad.v0/Homo_sapiens_assembly38.fasta.fai'\n",
    "\n",
    "# output files\n",
    "eqtl_psam = f'{info_dir}/{cohort_build}.psam'\n",
    "chr_detected_out_file = '{exprdir}/{cohortbuild}.detected.genes.chr{chr}'\n",
    "plink_glm_out_dir = f'{plink_out_dir}/glm'\n",
    "\n",
    "# constant values\n",
    "autosomes = [str(x) for x in list(range(1,23))]\n",
    "max_dist = 1000000\n",
    "capture_out = !(nproc)\n",
    "max_threads = int(capture_out[0])\n",
    "alpha_value = 0.05"
   ]
  },
  {
   "cell_type": "markdown",
   "metadata": {},
   "source": [
    "#### threading related functions"
   ]
  },
  {
   "cell_type": "code",
   "execution_count": 3,
   "metadata": {},
   "outputs": [],
   "source": [
    "# run command line procsss with bash majic\n",
    "# make this a small function so it can be target function for threading\n",
    "def run_bash_cmd(this_cmd):\n",
    "    !{this_cmd}\n",
    "\n",
    "# for each bash command is list add to execution thread, join and wait til all done\n",
    "def run_bash_cmds_threaded(cmd_list):\n",
    "    job_threads = []\n",
    "    for this_cmd in cmd_list:\n",
    "        this_thread = threading.Thread(target=run_bash_cmd, args=(this_cmd,))\n",
    "        job_threads.append(this_thread)\n",
    "        this_thread.start()\n",
    "\n",
    "    for job_thread in job_threads:\n",
    "        job_thread.join()          "
   ]
  },
  {
   "cell_type": "markdown",
   "metadata": {},
   "source": [
    "#### check random autosome and see how many samples are in both genotypes and expression files"
   ]
  },
  {
   "cell_type": "code",
   "execution_count": 4,
   "metadata": {},
   "outputs": [
    {
     "name": "stdout",
     "output_type": "stream",
     "text": [
      "chrom 10 psam shape is (1381, 4)\n",
      "chrom 10 expr shape is (1512, 620)\n",
      "number of samples intersecting between geno and expr is 1291\n"
     ]
    }
   ],
   "source": [
    "chrom = random.sample(autosomes, 1)[0]\n",
    "# read the psam\n",
    "psam_df = pd.read_csv(pfiles.format(genodir=geno_dir,\n",
    "                                    cohortversion=cohort_version, chr=chrom) + '.psam',\n",
    "                      sep='\\s+')\n",
    "print(f'chrom {chrom} psam shape is {psam_df.shape}')\n",
    "expr_df = pd.read_csv(expr_pheno_file.format(exprdir=expr_dir,\n",
    "                                             cohortbuild=cohort_build, chr=chrom),\n",
    "                      sep='\\s+')\n",
    "print(f'chrom {chrom} expr shape is {expr_df.shape}')\n",
    "\n",
    "keep_psam_df = psam_df.loc[psam_df['IID'].isin(expr_df['IID'])]\n",
    "print(f'number of samples intersecting between geno and expr is {keep_psam_df.shape[0]}')\n",
    "\n",
    "# save the psam for those samples that are present\n",
    "keep_psam_df.to_csv(eqtl_psam, index=False, sep='\\t')"
   ]
  },
  {
   "cell_type": "markdown",
   "metadata": {},
   "source": [
    "#### load the gencode annotations"
   ]
  },
  {
   "cell_type": "code",
   "execution_count": 5,
   "metadata": {},
   "outputs": [
    {
     "name": "stdout",
     "output_type": "stream",
     "text": [
      "(2742734, 91)\n",
      "(3366, 5)\n"
     ]
    }
   ],
   "source": [
    "gencode_df = pd.read_pickle(gencode_pkl)\n",
    "print(gencode_df.shape)\n",
    "chr_lengths_df = pd.read_csv(genome_index_file, header=None, sep='\\t')\n",
    "print(chr_lengths_df.shape)"
   ]
  },
  {
   "cell_type": "markdown",
   "metadata": {},
   "source": [
    "#### format the plink2 glm jobs"
   ]
  },
  {
   "cell_type": "code",
   "execution_count": 6,
   "metadata": {},
   "outputs": [],
   "source": [
    "def subset_gene_annots(gene_ids, gencode_df, expr_dir, cohort_build, chrom):\n",
    "    chr_genes_df = gencode_df.loc[gencode_df['gene_id'].isin(gene_ids)].copy()\n",
    "    # compute the +/- cis proximal start and stop\n",
    "    chr_genes_df['cisstart'] = chr_genes_df['start'] - max_dist\n",
    "    chr_genes_df['cisstop'] = chr_genes_df['end'] + max_dist    \n",
    "    # clean up if cis start or end is beyond chromosome beginning or end\n",
    "    chr_genes_df.loc[chr_genes_df['cisstart'] < 0, 'cisstart'] = 0\n",
    "    max_end = chr_lengths_df.loc[chr_lengths_df[0] == 'chr{}'.format(chrom),1].values[0]\n",
    "    chr_genes_df.loc[chr_genes_df['cisstop'] > max_end, 'cisstop'] = max_end\n",
    "    chr_genes_df = chr_genes_df[['gene_id', 'transcript_id','seqname', 'start',\n",
    "                                 'end', 'strand', 'cisstart', 'cisstop', 'gene_name']]\n",
    "    chr_genes_df.drop_duplicates(keep='first', inplace=True)\n",
    "    return chr_genes_df\n",
    "\n",
    "\n",
    "def largest_cis_gene_boundry(gene_id, genes_df):\n",
    "    this_gene_df = genes_df.loc[genes_df['gene_id'] == gene_id]\n",
    "    min_start = this_gene_df['cisstart'].min()\n",
    "    max_stop =  this_gene_df['cisstop'].max()\n",
    "    return min_start, max_stop\n",
    "    \n",
    "\n",
    "def frmt_plink2_glm_cmd(pfile, pheno_file, chrom, start_bp, end_bp, pheno_name,\n",
    "                        samples_file, out_dir, name, min_mac = 5, max_miss_rate = 0.05):\n",
    "    this_cmd = f'plink2 --silent --pfile {pfile} \\\n",
    "--mac {min_mac} --geno {max_miss_rate} --glm cols=+a1count,+a1freq \\\n",
    "--pheno {pheno_file} --pheno-name {pheno_name} \\\n",
    "--chr chr{chrom} --from-bp {start_bp} --to-bp {end_bp} \\\n",
    "--keep {samples_file} --out {out_dir}/{name}'\n",
    "    return this_cmd"
   ]
  },
  {
   "cell_type": "code",
   "execution_count": 7,
   "metadata": {},
   "outputs": [
    {
     "name": "stdout",
     "output_type": "stream",
     "text": [
      "CPU times: user 2min, sys: 1.72 s, total: 2min 2s\n",
      "Wall time: 2min 2s\n"
     ]
    }
   ],
   "source": [
    "%%time\n",
    "\n",
    "plink_glm_cmds = []\n",
    "for chrom in autosomes:\n",
    "    # load the pheno file\n",
    "    pheno_file = expr_pheno_file.format(exprdir=expr_dir,\n",
    "                                        cohortbuild=cohort_build, chr=chrom)\n",
    "    expr_df = pd.read_csv(pheno_file, sep='\\s+')\n",
    "    # get list of gene IDs preset, drop the sample ID cols\n",
    "    chr_gene_ids_list = list(set(expr_df.columns) - set({'FID', 'IID'}))\n",
    "    chr_genes_df = subset_gene_annots(chr_gene_ids_list, gencode_df, expr_dir,\n",
    "                                      cohort_build, chrom)\n",
    "    this_file = chr_detected_out_file.format(exprdir=expr_dir,\n",
    "                                             cohortbuild=cohort_build,\n",
    "                                             chr=chrom)\n",
    "    chr_genes_df.to_csv(this_file, sep='\\t', index=False, header=True)\n",
    "    \n",
    "    # setup the output dir for running the glm per trait\n",
    "    chr_out_dir = f'{plink_glm_out_dir}/chr{chrom}'\n",
    "    os.makedirs(chr_out_dir, exist_ok=True)\n",
    "    # iterate over genes in chrom to format plink2 glm tests\n",
    "    for gene_id in chr_gene_ids_list:\n",
    "        cisstart, cisstop = largest_cis_gene_boundry(gene_id, chr_genes_df)\n",
    "        pfile = pfiles.format(genodir=geno_dir, \n",
    "                              cohortversion=cohort_version, chr=chrom)\n",
    "        this_cmd = frmt_plink2_glm_cmd(pfile, pheno_file, chrom, cisstart, \n",
    "                                       cisstop, gene_id, eqtl_psam,\n",
    "                                       chr_out_dir, cohort_build)\n",
    "        plink_glm_cmds.append(this_cmd)"
   ]
  },
  {
   "cell_type": "markdown",
   "metadata": {},
   "source": [
    "#### run the glm jobs threaded"
   ]
  },
  {
   "cell_type": "code",
   "execution_count": 8,
   "metadata": {},
   "outputs": [
    {
     "name": "stdout",
     "output_type": "stream",
     "text": [
      "16169\n",
      "336\n"
     ]
    }
   ],
   "source": [
    "print(len(plink_glm_cmds))\n",
    "# split the command list into max proc bins\n",
    "glm_cmds_partioned = np.array_split(plink_glm_cmds, \n",
    "                                    np.floor(len(plink_glm_cmds)/max_threads/2))\n",
    "print(len(glm_cmds_partioned))"
   ]
  },
  {
   "cell_type": "code",
   "execution_count": 9,
   "metadata": {},
   "outputs": [
    {
     "name": "stdout",
     "output_type": "stream",
     "text": [
      "0 1 2 3 4 5 6 7 8 9 10 11 12 13 14 15 16 17 18 19 20 21 22 23 24 25 26 27 28 29 30 31 32 33 34 35 36 37 38 39 40 41 42 43 44 45 46 47 48 49 50 51 52 53 54 55 56 57 58 59 60 61 62 63 64 65 66 67 68 69 70 71 72 73 74 75 76 77 78 79 80 81 82 83 84 85 86 87 88 89 90 91 92 93 94 95 96 97 98 99 100 101 102 103 104 105 106 107 108 109 110 111 112 113 114 115 116 117 118 119 120 121 122 123 124 125 126 127 128 129 130 131 132 133 134 135 136 137 138 139 140 141 142 143 144 145 146 147 148 149 150 151 152 153 154 155 156 157 158 159 160 161 162 163 164 165 166 167 168 169 170 171 172 173 174 175 176 177 178 179 180 181 182 183 184 185 186 187 188 189 190 191 192 193 194 195 196 197 198 199 200 201 202 203 204 205 206 207 208 209 210 211 212 213 214 215 216 217 218 219 220 221 222 223 224 225 226 227 228 229 230 231 232 233 234 235 236 237 238 239 240 241 242 243 244 245 246 247 248 249 Error: No variants remaining after main filters.\n",
      "250 251 252 253 254 255 256 257 258 259 260 261 262 263 264 265 266 267 268 269 270 271 272 273 274 275 276 277 278 279 280 281 282 283 284 285 286 287 288 289 290 291 292 293 294 295 296 297 298 299 300 301 302 303 304 305 306 307 308 309 310 311 312 313 314 315 316 317 318 319 320 321 Error: No variants remaining after main filters.\n",
      "322 Error: No variants remaining after main filters.\n",
      "323 324 325 Error: No variants remaining after main filters.\n",
      "326 Error: No variants remaining after main filters.\n",
      "327 Error: No variants remaining after main filters.\n",
      "328 329 330 331 332 333 334 335 CPU times: user 3h 23min 31s, sys: 1h 29min 54s, total: 4h 53min 25s\n",
      "Wall time: 5h 41min 25s\n"
     ]
    }
   ],
   "source": [
    "%%time\n",
    "\n",
    "# interate over the batches of jobs running each sub-batch in parallel\n",
    "for index, this_list in enumerate(glm_cmds_partioned):\n",
    "    print(index, end=' ')\n",
    "    run_bash_cmds_threaded(this_list.tolist())"
   ]
  },
  {
   "cell_type": "markdown",
   "metadata": {},
   "source": [
    "#### rough check of output file counts"
   ]
  },
  {
   "cell_type": "code",
   "execution_count": 14,
   "metadata": {},
   "outputs": [
    {
     "name": "stdout",
     "output_type": "stream",
     "text": [
      "16163\n"
     ]
    }
   ],
   "source": [
    "!ls -lh {plink_glm_out_dir}/chr*/{cohort_build}.*.glm.linear | wc -l"
   ]
  },
  {
   "cell_type": "markdown",
   "metadata": {},
   "source": [
    "#### accumulate results by chromosome"
   ]
  },
  {
   "cell_type": "code",
   "execution_count": 11,
   "metadata": {},
   "outputs": [],
   "source": [
    "# small function to parse in plink2 glm linear results files\n",
    "def read_chrom_glm_linear_results(in_dir, chrom, name, \n",
    "                                  min_mac = 5, min_freq = 0.01):\n",
    "    results_files = f'{in_dir}/chr{chrom}/{name}.*.glm.linear'\n",
    "    # specify the col dtypes to try and conserver mem\n",
    "    col_dtypes = {'#CHROM':'int64', 'POS':'int64', 'ID':'object', 'REF':'object',\n",
    "                  'ALT':'object', 'A1':'object', 'A1_CT':'int64', \n",
    "                  'A1_FREQ':'float64', 'OBS_CT':'int64', \n",
    "                  'BETA':'float64', 'SE':'float64', 'T_STAT':'float64',\n",
    "                  'P':'float64'}\n",
    "    results_dd = dd.read_csv(results_files, sep='\\s+',\n",
    "                             dtype=col_dtypes, usecols=col_dtypes.keys(),\n",
    "                             include_path_column=True)\n",
    "    # drop variants not appropriate for analysis\n",
    "    results_dd = results_dd.loc[(results_dd['A1_CT'] >= min_mac) & \n",
    "                                (results_dd['A1_FREQ'] >= min_freq)]\n",
    "    # trim included file path\n",
    "    file_prefix = f'{in_dir}/chr{chrom}/{name}.'\n",
    "    file_type = '.glm.linear'\n",
    "    results_dd['gene_id'] = results_dd['path'].str.replace(file_prefix,'').str.replace(file_type,'')\n",
    "    # drop the path column on return\n",
    "    results_dd = results_dd.drop(columns=['path'])\n",
    "    return results_dd.compute()\n",
    "\n",
    "\n",
    "def compute_fdr(pvalues):\n",
    "    bh_adj = smm.fdrcorrection(pvalues)\n",
    "    return bh_adj[1]\n",
    "\n",
    "\n",
    "def accumulate_chrom_results(expr_dir, cohort_build, chrom, plink_glm_out_dir):\n",
    "    chrom_results_df = read_chrom_glm_linear_results(plink_glm_out_dir, chrom,\n",
    "                                                     cohort_build)\n",
    "            \n",
    "    # add the corrected p-value, note just based on all chrom gene pvalues    \n",
    "    chrom_results_df['bh_fdr'] = compute_fdr(chrom_results_df['P'].fillna(1))\n",
    "    \n",
    "    chrom_results_file = f'{plink_glm_out_dir}/{cohort_build}.chr{chrom}.glm.hdf5'\n",
    "    chrom_results_df.to_hdf(chrom_results_file, key='glm_results', mode='w')\n",
    "    print(f'chr{chrom} {chrom_results_df.shape}')"
   ]
  },
  {
   "cell_type": "code",
   "execution_count": null,
   "metadata": {},
   "outputs": [],
   "source": [
    "%%time\n",
    "\n",
    "# accumulate the chromsome results in parallel\n",
    "job_threads = []\n",
    "for chrom in autosomes:    \n",
    "    this_thread = threading.Thread(target=accumulate_chrom_results,\n",
    "                                   args=(expr_dir, cohort_build, chrom, plink_glm_out_dir))\n",
    "    job_threads.append(this_thread)\n",
    "    this_thread.start()\n",
    "\n",
    "for job_thread in job_threads:\n",
    "    job_thread.join()     "
   ]
  },
  {
   "cell_type": "markdown",
   "metadata": {},
   "source": [
    "#### accumulate the statictically significant results"
   ]
  },
  {
   "cell_type": "code",
   "execution_count": 15,
   "metadata": {},
   "outputs": [
    {
     "name": "stdout",
     "output_type": "stream",
     "text": [
      "chr1 (9009280, 15) (221873, 15) chr2 (6785142, 15) (213562, 15) chr3 (5649024, 15) (150585, 15) chr4 (4314373, 15) (147095, 15) chr5 (4528274, 15) (123351, 15) chr6 (7344353, 15) (470054, 15) chr7 (5323211, 15) (201300, 15) chr8 (3814521, 15) (113187, 15) chr9 (3849236, 15) (82274, 15) chr10 (3965972, 15) (124794, 15) chr11 (5231319, 15) (127785, 15) chr12 (5765674, 15) (188490, 15) chr13 (2121558, 15) (53770, 15) chr14 (4470382, 15) (74202, 15) chr15 (3475585, 15) (100465, 15) chr16 (4611951, 15) (99742, 15) chr17 (5824002, 15) (195911, 15) chr18 (1928191, 15) (30211, 15) chr19 (7075705, 15) (149389, 15) chr20 (2527513, 15) (51014, 15) chr21 (1139873, 15) (37096, 15) chr22 (2316754, 15) (52133, 15) (3008283, 15)\n",
      "CPU times: user 1min 15s, sys: 43 s, total: 1min 58s\n",
      "Wall time: 2min 29s\n"
     ]
    }
   ],
   "source": [
    "%%time\n",
    "\n",
    "# accumulate the statictically significant results into single file\n",
    "os.makedirs(results_dir, exist_ok=True)\n",
    "results_df = None\n",
    "for chrom in autosomes:\n",
    "    chrom_results_file = f'{plink_glm_out_dir}/{cohort_build}.chr{chrom}.glm.hdf5'\n",
    "    this_df = pd.read_hdf(chrom_results_file)\n",
    "    print(f'chr{chrom} {this_df.shape}', end=' ')\n",
    "    # subset the statictically significant results\n",
    "    this_df = this_df.loc[this_df['bh_fdr'] <= alpha_value]\n",
    "    print(this_df.shape, end=' ')\n",
    "    results_df = pd.concat([results_df, this_df])\n",
    "    \n",
    "print(results_df.shape)"
   ]
  },
  {
   "cell_type": "code",
   "execution_count": 16,
   "metadata": {},
   "outputs": [
    {
     "name": "stdout",
     "output_type": "stream",
     "text": [
      "total number of genes with eQTL 15135\n"
     ]
    }
   ],
   "source": [
    "sig_gene_cnt = len(results_df['gene_id'].unique())\n",
    "print(f'total number of genes with eQTL {sig_gene_cnt}')"
   ]
  },
  {
   "cell_type": "markdown",
   "metadata": {},
   "source": [
    "#### save the statictically significant results"
   ]
  },
  {
   "cell_type": "code",
   "execution_count": 17,
   "metadata": {},
   "outputs": [
    {
     "name": "stdout",
     "output_type": "stream",
     "text": [
      "CPU times: user 3.19 s, sys: 930 ms, total: 4.12 s\n",
      "Wall time: 4.8 s\n"
     ]
    }
   ],
   "source": [
    "%%time\n",
    "results_df.to_hdf(f'{results_dir}/{cohort_build}.eqtl.hdf5', \n",
    "                  key='glm_results', mode='w')"
   ]
  },
  {
   "cell_type": "markdown",
   "metadata": {},
   "source": [
    "#### clean up the individual gene glm files"
   ]
  },
  {
   "cell_type": "code",
   "execution_count": 18,
   "metadata": {},
   "outputs": [
    {
     "name": "stdout",
     "output_type": "stream",
     "text": [
      "ls: cannot access /labshare/raph/eqtl/ppmi/plink/output/glm/chr*/ppmi.wb0.*: No such file or directory\n",
      "0\n"
     ]
    }
   ],
   "source": [
    "for chrom in autosomes:\n",
    "    !rm {plink_glm_out_dir}/chr{chrom}/{cohort_build}.*\n",
    "    \n",
    "!ls -lh {plink_glm_out_dir}/chr*/{cohort_build}.* | wc -l"
   ]
  },
  {
   "cell_type": "code",
   "execution_count": null,
   "metadata": {},
   "outputs": [],
   "source": []
  }
 ],
 "metadata": {
  "kernelspec": {
   "display_name": "Python 3",
   "language": "python",
   "name": "python3"
  },
  "language_info": {
   "codemirror_mode": {
    "name": "ipython",
    "version": 3
   },
   "file_extension": ".py",
   "mimetype": "text/x-python",
   "name": "python",
   "nbconvert_exporter": "python",
   "pygments_lexer": "ipython3",
   "version": "3.8.5"
  },
  "toc-autonumbering": false,
  "toc-showcode": false,
  "toc-showmarkdowntxt": false
 },
 "nbformat": 4,
 "nbformat_minor": 4
}
