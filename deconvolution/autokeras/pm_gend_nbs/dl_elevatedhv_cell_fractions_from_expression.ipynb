{
 "cells": [
  {
   "cell_type": "markdown",
   "metadata": {
    "papermill": {
     "duration": 0.013937,
     "end_time": "2020-09-22T09:45:44.921747",
     "exception": false,
     "start_time": "2020-09-22T09:45:44.907810",
     "status": "completed"
    },
    "tags": []
   },
   "source": [
    "## use autokeras to learn cell fractions from gene expression"
   ]
  },
  {
   "cell_type": "markdown",
   "metadata": {
    "papermill": {
     "duration": 0.013338,
     "end_time": "2020-09-22T09:45:44.965609",
     "exception": false,
     "start_time": "2020-09-22T09:45:44.952271",
     "status": "completed"
    },
    "tags": []
   },
   "source": [
    "#### imports and notebook variables"
   ]
  },
  {
   "cell_type": "code",
   "execution_count": 1,
   "metadata": {
    "execution": {
     "iopub.execute_input": "2020-09-22T09:45:44.997758Z",
     "iopub.status.busy": "2020-09-22T09:45:44.997283Z",
     "iopub.status.idle": "2020-09-22T09:45:46.564789Z",
     "shell.execute_reply": "2020-09-22T09:45:46.565128Z"
    },
    "papermill": {
     "duration": 1.585751,
     "end_time": "2020-09-22T09:45:46.565283",
     "exception": false,
     "start_time": "2020-09-22T09:45:44.979532",
     "status": "completed"
    },
    "tags": []
   },
   "outputs": [
    {
     "name": "stderr",
     "output_type": "stream",
     "text": [
      "Using TensorFlow backend.\n"
     ]
    }
   ],
   "source": [
    "import pandas as pd\n",
    "import random\n",
    "import autokeras as ak\n",
    "from sklearn.model_selection import train_test_split\n",
    "from keras.callbacks import TensorBoard\n",
    "from sklearn.metrics import r2_score, mean_squared_error, mean_absolute_error\n",
    "from sklearn.model_selection import cross_val_score\n",
    "import seaborn as sns\n",
    "import matplotlib.pyplot as plt\n",
    "import warnings\n",
    "warnings.filterwarnings('ignore')"
   ]
  },
  {
   "cell_type": "code",
   "execution_count": 2,
   "metadata": {
    "execution": {
     "iopub.execute_input": "2020-09-22T09:45:46.597809Z",
     "iopub.status.busy": "2020-09-22T09:45:46.597238Z",
     "iopub.status.idle": "2020-09-22T09:45:46.599652Z",
     "shell.execute_reply": "2020-09-22T09:45:46.599307Z"
    },
    "papermill": {
     "duration": 0.019358,
     "end_time": "2020-09-22T09:45:46.599752",
     "exception": false,
     "start_time": "2020-09-22T09:45:46.580394",
     "status": "completed"
    },
    "tags": [
     "parameters"
    ]
   },
   "outputs": [],
   "source": [
    "# parameters\n",
    "# naming\n",
    "cohort = 'ppmi'\n",
    "# expr_name = 'enriched'\n",
    "# expr_name = 'enhanced'\n",
    "expr_name = 'specific'\n",
    "overwrite_model = False\n",
    "add_random = False"
   ]
  },
  {
   "cell_type": "code",
   "execution_count": 3,
   "metadata": {
    "execution": {
     "iopub.execute_input": "2020-09-22T09:45:46.630312Z",
     "iopub.status.busy": "2020-09-22T09:45:46.629913Z",
     "iopub.status.idle": "2020-09-22T09:45:46.631555Z",
     "shell.execute_reply": "2020-09-22T09:45:46.631903Z"
    },
    "papermill": {
     "duration": 0.018685,
     "end_time": "2020-09-22T09:45:46.632021",
     "exception": false,
     "start_time": "2020-09-22T09:45:46.613336",
     "status": "completed"
    },
    "tags": [
     "injected-parameters"
    ]
   },
   "outputs": [],
   "source": [
    "# Parameters\n",
    "cohort = \"ppmi\"\n",
    "expr_name = \"elevated\"\n",
    "overwrite_model = True\n",
    "add_random = True\n"
   ]
  },
  {
   "cell_type": "code",
   "execution_count": 4,
   "metadata": {
    "execution": {
     "iopub.execute_input": "2020-09-22T09:45:46.666062Z",
     "iopub.status.busy": "2020-09-22T09:45:46.665595Z",
     "iopub.status.idle": "2020-09-22T09:45:46.682466Z",
     "shell.execute_reply": "2020-09-22T09:45:46.681972Z"
    },
    "papermill": {
     "duration": 0.03696,
     "end_time": "2020-09-22T09:45:46.682566",
     "exception": false,
     "start_time": "2020-09-22T09:45:46.645606",
     "status": "completed"
    },
    "tags": []
   },
   "outputs": [],
   "source": [
    "# naming\n",
    "visit_months = {'BL':0, 'V02':6, 'V04':12, 'V06':24, 'V08':36}\n",
    "visit_names = {'BL':'BLM0T1', 'V02':'SVM6T1', 'V04':'SVM12T1', 'V06':'SVM24T1', 'V08':'SVM36T1'}\n",
    "cell_types = ['Basophils', 'Eosinophils', 'Lymphocytes', 'Monocytes', 'Neutrophils']\n",
    "\n",
    "# in bucket data\n",
    "expr_bckt_file = f'gs://nihnialngcbg-eqtl/amppd/salmon/quantification/{cohort}.wb.norm.hdf5'\n",
    "fracs_bckt_file = f'gs://nihnialngcbg-eqtl/amppd/clinical/{cohort}.bld_chem_fractions.csv'\n",
    "cell_genes_bckt_file = f'gs://nihnialngcbg-eqtl/amppd/salmon/quantification/blood_cell_lineage_{expr_name}_genes.csv'\n",
    "# gencode_bckt_file = 'gs://nihnialngcbg-eqtl/amppd/salmon/quantification/gencode.v29.primary_assembly.annotation.pkl'\n",
    "\n",
    "# local files\n",
    "expr_file = f'{cohort}.wb.norm.hdf5'\n",
    "fracs_file = f'{cohort}.bld_chem_fractions.csv'\n",
    "cell_genes_enriched_file = 'blood_cell_lineage_genes.csv'\n",
    "# gencode_pkl = 'gencode.v29.primary_assembly.annotation.pkl'\n",
    "model_file = f'{cohort}.{expr_name}.model.cellfracs.h5'\n",
    "predicted_fractions_for_missing_file = f'{cohort}.{expr_name}.predicted.bld_chem_fractions.csv'\n",
    "tboard_log_dir = f'./tb_{expr_name}_logs'\n",
    "train_test_file = f'{cohort}.{expr_name}.features_targets.csv'\n",
    "\n",
    "capture_out = !(nproc)\n",
    "max_threads = int(capture_out[0])"
   ]
  },
  {
   "cell_type": "markdown",
   "metadata": {
    "papermill": {
     "duration": 0.014102,
     "end_time": "2020-09-22T09:45:46.712722",
     "exception": false,
     "start_time": "2020-09-22T09:45:46.698620",
     "status": "completed"
    },
    "tags": []
   },
   "source": [
    "#### pull src data local"
   ]
  },
  {
   "cell_type": "code",
   "execution_count": 5,
   "metadata": {
    "execution": {
     "iopub.execute_input": "2020-09-22T09:45:46.751160Z",
     "iopub.status.busy": "2020-09-22T09:45:46.745915Z",
     "iopub.status.idle": "2020-09-22T09:45:58.444009Z",
     "shell.execute_reply": "2020-09-22T09:45:58.443500Z"
    },
    "papermill": {
     "duration": 11.716583,
     "end_time": "2020-09-22T09:45:58.444139",
     "exception": false,
     "start_time": "2020-09-22T09:45:46.727556",
     "status": "completed"
    },
    "tags": []
   },
   "outputs": [],
   "source": [
    "!gsutil -mq cp {expr_bckt_file} {expr_file}\n",
    "!gsutil -mq cp {fracs_bckt_file} {fracs_file}\n",
    "!gsutil -mq cp {cell_genes_bckt_file} {cell_genes_enriched_file}\n",
    "# !gsutil -mq cp {gencode_bckt_file} {gencode_pkl}"
   ]
  },
  {
   "cell_type": "markdown",
   "metadata": {
    "papermill": {
     "duration": 0.014645,
     "end_time": "2020-09-22T09:45:58.474395",
     "exception": false,
     "start_time": "2020-09-22T09:45:58.459750",
     "status": "completed"
    },
    "tags": []
   },
   "source": [
    "#### load the expression data subset for enriched genes"
   ]
  },
  {
   "cell_type": "code",
   "execution_count": 6,
   "metadata": {
    "execution": {
     "iopub.execute_input": "2020-09-22T09:45:58.507245Z",
     "iopub.status.busy": "2020-09-22T09:45:58.506808Z",
     "iopub.status.idle": "2020-09-22T09:45:59.313589Z",
     "shell.execute_reply": "2020-09-22T09:45:59.313165Z"
    },
    "papermill": {
     "duration": 0.825448,
     "end_time": "2020-09-22T09:45:59.313707",
     "exception": false,
     "start_time": "2020-09-22T09:45:58.488259",
     "status": "completed"
    },
    "tags": []
   },
   "outputs": [
    {
     "name": "stdout",
     "output_type": "stream",
     "text": [
      "all expr data (4610, 16782)\n",
      "all enriched genes (903, 2)\n",
      "found 610 of enriched genes in expression data\n"
     ]
    },
    {
     "name": "stdout",
     "output_type": "stream",
     "text": [
      "found 1219 of enriched genes plus high variance in expression data\n",
      "all enriched expr data (4610, 1219)\n"
     ]
    }
   ],
   "source": [
    "expr_df = pd.read_hdf(expr_file)\n",
    "print(f'all expr data {expr_df.shape}')\n",
    "enriched_genes = pd.read_csv(cell_genes_enriched_file)\n",
    "print(f'all enriched genes {enriched_genes.shape}')\n",
    "gene_id_to_keep = set(enriched_genes['gene_id']) & set(expr_df.columns)\n",
    "print(f'found {len(gene_id_to_keep)} of enriched genes in expression data')\n",
    "if add_random:\n",
    "    quants_vars = expr_df.var() \n",
    "    gene_id_to_keep = gene_id_to_keep | set(quants_vars.sort_values(ascending=False).head(len(gene_id_to_keep)).index)\n",
    "    print(f'found {len(gene_id_to_keep)} of enriched genes plus high variance in expression data')\n",
    "expr_df = expr_df[list(gene_id_to_keep)]\n",
    "print(f'all enriched expr data {expr_df.shape}')"
   ]
  },
  {
   "cell_type": "markdown",
   "metadata": {
    "papermill": {
     "duration": 0.014382,
     "end_time": "2020-09-22T09:45:59.343804",
     "exception": false,
     "start_time": "2020-09-22T09:45:59.329422",
     "status": "completed"
    },
    "tags": []
   },
   "source": [
    "#### load the cell fractions data"
   ]
  },
  {
   "cell_type": "code",
   "execution_count": 7,
   "metadata": {
    "execution": {
     "iopub.execute_input": "2020-09-22T09:45:59.376282Z",
     "iopub.status.busy": "2020-09-22T09:45:59.375875Z",
     "iopub.status.idle": "2020-09-22T09:45:59.382364Z",
     "shell.execute_reply": "2020-09-22T09:45:59.382007Z"
    },
    "papermill": {
     "duration": 0.024195,
     "end_time": "2020-09-22T09:45:59.382456",
     "exception": false,
     "start_time": "2020-09-22T09:45:59.358261",
     "status": "completed"
    },
    "tags": []
   },
   "outputs": [
    {
     "name": "stdout",
     "output_type": "stream",
     "text": [
      "(5035, 7)\n"
     ]
    }
   ],
   "source": [
    "fracs_df = pd.read_csv(fracs_file)\n",
    "print(fracs_df.shape)"
   ]
  },
  {
   "cell_type": "code",
   "execution_count": 8,
   "metadata": {
    "execution": {
     "iopub.execute_input": "2020-09-22T09:45:59.418492Z",
     "iopub.status.busy": "2020-09-22T09:45:59.415925Z",
     "iopub.status.idle": "2020-09-22T09:45:59.433100Z",
     "shell.execute_reply": "2020-09-22T09:45:59.433446Z"
    },
    "papermill": {
     "duration": 0.036791,
     "end_time": "2020-09-22T09:45:59.433560",
     "exception": false,
     "start_time": "2020-09-22T09:45:59.396769",
     "status": "completed"
    },
    "tags": []
   },
   "outputs": [
    {
     "name": "stdout",
     "output_type": "stream",
     "text": [
      "(2387, 5)\n"
     ]
    }
   ],
   "source": [
    "# set the rna IDs to the match the IDs in the expression matrix\n",
    "for visit_number, visit_name in visit_names.items():\n",
    "    fracs_df.loc[fracs_df['visit'] == visit_number, 'rnaid'] = fracs_df['id'] + '-' + visit_name \n",
    "\n",
    "# drop the samples where a rnaid wasn't set, ie nans\n",
    "fracs_df.dropna(subset=['rnaid'], inplace=True)\n",
    "# set this new id as the index\n",
    "fracs_df.set_index('rnaid', drop=True, inplace=True)\n",
    "# and then drop original id and visit\n",
    "fracs_df.drop(columns=['id', 'visit'], inplace=True)    \n",
    "print(fracs_df.shape)"
   ]
  },
  {
   "cell_type": "code",
   "execution_count": 9,
   "metadata": {
    "execution": {
     "iopub.execute_input": "2020-09-22T09:45:59.470745Z",
     "iopub.status.busy": "2020-09-22T09:45:59.470344Z",
     "iopub.status.idle": "2020-09-22T09:45:59.488139Z",
     "shell.execute_reply": "2020-09-22T09:45:59.488506Z"
    },
    "papermill": {
     "duration": 0.038893,
     "end_time": "2020-09-22T09:45:59.488630",
     "exception": false,
     "start_time": "2020-09-22T09:45:59.449737",
     "status": "completed"
    },
    "tags": []
   },
   "outputs": [
    {
     "data": {
      "text/html": [
       "<div>\n",
       "<style scoped>\n",
       "    .dataframe tbody tr th:only-of-type {\n",
       "        vertical-align: middle;\n",
       "    }\n",
       "\n",
       "    .dataframe tbody tr th {\n",
       "        vertical-align: top;\n",
       "    }\n",
       "\n",
       "    .dataframe thead th {\n",
       "        text-align: right;\n",
       "    }\n",
       "</style>\n",
       "<table border=\"1\" class=\"dataframe\">\n",
       "  <thead>\n",
       "    <tr style=\"text-align: right;\">\n",
       "      <th></th>\n",
       "      <th>Basophils</th>\n",
       "      <th>Eosinophils</th>\n",
       "      <th>Lymphocytes</th>\n",
       "      <th>Monocytes</th>\n",
       "      <th>Neutrophils</th>\n",
       "    </tr>\n",
       "  </thead>\n",
       "  <tbody>\n",
       "    <tr>\n",
       "      <th>count</th>\n",
       "      <td>2387.000000</td>\n",
       "      <td>2387.000000</td>\n",
       "      <td>2387.000000</td>\n",
       "      <td>2387.000000</td>\n",
       "      <td>2387.000000</td>\n",
       "    </tr>\n",
       "    <tr>\n",
       "      <th>mean</th>\n",
       "      <td>0.642648</td>\n",
       "      <td>2.392333</td>\n",
       "      <td>28.050021</td>\n",
       "      <td>6.379933</td>\n",
       "      <td>62.535023</td>\n",
       "    </tr>\n",
       "    <tr>\n",
       "      <th>std</th>\n",
       "      <td>0.340675</td>\n",
       "      <td>1.597931</td>\n",
       "      <td>7.397466</td>\n",
       "      <td>1.714341</td>\n",
       "      <td>7.934574</td>\n",
       "    </tr>\n",
       "    <tr>\n",
       "      <th>min</th>\n",
       "      <td>0.000000</td>\n",
       "      <td>0.000000</td>\n",
       "      <td>5.500000</td>\n",
       "      <td>1.000000</td>\n",
       "      <td>25.000000</td>\n",
       "    </tr>\n",
       "    <tr>\n",
       "      <th>25%</th>\n",
       "      <td>0.400000</td>\n",
       "      <td>1.400000</td>\n",
       "      <td>22.900000</td>\n",
       "      <td>5.300000</td>\n",
       "      <td>57.300000</td>\n",
       "    </tr>\n",
       "    <tr>\n",
       "      <th>50%</th>\n",
       "      <td>0.600000</td>\n",
       "      <td>2.000000</td>\n",
       "      <td>27.800000</td>\n",
       "      <td>6.200000</td>\n",
       "      <td>62.600000</td>\n",
       "    </tr>\n",
       "    <tr>\n",
       "      <th>75%</th>\n",
       "      <td>0.800000</td>\n",
       "      <td>3.000000</td>\n",
       "      <td>32.800000</td>\n",
       "      <td>7.300000</td>\n",
       "      <td>68.000000</td>\n",
       "    </tr>\n",
       "    <tr>\n",
       "      <th>max</th>\n",
       "      <td>3.200000</td>\n",
       "      <td>16.400000</td>\n",
       "      <td>69.000000</td>\n",
       "      <td>15.700000</td>\n",
       "      <td>91.400000</td>\n",
       "    </tr>\n",
       "  </tbody>\n",
       "</table>\n",
       "</div>"
      ],
      "text/plain": [
       "         Basophils  Eosinophils  Lymphocytes    Monocytes  Neutrophils\n",
       "count  2387.000000  2387.000000  2387.000000  2387.000000  2387.000000\n",
       "mean      0.642648     2.392333    28.050021     6.379933    62.535023\n",
       "std       0.340675     1.597931     7.397466     1.714341     7.934574\n",
       "min       0.000000     0.000000     5.500000     1.000000    25.000000\n",
       "25%       0.400000     1.400000    22.900000     5.300000    57.300000\n",
       "50%       0.600000     2.000000    27.800000     6.200000    62.600000\n",
       "75%       0.800000     3.000000    32.800000     7.300000    68.000000\n",
       "max       3.200000    16.400000    69.000000    15.700000    91.400000"
      ]
     },
     "execution_count": 9,
     "metadata": {},
     "output_type": "execute_result"
    }
   ],
   "source": [
    "# check cell type summaries\n",
    "fracs_df.describe()"
   ]
  },
  {
   "cell_type": "markdown",
   "metadata": {
    "papermill": {
     "duration": 0.015233,
     "end_time": "2020-09-22T09:45:59.518855",
     "exception": false,
     "start_time": "2020-09-22T09:45:59.503622",
     "status": "completed"
    },
    "tags": []
   },
   "source": [
    "#### merge expr data and cell fraction data"
   ]
  },
  {
   "cell_type": "code",
   "execution_count": 10,
   "metadata": {
    "execution": {
     "iopub.execute_input": "2020-09-22T09:45:59.564553Z",
     "iopub.status.busy": "2020-09-22T09:45:59.554812Z",
     "iopub.status.idle": "2020-09-22T09:45:59.566695Z",
     "shell.execute_reply": "2020-09-22T09:45:59.567017Z"
    },
    "papermill": {
     "duration": 0.032936,
     "end_time": "2020-09-22T09:45:59.567164",
     "exception": false,
     "start_time": "2020-09-22T09:45:59.534228",
     "status": "completed"
    },
    "tags": []
   },
   "outputs": [
    {
     "name": "stdout",
     "output_type": "stream",
     "text": [
      "(1804, 1224)\n"
     ]
    }
   ],
   "source": [
    "data_df = expr_df.merge(fracs_df, how='inner', left_index=True, right_index=True)\n",
    "print(data_df.shape)"
   ]
  },
  {
   "cell_type": "markdown",
   "metadata": {
    "papermill": {
     "duration": 0.015493,
     "end_time": "2020-09-22T09:45:59.599424",
     "exception": false,
     "start_time": "2020-09-22T09:45:59.583931",
     "status": "completed"
    },
    "tags": []
   },
   "source": [
    "#### save the feature/target data set"
   ]
  },
  {
   "cell_type": "code",
   "execution_count": 11,
   "metadata": {
    "execution": {
     "iopub.execute_input": "2020-09-22T09:45:59.635038Z",
     "iopub.status.busy": "2020-09-22T09:45:59.633920Z",
     "iopub.status.idle": "2020-09-22T09:46:03.014742Z",
     "shell.execute_reply": "2020-09-22T09:46:03.014251Z"
    },
    "papermill": {
     "duration": 3.399308,
     "end_time": "2020-09-22T09:46:03.014868",
     "exception": false,
     "start_time": "2020-09-22T09:45:59.615560",
     "status": "completed"
    },
    "tags": []
   },
   "outputs": [],
   "source": [
    "data_df.to_csv(train_test_file)"
   ]
  },
  {
   "cell_type": "markdown",
   "metadata": {
    "papermill": {
     "duration": 0.200122,
     "end_time": "2020-09-22T09:46:03.247076",
     "exception": false,
     "start_time": "2020-09-22T09:46:03.046954",
     "status": "completed"
    },
    "tags": []
   },
   "source": [
    "#### prep the test and train split"
   ]
  },
  {
   "cell_type": "code",
   "execution_count": 12,
   "metadata": {
    "execution": {
     "iopub.execute_input": "2020-09-22T09:46:03.595050Z",
     "iopub.status.busy": "2020-09-22T09:46:03.594567Z",
     "iopub.status.idle": "2020-09-22T09:46:03.627955Z",
     "shell.execute_reply": "2020-09-22T09:46:03.627521Z"
    },
    "papermill": {
     "duration": 0.176754,
     "end_time": "2020-09-22T09:46:03.628102",
     "exception": false,
     "start_time": "2020-09-22T09:46:03.451348",
     "status": "completed"
    },
    "tags": []
   },
   "outputs": [
    {
     "name": "stdout",
     "output_type": "stream",
     "text": [
      "(1262, 1219) (542, 1219) (1262, 5) (542, 5)\n"
     ]
    }
   ],
   "source": [
    "features, targets = data_df.drop(columns=cell_types), data_df[cell_types] #label encode the target\n",
    "features_train, features_test, targets_train, targets_test = train_test_split(features, \n",
    "                                                                              targets, \n",
    "                                                                              test_size=0.3)\n",
    "print(features_train.shape, features_test.shape, targets_train.shape, targets_test.shape)"
   ]
  },
  {
   "cell_type": "markdown",
   "metadata": {
    "papermill": {
     "duration": 0.047076,
     "end_time": "2020-09-22T09:46:03.702860",
     "exception": false,
     "start_time": "2020-09-22T09:46:03.655784",
     "status": "completed"
    },
    "tags": []
   },
   "source": [
    "#### setup the tensorboard callback"
   ]
  },
  {
   "cell_type": "code",
   "execution_count": 13,
   "metadata": {
    "execution": {
     "iopub.execute_input": "2020-09-22T09:46:04.740029Z",
     "iopub.status.busy": "2020-09-22T09:46:04.739516Z",
     "iopub.status.idle": "2020-09-22T09:46:04.741746Z",
     "shell.execute_reply": "2020-09-22T09:46:04.741218Z"
    },
    "papermill": {
     "duration": 1.007171,
     "end_time": "2020-09-22T09:46:04.741881",
     "exception": false,
     "start_time": "2020-09-22T09:46:03.734710",
     "status": "completed"
    },
    "tags": []
   },
   "outputs": [],
   "source": [
    "tensorboard_callback = TensorBoard(log_dir=tboard_log_dir, histogram_freq=0, \n",
    "                                   write_graph=True, write_images=False)"
   ]
  },
  {
   "cell_type": "markdown",
   "metadata": {
    "papermill": {
     "duration": 0.022769,
     "end_time": "2020-09-22T09:46:04.795756",
     "exception": false,
     "start_time": "2020-09-22T09:46:04.772987",
     "status": "completed"
    },
    "tags": []
   },
   "source": [
    "#### search for the best model"
   ]
  },
  {
   "cell_type": "code",
   "execution_count": 14,
   "metadata": {
    "execution": {
     "iopub.execute_input": "2020-09-22T09:46:04.848613Z",
     "iopub.status.busy": "2020-09-22T09:46:04.848122Z",
     "iopub.status.idle": "2020-09-22T15:19:38.518109Z",
     "shell.execute_reply": "2020-09-22T15:19:38.517718Z"
    },
    "papermill": {
     "duration": 20013.704773,
     "end_time": "2020-09-22T15:19:38.518230",
     "exception": false,
     "start_time": "2020-09-22T09:46:04.813457",
     "status": "completed"
    },
    "tags": []
   },
   "outputs": [
    {
     "name": "stdout",
     "output_type": "stream",
     "text": [
      "WARNING:tensorflow:From /opt/conda/lib/python3.7/site-packages/tensorflow/python/ops/summary_ops_v2.py:1277: stop (from tensorflow.python.eager.profiler) is deprecated and will be removed after 2020-07-01.\n",
      "Instructions for updating:\n",
      "use `tf.profiler.experimental.stop` instead.\n"
     ]
    },
    {
     "name": "stdout",
     "output_type": "stream",
     "text": [
      "WARNING:tensorflow:Callbacks method `on_train_batch_end` is slow compared to the batch time (batch time: 0.1275s vs `on_train_batch_end` time: 0.7087s). Check your callbacks.\n"
     ]
    },
    {
     "name": "stdout",
     "output_type": "stream",
     "text": [
      "WARNING:tensorflow:Callbacks method `on_train_batch_end` is slow compared to the batch time (batch time: 0.1188s vs `on_train_batch_end` time: 1.9646s). Check your callbacks.\n"
     ]
    },
    {
     "name": "stdout",
     "output_type": "stream",
     "text": [
      "WARNING:tensorflow:Callbacks method `on_train_batch_end` is slow compared to the batch time (batch time: 0.1170s vs `on_train_batch_end` time: 1.8173s). Check your callbacks.\n"
     ]
    },
    {
     "name": "stdout",
     "output_type": "stream",
     "text": [
      "WARNING:tensorflow:Callbacks method `on_train_batch_end` is slow compared to the batch time (batch time: 0.1128s vs `on_train_batch_end` time: 1.7582s). Check your callbacks.\n"
     ]
    },
    {
     "name": "stdout",
     "output_type": "stream",
     "text": [
      "WARNING:tensorflow:Callbacks method `on_train_batch_end` is slow compared to the batch time (batch time: 0.1225s vs `on_train_batch_end` time: 1.7889s). Check your callbacks.\n"
     ]
    },
    {
     "name": "stdout",
     "output_type": "stream",
     "text": [
      "WARNING:tensorflow:Callbacks method `on_train_batch_end` is slow compared to the batch time (batch time: 0.1124s vs `on_train_batch_end` time: 1.8322s). Check your callbacks.\n"
     ]
    },
    {
     "name": "stdout",
     "output_type": "stream",
     "text": [
      "WARNING:tensorflow:Callbacks method `on_train_batch_end` is slow compared to the batch time (batch time: 0.1183s vs `on_train_batch_end` time: 1.8043s). Check your callbacks.\n"
     ]
    },
    {
     "name": "stdout",
     "output_type": "stream",
     "text": [
      "WARNING:tensorflow:Callbacks method `on_train_batch_end` is slow compared to the batch time (batch time: 0.1202s vs `on_train_batch_end` time: 1.7479s). Check your callbacks.\n"
     ]
    },
    {
     "name": "stdout",
     "output_type": "stream",
     "text": [
      "WARNING:tensorflow:Callbacks method `on_train_batch_end` is slow compared to the batch time (batch time: 0.1096s vs `on_train_batch_end` time: 1.7580s). Check your callbacks.\n"
     ]
    },
    {
     "name": "stdout",
     "output_type": "stream",
     "text": [
      "WARNING:tensorflow:Callbacks method `on_train_batch_end` is slow compared to the batch time (batch time: 0.1221s vs `on_train_batch_end` time: 1.7634s). Check your callbacks.\n"
     ]
    },
    {
     "name": "stdout",
     "output_type": "stream",
     "text": [
      "WARNING:tensorflow:Callbacks method `on_train_batch_end` is slow compared to the batch time (batch time: 0.1236s vs `on_train_batch_end` time: 1.7930s). Check your callbacks.\n"
     ]
    },
    {
     "name": "stdout",
     "output_type": "stream",
     "text": [
      "WARNING:tensorflow:Callbacks method `on_train_batch_end` is slow compared to the batch time (batch time: 0.1225s vs `on_train_batch_end` time: 1.7897s). Check your callbacks.\n"
     ]
    },
    {
     "name": "stdout",
     "output_type": "stream",
     "text": [
      "WARNING:tensorflow:Callbacks method `on_train_batch_end` is slow compared to the batch time (batch time: 0.1232s vs `on_train_batch_end` time: 1.8013s). Check your callbacks.\n"
     ]
    },
    {
     "name": "stdout",
     "output_type": "stream",
     "text": [
      "WARNING:tensorflow:Callbacks method `on_train_batch_end` is slow compared to the batch time (batch time: 0.1053s vs `on_train_batch_end` time: 1.7780s). Check your callbacks.\n"
     ]
    },
    {
     "name": "stdout",
     "output_type": "stream",
     "text": [
      "WARNING:tensorflow:Callbacks method `on_train_batch_end` is slow compared to the batch time (batch time: 0.1175s vs `on_train_batch_end` time: 1.8043s). Check your callbacks.\n"
     ]
    },
    {
     "name": "stdout",
     "output_type": "stream",
     "text": [
      "WARNING:tensorflow:Callbacks method `on_train_batch_end` is slow compared to the batch time (batch time: 0.1293s vs `on_train_batch_end` time: 1.9829s). Check your callbacks.\n"
     ]
    },
    {
     "name": "stdout",
     "output_type": "stream",
     "text": [
      "WARNING:tensorflow:Callbacks method `on_train_batch_end` is slow compared to the batch time (batch time: 0.1248s vs `on_train_batch_end` time: 2.0113s). Check your callbacks.\n"
     ]
    },
    {
     "name": "stdout",
     "output_type": "stream",
     "text": [
      "WARNING:tensorflow:Callbacks method `on_train_batch_end` is slow compared to the batch time (batch time: 0.1381s vs `on_train_batch_end` time: 2.1798s). Check your callbacks.\n"
     ]
    },
    {
     "name": "stdout",
     "output_type": "stream",
     "text": [
      "WARNING:tensorflow:Callbacks method `on_train_batch_end` is slow compared to the batch time (batch time: 0.1425s vs `on_train_batch_end` time: 2.1691s). Check your callbacks.\n"
     ]
    },
    {
     "name": "stdout",
     "output_type": "stream",
     "text": [
      "WARNING:tensorflow:Callbacks method `on_train_batch_end` is slow compared to the batch time (batch time: 0.1247s vs `on_train_batch_end` time: 2.1316s). Check your callbacks.\n"
     ]
    },
    {
     "name": "stdout",
     "output_type": "stream",
     "text": [
      "WARNING:tensorflow:Callbacks method `on_train_batch_end` is slow compared to the batch time (batch time: 0.1386s vs `on_train_batch_end` time: 2.2482s). Check your callbacks.\n"
     ]
    },
    {
     "name": "stdout",
     "output_type": "stream",
     "text": [
      "WARNING:tensorflow:Callbacks method `on_train_batch_end` is slow compared to the batch time (batch time: 0.1276s vs `on_train_batch_end` time: 1.8248s). Check your callbacks.\n"
     ]
    },
    {
     "name": "stdout",
     "output_type": "stream",
     "text": [
      "WARNING:tensorflow:Callbacks method `on_train_batch_end` is slow compared to the batch time (batch time: 0.1224s vs `on_train_batch_end` time: 2.0972s). Check your callbacks.\n"
     ]
    },
    {
     "name": "stdout",
     "output_type": "stream",
     "text": [
      "WARNING:tensorflow:Callbacks method `on_train_batch_end` is slow compared to the batch time (batch time: 0.1479s vs `on_train_batch_end` time: 2.1166s). Check your callbacks.\n"
     ]
    },
    {
     "name": "stdout",
     "output_type": "stream",
     "text": [
      "WARNING:tensorflow:Callbacks method `on_train_batch_end` is slow compared to the batch time (batch time: 0.1410s vs `on_train_batch_end` time: 2.2089s). Check your callbacks.\n"
     ]
    },
    {
     "name": "stdout",
     "output_type": "stream",
     "text": [
      "WARNING:tensorflow:Callbacks method `on_train_batch_end` is slow compared to the batch time (batch time: 0.1411s vs `on_train_batch_end` time: 2.1736s). Check your callbacks.\n"
     ]
    },
    {
     "name": "stdout",
     "output_type": "stream",
     "text": [
      "WARNING:tensorflow:Callbacks method `on_train_batch_end` is slow compared to the batch time (batch time: 0.1418s vs `on_train_batch_end` time: 2.1593s). Check your callbacks.\n"
     ]
    },
    {
     "name": "stdout",
     "output_type": "stream",
     "text": [
      "WARNING:tensorflow:Callbacks method `on_train_batch_end` is slow compared to the batch time (batch time: 0.1224s vs `on_train_batch_end` time: 2.2122s). Check your callbacks.\n"
     ]
    },
    {
     "name": "stdout",
     "output_type": "stream",
     "text": [
      "WARNING:tensorflow:Callbacks method `on_train_batch_end` is slow compared to the batch time (batch time: 0.1400s vs `on_train_batch_end` time: 2.1937s). Check your callbacks.\n"
     ]
    },
    {
     "name": "stdout",
     "output_type": "stream",
     "text": [
      "WARNING:tensorflow:Callbacks method `on_train_batch_end` is slow compared to the batch time (batch time: 0.1400s vs `on_train_batch_end` time: 2.1767s). Check your callbacks.\n"
     ]
    },
    {
     "name": "stdout",
     "output_type": "stream",
     "text": [
      "WARNING:tensorflow:Callbacks method `on_train_batch_end` is slow compared to the batch time (batch time: 0.1365s vs `on_train_batch_end` time: 2.1908s). Check your callbacks.\n"
     ]
    },
    {
     "name": "stdout",
     "output_type": "stream",
     "text": [
      "WARNING:tensorflow:Callbacks method `on_train_batch_end` is slow compared to the batch time (batch time: 0.1392s vs `on_train_batch_end` time: 2.2065s). Check your callbacks.\n"
     ]
    },
    {
     "name": "stdout",
     "output_type": "stream",
     "text": [
      "WARNING:tensorflow:Callbacks method `on_train_batch_end` is slow compared to the batch time (batch time: 0.1408s vs `on_train_batch_end` time: 2.2316s). Check your callbacks.\n"
     ]
    },
    {
     "name": "stdout",
     "output_type": "stream",
     "text": [
      "WARNING:tensorflow:Callbacks method `on_train_batch_end` is slow compared to the batch time (batch time: 0.1308s vs `on_train_batch_end` time: 2.2361s). Check your callbacks.\n"
     ]
    },
    {
     "name": "stdout",
     "output_type": "stream",
     "text": [
      "WARNING:tensorflow:Callbacks method `on_train_batch_end` is slow compared to the batch time (batch time: 0.1446s vs `on_train_batch_end` time: 2.1822s). Check your callbacks.\n"
     ]
    },
    {
     "name": "stdout",
     "output_type": "stream",
     "text": [
      "WARNING:tensorflow:Callbacks method `on_train_batch_end` is slow compared to the batch time (batch time: 0.1370s vs `on_train_batch_end` time: 2.2237s). Check your callbacks.\n"
     ]
    },
    {
     "name": "stdout",
     "output_type": "stream",
     "text": [
      "WARNING:tensorflow:Callbacks method `on_train_batch_end` is slow compared to the batch time (batch time: 0.1367s vs `on_train_batch_end` time: 2.2140s). Check your callbacks.\n"
     ]
    },
    {
     "name": "stdout",
     "output_type": "stream",
     "text": [
      "WARNING:tensorflow:Callbacks method `on_train_batch_end` is slow compared to the batch time (batch time: 0.1437s vs `on_train_batch_end` time: 2.1838s). Check your callbacks.\n"
     ]
    },
    {
     "name": "stdout",
     "output_type": "stream",
     "text": [
      "WARNING:tensorflow:Callbacks method `on_train_batch_end` is slow compared to the batch time (batch time: 0.1394s vs `on_train_batch_end` time: 2.1675s). Check your callbacks.\n"
     ]
    },
    {
     "name": "stdout",
     "output_type": "stream",
     "text": [
      "WARNING:tensorflow:Callbacks method `on_train_batch_end` is slow compared to the batch time (batch time: 0.1278s vs `on_train_batch_end` time: 2.1904s). Check your callbacks.\n"
     ]
    },
    {
     "name": "stdout",
     "output_type": "stream",
     "text": [
      "WARNING:tensorflow:Callbacks method `on_train_batch_end` is slow compared to the batch time (batch time: 0.1341s vs `on_train_batch_end` time: 2.1006s). Check your callbacks.\n"
     ]
    },
    {
     "name": "stdout",
     "output_type": "stream",
     "text": [
      "WARNING:tensorflow:Callbacks method `on_train_batch_end` is slow compared to the batch time (batch time: 0.1324s vs `on_train_batch_end` time: 2.1707s). Check your callbacks.\n"
     ]
    },
    {
     "name": "stdout",
     "output_type": "stream",
     "text": [
      "WARNING:tensorflow:Callbacks method `on_train_batch_end` is slow compared to the batch time (batch time: 0.1333s vs `on_train_batch_end` time: 2.1753s). Check your callbacks.\n"
     ]
    },
    {
     "name": "stdout",
     "output_type": "stream",
     "text": [
      "WARNING:tensorflow:Callbacks method `on_train_batch_end` is slow compared to the batch time (batch time: 0.1333s vs `on_train_batch_end` time: 2.1827s). Check your callbacks.\n"
     ]
    },
    {
     "name": "stdout",
     "output_type": "stream",
     "text": [
      "WARNING:tensorflow:Callbacks method `on_train_batch_end` is slow compared to the batch time (batch time: 0.1413s vs `on_train_batch_end` time: 2.2040s). Check your callbacks.\n"
     ]
    },
    {
     "name": "stdout",
     "output_type": "stream",
     "text": [
      "WARNING:tensorflow:Callbacks method `on_train_batch_end` is slow compared to the batch time (batch time: 0.1241s vs `on_train_batch_end` time: 1.8833s). Check your callbacks.\n"
     ]
    },
    {
     "name": "stdout",
     "output_type": "stream",
     "text": [
      "WARNING:tensorflow:Callbacks method `on_train_batch_end` is slow compared to the batch time (batch time: 0.1412s vs `on_train_batch_end` time: 2.2261s). Check your callbacks.\n"
     ]
    },
    {
     "name": "stdout",
     "output_type": "stream",
     "text": [
      "WARNING:tensorflow:Callbacks method `on_train_batch_end` is slow compared to the batch time (batch time: 0.1385s vs `on_train_batch_end` time: 2.1891s). Check your callbacks.\n"
     ]
    },
    {
     "name": "stdout",
     "output_type": "stream",
     "text": [
      "WARNING:tensorflow:Callbacks method `on_train_batch_end` is slow compared to the batch time (batch time: 0.1248s vs `on_train_batch_end` time: 2.2337s). Check your callbacks.\n"
     ]
    },
    {
     "name": "stdout",
     "output_type": "stream",
     "text": [
      "WARNING:tensorflow:Callbacks method `on_train_batch_end` is slow compared to the batch time (batch time: 0.1280s vs `on_train_batch_end` time: 1.9267s). Check your callbacks.\n"
     ]
    },
    {
     "name": "stdout",
     "output_type": "stream",
     "text": [
      "WARNING:tensorflow:Callbacks method `on_train_batch_end` is slow compared to the batch time (batch time: 0.1404s vs `on_train_batch_end` time: 1.9651s). Check your callbacks.\n"
     ]
    },
    {
     "name": "stdout",
     "output_type": "stream",
     "text": [
      "WARNING:tensorflow:Callbacks method `on_train_batch_end` is slow compared to the batch time (batch time: 0.1289s vs `on_train_batch_end` time: 1.8805s). Check your callbacks.\n"
     ]
    },
    {
     "name": "stdout",
     "output_type": "stream",
     "text": [
      "WARNING:tensorflow:Callbacks method `on_train_batch_end` is slow compared to the batch time (batch time: 0.1245s vs `on_train_batch_end` time: 1.9256s). Check your callbacks.\n"
     ]
    },
    {
     "name": "stdout",
     "output_type": "stream",
     "text": [
      "WARNING:tensorflow:Callbacks method `on_train_batch_end` is slow compared to the batch time (batch time: 0.1260s vs `on_train_batch_end` time: 1.8481s). Check your callbacks.\n"
     ]
    },
    {
     "name": "stdout",
     "output_type": "stream",
     "text": [
      "WARNING:tensorflow:Callbacks method `on_train_batch_end` is slow compared to the batch time (batch time: 0.1273s vs `on_train_batch_end` time: 1.8794s). Check your callbacks.\n"
     ]
    },
    {
     "name": "stdout",
     "output_type": "stream",
     "text": [
      "WARNING:tensorflow:Callbacks method `on_train_batch_end` is slow compared to the batch time (batch time: 0.1286s vs `on_train_batch_end` time: 1.9120s). Check your callbacks.\n"
     ]
    },
    {
     "name": "stdout",
     "output_type": "stream",
     "text": [
      "WARNING:tensorflow:Callbacks method `on_train_batch_end` is slow compared to the batch time (batch time: 0.1368s vs `on_train_batch_end` time: 2.0666s). Check your callbacks.\n"
     ]
    },
    {
     "name": "stdout",
     "output_type": "stream",
     "text": [
      "WARNING:tensorflow:Callbacks method `on_train_batch_end` is slow compared to the batch time (batch time: 0.1250s vs `on_train_batch_end` time: 1.8897s). Check your callbacks.\n"
     ]
    },
    {
     "name": "stdout",
     "output_type": "stream",
     "text": [
      "WARNING:tensorflow:Callbacks method `on_train_batch_end` is slow compared to the batch time (batch time: 0.1231s vs `on_train_batch_end` time: 1.8998s). Check your callbacks.\n"
     ]
    },
    {
     "name": "stdout",
     "output_type": "stream",
     "text": [
      "WARNING:tensorflow:Callbacks method `on_train_batch_end` is slow compared to the batch time (batch time: 0.1265s vs `on_train_batch_end` time: 1.9191s). Check your callbacks.\n"
     ]
    },
    {
     "name": "stdout",
     "output_type": "stream",
     "text": [
      "WARNING:tensorflow:Callbacks method `on_train_batch_end` is slow compared to the batch time (batch time: 0.1302s vs `on_train_batch_end` time: 1.9025s). Check your callbacks.\n"
     ]
    },
    {
     "name": "stdout",
     "output_type": "stream",
     "text": [
      "WARNING:tensorflow:Callbacks method `on_train_batch_end` is slow compared to the batch time (batch time: 0.1317s vs `on_train_batch_end` time: 2.0217s). Check your callbacks.\n"
     ]
    },
    {
     "name": "stdout",
     "output_type": "stream",
     "text": [
      "WARNING:tensorflow:Callbacks method `on_train_batch_end` is slow compared to the batch time (batch time: 0.1283s vs `on_train_batch_end` time: 1.9143s). Check your callbacks.\n"
     ]
    },
    {
     "name": "stdout",
     "output_type": "stream",
     "text": [
      "WARNING:tensorflow:Callbacks method `on_train_batch_end` is slow compared to the batch time (batch time: 0.1253s vs `on_train_batch_end` time: 1.9217s). Check your callbacks.\n"
     ]
    },
    {
     "name": "stdout",
     "output_type": "stream",
     "text": [
      "WARNING:tensorflow:Callbacks method `on_train_batch_end` is slow compared to the batch time (batch time: 0.1222s vs `on_train_batch_end` time: 1.8578s). Check your callbacks.\n"
     ]
    },
    {
     "name": "stdout",
     "output_type": "stream",
     "text": [
      "WARNING:tensorflow:Callbacks method `on_train_batch_end` is slow compared to the batch time (batch time: 0.1242s vs `on_train_batch_end` time: 1.8785s). Check your callbacks.\n"
     ]
    },
    {
     "name": "stdout",
     "output_type": "stream",
     "text": [
      "WARNING:tensorflow:Callbacks method `on_train_batch_end` is slow compared to the batch time (batch time: 0.1273s vs `on_train_batch_end` time: 2.0598s). Check your callbacks.\n"
     ]
    },
    {
     "name": "stdout",
     "output_type": "stream",
     "text": [
      "WARNING:tensorflow:Callbacks method `on_train_batch_end` is slow compared to the batch time (batch time: 0.1251s vs `on_train_batch_end` time: 1.9005s). Check your callbacks.\n"
     ]
    },
    {
     "name": "stdout",
     "output_type": "stream",
     "text": [
      "WARNING:tensorflow:Callbacks method `on_train_batch_end` is slow compared to the batch time (batch time: 0.1296s vs `on_train_batch_end` time: 1.9759s). Check your callbacks.\n"
     ]
    },
    {
     "name": "stdout",
     "output_type": "stream",
     "text": [
      "WARNING:tensorflow:Callbacks method `on_train_batch_end` is slow compared to the batch time (batch time: 0.1294s vs `on_train_batch_end` time: 1.9215s). Check your callbacks.\n"
     ]
    },
    {
     "name": "stdout",
     "output_type": "stream",
     "text": [
      "WARNING:tensorflow:Callbacks method `on_train_batch_end` is slow compared to the batch time (batch time: 0.1300s vs `on_train_batch_end` time: 1.9120s). Check your callbacks.\n"
     ]
    },
    {
     "name": "stdout",
     "output_type": "stream",
     "text": [
      "WARNING:tensorflow:Callbacks method `on_train_batch_end` is slow compared to the batch time (batch time: 0.1295s vs `on_train_batch_end` time: 1.9339s). Check your callbacks.\n"
     ]
    },
    {
     "name": "stdout",
     "output_type": "stream",
     "text": [
      "WARNING:tensorflow:Callbacks method `on_train_batch_end` is slow compared to the batch time (batch time: 0.1308s vs `on_train_batch_end` time: 1.8941s). Check your callbacks.\n"
     ]
    },
    {
     "name": "stdout",
     "output_type": "stream",
     "text": [
      "WARNING:tensorflow:Callbacks method `on_train_batch_end` is slow compared to the batch time (batch time: 0.1257s vs `on_train_batch_end` time: 1.8971s). Check your callbacks.\n"
     ]
    },
    {
     "name": "stdout",
     "output_type": "stream",
     "text": [
      "WARNING:tensorflow:Callbacks method `on_train_batch_end` is slow compared to the batch time (batch time: 0.1318s vs `on_train_batch_end` time: 1.9417s). Check your callbacks.\n"
     ]
    },
    {
     "name": "stdout",
     "output_type": "stream",
     "text": [
      "WARNING:tensorflow:Callbacks method `on_train_batch_end` is slow compared to the batch time (batch time: 0.1196s vs `on_train_batch_end` time: 1.9352s). Check your callbacks.\n"
     ]
    },
    {
     "name": "stdout",
     "output_type": "stream",
     "text": [
      "WARNING:tensorflow:Callbacks method `on_train_batch_end` is slow compared to the batch time (batch time: 0.1289s vs `on_train_batch_end` time: 1.9310s). Check your callbacks.\n"
     ]
    },
    {
     "name": "stdout",
     "output_type": "stream",
     "text": [
      "WARNING:tensorflow:Callbacks method `on_train_batch_end` is slow compared to the batch time (batch time: 0.1319s vs `on_train_batch_end` time: 2.0475s). Check your callbacks.\n"
     ]
    },
    {
     "name": "stdout",
     "output_type": "stream",
     "text": [
      "WARNING:tensorflow:Callbacks method `on_train_batch_end` is slow compared to the batch time (batch time: 0.1342s vs `on_train_batch_end` time: 2.0934s). Check your callbacks.\n"
     ]
    },
    {
     "name": "stdout",
     "output_type": "stream",
     "text": [
      "INFO:tensorflow:Oracle triggered exit\n"
     ]
    },
    {
     "name": "stdout",
     "output_type": "stream",
     "text": [
      "WARNING:tensorflow:Callbacks method `on_train_batch_end` is slow compared to the batch time (batch time: 0.1303s vs `on_train_batch_end` time: 1.9617s). Check your callbacks.\n"
     ]
    },
    {
     "name": "stdout",
     "output_type": "stream",
     "text": [
      "WARNING:tensorflow:Early stopping conditioned on metric `val_loss` which is not available. Available metrics are: loss,mean_squared_error\n"
     ]
    },
    {
     "name": "stdout",
     "output_type": "stream",
     "text": [
      "WARNING:tensorflow:Early stopping conditioned on metric `val_loss` which is not available. Available metrics are: loss,mean_squared_error\n"
     ]
    },
    {
     "name": "stdout",
     "output_type": "stream",
     "text": [
      "WARNING:tensorflow:Early stopping conditioned on metric `val_loss` which is not available. Available metrics are: loss,mean_squared_error\n"
     ]
    },
    {
     "name": "stdout",
     "output_type": "stream",
     "text": [
      "WARNING:tensorflow:Early stopping conditioned on metric `val_loss` which is not available. Available metrics are: loss,mean_squared_error\n"
     ]
    },
    {
     "name": "stdout",
     "output_type": "stream",
     "text": [
      "WARNING:tensorflow:Early stopping conditioned on metric `val_loss` which is not available. Available metrics are: loss,mean_squared_error\n"
     ]
    },
    {
     "name": "stdout",
     "output_type": "stream",
     "text": [
      "WARNING:tensorflow:Early stopping conditioned on metric `val_loss` which is not available. Available metrics are: loss,mean_squared_error\n"
     ]
    },
    {
     "name": "stdout",
     "output_type": "stream",
     "text": [
      "WARNING:tensorflow:Early stopping conditioned on metric `val_loss` which is not available. Available metrics are: loss,mean_squared_error\n"
     ]
    },
    {
     "name": "stdout",
     "output_type": "stream",
     "text": [
      "WARNING:tensorflow:Early stopping conditioned on metric `val_loss` which is not available. Available metrics are: loss,mean_squared_error\n"
     ]
    },
    {
     "name": "stdout",
     "output_type": "stream",
     "text": [
      "WARNING:tensorflow:Early stopping conditioned on metric `val_loss` which is not available. Available metrics are: loss,mean_squared_error\n"
     ]
    },
    {
     "name": "stdout",
     "output_type": "stream",
     "text": [
      "WARNING:tensorflow:Early stopping conditioned on metric `val_loss` which is not available. Available metrics are: loss,mean_squared_error\n"
     ]
    },
    {
     "name": "stdout",
     "output_type": "stream",
     "text": [
      "WARNING:tensorflow:Early stopping conditioned on metric `val_loss` which is not available. Available metrics are: loss,mean_squared_error\n"
     ]
    },
    {
     "name": "stdout",
     "output_type": "stream",
     "text": [
      "WARNING:tensorflow:Early stopping conditioned on metric `val_loss` which is not available. Available metrics are: loss,mean_squared_error\n"
     ]
    },
    {
     "name": "stdout",
     "output_type": "stream",
     "text": [
      "WARNING:tensorflow:Early stopping conditioned on metric `val_loss` which is not available. Available metrics are: loss,mean_squared_error\n"
     ]
    },
    {
     "name": "stdout",
     "output_type": "stream",
     "text": [
      "WARNING:tensorflow:Early stopping conditioned on metric `val_loss` which is not available. Available metrics are: loss,mean_squared_error\n"
     ]
    },
    {
     "name": "stdout",
     "output_type": "stream",
     "text": [
      "WARNING:tensorflow:Early stopping conditioned on metric `val_loss` which is not available. Available metrics are: loss,mean_squared_error\n"
     ]
    },
    {
     "name": "stdout",
     "output_type": "stream",
     "text": [
      "WARNING:tensorflow:Early stopping conditioned on metric `val_loss` which is not available. Available metrics are: loss,mean_squared_error\n"
     ]
    },
    {
     "name": "stdout",
     "output_type": "stream",
     "text": [
      "WARNING:tensorflow:Early stopping conditioned on metric `val_loss` which is not available. Available metrics are: loss,mean_squared_error\n"
     ]
    },
    {
     "name": "stdout",
     "output_type": "stream",
     "text": [
      "WARNING:tensorflow:Early stopping conditioned on metric `val_loss` which is not available. Available metrics are: loss,mean_squared_error\n"
     ]
    },
    {
     "name": "stdout",
     "output_type": "stream",
     "text": [
      "WARNING:tensorflow:Early stopping conditioned on metric `val_loss` which is not available. Available metrics are: loss,mean_squared_error\n"
     ]
    },
    {
     "name": "stdout",
     "output_type": "stream",
     "text": [
      "WARNING:tensorflow:Early stopping conditioned on metric `val_loss` which is not available. Available metrics are: loss,mean_squared_error\n"
     ]
    },
    {
     "name": "stdout",
     "output_type": "stream",
     "text": [
      "WARNING:tensorflow:Early stopping conditioned on metric `val_loss` which is not available. Available metrics are: loss,mean_squared_error\n"
     ]
    },
    {
     "name": "stdout",
     "output_type": "stream",
     "text": [
      "WARNING:tensorflow:Early stopping conditioned on metric `val_loss` which is not available. Available metrics are: loss,mean_squared_error\n"
     ]
    },
    {
     "name": "stdout",
     "output_type": "stream",
     "text": [
      "WARNING:tensorflow:Early stopping conditioned on metric `val_loss` which is not available. Available metrics are: loss,mean_squared_error\n"
     ]
    },
    {
     "name": "stdout",
     "output_type": "stream",
     "text": [
      "WARNING:tensorflow:Early stopping conditioned on metric `val_loss` which is not available. Available metrics are: loss,mean_squared_error\n"
     ]
    },
    {
     "name": "stdout",
     "output_type": "stream",
     "text": [
      "WARNING:tensorflow:Early stopping conditioned on metric `val_loss` which is not available. Available metrics are: loss,mean_squared_error\n"
     ]
    },
    {
     "name": "stdout",
     "output_type": "stream",
     "text": [
      "WARNING:tensorflow:Early stopping conditioned on metric `val_loss` which is not available. Available metrics are: loss,mean_squared_error\n"
     ]
    },
    {
     "name": "stdout",
     "output_type": "stream",
     "text": [
      "WARNING:tensorflow:Early stopping conditioned on metric `val_loss` which is not available. Available metrics are: loss,mean_squared_error\n"
     ]
    },
    {
     "name": "stdout",
     "output_type": "stream",
     "text": [
      "WARNING:tensorflow:Early stopping conditioned on metric `val_loss` which is not available. Available metrics are: loss,mean_squared_error\n"
     ]
    },
    {
     "name": "stdout",
     "output_type": "stream",
     "text": [
      "WARNING:tensorflow:Early stopping conditioned on metric `val_loss` which is not available. Available metrics are: loss,mean_squared_error\n"
     ]
    },
    {
     "name": "stdout",
     "output_type": "stream",
     "text": [
      "WARNING:tensorflow:Early stopping conditioned on metric `val_loss` which is not available. Available metrics are: loss,mean_squared_error\n"
     ]
    },
    {
     "name": "stdout",
     "output_type": "stream",
     "text": [
      "WARNING:tensorflow:Early stopping conditioned on metric `val_loss` which is not available. Available metrics are: loss,mean_squared_error\n"
     ]
    },
    {
     "name": "stdout",
     "output_type": "stream",
     "text": [
      "WARNING:tensorflow:Early stopping conditioned on metric `val_loss` which is not available. Available metrics are: loss,mean_squared_error\n"
     ]
    },
    {
     "name": "stdout",
     "output_type": "stream",
     "text": [
      "WARNING:tensorflow:Early stopping conditioned on metric `val_loss` which is not available. Available metrics are: loss,mean_squared_error\n"
     ]
    },
    {
     "name": "stdout",
     "output_type": "stream",
     "text": [
      "WARNING:tensorflow:Early stopping conditioned on metric `val_loss` which is not available. Available metrics are: loss,mean_squared_error\n"
     ]
    },
    {
     "name": "stdout",
     "output_type": "stream",
     "text": [
      "WARNING:tensorflow:Early stopping conditioned on metric `val_loss` which is not available. Available metrics are: loss,mean_squared_error\n"
     ]
    },
    {
     "name": "stdout",
     "output_type": "stream",
     "text": [
      "WARNING:tensorflow:Early stopping conditioned on metric `val_loss` which is not available. Available metrics are: loss,mean_squared_error\n"
     ]
    },
    {
     "name": "stdout",
     "output_type": "stream",
     "text": [
      "WARNING:tensorflow:Early stopping conditioned on metric `val_loss` which is not available. Available metrics are: loss,mean_squared_error\n"
     ]
    },
    {
     "name": "stdout",
     "output_type": "stream",
     "text": [
      "WARNING:tensorflow:Early stopping conditioned on metric `val_loss` which is not available. Available metrics are: loss,mean_squared_error\n"
     ]
    },
    {
     "name": "stdout",
     "output_type": "stream",
     "text": [
      "WARNING:tensorflow:Early stopping conditioned on metric `val_loss` which is not available. Available metrics are: loss,mean_squared_error\n"
     ]
    },
    {
     "name": "stdout",
     "output_type": "stream",
     "text": [
      "WARNING:tensorflow:Early stopping conditioned on metric `val_loss` which is not available. Available metrics are: loss,mean_squared_error\n"
     ]
    },
    {
     "name": "stdout",
     "output_type": "stream",
     "text": [
      "WARNING:tensorflow:Early stopping conditioned on metric `val_loss` which is not available. Available metrics are: loss,mean_squared_error\n"
     ]
    },
    {
     "name": "stdout",
     "output_type": "stream",
     "text": [
      "CPU times: user 13h 32min 50s, sys: 4h 23min 42s, total: 17h 56min 32s\n",
      "Wall time: 5h 33min 33s\n"
     ]
    }
   ],
   "source": [
    "%%time\n",
    "# define the search\n",
    "search = ak.StructuredDataRegressor(loss='mean_absolute_error', \n",
    "                                    project_name=f'sdr_{expr_name}',\n",
    "                                    column_names=features_train.columns.to_list(),\n",
    "                                    overwrite=overwrite_model,\n",
    "                                    seed=42)\n",
    "# perform the search\n",
    "search.fit(x=features_train, y=targets_train, verbose=0, callbacks=[tensorboard_callback])"
   ]
  },
  {
   "cell_type": "code",
   "execution_count": 15,
   "metadata": {
    "execution": {
     "iopub.execute_input": "2020-09-22T15:19:39.130479Z",
     "iopub.status.busy": "2020-09-22T15:19:38.603354Z",
     "iopub.status.idle": "2020-09-22T15:19:50.330657Z",
     "shell.execute_reply": "2020-09-22T15:19:50.330158Z"
    },
    "papermill": {
     "duration": 11.772013,
     "end_time": "2020-09-22T15:19:50.330805",
     "exception": false,
     "start_time": "2020-09-22T15:19:38.558792",
     "status": "completed"
    },
    "tags": []
   },
   "outputs": [
    {
     "name": "stdout",
     "output_type": "stream",
     "text": [
      "MAE: 1.569\n",
      "MSE: 7.227\n"
     ]
    }
   ],
   "source": [
    "# evaluate the model\n",
    "mae, mse = search.evaluate(features_test, targets_test, verbose=0)\n",
    "print('MAE: %.3f' % mae)\n",
    "print('MSE: %.3f' % mse)"
   ]
  },
  {
   "cell_type": "code",
   "execution_count": 16,
   "metadata": {
    "execution": {
     "iopub.execute_input": "2020-09-22T15:19:50.418893Z",
     "iopub.status.busy": "2020-09-22T15:19:50.418423Z",
     "iopub.status.idle": "2020-09-22T15:19:52.997103Z",
     "shell.execute_reply": "2020-09-22T15:19:52.997484Z"
    },
    "papermill": {
     "duration": 2.624513,
     "end_time": "2020-09-22T15:19:52.997642",
     "exception": false,
     "start_time": "2020-09-22T15:19:50.373129",
     "status": "completed"
    },
    "tags": []
   },
   "outputs": [
    {
     "name": "stdout",
     "output_type": "stream",
     "text": [
      "WARNING:tensorflow:Unresolved object in checkpoint: (root).optimizer.iter\n"
     ]
    },
    {
     "name": "stdout",
     "output_type": "stream",
     "text": [
      "WARNING:tensorflow:Unresolved object in checkpoint: (root).optimizer.beta_1\n"
     ]
    },
    {
     "name": "stdout",
     "output_type": "stream",
     "text": [
      "WARNING:tensorflow:Unresolved object in checkpoint: (root).optimizer.beta_2\n"
     ]
    },
    {
     "name": "stdout",
     "output_type": "stream",
     "text": [
      "WARNING:tensorflow:Unresolved object in checkpoint: (root).optimizer.decay\n"
     ]
    },
    {
     "name": "stdout",
     "output_type": "stream",
     "text": [
      "WARNING:tensorflow:Unresolved object in checkpoint: (root).optimizer.learning_rate\n"
     ]
    },
    {
     "name": "stdout",
     "output_type": "stream",
     "text": [
      "WARNING:tensorflow:A checkpoint was restored (e.g. tf.train.Checkpoint.restore or tf.keras.Model.load_weights) but not all checkpointed values were used. See above for specific issues. Use expect_partial() on the load status object, e.g. tf.train.Checkpoint.restore(...).expect_partial(), to silence these warnings, or use assert_consumed() to make the check explicit. See https://www.tensorflow.org/guide/checkpoint#loading_mechanics for details.\n"
     ]
    },
    {
     "name": "stdout",
     "output_type": "stream",
     "text": [
      "Model: \"functional_1\"\n",
      "_________________________________________________________________\n",
      "Layer (type)                 Output Shape              Param #   \n",
      "=================================================================\n",
      "input_1 (InputLayer)         [(None, 1219)]            0         \n",
      "_________________________________________________________________\n",
      "multi_category_encoding (Mul (None, 1219)              0         \n",
      "_________________________________________________________________\n",
      "normalization (Normalization (None, 1219)              2439      \n",
      "_________________________________________________________________\n",
      "dense (Dense)                (None, 512)               624640    \n",
      "_________________________________________________________________\n",
      "batch_normalization (BatchNo (None, 512)               2048      \n",
      "_________________________________________________________________\n",
      "re_lu (ReLU)                 (None, 512)               0         \n",
      "_________________________________________________________________\n",
      "dropout (Dropout)            (None, 512)               0         \n",
      "_________________________________________________________________\n",
      "dense_1 (Dense)              (None, 1024)              525312    \n",
      "_________________________________________________________________\n",
      "batch_normalization_1 (Batch (None, 1024)              4096      \n",
      "_________________________________________________________________\n",
      "re_lu_1 (ReLU)               (None, 1024)              0         \n",
      "_________________________________________________________________\n",
      "dropout_1 (Dropout)          (None, 1024)              0         \n",
      "_________________________________________________________________\n",
      "dense_2 (Dense)              (None, 16)                16400     \n",
      "_________________________________________________________________\n",
      "batch_normalization_2 (Batch (None, 16)                64        \n",
      "_________________________________________________________________\n",
      "re_lu_2 (ReLU)               (None, 16)                0         \n",
      "_________________________________________________________________\n",
      "dropout_2 (Dropout)          (None, 16)                0         \n",
      "_________________________________________________________________\n",
      "regression_head_1 (Dense)    (None, 5)                 85        \n",
      "=================================================================\n",
      "Total params: 1,175,084\n",
      "Trainable params: 1,169,541\n",
      "Non-trainable params: 5,543\n",
      "_________________________________________________________________\n"
     ]
    }
   ],
   "source": [
    "# get the best performing model\n",
    "model = search.export_model()\n",
    "# summarize the loaded model\n",
    "model.summary()"
   ]
  },
  {
   "cell_type": "code",
   "execution_count": 17,
   "metadata": {
    "execution": {
     "iopub.execute_input": "2020-09-22T15:19:53.112211Z",
     "iopub.status.busy": "2020-09-22T15:19:53.108647Z",
     "iopub.status.idle": "2020-09-22T15:19:53.167269Z",
     "shell.execute_reply": "2020-09-22T15:19:53.166771Z"
    },
    "papermill": {
     "duration": 0.125133,
     "end_time": "2020-09-22T15:19:53.167402",
     "exception": false,
     "start_time": "2020-09-22T15:19:53.042269",
     "status": "completed"
    },
    "tags": []
   },
   "outputs": [],
   "source": [
    "# save the best performing model to file\n",
    "model.save(model_file)"
   ]
  },
  {
   "cell_type": "markdown",
   "metadata": {
    "papermill": {
     "duration": 0.044338,
     "end_time": "2020-09-22T15:19:53.254790",
     "exception": false,
     "start_time": "2020-09-22T15:19:53.210452",
     "status": "completed"
    },
    "tags": []
   },
   "source": [
    "#### see sklearn metrics"
   ]
  },
  {
   "cell_type": "code",
   "execution_count": 18,
   "metadata": {
    "execution": {
     "iopub.execute_input": "2020-09-22T15:19:53.884728Z",
     "iopub.status.busy": "2020-09-22T15:19:53.884220Z",
     "iopub.status.idle": "2020-09-22T15:20:14.607864Z",
     "shell.execute_reply": "2020-09-22T15:20:14.608305Z"
    },
    "papermill": {
     "duration": 21.311286,
     "end_time": "2020-09-22T15:20:14.608454",
     "exception": false,
     "start_time": "2020-09-22T15:19:53.297168",
     "status": "completed"
    },
    "tags": []
   },
   "outputs": [
    {
     "name": "stdout",
     "output_type": "stream",
     "text": [
      "['Basophils', 'Eosinophils', 'Lymphocytes', 'Monocytes', 'Neutrophils']\n"
     ]
    },
    {
     "name": "stdout",
     "output_type": "stream",
     "text": [
      "r2_score, raw_values: [-0.12808882  0.08717527  0.74940496  0.01390139  0.72411904]\n",
      "mean_squared_error, raw_values: [ 0.12982894  1.71502156 14.12904914  2.70693691 17.45468741]\n",
      "mean_squared_error, uniform_average: 7.2271047932309385\n",
      "mean_absolute_error, raw_values: [0.27257323 0.90334623 2.51206855 1.20697794 2.95151439]\n",
      "mean_absolute_error, uniform_average: 1.5692960677199697\n"
     ]
    },
    {
     "name": "stdout",
     "output_type": "stream",
     "text": [
      "WARNING:tensorflow:Unresolved object in checkpoint: (root).optimizer.iter\n"
     ]
    },
    {
     "name": "stdout",
     "output_type": "stream",
     "text": [
      "WARNING:tensorflow:Unresolved object in checkpoint: (root).optimizer.beta_1\n"
     ]
    },
    {
     "name": "stdout",
     "output_type": "stream",
     "text": [
      "WARNING:tensorflow:Unresolved object in checkpoint: (root).optimizer.beta_2\n"
     ]
    },
    {
     "name": "stdout",
     "output_type": "stream",
     "text": [
      "WARNING:tensorflow:Unresolved object in checkpoint: (root).optimizer.decay\n"
     ]
    },
    {
     "name": "stdout",
     "output_type": "stream",
     "text": [
      "WARNING:tensorflow:Unresolved object in checkpoint: (root).optimizer.learning_rate\n"
     ]
    },
    {
     "name": "stdout",
     "output_type": "stream",
     "text": [
      "WARNING:tensorflow:A checkpoint was restored (e.g. tf.train.Checkpoint.restore or tf.keras.Model.load_weights) but not all checkpointed values were used. See above for specific issues. Use expect_partial() on the load status object, e.g. tf.train.Checkpoint.restore(...).expect_partial(), to silence these warnings, or use assert_consumed() to make the check explicit. See https://www.tensorflow.org/guide/checkpoint#loading_mechanics for details.\n"
     ]
    },
    {
     "name": "stdout",
     "output_type": "stream",
     "text": [
      "r2_score, raw_values: [-0.06765216  0.03567373  0.8778565   0.06225148  0.86124112]\n",
      "mean_squared_error, raw_values: [0.12586919 2.72069182 6.86882166 2.74406748 9.15036665]\n",
      "mean_squared_error, uniform_average: 4.321963358739691\n",
      "mean_absolute_error, raw_values: [0.27085632 1.03273633 1.82718446 1.22057703 2.18388714]\n",
      "mean_absolute_error, uniform_average: 1.3070482553940768\n"
     ]
    }
   ],
   "source": [
    "def print_sklearn_reg_metrics(test_actual, test_predicted):\n",
    "    sk_metrics = r2_score(test_actual, test_predicted, multioutput='raw_values')\n",
    "    print(f'r2_score, raw_values: {sk_metrics}')\n",
    "    sk_metrics = mean_squared_error(test_actual, test_predicted, multioutput='raw_values')\n",
    "    print(f'mean_squared_error, raw_values: {sk_metrics}')\n",
    "    sk_metrics = mean_squared_error(test_actual, test_predicted, multioutput='uniform_average')\n",
    "    print(f'mean_squared_error, uniform_average: {sk_metrics}')\n",
    "    sk_metrics = mean_absolute_error(test_actual, test_predicted, multioutput='raw_values')\n",
    "    print(f'mean_absolute_error, raw_values: {sk_metrics}')\n",
    "    sk_metrics = mean_absolute_error(test_actual, test_predicted, multioutput='uniform_average')\n",
    "    print(f'mean_absolute_error, uniform_average: {sk_metrics}')\n",
    "\n",
    "print(cell_types)\n",
    "features_test_predicted = search.predict(features_test)\n",
    "print_sklearn_reg_metrics(targets_test, features_test_predicted)\n",
    "features_train_predicted = search.predict(features_train)\n",
    "print_sklearn_reg_metrics(targets_train, features_train_predicted)"
   ]
  },
  {
   "cell_type": "markdown",
   "metadata": {
    "papermill": {
     "duration": 0.046043,
     "end_time": "2020-09-22T15:20:14.700796",
     "exception": false,
     "start_time": "2020-09-22T15:20:14.654753",
     "status": "completed"
    },
    "tags": []
   },
   "source": [
    "#### check scores with cross fold validation"
   ]
  },
  {
   "cell_type": "code",
   "execution_count": 19,
   "metadata": {
    "execution": {
     "iopub.execute_input": "2020-09-22T15:20:14.794441Z",
     "iopub.status.busy": "2020-09-22T15:20:14.794036Z",
     "iopub.status.idle": "2020-09-22T15:20:14.795875Z",
     "shell.execute_reply": "2020-09-22T15:20:14.796296Z"
    },
    "papermill": {
     "duration": 0.049607,
     "end_time": "2020-09-22T15:20:14.796447",
     "exception": false,
     "start_time": "2020-09-22T15:20:14.746840",
     "status": "completed"
    },
    "tags": []
   },
   "outputs": [],
   "source": [
    "# n_scores = cross_val_score(model, features_train, targets_train, scoring='accuracy', cv=5, n_jobs=max_threads)\n",
    "# print(n_scores)"
   ]
  },
  {
   "cell_type": "markdown",
   "metadata": {
    "papermill": {
     "duration": 0.046893,
     "end_time": "2020-09-22T15:20:14.889859",
     "exception": false,
     "start_time": "2020-09-22T15:20:14.842966",
     "status": "completed"
    },
    "tags": []
   },
   "source": [
    "#### plot the test comparisons"
   ]
  },
  {
   "cell_type": "code",
   "execution_count": 20,
   "metadata": {
    "execution": {
     "iopub.execute_input": "2020-09-22T15:20:15.000478Z",
     "iopub.status.busy": "2020-09-22T15:20:14.988735Z",
     "iopub.status.idle": "2020-09-22T15:20:16.649638Z",
     "shell.execute_reply": "2020-09-22T15:20:16.649992Z"
    },
    "papermill": {
     "duration": 1.714166,
     "end_time": "2020-09-22T15:20:16.650143",
     "exception": false,
     "start_time": "2020-09-22T15:20:14.935977",
     "status": "completed"
    },
    "tags": []
   },
   "outputs": [
    {
     "data": {
      "image/png": "[encoded data removed]",
      "text/plain": [
       "<Figure size 432x288 with 1 Axes>"
      ]
     },
     "metadata": {
      "needs_background": "light"
     },
     "output_type": "display_data"
    },
    {
     "data": {
      "image/png": "[encoded data removed]",
      "text/plain": [
       "<Figure size 432x288 with 1 Axes>"
      ]
     },
     "metadata": {
      "needs_background": "light"
     },
     "output_type": "display_data"
    }
   ],
   "source": [
    "def plot_regressions(cell_types, actual_df, predicted_df, title):\n",
    "    for index, celltype in enumerate(cell_types):\n",
    "        sns.regplot(x=actual_df[celltype], y=predicted_df[:,index])\n",
    "    plt.xlabel('Actual cell %')\n",
    "    plt.ylabel('Predicted cell %')\n",
    "    plt.title(f'Actual vs Predicted: {title}')\n",
    "    plt.legend(cell_types, bbox_to_anchor=(1, 1))\n",
    "    plt.show()\n",
    "    \n",
    "plot_regressions(cell_types, targets_test, features_test_predicted, 'test data')\n",
    "plot_regressions(cell_types, targets_train, features_train_predicted, 'train data')"
   ]
  },
  {
   "cell_type": "markdown",
   "metadata": {
    "papermill": {
     "duration": 0.050091,
     "end_time": "2020-09-22T15:20:16.750244",
     "exception": false,
     "start_time": "2020-09-22T15:20:16.700153",
     "status": "completed"
    },
    "tags": []
   },
   "source": [
    "#### plot the model"
   ]
  },
  {
   "cell_type": "code",
   "execution_count": 21,
   "metadata": {
    "execution": {
     "iopub.execute_input": "2020-09-22T15:20:16.849415Z",
     "iopub.status.busy": "2020-09-22T15:20:16.848929Z",
     "iopub.status.idle": "2020-09-22T15:20:17.351882Z",
     "shell.execute_reply": "2020-09-22T15:20:17.352346Z"
    },
    "papermill": {
     "duration": 0.554455,
     "end_time": "2020-09-22T15:20:17.352493",
     "exception": false,
     "start_time": "2020-09-22T15:20:16.798038",
     "status": "completed"
    },
    "tags": []
   },
   "outputs": [
    {
     "name": "stdout",
     "output_type": "stream",
     "text": [
      "WARNING:tensorflow:Unresolved object in checkpoint: (root).optimizer.iter\n"
     ]
    },
    {
     "name": "stdout",
     "output_type": "stream",
     "text": [
      "WARNING:tensorflow:Unresolved object in checkpoint: (root).optimizer.beta_1\n"
     ]
    },
    {
     "name": "stdout",
     "output_type": "stream",
     "text": [
      "WARNING:tensorflow:Unresolved object in checkpoint: (root).optimizer.beta_2\n"
     ]
    },
    {
     "name": "stdout",
     "output_type": "stream",
     "text": [
      "WARNING:tensorflow:Unresolved object in checkpoint: (root).optimizer.decay\n"
     ]
    },
    {
     "name": "stdout",
     "output_type": "stream",
     "text": [
      "WARNING:tensorflow:Unresolved object in checkpoint: (root).optimizer.learning_rate\n"
     ]
    },
    {
     "name": "stdout",
     "output_type": "stream",
     "text": [
      "WARNING:tensorflow:A checkpoint was restored (e.g. tf.train.Checkpoint.restore or tf.keras.Model.load_weights) but not all checkpointed values were used. See above for specific issues. Use expect_partial() on the load status object, e.g. tf.train.Checkpoint.restore(...).expect_partial(), to silence these warnings, or use assert_consumed() to make the check explicit. See https://www.tensorflow.org/guide/checkpoint#loading_mechanics for details.\n"
     ]
    },
    {
     "data": {
      "image/png": "[encoded data removed]",
      "text/plain": [
       "<IPython.core.display.Image object>"
      ]
     },
     "execution_count": 21,
     "metadata": {},
     "output_type": "execute_result"
    }
   ],
   "source": [
    "import keras\n",
    "keras.utils.plot_model(model, f'{expr_name}_model_with_shape_info.png', show_shapes=True)\n"
   ]
  },
  {
   "cell_type": "markdown",
   "metadata": {
    "papermill": {
     "duration": 0.050819,
     "end_time": "2020-09-22T15:20:17.456023",
     "exception": false,
     "start_time": "2020-09-22T15:20:17.405204",
     "status": "completed"
    },
    "tags": []
   },
   "source": [
    "#### now predict fractions for samples that don't have them"
   ]
  },
  {
   "cell_type": "code",
   "execution_count": 22,
   "metadata": {
    "execution": {
     "iopub.execute_input": "2020-09-22T15:20:17.574661Z",
     "iopub.status.busy": "2020-09-22T15:20:17.565182Z",
     "iopub.status.idle": "2020-09-22T15:20:17.576938Z",
     "shell.execute_reply": "2020-09-22T15:20:17.577333Z"
    },
    "papermill": {
     "duration": 0.068569,
     "end_time": "2020-09-22T15:20:17.577478",
     "exception": false,
     "start_time": "2020-09-22T15:20:17.508909",
     "status": "completed"
    },
    "tags": []
   },
   "outputs": [
    {
     "name": "stdout",
     "output_type": "stream",
     "text": [
      "(2806, 1219)\n"
     ]
    }
   ],
   "source": [
    "missing_fracs_expr_df = expr_df.loc[~expr_df.index.isin(data_df.index)]\n",
    "print(missing_fracs_expr_df.shape)"
   ]
  },
  {
   "cell_type": "code",
   "execution_count": 23,
   "metadata": {
    "execution": {
     "iopub.execute_input": "2020-09-22T15:20:20.613535Z",
     "iopub.status.busy": "2020-09-22T15:20:20.613020Z",
     "iopub.status.idle": "2020-09-22T15:20:36.436346Z",
     "shell.execute_reply": "2020-09-22T15:20:36.435878Z"
    },
    "papermill": {
     "duration": 18.806264,
     "end_time": "2020-09-22T15:20:36.436480",
     "exception": false,
     "start_time": "2020-09-22T15:20:17.630216",
     "status": "completed"
    },
    "tags": []
   },
   "outputs": [],
   "source": [
    "missing_predicted = search.predict(missing_fracs_expr_df)"
   ]
  },
  {
   "cell_type": "code",
   "execution_count": 24,
   "metadata": {
    "execution": {
     "iopub.execute_input": "2020-09-22T15:20:36.548916Z",
     "iopub.status.busy": "2020-09-22T15:20:36.548414Z",
     "iopub.status.idle": "2020-09-22T15:20:36.568540Z",
     "shell.execute_reply": "2020-09-22T15:20:36.567976Z"
    },
    "papermill": {
     "duration": 0.076837,
     "end_time": "2020-09-22T15:20:36.568665",
     "exception": false,
     "start_time": "2020-09-22T15:20:36.491828",
     "status": "completed"
    },
    "tags": []
   },
   "outputs": [],
   "source": [
    "missing_predicted_df = pd.DataFrame(data=missing_predicted, columns=cell_types, \n",
    "                                 index=missing_fracs_expr_df.index)\n",
    "missing_predicted_df.index.name = 'rnaid'\n",
    "missing_predicted_df.to_csv(predicted_fractions_for_missing_file)"
   ]
  },
  {
   "cell_type": "code",
   "execution_count": 25,
   "metadata": {
    "execution": {
     "iopub.execute_input": "2020-09-22T15:20:36.682343Z",
     "iopub.status.busy": "2020-09-22T15:20:36.681818Z",
     "iopub.status.idle": "2020-09-22T15:20:36.684496Z",
     "shell.execute_reply": "2020-09-22T15:20:36.684968Z"
    },
    "papermill": {
     "duration": 0.062299,
     "end_time": "2020-09-22T15:20:36.685112",
     "exception": false,
     "start_time": "2020-09-22T15:20:36.622813",
     "status": "completed"
    },
    "tags": []
   },
   "outputs": [
    {
     "data": {
      "text/plain": [
       "Basophils       0.735118\n",
       "Eosinophils     1.933759\n",
       "Lymphocytes    28.134071\n",
       "Monocytes       6.164172\n",
       "Neutrophils    62.738808\n",
       "dtype: float32"
      ]
     },
     "execution_count": 25,
     "metadata": {},
     "output_type": "execute_result"
    }
   ],
   "source": [
    "missing_predicted_df.mean(axis=0)"
   ]
  },
  {
   "cell_type": "code",
   "execution_count": 26,
   "metadata": {
    "execution": {
     "iopub.execute_input": "2020-09-22T15:20:36.801245Z",
     "iopub.status.busy": "2020-09-22T15:20:36.800743Z",
     "iopub.status.idle": "2020-09-22T15:20:36.803808Z",
     "shell.execute_reply": "2020-09-22T15:20:36.803397Z"
    },
    "papermill": {
     "duration": 0.063401,
     "end_time": "2020-09-22T15:20:36.803946",
     "exception": false,
     "start_time": "2020-09-22T15:20:36.740545",
     "status": "completed"
    },
    "tags": []
   },
   "outputs": [
    {
     "data": {
      "text/plain": [
       "Basophils       0.655151\n",
       "Eosinophils     2.483597\n",
       "Lymphocytes    27.914659\n",
       "Monocytes       6.403803\n",
       "Neutrophils    62.541918\n",
       "dtype: float64"
      ]
     },
     "execution_count": 26,
     "metadata": {},
     "output_type": "execute_result"
    }
   ],
   "source": [
    "targets_train.mean(axis=0)"
   ]
  },
  {
   "cell_type": "code",
   "execution_count": 27,
   "metadata": {
    "execution": {
     "iopub.execute_input": "2020-09-22T15:20:36.938044Z",
     "iopub.status.busy": "2020-09-22T15:20:36.937517Z",
     "iopub.status.idle": "2020-09-22T15:20:38.137574Z",
     "shell.execute_reply": "2020-09-22T15:20:38.137180Z"
    },
    "papermill": {
     "duration": 1.277837,
     "end_time": "2020-09-22T15:20:38.137689",
     "exception": false,
     "start_time": "2020-09-22T15:20:36.859852",
     "status": "completed"
    },
    "tags": []
   },
   "outputs": [
    {
     "data": {
      "image/png": "[encoded data removed]",
      "text/plain": [
       "<Figure size 432x288 with 1 Axes>"
      ]
     },
     "metadata": {
      "needs_background": "light"
     },
     "output_type": "display_data"
    },
    {
     "name": "stdout",
     "output_type": "stream",
     "text": [
      "WARNING:tensorflow:Unresolved object in checkpoint: (root).optimizer.iter\n"
     ]
    },
    {
     "name": "stdout",
     "output_type": "stream",
     "text": [
      "WARNING:tensorflow:Unresolved object in checkpoint: (root).optimizer.beta_1\n"
     ]
    },
    {
     "name": "stdout",
     "output_type": "stream",
     "text": [
      "WARNING:tensorflow:Unresolved object in checkpoint: (root).optimizer.beta_2\n"
     ]
    },
    {
     "name": "stdout",
     "output_type": "stream",
     "text": [
      "WARNING:tensorflow:Unresolved object in checkpoint: (root).optimizer.decay\n"
     ]
    },
    {
     "name": "stdout",
     "output_type": "stream",
     "text": [
      "WARNING:tensorflow:Unresolved object in checkpoint: (root).optimizer.learning_rate\n"
     ]
    },
    {
     "name": "stdout",
     "output_type": "stream",
     "text": [
      "WARNING:tensorflow:A checkpoint was restored (e.g. tf.train.Checkpoint.restore or tf.keras.Model.load_weights) but not all checkpointed values were used. See above for specific issues. Use expect_partial() on the load status object, e.g. tf.train.Checkpoint.restore(...).expect_partial(), to silence these warnings, or use assert_consumed() to make the check explicit. See https://www.tensorflow.org/guide/checkpoint#loading_mechanics for details.\n"
     ]
    },
    {
     "data": {
      "image/png": "[encoded data removed]",
      "text/plain": [
       "<Figure size 432x288 with 1 Axes>"
      ]
     },
     "metadata": {
      "needs_background": "light"
     },
     "output_type": "display_data"
    },
    {
     "data": {
      "image/png": "[encoded data removed]",
      "text/plain": [
       "<Figure size 432x288 with 1 Axes>"
      ]
     },
     "metadata": {
      "needs_background": "light"
     },
     "output_type": "display_data"
    },
    {
     "data": {
      "image/png": "[encoded data removed]",
      "text/plain": [
       "<Figure size 432x288 with 1 Axes>"
      ]
     },
     "metadata": {
      "needs_background": "light"
     },
     "output_type": "display_data"
    },
    {
     "data": {
      "image/png": "[encoded data removed]",
      "text/plain": [
       "<Figure size 432x288 with 1 Axes>"
      ]
     },
     "metadata": {
      "needs_background": "light"
     },
     "output_type": "display_data"
    }
   ],
   "source": [
    "def plot_densities(cell_types, known_df, predicted_df):\n",
    "    for index, celltype in enumerate(cell_types):\n",
    "        sns.distplot(known_df[celltype], rug=True, hist=False)\n",
    "        sns.distplot(predicted_df[celltype], rug=True, hist=False)\n",
    "        plt.xlabel('Known')\n",
    "        plt.ylabel('Predicted')\n",
    "        plt.title(f'Known vs Predicted: {celltype}')\n",
    "        plt.legend(['known', 'predicted'], bbox_to_anchor=(1, 1))\n",
    "        plt.show()\n",
    "    \n",
    "plot_densities(cell_types, targets_train, missing_predicted_df)"
   ]
  },
  {
   "cell_type": "code",
   "execution_count": null,
   "metadata": {
    "papermill": {
     "duration": 0.0699,
     "end_time": "2020-09-22T15:20:38.263023",
     "exception": false,
     "start_time": "2020-09-22T15:20:38.193123",
     "status": "completed"
    },
    "tags": []
   },
   "outputs": [],
   "source": []
  }
 ],
 "metadata": {
  "environment": {
   "name": "tf2-2-3-gpu.2-3.m55",
   "type": "gcloud",
   "uri": "gcr.io/deeplearning-platform-release/tf2-2-3-gpu.2-3:m55"
  },
  "kernelspec": {
   "display_name": "Python 3",
   "language": "python",
   "name": "python3"
  },
  "language_info": {
   "codemirror_mode": {
    "name": "ipython",
    "version": 3
   },
   "file_extension": ".py",
   "mimetype": "text/x-python",
   "name": "python",
   "nbconvert_exporter": "python",
   "pygments_lexer": "ipython3",
   "version": "3.7.8"
  },
  "papermill": {
   "duration": 20097.525957,
   "end_time": "2020-09-22T15:20:41.027295",
   "environment_variables": {},
   "exception": null,
   "input_path": "dl_cell_fractions_from_expression.ipynb",
   "output_path": "pm_gend_nbs/dl_elevated_cell_fractions_from_expression.ipynb",
   "parameters": {
    "add_random": true,
    "cohort": "ppmi",
    "expr_name": "elevated",
    "overwrite_model": true
   },
   "start_time": "2020-09-22T09:45:43.501338",
   "version": "2.1.2"
  }
 },
 "nbformat": 4,
 "nbformat_minor": 4
}