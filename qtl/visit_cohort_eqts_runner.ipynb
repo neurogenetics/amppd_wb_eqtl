{
 "cells": [
  {
   "cell_type": "markdown",
   "metadata": {},
   "source": [
    "## Notebook to runner for AMP-PD tissue and visit PD risk eQTS analysis via papermill"
   ]
  },
  {
   "cell_type": "markdown",
   "metadata": {},
   "source": [
    "#### import libraries"
   ]
  },
  {
   "cell_type": "code",
   "execution_count": 1,
   "metadata": {},
   "outputs": [],
   "source": [
    "import pandas as pd\n",
    "import os\n",
    "import papermill as pm"
   ]
  },
  {
   "cell_type": "code",
   "execution_count": 2,
   "metadata": {},
   "outputs": [],
   "source": [
    "# base notebook to be run per tuple iteration\n",
    "base_notebook = '/home/jupyter/notebooks/visit_cohort_eqts.ipynb'\n",
    "\n",
    "# setup iteration tuples\n",
    "cohort_names = ['biofind', 'pdbp', 'ppmi']\n",
    "cohort_abbrvs = ['BF', 'PD', 'PP']\n",
    "version = 'amppdv1'\n",
    "tissue = 'wb'\n",
    "months = [0, 1, 6 , 12, 18, 24, 36]\n",
    "visit_names = ['BLM0T1', 'SVM0_5T1', 'SVM6T1', 'SVM12T1', 'SVM18T1', 'SVM24T1', 'SVM36T1']\n",
    "column_names = ['cohort', 'amp_abbr', 'version', 'tissue', 'visit', 'visit_name']\n",
    "# nb_combo_df = pd.DataFrame(data=X, columns=column_names)\n",
    "quant_type = 'genes'"
   ]
  },
  {
   "cell_type": "markdown",
   "metadata": {},
   "source": [
    "#### iterate over the tuples running the notebook per tuple"
   ]
  },
  {
   "cell_type": "code",
   "execution_count": 3,
   "metadata": {},
   "outputs": [
    {
     "name": "stdout",
     "output_type": "stream",
     "text": [
      "{'cohort': 'biofind', 'tissue': 'wb', 'visit': 1, 'visit_name': 'SVM0_5T1', 'quant_type': 'genes'}\n",
      "/home/jupyter/notebooks/biofind/pm_gend_nbs/biofind_wb_SVM0_5T1_eqts.ipynb.ipynb\n"
     ]
    },
    {
     "data": {
      "application/vnd.jupyter.widget-view+json": {
       "model_id": "8b7c74d6b2564df498cdcf0f8118e7ac",
       "version_major": 2,
       "version_minor": 0
      },
      "text/plain": [
       "Executing:   0%|          | 0/36 [00:00<?, ?cell/s]"
      ]
     },
     "metadata": {},
     "output_type": "display_data"
    },
    {
     "name": "stdout",
     "output_type": "stream",
     "text": [
      "{'cohort': 'pdbp', 'tissue': 'wb', 'visit': 0, 'visit_name': 'BLM0T1', 'quant_type': 'genes'}\n",
      "/home/jupyter/notebooks/pdbp/pm_gend_nbs/pdbp_wb_BLM0T1_eqts.ipynb.ipynb\n"
     ]
    },
    {
     "data": {
      "application/vnd.jupyter.widget-view+json": {
       "model_id": "fe372929f05c4415accd454ae741c24b",
       "version_major": 2,
       "version_minor": 0
      },
      "text/plain": [
       "Executing:   0%|          | 0/36 [00:00<?, ?cell/s]"
      ]
     },
     "metadata": {},
     "output_type": "display_data"
    },
    {
     "name": "stdout",
     "output_type": "stream",
     "text": [
      "{'cohort': 'pdbp', 'tissue': 'wb', 'visit': 6, 'visit_name': 'SVM6T1', 'quant_type': 'genes'}\n",
      "/home/jupyter/notebooks/pdbp/pm_gend_nbs/pdbp_wb_SVM6T1_eqts.ipynb.ipynb\n"
     ]
    },
    {
     "data": {
      "application/vnd.jupyter.widget-view+json": {
       "model_id": "ce14ea70274f4e998c730b602f948d07",
       "version_major": 2,
       "version_minor": 0
      },
      "text/plain": [
       "Executing:   0%|          | 0/36 [00:00<?, ?cell/s]"
      ]
     },
     "metadata": {},
     "output_type": "display_data"
    },
    {
     "name": "stdout",
     "output_type": "stream",
     "text": [
      "{'cohort': 'pdbp', 'tissue': 'wb', 'visit': 12, 'visit_name': 'SVM12T1', 'quant_type': 'genes'}\n",
      "/home/jupyter/notebooks/pdbp/pm_gend_nbs/pdbp_wb_SVM12T1_eqts.ipynb.ipynb\n"
     ]
    },
    {
     "data": {
      "application/vnd.jupyter.widget-view+json": {
       "model_id": "35cfc528dc5c4dfd9cece81d78de3b5a",
       "version_major": 2,
       "version_minor": 0
      },
      "text/plain": [
       "Executing:   0%|          | 0/36 [00:00<?, ?cell/s]"
      ]
     },
     "metadata": {},
     "output_type": "display_data"
    },
    {
     "name": "stdout",
     "output_type": "stream",
     "text": [
      "{'cohort': 'pdbp', 'tissue': 'wb', 'visit': 18, 'visit_name': 'SVM18T1', 'quant_type': 'genes'}\n",
      "/home/jupyter/notebooks/pdbp/pm_gend_nbs/pdbp_wb_SVM18T1_eqts.ipynb.ipynb\n"
     ]
    },
    {
     "data": {
      "application/vnd.jupyter.widget-view+json": {
       "model_id": "919bd72a8b9c48de9fabce5785368af6",
       "version_major": 2,
       "version_minor": 0
      },
      "text/plain": [
       "Executing:   0%|          | 0/36 [00:00<?, ?cell/s]"
      ]
     },
     "metadata": {},
     "output_type": "display_data"
    },
    {
     "name": "stdout",
     "output_type": "stream",
     "text": [
      "{'cohort': 'pdbp', 'tissue': 'wb', 'visit': 24, 'visit_name': 'SVM24T1', 'quant_type': 'genes'}\n",
      "/home/jupyter/notebooks/pdbp/pm_gend_nbs/pdbp_wb_SVM24T1_eqts.ipynb.ipynb\n"
     ]
    },
    {
     "data": {
      "application/vnd.jupyter.widget-view+json": {
       "model_id": "fb964da6f6cd4869b54eb99f35c4d877",
       "version_major": 2,
       "version_minor": 0
      },
      "text/plain": [
       "Executing:   0%|          | 0/36 [00:00<?, ?cell/s]"
      ]
     },
     "metadata": {},
     "output_type": "display_data"
    },
    {
     "name": "stdout",
     "output_type": "stream",
     "text": [
      "{'cohort': 'ppmi', 'tissue': 'wb', 'visit': 0, 'visit_name': 'BLM0T1', 'quant_type': 'genes'}\n",
      "/home/jupyter/notebooks/ppmi/pm_gend_nbs/ppmi_wb_BLM0T1_eqts.ipynb.ipynb\n"
     ]
    },
    {
     "data": {
      "application/vnd.jupyter.widget-view+json": {
       "model_id": "f959f7c37f384c83b9105cec31174a43",
       "version_major": 2,
       "version_minor": 0
      },
      "text/plain": [
       "Executing:   0%|          | 0/36 [00:00<?, ?cell/s]"
      ]
     },
     "metadata": {},
     "output_type": "display_data"
    },
    {
     "name": "stdout",
     "output_type": "stream",
     "text": [
      "{'cohort': 'ppmi', 'tissue': 'wb', 'visit': 6, 'visit_name': 'SVM6T1', 'quant_type': 'genes'}\n",
      "/home/jupyter/notebooks/ppmi/pm_gend_nbs/ppmi_wb_SVM6T1_eqts.ipynb.ipynb\n"
     ]
    },
    {
     "data": {
      "application/vnd.jupyter.widget-view+json": {
       "model_id": "f66adb677b5440e7b367b0c7d1c7fa68",
       "version_major": 2,
       "version_minor": 0
      },
      "text/plain": [
       "Executing:   0%|          | 0/36 [00:00<?, ?cell/s]"
      ]
     },
     "metadata": {},
     "output_type": "display_data"
    },
    {
     "name": "stdout",
     "output_type": "stream",
     "text": [
      "{'cohort': 'ppmi', 'tissue': 'wb', 'visit': 12, 'visit_name': 'SVM12T1', 'quant_type': 'genes'}\n",
      "/home/jupyter/notebooks/ppmi/pm_gend_nbs/ppmi_wb_SVM12T1_eqts.ipynb.ipynb\n"
     ]
    },
    {
     "data": {
      "application/vnd.jupyter.widget-view+json": {
       "model_id": "ea9db5062c38472c89906ea92e592f53",
       "version_major": 2,
       "version_minor": 0
      },
      "text/plain": [
       "Executing:   0%|          | 0/36 [00:00<?, ?cell/s]"
      ]
     },
     "metadata": {},
     "output_type": "display_data"
    },
    {
     "name": "stdout",
     "output_type": "stream",
     "text": [
      "{'cohort': 'ppmi', 'tissue': 'wb', 'visit': 24, 'visit_name': 'SVM24T1', 'quant_type': 'genes'}\n",
      "/home/jupyter/notebooks/ppmi/pm_gend_nbs/ppmi_wb_SVM24T1_eqts.ipynb.ipynb\n"
     ]
    },
    {
     "data": {
      "application/vnd.jupyter.widget-view+json": {
       "model_id": "0799a69fccd345cfaf66b79bab459600",
       "version_major": 2,
       "version_minor": 0
      },
      "text/plain": [
       "Executing:   0%|          | 0/36 [00:00<?, ?cell/s]"
      ]
     },
     "metadata": {},
     "output_type": "display_data"
    },
    {
     "name": "stdout",
     "output_type": "stream",
     "text": [
      "{'cohort': 'ppmi', 'tissue': 'wb', 'visit': 36, 'visit_name': 'SVM36T1', 'quant_type': 'genes'}\n",
      "/home/jupyter/notebooks/ppmi/pm_gend_nbs/ppmi_wb_SVM36T1_eqts.ipynb.ipynb\n"
     ]
    },
    {
     "data": {
      "application/vnd.jupyter.widget-view+json": {
       "model_id": "a2f9dedd63f94411a5344b95c24a0a68",
       "version_major": 2,
       "version_minor": 0
      },
      "text/plain": [
       "Executing:   0%|          | 0/36 [00:00<?, ?cell/s]"
      ]
     },
     "metadata": {},
     "output_type": "display_data"
    },
    {
     "name": "stdout",
     "output_type": "stream",
     "text": [
      "CPU times: user 18.3 s, sys: 695 ms, total: 19 s\n",
      "Wall time: 20min 25s\n"
     ]
    }
   ],
   "source": [
    "%%time\n",
    "\n",
    "cohorts = zip(cohort_names, cohort_abbrvs)\n",
    "for cohort, abbrv in cohorts:\n",
    "    out_nb_dir = f'/home/jupyter/notebooks/{cohort}/pm_gend_nbs'\n",
    "    # make sure the notebook output dir exists\n",
    "    os.makedirs(out_nb_dir, exist_ok=True)\n",
    "    wrk_dir = f'/home/jupyter/{cohort}'\n",
    "    visits = zip(months, visit_names)\n",
    "    for month, visit in visits:\n",
    "        # before running prep notebook make sure expr data for the cohort and visit\n",
    "        src_expression_matrix = f'/home/jupyter/amppd/expression/{abbrv}.{visit}.{quant_type}.hdf5'\n",
    "        if os.path.isfile(src_expression_matrix):\n",
    "            param_dict = {'cohort': cohort, 'tissue': tissue, \n",
    "                          'visit': month, 'visit_name': visit, \n",
    "                          'quant_type': quant_type}\n",
    "            out_notebook = f'{out_nb_dir}/{cohort}_{tissue}_{visit}_eqts.ipynb'\n",
    "            print(param_dict)\n",
    "            print(out_notebook)\n",
    "            pm.execute_notebook(input_path=base_notebook, output_path=out_notebook, \n",
    "                                parameters=param_dict)"
   ]
  },
  {
   "cell_type": "code",
   "execution_count": null,
   "metadata": {},
   "outputs": [],
   "source": []
  }
 ],
 "metadata": {
  "environment": {
   "name": "pytorch-gpu.1-8.m65",
   "type": "gcloud",
   "uri": "gcr.io/deeplearning-platform-release/pytorch-gpu.1-8:m65"
  },
  "kernelspec": {
   "display_name": "Python 3",
   "language": "python",
   "name": "python3"
  },
  "language_info": {
   "codemirror_mode": {
    "name": "ipython",
    "version": 3
   },
   "file_extension": ".py",
   "mimetype": "text/x-python",
   "name": "python",
   "nbconvert_exporter": "python",
   "pygments_lexer": "ipython3",
   "version": "3.7.10"
  }
 },
 "nbformat": 4,
 "nbformat_minor": 4
}
