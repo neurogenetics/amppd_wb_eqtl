{
 "cells": [
  {
   "cell_type": "markdown",
   "metadata": {},
   "source": [
    "## Notebook to runner for AMP-PD to scan risk for risk variants in replicated ieQTL results per interaction term via papermill"
   ]
  },
  {
   "cell_type": "code",
   "execution_count": 1,
   "metadata": {},
   "outputs": [
    {
     "name": "stdout",
     "output_type": "stream",
     "text": [
      "Tue Jul  6 19:43:17 UTC 2021\n"
     ]
    }
   ],
   "source": [
    "!date"
   ]
  },
  {
   "cell_type": "markdown",
   "metadata": {},
   "source": [
    "#### import libraries"
   ]
  },
  {
   "cell_type": "code",
   "execution_count": 2,
   "metadata": {},
   "outputs": [],
   "source": [
    "import pandas as pd\n",
    "import os\n",
    "import papermill as pm"
   ]
  },
  {
   "cell_type": "code",
   "execution_count": 3,
   "metadata": {},
   "outputs": [],
   "source": [
    "# base notebook to be run per tuple iteration\n",
    "base_notebook = '/home/jupyter/notebooks/replicated_ieqtl_scan_risk.ipynb'\n",
    "\n",
    "# setup iteration tuples\n",
    "disc_cohort = 'ppmi'\n",
    "rep_cohort = 'pdbp'\n",
    "tissue = 'wb'\n",
    "terms = ['DX', 'GRS', 'Basophils', 'Eosinophils', 'Lymphocytes', 'Monocytes', 'Neutrophils']"
   ]
  },
  {
   "cell_type": "markdown",
   "metadata": {},
   "source": [
    "#### iterate over the tuples running the notebook per tuple"
   ]
  },
  {
   "cell_type": "code",
   "execution_count": 4,
   "metadata": {},
   "outputs": [
    {
     "name": "stdout",
     "output_type": "stream",
     "text": [
      "{'disc_cohort': 'ppmi', 'rep_cohort': 'pdbp', 'tissue': 'wb', 'interaction_term': 'DX'}\n",
      "/home/jupyter/notebooks/ppmi/pm_gend_nbs/ppmi.wb.DX.replicated_ieqtl_scan_risk.ipynb\n"
     ]
    },
    {
     "data": {
      "application/vnd.jupyter.widget-view+json": {
       "model_id": "35c381864271435e865631a22c14beaf",
       "version_major": 2,
       "version_minor": 0
      },
      "text/plain": [
       "Executing:   0%|          | 0/51 [00:00<?, ?cell/s]"
      ]
     },
     "metadata": {},
     "output_type": "display_data"
    },
    {
     "name": "stdout",
     "output_type": "stream",
     "text": [
      "ppmi.wb.DX encountered an error continuing on next\n",
      "{'disc_cohort': 'ppmi', 'rep_cohort': 'pdbp', 'tissue': 'wb', 'interaction_term': 'GRS'}\n",
      "/home/jupyter/notebooks/ppmi/pm_gend_nbs/ppmi.wb.GRS.replicated_ieqtl_scan_risk.ipynb\n"
     ]
    },
    {
     "data": {
      "application/vnd.jupyter.widget-view+json": {
       "model_id": "319b9cdb8ef54f2ea304cf4d67e5c23f",
       "version_major": 2,
       "version_minor": 0
      },
      "text/plain": [
       "Executing:   0%|          | 0/51 [00:00<?, ?cell/s]"
      ]
     },
     "metadata": {},
     "output_type": "display_data"
    },
    {
     "name": "stdout",
     "output_type": "stream",
     "text": [
      "{'disc_cohort': 'ppmi', 'rep_cohort': 'pdbp', 'tissue': 'wb', 'interaction_term': 'Basophils'}\n",
      "/home/jupyter/notebooks/ppmi/pm_gend_nbs/ppmi.wb.Basophils.replicated_ieqtl_scan_risk.ipynb\n"
     ]
    },
    {
     "data": {
      "application/vnd.jupyter.widget-view+json": {
       "model_id": "5258e4186af5451db38b463053dabfb7",
       "version_major": 2,
       "version_minor": 0
      },
      "text/plain": [
       "Executing:   0%|          | 0/51 [00:00<?, ?cell/s]"
      ]
     },
     "metadata": {},
     "output_type": "display_data"
    },
    {
     "name": "stdout",
     "output_type": "stream",
     "text": [
      "{'disc_cohort': 'ppmi', 'rep_cohort': 'pdbp', 'tissue': 'wb', 'interaction_term': 'Eosinophils'}\n",
      "/home/jupyter/notebooks/ppmi/pm_gend_nbs/ppmi.wb.Eosinophils.replicated_ieqtl_scan_risk.ipynb\n"
     ]
    },
    {
     "data": {
      "application/vnd.jupyter.widget-view+json": {
       "model_id": "3e8251ed788b4a5c8fc7de847f4f93a4",
       "version_major": 2,
       "version_minor": 0
      },
      "text/plain": [
       "Executing:   0%|          | 0/51 [00:00<?, ?cell/s]"
      ]
     },
     "metadata": {},
     "output_type": "display_data"
    },
    {
     "name": "stdout",
     "output_type": "stream",
     "text": [
      "{'disc_cohort': 'ppmi', 'rep_cohort': 'pdbp', 'tissue': 'wb', 'interaction_term': 'Lymphocytes'}\n",
      "/home/jupyter/notebooks/ppmi/pm_gend_nbs/ppmi.wb.Lymphocytes.replicated_ieqtl_scan_risk.ipynb\n"
     ]
    },
    {
     "data": {
      "application/vnd.jupyter.widget-view+json": {
       "model_id": "9c4611398d6947b2a82ac74ea2362e9e",
       "version_major": 2,
       "version_minor": 0
      },
      "text/plain": [
       "Executing:   0%|          | 0/51 [00:00<?, ?cell/s]"
      ]
     },
     "metadata": {},
     "output_type": "display_data"
    },
    {
     "name": "stdout",
     "output_type": "stream",
     "text": [
      "{'disc_cohort': 'ppmi', 'rep_cohort': 'pdbp', 'tissue': 'wb', 'interaction_term': 'Monocytes'}\n",
      "/home/jupyter/notebooks/ppmi/pm_gend_nbs/ppmi.wb.Monocytes.replicated_ieqtl_scan_risk.ipynb\n"
     ]
    },
    {
     "data": {
      "application/vnd.jupyter.widget-view+json": {
       "model_id": "51b137e26aac44e0ace618c31d3a3aa0",
       "version_major": 2,
       "version_minor": 0
      },
      "text/plain": [
       "Executing:   0%|          | 0/51 [00:00<?, ?cell/s]"
      ]
     },
     "metadata": {},
     "output_type": "display_data"
    },
    {
     "name": "stdout",
     "output_type": "stream",
     "text": [
      "{'disc_cohort': 'ppmi', 'rep_cohort': 'pdbp', 'tissue': 'wb', 'interaction_term': 'Neutrophils'}\n",
      "/home/jupyter/notebooks/ppmi/pm_gend_nbs/ppmi.wb.Neutrophils.replicated_ieqtl_scan_risk.ipynb\n"
     ]
    },
    {
     "data": {
      "application/vnd.jupyter.widget-view+json": {
       "model_id": "69a4fb3a1125495198178e07242522ea",
       "version_major": 2,
       "version_minor": 0
      },
      "text/plain": [
       "Executing:   0%|          | 0/51 [00:00<?, ?cell/s]"
      ]
     },
     "metadata": {},
     "output_type": "display_data"
    },
    {
     "name": "stdout",
     "output_type": "stream",
     "text": [
      "CPU times: user 31.4 s, sys: 1.16 s, total: 32.6 s\n",
      "Wall time: 1h 7min 11s\n"
     ]
    }
   ],
   "source": [
    "%%time\n",
    "\n",
    "out_nb_dir = f'/home/jupyter/notebooks/{disc_cohort}/pm_gend_nbs'\n",
    "# make sure the notebook output dir exists\n",
    "os.makedirs(out_nb_dir, exist_ok=True)\n",
    "wrk_dir = f'/home/jupyter/{disc_cohort}'\n",
    "for term in terms:\n",
    "    # before running prep notebook make results exist for the cohort and visit\n",
    "    results_file = f'{wrk_dir}/results/{disc_cohort}.{tissue}.{term}.cis.ieqtl.csv'\n",
    "    if os.path.isfile(results_file):\n",
    "        param_dict = {'disc_cohort': disc_cohort, 'rep_cohort': rep_cohort, \n",
    "                      'tissue': tissue, 'interaction_term': term}\n",
    "        out_notebook = f'{out_nb_dir}/{disc_cohort}.{tissue}.{term}.replicated_ieqtl_scan_risk.ipynb'\n",
    "        print(param_dict)\n",
    "        print(out_notebook)\n",
    "        try:\n",
    "            pm.execute_notebook(input_path=base_notebook, output_path=out_notebook, \n",
    "                                parameters=param_dict)\n",
    "        except:\n",
    "            print(f'{disc_cohort}.{tissue}.{term} encountered an error continuing on next')                "
   ]
  },
  {
   "cell_type": "code",
   "execution_count": null,
   "metadata": {},
   "outputs": [],
   "source": []
  }
 ],
 "metadata": {
  "environment": {
   "name": "pytorch-gpu.1-8.m65",
   "type": "gcloud",
   "uri": "gcr.io/deeplearning-platform-release/pytorch-gpu.1-8:m65"
  },
  "kernelspec": {
   "display_name": "Python 3",
   "language": "python",
   "name": "python3"
  },
  "language_info": {
   "codemirror_mode": {
    "name": "ipython",
    "version": 3
   },
   "file_extension": ".py",
   "mimetype": "text/x-python",
   "name": "python",
   "nbconvert_exporter": "python",
   "pygments_lexer": "ipython3",
   "version": "3.7.10"
  }
 },
 "nbformat": 4,
 "nbformat_minor": 4
}
