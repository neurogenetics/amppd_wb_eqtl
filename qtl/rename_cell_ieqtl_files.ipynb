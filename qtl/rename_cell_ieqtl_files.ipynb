{
 "cells": [
  {
   "cell_type": "code",
   "execution_count": 1,
   "id": "50ebc764",
   "metadata": {},
   "outputs": [],
   "source": [
    "autosomes = [str(x) for x in list(range(1,23))]\n",
    "celltypes = ['Basophils', 'Eosinophils', 'Lymphocytes', 'Monocytes', 'Neutrophils']"
   ]
  },
  {
   "cell_type": "code",
   "execution_count": 2,
   "id": "deab1791",
   "metadata": {},
   "outputs": [],
   "source": [
    "cohort = 'ppmi'\n",
    "this_path = f'/home/jupyter/{cohort}/tensorqtl'\n",
    "\n",
    "if cohort == 'pdbp':\n",
    "    months = [6, 12, 18, 24]\n",
    "    visit_names = ['SVM6T1', 'SVM12T1', 'SVM18T1', 'SVM24T1']\n",
    "else:\n",
    "    months = [6, 12, 24, 36]\n",
    "    visit_names = ['SVM6T1', 'SVM12T1', 'SVM24T1', 'SVM36T1']\n",
    "\n",
    "visits = list(zip(months, visit_names))\n",
    "\n",
    "# the baseline doesn't have a visit\n",
    "for celltype in celltypes:\n",
    "    this_cmd = f'mv {this_path}/{cohort}.{celltype}.cis_qtl_top_assoc.txt.gz \\\n",
    "{this_path}/{cohort}.wb0.{celltype}.cis_qtl_top_assoc.txt.gz'\n",
    "#     print(this_cmd)    \n",
    "    !{this_cmd}\n",
    "    for chrom in autosomes:\n",
    "        this_cmd = f'mv {this_path}/{cohort}.{celltype}.cis_qtl_pairs.chr{chrom}.parquet \\\n",
    "{this_path}/{cohort}.wb0.{celltype}.cis_qtl_pairs.chr{chrom}.parquet'\n",
    "#         print(this_cmd)\n",
    "        !{this_cmd}"
   ]
  },
  {
   "cell_type": "code",
   "execution_count": 3,
   "id": "b967d733",
   "metadata": {},
   "outputs": [
    {
     "name": "stdout",
     "output_type": "stream",
     "text": [
      "6 SVM6T1\n",
      "12 SVM12T1\n",
      "24 SVM24T1\n",
      "36 SVM36T1\n"
     ]
    }
   ],
   "source": [
    "for month, visit in visits:\n",
    "    print(month, visit)"
   ]
  },
  {
   "cell_type": "code",
   "execution_count": 4,
   "id": "e851e46b",
   "metadata": {},
   "outputs": [],
   "source": [
    "for celltype in celltypes:\n",
    "    for month, visit in visits:\n",
    "        this_cmd = f'mv {this_path}/{cohort}.{visit}.{celltype}.cis_qtl_top_assoc.txt.gz \\\n",
    "{this_path}/{cohort}.wb{month}.{celltype}.cis_qtl_top_assoc.txt.gz'\n",
    "        !{this_cmd}        \n",
    "        for chrom in autosomes:\n",
    "            this_cmd = f'mv {this_path}/{cohort}.{visit}.{celltype}.cis_qtl_pairs.chr{chrom}.parquet \\\n",
    "{this_path}/{cohort}.wb{month}.{celltype}.cis_qtl_pairs.chr{chrom}.parquet'\n",
    "            !{this_cmd}"
   ]
  },
  {
   "cell_type": "code",
   "execution_count": null,
   "id": "caa1fc4b",
   "metadata": {},
   "outputs": [],
   "source": []
  }
 ],
 "metadata": {
  "environment": {
   "name": "pytorch-gpu.1-8.m65",
   "type": "gcloud",
   "uri": "gcr.io/deeplearning-platform-release/pytorch-gpu.1-8:m65"
  },
  "kernelspec": {
   "display_name": "Python 3",
   "language": "python",
   "name": "python3"
  },
  "language_info": {
   "codemirror_mode": {
    "name": "ipython",
    "version": 3
   },
   "file_extension": ".py",
   "mimetype": "text/x-python",
   "name": "python",
   "nbconvert_exporter": "python",
   "pygments_lexer": "ipython3",
   "version": "3.7.10"
  }
 },
 "nbformat": 4,
 "nbformat_minor": 5
}
