{
 "cells": [
  {
   "cell_type": "markdown",
   "metadata": {},
   "source": [
    "## Notebook for sample QC of WGS sample cohort"
   ]
  },
  {
   "cell_type": "markdown",
   "metadata": {},
   "source": [
    "#### library imports and global variables"
   ]
  },
  {
   "cell_type": "code",
   "execution_count": 1,
   "metadata": {},
   "outputs": [],
   "source": [
    "# import libraries\n",
    "import threading\n",
    "import pandas as pd\n",
    "import dask.dataframe as dd\n",
    "import os\n",
    "from umap import UMAP\n",
    "import matplotlib.pyplot as plt\n",
    "import seaborn as sns"
   ]
  },
  {
   "cell_type": "code",
   "execution_count": 2,
   "metadata": {},
   "outputs": [],
   "source": [
    "# global notebook variables for both python and bash magic (by stdin arguments)\n",
    "cohort = 'ppmi'\n",
    "build = 'freeze9'\n",
    "cohort_build = f'{cohort}.{build}'\n",
    "amppd_version = 'amppdv1'\n",
    "\n",
    "# directories\n",
    "wrk_dir = '/labshare/raph/datasets/amppd'\n",
    "genos_dir = f'{wrk_dir}/genotypes'\n",
    "qc_dir = f'{wrk_dir}/qc'\n",
    "eqtl_geno_dir = f'/labshare/raph/eqtl/{cohort}/genotypes'\n",
    "eqtl_info_dir = f'/labshare/raph/eqtl/{cohort}/sample_info'\n",
    "\n",
    "# out file\n",
    "qc_bfile_set = f'{qc_dir}/{cohort_build}.geno05maf05hwe000001'\n",
    "sqc_excludes_file = f'{qc_dir}/{cohort_build}.excludes.txt'\n",
    "sample_info_file = f'{eqtl_info_dir}/{cohort_build}.sample_info.txt'\n",
    "\n",
    "\n",
    "# constants\n",
    "autosomes = [str(x) for x in list(range(1,23))]\n",
    "sexomes = ['X']\n",
    "chromosomes = autosomes + sexomes\n",
    "MAX_MISSING = 0.05\n",
    "MIN_FREQ = 0.05\n",
    "MIN_HWE_P = 0.000001\n",
    "hg38_chrX_PAREND = 2800000\n",
    "hg38_chrX_PARSTART = 155700000"
   ]
  },
  {
   "cell_type": "markdown",
   "metadata": {},
   "source": [
    "#### threading related functions"
   ]
  },
  {
   "cell_type": "code",
   "execution_count": 3,
   "metadata": {},
   "outputs": [],
   "source": [
    "#### threading related function\n",
    "\n",
    "# run command line procsss with bash majic\n",
    "# make this a small function so it can be target function for threading\n",
    "def run_bash_cmd(this_cmd):\n",
    "    !{this_cmd}\n",
    "\n",
    "# for each bash command is list add to execution thread, join and wait til all done\n",
    "def run_bash_cmds_threaded(cmd_list):\n",
    "    job_threads = []\n",
    "    for this_cmd in cmd_list:\n",
    "        this_thread = threading.Thread(target=run_bash_cmd, args=(this_cmd,))\n",
    "        job_threads.append(this_thread)\n",
    "        this_thread.start()\n",
    "\n",
    "    for job_thread in job_threads:\n",
    "        job_thread.join()          "
   ]
  },
  {
   "cell_type": "markdown",
   "metadata": {},
   "source": [
    "### run typical QC checks"
   ]
  },
  {
   "cell_type": "markdown",
   "metadata": {},
   "source": [
    "#### create output directories"
   ]
  },
  {
   "cell_type": "code",
   "execution_count": 4,
   "metadata": {},
   "outputs": [],
   "source": [
    "os.makedirs(qc_dir, exist_ok=True)\n",
    "os.makedirs(eqtl_geno_dir, exist_ok=True)\n",
    "os.makedirs(eqtl_info_dir, exist_ok=True)"
   ]
  },
  {
   "cell_type": "markdown",
   "metadata": {},
   "source": [
    "#### subset genotypes to well behaved variants for running typical sample QC"
   ]
  },
  {
   "cell_type": "code",
   "execution_count": 5,
   "metadata": {},
   "outputs": [],
   "source": [
    "# %%time\n",
    "# # since the plink bim file does handle multi-allelics need to find and create\n",
    "# # exclude list for if bfiles need\n",
    "\n",
    "# def find_pvar_multiallelics(pvar_file, outfile):\n",
    "#     pvar_dd = dd.read_csv(pvar_file, header=None, sep='\\s+', comment='#',\n",
    "#                           usecols=[0, 2, 4],\n",
    "#                           dtype={0: 'string', 2: 'string', 4: 'string'})\n",
    "\n",
    "#     # see if ALT allele(s) column contains commas\n",
    "#     multiallelics = pvar_dd.loc[pvar_dd[4].str.contains(',')]\n",
    "#     # save to variant IDs for the multiallelics\n",
    "#     multiallelics[2].compute().to_csv(outfile, header=False, index=False)\n",
    "\n",
    "# job_threads = []\n",
    "# for chrom in chromosomes:\n",
    "#     this_thread = threading.Thread(target=find_pvar_multiallelics, \n",
    "#                                    args=(f'{genos_dir}/{cohort_build}.chr{chrom}.pvar',\n",
    "#                                          f'{qc_dir}/{cohort_build}.chr{chrom}.multiallelics.list'))\n",
    "#     job_threads.append(this_thread)\n",
    "#     this_thread.start()\n",
    "\n",
    "# for job_thread in job_threads:\n",
    "#     job_thread.join()              "
   ]
  },
  {
   "cell_type": "code",
   "execution_count": 6,
   "metadata": {},
   "outputs": [],
   "source": [
    "# filter the pfiles qc checks\n",
    "\n",
    "# small function to format plink command for subsetting to \n",
    "# well behaved variants (wbv)\n",
    "def frmt_wbv_subset(chrom, in_dir, out_dir, name):\n",
    "    in_set = f'{in_dir}/{name}.chr{chrom}'\n",
    "    out_set = f'{out_dir}/{name}.chr{chrom}.geno05maf05hwe000001'\n",
    "#     multiallelics_file = f'{out_dir}/{name}.chr{chrom}.multiallelics.list'\n",
    "    hwe_filter = f'--hwe {MIN_HWE_P}'\n",
    "    # if chrom X or Y don't filter on hardy-weinber\n",
    "    if (chrom == 'X') or (chrom == 'Y'):\n",
    "        hwe_filter = '' \n",
    "#     this_cmd = f'plink2 --pfile {in_set} --geno {MAX_MISSING} --maf {MIN_FREQ} \\\n",
    "# {hwe_filter} --silent --exclude {multiallelics_file} --make-bed --out {out_set}'\n",
    "    this_cmd = f'plink2 --pfile {in_set} --geno {MAX_MISSING} --maf {MIN_FREQ} \\\n",
    "{hwe_filter} --silent --make-bed --out {out_set}'\n",
    "    return this_cmd\n",
    "\n",
    "cmd_list = [frmt_wbv_subset(chrom, genos_dir, qc_dir, cohort_build)\n",
    "            for chrom in chromosomes]"
   ]
  },
  {
   "cell_type": "code",
   "execution_count": 8,
   "metadata": {},
   "outputs": [
    {
     "name": "stdout",
     "output_type": "stream",
     "text": [
      "CPU times: user 19.2 s, sys: 8.33 s, total: 27.5 s\n",
      "Wall time: 55.3 s\n"
     ]
    }
   ],
   "source": [
    "%%time\n",
    "# execute the command list, threaded\n",
    "# print(cmd_list)\n",
    "run_bash_cmds_threaded(cmd_list)"
   ]
  },
  {
   "cell_type": "code",
   "execution_count": 9,
   "metadata": {},
   "outputs": [
    {
     "name": "stdout",
     "output_type": "stream",
     "text": [
      "23\n"
     ]
    }
   ],
   "source": [
    "# check the files generated\n",
    "!ls {qc_dir}/{cohort_build}.chr*.geno05maf05hwe000001.bed | wc -l"
   ]
  },
  {
   "cell_type": "markdown",
   "metadata": {},
   "source": [
    "#### merge per chromosome QC variants into single fileset"
   ]
  },
  {
   "cell_type": "code",
   "execution_count": 10,
   "metadata": {},
   "outputs": [
    {
     "name": "stdout",
     "output_type": "stream",
     "text": [
      "Error: 13 variants with 3+ alleles present.\n",
      "* If you believe this is due to strand inconsistency, try --flip with\n",
      "  /labshare/raph/datasets/amppd/qc/ppmi.freeze9.geno05maf05hwe000001-merge.missnp.\n",
      "  (Warning: if this seems to work, strand errors involving SNPs with A/T or C/G\n",
      "  alleles probably remain in your data.  If LD between nearby SNPs is high,\n",
      "  --flip-scan should detect them.)\n",
      "* If you are dealing with genuine multiallelic variants, we recommend exporting\n",
      "  that subset of the data to VCF (via e.g. '--recode vcf'), merging with\n",
      "  another tool/script, and then importing the result; PLINK is not yet suited\n",
      "  to handling them.\n",
      "Warning: 3317698 het. haploid genotypes present (see\n",
      "/labshare/raph/datasets/amppd/qc/ppmi.freeze9.chrX.geno05maf05hwe000001.temp.hh\n",
      "); many commands treat these as missing.\n",
      "Warning: Variants 'rs7554766' and 'rs139584474' have the same position.\n",
      "Warning: Variants 'rs79602225' and 'rs36027939' have the same position.\n",
      "Warning: Variants 'rs60788477' and 'rs377741195' have the same position.\n",
      "732 more same-position warnings: see log file.\n",
      "Warning: 3317698 het. haploid genotypes present (see\n",
      "/labshare/raph/datasets/amppd/qc/ppmi.freeze9.geno05maf05hwe000001.hh ); many\n",
      "commands treat these as missing.\n",
      "CPU times: user 4.03 s, sys: 998 ms, total: 5.03 s\n",
      "Wall time: 2min 48s\n"
     ]
    }
   ],
   "source": [
    "%%time\n",
    "# merge the files into a single plink binary set\n",
    "merge_file_set = f'{qc_dir}/merge-list.txt'\n",
    "\n",
    "with open(merge_file_set, 'w') as file_handler:\n",
    "    for chrom in chromosomes:\n",
    "        chrom_file_set = f'{qc_dir}/{cohort_build}.chr{chrom}.geno05maf05hwe000001'\n",
    "        file_handler.write(f'{chrom_file_set}\\n')\n",
    "\n",
    "# merge the per chrom bfiles into a genome bfile\n",
    "!plink --merge-list {merge_file_set} --make-bed --allow-no-sex \\\n",
    "--silent --out {qc_bfile_set}\n",
    "\n",
    "# if there was a missnp problem remove those variant and re-attemp merge\n",
    "if os.path.exists(f'{qc_bfile_set}-merge.missnp'):\n",
    "    for chrom in chromosomes:\n",
    "        !plink --bfile {qc_dir}/{cohort_build}.chr{chrom}.geno05maf05hwe000001 \\\n",
    "--silent --exclude {qc_bfile_set}-merge.missnp \\\n",
    "--make-bed --out {qc_dir}/{cohort_build}.chr{chrom}.geno05maf05hwe000001.temp\n",
    "\n",
    "    with open(merge_file_set, 'w') as file_handler:\n",
    "        for chrom in chromosomes:\n",
    "            chrom_file_set = f'{qc_dir}/{cohort_build}.chr{chrom}.geno05maf05hwe000001.temp'\n",
    "            file_handler.write(f'{chrom_file_set}\\n')\n",
    "        \n",
    "    !plink --merge-list {merge_file_set} --make-bed --allow-no-sex \\\n",
    "--silent --out {qc_bfile_set}"
   ]
  },
  {
   "cell_type": "code",
   "execution_count": 11,
   "metadata": {},
   "outputs": [
    {
     "name": "stdout",
     "output_type": "stream",
     "text": [
      "-rw-rw-r--. 1 gibbsr gibbsr 2.1G Sep  1 00:53 /labshare/raph/datasets/amppd/qc/ppmi.freeze9.geno05maf05hwe000001.bed\n",
      "-rw-rw-r--. 1 gibbsr gibbsr 168M Sep  1 00:53 /labshare/raph/datasets/amppd/qc/ppmi.freeze9.geno05maf05hwe000001.bim\n",
      "-rw-rw-r--. 1 gibbsr gibbsr  37K Sep  1 00:53 /labshare/raph/datasets/amppd/qc/ppmi.freeze9.geno05maf05hwe000001.fam\n",
      "-rw-rw-r--. 1 gibbsr gibbsr  89M Sep  1 00:53 /labshare/raph/datasets/amppd/qc/ppmi.freeze9.geno05maf05hwe000001.hh\n",
      "-rw-rw-r--. 1 gibbsr gibbsr  54K Sep  1 00:53 /labshare/raph/datasets/amppd/qc/ppmi.freeze9.geno05maf05hwe000001.log\n"
     ]
    }
   ],
   "source": [
    "# check the files generated\n",
    "!ls -lh {qc_bfile_set}.*"
   ]
  },
  {
   "cell_type": "code",
   "execution_count": 12,
   "metadata": {},
   "outputs": [
    {
     "name": "stdout",
     "output_type": "stream",
     "text": [
      "PLINK v1.90b5.4 64-bit (10 Apr 2018)\n",
      "Options in effect:\n",
      "  --allow-no-sex\n",
      "  --make-bed\n",
      "  --merge-list /labshare/raph/datasets/amppd/qc/merge-list.txt\n",
      "  --out /labshare/raph/datasets/amppd/qc/ppmi.freeze9.geno05maf05hwe000001\n",
      "  --silent\n",
      "\n",
      "Hostname: lngnode6\n",
      "Working directory: /labshare/raph/notebooks/expression/amppd\n",
      "/labshare/raph/datasets/amppd/qc/ppmi.freeze9.geno05maf05hwe000001-merge.bed +\n",
      "/labshare/raph/datasets/amppd/qc/ppmi.freeze9.geno05maf05hwe000001-merge.bim +\n",
      "/labshare/raph/datasets/amppd/qc/ppmi.freeze9.geno05maf05hwe000001-merge.fam .\n",
      "6207703 variants loaded from .bim file.\n",
      "1433 people (791 males, 642 females) loaded from .fam.\n",
      "Using 1 thread (no multithreaded calculations invoked).\n",
      "Before main variant filters, 1433 founders and 0 nonfounders present.\n",
      "Calculating allele frequencies... done.\n",
      "Warning: 3317698 het. haploid genotypes present (see\n",
      "/labshare/raph/datasets/amppd/qc/ppmi.freeze9.geno05maf05hwe000001.hh ); many\n",
      "commands treat these as missing.\n",
      "6207703 variants and 1433 people pass filters and QC.\n",
      "Note: No phenotypes present.\n",
      "--make-bed to\n",
      "/labshare/raph/datasets/amppd/qc/ppmi.freeze9.geno05maf05hwe000001.bed +\n",
      "/labshare/raph/datasets/amppd/qc/ppmi.freeze9.geno05maf05hwe000001.bim +\n",
      "/labshare/raph/datasets/amppd/qc/ppmi.freeze9.geno05maf05hwe000001.fam ...\n",
      "done.\n",
      "\n",
      "End time: Tue Sep  1 00:53:34 2020\n"
     ]
    }
   ],
   "source": [
    "# check the files generated\n",
    "!head -n 10 {qc_bfile_set}.log\n",
    "!tail -n 20 {qc_bfile_set}.log"
   ]
  },
  {
   "cell_type": "markdown",
   "metadata": {},
   "source": [
    "#### run sexcheck"
   ]
  },
  {
   "cell_type": "code",
   "execution_count": 13,
   "metadata": {},
   "outputs": [
    {
     "name": "stdout",
     "output_type": "stream",
     "text": [
      "Warning: 247185 het. haploid genotypes present (see\n",
      "/labshare/raph/datasets/amppd/qc/ppmi.freeze9.sex.hh ); many commands treat\n",
      "these as missing.\n"
     ]
    }
   ],
   "source": [
    "# check sexcheck\n",
    "# hg38 non-PAR\n",
    "bim_df = pd.read_csv(f'{qc_dir}/{cohort_build}.chrX.geno05maf05hwe000001.bim',\n",
    "                     header=None, sep='\\s+')\n",
    "\n",
    "nonpar_bim_df = bim_df.loc[(bim_df[3] > hg38_chrX_PAREND) &\n",
    "                          (bim_df[3] < hg38_chrX_PARSTART)]\n",
    "\n",
    "# save just the variant names to a list file\n",
    "nonpar_bim_df[1].to_csv(f'{qc_dir}/{cohort_build}.chrX.list',\n",
    "                        header=False, index=False, sep='\\t')\n",
    "\n",
    "# now run sex-check\n",
    "!plink --bfile {qc_bfile_set} \\\n",
    "--extract {qc_dir}/{cohort_build}.chrX.list \\\n",
    "--check-sex 0.25 0.75 --silent --out {qc_dir}/{cohort_build}.sex"
   ]
  },
  {
   "cell_type": "markdown",
   "metadata": {},
   "source": [
    "#### check missingness and het rates"
   ]
  },
  {
   "cell_type": "code",
   "execution_count": 14,
   "metadata": {},
   "outputs": [],
   "source": [
    "# check missingness\n",
    "!plink2 --bfile {qc_bfile_set} --missing \\\n",
    "--autosome --silent --out {qc_dir}/{cohort_build}.missing\n",
    "\n",
    "!plink --bfile {qc_bfile_set} --het --autosome \\\n",
    "--silent --out {qc_dir}/{cohort_build}.het"
   ]
  },
  {
   "cell_type": "markdown",
   "metadata": {},
   "source": [
    "#### check for relatedness, including duplicates"
   ]
  },
  {
   "cell_type": "code",
   "execution_count": 16,
   "metadata": {},
   "outputs": [
    {
     "name": "stdout",
     "output_type": "stream",
     "text": [
      "king --related -b /labshare/raph/datasets/amppd/qc/ppmi.freeze9.geno05maf05hwe000001.bed --cpus $(nproc) --degree 2 --prefix /labshare/raph/datasets/amppd/qc/ppmi.freeze9.king.related > /labshare/raph/datasets/amppd/qc/ppmi.freeze9.king.related.log\n",
      "CPU times: user 1.56 s, sys: 235 ms, total: 1.79 s\n",
      "Wall time: 53.4 s\n"
     ]
    }
   ],
   "source": [
    "%%time\n",
    "king_related_cmd = f'king --related -b {qc_bfile_set}.bed \\\n",
    "--cpus $(nproc) --degree 2 --prefix {qc_dir}/{cohort_build}.king.related \\\n",
    "> {qc_dir}/{cohort_build}.king.related.log'\n",
    "\n",
    "print(king_related_cmd)\n",
    "!{king_related_cmd}\n",
    "\n",
    "# if larger cohort then switch to running nohup in background\n",
    "# print('#run these commands at terminal:\\n')\n",
    "# print(f'nohup {king_related_cmd} &')"
   ]
  },
  {
   "cell_type": "code",
   "execution_count": 17,
   "metadata": {},
   "outputs": [
    {
     "name": "stdout",
     "output_type": "stream",
     "text": [
      "Relationship inference across families starts at Tue Sep  1 01:32:50 2020\n",
      "24 CPU cores are used...\n",
      "  Stages 1&2 (with 32768 SNPs): 141 pairs of relatives are detected (with kinship > 0.0625)\n",
      "                               Screening ends at Tue Sep  1 01:32:50 2020\n",
      "  Final Stage (with 6016802 SNPs): 135 pairs of relatives (up to 2nd-degree) are confirmed\n",
      "                               Inference ends at Tue Sep  1 01:32:51 2020\n",
      "\n",
      "Relationship summary (total relatives: 0 by pedigree, 135 by inference)\n",
      "        \tMZ\tPO\tFS\t2nd\n",
      "  =====================================================\n",
      "  Inference\t0\t43\t68\t24\n",
      "\n",
      "\n",
      "Between-family relatives (kinship >= 0.08839) saved in file /labshare/raph/datasets/amppd/qc/ppmi.freeze9.king.related.kin0\n",
      "  X-Chr IBD-sharing inference saved in file /labshare/raph/datasets/amppd/qc/ppmi.freeze9.king.relatedX.kin0\n",
      "KING ends at Tue Sep  1 01:32:51 2020\n"
     ]
    }
   ],
   "source": [
    "!tail -n 16 {qc_dir}/{cohort_build}.king.related.log"
   ]
  },
  {
   "cell_type": "markdown",
   "metadata": {},
   "source": [
    "#### for the duplicates see which ones also failed sexcheck, ie clues how to correctly resolve duplicates"
   ]
  },
  {
   "cell_type": "code",
   "execution_count": 18,
   "metadata": {},
   "outputs": [
    {
     "name": "stdout",
     "output_type": "stream",
     "text": [
      "number of related pairs\n",
      "(135, 14)\n",
      "FS     68\n",
      "PO     43\n",
      "2nd    24\n",
      "Name: InfType, dtype: int64\n",
      "\n",
      "just the Dup/MZ\n",
      "(0, 14)\n",
      "Series([], Name: InfType, dtype: int64)\n",
      "\n",
      "number of samples in that failed sexcheck and also a duplicate\n",
      "0\n"
     ]
    }
   ],
   "source": [
    "# get the sex problems\n",
    "sexcheck_file = f'{qc_dir}/{cohort_build}.sex.sexcheck'\n",
    "sexcheck = pd.read_csv(sexcheck_file,sep='\\s+')\n",
    "sexmismatch = sexcheck.loc[~(sexcheck['PEDSEX'] == 0) &\n",
    "                           (sexcheck['STATUS'] == 'PROBLEM')]\n",
    "\n",
    "# get the duplicates\n",
    "relateds_file = f'{qc_dir}/{cohort_build}.king.related.kin0'\n",
    "rels_df = pd.read_csv(relateds_file,sep='\\s+')\n",
    "print('number of related pairs')\n",
    "print(rels_df.shape)\n",
    "\n",
    "print(rels_df['InfType'].value_counts())\n",
    "\n",
    "# subset just the dups\n",
    "dups_df = rels_df.loc[rels_df['InfType'] == 'Dup/MZ']\n",
    "\n",
    "print('\\njust the Dup/MZ')\n",
    "print(dups_df.shape)\n",
    "print(dups_df['InfType'].value_counts())\n",
    "\n",
    "print('\\nnumber of samples in that failed sexcheck and also a duplicate')\n",
    "print(len(set(sexmismatch['IID']) &\n",
    "          (set(rels_df['ID1']) |\n",
    "           set(rels_df['ID2']))))"
   ]
  },
  {
   "cell_type": "markdown",
   "metadata": {},
   "source": [
    "#### check the sample ancestries making use of 1KG data"
   ]
  },
  {
   "cell_type": "code",
   "execution_count": 19,
   "metadata": {},
   "outputs": [
    {
     "name": "stdout",
     "output_type": "stream",
     "text": [
      "-rw-rw-r--. 1 gibbsr gibbsr  60K Sep  1 00:08 /labshare/raph/datasets/amppd/qc/onekg.good.geno05maf05hwe000001.temp.fam\n",
      "-rw-rw-r--. 1 gibbsr gibbsr 145M Sep  1 00:08 /labshare/raph/datasets/amppd/qc/onekg.good.geno05maf05hwe000001.temp.bim\n",
      "-rw-rw-r--. 1 gibbsr gibbsr 3.1G Sep  1 00:08 /labshare/raph/datasets/amppd/qc/onekg.good.geno05maf05hwe000001.temp.bed\n",
      "-rw-rw-r--. 1 gibbsr gibbsr 1.5K Sep  1 00:08 /labshare/raph/datasets/amppd/qc/onekg.good.geno05maf05hwe000001.temp.log\n",
      "-rw-rw-r--. 1 gibbsr gibbsr  54K Sep  1 00:14 /labshare/raph/datasets/amppd/qc/onekg.panel\n",
      "-rw-rw-r--. 1 gibbsr gibbsr 1.3K Sep  1 01:32 /labshare/raph/datasets/amppd/qc/onekg.good.geno05maf05hwe000001.log\n",
      "-rw-rw-r--. 1 gibbsr gibbsr  60K Sep  1 01:32 /labshare/raph/datasets/amppd/qc/onekg.good.geno05maf05hwe000001.fam\n",
      "-rw-rw-r--. 1 gibbsr gibbsr 145M Sep  1 01:33 /labshare/raph/datasets/amppd/qc/onekg.good.geno05maf05hwe000001.bim\n",
      "-rw-rw-r--. 1 gibbsr gibbsr 3.1G Sep  1 01:33 /labshare/raph/datasets/amppd/qc/onekg.good.geno05maf05hwe000001.bed\n"
     ]
    }
   ],
   "source": [
    "# pull down the 1KG genotypes to look at pop-structure\n",
    "!gsutil -mq cp gs://nihnialng-pd-wgs/tools/onekg.good.geno05maf05hwe000001.* \\\n",
    "{qc_dir}/\n",
    "!ls -lhtr {qc_dir}/onekg.*"
   ]
  },
  {
   "cell_type": "code",
   "execution_count": 20,
   "metadata": {},
   "outputs": [
    {
     "name": "stdout",
     "output_type": "stream",
     "text": [
      "Error: 1197 variants with 3+ alleles present.\n",
      "* If you believe this is due to strand inconsistency, try --flip with\n",
      "  /labshare/raph/datasets/amppd/qc/ppmi.freeze9.onekg-merge.missnp.\n",
      "  (Warning: if this seems to work, strand errors involving SNPs with A/T or C/G\n",
      "  alleles probably remain in your data.  If LD between nearby SNPs is high,\n",
      "  --flip-scan should detect them.)\n",
      "* If you are dealing with genuine multiallelic variants, we recommend exporting\n",
      "  that subset of the data to VCF (via e.g. '--recode vcf'), merging with\n",
      "  another tool/script, and then importing the result; PLINK is not yet suited\n",
      "  to handling them.\n",
      "Warning: Variants 'rs12066103;rs550873096' and 'rs12066103' have the same\n",
      "position.\n",
      "Warning: Variants 'rs80183958' and 'rs533071465' have the same position.\n",
      "Warning: Variants 'rs76908344' and 'rs201662806' have the same position.\n",
      "11658 more same-position warnings: see log file.\n",
      "Warning: 3317253 het. haploid genotypes present (see\n",
      "/labshare/raph/datasets/amppd/qc/ppmi.freeze9.onekg.hh ); many commands treat\n",
      "these as missing.\n",
      "Warning: --hwe observation counts vary by more than 10%, due to the X\n",
      "chromosome.  You may want to use a less stringent --hwe p-value threshold for X\n",
      "chromosome variants.\n",
      "-rw-rw-r--. 1 gibbsr gibbsr 3.4G Sep  1 01:39 /labshare/raph/datasets/amppd/qc/ppmi.freeze9.onekg.bed\n",
      "-rw-rw-r--. 1 gibbsr gibbsr 102M Sep  1 01:39 /labshare/raph/datasets/amppd/qc/ppmi.freeze9.onekg.bim\n",
      "-rw-rw-r--. 1 gibbsr gibbsr  97K Sep  1 01:39 /labshare/raph/datasets/amppd/qc/ppmi.freeze9.onekg.fam\n",
      "-rw-rw-r--. 1 gibbsr gibbsr  89M Sep  1 01:39 /labshare/raph/datasets/amppd/qc/ppmi.freeze9.onekg.hh\n",
      "-rw-rw-r--. 1 gibbsr gibbsr 906K Sep  1 01:39 /labshare/raph/datasets/amppd/qc/ppmi.freeze9.onekg.log\n",
      "-rw-rw-r--. 1 gibbsr gibbsr  14K Sep  1 01:34 /labshare/raph/datasets/amppd/qc/ppmi.freeze9.onekg-merge.missnp\n",
      "CPU times: user 8.77 s, sys: 1.62 s, total: 10.4 s\n",
      "Wall time: 5min 47s\n"
     ]
    }
   ],
   "source": [
    "%%time\n",
    "# merge cohort and 1KG data with plink\n",
    "!plink --bfile {qc_bfile_set} \\\n",
    "--bmerge {qc_dir}/onekg.good.geno05maf05hwe000001 \\\n",
    "--geno {MAX_MISSING} --maf {MIN_FREQ} --hwe {MIN_HWE_P} --silent --allow-no-sex \\\n",
    "--make-bed --out {qc_dir}/{cohort_build}.onekg\n",
    "\n",
    "if os.path.exists(f'{qc_dir}/{cohort_build}.onekg-merge.missnp'):\n",
    "    !plink2 -bfile {qc_bfile_set} --allow-no-sex \\\n",
    "--exclude {qc_dir}/{cohort_build}.onekg-merge.missnp --silent \\\n",
    "--make-bed --out {qc_bfile_set}.temp\n",
    "\n",
    "    !plink2 -bfile {qc_dir}/onekg.good.geno05maf05hwe000001 --allow-no-sex \\\n",
    "--exclude {qc_dir}/{cohort_build}.onekg-merge.missnp --silent \\\n",
    "--make-bed --out {qc_dir}/onekg.good.geno05maf05hwe000001.temp\n",
    "\n",
    "    !plink --bfile {qc_bfile_set}.temp \\\n",
    "--bmerge {qc_dir}/onekg.good.geno05maf05hwe000001.temp \\\n",
    "--geno {MAX_MISSING} --maf {MIN_FREQ} --hwe {MIN_HWE_P} --silent --allow-no-sex \\\n",
    "--make-bed --out {qc_dir}/{cohort_build}.onekg\n",
    "    \n",
    "# check the merged cohort and 1KG data with plink was created\n",
    "!ls -lh {qc_dir}/{cohort_build}.onekg*    "
   ]
  },
  {
   "cell_type": "markdown",
   "metadata": {},
   "source": [
    "#### pull down the 1KG population labels"
   ]
  },
  {
   "cell_type": "code",
   "execution_count": 21,
   "metadata": {},
   "outputs": [
    {
     "name": "stdout",
     "output_type": "stream",
     "text": [
      "sample\tpop\tsuper_pop\tgender\t\t\n",
      "HG00096\tGBR\tEUR\tmale\n",
      "HG00097\tGBR\tEUR\tfemale\n",
      "HG00099\tGBR\tEUR\tfemale\n",
      "HG00100\tGBR\tEUR\tfemale\n",
      "HG00101\tGBR\tEUR\tmale\n",
      "HG00102\tGBR\tEUR\tfemale\n",
      "HG00103\tGBR\tEUR\tmale\n",
      "HG00105\tGBR\tEUR\tmale\n",
      "HG00106\tGBR\tEUR\tfemale\n"
     ]
    }
   ],
   "source": [
    "# need to pull down the 1KG population labels\n",
    "!gsutil -mq cp gs://nihnialng-pd-wgs/tools/onekg.panel {qc_dir}/\n",
    "!head {qc_dir}/onekg.panel"
   ]
  },
  {
   "cell_type": "markdown",
   "metadata": {},
   "source": [
    "#### king is to slow for population background check once we get into the thousands of samples\n",
    "\n",
    "for now switch back to LD prunning, plink genome ibs/ibd and mds methods"
   ]
  },
  {
   "cell_type": "code",
   "execution_count": 22,
   "metadata": {},
   "outputs": [
    {
     "name": "stdout",
     "output_type": "stream",
     "text": [
      "Warning: \"--pca approx\" is only recommended for analysis of >5000 samples.\n",
      "CPU times: user 15 s, sys: 2.55 s, total: 17.6 s\n",
      "Wall time: 5min 24s\n"
     ]
    }
   ],
   "source": [
    "%%time\n",
    "# merge cohort and 1KG data with plink\n",
    "# find pruned variants\n",
    "!plink2 --bfile {qc_dir}/{cohort_build}.onekg --silent \\\n",
    "--indep-pairwise 50 5 0.3 --out {qc_dir}/{cohort_build}.onekg.ldprune \n",
    "\n",
    "# subset to pruned variants\n",
    "!plink2 --bfile {qc_dir}/{cohort_build}.onekg --silent \\\n",
    "--extract {qc_dir}/{cohort_build}.onekg.ldprune.prune.in \\\n",
    "--make-bed --out {qc_dir}/{cohort_build}.onekg.pruned\n",
    "\n",
    "# generate pca's (plink approx from fastpca)\n",
    "!plink2 --bfile {qc_dir}/{cohort_build}.onekg.pruned \\\n",
    "--silent --pca 20 approx \\\n",
    "--out {qc_dir}/{cohort_build}.onekg.pca"
   ]
  },
  {
   "cell_type": "code",
   "execution_count": 23,
   "metadata": {},
   "outputs": [
    {
     "data": {
      "image/png": "[encoded data removed]",
      "text/plain": [
       "<Figure size 1152x576 with 2 Axes>"
      ]
     },
     "metadata": {},
     "output_type": "display_data"
    }
   ],
   "source": [
    "# mdsfile = f'{qc_dir}/{cohort_build}.onekg.ibs_ibd.mds.mds'\n",
    "mdsfile = f'{qc_dir}/{cohort_build}.onekg.pca.eigenvec'\n",
    "popinfofile = f'{qc_dir}/onekg.panel'\n",
    "output_pca_plot = f'{qc_dir}/{cohort_build}.pop_structure.pca.png'\n",
    "outfile = f'{qc_dir}/{cohort_build}.pop.outliers.txt'\n",
    "\n",
    "cohort_label = cohort\n",
    "\n",
    "expected_ancestry = 'EUR'\n",
    "\n",
    "mdsdf = pd.read_csv(mdsfile,sep='\\s+')\n",
    "infodf = pd.read_csv(popinfofile,sep=\"\\t\")\n",
    "\n",
    "df = mdsdf.merge(infodf,how='left',left_on='IID',right_on='sample')\n",
    "\n",
    "df[['super_pop']] = df[['super_pop']].fillna(cohort_label)\n",
    "df[['pop']] = df[['pop']].fillna(cohort_label)\n",
    "\n",
    "ancestry_cohort = df.loc[df['super_pop'] == expected_ancestry]\n",
    "coi = df.loc[df['super_pop'] == cohort_label]\n",
    "\n",
    "mds1_mean = np.mean(ancestry_cohort['PC1'])\n",
    "mds1_std = np.std(ancestry_cohort['PC1'])\n",
    "mds2_mean = np.mean(ancestry_cohort['PC2'])\n",
    "mds2_std = np.std(ancestry_cohort['PC2'])\n",
    "\n",
    "maxSD = 6\n",
    "plusMax_1 = mds1_mean + maxSD * mds1_std\n",
    "negMax_1 = mds1_mean - maxSD * mds1_std\n",
    "plusMax_2 = mds2_mean + maxSD * mds2_std\n",
    "negMax_2 = mds2_mean - maxSD * mds2_std\n",
    "\n",
    "df['outlier'] = ((df['super_pop'] == cohort_label) & \\\n",
    "    ((df['PC1'] > plusMax_1) | (df['PC1'] < negMax_1) | \\\n",
    "     (df['PC2'] > plusMax_2) | (df['PC2'] < negMax_2)))\n",
    "\n",
    "outliers = df.loc[df['outlier'] == True] \n",
    "outliers.to_csv(outfile,sep=\"\\t\",index=False,header=False)\n",
    "\n",
    "df.loc[df['IID'].isin(outliers['IID']),['super_pop','pop']] = 'outlier'\n",
    "\n",
    "# df = df.sort_values('super_pop',ascending=False)\n",
    "df = df.sample(frac=1)\n",
    "\n",
    "cohort_euro_df = df[df['super_pop'].isin([expected_ancestry,cohort_label,'outlier'])]\n",
    "# cohort_euro_df = cohort_euro_df.sort_values('pop',ascending=False)\n",
    "# cohort_euro_df = cohort_euro_df.sample(frac=1)\n",
    "\n",
    "sns.set()\n",
    "plt.figure(figsize=(16,8))\n",
    "plt.subplot(1,2,1)\n",
    "sns.scatterplot(x='PC1',y='PC2',hue='super_pop',style='super_pop',data=df)\n",
    "plt.xlabel('PC 1')\n",
    "plt.ylabel('PC 2')\n",
    "plt.legend(bbox_to_anchor=(1.05, 1), loc=1, borderaxespad=0,prop={'size': 8})\n",
    "plt.subplot(1,2,2)\n",
    "sns.scatterplot(x='PC1',y='PC2',hue='pop',style='pop',data=cohort_euro_df)\n",
    "plt.xlabel('PC 1')\n",
    "plt.ylabel('PC 2')\n",
    "plt.legend(bbox_to_anchor=(1.05, 1), loc=2, borderaxespad=0,prop={'size': 8})\n",
    "#plt.legend(loc='upper right', prop={'size': 6})\n",
    "plt.savefig(output_pca_plot,format='png',dpi=600,bbox_inches='tight')\n",
    "plt.show()"
   ]
  },
  {
   "cell_type": "code",
   "execution_count": 24,
   "metadata": {},
   "outputs": [
    {
     "data": {
      "text/plain": [
       "ppmi       1381\n",
       "IBS         107\n",
       "TSI         104\n",
       "CEU          99\n",
       "FIN          98\n",
       "GBR          91\n",
       "outlier      52\n",
       "Name: pop, dtype: int64"
      ]
     },
     "execution_count": 24,
     "metadata": {},
     "output_type": "execute_result"
    }
   ],
   "source": [
    "cohort_euro_df['pop'].value_counts()"
   ]
  },
  {
   "cell_type": "code",
   "execution_count": 25,
   "metadata": {},
   "outputs": [
    {
     "data": {
      "text/html": [
       "<div>\n",
       "<style scoped>\n",
       "    .dataframe tbody tr th:only-of-type {\n",
       "        vertical-align: middle;\n",
       "    }\n",
       "\n",
       "    .dataframe tbody tr th {\n",
       "        vertical-align: top;\n",
       "    }\n",
       "\n",
       "    .dataframe thead th {\n",
       "        text-align: right;\n",
       "    }\n",
       "</style>\n",
       "<table border=\"1\" class=\"dataframe\">\n",
       "  <thead>\n",
       "    <tr style=\"text-align: right;\">\n",
       "      <th></th>\n",
       "      <th>PC1</th>\n",
       "      <th>PC2</th>\n",
       "      <th>PC3</th>\n",
       "      <th>PC4</th>\n",
       "      <th>PC5</th>\n",
       "      <th>PC6</th>\n",
       "      <th>PC7</th>\n",
       "      <th>PC8</th>\n",
       "      <th>PC9</th>\n",
       "      <th>PC10</th>\n",
       "      <th>PC11</th>\n",
       "      <th>PC12</th>\n",
       "      <th>PC13</th>\n",
       "      <th>PC14</th>\n",
       "      <th>PC15</th>\n",
       "      <th>PC16</th>\n",
       "      <th>PC17</th>\n",
       "      <th>PC18</th>\n",
       "      <th>PC19</th>\n",
       "      <th>PC20</th>\n",
       "    </tr>\n",
       "    <tr>\n",
       "      <th>IID</th>\n",
       "      <th></th>\n",
       "      <th></th>\n",
       "      <th></th>\n",
       "      <th></th>\n",
       "      <th></th>\n",
       "      <th></th>\n",
       "      <th></th>\n",
       "      <th></th>\n",
       "      <th></th>\n",
       "      <th></th>\n",
       "      <th></th>\n",
       "      <th></th>\n",
       "      <th></th>\n",
       "      <th></th>\n",
       "      <th></th>\n",
       "      <th></th>\n",
       "      <th></th>\n",
       "      <th></th>\n",
       "      <th></th>\n",
       "      <th></th>\n",
       "    </tr>\n",
       "  </thead>\n",
       "  <tbody>\n",
       "    <tr>\n",
       "      <th>HG00096</th>\n",
       "      <td>0.011146</td>\n",
       "      <td>-0.010172</td>\n",
       "      <td>0.006371</td>\n",
       "      <td>0.006710</td>\n",
       "      <td>-0.020961</td>\n",
       "      <td>-0.000808</td>\n",
       "      <td>0.000231</td>\n",
       "      <td>-0.001704</td>\n",
       "      <td>-0.007200</td>\n",
       "      <td>0.000609</td>\n",
       "      <td>0.002014</td>\n",
       "      <td>0.012532</td>\n",
       "      <td>-0.018547</td>\n",
       "      <td>0.015327</td>\n",
       "      <td>0.006950</td>\n",
       "      <td>-0.011888</td>\n",
       "      <td>0.001652</td>\n",
       "      <td>0.000852</td>\n",
       "      <td>-0.000116</td>\n",
       "      <td>0.005590</td>\n",
       "    </tr>\n",
       "    <tr>\n",
       "      <th>HG00097</th>\n",
       "      <td>0.011316</td>\n",
       "      <td>-0.010242</td>\n",
       "      <td>0.005762</td>\n",
       "      <td>0.006359</td>\n",
       "      <td>-0.019297</td>\n",
       "      <td>-0.003255</td>\n",
       "      <td>-0.003309</td>\n",
       "      <td>-0.000019</td>\n",
       "      <td>0.002199</td>\n",
       "      <td>0.004919</td>\n",
       "      <td>-0.001185</td>\n",
       "      <td>0.008724</td>\n",
       "      <td>-0.017354</td>\n",
       "      <td>0.016349</td>\n",
       "      <td>0.000727</td>\n",
       "      <td>-0.007094</td>\n",
       "      <td>0.002445</td>\n",
       "      <td>-0.010136</td>\n",
       "      <td>0.003542</td>\n",
       "      <td>-0.012086</td>\n",
       "    </tr>\n",
       "    <tr>\n",
       "      <th>HG00099</th>\n",
       "      <td>0.011050</td>\n",
       "      <td>-0.009963</td>\n",
       "      <td>0.005727</td>\n",
       "      <td>0.008844</td>\n",
       "      <td>-0.021231</td>\n",
       "      <td>-0.003168</td>\n",
       "      <td>-0.007485</td>\n",
       "      <td>0.002312</td>\n",
       "      <td>-0.007637</td>\n",
       "      <td>0.004752</td>\n",
       "      <td>-0.006169</td>\n",
       "      <td>0.026856</td>\n",
       "      <td>-0.023850</td>\n",
       "      <td>0.005962</td>\n",
       "      <td>0.000369</td>\n",
       "      <td>0.000580</td>\n",
       "      <td>-0.012234</td>\n",
       "      <td>-0.002167</td>\n",
       "      <td>-0.006477</td>\n",
       "      <td>-0.003014</td>\n",
       "    </tr>\n",
       "    <tr>\n",
       "      <th>HG00100</th>\n",
       "      <td>0.010655</td>\n",
       "      <td>-0.010619</td>\n",
       "      <td>0.005845</td>\n",
       "      <td>0.006469</td>\n",
       "      <td>-0.019687</td>\n",
       "      <td>0.001367</td>\n",
       "      <td>-0.000186</td>\n",
       "      <td>0.001903</td>\n",
       "      <td>-0.002099</td>\n",
       "      <td>-0.000775</td>\n",
       "      <td>-0.002391</td>\n",
       "      <td>0.027761</td>\n",
       "      <td>-0.028736</td>\n",
       "      <td>0.010420</td>\n",
       "      <td>0.009550</td>\n",
       "      <td>-0.010999</td>\n",
       "      <td>-0.002078</td>\n",
       "      <td>-0.000530</td>\n",
       "      <td>-0.024048</td>\n",
       "      <td>-0.005931</td>\n",
       "    </tr>\n",
       "    <tr>\n",
       "      <th>HG00101</th>\n",
       "      <td>0.011076</td>\n",
       "      <td>-0.010139</td>\n",
       "      <td>0.006683</td>\n",
       "      <td>0.006385</td>\n",
       "      <td>-0.018778</td>\n",
       "      <td>-0.002692</td>\n",
       "      <td>-0.003855</td>\n",
       "      <td>0.000453</td>\n",
       "      <td>-0.004537</td>\n",
       "      <td>0.002012</td>\n",
       "      <td>-0.003122</td>\n",
       "      <td>0.016177</td>\n",
       "      <td>-0.025060</td>\n",
       "      <td>0.010753</td>\n",
       "      <td>0.005884</td>\n",
       "      <td>-0.001811</td>\n",
       "      <td>-0.001346</td>\n",
       "      <td>0.004935</td>\n",
       "      <td>0.012422</td>\n",
       "      <td>-0.005563</td>\n",
       "    </tr>\n",
       "  </tbody>\n",
       "</table>\n",
       "</div>"
      ],
      "text/plain": [
       "              PC1       PC2       PC3       PC4       PC5       PC6       PC7  \\\n",
       "IID                                                                             \n",
       "HG00096  0.011146 -0.010172  0.006371  0.006710 -0.020961 -0.000808  0.000231   \n",
       "HG00097  0.011316 -0.010242  0.005762  0.006359 -0.019297 -0.003255 -0.003309   \n",
       "HG00099  0.011050 -0.009963  0.005727  0.008844 -0.021231 -0.003168 -0.007485   \n",
       "HG00100  0.010655 -0.010619  0.005845  0.006469 -0.019687  0.001367 -0.000186   \n",
       "HG00101  0.011076 -0.010139  0.006683  0.006385 -0.018778 -0.002692 -0.003855   \n",
       "\n",
       "              PC8       PC9      PC10      PC11      PC12      PC13      PC14  \\\n",
       "IID                                                                             \n",
       "HG00096 -0.001704 -0.007200  0.000609  0.002014  0.012532 -0.018547  0.015327   \n",
       "HG00097 -0.000019  0.002199  0.004919 -0.001185  0.008724 -0.017354  0.016349   \n",
       "HG00099  0.002312 -0.007637  0.004752 -0.006169  0.026856 -0.023850  0.005962   \n",
       "HG00100  0.001903 -0.002099 -0.000775 -0.002391  0.027761 -0.028736  0.010420   \n",
       "HG00101  0.000453 -0.004537  0.002012 -0.003122  0.016177 -0.025060  0.010753   \n",
       "\n",
       "             PC15      PC16      PC17      PC18      PC19      PC20  \n",
       "IID                                                                  \n",
       "HG00096  0.006950 -0.011888  0.001652  0.000852 -0.000116  0.005590  \n",
       "HG00097  0.000727 -0.007094  0.002445 -0.010136  0.003542 -0.012086  \n",
       "HG00099  0.000369  0.000580 -0.012234 -0.002167 -0.006477 -0.003014  \n",
       "HG00100  0.009550 -0.010999 -0.002078 -0.000530 -0.024048 -0.005931  \n",
       "HG00101  0.005884 -0.001811 -0.001346  0.004935  0.012422 -0.005563  "
      ]
     },
     "execution_count": 25,
     "metadata": {},
     "output_type": "execute_result"
    }
   ],
   "source": [
    "mdsdf.set_index(mdsdf['IID'], inplace=True)\n",
    "mdsdf.drop(columns=['#FID','IID'], inplace=True)\n",
    "mdsdf.head()"
   ]
  },
  {
   "cell_type": "code",
   "execution_count": 26,
   "metadata": {},
   "outputs": [],
   "source": [
    "'''\n",
    "small function to generate umap from pandas dataframe, for all features (columns) \\\n",
    "and return back as dataframe with source index intact\n",
    "'''\n",
    "def generate_umapdf_from_df(this_df, rnd_digits=3):\n",
    "    # run UMAP on the data frame features\n",
    "    umap_results = UMAP(random_state=42).fit_transform(this_df)\n",
    "    umap_df = pd.DataFrame(umap_results, columns=['x_umap', 'y_umap'],\n",
    "                           index=this_df.index).round(rnd_digits)\n",
    "\n",
    "    umap_df = umap_df.merge(this_df,left_index=True, right_index=True)\n",
    "    print(f'The dimensions of the umap df and the traits are {umap_df.shape}')\n",
    "    return umap_df"
   ]
  },
  {
   "cell_type": "code",
   "execution_count": 27,
   "metadata": {},
   "outputs": [
    {
     "name": "stdout",
     "output_type": "stream",
     "text": [
      "The dimensions of the umap df and the traits are (3880, 22)\n",
      "CPU times: user 42.9 s, sys: 826 ms, total: 43.7 s\n",
      "Wall time: 35.5 s\n"
     ]
    }
   ],
   "source": [
    "%%time\n",
    "#run UMAP on the genetic PCs\n",
    "umap_df = generate_umapdf_from_df(mdsdf)"
   ]
  },
  {
   "cell_type": "code",
   "execution_count": 28,
   "metadata": {},
   "outputs": [
    {
     "name": "stdout",
     "output_type": "stream",
     "text": [
      "ppmi       1381\n",
      "AFR         657\n",
      "EUR         499\n",
      "EAS         499\n",
      "SAS         481\n",
      "AMR         311\n",
      "outlier      52\n",
      "Name: super_pop, dtype: int64\n",
      "ppmi       1381\n",
      "IBS         107\n",
      "TSI         104\n",
      "CEU          99\n",
      "FIN          98\n",
      "GBR          91\n",
      "outlier      52\n",
      "Name: pop, dtype: int64\n"
     ]
    }
   ],
   "source": [
    "umap_df = umap_df.merge(infodf,how='left',left_index=True,right_on='sample')\n",
    "\n",
    "umap_df[['super_pop']] = umap_df[['super_pop']].fillna(cohort_label)\n",
    "umap_df[['pop']] = umap_df[['pop']].fillna(cohort_label)\n",
    "\n",
    "umap_df.loc[umap_df['sample'].isin(outliers['IID']),\n",
    "            ['super_pop','pop']] = 'outlier'\n",
    "\n",
    "print(umap_df['super_pop'].value_counts())\n",
    "\n",
    "cohort_euro_df = umap_df[umap_df['super_pop'].isin([expected_ancestry,\n",
    "                                                    cohort_label, 'outlier'])]\n",
    "print(cohort_euro_df['pop'].value_counts())\n",
    "\n",
    "# cohort_euro_df = cohort_euro_df.sort_values('sample',ascending=False)\n",
    "cohort_euro_df = cohort_euro_df.sample(frac=1)"
   ]
  },
  {
   "cell_type": "code",
   "execution_count": 29,
   "metadata": {},
   "outputs": [
    {
     "data": {
      "image/png": "[encoded data removed]",
      "text/plain": [
       "<Figure size 1152x576 with 2 Axes>"
      ]
     },
     "metadata": {},
     "output_type": "display_data"
    }
   ],
   "source": [
    "output_plot = f'{qc_dir}/{cohort_build}.ancestry_structure.umap.png'\n",
    "\n",
    "sns.set()\n",
    "plt.figure(figsize=(16,8))\n",
    "plt.subplot(1,2,1)\n",
    "sns.scatterplot(x='x_umap',y='y_umap',hue='super_pop',style='super_pop',data=umap_df)\n",
    "plt.xlabel('x-UMAP')\n",
    "plt.ylabel('y-UMAP')\n",
    "plt.legend(bbox_to_anchor=(1.05, 1), loc=1, borderaxespad=0,prop={'size': 8})\n",
    "plt.subplot(1,2,2)\n",
    "sns.scatterplot(x='x_umap',y='y_umap',hue='pop',data=cohort_euro_df)\n",
    "plt.xlabel('x-UMAP')\n",
    "plt.ylabel('y-UMAP')\n",
    "plt.legend(bbox_to_anchor=(1.05, 1), loc=2, borderaxespad=0,prop={'size': 8})\n",
    "plt.savefig(output_plot,format='png',dpi=600,bbox_inches='tight')\n",
    "plt.show()"
   ]
  },
  {
   "cell_type": "markdown",
   "metadata": {
    "colab": {},
    "colab_type": "code",
    "id": "3rH2SKMGK-Mt"
   },
   "source": [
    "#### scan qc files for sample QC problems"
   ]
  },
  {
   "cell_type": "code",
   "execution_count": 30,
   "metadata": {},
   "outputs": [],
   "source": [
    "#sex check mismatches\n",
    "def check_sexcheck(path_prefix, verbose=False):\n",
    "    sexcheck_file = f'{path_prefix}.sex.sexcheck'\n",
    "    sexcheck_df = pd.read_csv(sexcheck_file, sep='\\s+')\n",
    "    #here failed sexcheck does not include unreported sex\n",
    "    sexcheck_problems_df = sexcheck_df.loc[(sexcheck_df['STATUS'] == 'PROBLEM') & \\\n",
    "                                           (sexcheck_df['PEDSEX'] != 0)]\n",
    "    print(f'sex mismatches {sexcheck_problems_df.shape}')\n",
    "    if(verbose):\n",
    "        print(sexcheck_problems_df)\n",
    "    return sexcheck_problems_df\n",
    "\n",
    "#check sample missingness \n",
    "def check_missingness(path_prefix, max_miss=0.05, verbose=False):\n",
    "    smiss_file = f'{path_prefix}.missing.smiss'\n",
    "    #might be plink1 file extenstion\n",
    "    if not os.path.exists(smiss_file):\n",
    "        smiss_file = f'{path_prefix}.missing.imiss'\n",
    "    smiss_df = pd.read_csv(smiss_file, sep='\\s+')\n",
    "    smiss_problems_df = smiss_df.loc[smiss_df['F_MISS'] > max_miss]\n",
    "    print(f'sample missingness problems {smiss_problems_df.shape}')\n",
    "    if(verbose):\n",
    "        print(smiss_problems_df)\n",
    "    return smiss_problems_df\n",
    "\n",
    "#het rate problems\n",
    "def check_hetrate(path_prefix, abs_max_rate=0.15, verbose=False):\n",
    "    hetcheck_file = f'{path_prefix}.het.het'\n",
    "    hetcheck_df = pd.read_csv(hetcheck_file, sep='\\s+')\n",
    "    hetcheck_problems_df = hetcheck_df.loc[(hetcheck_df['F'] > abs_max_rate) | \\\n",
    "                                           (hetcheck_df['F'] < -abs_max_rate)]\n",
    "    print(f'sample het rate problems {hetcheck_problems_df.shape}')\n",
    "    if(verbose):\n",
    "        print(hetcheck_problems_df)    \n",
    "    return hetcheck_problems_df\n",
    "\n",
    "#sample contamination problems\n",
    "def check_contamination(path_prefix, verbose=False):\n",
    "    contam_file = f'{path_prefix}.contaminated.samples.txt'\n",
    "    #might not exist if didn't process raw data\n",
    "    if os.path.exists(contam_file):\n",
    "        contam_df = pd.read_csv(contam_file, sep='\\s+')\n",
    "        print(f'sample contamination problems {contam_df.shape}')\n",
    "        if(verbose):\n",
    "            print(contam_df)         \n",
    "    else:\n",
    "        print('no comtamination file present')\n",
    "        contam_df = pd.DataFrame(data=None, columns=['id'])\n",
    "    return contam_df        \n",
    "\n",
    "#check ancestry outliers\n",
    "def check_ancestry(path_prefix):\n",
    "    pop_outliers_file = f'{path_prefix}.pop.outliers.txt'\n",
    "    pop_outliers = pd.read_csv(pop_outliers_file, sep='\\s+', header=None)\n",
    "    print(f'sample ancestry outliers {pop_outliers.shape}')\n",
    "    return pop_outliers\n",
    "\n",
    "#check sample duplicates (assume no twins)\n",
    "def check_duplicates(path_prefix, verbose=False):\n",
    "    relateds_file = f'{path_prefix}.king.related.kin0'\n",
    "    relateds_df = pd.read_csv(relateds_file, sep='\\s+')\n",
    "    duplicates_df = relateds_df.loc[relateds_df['InfType'] == 'Dup/MZ']\n",
    "    print(f'sample duplicate pairs {duplicates_df.shape}')\n",
    "    if(verbose):\n",
    "        print(duplicates_df)\n",
    "    return duplicates_df\n",
    "\n",
    "\n",
    "def find_sample_excludes(path_prefix, exclude_pops=False):\n",
    "    sexcheck_problems_df = check_sexcheck(path_prefix)\n",
    "    smiss_problems_df = check_missingness(path_prefix)\n",
    "    hetcheck_problems_df = check_hetrate(path_prefix)\n",
    "#     contam_df = check_contamination(path_prefix)\n",
    "    pop_outliers = check_ancestry(path_prefix)\n",
    "    duplicates_df = check_duplicates(path_prefix)\n",
    "    \n",
    "#     if exclude_pops:\n",
    "#         ref_exclude_set = set(sexcheck_problems_df['IID']) | set(smiss_problems_df['IID']) \\\n",
    "# | set(hetcheck_problems_df['IID']) | set(contam_df['id']) | set(pop_outliers[0])\n",
    "#     else:\n",
    "#         ref_exclude_set = set(sexcheck_problems_df['IID']) | set(smiss_problems_df['IID']) \\\n",
    "# | set(hetcheck_problems_df['IID']) | set(contam_df['id'])\n",
    "\n",
    "    if exclude_pops:\n",
    "        ref_exclude_set = set(sexcheck_problems_df['IID']) | set(smiss_problems_df['IID']) \\\n",
    "| set(hetcheck_problems_df['IID']) | set(pop_outliers[0])\n",
    "    else:\n",
    "        ref_exclude_set = set(sexcheck_problems_df['IID']) | set(smiss_problems_df['IID']) \\\n",
    "| set(hetcheck_problems_df['IID'])\n",
    "\n",
    "    #note to split duplicate pairs, first break any that currently have QC problems\n",
    "    #then just grab first column\n",
    "    duplicates_df = duplicates_df.loc[~duplicates_df['ID1'].isin(list(ref_exclude_set)) & \\\n",
    "                                     ~duplicates_df['ID2'].isin(list(ref_exclude_set))]\n",
    "    print(f'refreshed duplicate pairs {duplicates_df.shape}')\n",
    "\n",
    "    #just grab the ID in 1st column to split the pair\n",
    "    ref_exclude_set = ref_exclude_set | set(duplicates_df['ID1'])\n",
    "\n",
    "    print(f'number of samples to exclude from panel {len(ref_exclude_set)}')\n",
    "    return ref_exclude_set"
   ]
  },
  {
   "cell_type": "code",
   "execution_count": 31,
   "metadata": {},
   "outputs": [
    {
     "name": "stdout",
     "output_type": "stream",
     "text": [
      "sex mismatches (1, 6)\n",
      "sample missingness problems (0, 5)\n",
      "sample het rate problems (5, 6)\n",
      "sample ancestry outliers (52, 25)\n",
      "sample duplicate pairs (0, 14)\n",
      "refreshed duplicate pairs (0, 14)\n",
      "number of samples to exclude from panel 52\n"
     ]
    }
   ],
   "source": [
    "#this of course assumes the files being check in the exclude function exist at \\\n",
    "#this QC path\n",
    "qc_prefix = f'{qc_dir}/{cohort_build}'\n",
    "cohort_excludes = find_sample_excludes(qc_prefix, True)\n",
    "\n",
    "pd.DataFrame(data=cohort_excludes).to_csv(f'{qc_prefix}.excludes.txt', \\\n",
    "                                          header=False, index=False)"
   ]
  },
  {
   "cell_type": "markdown",
   "metadata": {},
   "source": [
    "#### since there are smallish number of sample QC problems, splill to screen here"
   ]
  },
  {
   "cell_type": "code",
   "execution_count": 32,
   "metadata": {},
   "outputs": [
    {
     "name": "stdout",
     "output_type": "stream",
     "text": [
      "sex mismatches (1, 6)\n",
      "        FID      IID  PEDSEX  SNPSEX   STATUS       F\n",
      "37  PP-3062  PP-3062       2       0  PROBLEM  0.2546\n",
      "sample missingness problems (0, 5)\n",
      "Empty DataFrame\n",
      "Columns: [#FID, IID, MISSING_CT, OBS_CT, F_MISS]\n",
      "Index: []\n",
      "sample het rate problems (5, 6)\n",
      "         FID      IID   O(HOM)     E(HOM)    N(NM)       F\n",
      "37   PP-3062  PP-3062  4357544  4053000.0  6016802  0.1551\n",
      "108  PP-3178  PP-3178  4376787  4053000.0  6016802  0.1649\n",
      "291  PP-3456  PP-3456  4354691  4053000.0  6016802  0.1537\n",
      "379  PP-3592  PP-3592  4360526  4053000.0  6016802  0.1566\n",
      "395  PP-3616  PP-3616  4382821  4053000.0  6016802  0.1680\n",
      "sample duplicate pairs (0, 14)\n",
      "Empty DataFrame\n",
      "Columns: [FID1, ID1, FID2, ID2, N_SNP, HetHet, IBS0, HetConc, HomIBS0, Kinship, IBD1Seg, IBD2Seg, PropIBD, InfType]\n",
      "Index: []\n"
     ]
    }
   ],
   "source": [
    "sexcheck_problems_df = check_sexcheck(qc_prefix, verbose=True)\n",
    "smiss_problems_df = check_missingness(qc_prefix, verbose=True)\n",
    "hetcheck_problems_df = check_hetrate(qc_prefix, verbose=True)\n",
    "duplicates_df = check_duplicates(qc_prefix, verbose=True)"
   ]
  },
  {
   "cell_type": "markdown",
   "metadata": {},
   "source": [
    "#### do a little intermediate file cleanup"
   ]
  },
  {
   "cell_type": "code",
   "execution_count": 33,
   "metadata": {},
   "outputs": [
    {
     "name": "stdout",
     "output_type": "stream",
     "text": [
      "rm: cannot remove ‘/labshare/raph/datasets/amppd/qc/ppmi.freeze9.chr*.multiallelics.list’: No such file or directory\n"
     ]
    }
   ],
   "source": [
    "!rm {qc_dir}/{cohort_build}.chr*.multiallelics.list\n",
    "!rm {qc_dir}/{cohort_build}.chr*.geno05maf05hwe000001.*"
   ]
  },
  {
   "cell_type": "markdown",
   "metadata": {},
   "source": [
    "#### subset out the analysis ready, Euro centric, pfiles for eQTL analysis"
   ]
  },
  {
   "cell_type": "markdown",
   "metadata": {},
   "source": [
    "#### combine the sqc samples and also exclude related samples"
   ]
  },
  {
   "cell_type": "code",
   "execution_count": 4,
   "metadata": {},
   "outputs": [
    {
     "name": "stdout",
     "output_type": "stream",
     "text": [
      "(135, 14)\n",
      "(52, 1)\n",
      "157\n"
     ]
    }
   ],
   "source": [
    "# load the relateds file\n",
    "relateds_file = f'{qc_dir}/{cohort_build}.king.related.kin0'\n",
    "relateds_df = pd.read_csv(relateds_file, sep='\\s+')\n",
    "# exclude non-duplicate relateds by spliting, dups already marked for exclud\n",
    "nonduplicates_df = relateds_df.loc[relateds_df['InfType'] != 'Dup/MZ']\n",
    "print(nonduplicates_df.shape)\n",
    "\n",
    "# read the sqc samples\n",
    "excludes_df = pd.read_csv(sqc_excludes_file, header=None)\n",
    "print(excludes_df.shape)\n",
    "\n",
    "# get intersect union of sqc and too young\n",
    "exclude_ids = set(excludes_df[0]) | set(nonduplicates_df['ID2'])\n",
    "print(len(exclude_ids))"
   ]
  },
  {
   "cell_type": "code",
   "execution_count": 5,
   "metadata": {},
   "outputs": [],
   "source": [
    "def frmt_plink2_subset(in_dir, out_dir, chrom, excludes_file, in_name, out_name):\n",
    "    if in_dir == out_dir:\n",
    "        print('in dir cannot be same of out dir, here')\n",
    "        plink_cmd = '#error'\n",
    "    else:    \n",
    "        in_pfiles = f'{in_dir}/{in_name}.chr{chrom}'\n",
    "        out_pfiles = f'{out_dir}/{out_name}.chr{chrom}'\n",
    "        filter_pass = ' --var-filter'\n",
    "        plink_cmd = f'plink2 --pfile {in_pfiles} --remove {excludes_file} \\\n",
    "--silent --make-pgen --out {out_pfiles}'\n",
    "    return plink_cmd\n",
    "\n",
    "os.makedirs(eqtl_geno_dir, exist_ok=True)\n",
    "\n",
    "excludes_df = pd.DataFrame(data=exclude_ids, columns=['#FID'])\n",
    "excludes_df['IID'] = excludes_df['#FID']\n",
    "excludes_df.to_csv(f'{qc_dir}/{cohort}.{amppd_version}.excludes.plink', \n",
    "                   index=False, sep='\\t')\n",
    "\n",
    "cmds = [frmt_plink2_subset(genos_dir, eqtl_geno_dir, chrom, \n",
    "                           f'{qc_dir}/{cohort}.{amppd_version}.excludes.plink',\n",
    "                           cohort_build, f'{cohort}.{amppd_version}') \n",
    "        for chrom in chromosomes] \n",
    "\n",
    "# print(cmds)\n",
    "# now run the cmds concurrently    \n",
    "run_bash_cmds_threaded(cmds)   "
   ]
  },
  {
   "cell_type": "markdown",
   "metadata": {},
   "source": [
    "#### generate the with cohort genetic PCs covariates"
   ]
  },
  {
   "cell_type": "code",
   "execution_count": 6,
   "metadata": {},
   "outputs": [],
   "source": [
    "# find pruned variants\n",
    "!plink2 --bfile {qc_bfile_set} --silent \\\n",
    "--indep-pairwise 50 5 0.3 --out {qc_dir}/{cohort_build}.ldprune \n",
    "\n",
    "# subset to pruned variants\n",
    "!plink2 --bfile {qc_bfile_set} --silent \\\n",
    "--extract {qc_dir}/{cohort_build}.ldprune.prune.in \\\n",
    "--make-bed --out {qc_dir}/{cohort_build}.pruned\n",
    "\n",
    "# generate pca's (plink approx from fastpca)\n",
    "!plink2 --bfile {qc_dir}/{cohort_build}.pruned \\\n",
    "--silent --pca 20 \\\n",
    "--out {eqtl_info_dir}/{cohort_build}.pca\n"
   ]
  },
  {
   "cell_type": "code",
   "execution_count": 7,
   "metadata": {},
   "outputs": [
    {
     "name": "stdout",
     "output_type": "stream",
     "text": [
      "#FID\tIID\tPC1\tPC2\tPC3\tPC4\tPC5\tPC6\tPC7\tPC8\tPC9\tPC10\tPC11\tPC12\tPC13\tPC14\tPC15\tPC16\tPC17\tPC18\tPC19\tPC20\n",
      "PP-3000\tPP-3000\t-0.027498\t-0.00108739\t-0.00148967\t0.00298183\t0.00474309\t-0.0120253\t0.0078512\t0.00193656\t0.00241069\t0.00600988\t0.00307379\t-0.0012723\t-0.000870575\t-0.00870691\t-0.00539082\t-0.00359039\t0.00694663\t0.00445408\t0.00994087\t-0.00193517\n",
      "PP-3001\tPP-3001\t-0.0296699\t-0.000933761\t-0.00316641\t0.00740225\t0.0036363\t-0.0043551\t0.0023312\t-0.00875942\t0.00179874\t0.00915218\t0.00365662\t-0.0039929\t0.00388516\t-0.00596818\t-0.0178221\t-0.00110781\t0.00829887\t0.00510086\t0.00617967\t-0.00161019\n",
      "PP-3002\tPP-3002\t-0.0278235\t0.00180124\t0.000627425\t-0.00324044\t-0.00134639\t-0.0194795\t0.0139684\t-0.00490782\t0.000309129\t0.00094171\t0.00306961\t-0.00165116\t-0.00765523\t0.00496512\t0.00590089\t-0.00536629\t-0.00123454\t-0.0110429\t-0.00665579\t-0.00544953\n",
      "PP-3003\tPP-3003\t-0.0246579\t-5.741e-05\t-0.00342797\t0.00390416\t-0.00118459\t-0.00891346\t0.00524022\t0.00106599\t0.0111641\t0.00899881\t0.00543704\t-0.00165894\t-0.000801783\t0.00133966\t-0.000565958\t-0.00236813\t0.00527418\t0.000924327\t0.00901447\t0.00819904\n"
     ]
    }
   ],
   "source": [
    "!head -n 5 {eqtl_info_dir}/{cohort_build}.pca.eigenvec"
   ]
  },
  {
   "cell_type": "code",
   "execution_count": null,
   "metadata": {},
   "outputs": [],
   "source": []
  }
 ],
 "metadata": {
  "kernelspec": {
   "display_name": "Python 3",
   "language": "python",
   "name": "python3"
  },
  "language_info": {
   "codemirror_mode": {
    "name": "ipython",
    "version": 3
   },
   "file_extension": ".py",
   "mimetype": "text/x-python",
   "name": "python",
   "nbconvert_exporter": "python",
   "pygments_lexer": "ipython3",
   "version": "3.8.5"
  }
 },
 "nbformat": 4,
 "nbformat_minor": 4
}
