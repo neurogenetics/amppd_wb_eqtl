{
 "cells": [
  {
   "cell_type": "markdown",
   "metadata": {},
   "source": [
    "## Notebook to runner for AMP-PD cohort and visit eQTL results peek prep via papermill"
   ]
  },
  {
   "cell_type": "code",
   "execution_count": 1,
   "metadata": {},
   "outputs": [
    {
     "name": "stdout",
     "output_type": "stream",
     "text": [
      "Thu Apr 29 15:09:39 UTC 2021\n"
     ]
    }
   ],
   "source": [
    "!date"
   ]
  },
  {
   "cell_type": "markdown",
   "metadata": {},
   "source": [
    "#### import libraries"
   ]
  },
  {
   "cell_type": "code",
   "execution_count": 2,
   "metadata": {},
   "outputs": [],
   "source": [
    "import pandas as pd\n",
    "import os\n",
    "import papermill as pm"
   ]
  },
  {
   "cell_type": "code",
   "execution_count": 3,
   "metadata": {},
   "outputs": [],
   "source": [
    "# base notebook to be run per tuple iteration\n",
    "base_notebook = '/home/jupyter/notebooks/visit_peek_eqtl_results.ipynb'\n",
    "\n",
    "# setup iteration tuples\n",
    "cohort_names = ['biofind', 'pdbp', 'ppmi']\n",
    "version = 'amppdv1'\n",
    "tissue = 'wb'\n",
    "months = [0, 1, 6 , 12, 18, 24, 36]\n",
    "quant_type = 'genes'"
   ]
  },
  {
   "cell_type": "markdown",
   "metadata": {},
   "source": [
    "#### iterate over the tuples running the notebook per tuple"
   ]
  },
  {
   "cell_type": "code",
   "execution_count": 4,
   "metadata": {},
   "outputs": [
    {
     "name": "stdout",
     "output_type": "stream",
     "text": [
      "{'cohort': 'biofind', 'version': 'amppdv1', 'tissue': 'wb', 'visit': 1}\n",
      "/home/jupyter/notebooks/biofind/pm_gend_nbs/biofind.wb1_peek_eqtl_results.ipynb\n"
     ]
    },
    {
     "data": {
      "application/vnd.jupyter.widget-view+json": {
       "model_id": "290b4f0c60c3417594de0417f76de639",
       "version_major": 2,
       "version_minor": 0
      },
      "text/plain": [
       "Executing:   0%|          | 0/28 [00:00<?, ?cell/s]"
      ]
     },
     "metadata": {},
     "output_type": "display_data"
    },
    {
     "name": "stdout",
     "output_type": "stream",
     "text": [
      "{'cohort': 'pdbp', 'version': 'amppdv1', 'tissue': 'wb', 'visit': 0}\n",
      "/home/jupyter/notebooks/pdbp/pm_gend_nbs/pdbp.wb0_peek_eqtl_results.ipynb\n"
     ]
    },
    {
     "data": {
      "application/vnd.jupyter.widget-view+json": {
       "model_id": "19180f7f23b041b19ca3ace13f6f4324",
       "version_major": 2,
       "version_minor": 0
      },
      "text/plain": [
       "Executing:   0%|          | 0/28 [00:00<?, ?cell/s]"
      ]
     },
     "metadata": {},
     "output_type": "display_data"
    },
    {
     "name": "stdout",
     "output_type": "stream",
     "text": [
      "{'cohort': 'pdbp', 'version': 'amppdv1', 'tissue': 'wb', 'visit': 6}\n",
      "/home/jupyter/notebooks/pdbp/pm_gend_nbs/pdbp.wb6_peek_eqtl_results.ipynb\n"
     ]
    },
    {
     "data": {
      "application/vnd.jupyter.widget-view+json": {
       "model_id": "3c687469d84b4a379c1e9abadaebc865",
       "version_major": 2,
       "version_minor": 0
      },
      "text/plain": [
       "Executing:   0%|          | 0/28 [00:00<?, ?cell/s]"
      ]
     },
     "metadata": {},
     "output_type": "display_data"
    },
    {
     "name": "stdout",
     "output_type": "stream",
     "text": [
      "{'cohort': 'pdbp', 'version': 'amppdv1', 'tissue': 'wb', 'visit': 12}\n",
      "/home/jupyter/notebooks/pdbp/pm_gend_nbs/pdbp.wb12_peek_eqtl_results.ipynb\n"
     ]
    },
    {
     "data": {
      "application/vnd.jupyter.widget-view+json": {
       "model_id": "ee8074c29aa144c6b4ac6b5ccd2b52fc",
       "version_major": 2,
       "version_minor": 0
      },
      "text/plain": [
       "Executing:   0%|          | 0/28 [00:00<?, ?cell/s]"
      ]
     },
     "metadata": {},
     "output_type": "display_data"
    },
    {
     "name": "stdout",
     "output_type": "stream",
     "text": [
      "{'cohort': 'pdbp', 'version': 'amppdv1', 'tissue': 'wb', 'visit': 18}\n",
      "/home/jupyter/notebooks/pdbp/pm_gend_nbs/pdbp.wb18_peek_eqtl_results.ipynb\n"
     ]
    },
    {
     "data": {
      "application/vnd.jupyter.widget-view+json": {
       "model_id": "6d6dda9e85d14949ad191500a2cef560",
       "version_major": 2,
       "version_minor": 0
      },
      "text/plain": [
       "Executing:   0%|          | 0/28 [00:00<?, ?cell/s]"
      ]
     },
     "metadata": {},
     "output_type": "display_data"
    },
    {
     "name": "stdout",
     "output_type": "stream",
     "text": [
      "{'cohort': 'pdbp', 'version': 'amppdv1', 'tissue': 'wb', 'visit': 24}\n",
      "/home/jupyter/notebooks/pdbp/pm_gend_nbs/pdbp.wb24_peek_eqtl_results.ipynb\n"
     ]
    },
    {
     "data": {
      "application/vnd.jupyter.widget-view+json": {
       "model_id": "5241298714234da992bea33ed809f58b",
       "version_major": 2,
       "version_minor": 0
      },
      "text/plain": [
       "Executing:   0%|          | 0/28 [00:00<?, ?cell/s]"
      ]
     },
     "metadata": {},
     "output_type": "display_data"
    },
    {
     "name": "stdout",
     "output_type": "stream",
     "text": [
      "{'cohort': 'ppmi', 'version': 'amppdv1', 'tissue': 'wb', 'visit': 0}\n",
      "/home/jupyter/notebooks/ppmi/pm_gend_nbs/ppmi.wb0_peek_eqtl_results.ipynb\n"
     ]
    },
    {
     "data": {
      "application/vnd.jupyter.widget-view+json": {
       "model_id": "15473d8a044046c5bcc4524b8cb42c17",
       "version_major": 2,
       "version_minor": 0
      },
      "text/plain": [
       "Executing:   0%|          | 0/28 [00:00<?, ?cell/s]"
      ]
     },
     "metadata": {},
     "output_type": "display_data"
    },
    {
     "name": "stdout",
     "output_type": "stream",
     "text": [
      "{'cohort': 'ppmi', 'version': 'amppdv1', 'tissue': 'wb', 'visit': 6}\n",
      "/home/jupyter/notebooks/ppmi/pm_gend_nbs/ppmi.wb6_peek_eqtl_results.ipynb\n"
     ]
    },
    {
     "data": {
      "application/vnd.jupyter.widget-view+json": {
       "model_id": "afe13db64f53432290fb7e2575ab18c6",
       "version_major": 2,
       "version_minor": 0
      },
      "text/plain": [
       "Executing:   0%|          | 0/28 [00:00<?, ?cell/s]"
      ]
     },
     "metadata": {},
     "output_type": "display_data"
    },
    {
     "name": "stdout",
     "output_type": "stream",
     "text": [
      "{'cohort': 'ppmi', 'version': 'amppdv1', 'tissue': 'wb', 'visit': 12}\n",
      "/home/jupyter/notebooks/ppmi/pm_gend_nbs/ppmi.wb12_peek_eqtl_results.ipynb\n"
     ]
    },
    {
     "data": {
      "application/vnd.jupyter.widget-view+json": {
       "model_id": "35de7920eebf4d8ba0a58bea9fb8e38b",
       "version_major": 2,
       "version_minor": 0
      },
      "text/plain": [
       "Executing:   0%|          | 0/28 [00:00<?, ?cell/s]"
      ]
     },
     "metadata": {},
     "output_type": "display_data"
    },
    {
     "name": "stdout",
     "output_type": "stream",
     "text": [
      "{'cohort': 'ppmi', 'version': 'amppdv1', 'tissue': 'wb', 'visit': 24}\n",
      "/home/jupyter/notebooks/ppmi/pm_gend_nbs/ppmi.wb24_peek_eqtl_results.ipynb\n"
     ]
    },
    {
     "data": {
      "application/vnd.jupyter.widget-view+json": {
       "model_id": "f194e61edae341abbe735a9dbb447721",
       "version_major": 2,
       "version_minor": 0
      },
      "text/plain": [
       "Executing:   0%|          | 0/28 [00:00<?, ?cell/s]"
      ]
     },
     "metadata": {},
     "output_type": "display_data"
    },
    {
     "name": "stdout",
     "output_type": "stream",
     "text": [
      "{'cohort': 'ppmi', 'version': 'amppdv1', 'tissue': 'wb', 'visit': 36}\n",
      "/home/jupyter/notebooks/ppmi/pm_gend_nbs/ppmi.wb36_peek_eqtl_results.ipynb\n"
     ]
    },
    {
     "data": {
      "application/vnd.jupyter.widget-view+json": {
       "model_id": "e1cfdbba1090431bb64c92475d46e7a9",
       "version_major": 2,
       "version_minor": 0
      },
      "text/plain": [
       "Executing:   0%|          | 0/28 [00:00<?, ?cell/s]"
      ]
     },
     "metadata": {},
     "output_type": "display_data"
    },
    {
     "name": "stdout",
     "output_type": "stream",
     "text": [
      "CPU times: user 19.5 s, sys: 963 ms, total: 20.4 s\n",
      "Wall time: 18min 52s\n"
     ]
    }
   ],
   "source": [
    "%%time\n",
    "\n",
    "for cohort in cohort_names:\n",
    "    out_nb_dir = f'/home/jupyter/notebooks/{cohort}/pm_gend_nbs'\n",
    "    # make sure the notebook output dir exists\n",
    "    os.makedirs(out_nb_dir, exist_ok=True)\n",
    "    wrk_dir = f'/home/jupyter/{cohort}'\n",
    "    for month in months:\n",
    "        # before running prep notebook make results exist for the cohort and visit\n",
    "        results_file = f'{wrk_dir}/results/{cohort}.{tissue}{month}.cis.indep.csv'\n",
    "        if os.path.isfile(results_file):\n",
    "            param_dict = {'cohort': cohort, 'version': version, \n",
    "                          'tissue': tissue, 'visit': month}\n",
    "            out_notebook = f'{out_nb_dir}/{cohort}.{tissue}{month}_peek_eqtl_results.ipynb'\n",
    "            print(param_dict)\n",
    "            print(out_notebook)\n",
    "            pm.execute_notebook(input_path=base_notebook, output_path=out_notebook, \n",
    "                                parameters=param_dict)"
   ]
  },
  {
   "cell_type": "code",
   "execution_count": null,
   "metadata": {},
   "outputs": [],
   "source": []
  }
 ],
 "metadata": {
  "environment": {
   "name": "pytorch-gpu.1-8.m65",
   "type": "gcloud",
   "uri": "gcr.io/deeplearning-platform-release/pytorch-gpu.1-8:m65"
  },
  "kernelspec": {
   "display_name": "Python 3",
   "language": "python",
   "name": "python3"
  },
  "language_info": {
   "codemirror_mode": {
    "name": "ipython",
    "version": 3
   },
   "file_extension": ".py",
   "mimetype": "text/x-python",
   "name": "python",
   "nbconvert_exporter": "python",
   "pygments_lexer": "ipython3",
   "version": "3.7.10"
  }
 },
 "nbformat": 4,
 "nbformat_minor": 4
}
