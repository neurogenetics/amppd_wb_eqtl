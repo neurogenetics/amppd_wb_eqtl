{
 "cells": [
  {
   "cell_type": "markdown",
   "metadata": {},
   "source": [
    "## Notebook to run interaction *cis*-eQTL interaction analysis using [tensorQTL](https://github.com/broadinstitute/tensorqtl)\n",
    "\n",
    "[Taylor-Weiner, Aguet, et al., Genome Biol. 20:228, 2019.](https://genomebiology.biomedcentral.com/articles/10.1186/s13059-019-1836-7)"
   ]
  },
  {
   "cell_type": "code",
   "execution_count": null,
   "metadata": {},
   "outputs": [],
   "source": [
    "!date"
   ]
  },
  {
   "cell_type": "markdown",
   "metadata": {},
   "source": [
    "#### import libraries and set notebook variables"
   ]
  },
  {
   "cell_type": "code",
   "execution_count": null,
   "metadata": {},
   "outputs": [],
   "source": [
    "import pandas as pd\n",
    "import numpy as np\n",
    "import torch\n",
    "import tensorqtl.tensorqtl as tensorqtl\n",
    "from tensorqtl.tensorqtl import genotypeio, cis, trans\n",
    "print('PyTorch {}'.format(torch.__version__))\n",
    "print('Pandas {}'.format(pd.__version__))\n",
    "\n",
    "import os\n",
    "\n",
    "import warnings\n",
    "warnings.filterwarnings('ignore')\n",
    "\n",
    "# import random\n",
    "# import numpy as np\n",
    "# import threading\n"
   ]
  },
  {
   "cell_type": "code",
   "execution_count": null,
   "metadata": {
    "tags": [
     "parameters"
    ]
   },
   "outputs": [],
   "source": [
    "# parameters\n",
    "cohort = 'biofind'\n",
    "version = 'amppdv1'\n",
    "visit = 1\n",
    "visit_name = 'SVM0_5T1'\n",
    "tissue = 'wb'"
   ]
  },
  {
   "cell_type": "code",
   "execution_count": null,
   "metadata": {},
   "outputs": [],
   "source": [
    "# naming\n",
    "cohort_version = f'{cohort}.{version}'\n",
    "cohort_build = f'{cohort}.{tissue}{visit}'\n",
    "quant_type = 'genes'\n",
    "\n",
    "# directories\n",
    "wrk_dir = f'/home/jupyter/{cohort}'\n",
    "geno_dir = f'{wrk_dir}/genotypes'\n",
    "expr_dir = f'{wrk_dir}/expression'\n",
    "info_dir = f'{wrk_dir}/sample_info'\n",
    "tensorqtl_dir = f'{wrk_dir}/tensorqtl'\n",
    "results_dir = f'{wrk_dir}/results'\n",
    "\n",
    "# input files\n",
    "expr_bed_file = f'{expr_dir}/{cohort_build}.norm.adj.bed.gz'\n",
    "bfile_prefix_path = f'{geno_dir}/{cohort_version}.bfile'\n",
    "assay_covs_files = f'{info_dir}/{cohort}_rna_sample_info.csv'\n",
    "grs_file = f'{info_dir}/{cohort}.grs.scaled.csv'\n",
    "\n",
    "# output files\n",
    "\n",
    "# constant values\n",
    "alpha_value = 0.05\n",
    "\n",
    "cell_types_dict = {'predicted_Lymphocytes': 'Lymphocytes', \n",
    "                   'predicted_Neutrophils': 'Neutrophils',\n",
    "                   'predicted_Monocytes': 'Monocytes', \n",
    "                   'predicted_Basophils': 'Basophils',\n",
    "                   'predicted_Eosinophils': 'Eosinophils'}\n",
    "\n",
    "terms_list = ['DX', 'GRS']"
   ]
  },
  {
   "cell_type": "code",
   "execution_count": null,
   "metadata": {},
   "outputs": [],
   "source": [
    "os.makedirs(tensorqtl_dir, exist_ok=True)\n",
    "os.makedirs(results_dir, exist_ok=True)"
   ]
  },
  {
   "cell_type": "markdown",
   "metadata": {},
   "source": [
    "#### load phenotypes and covariates (if needed)"
   ]
  },
  {
   "cell_type": "code",
   "execution_count": null,
   "metadata": {},
   "outputs": [],
   "source": [
    "%%time\n",
    "\n",
    "phenotype_df, phenotype_pos_df = tensorqtl.read_phenotype_bed(expr_bed_file)\n",
    "covs_df = pd.read_csv(assay_covs_files, index_col=0)\n",
    "grs_df = pd.read_csv(grs_file, index_col=0)\n",
    "print(f'phenotype_df {phenotype_df.shape}')\n",
    "print(f'phenotype_pos_df {phenotype_pos_df.shape}')\n",
    "print(f'covariates_df {covs_df.shape}')\n",
    "print(f'grs_df {grs_df.shape}')\n",
    "# display(phenotype_df.head())\n",
    "# display(phenotype_pos_df.head())\n",
    "# display(covs_df.head())\n",
    "# display(grs_df.head())"
   ]
  },
  {
   "cell_type": "markdown",
   "metadata": {},
   "source": [
    "#### load plink bfiles"
   ]
  },
  {
   "cell_type": "code",
   "execution_count": null,
   "metadata": {},
   "outputs": [],
   "source": [
    "%%time\n",
    "\n",
    "# pr = genotypeio.PlinkReader(bfile_prefix_path, select_samples=phenotype_df.columns)\n",
    "pr = genotypeio.PlinkReader(bfile_prefix_path)\n",
    "genotype_df = pr.load_genotypes()\n",
    "variant_df = pr.bim.set_index('snp')[['chrom', 'pos']]"
   ]
  },
  {
   "cell_type": "code",
   "execution_count": null,
   "metadata": {},
   "outputs": [],
   "source": [
    "print(genotype_df.shape)\n",
    "# display(genotype_df.head())\n",
    "print(variant_df.shape)\n",
    "# display(variant_df.head())"
   ]
  },
  {
   "cell_type": "code",
   "execution_count": null,
   "metadata": {},
   "outputs": [],
   "source": [
    "# tensorQTL says wants plink bfiles, but wants bim chrs to include 'chr'\n",
    "variant_df['chrom'] = 'chr' + variant_df['chrom']\n",
    "print(variant_df.shape)\n",
    "# display(variant_df.head())"
   ]
  },
  {
   "cell_type": "markdown",
   "metadata": {},
   "source": [
    "#### make sure the pheno and genos have same samples"
   ]
  },
  {
   "cell_type": "code",
   "execution_count": null,
   "metadata": {},
   "outputs": [],
   "source": [
    "assay_intersect_samples = set(genotype_df.columns) & set(phenotype_df.columns) \n",
    "print(f'intersect {len(assay_intersect_samples)}')\n",
    "extra_geno_samples = set(genotype_df.columns) - set(phenotype_df.columns)\n",
    "print(f'number of genotypes samples not in expression {len(extra_geno_samples)}')\n",
    "extra_expr_samples = set(phenotype_df.columns) - set(genotype_df.columns)\n",
    "print(f'number of expression samples not in genotypes {len(extra_geno_samples)}')"
   ]
  },
  {
   "cell_type": "markdown",
   "metadata": {},
   "source": [
    "#### drop the non-matched samples"
   ]
  },
  {
   "cell_type": "code",
   "execution_count": null,
   "metadata": {},
   "outputs": [],
   "source": [
    "genotype_df.drop(columns=extra_geno_samples, inplace=True)\n",
    "phenotype_df.drop(columns=extra_expr_samples, inplace=True)\n",
    "\n",
    "print(genotype_df.shape)\n",
    "# display(genotype_df.head())\n",
    "print(phenotype_df.shape)\n",
    "# display(phenotype_df.head())"
   ]
  },
  {
   "cell_type": "markdown",
   "metadata": {},
   "source": [
    "#### need to make sure phenos and genos have matched chromosomes; ie just autosomes"
   ]
  },
  {
   "cell_type": "code",
   "execution_count": null,
   "metadata": {},
   "outputs": [],
   "source": [
    "# need to ditch any non-autosomal genes\n",
    "assay_intersect_chroms = set(phenotype_pos_df['chr']) & set(variant_df['chrom']) \n",
    "print(f'intersect {len(assay_intersect_chroms)}')\n",
    "extra_geno_chroms = set(variant_df['chrom']) - set(phenotype_pos_df['chr'])\n",
    "print(f'number of genotypes chroms not in expression {len(extra_geno_chroms)}')\n",
    "print(extra_geno_chroms)\n",
    "extra_expr_chroms = set(phenotype_pos_df['chr']) - set(variant_df['chrom'])\n",
    "print(f'number of expression chroms not in genotypes {len(extra_expr_chroms)}')\n",
    "print(extra_expr_chroms)"
   ]
  },
  {
   "cell_type": "code",
   "execution_count": null,
   "metadata": {},
   "outputs": [],
   "source": [
    "if len(extra_geno_chroms) > 0:\n",
    "    variant_df = variant_df.loc[~variant_df['chrom'].isin(extra_geno_chroms)]\n",
    "    # this will remove variants so need to remove them from genos df as well\n",
    "    genotype_df = genotype_df.loc[genotype_df.index.isin(variant_df.index)]\n",
    "if len(extra_expr_chroms) > 0:\n",
    "    phenotype_pos_df = phenotype_pos_df.loc[~phenotype_pos_df['chr'].isin(extra_expr_chroms)]\n",
    "    # this will remove genes so need to remove them from phenos df as well\n",
    "    phenotype_df = phenotype_df.loc[phenotype_df.index.isin(phenotype_pos_df.index)]\n",
    "\n",
    "print(genotype_df.shape)\n",
    "# display(genotype_df.head())\n",
    "print(variant_df.shape)\n",
    "# display(variant_df.head())\n",
    "print(phenotype_df.shape)\n",
    "# display(phenotype_df.head())\n",
    "print(phenotype_pos_df.shape)\n",
    "# display(phenotype_pos_df.head())"
   ]
  },
  {
   "cell_type": "markdown",
   "metadata": {},
   "source": [
    "#### make sure covariates match geno and pheno samples"
   ]
  },
  {
   "cell_type": "code",
   "execution_count": null,
   "metadata": {},
   "outputs": [],
   "source": [
    "# subest covs to just this 'visit'; ie all differention days covs in file\n",
    "# also since only interested in cell fractions as the only covariates, subset now\n",
    "covs_df = covs_df.loc[(covs_df['visit'] == visit_name) & (covs_df['wgsid'].isin(phenotype_df.columns))]\n",
    "print(covs_df.shape)\n",
    "\n",
    "cov_intersect_samples = set(phenotype_df.columns) & set(covs_df['wgsid']) \n",
    "print(f'intersect {len(cov_intersect_samples)}')\n",
    "extra_expr_samples = set(phenotype_df.columns) - set(covs_df['wgsid'])\n",
    "print(f'number of expression samples not in covariates {len(extra_expr_samples)}')\n",
    "extra_cov_samples = set(covs_df['wgsid']) - set(phenotype_df.columns)\n",
    "print(f'number of covariate samples not in genotypes {len(extra_cov_samples)}')"
   ]
  },
  {
   "cell_type": "markdown",
   "metadata": {},
   "source": [
    "#### make sure interaction terms match geno and pheno samples"
   ]
  },
  {
   "cell_type": "code",
   "execution_count": null,
   "metadata": {},
   "outputs": [],
   "source": [
    "grs_df = grs_df.loc[grs_df.index.isin(phenotype_df.columns)]\n",
    "print(grs_df.shape)\n",
    "\n",
    "terms_intersect_samples = set(phenotype_df.columns) & set(grs_df.index) \n",
    "print(f'intersect {len(terms_intersect_samples)}')\n",
    "extra_expr_samples = set(phenotype_df.columns) - set(grs_df.index)\n",
    "print(f'number of expression samples not in interaction terms {len(extra_expr_samples)}')\n",
    "extra_terms_samples = set(grs_df.index) - set(phenotype_df.columns)\n",
    "print(f'number of interaction terms samples not in genotypes {len(extra_terms_samples)}')"
   ]
  },
  {
   "cell_type": "markdown",
   "metadata": {},
   "source": [
    "#### subset covariates from full cohort to cohort visit\n",
    "also rename the cell fractions names"
   ]
  },
  {
   "cell_type": "code",
   "execution_count": null,
   "metadata": {},
   "outputs": [],
   "source": [
    "covs_df.rename(columns=cell_types_dict, inplace=True)\n",
    "print(covs_df.shape)\n",
    "# display(covs_df.head())"
   ]
  },
  {
   "cell_type": "code",
   "execution_count": null,
   "metadata": {},
   "outputs": [],
   "source": [
    "covs_columns_to_use = ['wgsid'] + list(cell_types_dict.values())\n",
    "covs_to_use = covs_df[covs_columns_to_use]\n",
    "covs_to_use.set_index('wgsid', inplace=True)\n",
    "# re-order columns to match phenotypes\n",
    "covs_to_use = covs_to_use.transpose()\n",
    "covs_to_use = covs_to_use[phenotype_df.columns]\n",
    "# now transpose back\n",
    "covs_to_use = covs_to_use.transpose()\n",
    "print(covs_to_use.shape)\n",
    "# display(covs_to_use.head())"
   ]
  },
  {
   "cell_type": "markdown",
   "metadata": {},
   "source": [
    "#### subset interaction terms from full cohort to cohort visit"
   ]
  },
  {
   "cell_type": "code",
   "execution_count": null,
   "metadata": {},
   "outputs": [],
   "source": [
    "print(grs_df.shape)\n",
    "# display(grs_df.head())"
   ]
  },
  {
   "cell_type": "code",
   "execution_count": null,
   "metadata": {},
   "outputs": [],
   "source": [
    "terms_to_use = grs_df[terms_list]\n",
    "# re-order columns to match phenotypes\n",
    "terms_to_use = terms_to_use.transpose()\n",
    "terms_to_use = terms_to_use[phenotype_df.columns]\n",
    "# now transpose back\n",
    "terms_to_use = terms_to_use.transpose()\n",
    "print(terms_to_use.shape)\n",
    "# display(terms_to_use.head())"
   ]
  },
  {
   "cell_type": "markdown",
   "metadata": {},
   "source": [
    "#### interaction term for 'DX' has to be converted from categorical into binary\n",
    "just set 'PD' to one and 'Other or Control' to zero"
   ]
  },
  {
   "cell_type": "code",
   "execution_count": null,
   "metadata": {},
   "outputs": [],
   "source": [
    "terms_to_use['DX'] = np.where(terms_to_use['DX'] == 'PD', 1, 0)"
   ]
  },
  {
   "cell_type": "code",
   "execution_count": null,
   "metadata": {},
   "outputs": [],
   "source": [
    "# make sure GRS is float, and fill missing\n",
    "terms_to_use['GRS'] = terms_to_use['GRS'].astype('float32')\n",
    "terms_to_use['GRS'].fillna(terms_to_use['GRS'].mean(), inplace=True)"
   ]
  },
  {
   "cell_type": "markdown",
   "metadata": {},
   "source": [
    "#### run the term interactions; ie the ieQTL"
   ]
  },
  {
   "cell_type": "code",
   "execution_count": null,
   "metadata": {},
   "outputs": [],
   "source": [
    "%%time\n",
    "for term in terms_list:\n",
    "    print(term)\n",
    "    cis.map_nominal(genotype_df, variant_df, phenotype_df, phenotype_pos_df, \n",
    "                    covariates_df=covs_to_use, \n",
    "                    interaction_s=terms_to_use[term],\n",
    "                    prefix=f'{cohort_build}.{term}', output_dir=tensorqtl_dir,\n",
    "                    run_eigenmt=True, write_top=True, write_stats=True)"
   ]
  },
  {
   "cell_type": "markdown",
   "metadata": {},
   "source": [
    "#### load term interaction top results and save significant results"
   ]
  },
  {
   "cell_type": "code",
   "execution_count": null,
   "metadata": {},
   "outputs": [],
   "source": [
    "%%time\n",
    "for term in terms_list:\n",
    "    print(term)\n",
    "    top_file = f'{tensorqtl_dir}/{cohort_build}.{term}.cis_qtl_top_assoc.txt.gz'\n",
    "    top_results_file = f'{results_dir}/{cohort_build}.{term}.cis_qtl_top_assoc.txt.gz'\n",
    "    top_ieqtl = pd.read_csv(top_file, sep='\\t')\n",
    "    print(top_ieqtl.shape)\n",
    "    top_sig_ieqtl = top_ieqtl.loc[top_ieqtl['pval_adj_bh'] <= alpha_value]\n",
    "    print(top_sig_ieqtl.shape)\n",
    "    top_sig_ieqtl.to_csv(top_results_file)"
   ]
  },
  {
   "cell_type": "markdown",
   "metadata": {},
   "source": [
    "#### load all the interaction results for one of the terms"
   ]
  },
  {
   "cell_type": "code",
   "execution_count": null,
   "metadata": {},
   "outputs": [],
   "source": [
    "this_term = 'DX'\n",
    "import dask.dataframe as dd\n",
    "\n",
    "term_files = f'{tensorqtl_dir}/{cohort_build}.{this_term}.cis_qtl_pairs.chr*.parquet'\n",
    "ieqtl_df = dd.read_parquet(term_files)"
   ]
  },
  {
   "cell_type": "code",
   "execution_count": null,
   "metadata": {},
   "outputs": [],
   "source": [
    "print(ieqtl_df.shape)\n",
    "display(ieqtl_df.head())"
   ]
  },
  {
   "cell_type": "code",
   "execution_count": null,
   "metadata": {},
   "outputs": [],
   "source": [
    "top_file = f'{tensorqtl_dir}/{cohort_build}.{this_term}.cis_qtl_top_assoc.txt.gz'\n",
    "# biofind.wb1.DX.cis_qtl_top_assoc.txt.gz\n",
    "# biofind.wb1.GRS.cis_qtl_top_assoc.txt.gz\n",
    "top_ieqtl = pd.read_csv(top_file, sep='\\t')\n",
    "print(top_ieqtl.shape)\n",
    "display(top_ieqtl.head())"
   ]
  },
  {
   "cell_type": "code",
   "execution_count": null,
   "metadata": {},
   "outputs": [],
   "source": [
    "print(top_ieqtl.loc[top_ieqtl['pval_adj_bh'] < 0.05].shape)\n",
    "display(top_ieqtl.loc[top_ieqtl['pval_adj_bh'] < 0.05].head())"
   ]
  },
  {
   "cell_type": "code",
   "execution_count": null,
   "metadata": {},
   "outputs": [],
   "source": []
  }
 ],
 "metadata": {
  "environment": {
   "name": "pytorch-gpu.1-8.m65",
   "type": "gcloud",
   "uri": "gcr.io/deeplearning-platform-release/pytorch-gpu.1-8:m65"
  },
  "kernelspec": {
   "display_name": "Python 3",
   "language": "python",
   "name": "python3"
  },
  "language_info": {
   "codemirror_mode": {
    "name": "ipython",
    "version": 3
   },
   "file_extension": ".py",
   "mimetype": "text/x-python",
   "name": "python",
   "nbconvert_exporter": "python",
   "pygments_lexer": "ipython3",
   "version": "3.7.10"
  },
  "toc-autonumbering": false,
  "toc-showcode": false,
  "toc-showmarkdowntxt": false,
  "widgets": {
   "application/vnd.jupyter.widget-state+json": {
    "state": {},
    "version_major": 2,
    "version_minor": 0
   }
  }
 },
 "nbformat": 4,
 "nbformat_minor": 4
}
