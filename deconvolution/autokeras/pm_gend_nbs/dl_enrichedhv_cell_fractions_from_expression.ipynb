{
 "cells": [
  {
   "cell_type": "markdown",
   "metadata": {
    "papermill": {
     "duration": 0.015756,
     "end_time": "2020-09-22T06:11:53.165628",
     "exception": false,
     "start_time": "2020-09-22T06:11:53.149872",
     "status": "completed"
    },
    "tags": []
   },
   "source": [
    "## use autokeras to learn cell fractions from gene expression"
   ]
  },
  {
   "cell_type": "markdown",
   "metadata": {
    "papermill": {
     "duration": 0.014971,
     "end_time": "2020-09-22T06:11:53.197744",
     "exception": false,
     "start_time": "2020-09-22T06:11:53.182773",
     "status": "completed"
    },
    "tags": []
   },
   "source": [
    "#### imports and notebook variables"
   ]
  },
  {
   "cell_type": "code",
   "execution_count": 1,
   "metadata": {
    "execution": {
     "iopub.execute_input": "2020-09-22T06:11:53.234758Z",
     "iopub.status.busy": "2020-09-22T06:11:53.233913Z",
     "iopub.status.idle": "2020-09-22T06:11:54.988410Z",
     "shell.execute_reply": "2020-09-22T06:11:54.987884Z"
    },
    "papermill": {
     "duration": 1.77542,
     "end_time": "2020-09-22T06:11:54.988529",
     "exception": false,
     "start_time": "2020-09-22T06:11:53.213109",
     "status": "completed"
    },
    "tags": []
   },
   "outputs": [
    {
     "name": "stderr",
     "output_type": "stream",
     "text": [
      "Using TensorFlow backend.\n"
     ]
    }
   ],
   "source": [
    "import pandas as pd\n",
    "import random\n",
    "import autokeras as ak\n",
    "from sklearn.model_selection import train_test_split\n",
    "from keras.callbacks import TensorBoard\n",
    "from sklearn.metrics import r2_score, mean_squared_error, mean_absolute_error\n",
    "from sklearn.model_selection import cross_val_score\n",
    "import seaborn as sns\n",
    "import matplotlib.pyplot as plt\n",
    "import warnings\n",
    "warnings.filterwarnings('ignore')"
   ]
  },
  {
   "cell_type": "code",
   "execution_count": 2,
   "metadata": {
    "execution": {
     "iopub.execute_input": "2020-09-22T06:11:55.026132Z",
     "iopub.status.busy": "2020-09-22T06:11:55.025378Z",
     "iopub.status.idle": "2020-09-22T06:11:55.027682Z",
     "shell.execute_reply": "2020-09-22T06:11:55.028053Z"
    },
    "papermill": {
     "duration": 0.022374,
     "end_time": "2020-09-22T06:11:55.028197",
     "exception": false,
     "start_time": "2020-09-22T06:11:55.005823",
     "status": "completed"
    },
    "tags": [
     "parameters"
    ]
   },
   "outputs": [],
   "source": [
    "# parameters\n",
    "# naming\n",
    "cohort = 'ppmi'\n",
    "# expr_name = 'enriched'\n",
    "# expr_name = 'enhanced'\n",
    "expr_name = 'specific'\n",
    "overwrite_model = False\n",
    "add_random = False"
   ]
  },
  {
   "cell_type": "code",
   "execution_count": 3,
   "metadata": {
    "execution": {
     "iopub.execute_input": "2020-09-22T06:11:55.062256Z",
     "iopub.status.busy": "2020-09-22T06:11:55.061572Z",
     "iopub.status.idle": "2020-09-22T06:11:55.064135Z",
     "shell.execute_reply": "2020-09-22T06:11:55.063621Z"
    },
    "papermill": {
     "duration": 0.021272,
     "end_time": "2020-09-22T06:11:55.064255",
     "exception": false,
     "start_time": "2020-09-22T06:11:55.042983",
     "status": "completed"
    },
    "tags": [
     "injected-parameters"
    ]
   },
   "outputs": [],
   "source": [
    "# Parameters\n",
    "cohort = \"ppmi\"\n",
    "expr_name = \"enriched\"\n",
    "overwrite_model = True\n",
    "add_random = True\n"
   ]
  },
  {
   "cell_type": "code",
   "execution_count": 4,
   "metadata": {
    "execution": {
     "iopub.execute_input": "2020-09-22T06:11:55.102116Z",
     "iopub.status.busy": "2020-09-22T06:11:55.101449Z",
     "iopub.status.idle": "2020-09-22T06:11:55.118970Z",
     "shell.execute_reply": "2020-09-22T06:11:55.118568Z"
    },
    "papermill": {
     "duration": 0.039511,
     "end_time": "2020-09-22T06:11:55.119084",
     "exception": false,
     "start_time": "2020-09-22T06:11:55.079573",
     "status": "completed"
    },
    "tags": []
   },
   "outputs": [],
   "source": [
    "# naming\n",
    "visit_months = {'BL':0, 'V02':6, 'V04':12, 'V06':24, 'V08':36}\n",
    "visit_names = {'BL':'BLM0T1', 'V02':'SVM6T1', 'V04':'SVM12T1', 'V06':'SVM24T1', 'V08':'SVM36T1'}\n",
    "cell_types = ['Basophils', 'Eosinophils', 'Lymphocytes', 'Monocytes', 'Neutrophils']\n",
    "\n",
    "# in bucket data\n",
    "expr_bckt_file = f'gs://nihnialngcbg-eqtl/amppd/salmon/quantification/{cohort}.wb.norm.hdf5'\n",
    "fracs_bckt_file = f'gs://nihnialngcbg-eqtl/amppd/clinical/{cohort}.bld_chem_fractions.csv'\n",
    "cell_genes_bckt_file = f'gs://nihnialngcbg-eqtl/amppd/salmon/quantification/blood_cell_lineage_{expr_name}_genes.csv'\n",
    "# gencode_bckt_file = 'gs://nihnialngcbg-eqtl/amppd/salmon/quantification/gencode.v29.primary_assembly.annotation.pkl'\n",
    "\n",
    "# local files\n",
    "expr_file = f'{cohort}.wb.norm.hdf5'\n",
    "fracs_file = f'{cohort}.bld_chem_fractions.csv'\n",
    "cell_genes_enriched_file = 'blood_cell_lineage_genes.csv'\n",
    "# gencode_pkl = 'gencode.v29.primary_assembly.annotation.pkl'\n",
    "model_file = f'{cohort}.{expr_name}.model.cellfracs.h5'\n",
    "predicted_fractions_for_missing_file = f'{cohort}.{expr_name}.predicted.bld_chem_fractions.csv'\n",
    "tboard_log_dir = f'./tb_{expr_name}_logs'\n",
    "train_test_file = f'{cohort}.{expr_name}.features_targets.csv'\n",
    "\n",
    "capture_out = !(nproc)\n",
    "max_threads = int(capture_out[0])"
   ]
  },
  {
   "cell_type": "markdown",
   "metadata": {
    "papermill": {
     "duration": 0.015978,
     "end_time": "2020-09-22T06:11:55.152814",
     "exception": false,
     "start_time": "2020-09-22T06:11:55.136836",
     "status": "completed"
    },
    "tags": []
   },
   "source": [
    "#### pull src data local"
   ]
  },
  {
   "cell_type": "code",
   "execution_count": 5,
   "metadata": {
    "execution": {
     "iopub.execute_input": "2020-09-22T06:11:55.196168Z",
     "iopub.status.busy": "2020-09-22T06:11:55.195681Z",
     "iopub.status.idle": "2020-09-22T06:12:08.477538Z",
     "shell.execute_reply": "2020-09-22T06:12:08.477954Z"
    },
    "papermill": {
     "duration": 13.309305,
     "end_time": "2020-09-22T06:12:08.478129",
     "exception": false,
     "start_time": "2020-09-22T06:11:55.168824",
     "status": "completed"
    },
    "tags": []
   },
   "outputs": [],
   "source": [
    "!gsutil -mq cp {expr_bckt_file} {expr_file}\n",
    "!gsutil -mq cp {fracs_bckt_file} {fracs_file}\n",
    "!gsutil -mq cp {cell_genes_bckt_file} {cell_genes_enriched_file}\n",
    "# !gsutil -mq cp {gencode_bckt_file} {gencode_pkl}"
   ]
  },
  {
   "cell_type": "markdown",
   "metadata": {
    "papermill": {
     "duration": 0.022354,
     "end_time": "2020-09-22T06:12:08.525609",
     "exception": false,
     "start_time": "2020-09-22T06:12:08.503255",
     "status": "completed"
    },
    "tags": []
   },
   "source": [
    "#### load the expression data subset for enriched genes"
   ]
  },
  {
   "cell_type": "code",
   "execution_count": 6,
   "metadata": {
    "execution": {
     "iopub.execute_input": "2020-09-22T06:12:08.595767Z",
     "iopub.status.busy": "2020-09-22T06:12:08.595231Z",
     "iopub.status.idle": "2020-09-22T06:12:09.483024Z",
     "shell.execute_reply": "2020-09-22T06:12:09.482564Z"
    },
    "papermill": {
     "duration": 0.926504,
     "end_time": "2020-09-22T06:12:09.483142",
     "exception": false,
     "start_time": "2020-09-22T06:12:08.556638",
     "status": "completed"
    },
    "tags": []
   },
   "outputs": [
    {
     "name": "stdout",
     "output_type": "stream",
     "text": [
      "all expr data (4610, 16782)\n",
      "all enriched genes (516, 2)\n",
      "found 310 of enriched genes in expression data\n"
     ]
    },
    {
     "name": "stdout",
     "output_type": "stream",
     "text": [
      "found 620 of enriched genes plus high variance in expression data\n",
      "all enriched expr data (4610, 620)\n"
     ]
    }
   ],
   "source": [
    "expr_df = pd.read_hdf(expr_file)\n",
    "print(f'all expr data {expr_df.shape}')\n",
    "enriched_genes = pd.read_csv(cell_genes_enriched_file)\n",
    "print(f'all enriched genes {enriched_genes.shape}')\n",
    "gene_id_to_keep = set(enriched_genes['gene_id']) & set(expr_df.columns)\n",
    "print(f'found {len(gene_id_to_keep)} of enriched genes in expression data')\n",
    "if add_random:\n",
    "    quants_vars = expr_df.var() \n",
    "    gene_id_to_keep = gene_id_to_keep | set(quants_vars.sort_values(ascending=False).head(len(gene_id_to_keep)).index)\n",
    "    print(f'found {len(gene_id_to_keep)} of enriched genes plus high variance in expression data')\n",
    "expr_df = expr_df[list(gene_id_to_keep)]\n",
    "print(f'all enriched expr data {expr_df.shape}')"
   ]
  },
  {
   "cell_type": "markdown",
   "metadata": {
    "papermill": {
     "duration": 0.016256,
     "end_time": "2020-09-22T06:12:09.516306",
     "exception": false,
     "start_time": "2020-09-22T06:12:09.500050",
     "status": "completed"
    },
    "tags": []
   },
   "source": [
    "#### load the cell fractions data"
   ]
  },
  {
   "cell_type": "code",
   "execution_count": 7,
   "metadata": {
    "execution": {
     "iopub.execute_input": "2020-09-22T06:12:09.552066Z",
     "iopub.status.busy": "2020-09-22T06:12:09.551616Z",
     "iopub.status.idle": "2020-09-22T06:12:09.558963Z",
     "shell.execute_reply": "2020-09-22T06:12:09.558438Z"
    },
    "papermill": {
     "duration": 0.026618,
     "end_time": "2020-09-22T06:12:09.559104",
     "exception": false,
     "start_time": "2020-09-22T06:12:09.532486",
     "status": "completed"
    },
    "tags": []
   },
   "outputs": [
    {
     "name": "stdout",
     "output_type": "stream",
     "text": [
      "(5035, 7)\n"
     ]
    }
   ],
   "source": [
    "fracs_df = pd.read_csv(fracs_file)\n",
    "print(fracs_df.shape)"
   ]
  },
  {
   "cell_type": "code",
   "execution_count": 8,
   "metadata": {
    "execution": {
     "iopub.execute_input": "2020-09-22T06:12:09.597209Z",
     "iopub.status.busy": "2020-09-22T06:12:09.596775Z",
     "iopub.status.idle": "2020-09-22T06:12:09.616752Z",
     "shell.execute_reply": "2020-09-22T06:12:09.616298Z"
    },
    "papermill": {
     "duration": 0.040966,
     "end_time": "2020-09-22T06:12:09.616855",
     "exception": false,
     "start_time": "2020-09-22T06:12:09.575889",
     "status": "completed"
    },
    "tags": []
   },
   "outputs": [
    {
     "name": "stdout",
     "output_type": "stream",
     "text": [
      "(2387, 5)\n"
     ]
    }
   ],
   "source": [
    "# set the rna IDs to the match the IDs in the expression matrix\n",
    "for visit_number, visit_name in visit_names.items():\n",
    "    fracs_df.loc[fracs_df['visit'] == visit_number, 'rnaid'] = fracs_df['id'] + '-' + visit_name \n",
    "\n",
    "# drop the samples where a rnaid wasn't set, ie nans\n",
    "fracs_df.dropna(subset=['rnaid'], inplace=True)\n",
    "# set this new id as the index\n",
    "fracs_df.set_index('rnaid', drop=True, inplace=True)\n",
    "# and then drop original id and visit\n",
    "fracs_df.drop(columns=['id', 'visit'], inplace=True)    \n",
    "print(fracs_df.shape)"
   ]
  },
  {
   "cell_type": "code",
   "execution_count": 9,
   "metadata": {
    "execution": {
     "iopub.execute_input": "2020-09-22T06:12:09.660755Z",
     "iopub.status.busy": "2020-09-22T06:12:09.660112Z",
     "iopub.status.idle": "2020-09-22T06:12:09.676816Z",
     "shell.execute_reply": "2020-09-22T06:12:09.677154Z"
    },
    "papermill": {
     "duration": 0.042648,
     "end_time": "2020-09-22T06:12:09.677316",
     "exception": false,
     "start_time": "2020-09-22T06:12:09.634668",
     "status": "completed"
    },
    "tags": []
   },
   "outputs": [
    {
     "data": {
      "text/html": [
       "<div>\n",
       "<style scoped>\n",
       "    .dataframe tbody tr th:only-of-type {\n",
       "        vertical-align: middle;\n",
       "    }\n",
       "\n",
       "    .dataframe tbody tr th {\n",
       "        vertical-align: top;\n",
       "    }\n",
       "\n",
       "    .dataframe thead th {\n",
       "        text-align: right;\n",
       "    }\n",
       "</style>\n",
       "<table border=\"1\" class=\"dataframe\">\n",
       "  <thead>\n",
       "    <tr style=\"text-align: right;\">\n",
       "      <th></th>\n",
       "      <th>Basophils</th>\n",
       "      <th>Eosinophils</th>\n",
       "      <th>Lymphocytes</th>\n",
       "      <th>Monocytes</th>\n",
       "      <th>Neutrophils</th>\n",
       "    </tr>\n",
       "  </thead>\n",
       "  <tbody>\n",
       "    <tr>\n",
       "      <th>count</th>\n",
       "      <td>2387.000000</td>\n",
       "      <td>2387.000000</td>\n",
       "      <td>2387.000000</td>\n",
       "      <td>2387.000000</td>\n",
       "      <td>2387.000000</td>\n",
       "    </tr>\n",
       "    <tr>\n",
       "      <th>mean</th>\n",
       "      <td>0.642648</td>\n",
       "      <td>2.392333</td>\n",
       "      <td>28.050021</td>\n",
       "      <td>6.379933</td>\n",
       "      <td>62.535023</td>\n",
       "    </tr>\n",
       "    <tr>\n",
       "      <th>std</th>\n",
       "      <td>0.340675</td>\n",
       "      <td>1.597931</td>\n",
       "      <td>7.397466</td>\n",
       "      <td>1.714341</td>\n",
       "      <td>7.934574</td>\n",
       "    </tr>\n",
       "    <tr>\n",
       "      <th>min</th>\n",
       "      <td>0.000000</td>\n",
       "      <td>0.000000</td>\n",
       "      <td>5.500000</td>\n",
       "      <td>1.000000</td>\n",
       "      <td>25.000000</td>\n",
       "    </tr>\n",
       "    <tr>\n",
       "      <th>25%</th>\n",
       "      <td>0.400000</td>\n",
       "      <td>1.400000</td>\n",
       "      <td>22.900000</td>\n",
       "      <td>5.300000</td>\n",
       "      <td>57.300000</td>\n",
       "    </tr>\n",
       "    <tr>\n",
       "      <th>50%</th>\n",
       "      <td>0.600000</td>\n",
       "      <td>2.000000</td>\n",
       "      <td>27.800000</td>\n",
       "      <td>6.200000</td>\n",
       "      <td>62.600000</td>\n",
       "    </tr>\n",
       "    <tr>\n",
       "      <th>75%</th>\n",
       "      <td>0.800000</td>\n",
       "      <td>3.000000</td>\n",
       "      <td>32.800000</td>\n",
       "      <td>7.300000</td>\n",
       "      <td>68.000000</td>\n",
       "    </tr>\n",
       "    <tr>\n",
       "      <th>max</th>\n",
       "      <td>3.200000</td>\n",
       "      <td>16.400000</td>\n",
       "      <td>69.000000</td>\n",
       "      <td>15.700000</td>\n",
       "      <td>91.400000</td>\n",
       "    </tr>\n",
       "  </tbody>\n",
       "</table>\n",
       "</div>"
      ],
      "text/plain": [
       "         Basophils  Eosinophils  Lymphocytes    Monocytes  Neutrophils\n",
       "count  2387.000000  2387.000000  2387.000000  2387.000000  2387.000000\n",
       "mean      0.642648     2.392333    28.050021     6.379933    62.535023\n",
       "std       0.340675     1.597931     7.397466     1.714341     7.934574\n",
       "min       0.000000     0.000000     5.500000     1.000000    25.000000\n",
       "25%       0.400000     1.400000    22.900000     5.300000    57.300000\n",
       "50%       0.600000     2.000000    27.800000     6.200000    62.600000\n",
       "75%       0.800000     3.000000    32.800000     7.300000    68.000000\n",
       "max       3.200000    16.400000    69.000000    15.700000    91.400000"
      ]
     },
     "execution_count": 9,
     "metadata": {},
     "output_type": "execute_result"
    }
   ],
   "source": [
    "# check cell type summaries\n",
    "fracs_df.describe()"
   ]
  },
  {
   "cell_type": "markdown",
   "metadata": {
    "papermill": {
     "duration": 0.017008,
     "end_time": "2020-09-22T06:12:09.710884",
     "exception": false,
     "start_time": "2020-09-22T06:12:09.693876",
     "status": "completed"
    },
    "tags": []
   },
   "source": [
    "#### merge expr data and cell fraction data"
   ]
  },
  {
   "cell_type": "code",
   "execution_count": 10,
   "metadata": {
    "execution": {
     "iopub.execute_input": "2020-09-22T06:12:09.757984Z",
     "iopub.status.busy": "2020-09-22T06:12:09.757501Z",
     "iopub.status.idle": "2020-09-22T06:12:09.759689Z",
     "shell.execute_reply": "2020-09-22T06:12:09.760043Z"
    },
    "papermill": {
     "duration": 0.032152,
     "end_time": "2020-09-22T06:12:09.760211",
     "exception": false,
     "start_time": "2020-09-22T06:12:09.728059",
     "status": "completed"
    },
    "tags": []
   },
   "outputs": [
    {
     "name": "stdout",
     "output_type": "stream",
     "text": [
      "(1804, 625)\n"
     ]
    }
   ],
   "source": [
    "data_df = expr_df.merge(fracs_df, how='inner', left_index=True, right_index=True)\n",
    "print(data_df.shape)"
   ]
  },
  {
   "cell_type": "markdown",
   "metadata": {
    "papermill": {
     "duration": 0.017785,
     "end_time": "2020-09-22T06:12:09.796488",
     "exception": false,
     "start_time": "2020-09-22T06:12:09.778703",
     "status": "completed"
    },
    "tags": []
   },
   "source": [
    "#### save the feature/target data set"
   ]
  },
  {
   "cell_type": "code",
   "execution_count": 11,
   "metadata": {
    "execution": {
     "iopub.execute_input": "2020-09-22T06:12:09.835782Z",
     "iopub.status.busy": "2020-09-22T06:12:09.834786Z",
     "iopub.status.idle": "2020-09-22T06:12:11.626288Z",
     "shell.execute_reply": "2020-09-22T06:12:11.625693Z"
    },
    "papermill": {
     "duration": 1.812649,
     "end_time": "2020-09-22T06:12:11.626419",
     "exception": false,
     "start_time": "2020-09-22T06:12:09.813770",
     "status": "completed"
    },
    "tags": []
   },
   "outputs": [],
   "source": [
    "data_df.to_csv(train_test_file)"
   ]
  },
  {
   "cell_type": "markdown",
   "metadata": {
    "papermill": {
     "duration": 0.0182,
     "end_time": "2020-09-22T06:12:11.663994",
     "exception": false,
     "start_time": "2020-09-22T06:12:11.645794",
     "status": "completed"
    },
    "tags": []
   },
   "source": [
    "#### prep the test and train split"
   ]
  },
  {
   "cell_type": "code",
   "execution_count": 12,
   "metadata": {
    "execution": {
     "iopub.execute_input": "2020-09-22T06:12:11.703710Z",
     "iopub.status.busy": "2020-09-22T06:12:11.703221Z",
     "iopub.status.idle": "2020-09-22T06:12:11.721818Z",
     "shell.execute_reply": "2020-09-22T06:12:11.722221Z"
    },
    "papermill": {
     "duration": 0.041006,
     "end_time": "2020-09-22T06:12:11.722394",
     "exception": false,
     "start_time": "2020-09-22T06:12:11.681388",
     "status": "completed"
    },
    "tags": []
   },
   "outputs": [
    {
     "name": "stdout",
     "output_type": "stream",
     "text": [
      "(1262, 620) (542, 620) (1262, 5) (542, 5)\n"
     ]
    }
   ],
   "source": [
    "features, targets = data_df.drop(columns=cell_types), data_df[cell_types] #label encode the target\n",
    "features_train, features_test, targets_train, targets_test = train_test_split(features, \n",
    "                                                                              targets, \n",
    "                                                                              test_size=0.3)\n",
    "print(features_train.shape, features_test.shape, targets_train.shape, targets_test.shape)"
   ]
  },
  {
   "cell_type": "markdown",
   "metadata": {
    "papermill": {
     "duration": 0.017626,
     "end_time": "2020-09-22T06:12:11.757774",
     "exception": false,
     "start_time": "2020-09-22T06:12:11.740148",
     "status": "completed"
    },
    "tags": []
   },
   "source": [
    "#### setup the tensorboard callback"
   ]
  },
  {
   "cell_type": "code",
   "execution_count": 13,
   "metadata": {
    "execution": {
     "iopub.execute_input": "2020-09-22T06:12:12.527143Z",
     "iopub.status.busy": "2020-09-22T06:12:12.526612Z",
     "iopub.status.idle": "2020-09-22T06:12:12.528775Z",
     "shell.execute_reply": "2020-09-22T06:12:12.528380Z"
    },
    "papermill": {
     "duration": 0.751953,
     "end_time": "2020-09-22T06:12:12.528896",
     "exception": false,
     "start_time": "2020-09-22T06:12:11.776943",
     "status": "completed"
    },
    "tags": []
   },
   "outputs": [],
   "source": [
    "tensorboard_callback = TensorBoard(log_dir=tboard_log_dir, histogram_freq=0, \n",
    "                                   write_graph=True, write_images=False)"
   ]
  },
  {
   "cell_type": "markdown",
   "metadata": {
    "papermill": {
     "duration": 0.017828,
     "end_time": "2020-09-22T06:12:12.565011",
     "exception": false,
     "start_time": "2020-09-22T06:12:12.547183",
     "status": "completed"
    },
    "tags": []
   },
   "source": [
    "#### search for the best model"
   ]
  },
  {
   "cell_type": "code",
   "execution_count": 14,
   "metadata": {
    "execution": {
     "iopub.execute_input": "2020-09-22T06:12:12.606965Z",
     "iopub.status.busy": "2020-09-22T06:12:12.606500Z",
     "iopub.status.idle": "2020-09-22T09:45:11.033929Z",
     "shell.execute_reply": "2020-09-22T09:45:11.033533Z"
    },
    "papermill": {
     "duration": 12778.449807,
     "end_time": "2020-09-22T09:45:11.034047",
     "exception": false,
     "start_time": "2020-09-22T06:12:12.584240",
     "status": "completed"
    },
    "tags": []
   },
   "outputs": [
    {
     "name": "stdout",
     "output_type": "stream",
     "text": [
      "WARNING:tensorflow:From /opt/conda/lib/python3.7/site-packages/tensorflow/python/ops/summary_ops_v2.py:1277: stop (from tensorflow.python.eager.profiler) is deprecated and will be removed after 2020-07-01.\n",
      "Instructions for updating:\n",
      "use `tf.profiler.experimental.stop` instead.\n"
     ]
    },
    {
     "name": "stdout",
     "output_type": "stream",
     "text": [
      "WARNING:tensorflow:Callbacks method `on_train_batch_end` is slow compared to the batch time (batch time: 0.0663s vs `on_train_batch_end` time: 0.4226s). Check your callbacks.\n"
     ]
    },
    {
     "name": "stdout",
     "output_type": "stream",
     "text": [
      "WARNING:tensorflow:Callbacks method `on_train_batch_end` is slow compared to the batch time (batch time: 0.0716s vs `on_train_batch_end` time: 1.0862s). Check your callbacks.\n"
     ]
    },
    {
     "name": "stdout",
     "output_type": "stream",
     "text": [
      "WARNING:tensorflow:Callbacks method `on_train_batch_end` is slow compared to the batch time (batch time: 0.0711s vs `on_train_batch_end` time: 1.0253s). Check your callbacks.\n"
     ]
    },
    {
     "name": "stdout",
     "output_type": "stream",
     "text": [
      "WARNING:tensorflow:Callbacks method `on_train_batch_end` is slow compared to the batch time (batch time: 0.0752s vs `on_train_batch_end` time: 1.0194s). Check your callbacks.\n"
     ]
    },
    {
     "name": "stdout",
     "output_type": "stream",
     "text": [
      "WARNING:tensorflow:Callbacks method `on_train_batch_end` is slow compared to the batch time (batch time: 0.0716s vs `on_train_batch_end` time: 1.0247s). Check your callbacks.\n"
     ]
    },
    {
     "name": "stdout",
     "output_type": "stream",
     "text": [
      "WARNING:tensorflow:Callbacks method `on_train_batch_end` is slow compared to the batch time (batch time: 0.0709s vs `on_train_batch_end` time: 1.0895s). Check your callbacks.\n"
     ]
    },
    {
     "name": "stdout",
     "output_type": "stream",
     "text": [
      "WARNING:tensorflow:Callbacks method `on_train_batch_end` is slow compared to the batch time (batch time: 0.0739s vs `on_train_batch_end` time: 1.0210s). Check your callbacks.\n"
     ]
    },
    {
     "name": "stdout",
     "output_type": "stream",
     "text": [
      "WARNING:tensorflow:Callbacks method `on_train_batch_end` is slow compared to the batch time (batch time: 0.0721s vs `on_train_batch_end` time: 1.0597s). Check your callbacks.\n"
     ]
    },
    {
     "name": "stdout",
     "output_type": "stream",
     "text": [
      "WARNING:tensorflow:Callbacks method `on_train_batch_end` is slow compared to the batch time (batch time: 0.0681s vs `on_train_batch_end` time: 1.0083s). Check your callbacks.\n"
     ]
    },
    {
     "name": "stdout",
     "output_type": "stream",
     "text": [
      "WARNING:tensorflow:Callbacks method `on_train_batch_end` is slow compared to the batch time (batch time: 0.0664s vs `on_train_batch_end` time: 0.9533s). Check your callbacks.\n"
     ]
    },
    {
     "name": "stdout",
     "output_type": "stream",
     "text": [
      "WARNING:tensorflow:Callbacks method `on_train_batch_end` is slow compared to the batch time (batch time: 0.0751s vs `on_train_batch_end` time: 1.0476s). Check your callbacks.\n"
     ]
    },
    {
     "name": "stdout",
     "output_type": "stream",
     "text": [
      "WARNING:tensorflow:Callbacks method `on_train_batch_end` is slow compared to the batch time (batch time: 0.0693s vs `on_train_batch_end` time: 1.0240s). Check your callbacks.\n"
     ]
    },
    {
     "name": "stdout",
     "output_type": "stream",
     "text": [
      "WARNING:tensorflow:Callbacks method `on_train_batch_end` is slow compared to the batch time (batch time: 0.0722s vs `on_train_batch_end` time: 1.0511s). Check your callbacks.\n"
     ]
    },
    {
     "name": "stdout",
     "output_type": "stream",
     "text": [
      "WARNING:tensorflow:Callbacks method `on_train_batch_end` is slow compared to the batch time (batch time: 0.0687s vs `on_train_batch_end` time: 0.9601s). Check your callbacks.\n"
     ]
    },
    {
     "name": "stdout",
     "output_type": "stream",
     "text": [
      "WARNING:tensorflow:Callbacks method `on_train_batch_end` is slow compared to the batch time (batch time: 0.0678s vs `on_train_batch_end` time: 0.9948s). Check your callbacks.\n"
     ]
    },
    {
     "name": "stdout",
     "output_type": "stream",
     "text": [
      "WARNING:tensorflow:Callbacks method `on_train_batch_end` is slow compared to the batch time (batch time: 0.0667s vs `on_train_batch_end` time: 0.9576s). Check your callbacks.\n"
     ]
    },
    {
     "name": "stdout",
     "output_type": "stream",
     "text": [
      "WARNING:tensorflow:Callbacks method `on_train_batch_end` is slow compared to the batch time (batch time: 0.0655s vs `on_train_batch_end` time: 0.9689s). Check your callbacks.\n"
     ]
    },
    {
     "name": "stdout",
     "output_type": "stream",
     "text": [
      "WARNING:tensorflow:Callbacks method `on_train_batch_end` is slow compared to the batch time (batch time: 0.0668s vs `on_train_batch_end` time: 0.9607s). Check your callbacks.\n"
     ]
    },
    {
     "name": "stdout",
     "output_type": "stream",
     "text": [
      "WARNING:tensorflow:Callbacks method `on_train_batch_end` is slow compared to the batch time (batch time: 0.0645s vs `on_train_batch_end` time: 0.9537s). Check your callbacks.\n"
     ]
    },
    {
     "name": "stdout",
     "output_type": "stream",
     "text": [
      "WARNING:tensorflow:Callbacks method `on_train_batch_end` is slow compared to the batch time (batch time: 0.0647s vs `on_train_batch_end` time: 0.9534s). Check your callbacks.\n"
     ]
    },
    {
     "name": "stdout",
     "output_type": "stream",
     "text": [
      "WARNING:tensorflow:Callbacks method `on_train_batch_end` is slow compared to the batch time (batch time: 0.0718s vs `on_train_batch_end` time: 1.0129s). Check your callbacks.\n"
     ]
    },
    {
     "name": "stdout",
     "output_type": "stream",
     "text": [
      "WARNING:tensorflow:Callbacks method `on_train_batch_end` is slow compared to the batch time (batch time: 0.0674s vs `on_train_batch_end` time: 0.9728s). Check your callbacks.\n"
     ]
    },
    {
     "name": "stdout",
     "output_type": "stream",
     "text": [
      "WARNING:tensorflow:Callbacks method `on_train_batch_end` is slow compared to the batch time (batch time: 0.0668s vs `on_train_batch_end` time: 0.9481s). Check your callbacks.\n"
     ]
    },
    {
     "name": "stdout",
     "output_type": "stream",
     "text": [
      "WARNING:tensorflow:Callbacks method `on_train_batch_end` is slow compared to the batch time (batch time: 0.0661s vs `on_train_batch_end` time: 0.9546s). Check your callbacks.\n"
     ]
    },
    {
     "name": "stdout",
     "output_type": "stream",
     "text": [
      "WARNING:tensorflow:Callbacks method `on_train_batch_end` is slow compared to the batch time (batch time: 0.0672s vs `on_train_batch_end` time: 0.9368s). Check your callbacks.\n"
     ]
    },
    {
     "name": "stdout",
     "output_type": "stream",
     "text": [
      "WARNING:tensorflow:Callbacks method `on_train_batch_end` is slow compared to the batch time (batch time: 0.0632s vs `on_train_batch_end` time: 0.9441s). Check your callbacks.\n"
     ]
    },
    {
     "name": "stdout",
     "output_type": "stream",
     "text": [
      "WARNING:tensorflow:Callbacks method `on_train_batch_end` is slow compared to the batch time (batch time: 0.0687s vs `on_train_batch_end` time: 0.9872s). Check your callbacks.\n"
     ]
    },
    {
     "name": "stdout",
     "output_type": "stream",
     "text": [
      "WARNING:tensorflow:Callbacks method `on_train_batch_end` is slow compared to the batch time (batch time: 0.0670s vs `on_train_batch_end` time: 0.9565s). Check your callbacks.\n"
     ]
    },
    {
     "name": "stdout",
     "output_type": "stream",
     "text": [
      "WARNING:tensorflow:Callbacks method `on_train_batch_end` is slow compared to the batch time (batch time: 0.0660s vs `on_train_batch_end` time: 0.9527s). Check your callbacks.\n"
     ]
    },
    {
     "name": "stdout",
     "output_type": "stream",
     "text": [
      "WARNING:tensorflow:Callbacks method `on_train_batch_end` is slow compared to the batch time (batch time: 0.0639s vs `on_train_batch_end` time: 0.9541s). Check your callbacks.\n"
     ]
    },
    {
     "name": "stdout",
     "output_type": "stream",
     "text": [
      "WARNING:tensorflow:Callbacks method `on_train_batch_end` is slow compared to the batch time (batch time: 0.0649s vs `on_train_batch_end` time: 0.9564s). Check your callbacks.\n"
     ]
    },
    {
     "name": "stdout",
     "output_type": "stream",
     "text": [
      "WARNING:tensorflow:Callbacks method `on_train_batch_end` is slow compared to the batch time (batch time: 0.0626s vs `on_train_batch_end` time: 0.9324s). Check your callbacks.\n"
     ]
    },
    {
     "name": "stdout",
     "output_type": "stream",
     "text": [
      "WARNING:tensorflow:Callbacks method `on_train_batch_end` is slow compared to the batch time (batch time: 0.0658s vs `on_train_batch_end` time: 0.9363s). Check your callbacks.\n"
     ]
    },
    {
     "name": "stdout",
     "output_type": "stream",
     "text": [
      "WARNING:tensorflow:Callbacks method `on_train_batch_end` is slow compared to the batch time (batch time: 0.0726s vs `on_train_batch_end` time: 1.0830s). Check your callbacks.\n"
     ]
    },
    {
     "name": "stdout",
     "output_type": "stream",
     "text": [
      "WARNING:tensorflow:Callbacks method `on_train_batch_end` is slow compared to the batch time (batch time: 0.0618s vs `on_train_batch_end` time: 0.9972s). Check your callbacks.\n"
     ]
    },
    {
     "name": "stdout",
     "output_type": "stream",
     "text": [
      "WARNING:tensorflow:Callbacks method `on_train_batch_end` is slow compared to the batch time (batch time: 0.0637s vs `on_train_batch_end` time: 0.9969s). Check your callbacks.\n"
     ]
    },
    {
     "name": "stdout",
     "output_type": "stream",
     "text": [
      "WARNING:tensorflow:Callbacks method `on_train_batch_end` is slow compared to the batch time (batch time: 0.0696s vs `on_train_batch_end` time: 0.9808s). Check your callbacks.\n"
     ]
    },
    {
     "name": "stdout",
     "output_type": "stream",
     "text": [
      "WARNING:tensorflow:Callbacks method `on_train_batch_end` is slow compared to the batch time (batch time: 0.0674s vs `on_train_batch_end` time: 0.9987s). Check your callbacks.\n"
     ]
    },
    {
     "name": "stdout",
     "output_type": "stream",
     "text": [
      "WARNING:tensorflow:Callbacks method `on_train_batch_end` is slow compared to the batch time (batch time: 0.0725s vs `on_train_batch_end` time: 1.0443s). Check your callbacks.\n"
     ]
    },
    {
     "name": "stdout",
     "output_type": "stream",
     "text": [
      "WARNING:tensorflow:Callbacks method `on_train_batch_end` is slow compared to the batch time (batch time: 0.0688s vs `on_train_batch_end` time: 1.0025s). Check your callbacks.\n"
     ]
    },
    {
     "name": "stdout",
     "output_type": "stream",
     "text": [
      "WARNING:tensorflow:Callbacks method `on_train_batch_end` is slow compared to the batch time (batch time: 0.0685s vs `on_train_batch_end` time: 1.0647s). Check your callbacks.\n"
     ]
    },
    {
     "name": "stdout",
     "output_type": "stream",
     "text": [
      "WARNING:tensorflow:Callbacks method `on_train_batch_end` is slow compared to the batch time (batch time: 0.0679s vs `on_train_batch_end` time: 0.9961s). Check your callbacks.\n"
     ]
    },
    {
     "name": "stdout",
     "output_type": "stream",
     "text": [
      "WARNING:tensorflow:Callbacks method `on_train_batch_end` is slow compared to the batch time (batch time: 0.0709s vs `on_train_batch_end` time: 1.0623s). Check your callbacks.\n"
     ]
    },
    {
     "name": "stdout",
     "output_type": "stream",
     "text": [
      "WARNING:tensorflow:Callbacks method `on_train_batch_end` is slow compared to the batch time (batch time: 0.0710s vs `on_train_batch_end` time: 1.0218s). Check your callbacks.\n"
     ]
    },
    {
     "name": "stdout",
     "output_type": "stream",
     "text": [
      "WARNING:tensorflow:Callbacks method `on_train_batch_end` is slow compared to the batch time (batch time: 0.0708s vs `on_train_batch_end` time: 1.0077s). Check your callbacks.\n"
     ]
    },
    {
     "name": "stdout",
     "output_type": "stream",
     "text": [
      "WARNING:tensorflow:Callbacks method `on_train_batch_end` is slow compared to the batch time (batch time: 0.0662s vs `on_train_batch_end` time: 1.0066s). Check your callbacks.\n"
     ]
    },
    {
     "name": "stdout",
     "output_type": "stream",
     "text": [
      "WARNING:tensorflow:Callbacks method `on_train_batch_end` is slow compared to the batch time (batch time: 0.0706s vs `on_train_batch_end` time: 1.0949s). Check your callbacks.\n"
     ]
    },
    {
     "name": "stdout",
     "output_type": "stream",
     "text": [
      "WARNING:tensorflow:Callbacks method `on_train_batch_end` is slow compared to the batch time (batch time: 0.0683s vs `on_train_batch_end` time: 1.0188s). Check your callbacks.\n"
     ]
    },
    {
     "name": "stdout",
     "output_type": "stream",
     "text": [
      "WARNING:tensorflow:Callbacks method `on_train_batch_end` is slow compared to the batch time (batch time: 0.0643s vs `on_train_batch_end` time: 0.9657s). Check your callbacks.\n"
     ]
    },
    {
     "name": "stdout",
     "output_type": "stream",
     "text": [
      "WARNING:tensorflow:Callbacks method `on_train_batch_end` is slow compared to the batch time (batch time: 0.0653s vs `on_train_batch_end` time: 0.9838s). Check your callbacks.\n"
     ]
    },
    {
     "name": "stdout",
     "output_type": "stream",
     "text": [
      "WARNING:tensorflow:Callbacks method `on_train_batch_end` is slow compared to the batch time (batch time: 0.0616s vs `on_train_batch_end` time: 0.9567s). Check your callbacks.\n"
     ]
    },
    {
     "name": "stdout",
     "output_type": "stream",
     "text": [
      "WARNING:tensorflow:Callbacks method `on_train_batch_end` is slow compared to the batch time (batch time: 0.0699s vs `on_train_batch_end` time: 1.0184s). Check your callbacks.\n"
     ]
    },
    {
     "name": "stdout",
     "output_type": "stream",
     "text": [
      "WARNING:tensorflow:Callbacks method `on_train_batch_end` is slow compared to the batch time (batch time: 0.0644s vs `on_train_batch_end` time: 0.9453s). Check your callbacks.\n"
     ]
    },
    {
     "name": "stdout",
     "output_type": "stream",
     "text": [
      "WARNING:tensorflow:Callbacks method `on_train_batch_end` is slow compared to the batch time (batch time: 0.0639s vs `on_train_batch_end` time: 0.9577s). Check your callbacks.\n"
     ]
    },
    {
     "name": "stdout",
     "output_type": "stream",
     "text": [
      "WARNING:tensorflow:Callbacks method `on_train_batch_end` is slow compared to the batch time (batch time: 0.0616s vs `on_train_batch_end` time: 1.0494s). Check your callbacks.\n"
     ]
    },
    {
     "name": "stdout",
     "output_type": "stream",
     "text": [
      "WARNING:tensorflow:Callbacks method `on_train_batch_end` is slow compared to the batch time (batch time: 0.0622s vs `on_train_batch_end` time: 0.9649s). Check your callbacks.\n"
     ]
    },
    {
     "name": "stdout",
     "output_type": "stream",
     "text": [
      "WARNING:tensorflow:Callbacks method `on_train_batch_end` is slow compared to the batch time (batch time: 0.0667s vs `on_train_batch_end` time: 0.9564s). Check your callbacks.\n"
     ]
    },
    {
     "name": "stdout",
     "output_type": "stream",
     "text": [
      "WARNING:tensorflow:Callbacks method `on_train_batch_end` is slow compared to the batch time (batch time: 0.0673s vs `on_train_batch_end` time: 0.9544s). Check your callbacks.\n"
     ]
    },
    {
     "name": "stdout",
     "output_type": "stream",
     "text": [
      "WARNING:tensorflow:Callbacks method `on_train_batch_end` is slow compared to the batch time (batch time: 0.0652s vs `on_train_batch_end` time: 0.9598s). Check your callbacks.\n"
     ]
    },
    {
     "name": "stdout",
     "output_type": "stream",
     "text": [
      "WARNING:tensorflow:Callbacks method `on_train_batch_end` is slow compared to the batch time (batch time: 0.0640s vs `on_train_batch_end` time: 0.9370s). Check your callbacks.\n"
     ]
    },
    {
     "name": "stdout",
     "output_type": "stream",
     "text": [
      "INFO:tensorflow:Oracle triggered exit\n"
     ]
    },
    {
     "name": "stdout",
     "output_type": "stream",
     "text": [
      "WARNING:tensorflow:Callbacks method `on_train_batch_end` is slow compared to the batch time (batch time: 0.0649s vs `on_train_batch_end` time: 0.9506s). Check your callbacks.\n"
     ]
    },
    {
     "name": "stdout",
     "output_type": "stream",
     "text": [
      "WARNING:tensorflow:Early stopping conditioned on metric `val_loss` which is not available. Available metrics are: loss,mean_squared_error\n"
     ]
    },
    {
     "name": "stdout",
     "output_type": "stream",
     "text": [
      "WARNING:tensorflow:Early stopping conditioned on metric `val_loss` which is not available. Available metrics are: loss,mean_squared_error\n"
     ]
    },
    {
     "name": "stdout",
     "output_type": "stream",
     "text": [
      "WARNING:tensorflow:Early stopping conditioned on metric `val_loss` which is not available. Available metrics are: loss,mean_squared_error\n"
     ]
    },
    {
     "name": "stdout",
     "output_type": "stream",
     "text": [
      "WARNING:tensorflow:Early stopping conditioned on metric `val_loss` which is not available. Available metrics are: loss,mean_squared_error\n"
     ]
    },
    {
     "name": "stdout",
     "output_type": "stream",
     "text": [
      "WARNING:tensorflow:Early stopping conditioned on metric `val_loss` which is not available. Available metrics are: loss,mean_squared_error\n"
     ]
    },
    {
     "name": "stdout",
     "output_type": "stream",
     "text": [
      "WARNING:tensorflow:Early stopping conditioned on metric `val_loss` which is not available. Available metrics are: loss,mean_squared_error\n"
     ]
    },
    {
     "name": "stdout",
     "output_type": "stream",
     "text": [
      "WARNING:tensorflow:Early stopping conditioned on metric `val_loss` which is not available. Available metrics are: loss,mean_squared_error\n"
     ]
    },
    {
     "name": "stdout",
     "output_type": "stream",
     "text": [
      "WARNING:tensorflow:Early stopping conditioned on metric `val_loss` which is not available. Available metrics are: loss,mean_squared_error\n"
     ]
    },
    {
     "name": "stdout",
     "output_type": "stream",
     "text": [
      "WARNING:tensorflow:Early stopping conditioned on metric `val_loss` which is not available. Available metrics are: loss,mean_squared_error\n"
     ]
    },
    {
     "name": "stdout",
     "output_type": "stream",
     "text": [
      "WARNING:tensorflow:Early stopping conditioned on metric `val_loss` which is not available. Available metrics are: loss,mean_squared_error\n"
     ]
    },
    {
     "name": "stdout",
     "output_type": "stream",
     "text": [
      "WARNING:tensorflow:Early stopping conditioned on metric `val_loss` which is not available. Available metrics are: loss,mean_squared_error\n"
     ]
    },
    {
     "name": "stdout",
     "output_type": "stream",
     "text": [
      "WARNING:tensorflow:Early stopping conditioned on metric `val_loss` which is not available. Available metrics are: loss,mean_squared_error\n"
     ]
    },
    {
     "name": "stdout",
     "output_type": "stream",
     "text": [
      "WARNING:tensorflow:Early stopping conditioned on metric `val_loss` which is not available. Available metrics are: loss,mean_squared_error\n"
     ]
    },
    {
     "name": "stdout",
     "output_type": "stream",
     "text": [
      "WARNING:tensorflow:Early stopping conditioned on metric `val_loss` which is not available. Available metrics are: loss,mean_squared_error\n"
     ]
    },
    {
     "name": "stdout",
     "output_type": "stream",
     "text": [
      "WARNING:tensorflow:Early stopping conditioned on metric `val_loss` which is not available. Available metrics are: loss,mean_squared_error\n"
     ]
    },
    {
     "name": "stdout",
     "output_type": "stream",
     "text": [
      "WARNING:tensorflow:Early stopping conditioned on metric `val_loss` which is not available. Available metrics are: loss,mean_squared_error\n"
     ]
    },
    {
     "name": "stdout",
     "output_type": "stream",
     "text": [
      "WARNING:tensorflow:Early stopping conditioned on metric `val_loss` which is not available. Available metrics are: loss,mean_squared_error\n"
     ]
    },
    {
     "name": "stdout",
     "output_type": "stream",
     "text": [
      "WARNING:tensorflow:Early stopping conditioned on metric `val_loss` which is not available. Available metrics are: loss,mean_squared_error\n"
     ]
    },
    {
     "name": "stdout",
     "output_type": "stream",
     "text": [
      "WARNING:tensorflow:Early stopping conditioned on metric `val_loss` which is not available. Available metrics are: loss,mean_squared_error\n"
     ]
    },
    {
     "name": "stdout",
     "output_type": "stream",
     "text": [
      "WARNING:tensorflow:Early stopping conditioned on metric `val_loss` which is not available. Available metrics are: loss,mean_squared_error\n"
     ]
    },
    {
     "name": "stdout",
     "output_type": "stream",
     "text": [
      "WARNING:tensorflow:Early stopping conditioned on metric `val_loss` which is not available. Available metrics are: loss,mean_squared_error\n"
     ]
    },
    {
     "name": "stdout",
     "output_type": "stream",
     "text": [
      "WARNING:tensorflow:Early stopping conditioned on metric `val_loss` which is not available. Available metrics are: loss,mean_squared_error\n"
     ]
    },
    {
     "name": "stdout",
     "output_type": "stream",
     "text": [
      "WARNING:tensorflow:Early stopping conditioned on metric `val_loss` which is not available. Available metrics are: loss,mean_squared_error\n"
     ]
    },
    {
     "name": "stdout",
     "output_type": "stream",
     "text": [
      "WARNING:tensorflow:Early stopping conditioned on metric `val_loss` which is not available. Available metrics are: loss,mean_squared_error\n"
     ]
    },
    {
     "name": "stdout",
     "output_type": "stream",
     "text": [
      "WARNING:tensorflow:Early stopping conditioned on metric `val_loss` which is not available. Available metrics are: loss,mean_squared_error\n"
     ]
    },
    {
     "name": "stdout",
     "output_type": "stream",
     "text": [
      "WARNING:tensorflow:Early stopping conditioned on metric `val_loss` which is not available. Available metrics are: loss,mean_squared_error\n"
     ]
    },
    {
     "name": "stdout",
     "output_type": "stream",
     "text": [
      "WARNING:tensorflow:Early stopping conditioned on metric `val_loss` which is not available. Available metrics are: loss,mean_squared_error\n"
     ]
    },
    {
     "name": "stdout",
     "output_type": "stream",
     "text": [
      "WARNING:tensorflow:Early stopping conditioned on metric `val_loss` which is not available. Available metrics are: loss,mean_squared_error\n"
     ]
    },
    {
     "name": "stdout",
     "output_type": "stream",
     "text": [
      "WARNING:tensorflow:Early stopping conditioned on metric `val_loss` which is not available. Available metrics are: loss,mean_squared_error\n"
     ]
    },
    {
     "name": "stdout",
     "output_type": "stream",
     "text": [
      "WARNING:tensorflow:Early stopping conditioned on metric `val_loss` which is not available. Available metrics are: loss,mean_squared_error\n"
     ]
    },
    {
     "name": "stdout",
     "output_type": "stream",
     "text": [
      "WARNING:tensorflow:Early stopping conditioned on metric `val_loss` which is not available. Available metrics are: loss,mean_squared_error\n"
     ]
    },
    {
     "name": "stdout",
     "output_type": "stream",
     "text": [
      "WARNING:tensorflow:Early stopping conditioned on metric `val_loss` which is not available. Available metrics are: loss,mean_squared_error\n"
     ]
    },
    {
     "name": "stdout",
     "output_type": "stream",
     "text": [
      "WARNING:tensorflow:Early stopping conditioned on metric `val_loss` which is not available. Available metrics are: loss,mean_squared_error\n"
     ]
    },
    {
     "name": "stdout",
     "output_type": "stream",
     "text": [
      "WARNING:tensorflow:Early stopping conditioned on metric `val_loss` which is not available. Available metrics are: loss,mean_squared_error\n"
     ]
    },
    {
     "name": "stdout",
     "output_type": "stream",
     "text": [
      "WARNING:tensorflow:Early stopping conditioned on metric `val_loss` which is not available. Available metrics are: loss,mean_squared_error\n"
     ]
    },
    {
     "name": "stdout",
     "output_type": "stream",
     "text": [
      "WARNING:tensorflow:Early stopping conditioned on metric `val_loss` which is not available. Available metrics are: loss,mean_squared_error\n"
     ]
    },
    {
     "name": "stdout",
     "output_type": "stream",
     "text": [
      "WARNING:tensorflow:Early stopping conditioned on metric `val_loss` which is not available. Available metrics are: loss,mean_squared_error\n"
     ]
    },
    {
     "name": "stdout",
     "output_type": "stream",
     "text": [
      "WARNING:tensorflow:Early stopping conditioned on metric `val_loss` which is not available. Available metrics are: loss,mean_squared_error\n"
     ]
    },
    {
     "name": "stdout",
     "output_type": "stream",
     "text": [
      "WARNING:tensorflow:Early stopping conditioned on metric `val_loss` which is not available. Available metrics are: loss,mean_squared_error\n"
     ]
    },
    {
     "name": "stdout",
     "output_type": "stream",
     "text": [
      "WARNING:tensorflow:Early stopping conditioned on metric `val_loss` which is not available. Available metrics are: loss,mean_squared_error\n"
     ]
    },
    {
     "name": "stdout",
     "output_type": "stream",
     "text": [
      "WARNING:tensorflow:Early stopping conditioned on metric `val_loss` which is not available. Available metrics are: loss,mean_squared_error\n"
     ]
    },
    {
     "name": "stdout",
     "output_type": "stream",
     "text": [
      "WARNING:tensorflow:Early stopping conditioned on metric `val_loss` which is not available. Available metrics are: loss,mean_squared_error\n"
     ]
    },
    {
     "name": "stdout",
     "output_type": "stream",
     "text": [
      "WARNING:tensorflow:Early stopping conditioned on metric `val_loss` which is not available. Available metrics are: loss,mean_squared_error\n"
     ]
    },
    {
     "name": "stdout",
     "output_type": "stream",
     "text": [
      "WARNING:tensorflow:Early stopping conditioned on metric `val_loss` which is not available. Available metrics are: loss,mean_squared_error\n"
     ]
    },
    {
     "name": "stdout",
     "output_type": "stream",
     "text": [
      "WARNING:tensorflow:Early stopping conditioned on metric `val_loss` which is not available. Available metrics are: loss,mean_squared_error\n"
     ]
    },
    {
     "name": "stdout",
     "output_type": "stream",
     "text": [
      "WARNING:tensorflow:Early stopping conditioned on metric `val_loss` which is not available. Available metrics are: loss,mean_squared_error\n"
     ]
    },
    {
     "name": "stdout",
     "output_type": "stream",
     "text": [
      "WARNING:tensorflow:Early stopping conditioned on metric `val_loss` which is not available. Available metrics are: loss,mean_squared_error\n"
     ]
    },
    {
     "name": "stdout",
     "output_type": "stream",
     "text": [
      "WARNING:tensorflow:Early stopping conditioned on metric `val_loss` which is not available. Available metrics are: loss,mean_squared_error\n"
     ]
    },
    {
     "name": "stdout",
     "output_type": "stream",
     "text": [
      "WARNING:tensorflow:Early stopping conditioned on metric `val_loss` which is not available. Available metrics are: loss,mean_squared_error\n"
     ]
    },
    {
     "name": "stdout",
     "output_type": "stream",
     "text": [
      "WARNING:tensorflow:Early stopping conditioned on metric `val_loss` which is not available. Available metrics are: loss,mean_squared_error\n"
     ]
    },
    {
     "name": "stdout",
     "output_type": "stream",
     "text": [
      "WARNING:tensorflow:Early stopping conditioned on metric `val_loss` which is not available. Available metrics are: loss,mean_squared_error\n"
     ]
    },
    {
     "name": "stdout",
     "output_type": "stream",
     "text": [
      "WARNING:tensorflow:Early stopping conditioned on metric `val_loss` which is not available. Available metrics are: loss,mean_squared_error\n"
     ]
    },
    {
     "name": "stdout",
     "output_type": "stream",
     "text": [
      "WARNING:tensorflow:Early stopping conditioned on metric `val_loss` which is not available. Available metrics are: loss,mean_squared_error\n"
     ]
    },
    {
     "name": "stdout",
     "output_type": "stream",
     "text": [
      "WARNING:tensorflow:Early stopping conditioned on metric `val_loss` which is not available. Available metrics are: loss,mean_squared_error\n"
     ]
    },
    {
     "name": "stdout",
     "output_type": "stream",
     "text": [
      "WARNING:tensorflow:Early stopping conditioned on metric `val_loss` which is not available. Available metrics are: loss,mean_squared_error\n"
     ]
    },
    {
     "name": "stdout",
     "output_type": "stream",
     "text": [
      "WARNING:tensorflow:Early stopping conditioned on metric `val_loss` which is not available. Available metrics are: loss,mean_squared_error\n"
     ]
    },
    {
     "name": "stdout",
     "output_type": "stream",
     "text": [
      "WARNING:tensorflow:Early stopping conditioned on metric `val_loss` which is not available. Available metrics are: loss,mean_squared_error\n"
     ]
    },
    {
     "name": "stdout",
     "output_type": "stream",
     "text": [
      "WARNING:tensorflow:Early stopping conditioned on metric `val_loss` which is not available. Available metrics are: loss,mean_squared_error\n"
     ]
    },
    {
     "name": "stdout",
     "output_type": "stream",
     "text": [
      "WARNING:tensorflow:Early stopping conditioned on metric `val_loss` which is not available. Available metrics are: loss,mean_squared_error\n"
     ]
    },
    {
     "name": "stdout",
     "output_type": "stream",
     "text": [
      "CPU times: user 8h 49min 48s, sys: 2h 53min 6s, total: 11h 42min 54s\n",
      "Wall time: 3h 32min 58s\n"
     ]
    }
   ],
   "source": [
    "%%time\n",
    "# define the search\n",
    "search = ak.StructuredDataRegressor(loss='mean_absolute_error', \n",
    "                                    project_name=f'sdr_{expr_name}',\n",
    "                                    column_names=features_train.columns.to_list(),\n",
    "                                    overwrite=overwrite_model,\n",
    "                                    seed=42)\n",
    "# perform the search\n",
    "search.fit(x=features_train, y=targets_train, verbose=0, callbacks=[tensorboard_callback])"
   ]
  },
  {
   "cell_type": "code",
   "execution_count": 15,
   "metadata": {
    "execution": {
     "iopub.execute_input": "2020-09-22T09:45:11.382341Z",
     "iopub.status.busy": "2020-09-22T09:45:11.381231Z",
     "iopub.status.idle": "2020-09-22T09:45:16.736042Z",
     "shell.execute_reply": "2020-09-22T09:45:16.736382Z"
    },
    "papermill": {
     "duration": 5.661752,
     "end_time": "2020-09-22T09:45:16.736528",
     "exception": false,
     "start_time": "2020-09-22T09:45:11.074776",
     "status": "completed"
    },
    "tags": []
   },
   "outputs": [
    {
     "name": "stdout",
     "output_type": "stream",
     "text": [
      "MAE: 1.812\n",
      "MSE: 8.528\n"
     ]
    }
   ],
   "source": [
    "# evaluate the model\n",
    "mae, mse = search.evaluate(features_test, targets_test, verbose=0)\n",
    "print('MAE: %.3f' % mae)\n",
    "print('MSE: %.3f' % mse)"
   ]
  },
  {
   "cell_type": "code",
   "execution_count": 16,
   "metadata": {
    "execution": {
     "iopub.execute_input": "2020-09-22T09:45:16.820580Z",
     "iopub.status.busy": "2020-09-22T09:45:16.820118Z",
     "iopub.status.idle": "2020-09-22T09:45:18.151507Z",
     "shell.execute_reply": "2020-09-22T09:45:18.151848Z"
    },
    "papermill": {
     "duration": 1.375113,
     "end_time": "2020-09-22T09:45:18.151992",
     "exception": false,
     "start_time": "2020-09-22T09:45:16.776879",
     "status": "completed"
    },
    "tags": []
   },
   "outputs": [
    {
     "name": "stdout",
     "output_type": "stream",
     "text": [
      "WARNING:tensorflow:Unresolved object in checkpoint: (root).optimizer.iter\n"
     ]
    },
    {
     "name": "stdout",
     "output_type": "stream",
     "text": [
      "WARNING:tensorflow:Unresolved object in checkpoint: (root).optimizer.beta_1\n"
     ]
    },
    {
     "name": "stdout",
     "output_type": "stream",
     "text": [
      "WARNING:tensorflow:Unresolved object in checkpoint: (root).optimizer.beta_2\n"
     ]
    },
    {
     "name": "stdout",
     "output_type": "stream",
     "text": [
      "WARNING:tensorflow:Unresolved object in checkpoint: (root).optimizer.decay\n"
     ]
    },
    {
     "name": "stdout",
     "output_type": "stream",
     "text": [
      "WARNING:tensorflow:Unresolved object in checkpoint: (root).optimizer.learning_rate\n"
     ]
    },
    {
     "name": "stdout",
     "output_type": "stream",
     "text": [
      "WARNING:tensorflow:A checkpoint was restored (e.g. tf.train.Checkpoint.restore or tf.keras.Model.load_weights) but not all checkpointed values were used. See above for specific issues. Use expect_partial() on the load status object, e.g. tf.train.Checkpoint.restore(...).expect_partial(), to silence these warnings, or use assert_consumed() to make the check explicit. See https://www.tensorflow.org/guide/checkpoint#loading_mechanics for details.\n"
     ]
    },
    {
     "name": "stdout",
     "output_type": "stream",
     "text": [
      "Model: \"functional_1\"\n",
      "_________________________________________________________________\n",
      "Layer (type)                 Output Shape              Param #   \n",
      "=================================================================\n",
      "input_1 (InputLayer)         [(None, 620)]             0         \n",
      "_________________________________________________________________\n",
      "multi_category_encoding (Mul (None, 620)               0         \n",
      "_________________________________________________________________\n",
      "normalization (Normalization (None, 620)               1241      \n",
      "_________________________________________________________________\n",
      "dense (Dense)                (None, 32)                19872     \n",
      "_________________________________________________________________\n",
      "batch_normalization (BatchNo (None, 32)                128       \n",
      "_________________________________________________________________\n",
      "re_lu (ReLU)                 (None, 32)                0         \n",
      "_________________________________________________________________\n",
      "dropout (Dropout)            (None, 32)                0         \n",
      "_________________________________________________________________\n",
      "regression_head_1 (Dense)    (None, 5)                 165       \n",
      "=================================================================\n",
      "Total params: 21,406\n",
      "Trainable params: 20,101\n",
      "Non-trainable params: 1,305\n",
      "_________________________________________________________________\n"
     ]
    }
   ],
   "source": [
    "# get the best performing model\n",
    "model = search.export_model()\n",
    "# summarize the loaded model\n",
    "model.summary()"
   ]
  },
  {
   "cell_type": "code",
   "execution_count": 17,
   "metadata": {
    "execution": {
     "iopub.execute_input": "2020-09-22T09:45:18.250938Z",
     "iopub.status.busy": "2020-09-22T09:45:18.250527Z",
     "iopub.status.idle": "2020-09-22T09:45:18.274188Z",
     "shell.execute_reply": "2020-09-22T09:45:18.273824Z"
    },
    "papermill": {
     "duration": 0.080063,
     "end_time": "2020-09-22T09:45:18.274307",
     "exception": false,
     "start_time": "2020-09-22T09:45:18.194244",
     "status": "completed"
    },
    "tags": []
   },
   "outputs": [],
   "source": [
    "# save the best performing model to file\n",
    "model.save(model_file)"
   ]
  },
  {
   "cell_type": "markdown",
   "metadata": {
    "papermill": {
     "duration": 0.041146,
     "end_time": "2020-09-22T09:45:18.357382",
     "exception": false,
     "start_time": "2020-09-22T09:45:18.316236",
     "status": "completed"
    },
    "tags": []
   },
   "source": [
    "#### see sklearn metrics"
   ]
  },
  {
   "cell_type": "code",
   "execution_count": 18,
   "metadata": {
    "execution": {
     "iopub.execute_input": "2020-09-22T09:45:18.707200Z",
     "iopub.status.busy": "2020-09-22T09:45:18.706683Z",
     "iopub.status.idle": "2020-09-22T09:45:28.653997Z",
     "shell.execute_reply": "2020-09-22T09:45:28.654361Z"
    },
    "papermill": {
     "duration": 10.2566,
     "end_time": "2020-09-22T09:45:28.654507",
     "exception": false,
     "start_time": "2020-09-22T09:45:18.397907",
     "status": "completed"
    },
    "tags": []
   },
   "outputs": [
    {
     "name": "stdout",
     "output_type": "stream",
     "text": [
      "['Basophils', 'Eosinophils', 'Lymphocytes', 'Monocytes', 'Neutrophils']\n"
     ]
    },
    {
     "name": "stdout",
     "output_type": "stream",
     "text": [
      "r2_score, raw_values: [-0.00932023  0.45309989  0.68466154  0.11941134  0.72013222]\n",
      "mean_squared_error, raw_values: [ 0.12224472  1.5499053  18.72929308  2.54691912 19.69016608]\n",
      "mean_squared_error, uniform_average: 8.527705660888472\n",
      "mean_absolute_error, raw_values: [0.24436096 0.91565335 3.3183681  1.22334332 3.35593038]\n",
      "mean_absolute_error, uniform_average: 1.8115312191327124\n"
     ]
    },
    {
     "name": "stdout",
     "output_type": "stream",
     "text": [
      "WARNING:tensorflow:Unresolved object in checkpoint: (root).optimizer.iter\n"
     ]
    },
    {
     "name": "stdout",
     "output_type": "stream",
     "text": [
      "WARNING:tensorflow:Unresolved object in checkpoint: (root).optimizer.beta_1\n"
     ]
    },
    {
     "name": "stdout",
     "output_type": "stream",
     "text": [
      "WARNING:tensorflow:Unresolved object in checkpoint: (root).optimizer.beta_2\n"
     ]
    },
    {
     "name": "stdout",
     "output_type": "stream",
     "text": [
      "WARNING:tensorflow:Unresolved object in checkpoint: (root).optimizer.decay\n"
     ]
    },
    {
     "name": "stdout",
     "output_type": "stream",
     "text": [
      "WARNING:tensorflow:Unresolved object in checkpoint: (root).optimizer.learning_rate\n"
     ]
    },
    {
     "name": "stdout",
     "output_type": "stream",
     "text": [
      "WARNING:tensorflow:A checkpoint was restored (e.g. tf.train.Checkpoint.restore or tf.keras.Model.load_weights) but not all checkpointed values were used. See above for specific issues. Use expect_partial() on the load status object, e.g. tf.train.Checkpoint.restore(...).expect_partial(), to silence these warnings, or use assert_consumed() to make the check explicit. See https://www.tensorflow.org/guide/checkpoint#loading_mechanics for details.\n"
     ]
    },
    {
     "name": "stdout",
     "output_type": "stream",
     "text": [
      "r2_score, raw_values: [-0.05964039  0.52194972  0.76231617  0.19561142  0.79124171]\n",
      "mean_squared_error, raw_values: [ 0.12246723  1.15812981 13.0490242   2.30303588 13.1181992 ]\n",
      "mean_squared_error, uniform_average: 5.950171264275101\n",
      "mean_absolute_error, raw_values: [0.24731234 0.7924484  2.68354951 1.13204533 2.59716247]\n",
      "mean_absolute_error, uniform_average: 1.4905036104802292\n"
     ]
    }
   ],
   "source": [
    "def print_sklearn_reg_metrics(test_actual, test_predicted):\n",
    "    sk_metrics = r2_score(test_actual, test_predicted, multioutput='raw_values')\n",
    "    print(f'r2_score, raw_values: {sk_metrics}')\n",
    "    sk_metrics = mean_squared_error(test_actual, test_predicted, multioutput='raw_values')\n",
    "    print(f'mean_squared_error, raw_values: {sk_metrics}')\n",
    "    sk_metrics = mean_squared_error(test_actual, test_predicted, multioutput='uniform_average')\n",
    "    print(f'mean_squared_error, uniform_average: {sk_metrics}')\n",
    "    sk_metrics = mean_absolute_error(test_actual, test_predicted, multioutput='raw_values')\n",
    "    print(f'mean_absolute_error, raw_values: {sk_metrics}')\n",
    "    sk_metrics = mean_absolute_error(test_actual, test_predicted, multioutput='uniform_average')\n",
    "    print(f'mean_absolute_error, uniform_average: {sk_metrics}')\n",
    "\n",
    "print(cell_types)\n",
    "features_test_predicted = search.predict(features_test)\n",
    "print_sklearn_reg_metrics(targets_test, features_test_predicted)\n",
    "features_train_predicted = search.predict(features_train)\n",
    "print_sklearn_reg_metrics(targets_train, features_train_predicted)"
   ]
  },
  {
   "cell_type": "markdown",
   "metadata": {
    "papermill": {
     "duration": 0.04375,
     "end_time": "2020-09-22T09:45:28.745175",
     "exception": false,
     "start_time": "2020-09-22T09:45:28.701425",
     "status": "completed"
    },
    "tags": []
   },
   "source": [
    "#### check scores with cross fold validation"
   ]
  },
  {
   "cell_type": "code",
   "execution_count": 19,
   "metadata": {
    "execution": {
     "iopub.execute_input": "2020-09-22T09:45:28.834593Z",
     "iopub.status.busy": "2020-09-22T09:45:28.834161Z",
     "iopub.status.idle": "2020-09-22T09:45:28.836141Z",
     "shell.execute_reply": "2020-09-22T09:45:28.835760Z"
    },
    "papermill": {
     "duration": 0.047188,
     "end_time": "2020-09-22T09:45:28.836287",
     "exception": false,
     "start_time": "2020-09-22T09:45:28.789099",
     "status": "completed"
    },
    "tags": []
   },
   "outputs": [],
   "source": [
    "# n_scores = cross_val_score(model, features_train, targets_train, scoring='accuracy', cv=5, n_jobs=max_threads)\n",
    "# print(n_scores)"
   ]
  },
  {
   "cell_type": "markdown",
   "metadata": {
    "papermill": {
     "duration": 0.043141,
     "end_time": "2020-09-22T09:45:28.923210",
     "exception": false,
     "start_time": "2020-09-22T09:45:28.880069",
     "status": "completed"
    },
    "tags": []
   },
   "source": [
    "#### plot the test comparisons"
   ]
  },
  {
   "cell_type": "code",
   "execution_count": 20,
   "metadata": {
    "execution": {
     "iopub.execute_input": "2020-09-22T09:45:29.025123Z",
     "iopub.status.busy": "2020-09-22T09:45:29.015235Z",
     "iopub.status.idle": "2020-09-22T09:45:30.509213Z",
     "shell.execute_reply": "2020-09-22T09:45:30.509671Z"
    },
    "papermill": {
     "duration": 1.543238,
     "end_time": "2020-09-22T09:45:30.509828",
     "exception": false,
     "start_time": "2020-09-22T09:45:28.966590",
     "status": "completed"
    },
    "tags": []
   },
   "outputs": [
    {
     "data": {
      "image/png": "[encoded data removed]",
      "text/plain": [
       "<Figure size 432x288 with 1 Axes>"
      ]
     },
     "metadata": {
      "needs_background": "light"
     },
     "output_type": "display_data"
    },
    {
     "data": {
      "image/png": "[encoded data removed]",
      "text/plain": [
       "<Figure size 432x288 with 1 Axes>"
      ]
     },
     "metadata": {
      "needs_background": "light"
     },
     "output_type": "display_data"
    }
   ],
   "source": [
    "def plot_regressions(cell_types, actual_df, predicted_df, title):\n",
    "    for index, celltype in enumerate(cell_types):\n",
    "        sns.regplot(x=actual_df[celltype], y=predicted_df[:,index])\n",
    "    plt.xlabel('Actual cell %')\n",
    "    plt.ylabel('Predicted cell %')\n",
    "    plt.title(f'Actual vs Predicted: {title}')\n",
    "    plt.legend(cell_types, bbox_to_anchor=(1, 1))\n",
    "    plt.show()\n",
    "    \n",
    "plot_regressions(cell_types, targets_test, features_test_predicted, 'test data')\n",
    "plot_regressions(cell_types, targets_train, features_train_predicted, 'train data')"
   ]
  },
  {
   "cell_type": "markdown",
   "metadata": {
    "papermill": {
     "duration": 0.046201,
     "end_time": "2020-09-22T09:45:30.602147",
     "exception": false,
     "start_time": "2020-09-22T09:45:30.555946",
     "status": "completed"
    },
    "tags": []
   },
   "source": [
    "#### plot the model"
   ]
  },
  {
   "cell_type": "code",
   "execution_count": 21,
   "metadata": {
    "execution": {
     "iopub.execute_input": "2020-09-22T09:45:30.697038Z",
     "iopub.status.busy": "2020-09-22T09:45:30.696604Z",
     "iopub.status.idle": "2020-09-22T09:45:30.814898Z",
     "shell.execute_reply": "2020-09-22T09:45:30.814520Z"
    },
    "papermill": {
     "duration": 0.167026,
     "end_time": "2020-09-22T09:45:30.815010",
     "exception": false,
     "start_time": "2020-09-22T09:45:30.647984",
     "status": "completed"
    },
    "tags": []
   },
   "outputs": [
    {
     "data": {
      "image/png": "[encoded data removed]",
      "text/plain": [
       "<IPython.core.display.Image object>"
      ]
     },
     "execution_count": 21,
     "metadata": {},
     "output_type": "execute_result"
    }
   ],
   "source": [
    "import keras\n",
    "keras.utils.plot_model(model, f'{expr_name}_model_with_shape_info.png', show_shapes=True)\n"
   ]
  },
  {
   "cell_type": "markdown",
   "metadata": {
    "papermill": {
     "duration": 0.04631,
     "end_time": "2020-09-22T09:45:30.908627",
     "exception": false,
     "start_time": "2020-09-22T09:45:30.862317",
     "status": "completed"
    },
    "tags": []
   },
   "source": [
    "#### now predict fractions for samples that don't have them"
   ]
  },
  {
   "cell_type": "code",
   "execution_count": 22,
   "metadata": {
    "execution": {
     "iopub.execute_input": "2020-09-22T09:45:31.009876Z",
     "iopub.status.busy": "2020-09-22T09:45:31.004951Z",
     "iopub.status.idle": "2020-09-22T09:45:31.012106Z",
     "shell.execute_reply": "2020-09-22T09:45:31.012434Z"
    },
    "papermill": {
     "duration": 0.057807,
     "end_time": "2020-09-22T09:45:31.012553",
     "exception": false,
     "start_time": "2020-09-22T09:45:30.954746",
     "status": "completed"
    },
    "tags": []
   },
   "outputs": [
    {
     "name": "stdout",
     "output_type": "stream",
     "text": [
      "(2806, 620)\n"
     ]
    }
   ],
   "source": [
    "missing_fracs_expr_df = expr_df.loc[~expr_df.index.isin(data_df.index)]\n",
    "print(missing_fracs_expr_df.shape)"
   ]
  },
  {
   "cell_type": "code",
   "execution_count": 23,
   "metadata": {
    "execution": {
     "iopub.execute_input": "2020-09-22T09:45:32.471182Z",
     "iopub.status.busy": "2020-09-22T09:45:32.470696Z",
     "iopub.status.idle": "2020-09-22T09:45:39.874550Z",
     "shell.execute_reply": "2020-09-22T09:45:39.874111Z"
    },
    "papermill": {
     "duration": 8.815736,
     "end_time": "2020-09-22T09:45:39.874669",
     "exception": false,
     "start_time": "2020-09-22T09:45:31.058933",
     "status": "completed"
    },
    "tags": []
   },
   "outputs": [
    {
     "name": "stdout",
     "output_type": "stream",
     "text": [
      "WARNING:tensorflow:Unresolved object in checkpoint: (root).optimizer.iter\n"
     ]
    },
    {
     "name": "stdout",
     "output_type": "stream",
     "text": [
      "WARNING:tensorflow:Unresolved object in checkpoint: (root).optimizer.beta_1\n"
     ]
    },
    {
     "name": "stdout",
     "output_type": "stream",
     "text": [
      "WARNING:tensorflow:Unresolved object in checkpoint: (root).optimizer.beta_2\n"
     ]
    },
    {
     "name": "stdout",
     "output_type": "stream",
     "text": [
      "WARNING:tensorflow:Unresolved object in checkpoint: (root).optimizer.decay\n"
     ]
    },
    {
     "name": "stdout",
     "output_type": "stream",
     "text": [
      "WARNING:tensorflow:Unresolved object in checkpoint: (root).optimizer.learning_rate\n"
     ]
    },
    {
     "name": "stdout",
     "output_type": "stream",
     "text": [
      "WARNING:tensorflow:A checkpoint was restored (e.g. tf.train.Checkpoint.restore or tf.keras.Model.load_weights) but not all checkpointed values were used. See above for specific issues. Use expect_partial() on the load status object, e.g. tf.train.Checkpoint.restore(...).expect_partial(), to silence these warnings, or use assert_consumed() to make the check explicit. See https://www.tensorflow.org/guide/checkpoint#loading_mechanics for details.\n"
     ]
    }
   ],
   "source": [
    "missing_predicted = search.predict(missing_fracs_expr_df)"
   ]
  },
  {
   "cell_type": "code",
   "execution_count": 24,
   "metadata": {
    "execution": {
     "iopub.execute_input": "2020-09-22T09:45:39.974660Z",
     "iopub.status.busy": "2020-09-22T09:45:39.974209Z",
     "iopub.status.idle": "2020-09-22T09:45:39.991336Z",
     "shell.execute_reply": "2020-09-22T09:45:39.990872Z"
    },
    "papermill": {
     "duration": 0.06861,
     "end_time": "2020-09-22T09:45:39.991437",
     "exception": false,
     "start_time": "2020-09-22T09:45:39.922827",
     "status": "completed"
    },
    "tags": []
   },
   "outputs": [],
   "source": [
    "missing_predicted_df = pd.DataFrame(data=missing_predicted, columns=cell_types, \n",
    "                                 index=missing_fracs_expr_df.index)\n",
    "missing_predicted_df.index.name = 'rnaid'\n",
    "missing_predicted_df.to_csv(predicted_fractions_for_missing_file)"
   ]
  },
  {
   "cell_type": "code",
   "execution_count": 25,
   "metadata": {
    "execution": {
     "iopub.execute_input": "2020-09-22T09:45:40.092303Z",
     "iopub.status.busy": "2020-09-22T09:45:40.091814Z",
     "iopub.status.idle": "2020-09-22T09:45:40.094157Z",
     "shell.execute_reply": "2020-09-22T09:45:40.094481Z"
    },
    "papermill": {
     "duration": 0.054346,
     "end_time": "2020-09-22T09:45:40.094596",
     "exception": false,
     "start_time": "2020-09-22T09:45:40.040250",
     "status": "completed"
    },
    "tags": []
   },
   "outputs": [
    {
     "data": {
      "text/plain": [
       "Basophils       0.564057\n",
       "Eosinophils     2.381651\n",
       "Lymphocytes    26.132412\n",
       "Monocytes       6.553295\n",
       "Neutrophils    64.036064\n",
       "dtype: float32"
      ]
     },
     "execution_count": 25,
     "metadata": {},
     "output_type": "execute_result"
    }
   ],
   "source": [
    "missing_predicted_df.mean(axis=0)"
   ]
  },
  {
   "cell_type": "code",
   "execution_count": 26,
   "metadata": {
    "execution": {
     "iopub.execute_input": "2020-09-22T09:45:40.195783Z",
     "iopub.status.busy": "2020-09-22T09:45:40.195291Z",
     "iopub.status.idle": "2020-09-22T09:45:40.197979Z",
     "shell.execute_reply": "2020-09-22T09:45:40.197551Z"
    },
    "papermill": {
     "duration": 0.055617,
     "end_time": "2020-09-22T09:45:40.198072",
     "exception": false,
     "start_time": "2020-09-22T09:45:40.142455",
     "status": "completed"
    },
    "tags": []
   },
   "outputs": [
    {
     "data": {
      "text/plain": [
       "Basophils       0.649604\n",
       "Eosinophils     2.432647\n",
       "Lymphocytes    28.087005\n",
       "Monocytes       6.401268\n",
       "Neutrophils    62.429081\n",
       "dtype: float64"
      ]
     },
     "execution_count": 26,
     "metadata": {},
     "output_type": "execute_result"
    }
   ],
   "source": [
    "targets_train.mean(axis=0)"
   ]
  },
  {
   "cell_type": "code",
   "execution_count": 27,
   "metadata": {
    "execution": {
     "iopub.execute_input": "2020-09-22T09:45:40.312088Z",
     "iopub.status.busy": "2020-09-22T09:45:40.310529Z",
     "iopub.status.idle": "2020-09-22T09:45:41.124891Z",
     "shell.execute_reply": "2020-09-22T09:45:41.125258Z"
    },
    "papermill": {
     "duration": 0.878593,
     "end_time": "2020-09-22T09:45:41.125430",
     "exception": false,
     "start_time": "2020-09-22T09:45:40.246837",
     "status": "completed"
    },
    "tags": []
   },
   "outputs": [
    {
     "data": {
      "image/png": "[encoded data removed]",
      "text/plain": [
       "<Figure size 432x288 with 1 Axes>"
      ]
     },
     "metadata": {
      "needs_background": "light"
     },
     "output_type": "display_data"
    },
    {
     "data": {
      "image/png": "[encoded data removed]",
      "text/plain": [
       "<Figure size 432x288 with 1 Axes>"
      ]
     },
     "metadata": {
      "needs_background": "light"
     },
     "output_type": "display_data"
    },
    {
     "data": {
      "image/png": "[encoded data removed]",
      "text/plain": [
       "<Figure size 432x288 with 1 Axes>"
      ]
     },
     "metadata": {
      "needs_background": "light"
     },
     "output_type": "display_data"
    },
    {
     "data": {
      "image/png": "[encoded data removed]",
      "text/plain": [
       "<Figure size 432x288 with 1 Axes>"
      ]
     },
     "metadata": {
      "needs_background": "light"
     },
     "output_type": "display_data"
    },
    {
     "data": {
      "image/png": "[encoded data removed]",
      "text/plain": [
       "<Figure size 432x288 with 1 Axes>"
      ]
     },
     "metadata": {
      "needs_background": "light"
     },
     "output_type": "display_data"
    }
   ],
   "source": [
    "def plot_densities(cell_types, known_df, predicted_df):\n",
    "    for index, celltype in enumerate(cell_types):\n",
    "        sns.distplot(known_df[celltype], rug=True, hist=False)\n",
    "        sns.distplot(predicted_df[celltype], rug=True, hist=False)\n",
    "        plt.xlabel('Known')\n",
    "        plt.ylabel('Predicted')\n",
    "        plt.title(f'Known vs Predicted: {celltype}')\n",
    "        plt.legend(['known', 'predicted'], bbox_to_anchor=(1, 1))\n",
    "        plt.show()\n",
    "    \n",
    "plot_densities(cell_types, targets_train, missing_predicted_df)"
   ]
  },
  {
   "cell_type": "code",
   "execution_count": null,
   "metadata": {
    "papermill": {
     "duration": 0.051583,
     "end_time": "2020-09-22T09:45:41.229690",
     "exception": false,
     "start_time": "2020-09-22T09:45:41.178107",
     "status": "completed"
    },
    "tags": []
   },
   "outputs": [],
   "source": []
  }
 ],
 "metadata": {
  "environment": {
   "name": "tf2-2-3-gpu.2-3.m55",
   "type": "gcloud",
   "uri": "gcr.io/deeplearning-platform-release/tf2-2-3-gpu.2-3:m55"
  },
  "kernelspec": {
   "display_name": "Python 3",
   "language": "python",
   "name": "python3"
  },
  "language_info": {
   "codemirror_mode": {
    "name": "ipython",
    "version": 3
   },
   "file_extension": ".py",
   "mimetype": "text/x-python",
   "name": "python",
   "nbconvert_exporter": "python",
   "pygments_lexer": "ipython3",
   "version": "3.7.8"
  },
  "papermill": {
   "duration": 12831.730539,
   "end_time": "2020-09-22T09:45:43.355337",
   "environment_variables": {},
   "exception": null,
   "input_path": "dl_cell_fractions_from_expression.ipynb",
   "output_path": "pm_gend_nbs/dl_enriched_cell_fractions_from_expression.ipynb",
   "parameters": {
    "add_random": true,
    "cohort": "ppmi",
    "expr_name": "enriched",
    "overwrite_model": true
   },
   "start_time": "2020-09-22T06:11:51.624798",
   "version": "2.1.2"
  }
 },
 "nbformat": 4,
 "nbformat_minor": 4
}