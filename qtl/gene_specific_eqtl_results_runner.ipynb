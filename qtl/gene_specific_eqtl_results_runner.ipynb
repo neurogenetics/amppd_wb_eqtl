{
 "cells": [
  {
   "cell_type": "markdown",
   "metadata": {},
   "source": [
    "## Notebook to runner for AMP-PD cohort and visit eQTL result for a specific gene prep via papermill"
   ]
  },
  {
   "cell_type": "code",
   "execution_count": 1,
   "metadata": {},
   "outputs": [
    {
     "name": "stdout",
     "output_type": "stream",
     "text": [
      "Tue Jul 27 20:28:40 UTC 2021\n"
     ]
    }
   ],
   "source": [
    "!date"
   ]
  },
  {
   "cell_type": "markdown",
   "metadata": {},
   "source": [
    "#### import libraries"
   ]
  },
  {
   "cell_type": "code",
   "execution_count": 2,
   "metadata": {},
   "outputs": [
    {
     "name": "stderr",
     "output_type": "stream",
     "text": [
      "/opt/conda/lib/python3.7/site-packages/papermill/iorw.py:50: FutureWarning: pyarrow.HadoopFileSystem is deprecated as of 2.0.0, please use pyarrow.fs.HadoopFileSystem instead.\n",
      "  from pyarrow import HadoopFileSystem\n"
     ]
    }
   ],
   "source": [
    "import pandas as pd\n",
    "import os\n",
    "import papermill as pm"
   ]
  },
  {
   "cell_type": "code",
   "execution_count": 3,
   "metadata": {},
   "outputs": [],
   "source": [
    "# base notebook to be run per tuple iteration\n",
    "base_notebook = '/home/jupyter/notebooks/gene_specific_eqtl_results.ipynb'\n",
    "\n",
    "# setup iteration tuples\n",
    "cohort_names = ['biofind', 'pdbp', 'ppmi']\n",
    "version = 'amppdv1'\n",
    "tissue = 'wb'\n",
    "months = [0, 1, 6 , 12, 18, 24, 36]\n",
    "quant_type = 'genes'\n",
    "genes = ['RAB29', 'MAL', 'ZNF514', 'LINC01127', 'STK39', 'ZNF589', 'NME6', \n",
    "         'ARIH2', 'WDR6', 'IQCB1', 'KPNA1', 'P2RY14', 'AC092953.1', 'DGKQ', \n",
    "         'IDUA', 'DCAF16', 'LCORL', 'ERCC8', 'NDUFAF2', 'PAM', 'GIN1', \n",
    "         'PPIP5K2', 'ZSCAN16-AS1', 'HLA-A', 'KLHL7-DT', 'KLHL7', 'AK3P3', \n",
    "         'NUPL2', 'LINC00174', 'AC027644.3', 'STAG3L4', 'NEIL2', 'FDFT1', \n",
    "         'CTSB', 'AC145124.1', 'AC037459.3', 'AC009464.1', 'HCAR3', 'SLC25A21',\n",
    "         'GPR65', 'SGF29', 'SULT1A1', 'TUFM', 'RABEP2', 'SPNS1', 'C16orf54', \n",
    "         'STX4', 'AC135050.3', 'AC135050.6', 'NOD2', 'AC007728.3', 'CHRNB1', \n",
    "         'AC016876.1', 'LRRC37A4P', 'AC091132.3', 'AC091132.4', 'RDM1P1', \n",
    "         'LINC02210', 'KANSL1', 'KANSL1-AS1', 'ARL17B', 'LRRC37A', 'LRRC37A2', \n",
    "         'ARL17A', 'NSF', 'AC005670.2']\n",
    "# genes = ['LRRK2']"
   ]
  },
  {
   "cell_type": "markdown",
   "metadata": {},
   "source": [
    "#### iterate over the tuples running the notebook per tuple"
   ]
  },
  {
   "cell_type": "code",
   "execution_count": 4,
   "metadata": {},
   "outputs": [
    {
     "name": "stdout",
     "output_type": "stream",
     "text": [
      "{'cohort': 'biofind', 'gene': 'LRRK2', 'tissue': 'wb', 'visits': [1]}\n",
      "/home/jupyter/notebooks/biofind/pm_gend_nbs/biofind.wb.LRRK2.specific_eqtl_results.ipynb\n"
     ]
    },
    {
     "data": {
      "application/vnd.jupyter.widget-view+json": {
       "model_id": "1db044ea5c994c8997fdc34d4e99965c",
       "version_major": 2,
       "version_minor": 0
      },
      "text/plain": [
       "Executing:   0%|          | 0/35 [00:00<?, ?cell/s]"
      ]
     },
     "metadata": {},
     "output_type": "display_data"
    },
    {
     "name": "stdout",
     "output_type": "stream",
     "text": [
      "{'cohort': 'pdbp', 'gene': 'LRRK2', 'tissue': 'wb', 'visits': [0, 6, 12, 18, 24]}\n",
      "/home/jupyter/notebooks/pdbp/pm_gend_nbs/pdbp.wb.LRRK2.specific_eqtl_results.ipynb\n"
     ]
    },
    {
     "data": {
      "application/vnd.jupyter.widget-view+json": {
       "model_id": "ced300c9a2914e538e79cfca303214f8",
       "version_major": 2,
       "version_minor": 0
      },
      "text/plain": [
       "Executing:   0%|          | 0/35 [00:00<?, ?cell/s]"
      ]
     },
     "metadata": {},
     "output_type": "display_data"
    },
    {
     "name": "stdout",
     "output_type": "stream",
     "text": [
      "{'cohort': 'ppmi', 'gene': 'LRRK2', 'tissue': 'wb', 'visits': [0, 6, 12, 24, 36]}\n",
      "/home/jupyter/notebooks/ppmi/pm_gend_nbs/ppmi.wb.LRRK2.specific_eqtl_results.ipynb\n"
     ]
    },
    {
     "data": {
      "application/vnd.jupyter.widget-view+json": {
       "model_id": "1207e0e38b5a432a93491fbf4bee9418",
       "version_major": 2,
       "version_minor": 0
      },
      "text/plain": [
       "Executing:   0%|          | 0/35 [00:00<?, ?cell/s]"
      ]
     },
     "metadata": {},
     "output_type": "display_data"
    },
    {
     "name": "stdout",
     "output_type": "stream",
     "text": [
      "CPU times: user 7.52 s, sys: 410 ms, total: 7.93 s\n",
      "Wall time: 4min 23s\n"
     ]
    }
   ],
   "source": [
    "%%time\n",
    "\n",
    "for cohort in cohort_names:\n",
    "    out_nb_dir = f'/home/jupyter/notebooks/{cohort}/pm_gend_nbs'\n",
    "    # make sure the notebook output dir exists\n",
    "    os.makedirs(out_nb_dir, exist_ok=True)\n",
    "    wrk_dir = f'/home/jupyter/{cohort}'\n",
    "    for gene in genes:\n",
    "        visits = []\n",
    "        for month in months:\n",
    "            # before running prep notebook make results exist for the cohort and visit\n",
    "            results_file = f'{wrk_dir}/results/{cohort}.{tissue}{month}.cis.indep.csv'\n",
    "            if os.path.isfile(results_file):\n",
    "                visits.append(month)\n",
    "\n",
    "        if len(visits) > 0:\n",
    "            param_dict = {'cohort': cohort, 'gene': gene, \n",
    "                          'tissue': tissue, 'visits': visits}\n",
    "            out_notebook = f'{out_nb_dir}/{cohort}.{tissue}.{gene}.specific_eqtl_results.ipynb'\n",
    "            print(param_dict)\n",
    "            print(out_notebook)\n",
    "            try:\n",
    "                pm.execute_notebook(input_path=base_notebook, output_path=out_notebook, \n",
    "                                    parameters=param_dict)\n",
    "            except:\n",
    "                print(f'{cohort}.{tissue}.{gene} encountered an error continuing on next')                "
   ]
  },
  {
   "cell_type": "code",
   "execution_count": null,
   "metadata": {},
   "outputs": [],
   "source": []
  }
 ],
 "metadata": {
  "environment": {
   "name": "pytorch-gpu.1-8.m73",
   "type": "gcloud",
   "uri": "gcr.io/deeplearning-platform-release/pytorch-gpu.1-8:m73"
  },
  "kernelspec": {
   "display_name": "Python 3",
   "language": "python",
   "name": "python3"
  },
  "language_info": {
   "codemirror_mode": {
    "name": "ipython",
    "version": 3
   },
   "file_extension": ".py",
   "mimetype": "text/x-python",
   "name": "python",
   "nbconvert_exporter": "python",
   "pygments_lexer": "ipython3",
   "version": "3.7.10"
  }
 },
 "nbformat": 4,
 "nbformat_minor": 4
}
