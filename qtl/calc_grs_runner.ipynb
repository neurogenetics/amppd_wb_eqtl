{
 "cells": [
  {
   "cell_type": "markdown",
   "metadata": {},
   "source": [
    "## Notebook to runner to calculate PD GRS per cohort via papermill\n",
    "based on meta5 PD risk"
   ]
  },
  {
   "cell_type": "code",
   "execution_count": 1,
   "metadata": {},
   "outputs": [
    {
     "name": "stdout",
     "output_type": "stream",
     "text": [
      "Mon May  3 02:41:19 UTC 2021\n"
     ]
    }
   ],
   "source": [
    "!date"
   ]
  },
  {
   "cell_type": "markdown",
   "metadata": {},
   "source": [
    "#### import libraries"
   ]
  },
  {
   "cell_type": "code",
   "execution_count": 2,
   "metadata": {},
   "outputs": [],
   "source": [
    "import pandas as pd\n",
    "import os\n",
    "import papermill as pm"
   ]
  },
  {
   "cell_type": "code",
   "execution_count": 3,
   "metadata": {},
   "outputs": [],
   "source": [
    "# base notebook to be run per tuple iteration\n",
    "base_notebook = '/home/jupyter/notebooks/calculate_grs.ipynb'\n",
    "\n",
    "# setup iteration tuples\n",
    "cohorts = ['biofind', 'pdbp', 'ppmi']\n",
    "version = 'amppdv1'"
   ]
  },
  {
   "cell_type": "markdown",
   "metadata": {},
   "source": [
    "#### iterate over the tuples running the notebook per tuple"
   ]
  },
  {
   "cell_type": "code",
   "execution_count": 4,
   "metadata": {},
   "outputs": [
    {
     "name": "stdout",
     "output_type": "stream",
     "text": [
      "{'cohort': 'biofind', 'version': 'amppdv1'}\n",
      "/home/jupyter/notebooks/biofind/pm_gend_nbs/biofind_calculate_grs.ipynb\n"
     ]
    },
    {
     "data": {
      "application/vnd.jupyter.widget-view+json": {
       "model_id": "b6f54030b698410fac5ef43543183440",
       "version_major": 2,
       "version_minor": 0
      },
      "text/plain": [
       "Executing:   0%|          | 0/38 [00:00<?, ?cell/s]"
      ]
     },
     "metadata": {},
     "output_type": "display_data"
    },
    {
     "name": "stdout",
     "output_type": "stream",
     "text": [
      "{'cohort': 'pdbp', 'version': 'amppdv1'}\n",
      "/home/jupyter/notebooks/pdbp/pm_gend_nbs/pdbp_calculate_grs.ipynb\n"
     ]
    },
    {
     "data": {
      "application/vnd.jupyter.widget-view+json": {
       "model_id": "3cb6b67905004d0abe6071e3ad769efb",
       "version_major": 2,
       "version_minor": 0
      },
      "text/plain": [
       "Executing:   0%|          | 0/38 [00:00<?, ?cell/s]"
      ]
     },
     "metadata": {},
     "output_type": "display_data"
    },
    {
     "name": "stdout",
     "output_type": "stream",
     "text": [
      "{'cohort': 'ppmi', 'version': 'amppdv1'}\n",
      "/home/jupyter/notebooks/ppmi/pm_gend_nbs/ppmi_calculate_grs.ipynb\n"
     ]
    },
    {
     "data": {
      "application/vnd.jupyter.widget-view+json": {
       "model_id": "67bbceb85de74540997f5f15ffcfea89",
       "version_major": 2,
       "version_minor": 0
      },
      "text/plain": [
       "Executing:   0%|          | 0/38 [00:00<?, ?cell/s]"
      ]
     },
     "metadata": {},
     "output_type": "display_data"
    },
    {
     "name": "stdout",
     "output_type": "stream",
     "text": [
      "CPU times: user 5.87 s, sys: 385 ms, total: 6.26 s\n",
      "Wall time: 20min 13s\n"
     ]
    }
   ],
   "source": [
    "%%time\n",
    "\n",
    "for cohort in cohorts:\n",
    "    out_nb_dir = f'/home/jupyter/notebooks/{cohort}/pm_gend_nbs'\n",
    "    # make sure the notebook output dir exists\n",
    "    os.makedirs(out_nb_dir, exist_ok=True)\n",
    "    wrk_dir = f'/home/jupyter/{cohort}'\n",
    "    param_dict = {'cohort': cohort, 'version': version, }\n",
    "    out_notebook = f'{out_nb_dir}/{cohort}_calculate_grs.ipynb'\n",
    "    print(param_dict)\n",
    "    print(out_notebook)\n",
    "    pm.execute_notebook(input_path=base_notebook, output_path=out_notebook, \n",
    "                        parameters=param_dict)"
   ]
  },
  {
   "cell_type": "code",
   "execution_count": null,
   "metadata": {},
   "outputs": [],
   "source": []
  }
 ],
 "metadata": {
  "environment": {
   "name": "pytorch-gpu.1-8.m65",
   "type": "gcloud",
   "uri": "gcr.io/deeplearning-platform-release/pytorch-gpu.1-8:m65"
  },
  "kernelspec": {
   "display_name": "Python 3",
   "language": "python",
   "name": "python3"
  },
  "language_info": {
   "codemirror_mode": {
    "name": "ipython",
    "version": 3
   },
   "file_extension": ".py",
   "mimetype": "text/x-python",
   "name": "python",
   "nbconvert_exporter": "python",
   "pygments_lexer": "ipython3",
   "version": "3.7.10"
  }
 },
 "nbformat": 4,
 "nbformat_minor": 4
}
