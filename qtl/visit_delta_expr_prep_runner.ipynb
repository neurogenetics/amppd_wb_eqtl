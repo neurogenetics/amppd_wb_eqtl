{
 "cells": [
  {
   "cell_type": "markdown",
   "metadata": {},
   "source": [
    "## Notebook to runner for AMP-PD tissue and visit difference in expression between visits prep via papermill"
   ]
  },
  {
   "cell_type": "markdown",
   "metadata": {},
   "source": [
    "#### import libraries"
   ]
  },
  {
   "cell_type": "code",
   "execution_count": 1,
   "metadata": {},
   "outputs": [],
   "source": [
    "import pandas as pd\n",
    "import os\n",
    "import papermill as pm"
   ]
  },
  {
   "cell_type": "code",
   "execution_count": 2,
   "metadata": {},
   "outputs": [],
   "source": [
    "# base notebook to be run per tuple iteration\n",
    "base_notebook = '/home/jupyter/notebooks/visit_delta_expression_prep.ipynb'\n",
    "\n",
    "# setup iteration tuples\n",
    "cohort_names = ['biofind', 'pdbp', 'ppmi']\n",
    "cohort_abbrvs = ['BF', 'PD', 'PP']\n",
    "version = 'amppdv1'\n",
    "tissue = 'wb'\n",
    "# months = [0, 1, 6 , 12, 18, 24, 36]\n",
    "visits_dict = {0: 'BLM0T1', 1: 'SVM0_5T1', 6: 'SVM6T1', 12: 'SVM12T1', \n",
    "               18: 'SVM18T1', 24: 'SVM24T1', 36: 'SVM36T1'}\n",
    "column_names = ['cohort', 'amp_abbr', 'version', 'tissue', 'visit', 'visit_name']\n",
    "# nb_combo_df = pd.DataFrame(data=X, columns=column_names)\n",
    "quant_type = 'genes'"
   ]
  },
  {
   "cell_type": "markdown",
   "metadata": {},
   "source": [
    "#### iterate over the tuples running the notebook per tuple"
   ]
  },
  {
   "cell_type": "code",
   "execution_count": 3,
   "metadata": {},
   "outputs": [
    {
     "name": "stdout",
     "output_type": "stream",
     "text": [
      "{'cohort': 'pdbp', 'amp_abbr': 'PD', 'version': 'amppdv1', 'tissue': 'wb', 'begin_visit': 0, 'begin_visit_name': 'BLM0T1', 'end_visit': 6, 'end_visit_name': 'SVM6T1'}\n",
      "/home/jupyter/notebooks/pdbp/pm_gend_nbs/pdbp.wb.6-0.delta_expression_prep.ipynb\n"
     ]
    },
    {
     "data": {
      "application/vnd.jupyter.widget-view+json": {
       "model_id": "4c1d77cc740b4356b0b5199ab75dddb0",
       "version_major": 2,
       "version_minor": 0
      },
      "text/plain": [
       "Executing:   0%|          | 0/92 [00:00<?, ?cell/s]"
      ]
     },
     "metadata": {},
     "output_type": "display_data"
    },
    {
     "name": "stdout",
     "output_type": "stream",
     "text": [
      "{'cohort': 'pdbp', 'amp_abbr': 'PD', 'version': 'amppdv1', 'tissue': 'wb', 'begin_visit': 0, 'begin_visit_name': 'BLM0T1', 'end_visit': 12, 'end_visit_name': 'SVM12T1'}\n",
      "/home/jupyter/notebooks/pdbp/pm_gend_nbs/pdbp.wb.12-0.delta_expression_prep.ipynb\n"
     ]
    },
    {
     "data": {
      "application/vnd.jupyter.widget-view+json": {
       "model_id": "733e19f67e00418dbdc867b764541771",
       "version_major": 2,
       "version_minor": 0
      },
      "text/plain": [
       "Executing:   0%|          | 0/92 [00:00<?, ?cell/s]"
      ]
     },
     "metadata": {},
     "output_type": "display_data"
    },
    {
     "name": "stdout",
     "output_type": "stream",
     "text": [
      "{'cohort': 'pdbp', 'amp_abbr': 'PD', 'version': 'amppdv1', 'tissue': 'wb', 'begin_visit': 0, 'begin_visit_name': 'BLM0T1', 'end_visit': 18, 'end_visit_name': 'SVM18T1'}\n",
      "/home/jupyter/notebooks/pdbp/pm_gend_nbs/pdbp.wb.18-0.delta_expression_prep.ipynb\n"
     ]
    },
    {
     "data": {
      "application/vnd.jupyter.widget-view+json": {
       "model_id": "5bcadb87d69a4f16b7468679683ea03e",
       "version_major": 2,
       "version_minor": 0
      },
      "text/plain": [
       "Executing:   0%|          | 0/92 [00:00<?, ?cell/s]"
      ]
     },
     "metadata": {},
     "output_type": "display_data"
    },
    {
     "name": "stdout",
     "output_type": "stream",
     "text": [
      "{'cohort': 'pdbp', 'amp_abbr': 'PD', 'version': 'amppdv1', 'tissue': 'wb', 'begin_visit': 0, 'begin_visit_name': 'BLM0T1', 'end_visit': 24, 'end_visit_name': 'SVM24T1'}\n",
      "/home/jupyter/notebooks/pdbp/pm_gend_nbs/pdbp.wb.24-0.delta_expression_prep.ipynb\n"
     ]
    },
    {
     "data": {
      "application/vnd.jupyter.widget-view+json": {
       "model_id": "aa13d0869724422684a370ae169b8bcd",
       "version_major": 2,
       "version_minor": 0
      },
      "text/plain": [
       "Executing:   0%|          | 0/92 [00:00<?, ?cell/s]"
      ]
     },
     "metadata": {},
     "output_type": "display_data"
    },
    {
     "name": "stdout",
     "output_type": "stream",
     "text": [
      "{'cohort': 'ppmi', 'amp_abbr': 'PP', 'version': 'amppdv1', 'tissue': 'wb', 'begin_visit': 0, 'begin_visit_name': 'BLM0T1', 'end_visit': 6, 'end_visit_name': 'SVM6T1'}\n",
      "/home/jupyter/notebooks/ppmi/pm_gend_nbs/ppmi.wb.6-0.delta_expression_prep.ipynb\n"
     ]
    },
    {
     "data": {
      "application/vnd.jupyter.widget-view+json": {
       "model_id": "01f59729abe24a1eb504b8581139d919",
       "version_major": 2,
       "version_minor": 0
      },
      "text/plain": [
       "Executing:   0%|          | 0/92 [00:00<?, ?cell/s]"
      ]
     },
     "metadata": {},
     "output_type": "display_data"
    },
    {
     "name": "stdout",
     "output_type": "stream",
     "text": [
      "{'cohort': 'ppmi', 'amp_abbr': 'PP', 'version': 'amppdv1', 'tissue': 'wb', 'begin_visit': 0, 'begin_visit_name': 'BLM0T1', 'end_visit': 12, 'end_visit_name': 'SVM12T1'}\n",
      "/home/jupyter/notebooks/ppmi/pm_gend_nbs/ppmi.wb.12-0.delta_expression_prep.ipynb\n"
     ]
    },
    {
     "data": {
      "application/vnd.jupyter.widget-view+json": {
       "model_id": "85273642876f4eab8b82618efe53c2de",
       "version_major": 2,
       "version_minor": 0
      },
      "text/plain": [
       "Executing:   0%|          | 0/92 [00:00<?, ?cell/s]"
      ]
     },
     "metadata": {},
     "output_type": "display_data"
    },
    {
     "name": "stdout",
     "output_type": "stream",
     "text": [
      "{'cohort': 'ppmi', 'amp_abbr': 'PP', 'version': 'amppdv1', 'tissue': 'wb', 'begin_visit': 0, 'begin_visit_name': 'BLM0T1', 'end_visit': 24, 'end_visit_name': 'SVM24T1'}\n",
      "/home/jupyter/notebooks/ppmi/pm_gend_nbs/ppmi.wb.24-0.delta_expression_prep.ipynb\n"
     ]
    },
    {
     "data": {
      "application/vnd.jupyter.widget-view+json": {
       "model_id": "000bb742065f479a8279e339dea93077",
       "version_major": 2,
       "version_minor": 0
      },
      "text/plain": [
       "Executing:   0%|          | 0/92 [00:00<?, ?cell/s]"
      ]
     },
     "metadata": {},
     "output_type": "display_data"
    },
    {
     "name": "stdout",
     "output_type": "stream",
     "text": [
      "{'cohort': 'ppmi', 'amp_abbr': 'PP', 'version': 'amppdv1', 'tissue': 'wb', 'begin_visit': 0, 'begin_visit_name': 'BLM0T1', 'end_visit': 36, 'end_visit_name': 'SVM36T1'}\n",
      "/home/jupyter/notebooks/ppmi/pm_gend_nbs/ppmi.wb.36-0.delta_expression_prep.ipynb\n"
     ]
    },
    {
     "data": {
      "application/vnd.jupyter.widget-view+json": {
       "model_id": "560630a820fa44df92d431aab2d9689b",
       "version_major": 2,
       "version_minor": 0
      },
      "text/plain": [
       "Executing:   0%|          | 0/92 [00:00<?, ?cell/s]"
      ]
     },
     "metadata": {},
     "output_type": "display_data"
    },
    {
     "name": "stdout",
     "output_type": "stream",
     "text": [
      "CPU times: user 1min 26s, sys: 2.6 s, total: 1min 28s\n",
      "Wall time: 53min 23s\n"
     ]
    }
   ],
   "source": [
    "%%time\n",
    "\n",
    "cohorts = zip(cohort_names, cohort_abbrvs)\n",
    "for cohort, abbrv in cohorts:\n",
    "    out_nb_dir = f'/home/jupyter/notebooks/{cohort}/pm_gend_nbs'\n",
    "    # make sure the notebook output dir exists\n",
    "    os.makedirs(out_nb_dir, exist_ok=True)\n",
    "    wrk_dir = f'/home/jupyter/{cohort}'\n",
    "    begin_month = 0\n",
    "    begin_visit = visits_dict.get(begin_month)\n",
    "    begin_expression_matrix = f'/home/jupyter/amppd/expression/{abbrv}.{begin_visit}.{quant_type}.hdf5'\n",
    "    for end_month, end_visit in visits_dict.items():\n",
    "        if end_month == begin_month:\n",
    "            continue\n",
    "        # before running prep notebook make expr data for the cohort and begin & end visit exist\n",
    "        end_expression_matrix = f'/home/jupyter/amppd/expression/{abbrv}.{end_visit}.{quant_type}.hdf5'\n",
    "        if os.path.isfile(begin_expression_matrix) and os.path.isfile(end_expression_matrix):\n",
    "            param_dict = {'cohort': cohort, 'amp_abbr': abbrv, 'version': version, \n",
    "                          'tissue': tissue, 'begin_visit': begin_month, \n",
    "                          'begin_visit_name': begin_visit, 'end_visit': end_month,\n",
    "                          'end_visit_name' : end_visit}            \n",
    "            out_notebook = f'{out_nb_dir}/{cohort}.{tissue}.{end_month}-{begin_month}.delta_expression_prep.ipynb'\n",
    "            print(param_dict)\n",
    "            print(out_notebook)\n",
    "            pm.execute_notebook(input_path=base_notebook, output_path=out_notebook, \n",
    "                                parameters=param_dict)"
   ]
  },
  {
   "cell_type": "code",
   "execution_count": null,
   "metadata": {},
   "outputs": [],
   "source": []
  }
 ],
 "metadata": {
  "environment": {
   "name": "pytorch-gpu.1-8.m65",
   "type": "gcloud",
   "uri": "gcr.io/deeplearning-platform-release/pytorch-gpu.1-8:m65"
  },
  "kernelspec": {
   "display_name": "Python 3",
   "language": "python",
   "name": "python3"
  },
  "language_info": {
   "codemirror_mode": {
    "name": "ipython",
    "version": 3
   },
   "file_extension": ".py",
   "mimetype": "text/x-python",
   "name": "python",
   "nbconvert_exporter": "python",
   "pygments_lexer": "ipython3",
   "version": "3.7.10"
  }
 },
 "nbformat": 4,
 "nbformat_minor": 4
}
