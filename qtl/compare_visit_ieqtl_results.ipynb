{
 "cells": [
  {
   "cell_type": "markdown",
   "id": "9cda5f55",
   "metadata": {},
   "source": [
    "#### Notebook to compare the significant term interaction signals for cohort by visit"
   ]
  },
  {
   "cell_type": "code",
   "execution_count": null,
   "id": "489d1c89",
   "metadata": {},
   "outputs": [],
   "source": [
    "!date"
   ]
  },
  {
   "cell_type": "code",
   "execution_count": null,
   "id": "f1e0e3f8",
   "metadata": {},
   "outputs": [],
   "source": [
    "import pandas as pd\n",
    "import numpy as np\n",
    "import seaborn as sns\n",
    "import matplotlib.pyplot as plt\n",
    "import concurrent.futures"
   ]
  },
  {
   "cell_type": "code",
   "execution_count": null,
   "id": "8c86c379",
   "metadata": {
    "tags": [
     "parameters"
    ]
   },
   "outputs": [],
   "source": [
    "# parameters\n",
    "cohort = 'ppmi'\n",
    "months = [0, 6 , 12, 24, 36]\n",
    "tissue = 'wb'\n",
    "term = 'DX'"
   ]
  },
  {
   "cell_type": "code",
   "execution_count": null,
   "id": "6d731eb7",
   "metadata": {},
   "outputs": [],
   "source": [
    "# naming\n",
    "\n",
    "# directories\n",
    "home_dir = '/home/jupyter'\n",
    "wrk_dir = f'{home_dir}/{cohort}'\n",
    "tensorqtl_dir = f'{wrk_dir}/tensorqtl'\n",
    "results_dir = f'{wrk_dir}/results'\n",
    "\n",
    "# input files\n",
    "\n",
    "# out files\n",
    "ieqtl_results_file = f'{results_dir}/{cohort}.{tissue}.{term}.cis.ieqtl.csv'\n",
    "\n",
    "# constants\n",
    "autosomes = [str(x) for x in list(range(1,23))]\n",
    "capture_out = !(nproc)\n",
    "max_threads = int(capture_out[0])"
   ]
  },
  {
   "cell_type": "markdown",
   "id": "734a986b",
   "metadata": {},
   "source": [
    "#### load the results"
   ]
  },
  {
   "cell_type": "code",
   "execution_count": null,
   "id": "2f29192f",
   "metadata": {},
   "outputs": [],
   "source": [
    "ieqtl_df = None\n",
    "for month in months:\n",
    "    cohort_build = f'{cohort}.{tissue}{month}'\n",
    "    cis_ieqtl_file = f'{results_dir}/{cohort_build}.{term}.cis_qtl_top_assoc.txt.gz'\n",
    "    this_df = pd.read_csv(cis_ieqtl_file, index_col=0)\n",
    "    gene_cnt = len(this_df['phenotype_id'].unique())\n",
    "    print(f'month {month} shape is {this_df.shape} for {gene_cnt} genes')\n",
    "    this_df['month'] = month\n",
    "    ieqtl_df = pd.concat([ieqtl_df, this_df])\n",
    "    print(f'after month {month} total shape {ieqtl_df.shape}')"
   ]
  },
  {
   "cell_type": "code",
   "execution_count": null,
   "id": "b4260394",
   "metadata": {},
   "outputs": [],
   "source": [
    "print(ieqtl_df.shape)\n",
    "display(ieqtl_df.head())"
   ]
  },
  {
   "cell_type": "markdown",
   "id": "b1b6ecb1",
   "metadata": {},
   "source": [
    "#### make a key for the variant/pheno pair"
   ]
  },
  {
   "cell_type": "code",
   "execution_count": null,
   "id": "a5abce4d",
   "metadata": {},
   "outputs": [],
   "source": [
    "ieqtl_df['cispair'] = ieqtl_df['phenotype_id'] + ':' + ieqtl_df['variant_id']\n",
    "print(ieqtl_df.shape)\n",
    "display(ieqtl_df.head())"
   ]
  },
  {
   "cell_type": "code",
   "execution_count": null,
   "id": "e50d2467",
   "metadata": {},
   "outputs": [],
   "source": [
    "ieqtl_df['cispair'].value_counts().value_counts()"
   ]
  },
  {
   "cell_type": "code",
   "execution_count": null,
   "id": "0008f084",
   "metadata": {},
   "outputs": [],
   "source": [
    "ieqtl_df['month'].value_counts()"
   ]
  },
  {
   "cell_type": "markdown",
   "id": "8da2fd13",
   "metadata": {},
   "source": [
    "#### what is the max p-value in the ieQTL signals"
   ]
  },
  {
   "cell_type": "code",
   "execution_count": null,
   "id": "690da858",
   "metadata": {},
   "outputs": [],
   "source": [
    "max_pvalue = ieqtl_df['pval_gi'].max()\n",
    "print(f'max nominal pvalue {max_pvalue}')"
   ]
  },
  {
   "cell_type": "markdown",
   "id": "bbb64b8b",
   "metadata": {},
   "source": [
    "#### now that all the cispairs of interest are known get complete data for these"
   ]
  },
  {
   "cell_type": "code",
   "execution_count": null,
   "id": "8565007f",
   "metadata": {},
   "outputs": [],
   "source": [
    "def load_missing_qtl_results(find_items, in_file, month):\n",
    "    eqtl_df = pd.read_parquet(in_file)\n",
    "    eqtl_df['cispair'] = eqtl_df['phenotype_id'] + ':' + eqtl_df['variant_id']\n",
    "    found_df = eqtl_df.loc[eqtl_df['cispair'].isin(find_items)].copy()\n",
    "    found_df['month'] = month\n",
    "    return found_df"
   ]
  },
  {
   "cell_type": "code",
   "execution_count": null,
   "id": "537fc686",
   "metadata": {},
   "outputs": [],
   "source": [
    "%%time\n",
    "fs_list = []\n",
    "lm_results = []\n",
    "with concurrent.futures.ThreadPoolExecutor(max_workers=max_threads*2) as tpe:\n",
    "    for month in months:\n",
    "        cohort_build = f'{cohort}.{tissue}{month}'\n",
    "        for chrom in autosomes:\n",
    "            this_result_file = f'{tensorqtl_dir}/{cohort_build}.{term}.cis_qtl_pairs.chr{chrom}.parquet'\n",
    "            fs_list.append(tpe.submit(load_missing_qtl_results, ieqtl_df['cispair'], \n",
    "                                      this_result_file, month))\n",
    "    for future in concurrent.futures.as_completed(fs_list):\n",
    "        lm_results.append(future.result())"
   ]
  },
  {
   "cell_type": "code",
   "execution_count": null,
   "id": "130c9831",
   "metadata": {},
   "outputs": [],
   "source": [
    "# combine the read results\n",
    "results_df = pd.concat(lm_results)\n",
    "print(results_df.shape)\n",
    "# display(results_df.head())"
   ]
  },
  {
   "cell_type": "code",
   "execution_count": null,
   "id": "bc11a77c",
   "metadata": {},
   "outputs": [],
   "source": [
    "results_df['cispair'].value_counts().value_counts()"
   ]
  },
  {
   "cell_type": "code",
   "execution_count": null,
   "id": "51ee10e5",
   "metadata": {},
   "outputs": [],
   "source": [
    "results_df['month'].value_counts()"
   ]
  },
  {
   "cell_type": "code",
   "execution_count": null,
   "id": "d627a5cd",
   "metadata": {},
   "outputs": [],
   "source": [
    "results_df['log10_pvalue'] = np.log10(results_df['pval_gi'])*-1\n",
    "results_df['z_score'] = results_df['b_gi']/results_df['b_gi_se']\n",
    "results_df['z_score_abs'] = np.abs(results_df['z_score'])\n",
    "results_df['is_sig'] = np.where(results_df['pval_gi'] < max_pvalue, 1, 0)"
   ]
  },
  {
   "cell_type": "code",
   "execution_count": null,
   "id": "6164b64b",
   "metadata": {},
   "outputs": [],
   "source": [
    "display(results_df.head())"
   ]
  },
  {
   "cell_type": "code",
   "execution_count": null,
   "id": "92717f0d",
   "metadata": {},
   "outputs": [],
   "source": [
    "results_df['is_sig'].value_counts()"
   ]
  },
  {
   "cell_type": "markdown",
   "id": "7d5940ab",
   "metadata": {},
   "source": [
    "#### save the combined results"
   ]
  },
  {
   "cell_type": "code",
   "execution_count": null,
   "id": "eb9e2a9d",
   "metadata": {},
   "outputs": [],
   "source": [
    "results_df.to_csv(ieqtl_results_file, index=False)"
   ]
  },
  {
   "cell_type": "code",
   "execution_count": null,
   "id": "c178d8da",
   "metadata": {},
   "outputs": [],
   "source": [
    "temp = results_df.groupby(['cispair'])['is_sig'].agg('sum')\n",
    "display(results_df.loc[results_df['is_sig'] == 0].head())\n",
    "display(temp.value_counts())"
   ]
  },
  {
   "cell_type": "code",
   "execution_count": null,
   "id": "56fed74d",
   "metadata": {},
   "outputs": [],
   "source": [
    "temp[temp == 0].head()"
   ]
  },
  {
   "cell_type": "code",
   "execution_count": null,
   "id": "8345cd01",
   "metadata": {},
   "outputs": [],
   "source": [
    "results_df.groupby(['cispair'])['is_sig'].agg('sum').value_counts()"
   ]
  },
  {
   "cell_type": "markdown",
   "id": "96c6eeeb",
   "metadata": {},
   "source": [
    "#### for the stuff that isn't in largest powered group any visit standout"
   ]
  },
  {
   "cell_type": "code",
   "execution_count": null,
   "id": "6d18d5dc",
   "metadata": {},
   "outputs": [],
   "source": [
    "results_df.loc[results_df['month'] != 0]['month'].value_counts()"
   ]
  },
  {
   "cell_type": "code",
   "execution_count": null,
   "id": "d0804530",
   "metadata": {},
   "outputs": [],
   "source": [
    "results_df.loc[results_df['month'] != 0].groupby(['cispair'])['is_sig'].agg('sum').value_counts()"
   ]
  },
  {
   "cell_type": "markdown",
   "id": "030f203d",
   "metadata": {},
   "source": [
    "#### annotate direction of effect for plotting"
   ]
  },
  {
   "cell_type": "code",
   "execution_count": null,
   "id": "ce5f7425",
   "metadata": {},
   "outputs": [],
   "source": [
    "results_df['Direction'] = np.where(results_df['b_gi'] > 0, \n",
    "                                         'Increase', 'Descrease')\n",
    "display(results_df.head())"
   ]
  },
  {
   "cell_type": "markdown",
   "id": "08a6cd5d",
   "metadata": {},
   "source": [
    "#### do some quick plotting"
   ]
  },
  {
   "cell_type": "code",
   "execution_count": null,
   "id": "1a0dafc8",
   "metadata": {},
   "outputs": [],
   "source": [
    "sns.lmplot(x='month', y='log10_pvalue', hue='Direction', \n",
    "           data=results_df, palette='Set1')"
   ]
  },
  {
   "cell_type": "code",
   "execution_count": null,
   "id": "1bbc3a7f",
   "metadata": {},
   "outputs": [],
   "source": [
    "sns.lmplot(x='month', y='z_score', hue='Direction', \n",
    "           data=results_df, palette='Set1')"
   ]
  },
  {
   "cell_type": "code",
   "execution_count": null,
   "id": "160566a9",
   "metadata": {},
   "outputs": [],
   "source": [
    "sns.lmplot(x='month', y='b_gi', hue='Direction', \n",
    "           data=results_df, palette='Set1')"
   ]
  },
  {
   "cell_type": "code",
   "execution_count": null,
   "id": "9844024b",
   "metadata": {},
   "outputs": [],
   "source": [
    "sns.lmplot(x='month', y='z_score_abs', hue='Direction', \n",
    "           data=results_df, palette='Set1')"
   ]
  },
  {
   "cell_type": "code",
   "execution_count": null,
   "id": "810124de",
   "metadata": {},
   "outputs": [],
   "source": [
    "sns.lmplot(x='month', y='tss_distance', hue='Direction', \n",
    "           data=results_df, palette='Set1')"
   ]
  },
  {
   "cell_type": "code",
   "execution_count": null,
   "id": "1becf4b5",
   "metadata": {},
   "outputs": [],
   "source": [
    "sns.relplot(x='month', y='z_score', kind='line', hue='Direction',\n",
    "            data=results_df, palette='Set1')"
   ]
  },
  {
   "cell_type": "code",
   "execution_count": null,
   "id": "28878515",
   "metadata": {},
   "outputs": [],
   "source": [
    "sns.relplot(x='month', y='z_score_abs', kind='line', hue='Direction',\n",
    "            data=results_df, palette='Set1')"
   ]
  },
  {
   "cell_type": "code",
   "execution_count": null,
   "id": "16a93b2d",
   "metadata": {},
   "outputs": [],
   "source": [
    "sns.relplot(x='month', y='b_gi', kind='line', hue='Direction',\n",
    "            data=results_df, palette='Set1')"
   ]
  },
  {
   "cell_type": "code",
   "execution_count": null,
   "id": "61d7c4fd",
   "metadata": {},
   "outputs": [],
   "source": [
    "sns.relplot(x='month', y='log10_pvalue', kind='line', hue='Direction',\n",
    "            data=results_df, palette='Set1')"
   ]
  },
  {
   "cell_type": "code",
   "execution_count": null,
   "id": "0fe4eca2",
   "metadata": {},
   "outputs": [],
   "source": [
    "sns.relplot(x='tss_distance', y='log10_pvalue',hue='Direction',\n",
    "            data=results_df, palette='Set1')"
   ]
  },
  {
   "cell_type": "code",
   "execution_count": null,
   "id": "92eefcc7",
   "metadata": {},
   "outputs": [],
   "source": [
    "sns.scatterplot(x='tss_distance', y='log10_pvalue', hue='month',\n",
    "                data=results_df.sample(frac=1), palette='Set1')"
   ]
  },
  {
   "cell_type": "code",
   "execution_count": null,
   "id": "354a4d81",
   "metadata": {},
   "outputs": [],
   "source": [
    "sns.relplot(x='tss_distance', y='z_score',hue='Direction',\n",
    "            data=results_df, palette='Set1')"
   ]
  },
  {
   "cell_type": "code",
   "execution_count": null,
   "id": "3cd1dfba",
   "metadata": {},
   "outputs": [],
   "source": [
    "sns.relplot(x='tss_distance', y='z_score',hue='month',\n",
    "            data=results_df.sample(frac=1), palette='Set1')"
   ]
  },
  {
   "cell_type": "code",
   "execution_count": null,
   "id": "b76a2469",
   "metadata": {},
   "outputs": [],
   "source": []
  }
 ],
 "metadata": {
  "environment": {
   "name": "pytorch-gpu.1-8.m65",
   "type": "gcloud",
   "uri": "gcr.io/deeplearning-platform-release/pytorch-gpu.1-8:m65"
  },
  "kernelspec": {
   "display_name": "Python 3",
   "language": "python",
   "name": "python3"
  },
  "language_info": {
   "codemirror_mode": {
    "name": "ipython",
    "version": 3
   },
   "file_extension": ".py",
   "mimetype": "text/x-python",
   "name": "python",
   "nbconvert_exporter": "python",
   "pygments_lexer": "ipython3",
   "version": "3.7.10"
  },
  "widgets": {
   "application/vnd.jupyter.widget-state+json": {
    "state": {},
    "version_major": 2,
    "version_minor": 0
   }
  }
 },
 "nbformat": 4,
 "nbformat_minor": 5
}
