{
 "cells": [
  {
   "cell_type": "markdown",
   "id": "62b6465e",
   "metadata": {},
   "source": [
    "## Notebook to look for ieQTL replicated between cohorts"
   ]
  },
  {
   "cell_type": "code",
   "execution_count": null,
   "id": "f509f51e",
   "metadata": {},
   "outputs": [],
   "source": [
    "!date"
   ]
  },
  {
   "cell_type": "markdown",
   "id": "da3e5da0",
   "metadata": {},
   "source": [
    "#### import libraries and set notebook variables"
   ]
  },
  {
   "cell_type": "code",
   "execution_count": null,
   "id": "e8c58072",
   "metadata": {},
   "outputs": [],
   "source": [
    "import pandas as pd\n",
    "import numpy as np\n",
    "import seaborn as sns\n",
    "import matplotlib.pyplot as plt\n",
    "import concurrent.futures\n",
    "import os"
   ]
  },
  {
   "cell_type": "code",
   "execution_count": null,
   "id": "de1a7992",
   "metadata": {
    "tags": [
     "parameters"
    ]
   },
   "outputs": [],
   "source": [
    "# parameters\n",
    "disc_cohort = 'ppmi'\n",
    "rep_cohort = 'pdbp'\n",
    "tissue = 'wb'\n",
    "term = 'GRS'"
   ]
  },
  {
   "cell_type": "code",
   "execution_count": null,
   "id": "10f0b760",
   "metadata": {},
   "outputs": [],
   "source": [
    "# directories\n",
    "home_dir = '/home/jupyter'\n",
    "rep_tensorqtl_dir = f'{home_dir}/{rep_cohort}/tensorqtl'\n",
    "\n",
    "# in files\n",
    "disc_eqtl_file = f'{home_dir}/{disc_cohort}/results/{disc_cohort}.{tissue}.{term}.cis.ieqtl.csv'\n",
    "rep_eqtl_file = f'{home_dir}/{rep_cohort}//results/{rep_cohort}.{tissue}.{term}.cis.ieqtl.csv'\n",
    "\n",
    "# out files\n",
    "replicated_file = f'{home_dir}/{disc_cohort}/results/{disc_cohort}.{rep_cohort}.\\\n",
    "replicated.{tissue}.{term}.cis.ieqtl.csv'\n",
    "\n",
    "# constants\n",
    "autosomes = [str(x) for x in list(range(1,23))]\n",
    "capture_out = !(nproc)\n",
    "max_threads = int(capture_out[0])\n",
    "months = [0, 1, 6 , 12, 18, 24, 36]"
   ]
  },
  {
   "cell_type": "markdown",
   "id": "df295fce",
   "metadata": {},
   "source": [
    "#### load top-level results"
   ]
  },
  {
   "cell_type": "code",
   "execution_count": null,
   "id": "db808829",
   "metadata": {},
   "outputs": [],
   "source": [
    "# load discovery results\n",
    "disc_eqtl_df = pd.read_csv(disc_eqtl_file)\n",
    "print(disc_eqtl_df.shape)\n",
    "display(disc_eqtl_df.head())\n",
    "# load replication results\n",
    "rep_eqtl_df = pd.read_csv(rep_eqtl_file)\n",
    "print(rep_eqtl_df.shape)\n",
    "display(rep_eqtl_df.head())"
   ]
  },
  {
   "cell_type": "markdown",
   "id": "b052bb41",
   "metadata": {},
   "source": [
    "#### not expecting each cohort to have exact same index eQTL variant but check anyway"
   ]
  },
  {
   "cell_type": "code",
   "execution_count": null,
   "id": "d12b3fda",
   "metadata": {},
   "outputs": [],
   "source": [
    "cis_pairs = disc_eqtl_df.loc[disc_eqtl_df['is_sig'] == 1]['cispair'].unique()\n",
    "print(f'disc cohort cis pairs count {len(cis_pairs)}')\n",
    "features = disc_eqtl_df.loc[disc_eqtl_df['is_sig'] == 1]['phenotype_id'].unique()\n",
    "print(f'disc gene count {len(features)}')\n",
    "\n",
    "rep_cis_pairs = rep_eqtl_df.loc[rep_eqtl_df['is_sig'] == 1]['cispair'].unique()\n",
    "print(f'rep cohort cis pairs count {len(rep_cis_pairs)}')\n",
    "rep_features = rep_eqtl_df.loc[rep_eqtl_df['is_sig'] == 1]['phenotype_id'].unique()\n",
    "print(f'rep gene count {len(rep_features)}')\n",
    "\n",
    "cp_replicated = set(cis_pairs) & set(rep_cis_pairs)\n",
    "print(f'replicated index cis pairs {len(cp_replicated)}')\n",
    "genes_replicated = set(features) & set(rep_features)\n",
    "print(f'replicated eQTL genes {len(genes_replicated)}')"
   ]
  },
  {
   "cell_type": "markdown",
   "id": "a280799c",
   "metadata": {},
   "source": [
    "#### what is the max p-value in the discovery cohort signals"
   ]
  },
  {
   "cell_type": "code",
   "execution_count": null,
   "id": "6b98d903",
   "metadata": {},
   "outputs": [],
   "source": [
    "# here I'm picking lower threshold of was FDR significant \n",
    "# in the full analysis of data from the repliation cohort\n",
    "# or simple bonferronni based on number of features\n",
    "\n",
    "max_fdr_pvalue = rep_eqtl_df.loc[rep_eqtl_df['is_sig'] == 1]['pval_gi'].max()\n",
    "# max_pvalue = disc_eqtl_df.loc[disc_eqtl_df['is_sig'] == 1]['pval_gi'].max()\n",
    "# max_pvalue = disc_eqtl_df.loc[(disc_eqtl_df['phenotype_id'].isin(genes_replicated)) & \n",
    "#                               (disc_eqtl_df['is_sig'] == 1)]['pval_gi'].max()\n",
    "max_cnt_pvalue = 0.05/len(features)\n",
    "print(f'max_fdr_pvalue == {max_fdr_pvalue}')\n",
    "print(f'max_cnt_pvalue == {max_cnt_pvalue}')\n",
    "max_pvalue = max_fdr_pvalue if max_fdr_pvalue > max_cnt_pvalue else max_cnt_pvalue\n",
    "print(f'max nominal pvalue {max_pvalue}')"
   ]
  },
  {
   "cell_type": "markdown",
   "id": "86c2647f",
   "metadata": {},
   "source": [
    "#### now that all the cispairs of interest are known get complete data for these"
   ]
  },
  {
   "cell_type": "code",
   "execution_count": null,
   "id": "008f7c47",
   "metadata": {},
   "outputs": [],
   "source": [
    "def load_missing_qtl_results(find_items, in_file, month):\n",
    "    eqtl_df = pd.read_parquet(in_file)\n",
    "    eqtl_df['cispair'] = eqtl_df['phenotype_id'] + ':' + eqtl_df['variant_id']\n",
    "    found_df = eqtl_df.loc[eqtl_df['cispair'].isin(find_items)].copy()\n",
    "    found_df['month'] = month\n",
    "    return found_df"
   ]
  },
  {
   "cell_type": "code",
   "execution_count": null,
   "id": "799501d1",
   "metadata": {},
   "outputs": [],
   "source": [
    "cis_pairs_to_find = disc_eqtl_df.loc[(disc_eqtl_df['is_sig'] == 1)]['cispair'].unique()\n",
    "print(f'total cis pairs to pull {len(cis_pairs_to_find)}')"
   ]
  },
  {
   "cell_type": "code",
   "execution_count": null,
   "id": "aeab5dbf",
   "metadata": {},
   "outputs": [],
   "source": [
    "%%time\n",
    "fs_list = []\n",
    "lm_results = []\n",
    "with concurrent.futures.ThreadPoolExecutor(max_workers=max_threads*2) as tpe:\n",
    "    for month in months:\n",
    "        cohort_build = f'{rep_cohort}.{tissue}{month}'\n",
    "        for chrom in autosomes:\n",
    "            this_result_file = f'{rep_tensorqtl_dir}/{cohort_build}.{term}.cis_qtl_pairs.chr{chrom}.parquet'\n",
    "            if os.path.isfile(this_result_file):\n",
    "                fs_list.append(tpe.submit(load_missing_qtl_results, cis_pairs_to_find, \n",
    "                                          this_result_file, month))\n",
    "    for future in concurrent.futures.as_completed(fs_list):\n",
    "        lm_results.append(future.result())"
   ]
  },
  {
   "cell_type": "code",
   "execution_count": null,
   "id": "53bc3f4f",
   "metadata": {},
   "outputs": [],
   "source": [
    "# combine the read results\n",
    "results_df = pd.concat(lm_results)\n",
    "print(results_df.shape)\n",
    "display(results_df.head())"
   ]
  },
  {
   "cell_type": "code",
   "execution_count": null,
   "id": "2e3dce5f",
   "metadata": {},
   "outputs": [],
   "source": [
    "replicated_results = results_df.loc[results_df['pval_gi'] < max_pvalue]\n",
    "print(replicated_results.shape)\n",
    "display(replicated_results.head())"
   ]
  },
  {
   "cell_type": "code",
   "execution_count": null,
   "id": "086ead2d",
   "metadata": {},
   "outputs": [],
   "source": [
    "replicated_results['month'].value_counts()"
   ]
  },
  {
   "cell_type": "code",
   "execution_count": null,
   "id": "bfb5dbb6",
   "metadata": {},
   "outputs": [],
   "source": [
    "replicated_cis_pairs = set(replicated_results['cispair'])\n",
    "print(f'count of replicated cis pairs {len(replicated_cis_pairs)}')"
   ]
  },
  {
   "cell_type": "code",
   "execution_count": null,
   "id": "1701074a",
   "metadata": {},
   "outputs": [],
   "source": [
    "# before computing log10 of p-value if zero present replace with \n",
    "# numpy float64 next up from zero\n",
    "results_df.loc[results_df['pval_gi'] == 0, 'pval_gi'] = np.nextafter(0, 1)\n",
    "\n",
    "results_df['log10_pvalue'] = np.log10(results_df['pval_gi'])*-1\n",
    "results_df['z_score'] = results_df['b_gi']/results_df['b_gi_se']\n",
    "results_df['is_sig'] = np.where(results_df['pval_gi'] < max_pvalue, 1, 0)"
   ]
  },
  {
   "cell_type": "markdown",
   "id": "ef105d00",
   "metadata": {},
   "source": [
    "#### subset and combine the discovery and replication cohorts based on the replicated cis pairs\n",
    "ie there might be individual months that have a sub-significant value but that is ok"
   ]
  },
  {
   "cell_type": "code",
   "execution_count": null,
   "id": "f257d971",
   "metadata": {},
   "outputs": [],
   "source": [
    "disc_replicated_df = disc_eqtl_df.loc[disc_eqtl_df['cispair'].isin(replicated_cis_pairs)].copy()\n",
    "disc_replicated_df['cohort'] = disc_cohort\n",
    "print(f'disc shape {disc_replicated_df.shape}')\n",
    "# pull from the retrieve replication cohort results\n",
    "rep_replicated_df = results_df.loc[results_df['cispair'].isin(replicated_cis_pairs)].copy()\n",
    "rep_replicated_df['cohort'] = rep_cohort\n",
    "print(f'rep shape {disc_replicated_df.shape}')\n",
    "# now combine, why I added cohort label to rows\n",
    "replicated_df = pd.concat([disc_replicated_df, rep_replicated_df])"
   ]
  },
  {
   "cell_type": "code",
   "execution_count": null,
   "id": "336e4987",
   "metadata": {},
   "outputs": [],
   "source": [
    "print(replicated_df.shape)\n",
    "display(replicated_df.head())"
   ]
  },
  {
   "cell_type": "markdown",
   "id": "8de4dcdf",
   "metadata": {},
   "source": [
    "#### sort this final table by most sig and then month"
   ]
  },
  {
   "cell_type": "code",
   "execution_count": null,
   "id": "7f17b5c7",
   "metadata": {},
   "outputs": [],
   "source": [
    "replicated_df.sort_values(by=['pval_gi', 'month'], inplace=True)"
   ]
  },
  {
   "cell_type": "code",
   "execution_count": null,
   "id": "25d47a40",
   "metadata": {},
   "outputs": [],
   "source": [
    "display(replicated_df.head())\n",
    "display(replicated_df.tail())"
   ]
  },
  {
   "cell_type": "markdown",
   "id": "b645deb3",
   "metadata": {},
   "source": [
    "#### save the file"
   ]
  },
  {
   "cell_type": "code",
   "execution_count": null,
   "id": "5289d170",
   "metadata": {},
   "outputs": [],
   "source": [
    "replicated_df.to_csv(replicated_file, index=False)"
   ]
  },
  {
   "cell_type": "markdown",
   "id": "29695ab8",
   "metadata": {},
   "source": [
    "#### annotate direction of effect for plotting"
   ]
  },
  {
   "cell_type": "code",
   "execution_count": null,
   "id": "5e9a3a0f",
   "metadata": {},
   "outputs": [],
   "source": [
    "disc_replicated_df['Direction'] = np.where(disc_replicated_df['b_gi'] > 0, \n",
    "                                           'Increase', 'Descrease')\n",
    "display(disc_replicated_df.head())"
   ]
  },
  {
   "cell_type": "markdown",
   "id": "a2dec846",
   "metadata": {},
   "source": [
    "#### do some quick plotting"
   ]
  },
  {
   "cell_type": "code",
   "execution_count": null,
   "id": "24186f80",
   "metadata": {},
   "outputs": [],
   "source": [
    "sns.lmplot(x='month', y='log10_pvalue', hue='Direction', \n",
    "           data=disc_replicated_df, palette='Set1')"
   ]
  },
  {
   "cell_type": "code",
   "execution_count": null,
   "id": "c3cd0001",
   "metadata": {},
   "outputs": [],
   "source": [
    "sns.lmplot(x='month', y='z_score', hue='Direction', \n",
    "           data=disc_replicated_df, palette='Set1')"
   ]
  },
  {
   "cell_type": "code",
   "execution_count": null,
   "id": "edcc1257",
   "metadata": {},
   "outputs": [],
   "source": [
    "sns.lmplot(x='month', y='b_gi', hue='Direction', \n",
    "           data=disc_replicated_df, palette='Set1')"
   ]
  },
  {
   "cell_type": "code",
   "execution_count": null,
   "id": "642f1fba",
   "metadata": {},
   "outputs": [],
   "source": [
    "sns.lmplot(x='month', y='b_gi_se', hue='Direction', \n",
    "           data=disc_replicated_df, palette='Set1')"
   ]
  },
  {
   "cell_type": "code",
   "execution_count": null,
   "id": "96cc3451",
   "metadata": {},
   "outputs": [],
   "source": [
    "sns.lmplot(x='month', y='ma_count', hue='Direction', \n",
    "           data=disc_replicated_df, palette='Set1')"
   ]
  },
  {
   "cell_type": "code",
   "execution_count": null,
   "id": "6f7982ea",
   "metadata": {},
   "outputs": [],
   "source": [
    "sns.lmplot(x='month', y='tss_distance', hue='Direction', \n",
    "           data=disc_replicated_df, palette='Set1')"
   ]
  },
  {
   "cell_type": "code",
   "execution_count": null,
   "id": "81be1b7d",
   "metadata": {},
   "outputs": [],
   "source": [
    "sns.relplot(x='month', y='z_score', kind='line', hue='Direction',\n",
    "            data=disc_replicated_df, palette='Set1')"
   ]
  },
  {
   "cell_type": "code",
   "execution_count": null,
   "id": "c458348f",
   "metadata": {},
   "outputs": [],
   "source": [
    "sns.relplot(x='month', y='b_gi', kind='line', hue='Direction',\n",
    "            data=disc_replicated_df, palette='Set1')"
   ]
  },
  {
   "cell_type": "code",
   "execution_count": null,
   "id": "55e828ab",
   "metadata": {},
   "outputs": [],
   "source": [
    "sns.relplot(x='month', y='b_gi_se', kind='line', hue='Direction',\n",
    "            data=disc_replicated_df, palette='Set1')"
   ]
  },
  {
   "cell_type": "code",
   "execution_count": null,
   "id": "a151e89f",
   "metadata": {},
   "outputs": [],
   "source": [
    "sns.relplot(x='month', y='log10_pvalue', kind='line', hue='Direction',\n",
    "            data=disc_replicated_df, palette='Set1')"
   ]
  },
  {
   "cell_type": "code",
   "execution_count": null,
   "id": "7267f852",
   "metadata": {},
   "outputs": [],
   "source": [
    "sns.relplot(x='tss_distance', y='log10_pvalue',hue='Direction',\n",
    "            data=disc_replicated_df, palette='Set1')"
   ]
  },
  {
   "cell_type": "code",
   "execution_count": null,
   "id": "96df1230",
   "metadata": {},
   "outputs": [],
   "source": [
    "sns.scatterplot(x='tss_distance', y='log10_pvalue', hue='month',\n",
    "                data=disc_replicated_df.sample(frac=1), palette='Set1')"
   ]
  },
  {
   "cell_type": "code",
   "execution_count": null,
   "id": "d675bc54",
   "metadata": {},
   "outputs": [],
   "source": [
    "sns.relplot(x='tss_distance', y='z_score',hue='Direction',\n",
    "            data=disc_replicated_df, palette='Set1')"
   ]
  },
  {
   "cell_type": "code",
   "execution_count": null,
   "id": "841a54c2",
   "metadata": {},
   "outputs": [],
   "source": [
    "sns.relplot(x='tss_distance', y='z_score',hue='month',\n",
    "            data=disc_replicated_df.sample(frac=1), palette='Set1')"
   ]
  },
  {
   "cell_type": "code",
   "execution_count": null,
   "id": "c03f0c3f",
   "metadata": {},
   "outputs": [],
   "source": []
  },
  {
   "cell_type": "code",
   "execution_count": null,
   "id": "22628f64",
   "metadata": {},
   "outputs": [],
   "source": [
    "disc_replicated_df.loc[disc_replicated_df['month'] == 0]['Direction'].value_counts()"
   ]
  },
  {
   "cell_type": "code",
   "execution_count": null,
   "id": "c6dab884",
   "metadata": {},
   "outputs": [],
   "source": [
    "disc_replicated_df.loc[(disc_replicated_df['month'] == 0) & \n",
    "                       (disc_replicated_df['Direction'] == 'Increase')]['log10_pvalue'].value_counts()"
   ]
  },
  {
   "cell_type": "code",
   "execution_count": null,
   "id": "ae8f2d9d",
   "metadata": {},
   "outputs": [],
   "source": []
  }
 ],
 "metadata": {
  "environment": {
   "name": "pytorch-gpu.1-8.m65",
   "type": "gcloud",
   "uri": "gcr.io/deeplearning-platform-release/pytorch-gpu.1-8:m65"
  },
  "kernelspec": {
   "display_name": "Python 3",
   "language": "python",
   "name": "python3"
  },
  "language_info": {
   "codemirror_mode": {
    "name": "ipython",
    "version": 3
   },
   "file_extension": ".py",
   "mimetype": "text/x-python",
   "name": "python",
   "nbconvert_exporter": "python",
   "pygments_lexer": "ipython3",
   "version": "3.7.10"
  }
 },
 "nbformat": 4,
 "nbformat_minor": 5
}
