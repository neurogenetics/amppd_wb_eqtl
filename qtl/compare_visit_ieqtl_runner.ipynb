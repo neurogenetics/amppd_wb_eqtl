{
 "cells": [
  {
   "cell_type": "markdown",
   "metadata": {},
   "source": [
    "## Notebook to runner for AMP-PD to compare cohort's per visit ieQTL results via papermill"
   ]
  },
  {
   "cell_type": "code",
   "execution_count": 1,
   "metadata": {},
   "outputs": [
    {
     "name": "stdout",
     "output_type": "stream",
     "text": [
      "Thu Jun 24 15:27:56 UTC 2021\n"
     ]
    }
   ],
   "source": [
    "!date"
   ]
  },
  {
   "cell_type": "markdown",
   "metadata": {},
   "source": [
    "#### import libraries"
   ]
  },
  {
   "cell_type": "code",
   "execution_count": 2,
   "metadata": {},
   "outputs": [],
   "source": [
    "import pandas as pd\n",
    "import os\n",
    "import papermill as pm"
   ]
  },
  {
   "cell_type": "code",
   "execution_count": 3,
   "metadata": {},
   "outputs": [],
   "source": [
    "# base notebook to be run per tuple iteration\n",
    "base_notebook = '/home/jupyter/notebooks/compare_visit_ieqtl_results.ipynb'\n",
    "\n",
    "# setup iteration tuples\n",
    "cohorts = ['biofind', 'pdbp', 'ppmi']\n",
    "tissue = 'wb'\n",
    "months = [0, 1, 6 , 12, 18, 24, 36]\n",
    "quant_type = 'genes'\n",
    "terms = ['DX', 'GRS', 'Basophils', 'Eosinophils', 'Lymphocytes', 'Monocytes', 'Neutrophils']"
   ]
  },
  {
   "cell_type": "markdown",
   "metadata": {},
   "source": [
    "#### iterate over the tuples running the notebook per tuple"
   ]
  },
  {
   "cell_type": "code",
   "execution_count": 4,
   "metadata": {},
   "outputs": [
    {
     "name": "stdout",
     "output_type": "stream",
     "text": [
      "{'cohort': 'pdbp', 'tissue': 'wb', 'months': [0, 6, 12, 18, 24], 'term': 'DX'}\n",
      "/home/jupyter/notebooks/pdbp/pm_gend_nbs/pdbp_DX_compare_visit_ieqtl.ipynb\n"
     ]
    },
    {
     "data": {
      "application/vnd.jupyter.widget-view+json": {
       "model_id": "27a205143b9548219ce4de615d09bf2e",
       "version_major": 2,
       "version_minor": 0
      },
      "text/plain": [
       "Executing:   0%|          | 0/49 [00:00<?, ?cell/s]"
      ]
     },
     "metadata": {},
     "output_type": "display_data"
    },
    {
     "name": "stdout",
     "output_type": "stream",
     "text": [
      "{'cohort': 'pdbp', 'tissue': 'wb', 'months': [0, 6, 12, 18, 24], 'term': 'GRS'}\n",
      "/home/jupyter/notebooks/pdbp/pm_gend_nbs/pdbp_GRS_compare_visit_ieqtl.ipynb\n"
     ]
    },
    {
     "data": {
      "application/vnd.jupyter.widget-view+json": {
       "model_id": "4665c2b65cdf4defac79aee76c51b1c2",
       "version_major": 2,
       "version_minor": 0
      },
      "text/plain": [
       "Executing:   0%|          | 0/49 [00:00<?, ?cell/s]"
      ]
     },
     "metadata": {},
     "output_type": "display_data"
    },
    {
     "name": "stdout",
     "output_type": "stream",
     "text": [
      "{'cohort': 'pdbp', 'tissue': 'wb', 'months': [0, 6, 12, 18, 24], 'term': 'Basophils'}\n",
      "/home/jupyter/notebooks/pdbp/pm_gend_nbs/pdbp_Basophils_compare_visit_ieqtl.ipynb\n"
     ]
    },
    {
     "data": {
      "application/vnd.jupyter.widget-view+json": {
       "model_id": "8f50c3b403b24a2ab275c3a9de8fbf9a",
       "version_major": 2,
       "version_minor": 0
      },
      "text/plain": [
       "Executing:   0%|          | 0/49 [00:00<?, ?cell/s]"
      ]
     },
     "metadata": {},
     "output_type": "display_data"
    },
    {
     "name": "stdout",
     "output_type": "stream",
     "text": [
      "{'cohort': 'pdbp', 'tissue': 'wb', 'months': [0, 6, 12, 18, 24], 'term': 'Eosinophils'}\n",
      "/home/jupyter/notebooks/pdbp/pm_gend_nbs/pdbp_Eosinophils_compare_visit_ieqtl.ipynb\n"
     ]
    },
    {
     "data": {
      "application/vnd.jupyter.widget-view+json": {
       "model_id": "0cff5ef215be4ad28b08a89e78f31867",
       "version_major": 2,
       "version_minor": 0
      },
      "text/plain": [
       "Executing:   0%|          | 0/49 [00:00<?, ?cell/s]"
      ]
     },
     "metadata": {},
     "output_type": "display_data"
    },
    {
     "name": "stdout",
     "output_type": "stream",
     "text": [
      "{'cohort': 'pdbp', 'tissue': 'wb', 'months': [0, 6, 12, 18, 24], 'term': 'Lymphocytes'}\n",
      "/home/jupyter/notebooks/pdbp/pm_gend_nbs/pdbp_Lymphocytes_compare_visit_ieqtl.ipynb\n"
     ]
    },
    {
     "data": {
      "application/vnd.jupyter.widget-view+json": {
       "model_id": "1e0b2e92f4954315a626a1700a114dab",
       "version_major": 2,
       "version_minor": 0
      },
      "text/plain": [
       "Executing:   0%|          | 0/49 [00:00<?, ?cell/s]"
      ]
     },
     "metadata": {},
     "output_type": "display_data"
    },
    {
     "name": "stdout",
     "output_type": "stream",
     "text": [
      "{'cohort': 'pdbp', 'tissue': 'wb', 'months': [0, 6, 12, 18, 24], 'term': 'Monocytes'}\n",
      "/home/jupyter/notebooks/pdbp/pm_gend_nbs/pdbp_Monocytes_compare_visit_ieqtl.ipynb\n"
     ]
    },
    {
     "data": {
      "application/vnd.jupyter.widget-view+json": {
       "model_id": "ff24d9d784c54be39f76be90e2363b02",
       "version_major": 2,
       "version_minor": 0
      },
      "text/plain": [
       "Executing:   0%|          | 0/49 [00:00<?, ?cell/s]"
      ]
     },
     "metadata": {},
     "output_type": "display_data"
    },
    {
     "name": "stdout",
     "output_type": "stream",
     "text": [
      "{'cohort': 'pdbp', 'tissue': 'wb', 'months': [0, 6, 12, 18, 24], 'term': 'Neutrophils'}\n",
      "/home/jupyter/notebooks/pdbp/pm_gend_nbs/pdbp_Neutrophils_compare_visit_ieqtl.ipynb\n"
     ]
    },
    {
     "data": {
      "application/vnd.jupyter.widget-view+json": {
       "model_id": "7d92c1ffbe33412688fa30d117287cac",
       "version_major": 2,
       "version_minor": 0
      },
      "text/plain": [
       "Executing:   0%|          | 0/49 [00:00<?, ?cell/s]"
      ]
     },
     "metadata": {},
     "output_type": "display_data"
    },
    {
     "name": "stdout",
     "output_type": "stream",
     "text": [
      "{'cohort': 'ppmi', 'tissue': 'wb', 'months': [0, 6, 12, 24, 36], 'term': 'DX'}\n",
      "/home/jupyter/notebooks/ppmi/pm_gend_nbs/ppmi_DX_compare_visit_ieqtl.ipynb\n"
     ]
    },
    {
     "data": {
      "application/vnd.jupyter.widget-view+json": {
       "model_id": "aed87fc37fbd47bfad5a4caa93fcdbd8",
       "version_major": 2,
       "version_minor": 0
      },
      "text/plain": [
       "Executing:   0%|          | 0/49 [00:00<?, ?cell/s]"
      ]
     },
     "metadata": {},
     "output_type": "display_data"
    },
    {
     "name": "stdout",
     "output_type": "stream",
     "text": [
      "{'cohort': 'ppmi', 'tissue': 'wb', 'months': [0, 6, 12, 24, 36], 'term': 'GRS'}\n",
      "/home/jupyter/notebooks/ppmi/pm_gend_nbs/ppmi_GRS_compare_visit_ieqtl.ipynb\n"
     ]
    },
    {
     "data": {
      "application/vnd.jupyter.widget-view+json": {
       "model_id": "2c4ec65e989148b1a43765426cf2511d",
       "version_major": 2,
       "version_minor": 0
      },
      "text/plain": [
       "Executing:   0%|          | 0/49 [00:00<?, ?cell/s]"
      ]
     },
     "metadata": {},
     "output_type": "display_data"
    },
    {
     "name": "stdout",
     "output_type": "stream",
     "text": [
      "{'cohort': 'ppmi', 'tissue': 'wb', 'months': [0, 6, 12, 24, 36], 'term': 'Basophils'}\n",
      "/home/jupyter/notebooks/ppmi/pm_gend_nbs/ppmi_Basophils_compare_visit_ieqtl.ipynb\n"
     ]
    },
    {
     "data": {
      "application/vnd.jupyter.widget-view+json": {
       "model_id": "43e0f51052e44232b3351a3d5e5e4f11",
       "version_major": 2,
       "version_minor": 0
      },
      "text/plain": [
       "Executing:   0%|          | 0/49 [00:00<?, ?cell/s]"
      ]
     },
     "metadata": {},
     "output_type": "display_data"
    },
    {
     "name": "stdout",
     "output_type": "stream",
     "text": [
      "{'cohort': 'ppmi', 'tissue': 'wb', 'months': [0, 6, 12, 24, 36], 'term': 'Eosinophils'}\n",
      "/home/jupyter/notebooks/ppmi/pm_gend_nbs/ppmi_Eosinophils_compare_visit_ieqtl.ipynb\n"
     ]
    },
    {
     "data": {
      "application/vnd.jupyter.widget-view+json": {
       "model_id": "796611fdec1743618981d9c1ddbd6bcd",
       "version_major": 2,
       "version_minor": 0
      },
      "text/plain": [
       "Executing:   0%|          | 0/49 [00:00<?, ?cell/s]"
      ]
     },
     "metadata": {},
     "output_type": "display_data"
    },
    {
     "name": "stdout",
     "output_type": "stream",
     "text": [
      "{'cohort': 'ppmi', 'tissue': 'wb', 'months': [0, 6, 12, 24, 36], 'term': 'Lymphocytes'}\n",
      "/home/jupyter/notebooks/ppmi/pm_gend_nbs/ppmi_Lymphocytes_compare_visit_ieqtl.ipynb\n"
     ]
    },
    {
     "data": {
      "application/vnd.jupyter.widget-view+json": {
       "model_id": "8e7aa82437a042dbb2c85a972cbba72a",
       "version_major": 2,
       "version_minor": 0
      },
      "text/plain": [
       "Executing:   0%|          | 0/49 [00:00<?, ?cell/s]"
      ]
     },
     "metadata": {},
     "output_type": "display_data"
    },
    {
     "name": "stdout",
     "output_type": "stream",
     "text": [
      "{'cohort': 'ppmi', 'tissue': 'wb', 'months': [0, 6, 12, 24, 36], 'term': 'Monocytes'}\n",
      "/home/jupyter/notebooks/ppmi/pm_gend_nbs/ppmi_Monocytes_compare_visit_ieqtl.ipynb\n"
     ]
    },
    {
     "data": {
      "application/vnd.jupyter.widget-view+json": {
       "model_id": "485d09b0f1104c86a0b758b6c9d67b6c",
       "version_major": 2,
       "version_minor": 0
      },
      "text/plain": [
       "Executing:   0%|          | 0/49 [00:00<?, ?cell/s]"
      ]
     },
     "metadata": {},
     "output_type": "display_data"
    },
    {
     "name": "stdout",
     "output_type": "stream",
     "text": [
      "{'cohort': 'ppmi', 'tissue': 'wb', 'months': [0, 6, 12, 24, 36], 'term': 'Neutrophils'}\n",
      "/home/jupyter/notebooks/ppmi/pm_gend_nbs/ppmi_Neutrophils_compare_visit_ieqtl.ipynb\n"
     ]
    },
    {
     "data": {
      "application/vnd.jupyter.widget-view+json": {
       "model_id": "f40ae6a0c3c844cfad4ababe00496f9a",
       "version_major": 2,
       "version_minor": 0
      },
      "text/plain": [
       "Executing:   0%|          | 0/49 [00:00<?, ?cell/s]"
      ]
     },
     "metadata": {},
     "output_type": "display_data"
    },
    {
     "name": "stdout",
     "output_type": "stream",
     "text": [
      "CPU times: user 44.3 s, sys: 1.53 s, total: 45.8 s\n",
      "Wall time: 52min 48s\n"
     ]
    }
   ],
   "source": [
    "%%time\n",
    "\n",
    "for cohort in cohorts:\n",
    "    out_nb_dir = f'/home/jupyter/notebooks/{cohort}/pm_gend_nbs'\n",
    "    # make sure the notebook output dir exists\n",
    "    os.makedirs(out_nb_dir, exist_ok=True)\n",
    "    wrk_dir = f'/home/jupyter/{cohort}'\n",
    "    for term in terms:\n",
    "        visits = []\n",
    "        for month in months:\n",
    "            # before running prep notebook make results exist for the cohort and visit\n",
    "            results_file = f'{wrk_dir}/results/{cohort}.{tissue}{month}.{term}.cis_qtl_top_assoc.txt.gz'\n",
    "            if os.path.isfile(results_file):\n",
    "                visits.append(month)\n",
    "        if len(visits) > 1:            \n",
    "            param_dict = {'cohort': cohort, 'tissue': tissue, 'months': visits, 'term': term}\n",
    "            out_notebook = f'{out_nb_dir}/{cohort}_{term}_compare_visit_ieqtl.ipynb'\n",
    "            print(param_dict)\n",
    "            print(out_notebook)\n",
    "            pm.execute_notebook(input_path=base_notebook, output_path=out_notebook, \n",
    "                                parameters=param_dict)"
   ]
  },
  {
   "cell_type": "code",
   "execution_count": null,
   "metadata": {},
   "outputs": [],
   "source": []
  }
 ],
 "metadata": {
  "environment": {
   "name": "pytorch-gpu.1-8.m65",
   "type": "gcloud",
   "uri": "gcr.io/deeplearning-platform-release/pytorch-gpu.1-8:m65"
  },
  "kernelspec": {
   "display_name": "Python 3",
   "language": "python",
   "name": "python3"
  },
  "language_info": {
   "codemirror_mode": {
    "name": "ipython",
    "version": 3
   },
   "file_extension": ".py",
   "mimetype": "text/x-python",
   "name": "python",
   "nbconvert_exporter": "python",
   "pygments_lexer": "ipython3",
   "version": "3.7.10"
  }
 },
 "nbformat": 4,
 "nbformat_minor": 4
}
