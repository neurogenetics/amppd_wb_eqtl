{
 "cells": [
  {
   "cell_type": "markdown",
   "metadata": {},
   "source": [
    "## Notebook that pulls together known subject and sample covariates cleans up as neccessary and writes to single file "
   ]
  },
  {
   "cell_type": "code",
   "execution_count": null,
   "metadata": {},
   "outputs": [],
   "source": [
    "!date"
   ]
  },
  {
   "cell_type": "markdown",
   "metadata": {},
   "source": [
    "#### import libraries and set notebook variables"
   ]
  },
  {
   "cell_type": "code",
   "execution_count": null,
   "metadata": {},
   "outputs": [],
   "source": [
    "import pandas as pd\n",
    "import ppscore as pps\n",
    "import seaborn as sns\n",
    "import matplotlib.pyplot as plt\n",
    "import warnings"
   ]
  },
  {
   "cell_type": "code",
   "execution_count": null,
   "metadata": {
    "tags": [
     "parameters"
    ]
   },
   "outputs": [],
   "source": [
    "# parameter variables\n",
    "cohort = 'pdbp'\n",
    "cohort_abrv = 'PD'"
   ]
  },
  {
   "cell_type": "code",
   "execution_count": null,
   "metadata": {},
   "outputs": [],
   "source": [
    "# directories \n",
    "home_dir = '/home/jupyter'\n",
    "wrk_dir = f'{home_dir}/{cohort}'\n",
    "info_dir = f'{wrk_dir}/sample_info'\n",
    "\n",
    "# input files\n",
    "samples_covs_files = f'{home_dir}/amppd/sample_info/amppd_rna_sample_info.csv'\n",
    "genos_pca_file = f'{info_dir}/{cohort}.freeze9.pca.eigenvec'\n",
    "\n",
    "# output files\n",
    "assay_covs_files = f'{info_dir}/{cohort}_rna_sample_info.csv'\n",
    "\n",
    "# constants\n",
    "max_cov_missing_rate = 0.5"
   ]
  },
  {
   "cell_type": "markdown",
   "metadata": {},
   "source": [
    "#### load sample info"
   ]
  },
  {
   "cell_type": "code",
   "execution_count": null,
   "metadata": {},
   "outputs": [],
   "source": [
    "info_df = pd.read_csv(samples_covs_files, index_col=0)\n",
    "# subj_info['wgsid'] = subj_info['participant_id']\n",
    "# subj_info['participant_id'] = subj_info['participant_id'].str.replace('PP-', 'PPMI')\n",
    "\n",
    "# subset to just this cohort\n",
    "info_df = info_df.loc[info_df['cohort'] == cohort_abrv]\n",
    "print(info_df.shape)\n",
    "print(info_df['cohort'].value_counts())\n",
    "print(info_df['visit'].value_counts())\n",
    "# display(info_df.head())"
   ]
  },
  {
   "cell_type": "markdown",
   "metadata": {},
   "source": [
    "#### load and merge in the genetics PCs"
   ]
  },
  {
   "cell_type": "code",
   "execution_count": null,
   "metadata": {},
   "outputs": [],
   "source": [
    "genetic_components_df = pd.read_csv(genos_pca_file, sep='\\s+', index_col=1)\n",
    "genetic_components_df.drop(columns=['#FID'], inplace=True)\n",
    "print(genetic_components_df.shape)\n",
    "\n",
    "# merge genetics PCs with other info\n",
    "info_df = info_df.merge(genetic_components_df, how='left', left_on='wgsid', right_index=True)\n",
    "print(info_df.shape)\n",
    "display(info_df.head())"
   ]
  },
  {
   "cell_type": "code",
   "execution_count": null,
   "metadata": {},
   "outputs": [],
   "source": [
    "info_df.columns"
   ]
  },
  {
   "cell_type": "markdown",
   "metadata": {},
   "source": [
    "#### check the dtypes and fix as neccessary"
   ]
  },
  {
   "cell_type": "code",
   "execution_count": null,
   "metadata": {},
   "outputs": [],
   "source": [
    "pd.set_option('display.max_rows', None)\n",
    "# display(info_df.dtypes)\n",
    "display(info_df.info())\n",
    "pd.reset_option('display.max_rows')"
   ]
  },
  {
   "cell_type": "markdown",
   "metadata": {},
   "source": [
    "#### not every expression file has WGS so may not have genetic PCS, fill mean\n",
    "all the other covariates have already had missing filled\n",
    "fill PCs with means"
   ]
  },
  {
   "cell_type": "code",
   "execution_count": null,
   "metadata": {},
   "outputs": [],
   "source": [
    "for col_name in genetic_components_df.columns:\n",
    "    info_df[col_name].fillna(info_df[col_name].mean(), inplace=True)\n",
    "print(info_df.shape)"
   ]
  },
  {
   "cell_type": "code",
   "execution_count": null,
   "metadata": {},
   "outputs": [],
   "source": [
    "pd.set_option('display.max_rows', None)\n",
    "# display(info_df.dtypes)\n",
    "display(info_df.info())\n",
    "pd.reset_option('display.max_rows')"
   ]
  },
  {
   "cell_type": "markdown",
   "metadata": {},
   "source": [
    "#### get rid of the columns that have single values or a lot missingness"
   ]
  },
  {
   "cell_type": "code",
   "execution_count": null,
   "metadata": {},
   "outputs": [],
   "source": [
    "cols_to_drop = []\n",
    "for this_col in info_df.columns:\n",
    "    drop_col = False\n",
    "    try:\n",
    "        percent_miss = info_df[this_col].isna().sum()/info_df.shape[0]\n",
    "        if percent_miss > max_cov_missing_rate:\n",
    "            drop_col = True\n",
    "        else:\n",
    "            total_unique = len(info_df[this_col].unique())\n",
    "            if total_unique == 1 or (total_unique == info_df.shape[0] \n",
    "                                     and info_df[this_col].dtype == 'object'):\n",
    "                drop_col = True\n",
    "    except:\n",
    "        drop_col = True\n",
    "\n",
    "    if drop_col:\n",
    "        cols_to_drop.append(this_col)\n",
    "\n",
    "        \n",
    "print(cols_to_drop)"
   ]
  },
  {
   "cell_type": "code",
   "execution_count": null,
   "metadata": {},
   "outputs": [],
   "source": [
    "info_df['visit_month'].value_counts()"
   ]
  },
  {
   "cell_type": "code",
   "execution_count": null,
   "metadata": {},
   "outputs": [],
   "source": [
    "# have to keep visit, biofind only has one visit so manually intervene\n",
    "if 'visit' in cols_to_drop: cols_to_drop.remove('visit')\n",
    "if 'wgsid' in cols_to_drop: cols_to_drop.remove('wgsid')"
   ]
  },
  {
   "cell_type": "code",
   "execution_count": null,
   "metadata": {},
   "outputs": [],
   "source": [
    "# see if sample without WGS is still there, ie won't have genetic PCs computed\n",
    "info_df.loc[info_df['wgsid'].isna()]"
   ]
  },
  {
   "cell_type": "markdown",
   "metadata": {},
   "source": [
    "#### if those columns look useless drop"
   ]
  },
  {
   "cell_type": "code",
   "execution_count": null,
   "metadata": {},
   "outputs": [],
   "source": [
    "info_df.drop(columns=cols_to_drop, inplace=True)\n",
    "print(info_df.shape)"
   ]
  },
  {
   "cell_type": "markdown",
   "metadata": {},
   "source": [
    "#### save the complete covariates file"
   ]
  },
  {
   "cell_type": "code",
   "execution_count": null,
   "metadata": {},
   "outputs": [],
   "source": [
    "info_df.to_csv(assay_covs_files)"
   ]
  },
  {
   "cell_type": "markdown",
   "metadata": {},
   "source": [
    "#### take a look to see how corrlated or predictive covariates are and visualize"
   ]
  },
  {
   "cell_type": "code",
   "execution_count": null,
   "metadata": {},
   "outputs": [],
   "source": [
    "matrix_df = pps.matrix(info_df)\n",
    "matrix_df = matrix_df.loc[matrix_df['ppscore'] > 0]\n",
    "print(matrix_df.shape)\n",
    "\n",
    "matrix_df['ppscore'] = matrix_df['ppscore'].round(2)\n",
    "plot_matrix_df = matrix_df[['x', 'y', 'ppscore']].pivot(columns='x', index='y', values='ppscore')\n",
    "print(plot_matrix_df.shape)\n",
    "display(plot_matrix_df)"
   ]
  },
  {
   "cell_type": "code",
   "execution_count": null,
   "metadata": {},
   "outputs": [],
   "source": [
    "plt.figure(figsize=(20,20)) \n",
    "sns.heatmap(plot_matrix_df, vmin=0, vmax=1, cmap=\"Blues\", linewidths=0.05, \n",
    "            annot=True, annot_kws={\"fontsize\":10})\n",
    "plt.show()"
   ]
  },
  {
   "cell_type": "code",
   "execution_count": null,
   "metadata": {},
   "outputs": [],
   "source": []
  }
 ],
 "metadata": {
  "environment": {
   "name": "pytorch-gpu.1-8.m65",
   "type": "gcloud",
   "uri": "gcr.io/deeplearning-platform-release/pytorch-gpu.1-8:m65"
  },
  "kernelspec": {
   "display_name": "Python 3",
   "language": "python",
   "name": "python3"
  },
  "language_info": {
   "codemirror_mode": {
    "name": "ipython",
    "version": 3
   },
   "file_extension": ".py",
   "mimetype": "text/x-python",
   "name": "python",
   "nbconvert_exporter": "python",
   "pygments_lexer": "ipython3",
   "version": "3.7.10"
  },
  "widgets": {
   "application/vnd.jupyter.widget-state+json": {
    "state": {},
    "version_major": 2,
    "version_minor": 0
   }
  }
 },
 "nbformat": 4,
 "nbformat_minor": 4
}
