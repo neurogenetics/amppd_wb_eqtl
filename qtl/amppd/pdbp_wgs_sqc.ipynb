{
 "cells": [
  {
   "cell_type": "markdown",
   "metadata": {},
   "source": [
    "## Notebook for sample QC of WGS sample cohort"
   ]
  },
  {
   "cell_type": "markdown",
   "metadata": {},
   "source": [
    "#### library imports and global variables"
   ]
  },
  {
   "cell_type": "code",
   "execution_count": 1,
   "metadata": {},
   "outputs": [],
   "source": [
    "# import libraries\n",
    "import threading\n",
    "import pandas as pd\n",
    "import dask.dataframe as dd\n",
    "import os\n",
    "from umap import UMAP\n",
    "import matplotlib.pyplot as plt\n",
    "import seaborn as sns"
   ]
  },
  {
   "cell_type": "code",
   "execution_count": 2,
   "metadata": {},
   "outputs": [],
   "source": [
    "# global notebook variables for both python and bash magic (by stdin arguments)\n",
    "cohort = 'pdbp'\n",
    "build = 'freeze9'\n",
    "cohort_build = f'{cohort}.{build}'\n",
    "amppd_version = 'amppdv1'\n",
    "\n",
    "# directories\n",
    "wrk_dir = '/labshare/raph/datasets/amppd'\n",
    "genos_dir = f'{wrk_dir}/genotypes'\n",
    "qc_dir = f'{wrk_dir}/qc'\n",
    "eqtl_geno_dir = f'/labshare/raph/eqtl/{cohort}/genotypes'\n",
    "eqtl_info_dir = f'/labshare/raph/eqtl/{cohort}/sample_info'\n",
    "\n",
    "# out file\n",
    "qc_bfile_set = f'{qc_dir}/{cohort_build}.geno05maf05hwe000001'\n",
    "sqc_excludes_file = f'{qc_dir}/{cohort_build}.excludes.txt'\n",
    "sample_info_file = f'{eqtl_info_dir}/{cohort_build}.sample_info.txt'\n",
    "\n",
    "\n",
    "# constants\n",
    "autosomes = [str(x) for x in list(range(1,23))]\n",
    "sexomes = ['X']\n",
    "chromosomes = autosomes + sexomes\n",
    "MAX_MISSING = 0.05\n",
    "MIN_FREQ = 0.05\n",
    "MIN_HWE_P = 0.000001\n",
    "hg38_chrX_PAREND = 2800000\n",
    "hg38_chrX_PARSTART = 155700000"
   ]
  },
  {
   "cell_type": "markdown",
   "metadata": {},
   "source": [
    "#### threading related functions"
   ]
  },
  {
   "cell_type": "code",
   "execution_count": 3,
   "metadata": {},
   "outputs": [],
   "source": [
    "#### threading related function\n",
    "\n",
    "# run command line procsss with bash majic\n",
    "# make this a small function so it can be target function for threading\n",
    "def run_bash_cmd(this_cmd):\n",
    "    !{this_cmd}\n",
    "\n",
    "# for each bash command is list add to execution thread, join and wait til all done\n",
    "def run_bash_cmds_threaded(cmd_list):\n",
    "    job_threads = []\n",
    "    for this_cmd in cmd_list:\n",
    "        this_thread = threading.Thread(target=run_bash_cmd, args=(this_cmd,))\n",
    "        job_threads.append(this_thread)\n",
    "        this_thread.start()\n",
    "\n",
    "    for job_thread in job_threads:\n",
    "        job_thread.join()          "
   ]
  },
  {
   "cell_type": "markdown",
   "metadata": {},
   "source": [
    "### run typical QC checks"
   ]
  },
  {
   "cell_type": "markdown",
   "metadata": {},
   "source": [
    "#### create output directories"
   ]
  },
  {
   "cell_type": "code",
   "execution_count": 4,
   "metadata": {},
   "outputs": [],
   "source": [
    "os.makedirs(qc_dir, exist_ok=True)\n",
    "os.makedirs(eqtl_geno_dir, exist_ok=True)\n",
    "os.makedirs(eqtl_info_dir, exist_ok=True)"
   ]
  },
  {
   "cell_type": "markdown",
   "metadata": {},
   "source": [
    "#### subset genotypes to well behaved variants for running typical sample QC"
   ]
  },
  {
   "cell_type": "code",
   "execution_count": 5,
   "metadata": {},
   "outputs": [],
   "source": [
    "# %%time\n",
    "# # since the plink bim file does handle multi-allelics need to find and create\n",
    "# # exclude list for if bfiles need\n",
    "\n",
    "# def find_pvar_multiallelics(pvar_file, outfile):\n",
    "#     pvar_dd = dd.read_csv(pvar_file, header=None, sep='\\s+', comment='#',\n",
    "#                           usecols=[0, 2, 4],\n",
    "#                           dtype={0: 'string', 2: 'string', 4: 'string'})\n",
    "\n",
    "#     # see if ALT allele(s) column contains commas\n",
    "#     multiallelics = pvar_dd.loc[pvar_dd[4].str.contains(',')]\n",
    "#     # save to variant IDs for the multiallelics\n",
    "#     multiallelics[2].compute().to_csv(outfile, header=False, index=False)\n",
    "\n",
    "# job_threads = []\n",
    "# for chrom in chromosomes:\n",
    "#     this_thread = threading.Thread(target=find_pvar_multiallelics, \n",
    "#                                    args=(f'{genos_dir}/{cohort_build}.chr{chrom}.pvar',\n",
    "#                                          f'{qc_dir}/{cohort_build}.chr{chrom}.multiallelics.list'))\n",
    "#     job_threads.append(this_thread)\n",
    "#     this_thread.start()\n",
    "\n",
    "# for job_thread in job_threads:\n",
    "#     job_thread.join()              "
   ]
  },
  {
   "cell_type": "code",
   "execution_count": 6,
   "metadata": {},
   "outputs": [],
   "source": [
    "# filter the pfiles qc checks\n",
    "\n",
    "# small function to format plink command for subsetting to \n",
    "# well behaved variants (wbv)\n",
    "def frmt_wbv_subset(chrom, in_dir, out_dir, name):\n",
    "    in_set = f'{in_dir}/{name}.chr{chrom}'\n",
    "    out_set = f'{out_dir}/{name}.chr{chrom}.geno05maf05hwe000001'\n",
    "#     multiallelics_file = f'{out_dir}/{name}.chr{chrom}.multiallelics.list'\n",
    "    hwe_filter = f'--hwe {MIN_HWE_P}'\n",
    "    # if chrom X or Y don't filter on hardy-weinber\n",
    "    if (chrom == 'X') or (chrom == 'Y'):\n",
    "        hwe_filter = '' \n",
    "#     this_cmd = f'plink2 --pfile {in_set} --geno {MAX_MISSING} --maf {MIN_FREQ} \\\n",
    "# {hwe_filter} --silent --exclude {multiallelics_file} --make-bed --out {out_set}'\n",
    "    this_cmd = f'plink2 --pfile {in_set} --geno {MAX_MISSING} --maf {MIN_FREQ} \\\n",
    "{hwe_filter} --silent --make-bed --out {out_set}'\n",
    "    return this_cmd\n",
    "\n",
    "cmd_list = [frmt_wbv_subset(chrom, genos_dir, qc_dir, cohort_build)\n",
    "            for chrom in chromosomes]"
   ]
  },
  {
   "cell_type": "code",
   "execution_count": 8,
   "metadata": {},
   "outputs": [
    {
     "name": "stdout",
     "output_type": "stream",
     "text": [
      "CPU times: user 30.5 s, sys: 12.1 s, total: 42.7 s\n",
      "Wall time: 1min 34s\n"
     ]
    }
   ],
   "source": [
    "%%time\n",
    "# execute the command list, threaded\n",
    "# print(cmd_list)\n",
    "run_bash_cmds_threaded(cmd_list)"
   ]
  },
  {
   "cell_type": "code",
   "execution_count": 9,
   "metadata": {},
   "outputs": [
    {
     "name": "stdout",
     "output_type": "stream",
     "text": [
      "23\n"
     ]
    }
   ],
   "source": [
    "# check the files generated\n",
    "!ls {qc_dir}/{cohort_build}.chr*.geno05maf05hwe000001.bed | wc -l"
   ]
  },
  {
   "cell_type": "markdown",
   "metadata": {},
   "source": [
    "#### merge per chromosome QC variants into single fileset"
   ]
  },
  {
   "cell_type": "code",
   "execution_count": 10,
   "metadata": {},
   "outputs": [
    {
     "name": "stdout",
     "output_type": "stream",
     "text": [
      "Error: 13 variants with 3+ alleles present.\n",
      "* If you believe this is due to strand inconsistency, try --flip with\n",
      "  /labshare/raph/datasets/amppd/qc/pdbp.freeze9.geno05maf05hwe000001-merge.missnp.\n",
      "  (Warning: if this seems to work, strand errors involving SNPs with A/T or C/G\n",
      "  alleles probably remain in your data.  If LD between nearby SNPs is high,\n",
      "  --flip-scan should detect them.)\n",
      "* If you are dealing with genuine multiallelic variants, we recommend exporting\n",
      "  that subset of the data to VCF (via e.g. '--recode vcf'), merging with\n",
      "  another tool/script, and then importing the result; PLINK is not yet suited\n",
      "  to handling them.\n",
      "Warning: 3478584 het. haploid genotypes present (see\n",
      "/labshare/raph/datasets/amppd/qc/pdbp.freeze9.chrX.geno05maf05hwe000001.temp.hh\n",
      "); many commands treat these as missing.\n",
      "Warning: Variants 'rs7554766' and 'rs139584474' have the same position.\n",
      "Warning: Variants 'rs79602225' and 'rs36027939' have the same position.\n",
      "Warning: Variants 'rs60788477' and 'rs377741195' have the same position.\n",
      "738 more same-position warnings: see log file.\n",
      "Warning: 3478584 het. haploid genotypes present (see\n",
      "/labshare/raph/datasets/amppd/qc/pdbp.freeze9.geno05maf05hwe000001.hh ); many\n",
      "commands treat these as missing.\n",
      "CPU times: user 3.97 s, sys: 1.02 s, total: 4.99 s\n",
      "Wall time: 2min 45s\n"
     ]
    }
   ],
   "source": [
    "%%time\n",
    "# merge the files into a single plink binary set\n",
    "merge_file_set = f'{qc_dir}/merge-list.txt'\n",
    "\n",
    "with open(merge_file_set, 'w') as file_handler:\n",
    "    for chrom in chromosomes:\n",
    "        chrom_file_set = f'{qc_dir}/{cohort_build}.chr{chrom}.geno05maf05hwe000001'\n",
    "        file_handler.write(f'{chrom_file_set}\\n')\n",
    "\n",
    "# merge the per chrom bfiles into a genome bfile\n",
    "!plink --merge-list {merge_file_set} --make-bed --allow-no-sex \\\n",
    "--silent --out {qc_bfile_set}\n",
    "\n",
    "# if there was a missnp problem remove those variant and re-attemp merge\n",
    "if os.path.exists(f'{qc_bfile_set}-merge.missnp'):\n",
    "    for chrom in chromosomes:\n",
    "        !plink --bfile {qc_dir}/{cohort_build}.chr{chrom}.geno05maf05hwe000001 \\\n",
    "--silent --exclude {qc_bfile_set}-merge.missnp \\\n",
    "--make-bed --out {qc_dir}/{cohort_build}.chr{chrom}.geno05maf05hwe000001.temp\n",
    "\n",
    "    with open(merge_file_set, 'w') as file_handler:\n",
    "        for chrom in chromosomes:\n",
    "            chrom_file_set = f'{qc_dir}/{cohort_build}.chr{chrom}.geno05maf05hwe000001.temp'\n",
    "            file_handler.write(f'{chrom_file_set}\\n')\n",
    "        \n",
    "    !plink --merge-list {merge_file_set} --make-bed --allow-no-sex \\\n",
    "--silent --out {qc_bfile_set}"
   ]
  },
  {
   "cell_type": "code",
   "execution_count": 11,
   "metadata": {},
   "outputs": [
    {
     "name": "stdout",
     "output_type": "stream",
     "text": [
      "-rw-rw-r--. 1 gibbsr gibbsr 2.2G Aug 31 23:58 /labshare/raph/datasets/amppd/qc/pdbp.freeze9.geno05maf05hwe000001.bed\n",
      "-rw-rw-r--. 1 gibbsr gibbsr 167M Aug 31 23:58 /labshare/raph/datasets/amppd/qc/pdbp.freeze9.geno05maf05hwe000001.bim\n",
      "-rw-rw-r--. 1 gibbsr gibbsr  54K Aug 31 23:58 /labshare/raph/datasets/amppd/qc/pdbp.freeze9.geno05maf05hwe000001.fam\n",
      "-rw-rw-r--. 1 gibbsr gibbsr 130M Aug 31 23:58 /labshare/raph/datasets/amppd/qc/pdbp.freeze9.geno05maf05hwe000001.hh\n",
      "-rw-rw-r--. 1 gibbsr gibbsr  54K Aug 31 23:58 /labshare/raph/datasets/amppd/qc/pdbp.freeze9.geno05maf05hwe000001.log\n"
     ]
    }
   ],
   "source": [
    "# check the files generated\n",
    "!ls -lh {qc_bfile_set}.*"
   ]
  },
  {
   "cell_type": "code",
   "execution_count": 13,
   "metadata": {},
   "outputs": [
    {
     "name": "stdout",
     "output_type": "stream",
     "text": [
      "PLINK v1.90b5.4 64-bit (10 Apr 2018)\n",
      "Options in effect:\n",
      "  --allow-no-sex\n",
      "  --make-bed\n",
      "  --merge-list /labshare/raph/datasets/amppd/qc/merge-list.txt\n",
      "  --out /labshare/raph/datasets/amppd/qc/pdbp.freeze9.geno05maf05hwe000001\n",
      "  --silent\n",
      "\n",
      "Hostname: lngnode6\n",
      "Working directory: /labshare/raph/notebooks/expression/amppd\n",
      "/labshare/raph/datasets/amppd/qc/pdbp.freeze9.geno05maf05hwe000001-merge.bed +\n",
      "/labshare/raph/datasets/amppd/qc/pdbp.freeze9.geno05maf05hwe000001-merge.bim +\n",
      "/labshare/raph/datasets/amppd/qc/pdbp.freeze9.geno05maf05hwe000001-merge.fam .\n",
      "6189816 variants loaded from .bim file.\n",
      "1469 people (829 males, 640 females) loaded from .fam.\n",
      "Using 1 thread (no multithreaded calculations invoked).\n",
      "Before main variant filters, 1469 founders and 0 nonfounders present.\n",
      "Calculating allele frequencies... done.\n",
      "Warning: 3478584 het. haploid genotypes present (see\n",
      "/labshare/raph/datasets/amppd/qc/pdbp.freeze9.geno05maf05hwe000001.hh ); many\n",
      "commands treat these as missing.\n",
      "6189816 variants and 1469 people pass filters and QC.\n",
      "Note: No phenotypes present.\n",
      "--make-bed to\n",
      "/labshare/raph/datasets/amppd/qc/pdbp.freeze9.geno05maf05hwe000001.bed +\n",
      "/labshare/raph/datasets/amppd/qc/pdbp.freeze9.geno05maf05hwe000001.bim +\n",
      "/labshare/raph/datasets/amppd/qc/pdbp.freeze9.geno05maf05hwe000001.fam ...\n",
      "done.\n",
      "\n",
      "End time: Mon Aug 31 23:58:46 2020\n"
     ]
    }
   ],
   "source": [
    "# check the files generated\n",
    "!head -n 10 {qc_bfile_set}.log\n",
    "!tail -n 20 {qc_bfile_set}.log"
   ]
  },
  {
   "cell_type": "markdown",
   "metadata": {},
   "source": [
    "#### run sexcheck"
   ]
  },
  {
   "cell_type": "code",
   "execution_count": 14,
   "metadata": {},
   "outputs": [
    {
     "name": "stdout",
     "output_type": "stream",
     "text": [
      "Warning: 277914 het. haploid genotypes present (see\n",
      "/labshare/raph/datasets/amppd/qc/pdbp.freeze9.sex.hh ); many commands treat\n",
      "these as missing.\n"
     ]
    }
   ],
   "source": [
    "# check sexcheck\n",
    "# hg38 non-PAR\n",
    "bim_df = pd.read_csv(f'{qc_dir}/{cohort_build}.chrX.geno05maf05hwe000001.bim',\n",
    "                     header=None, sep='\\s+')\n",
    "\n",
    "nonpar_bim_df = bim_df.loc[(bim_df[3] > hg38_chrX_PAREND) &\n",
    "                          (bim_df[3] < hg38_chrX_PARSTART)]\n",
    "\n",
    "# save just the variant names to a list file\n",
    "nonpar_bim_df[1].to_csv(f'{qc_dir}/{cohort_build}.chrX.list',\n",
    "                        header=False, index=False, sep='\\t')\n",
    "\n",
    "# now run sex-check\n",
    "!plink --bfile {qc_bfile_set} \\\n",
    "--extract {qc_dir}/{cohort_build}.chrX.list \\\n",
    "--check-sex 0.25 0.75 --silent --out {qc_dir}/{cohort_build}.sex"
   ]
  },
  {
   "cell_type": "markdown",
   "metadata": {},
   "source": [
    "#### check missingness and het rates"
   ]
  },
  {
   "cell_type": "code",
   "execution_count": 15,
   "metadata": {},
   "outputs": [],
   "source": [
    "# check missingness\n",
    "!plink2 --bfile {qc_bfile_set} --missing \\\n",
    "--autosome --silent --out {qc_dir}/{cohort_build}.missing\n",
    "\n",
    "!plink --bfile {qc_bfile_set} --het --autosome \\\n",
    "--silent --out {qc_dir}/{cohort_build}.het"
   ]
  },
  {
   "cell_type": "markdown",
   "metadata": {},
   "source": [
    "#### check for relatedness, including duplicates"
   ]
  },
  {
   "cell_type": "code",
   "execution_count": 16,
   "metadata": {},
   "outputs": [
    {
     "name": "stdout",
     "output_type": "stream",
     "text": [
      "king --related -b /labshare/raph/datasets/amppd/qc/pdbp.freeze9.geno05maf05hwe000001.bed --cpus $(nproc) --degree 2 --prefix /labshare/raph/datasets/amppd/qc/pdbp.freeze9.king.related > /labshare/raph/datasets/amppd/qc/pdbp.freeze9.king.related.log\n",
      "CPU times: user 973 ms, sys: 185 ms, total: 1.16 s\n",
      "Wall time: 40 s\n"
     ]
    }
   ],
   "source": [
    "%%time\n",
    "king_related_cmd = f'king --related -b {qc_bfile_set}.bed \\\n",
    "--cpus $(nproc) --degree 2 --prefix {qc_dir}/{cohort_build}.king.related \\\n",
    "> {qc_dir}/{cohort_build}.king.related.log'\n",
    "\n",
    "print(king_related_cmd)\n",
    "!{king_related_cmd}\n",
    "\n",
    "# if larger cohort then switch to running nohup in background\n",
    "# print('#run these commands at terminal:\\n')\n",
    "# print(f'nohup {king_related_cmd} &')"
   ]
  },
  {
   "cell_type": "code",
   "execution_count": 17,
   "metadata": {},
   "outputs": [
    {
     "name": "stdout",
     "output_type": "stream",
     "text": [
      "Relationship inference across families starts at Tue Sep  1 00:01:52 2020\n",
      "24 CPU cores are used...\n",
      "  Stages 1&2 (with 32768 SNPs): 17 pairs of relatives are detected (with kinship > 0.0625)\n",
      "                               Screening ends at Tue Sep  1 00:01:53 2020\n",
      "  Final Stage (with 5999517 SNPs): 16 pairs of relatives (up to 2nd-degree) are confirmed\n",
      "                               Inference ends at Tue Sep  1 00:01:53 2020\n",
      "\n",
      "Relationship summary (total relatives: 0 by pedigree, 16 by inference)\n",
      "        \tMZ\tPO\tFS\t2nd\n",
      "  =====================================================\n",
      "  Inference\t0\t7\t6\t3\n",
      "\n",
      "\n",
      "Between-family relatives (kinship >= 0.08839) saved in file /labshare/raph/datasets/amppd/qc/pdbp.freeze9.king.related.kin0\n",
      "  X-Chr IBD-sharing inference saved in file /labshare/raph/datasets/amppd/qc/pdbp.freeze9.king.relatedX.kin0\n",
      "KING ends at Tue Sep  1 00:01:53 2020\n"
     ]
    }
   ],
   "source": [
    "!tail -n 16 {qc_dir}/{cohort_build}.king.related.log"
   ]
  },
  {
   "cell_type": "markdown",
   "metadata": {},
   "source": [
    "#### for the duplicates see which ones also failed sexcheck, ie clues how to correctly resolve duplicates"
   ]
  },
  {
   "cell_type": "code",
   "execution_count": 19,
   "metadata": {},
   "outputs": [
    {
     "name": "stdout",
     "output_type": "stream",
     "text": [
      "number of related pairs\n",
      "(16, 14)\n",
      "PO     7\n",
      "FS     6\n",
      "2nd    3\n",
      "Name: InfType, dtype: int64\n",
      "\n",
      "just the Dup/MZ\n",
      "(0, 14)\n",
      "Series([], Name: InfType, dtype: int64)\n",
      "\n",
      "number of samples in that failed sexcheck and also a duplicate\n",
      "0\n"
     ]
    }
   ],
   "source": [
    "# get the sex problems\n",
    "sexcheck_file = f'{qc_dir}/{cohort_build}.sex.sexcheck'\n",
    "sexcheck = pd.read_csv(sexcheck_file,sep='\\s+')\n",
    "sexmismatch = sexcheck.loc[~(sexcheck['PEDSEX'] == 0) &\n",
    "                           (sexcheck['STATUS'] == 'PROBLEM')]\n",
    "\n",
    "# get the duplicates\n",
    "relateds_file = f'{qc_dir}/{cohort_build}.king.related.kin0'\n",
    "rels_df = pd.read_csv(relateds_file,sep='\\s+')\n",
    "print('number of related pairs')\n",
    "print(rels_df.shape)\n",
    "\n",
    "print(rels_df['InfType'].value_counts())\n",
    "\n",
    "# subset just the dups\n",
    "dups_df = rels_df.loc[rels_df['InfType'] == 'Dup/MZ']\n",
    "\n",
    "print('\\njust the Dup/MZ')\n",
    "print(dups_df.shape)\n",
    "print(dups_df['InfType'].value_counts())\n",
    "\n",
    "print('\\nnumber of samples in that failed sexcheck and also a duplicate')\n",
    "print(len(set(sexmismatch['IID']) &\n",
    "          (set(rels_df['ID1']) |\n",
    "           set(rels_df['ID2']))))"
   ]
  },
  {
   "cell_type": "markdown",
   "metadata": {},
   "source": [
    "#### check the sample ancestries making use of 1KG data"
   ]
  },
  {
   "cell_type": "code",
   "execution_count": 20,
   "metadata": {},
   "outputs": [
    {
     "name": "stdout",
     "output_type": "stream",
     "text": [
      "-rw-rw-r--. 1 gibbsr gibbsr 1.3K Sep  1 00:06 /labshare/raph/datasets/amppd/qc/onekg.good.geno05maf05hwe000001.log\n",
      "-rw-rw-r--. 1 gibbsr gibbsr  60K Sep  1 00:06 /labshare/raph/datasets/amppd/qc/onekg.good.geno05maf05hwe000001.fam\n",
      "-rw-rw-r--. 1 gibbsr gibbsr 145M Sep  1 00:06 /labshare/raph/datasets/amppd/qc/onekg.good.geno05maf05hwe000001.bim\n",
      "-rw-rw-r--. 1 gibbsr gibbsr 3.1G Sep  1 00:07 /labshare/raph/datasets/amppd/qc/onekg.good.geno05maf05hwe000001.bed\n"
     ]
    }
   ],
   "source": [
    "# pull down the 1KG genotypes to look at pop-structure\n",
    "!gsutil -mq cp gs://nihnialng-pd-wgs/tools/onekg.good.geno05maf05hwe000001.* \\\n",
    "{qc_dir}/\n",
    "!ls -lhtr {qc_dir}/onekg.*"
   ]
  },
  {
   "cell_type": "code",
   "execution_count": 21,
   "metadata": {},
   "outputs": [
    {
     "name": "stdout",
     "output_type": "stream",
     "text": [
      "Error: 1193 variants with 3+ alleles present.\n",
      "* If you believe this is due to strand inconsistency, try --flip with\n",
      "  /labshare/raph/datasets/amppd/qc/pdbp.freeze9.onekg-merge.missnp.\n",
      "  (Warning: if this seems to work, strand errors involving SNPs with A/T or C/G\n",
      "  alleles probably remain in your data.  If LD between nearby SNPs is high,\n",
      "  --flip-scan should detect them.)\n",
      "* If you are dealing with genuine multiallelic variants, we recommend exporting\n",
      "  that subset of the data to VCF (via e.g. '--recode vcf'), merging with\n",
      "  another tool/script, and then importing the result; PLINK is not yet suited\n",
      "  to handling them.\n",
      "Warning: Variants 'rs12066103;rs550873096' and 'rs12066103' have the same\n",
      "position.\n",
      "Warning: Variants 'rs80183958' and 'rs533071465' have the same position.\n",
      "Warning: Variants 'rs76908344' and 'rs201662806' have the same position.\n",
      "11651 more same-position warnings: see log file.\n",
      "Warning: 3478156 het. haploid genotypes present (see\n",
      "/labshare/raph/datasets/amppd/qc/pdbp.freeze9.onekg.hh ); many commands treat\n",
      "these as missing.\n",
      "Warning: --hwe observation counts vary by more than 10%, due to the X\n",
      "chromosome.  You may want to use a less stringent --hwe p-value threshold for X\n",
      "chromosome variants.\n",
      "-rw-rw-r--. 1 gibbsr gibbsr 3.5G Sep  1 00:13 /labshare/raph/datasets/amppd/qc/pdbp.freeze9.onekg.bed\n",
      "-rw-rw-r--. 1 gibbsr gibbsr 102M Sep  1 00:13 /labshare/raph/datasets/amppd/qc/pdbp.freeze9.onekg.bim\n",
      "-rw-rw-r--. 1 gibbsr gibbsr 113K Sep  1 00:13 /labshare/raph/datasets/amppd/qc/pdbp.freeze9.onekg.fam\n",
      "-rw-rw-r--. 1 gibbsr gibbsr 130M Sep  1 00:13 /labshare/raph/datasets/amppd/qc/pdbp.freeze9.onekg.hh\n",
      "-rw-rw-r--. 1 gibbsr gibbsr 905K Sep  1 00:13 /labshare/raph/datasets/amppd/qc/pdbp.freeze9.onekg.log\n",
      "-rw-rw-r--. 1 gibbsr gibbsr  14K Sep  1 00:08 /labshare/raph/datasets/amppd/qc/pdbp.freeze9.onekg-merge.missnp\n",
      "CPU times: user 9 s, sys: 1.88 s, total: 10.9 s\n",
      "Wall time: 6min 4s\n"
     ]
    }
   ],
   "source": [
    "%%time\n",
    "# merge cohort and 1KG data with plink\n",
    "!plink --bfile {qc_bfile_set} \\\n",
    "--bmerge {qc_dir}/onekg.good.geno05maf05hwe000001 \\\n",
    "--geno {MAX_MISSING} --maf {MIN_FREQ} --hwe {MIN_HWE_P} --silent --allow-no-sex \\\n",
    "--make-bed --out {qc_dir}/{cohort_build}.onekg\n",
    "\n",
    "if os.path.exists(f'{qc_dir}/{cohort_build}.onekg-merge.missnp'):\n",
    "    !plink2 -bfile {qc_bfile_set} --allow-no-sex \\\n",
    "--exclude {qc_dir}/{cohort_build}.onekg-merge.missnp --silent \\\n",
    "--make-bed --out {qc_bfile_set}.temp\n",
    "\n",
    "    !plink2 -bfile {qc_dir}/onekg.good.geno05maf05hwe000001 --allow-no-sex \\\n",
    "--exclude {qc_dir}/{cohort_build}.onekg-merge.missnp --silent \\\n",
    "--make-bed --out {qc_dir}/onekg.good.geno05maf05hwe000001.temp\n",
    "\n",
    "    !plink --bfile {qc_bfile_set}.temp \\\n",
    "--bmerge {qc_dir}/onekg.good.geno05maf05hwe000001.temp \\\n",
    "--geno {MAX_MISSING} --maf {MIN_FREQ} --hwe {MIN_HWE_P} --silent --allow-no-sex \\\n",
    "--make-bed --out {qc_dir}/{cohort_build}.onekg\n",
    "    \n",
    "# check the merged cohort and 1KG data with plink was created\n",
    "!ls -lh {qc_dir}/{cohort_build}.onekg*    "
   ]
  },
  {
   "cell_type": "markdown",
   "metadata": {},
   "source": [
    "#### pull down the 1KG population labels"
   ]
  },
  {
   "cell_type": "code",
   "execution_count": 22,
   "metadata": {},
   "outputs": [
    {
     "name": "stdout",
     "output_type": "stream",
     "text": [
      "sample\tpop\tsuper_pop\tgender\t\t\n",
      "HG00096\tGBR\tEUR\tmale\n",
      "HG00097\tGBR\tEUR\tfemale\n",
      "HG00099\tGBR\tEUR\tfemale\n",
      "HG00100\tGBR\tEUR\tfemale\n",
      "HG00101\tGBR\tEUR\tmale\n",
      "HG00102\tGBR\tEUR\tfemale\n",
      "HG00103\tGBR\tEUR\tmale\n",
      "HG00105\tGBR\tEUR\tmale\n",
      "HG00106\tGBR\tEUR\tfemale\n"
     ]
    }
   ],
   "source": [
    "# need to pull down the 1KG population labels\n",
    "!gsutil -mq cp gs://nihnialng-pd-wgs/tools/onekg.panel {qc_dir}/\n",
    "!head {qc_dir}/onekg.panel"
   ]
  },
  {
   "cell_type": "markdown",
   "metadata": {},
   "source": [
    "#### king is to slow for population background check once we get into the thousands of samples\n",
    "\n",
    "for now switch back to LD prunning, plink genome ibs/ibd and mds methods"
   ]
  },
  {
   "cell_type": "code",
   "execution_count": 23,
   "metadata": {},
   "outputs": [
    {
     "name": "stdout",
     "output_type": "stream",
     "text": [
      "Warning: \"--pca approx\" is only recommended for analysis of >5000 samples.\n",
      "CPU times: user 14.5 s, sys: 2.48 s, total: 17 s\n",
      "Wall time: 5min 26s\n"
     ]
    }
   ],
   "source": [
    "%%time\n",
    "# merge cohort and 1KG data with plink\n",
    "# find pruned variants\n",
    "!plink2 --bfile {qc_dir}/{cohort_build}.onekg --silent \\\n",
    "--indep-pairwise 50 5 0.3 --out {qc_dir}/{cohort_build}.onekg.ldprune \n",
    "\n",
    "# subset to pruned variants\n",
    "!plink2 --bfile {qc_dir}/{cohort_build}.onekg --silent \\\n",
    "--extract {qc_dir}/{cohort_build}.onekg.ldprune.prune.in \\\n",
    "--make-bed --out {qc_dir}/{cohort_build}.onekg.pruned\n",
    "\n",
    "# generate pca's (plink approx from fastpca)\n",
    "!plink2 --bfile {qc_dir}/{cohort_build}.onekg.pruned \\\n",
    "--silent --pca 20 approx \\\n",
    "--out {qc_dir}/{cohort_build}.onekg.pca"
   ]
  },
  {
   "cell_type": "code",
   "execution_count": 24,
   "metadata": {},
   "outputs": [
    {
     "data": {
      "image/png": "[encoded data removed]",
      "text/plain": [
       "<Figure size 1152x576 with 2 Axes>"
      ]
     },
     "metadata": {},
     "output_type": "display_data"
    }
   ],
   "source": [
    "# mdsfile = f'{qc_dir}/{cohort_build}.onekg.ibs_ibd.mds.mds'\n",
    "mdsfile = f'{qc_dir}/{cohort_build}.onekg.pca.eigenvec'\n",
    "popinfofile = f'{qc_dir}/onekg.panel'\n",
    "output_pca_plot = f'{qc_dir}/{cohort_build}.pop_structure.pca.png'\n",
    "outfile = f'{qc_dir}/{cohort_build}.pop.outliers.txt'\n",
    "\n",
    "cohort_label = cohort\n",
    "\n",
    "expected_ancestry = 'EUR'\n",
    "\n",
    "mdsdf = pd.read_csv(mdsfile,sep='\\s+')\n",
    "infodf = pd.read_csv(popinfofile,sep=\"\\t\")\n",
    "\n",
    "df = mdsdf.merge(infodf,how='left',left_on='IID',right_on='sample')\n",
    "\n",
    "df[['super_pop']] = df[['super_pop']].fillna(cohort_label)\n",
    "df[['pop']] = df[['pop']].fillna(cohort_label)\n",
    "\n",
    "ancestry_cohort = df.loc[df['super_pop'] == expected_ancestry]\n",
    "coi = df.loc[df['super_pop'] == cohort_label]\n",
    "\n",
    "mds1_mean = np.mean(ancestry_cohort['PC1'])\n",
    "mds1_std = np.std(ancestry_cohort['PC1'])\n",
    "mds2_mean = np.mean(ancestry_cohort['PC2'])\n",
    "mds2_std = np.std(ancestry_cohort['PC2'])\n",
    "\n",
    "maxSD = 6\n",
    "plusMax_1 = mds1_mean + maxSD * mds1_std\n",
    "negMax_1 = mds1_mean - maxSD * mds1_std\n",
    "plusMax_2 = mds2_mean + maxSD * mds2_std\n",
    "negMax_2 = mds2_mean - maxSD * mds2_std\n",
    "\n",
    "df['outlier'] = ((df['super_pop'] == cohort_label) & \\\n",
    "    ((df['PC1'] > plusMax_1) | (df['PC1'] < negMax_1) | \\\n",
    "     (df['PC2'] > plusMax_2) | (df['PC2'] < negMax_2)))\n",
    "\n",
    "outliers = df.loc[df['outlier'] == True] \n",
    "outliers.to_csv(outfile,sep=\"\\t\",index=False,header=False)\n",
    "\n",
    "df.loc[df['IID'].isin(outliers['IID']),['super_pop','pop']] = 'outlier'\n",
    "\n",
    "# df = df.sort_values('super_pop',ascending=False)\n",
    "df = df.sample(frac=1)\n",
    "\n",
    "cohort_euro_df = df[df['super_pop'].isin([expected_ancestry,cohort_label,'outlier'])]\n",
    "# cohort_euro_df = cohort_euro_df.sort_values('pop',ascending=False)\n",
    "# cohort_euro_df = cohort_euro_df.sample(frac=1)\n",
    "\n",
    "sns.set()\n",
    "plt.figure(figsize=(16,8))\n",
    "plt.subplot(1,2,1)\n",
    "sns.scatterplot(x='PC1',y='PC2',hue='super_pop',style='super_pop',data=df)\n",
    "plt.xlabel('PC 1')\n",
    "plt.ylabel('PC 2')\n",
    "plt.legend(bbox_to_anchor=(1.05, 1), loc=1, borderaxespad=0,prop={'size': 8})\n",
    "plt.subplot(1,2,2)\n",
    "sns.scatterplot(x='PC1',y='PC2',hue='pop',style='pop',data=cohort_euro_df)\n",
    "plt.xlabel('PC 1')\n",
    "plt.ylabel('PC 2')\n",
    "plt.legend(bbox_to_anchor=(1.05, 1), loc=2, borderaxespad=0,prop={'size': 8})\n",
    "#plt.legend(loc='upper right', prop={'size': 6})\n",
    "plt.savefig(output_pca_plot,format='png',dpi=600,bbox_inches='tight')\n",
    "plt.show()"
   ]
  },
  {
   "cell_type": "code",
   "execution_count": 25,
   "metadata": {},
   "outputs": [
    {
     "data": {
      "text/plain": [
       "pdbp       1397\n",
       "IBS         107\n",
       "TSI         104\n",
       "CEU          99\n",
       "FIN          98\n",
       "GBR          91\n",
       "outlier      72\n",
       "Name: pop, dtype: int64"
      ]
     },
     "execution_count": 25,
     "metadata": {},
     "output_type": "execute_result"
    }
   ],
   "source": [
    "cohort_euro_df['pop'].value_counts()"
   ]
  },
  {
   "cell_type": "code",
   "execution_count": 26,
   "metadata": {},
   "outputs": [
    {
     "data": {
      "text/html": [
       "<div>\n",
       "<style scoped>\n",
       "    .dataframe tbody tr th:only-of-type {\n",
       "        vertical-align: middle;\n",
       "    }\n",
       "\n",
       "    .dataframe tbody tr th {\n",
       "        vertical-align: top;\n",
       "    }\n",
       "\n",
       "    .dataframe thead th {\n",
       "        text-align: right;\n",
       "    }\n",
       "</style>\n",
       "<table border=\"1\" class=\"dataframe\">\n",
       "  <thead>\n",
       "    <tr style=\"text-align: right;\">\n",
       "      <th></th>\n",
       "      <th>PC1</th>\n",
       "      <th>PC2</th>\n",
       "      <th>PC3</th>\n",
       "      <th>PC4</th>\n",
       "      <th>PC5</th>\n",
       "      <th>PC6</th>\n",
       "      <th>PC7</th>\n",
       "      <th>PC8</th>\n",
       "      <th>PC9</th>\n",
       "      <th>PC10</th>\n",
       "      <th>PC11</th>\n",
       "      <th>PC12</th>\n",
       "      <th>PC13</th>\n",
       "      <th>PC14</th>\n",
       "      <th>PC15</th>\n",
       "      <th>PC16</th>\n",
       "      <th>PC17</th>\n",
       "      <th>PC18</th>\n",
       "      <th>PC19</th>\n",
       "      <th>PC20</th>\n",
       "    </tr>\n",
       "    <tr>\n",
       "      <th>IID</th>\n",
       "      <th></th>\n",
       "      <th></th>\n",
       "      <th></th>\n",
       "      <th></th>\n",
       "      <th></th>\n",
       "      <th></th>\n",
       "      <th></th>\n",
       "      <th></th>\n",
       "      <th></th>\n",
       "      <th></th>\n",
       "      <th></th>\n",
       "      <th></th>\n",
       "      <th></th>\n",
       "      <th></th>\n",
       "      <th></th>\n",
       "      <th></th>\n",
       "      <th></th>\n",
       "      <th></th>\n",
       "      <th></th>\n",
       "      <th></th>\n",
       "    </tr>\n",
       "  </thead>\n",
       "  <tbody>\n",
       "    <tr>\n",
       "      <th>HG00096</th>\n",
       "      <td>0.011052</td>\n",
       "      <td>-0.010060</td>\n",
       "      <td>-0.005876</td>\n",
       "      <td>0.005139</td>\n",
       "      <td>-0.009620</td>\n",
       "      <td>0.000355</td>\n",
       "      <td>0.001827</td>\n",
       "      <td>0.015726</td>\n",
       "      <td>-0.004553</td>\n",
       "      <td>0.002623</td>\n",
       "      <td>-0.006258</td>\n",
       "      <td>0.023877</td>\n",
       "      <td>0.026696</td>\n",
       "      <td>-0.006113</td>\n",
       "      <td>-0.007084</td>\n",
       "      <td>-0.000035</td>\n",
       "      <td>-0.008436</td>\n",
       "      <td>-0.008137</td>\n",
       "      <td>-0.005651</td>\n",
       "      <td>-0.005808</td>\n",
       "    </tr>\n",
       "    <tr>\n",
       "      <th>HG00097</th>\n",
       "      <td>0.011080</td>\n",
       "      <td>-0.009931</td>\n",
       "      <td>-0.005082</td>\n",
       "      <td>0.004165</td>\n",
       "      <td>-0.009421</td>\n",
       "      <td>-0.000734</td>\n",
       "      <td>0.000327</td>\n",
       "      <td>0.010793</td>\n",
       "      <td>-0.005120</td>\n",
       "      <td>0.009325</td>\n",
       "      <td>0.002818</td>\n",
       "      <td>-0.009213</td>\n",
       "      <td>-0.006316</td>\n",
       "      <td>0.033420</td>\n",
       "      <td>0.010659</td>\n",
       "      <td>-0.016753</td>\n",
       "      <td>0.022356</td>\n",
       "      <td>0.006119</td>\n",
       "      <td>0.016497</td>\n",
       "      <td>0.021120</td>\n",
       "    </tr>\n",
       "    <tr>\n",
       "      <th>HG00099</th>\n",
       "      <td>0.010904</td>\n",
       "      <td>-0.009696</td>\n",
       "      <td>-0.005096</td>\n",
       "      <td>0.003226</td>\n",
       "      <td>-0.015370</td>\n",
       "      <td>0.002486</td>\n",
       "      <td>-0.001347</td>\n",
       "      <td>0.019352</td>\n",
       "      <td>-0.002195</td>\n",
       "      <td>-0.009092</td>\n",
       "      <td>-0.012407</td>\n",
       "      <td>0.033005</td>\n",
       "      <td>0.028393</td>\n",
       "      <td>-0.002892</td>\n",
       "      <td>0.002196</td>\n",
       "      <td>0.008879</td>\n",
       "      <td>0.004094</td>\n",
       "      <td>0.010435</td>\n",
       "      <td>-0.000827</td>\n",
       "      <td>-0.001283</td>\n",
       "    </tr>\n",
       "    <tr>\n",
       "      <th>HG00100</th>\n",
       "      <td>0.010636</td>\n",
       "      <td>-0.010211</td>\n",
       "      <td>-0.005016</td>\n",
       "      <td>0.004017</td>\n",
       "      <td>-0.006573</td>\n",
       "      <td>0.003094</td>\n",
       "      <td>-0.002338</td>\n",
       "      <td>0.023505</td>\n",
       "      <td>-0.013144</td>\n",
       "      <td>-0.007162</td>\n",
       "      <td>-0.005792</td>\n",
       "      <td>0.037029</td>\n",
       "      <td>0.041774</td>\n",
       "      <td>-0.029811</td>\n",
       "      <td>0.012841</td>\n",
       "      <td>0.000261</td>\n",
       "      <td>-0.025982</td>\n",
       "      <td>-0.024901</td>\n",
       "      <td>0.018607</td>\n",
       "      <td>-0.010000</td>\n",
       "    </tr>\n",
       "    <tr>\n",
       "      <th>HG00101</th>\n",
       "      <td>0.010966</td>\n",
       "      <td>-0.009873</td>\n",
       "      <td>-0.005948</td>\n",
       "      <td>0.003786</td>\n",
       "      <td>-0.011052</td>\n",
       "      <td>0.001159</td>\n",
       "      <td>-0.000579</td>\n",
       "      <td>0.018091</td>\n",
       "      <td>-0.006577</td>\n",
       "      <td>0.001342</td>\n",
       "      <td>0.001295</td>\n",
       "      <td>-0.005219</td>\n",
       "      <td>-0.004415</td>\n",
       "      <td>0.005894</td>\n",
       "      <td>0.004397</td>\n",
       "      <td>-0.008234</td>\n",
       "      <td>-0.018109</td>\n",
       "      <td>0.012236</td>\n",
       "      <td>-0.007469</td>\n",
       "      <td>0.011717</td>\n",
       "    </tr>\n",
       "  </tbody>\n",
       "</table>\n",
       "</div>"
      ],
      "text/plain": [
       "              PC1       PC2       PC3       PC4       PC5       PC6       PC7  \\\n",
       "IID                                                                             \n",
       "HG00096  0.011052 -0.010060 -0.005876  0.005139 -0.009620  0.000355  0.001827   \n",
       "HG00097  0.011080 -0.009931 -0.005082  0.004165 -0.009421 -0.000734  0.000327   \n",
       "HG00099  0.010904 -0.009696 -0.005096  0.003226 -0.015370  0.002486 -0.001347   \n",
       "HG00100  0.010636 -0.010211 -0.005016  0.004017 -0.006573  0.003094 -0.002338   \n",
       "HG00101  0.010966 -0.009873 -0.005948  0.003786 -0.011052  0.001159 -0.000579   \n",
       "\n",
       "              PC8       PC9      PC10      PC11      PC12      PC13      PC14  \\\n",
       "IID                                                                             \n",
       "HG00096  0.015726 -0.004553  0.002623 -0.006258  0.023877  0.026696 -0.006113   \n",
       "HG00097  0.010793 -0.005120  0.009325  0.002818 -0.009213 -0.006316  0.033420   \n",
       "HG00099  0.019352 -0.002195 -0.009092 -0.012407  0.033005  0.028393 -0.002892   \n",
       "HG00100  0.023505 -0.013144 -0.007162 -0.005792  0.037029  0.041774 -0.029811   \n",
       "HG00101  0.018091 -0.006577  0.001342  0.001295 -0.005219 -0.004415  0.005894   \n",
       "\n",
       "             PC15      PC16      PC17      PC18      PC19      PC20  \n",
       "IID                                                                  \n",
       "HG00096 -0.007084 -0.000035 -0.008436 -0.008137 -0.005651 -0.005808  \n",
       "HG00097  0.010659 -0.016753  0.022356  0.006119  0.016497  0.021120  \n",
       "HG00099  0.002196  0.008879  0.004094  0.010435 -0.000827 -0.001283  \n",
       "HG00100  0.012841  0.000261 -0.025982 -0.024901  0.018607 -0.010000  \n",
       "HG00101  0.004397 -0.008234 -0.018109  0.012236 -0.007469  0.011717  "
      ]
     },
     "execution_count": 26,
     "metadata": {},
     "output_type": "execute_result"
    }
   ],
   "source": [
    "mdsdf.set_index(mdsdf['IID'], inplace=True)\n",
    "mdsdf.drop(columns=['#FID','IID'], inplace=True)\n",
    "mdsdf.head()"
   ]
  },
  {
   "cell_type": "code",
   "execution_count": 27,
   "metadata": {},
   "outputs": [],
   "source": [
    "'''\n",
    "small function to generate umap from pandas dataframe, for all features (columns) \\\n",
    "and return back as dataframe with source index intact\n",
    "'''\n",
    "def generate_umapdf_from_df(this_df, rnd_digits=3):\n",
    "    # run UMAP on the data frame features\n",
    "    umap_results = UMAP(random_state=42).fit_transform(this_df)\n",
    "    umap_df = pd.DataFrame(umap_results, columns=['x_umap', 'y_umap'],\n",
    "                           index=this_df.index).round(rnd_digits)\n",
    "\n",
    "    umap_df = umap_df.merge(this_df,left_index=True, right_index=True)\n",
    "    print(f'The dimensions of the umap df and the traits are {umap_df.shape}')\n",
    "    return umap_df"
   ]
  },
  {
   "cell_type": "code",
   "execution_count": 28,
   "metadata": {},
   "outputs": [
    {
     "name": "stdout",
     "output_type": "stream",
     "text": [
      "The dimensions of the umap df and the traits are (3916, 22)\n",
      "CPU times: user 42.9 s, sys: 846 ms, total: 43.7 s\n",
      "Wall time: 36.7 s\n"
     ]
    }
   ],
   "source": [
    "%%time\n",
    "#run UMAP on the genetic PCs\n",
    "umap_df = generate_umapdf_from_df(mdsdf)"
   ]
  },
  {
   "cell_type": "code",
   "execution_count": 29,
   "metadata": {},
   "outputs": [
    {
     "name": "stdout",
     "output_type": "stream",
     "text": [
      "pdbp       1397\n",
      "AFR         657\n",
      "EUR         499\n",
      "EAS         499\n",
      "SAS         481\n",
      "AMR         311\n",
      "outlier      72\n",
      "Name: super_pop, dtype: int64\n",
      "pdbp       1397\n",
      "IBS         107\n",
      "TSI         104\n",
      "CEU          99\n",
      "FIN          98\n",
      "GBR          91\n",
      "outlier      72\n",
      "Name: pop, dtype: int64\n"
     ]
    }
   ],
   "source": [
    "umap_df = umap_df.merge(infodf,how='left',left_index=True,right_on='sample')\n",
    "\n",
    "umap_df[['super_pop']] = umap_df[['super_pop']].fillna(cohort_label)\n",
    "umap_df[['pop']] = umap_df[['pop']].fillna(cohort_label)\n",
    "\n",
    "umap_df.loc[umap_df['sample'].isin(outliers['IID']),\n",
    "            ['super_pop','pop']] = 'outlier'\n",
    "\n",
    "print(umap_df['super_pop'].value_counts())\n",
    "\n",
    "cohort_euro_df = umap_df[umap_df['super_pop'].isin([expected_ancestry,\n",
    "                                                    cohort_label, 'outlier'])]\n",
    "print(cohort_euro_df['pop'].value_counts())\n",
    "\n",
    "# cohort_euro_df = cohort_euro_df.sort_values('sample',ascending=False)\n",
    "cohort_euro_df = cohort_euro_df.sample(frac=1)"
   ]
  },
  {
   "cell_type": "code",
   "execution_count": 30,
   "metadata": {},
   "outputs": [
    {
     "data": {
      "image/png": "[encoded data removed]",
      "text/plain": [
       "<Figure size 1152x576 with 2 Axes>"
      ]
     },
     "metadata": {},
     "output_type": "display_data"
    }
   ],
   "source": [
    "output_plot = f'{qc_dir}/{cohort_build}.ancestry_structure.umap.png'\n",
    "\n",
    "sns.set()\n",
    "plt.figure(figsize=(16,8))\n",
    "plt.subplot(1,2,1)\n",
    "sns.scatterplot(x='x_umap',y='y_umap',hue='super_pop',style='super_pop',data=umap_df)\n",
    "plt.xlabel('x-UMAP')\n",
    "plt.ylabel('y-UMAP')\n",
    "plt.legend(bbox_to_anchor=(1.05, 1), loc=1, borderaxespad=0,prop={'size': 8})\n",
    "plt.subplot(1,2,2)\n",
    "sns.scatterplot(x='x_umap',y='y_umap',hue='pop',data=cohort_euro_df)\n",
    "plt.xlabel('x-UMAP')\n",
    "plt.ylabel('y-UMAP')\n",
    "plt.legend(bbox_to_anchor=(1.05, 1), loc=2, borderaxespad=0,prop={'size': 8})\n",
    "plt.savefig(output_plot,format='png',dpi=600,bbox_inches='tight')\n",
    "plt.show()"
   ]
  },
  {
   "cell_type": "markdown",
   "metadata": {
    "colab": {},
    "colab_type": "code",
    "id": "3rH2SKMGK-Mt"
   },
   "source": [
    "#### scan qc files for sample QC problems"
   ]
  },
  {
   "cell_type": "code",
   "execution_count": 31,
   "metadata": {},
   "outputs": [],
   "source": [
    "#sex check mismatches\n",
    "def check_sexcheck(path_prefix, verbose=False):\n",
    "    sexcheck_file = f'{path_prefix}.sex.sexcheck'\n",
    "    sexcheck_df = pd.read_csv(sexcheck_file, sep='\\s+')\n",
    "    #here failed sexcheck does not include unreported sex\n",
    "    sexcheck_problems_df = sexcheck_df.loc[(sexcheck_df['STATUS'] == 'PROBLEM') & \\\n",
    "                                           (sexcheck_df['PEDSEX'] != 0)]\n",
    "    print(f'sex mismatches {sexcheck_problems_df.shape}')\n",
    "    if(verbose):\n",
    "        print(sexcheck_problems_df)\n",
    "    return sexcheck_problems_df\n",
    "\n",
    "#check sample missingness \n",
    "def check_missingness(path_prefix, max_miss=0.05, verbose=False):\n",
    "    smiss_file = f'{path_prefix}.missing.smiss'\n",
    "    #might be plink1 file extenstion\n",
    "    if not os.path.exists(smiss_file):\n",
    "        smiss_file = f'{path_prefix}.missing.imiss'\n",
    "    smiss_df = pd.read_csv(smiss_file, sep='\\s+')\n",
    "    smiss_problems_df = smiss_df.loc[smiss_df['F_MISS'] > max_miss]\n",
    "    print(f'sample missingness problems {smiss_problems_df.shape}')\n",
    "    if(verbose):\n",
    "        print(smiss_problems_df)\n",
    "    return smiss_problems_df\n",
    "\n",
    "#het rate problems\n",
    "def check_hetrate(path_prefix, abs_max_rate=0.15, verbose=False):\n",
    "    hetcheck_file = f'{path_prefix}.het.het'\n",
    "    hetcheck_df = pd.read_csv(hetcheck_file, sep='\\s+')\n",
    "    hetcheck_problems_df = hetcheck_df.loc[(hetcheck_df['F'] > abs_max_rate) | \\\n",
    "                                           (hetcheck_df['F'] < -abs_max_rate)]\n",
    "    print(f'sample het rate problems {hetcheck_problems_df.shape}')\n",
    "    if(verbose):\n",
    "        print(hetcheck_problems_df)    \n",
    "    return hetcheck_problems_df\n",
    "\n",
    "#sample contamination problems\n",
    "def check_contamination(path_prefix, verbose=False):\n",
    "    contam_file = f'{path_prefix}.contaminated.samples.txt'\n",
    "    #might not exist if didn't process raw data\n",
    "    if os.path.exists(contam_file):\n",
    "        contam_df = pd.read_csv(contam_file, sep='\\s+')\n",
    "        print(f'sample contamination problems {contam_df.shape}')\n",
    "        if(verbose):\n",
    "            print(contam_df)         \n",
    "    else:\n",
    "        print('no comtamination file present')\n",
    "        contam_df = pd.DataFrame(data=None, columns=['id'])\n",
    "    return contam_df        \n",
    "\n",
    "#check ancestry outliers\n",
    "def check_ancestry(path_prefix):\n",
    "    pop_outliers_file = f'{path_prefix}.pop.outliers.txt'\n",
    "    pop_outliers = pd.read_csv(pop_outliers_file, sep='\\s+', header=None)\n",
    "    print(f'sample ancestry outliers {pop_outliers.shape}')\n",
    "    return pop_outliers\n",
    "\n",
    "#check sample duplicates (assume no twins)\n",
    "def check_duplicates(path_prefix, verbose=False):\n",
    "    relateds_file = f'{path_prefix}.king.related.kin0'\n",
    "    relateds_df = pd.read_csv(relateds_file, sep='\\s+')\n",
    "    duplicates_df = relateds_df.loc[relateds_df['InfType'] == 'Dup/MZ']\n",
    "    print(f'sample duplicate pairs {duplicates_df.shape}')\n",
    "    if(verbose):\n",
    "        print(duplicates_df)\n",
    "    return duplicates_df\n",
    "\n",
    "\n",
    "def find_sample_excludes(path_prefix, exclude_pops=False):\n",
    "    sexcheck_problems_df = check_sexcheck(path_prefix)\n",
    "    smiss_problems_df = check_missingness(path_prefix)\n",
    "    hetcheck_problems_df = check_hetrate(path_prefix)\n",
    "#     contam_df = check_contamination(path_prefix)\n",
    "    pop_outliers = check_ancestry(path_prefix)\n",
    "    duplicates_df = check_duplicates(path_prefix)\n",
    "    \n",
    "#     if exclude_pops:\n",
    "#         ref_exclude_set = set(sexcheck_problems_df['IID']) | set(smiss_problems_df['IID']) \\\n",
    "# | set(hetcheck_problems_df['IID']) | set(contam_df['id']) | set(pop_outliers[0])\n",
    "#     else:\n",
    "#         ref_exclude_set = set(sexcheck_problems_df['IID']) | set(smiss_problems_df['IID']) \\\n",
    "# | set(hetcheck_problems_df['IID']) | set(contam_df['id'])\n",
    "\n",
    "    if exclude_pops:\n",
    "        ref_exclude_set = set(sexcheck_problems_df['IID']) | set(smiss_problems_df['IID']) \\\n",
    "| set(hetcheck_problems_df['IID']) | set(pop_outliers[0])\n",
    "    else:\n",
    "        ref_exclude_set = set(sexcheck_problems_df['IID']) | set(smiss_problems_df['IID']) \\\n",
    "| set(hetcheck_problems_df['IID'])\n",
    "\n",
    "    #note to split duplicate pairs, first break any that currently have QC problems\n",
    "    #then just grab first column\n",
    "    duplicates_df = duplicates_df.loc[~duplicates_df['ID1'].isin(list(ref_exclude_set)) & \\\n",
    "                                     ~duplicates_df['ID2'].isin(list(ref_exclude_set))]\n",
    "    print(f'refreshed duplicate pairs {duplicates_df.shape}')\n",
    "\n",
    "    #just grab the ID in 1st column to split the pair\n",
    "    ref_exclude_set = ref_exclude_set | set(duplicates_df['ID1'])\n",
    "\n",
    "    print(f'number of samples to exclude from panel {len(ref_exclude_set)}')\n",
    "    return ref_exclude_set"
   ]
  },
  {
   "cell_type": "code",
   "execution_count": 41,
   "metadata": {},
   "outputs": [
    {
     "name": "stdout",
     "output_type": "stream",
     "text": [
      "sex mismatches (0, 6)\n",
      "sample missingness problems (0, 5)\n",
      "sample het rate problems (5, 6)\n",
      "sample ancestry outliers (72, 25)\n",
      "sample duplicate pairs (0, 14)\n",
      "refreshed duplicate pairs (0, 14)\n",
      "number of samples to exclude from panel 72\n"
     ]
    }
   ],
   "source": [
    "#this of course assumes the files being check in the exclude function exist at \\\n",
    "#this QC path\n",
    "qc_prefix = f'{qc_dir}/{cohort_build}'\n",
    "cohort_excludes = find_sample_excludes(qc_prefix, True)\n",
    "\n",
    "pd.DataFrame(data=cohort_excludes).to_csv(f'{qc_prefix}.excludes.txt', \\\n",
    "                                          header=False, index=False)"
   ]
  },
  {
   "cell_type": "markdown",
   "metadata": {},
   "source": [
    "#### since there are smallish number of sample QC problems, splill to screen here"
   ]
  },
  {
   "cell_type": "code",
   "execution_count": 33,
   "metadata": {},
   "outputs": [
    {
     "name": "stdout",
     "output_type": "stream",
     "text": [
      "sex mismatches (0, 6)\n",
      "Empty DataFrame\n",
      "Columns: [FID, IID, PEDSEX, SNPSEX, STATUS, F]\n",
      "Index: []\n",
      "sample missingness problems (0, 5)\n",
      "Empty DataFrame\n",
      "Columns: [#FID, IID, MISSING_CT, OBS_CT, F_MISS]\n",
      "Index: []\n",
      "sample het rate problems (5, 6)\n",
      "                FID            IID   O(HOM)     E(HOM)    N(NM)       F\n",
      "154   PD-PDCC883EAR  PD-PDCC883EAR  4354096  4042000.0  5999517  0.1594\n",
      "187   PD-PDCX843MT2  PD-PDCX843MT2  4361985  4042000.0  5999517  0.1634\n",
      "248   PD-PDDR568DKC  PD-PDDR568DKC  4347723  4042000.0  5999517  0.1561\n",
      "816   PD-PDNE985ED0  PD-PDNE985ED0  4356711  4042000.0  5999517  0.1607\n",
      "1339  PD-PDYA494VA4  PD-PDYA494VA4  4352827  4042000.0  5999517  0.1587\n",
      "sample duplicate pairs (0, 14)\n",
      "Empty DataFrame\n",
      "Columns: [FID1, ID1, FID2, ID2, N_SNP, HetHet, IBS0, HetConc, HomIBS0, Kinship, IBD1Seg, IBD2Seg, PropIBD, InfType]\n",
      "Index: []\n"
     ]
    }
   ],
   "source": [
    "sexcheck_problems_df = check_sexcheck(qc_prefix, verbose=True)\n",
    "smiss_problems_df = check_missingness(qc_prefix, verbose=True)\n",
    "hetcheck_problems_df = check_hetrate(qc_prefix, verbose=True)\n",
    "duplicates_df = check_duplicates(qc_prefix, verbose=True)"
   ]
  },
  {
   "cell_type": "markdown",
   "metadata": {},
   "source": [
    "#### do a little intermediate file cleanup"
   ]
  },
  {
   "cell_type": "code",
   "execution_count": 34,
   "metadata": {},
   "outputs": [
    {
     "name": "stdout",
     "output_type": "stream",
     "text": [
      "rm: cannot remove ‘/labshare/raph/datasets/amppd/qc/pdbp.freeze9.chr*.multiallelics.list’: No such file or directory\n"
     ]
    }
   ],
   "source": [
    "!rm {qc_dir}/{cohort_build}.chr*.multiallelics.list\n",
    "!rm {qc_dir}/{cohort_build}.chr*.geno05maf05hwe000001.*"
   ]
  },
  {
   "cell_type": "markdown",
   "metadata": {},
   "source": [
    "#### subset out the analysis ready, Euro centric, pfiles for eQTL analysis"
   ]
  },
  {
   "cell_type": "markdown",
   "metadata": {},
   "source": [
    "#### combine the sqc samples and also exclude related samples"
   ]
  },
  {
   "cell_type": "code",
   "execution_count": 4,
   "metadata": {},
   "outputs": [
    {
     "name": "stdout",
     "output_type": "stream",
     "text": [
      "(72, 1)\n",
      "86\n"
     ]
    }
   ],
   "source": [
    "# load the relateds file\n",
    "relateds_file = f'{qc_dir}/{cohort_build}.king.related.kin0'\n",
    "relateds_df = pd.read_csv(relateds_file, sep='\\s+')\n",
    "# exclude non-duplicate relateds by spliting, dups already marked for exclud\n",
    "nonduplicates_df = relateds_df.loc[relateds_df['InfType'] != 'Dup/MZ']\n",
    "\n",
    "# read the sqc samples\n",
    "excludes_df = pd.read_csv(sqc_excludes_file, header=None)\n",
    "print(excludes_df.shape)\n",
    "\n",
    "# get intersect union of sqc and too young\n",
    "exclude_ids = set(excludes_df[0]) | set(nonduplicates_df['ID2'])\n",
    "print(len(exclude_ids))"
   ]
  },
  {
   "cell_type": "code",
   "execution_count": 5,
   "metadata": {},
   "outputs": [],
   "source": [
    "def frmt_plink2_subset(in_dir, out_dir, chrom, excludes_file, in_name, out_name):\n",
    "    if in_dir == out_dir:\n",
    "        print('in dir cannot be same of out dir, here')\n",
    "        plink_cmd = '#error'\n",
    "    else:    \n",
    "        in_pfiles = f'{in_dir}/{in_name}.chr{chrom}'\n",
    "        out_pfiles = f'{out_dir}/{out_name}.chr{chrom}'\n",
    "        filter_pass = ' --var-filter'\n",
    "        plink_cmd = f'plink2 --pfile {in_pfiles} --remove {excludes_file} \\\n",
    "--silent --make-pgen --out {out_pfiles}'\n",
    "    return plink_cmd\n",
    "\n",
    "os.makedirs(eqtl_geno_dir, exist_ok=True)\n",
    "\n",
    "excludes_df = pd.DataFrame(data=exclude_ids, columns=['#FID'])\n",
    "excludes_df['IID'] = excludes_df['#FID']\n",
    "excludes_df.to_csv(f'{qc_dir}/{cohort}.{amppd_version}.excludes.plink', \n",
    "                   index=False, sep='\\t')\n",
    "\n",
    "cmds = [frmt_plink2_subset(genos_dir, eqtl_geno_dir, chrom, \n",
    "                           f'{qc_dir}/{cohort}.{amppd_version}.excludes.plink',\n",
    "                           cohort_build, f'{cohort}.{amppd_version}') \n",
    "        for chrom in chromosomes] \n",
    "\n",
    "# print(cmds)\n",
    "# now run the cmds concurrently    \n",
    "run_bash_cmds_threaded(cmds)  "
   ]
  },
  {
   "cell_type": "markdown",
   "metadata": {},
   "source": [
    "#### generate the with cohort genetic PCs covariates"
   ]
  },
  {
   "cell_type": "code",
   "execution_count": 6,
   "metadata": {},
   "outputs": [],
   "source": [
    "# find pruned variants\n",
    "!plink2 --bfile {qc_bfile_set} --silent \\\n",
    "--indep-pairwise 50 5 0.3 --out {qc_dir}/{cohort_build}.ldprune \n",
    "\n",
    "# subset to pruned variants\n",
    "!plink2 --bfile {qc_bfile_set} --silent \\\n",
    "--extract {qc_dir}/{cohort_build}.ldprune.prune.in \\\n",
    "--make-bed --out {qc_dir}/{cohort_build}.pruned\n",
    "\n",
    "# generate pca's (plink approx from fastpca)\n",
    "!plink2 --bfile {qc_dir}/{cohort_build}.pruned \\\n",
    "--silent --pca 20 \\\n",
    "--out {eqtl_info_dir}/{cohort_build}.pca\n"
   ]
  },
  {
   "cell_type": "code",
   "execution_count": 7,
   "metadata": {},
   "outputs": [
    {
     "name": "stdout",
     "output_type": "stream",
     "text": [
      "#FID\tIID\tPC1\tPC2\tPC3\tPC4\tPC5\tPC6\tPC7\tPC8\tPC9\tPC10\tPC11\tPC12\tPC13\tPC14\tPC15\tPC16\tPC17\tPC18\tPC19\tPC20\n",
      "PD-PDAA503EF5\tPD-PDAA503EF5\t-0.00495095\t0.00431455\t0.00210564\t0.0015093\t-0.0080129\t-0.00583811\t-0.00296448\t0.0053419\t-0.0135693\t-0.0139023\t-0.0189323\t0.00167587\t-0.00646754\t-0.0121496\t0.00407973\t-0.00384924\t-0.0267609\t0.0357366\t0.00520439\t-0.0528633\n",
      "PD-PDAA852XL7\tPD-PDAA852XL7\t-0.00760592\t0.00700654\t0.00597848\t-0.00605835\t-0.00263397\t0.00657885\t-0.00612251\t0.0383726\t-0.0246614\t0.00776636\t0.0170271\t0.000971294\t-0.0192126\t0.00688494\t0.0347423\t-0.00909578\t0.0129725\t0.000194746\t0.0458116\t-0.000119522\n",
      "PD-PDAA955TCY\tPD-PDAA955TCY\t-0.00616563\t0.00260871\t0.00541794\t-0.00414233\t0.00246958\t0.00410797\t-0.00165093\t-0.0021399\t-0.022896\t-0.0127166\t0.00879553\t-0.00195598\t0.00754257\t-0.0095743\t0.00076122\t0.0356299\t-0.015436\t-0.00909635\t0.00643202\t0.0559347\n",
      "PD-PDAB074CYQ\tPD-PDAB074CYQ\t-0.00524498\t0.00668967\t0.0109398\t-0.00829187\t0.0116325\t-0.00705869\t-0.00492993\t0.0234697\t0.0500789\t-0.0115351\t0.00114771\t0.0156073\t0.014167\t-0.0131358\t0.0116915\t-0.00880535\t-0.022027\t0.0307594\t-0.00157233\t-0.0221953\n"
     ]
    }
   ],
   "source": [
    "!head -n 5 {eqtl_info_dir}/{cohort_build}.pca.eigenvec"
   ]
  },
  {
   "cell_type": "code",
   "execution_count": null,
   "metadata": {},
   "outputs": [],
   "source": []
  }
 ],
 "metadata": {
  "kernelspec": {
   "display_name": "Python 3",
   "language": "python",
   "name": "python3"
  },
  "language_info": {
   "codemirror_mode": {
    "name": "ipython",
    "version": 3
   },
   "file_extension": ".py",
   "mimetype": "text/x-python",
   "name": "python",
   "nbconvert_exporter": "python",
   "pygments_lexer": "ipython3",
   "version": "3.8.5"
  }
 },
 "nbformat": 4,
 "nbformat_minor": 4
}
