{
 "cells": [
  {
   "cell_type": "markdown",
   "metadata": {},
   "source": [
    "## Notebook to runner for AMP-PD to compare cohort's per visit eQTS results via papermill"
   ]
  },
  {
   "cell_type": "code",
   "execution_count": 1,
   "metadata": {},
   "outputs": [
    {
     "name": "stdout",
     "output_type": "stream",
     "text": [
      "Mon May 10 21:36:00 UTC 2021\n"
     ]
    }
   ],
   "source": [
    "!date"
   ]
  },
  {
   "cell_type": "markdown",
   "metadata": {},
   "source": [
    "#### import libraries"
   ]
  },
  {
   "cell_type": "code",
   "execution_count": 2,
   "metadata": {},
   "outputs": [],
   "source": [
    "import pandas as pd\n",
    "import os\n",
    "import papermill as pm"
   ]
  },
  {
   "cell_type": "code",
   "execution_count": 3,
   "metadata": {},
   "outputs": [],
   "source": [
    "# base notebook to be run per tuple iteration\n",
    "base_notebook = '/home/jupyter/notebooks/compare_visit_eqts_results.ipynb'\n",
    "\n",
    "# setup iteration tuples\n",
    "cohorts = ['biofind', 'pdbp', 'ppmi']\n",
    "tissue = 'wb'\n",
    "months = [0, 1, 6 , 12, 18, 24, 36]\n",
    "quant_type = 'genes'"
   ]
  },
  {
   "cell_type": "markdown",
   "metadata": {},
   "source": [
    "#### iterate over the tuples running the notebook per tuple"
   ]
  },
  {
   "cell_type": "code",
   "execution_count": 4,
   "metadata": {},
   "outputs": [
    {
     "name": "stdout",
     "output_type": "stream",
     "text": [
      "{'cohort': 'pdbp', 'tissue': 'wb', 'months': [0, 6, 12, 18, 24]}\n",
      "/home/jupyter/notebooks/pdbp/pm_gend_nbs/pdbp_compare_visit_eqts.ipynb\n"
     ]
    },
    {
     "data": {
      "application/vnd.jupyter.widget-view+json": {
       "model_id": "54c0f8ea75ba49b79f153003814b1a57",
       "version_major": 2,
       "version_minor": 0
      },
      "text/plain": [
       "Executing:   0%|          | 0/19 [00:00<?, ?cell/s]"
      ]
     },
     "metadata": {},
     "output_type": "display_data"
    },
    {
     "name": "stdout",
     "output_type": "stream",
     "text": [
      "{'cohort': 'ppmi', 'tissue': 'wb', 'months': [0, 6, 12, 24, 36]}\n",
      "/home/jupyter/notebooks/ppmi/pm_gend_nbs/ppmi_compare_visit_eqts.ipynb\n"
     ]
    },
    {
     "data": {
      "application/vnd.jupyter.widget-view+json": {
       "model_id": "7e43a83c5f0f49b5946c266a73b77aba",
       "version_major": 2,
       "version_minor": 0
      },
      "text/plain": [
       "Executing:   0%|          | 0/19 [00:00<?, ?cell/s]"
      ]
     },
     "metadata": {},
     "output_type": "display_data"
    },
    {
     "name": "stdout",
     "output_type": "stream",
     "text": [
      "CPU times: user 1.14 s, sys: 82.1 ms, total: 1.22 s\n",
      "Wall time: 6.31 s\n"
     ]
    }
   ],
   "source": [
    "%%time\n",
    "\n",
    "for cohort in cohorts:\n",
    "    out_nb_dir = f'/home/jupyter/notebooks/{cohort}/pm_gend_nbs'\n",
    "    # make sure the notebook output dir exists\n",
    "    os.makedirs(out_nb_dir, exist_ok=True)\n",
    "    wrk_dir = f'/home/jupyter/{cohort}'\n",
    "    visits = []\n",
    "    for month in months:\n",
    "        # before running prep notebook make results exist for the cohort and visit\n",
    "        results_file = f'{wrk_dir}/eqts/{cohort}.{tissue}{month}.eqts.csv'\n",
    "        if os.path.isfile(results_file):\n",
    "            visits.append(month)\n",
    "    if len(visits) > 1:            \n",
    "        param_dict = {'cohort': cohort, 'tissue': tissue, 'months': visits}\n",
    "        out_notebook = f'{out_nb_dir}/{cohort}_compare_visit_eqts.ipynb'\n",
    "        print(param_dict)\n",
    "        print(out_notebook)\n",
    "        pm.execute_notebook(input_path=base_notebook, output_path=out_notebook, \n",
    "                            parameters=param_dict)"
   ]
  },
  {
   "cell_type": "code",
   "execution_count": null,
   "metadata": {},
   "outputs": [],
   "source": []
  }
 ],
 "metadata": {
  "environment": {
   "name": "pytorch-gpu.1-8.m65",
   "type": "gcloud",
   "uri": "gcr.io/deeplearning-platform-release/pytorch-gpu.1-8:m65"
  },
  "kernelspec": {
   "display_name": "Python 3",
   "language": "python",
   "name": "python3"
  },
  "language_info": {
   "codemirror_mode": {
    "name": "ipython",
    "version": 3
   },
   "file_extension": ".py",
   "mimetype": "text/x-python",
   "name": "python",
   "nbconvert_exporter": "python",
   "pygments_lexer": "ipython3",
   "version": "3.7.10"
  }
 },
 "nbformat": 4,
 "nbformat_minor": 4
}
