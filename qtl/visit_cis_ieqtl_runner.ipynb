{
 "cells": [
  {
   "cell_type": "markdown",
   "metadata": {},
   "source": [
    "## Notebook runner for AMP-PD tissue and visit interaction eQTL via papermill"
   ]
  },
  {
   "cell_type": "code",
   "execution_count": 2,
   "metadata": {},
   "outputs": [
    {
     "name": "stdout",
     "output_type": "stream",
     "text": [
      "Mon Jun 14 11:55:03 UTC 2021\n"
     ]
    }
   ],
   "source": [
    "!date"
   ]
  },
  {
   "cell_type": "markdown",
   "metadata": {},
   "source": [
    "#### import libraries"
   ]
  },
  {
   "cell_type": "code",
   "execution_count": 3,
   "metadata": {},
   "outputs": [],
   "source": [
    "import pandas as pd\n",
    "import os\n",
    "import papermill as pm"
   ]
  },
  {
   "cell_type": "code",
   "execution_count": 4,
   "metadata": {},
   "outputs": [],
   "source": [
    "# base notebook to be run per tuple iteration\n",
    "base_notebook = '/home/jupyter/notebooks/visit_cis_ieqtl_tensorqtl.ipynb'\n",
    "\n",
    "# setup iteration tuples\n",
    "cohort_names = ['biofind', 'pdbp', 'ppmi']\n",
    "version = 'amppdv1'\n",
    "tissue = 'wb'\n",
    "months = [0, 1, 6 , 12, 18, 24, 36]\n",
    "visit_names = ['BLM0T1', 'SVM0_5T1', 'SVM6T1', 'SVM12T1', 'SVM18T1', 'SVM24T1', 'SVM36T1']\n",
    "column_names = ['cohort', 'amp_abbr', 'version', 'tissue', 'visit', 'visit_name']\n",
    "# nb_combo_df = pd.DataFrame(data=X, columns=column_names)\n",
    "quant_type = 'genes'"
   ]
  },
  {
   "cell_type": "markdown",
   "metadata": {},
   "source": [
    "#### iterate over the tuples running the notebook per tuple"
   ]
  },
  {
   "cell_type": "code",
   "execution_count": 5,
   "metadata": {},
   "outputs": [
    {
     "name": "stdout",
     "output_type": "stream",
     "text": [
      "{'cohort': 'biofind', 'version': 'amppdv1', 'tissue': 'wb', 'visit': 1, 'visit_name': 'SVM0_5T1'}\n",
      "/home/jupyter/notebooks/biofind/pm_gend_nbs/biofind.wb1_cis_ieqtl_tensorqtl.ipynb\n"
     ]
    },
    {
     "data": {
      "application/vnd.jupyter.widget-view+json": {
       "model_id": "1fc45188f422439bbfd0a6240abc2dd5",
       "version_major": 2,
       "version_minor": 0
      },
      "text/plain": [
       "Executing:   0%|          | 0/44 [00:00<?, ?cell/s]"
      ]
     },
     "metadata": {},
     "output_type": "display_data"
    },
    {
     "name": "stderr",
     "output_type": "stream",
     "text": [
      "Autosave too slow: 9.85 sec, over 25% limit. Backing off to 60 sec\n"
     ]
    },
    {
     "name": "stdout",
     "output_type": "stream",
     "text": [
      "{'cohort': 'pdbp', 'version': 'amppdv1', 'tissue': 'wb', 'visit': 0, 'visit_name': 'BLM0T1'}\n",
      "/home/jupyter/notebooks/pdbp/pm_gend_nbs/pdbp.wb0_cis_ieqtl_tensorqtl.ipynb\n"
     ]
    },
    {
     "data": {
      "application/vnd.jupyter.widget-view+json": {
       "model_id": "16e9a9ce9fbf481eb2a37767189f11e6",
       "version_major": 2,
       "version_minor": 0
      },
      "text/plain": [
       "Executing:   0%|          | 0/44 [00:00<?, ?cell/s]"
      ]
     },
     "metadata": {},
     "output_type": "display_data"
    },
    {
     "name": "stderr",
     "output_type": "stream",
     "text": [
      "Autosave too slow: 7.99 sec, over 25% limit. Backing off to 60 sec\n"
     ]
    },
    {
     "name": "stdout",
     "output_type": "stream",
     "text": [
      "{'cohort': 'pdbp', 'version': 'amppdv1', 'tissue': 'wb', 'visit': 6, 'visit_name': 'SVM6T1'}\n",
      "/home/jupyter/notebooks/pdbp/pm_gend_nbs/pdbp.wb6_cis_ieqtl_tensorqtl.ipynb\n"
     ]
    },
    {
     "data": {
      "application/vnd.jupyter.widget-view+json": {
       "model_id": "ec5d11618c9c4ad985e8b3c27ba00b2b",
       "version_major": 2,
       "version_minor": 0
      },
      "text/plain": [
       "Executing:   0%|          | 0/44 [00:00<?, ?cell/s]"
      ]
     },
     "metadata": {},
     "output_type": "display_data"
    },
    {
     "name": "stderr",
     "output_type": "stream",
     "text": [
      "Autosave too slow: 7.64 sec, over 25% limit. Backing off to 60 sec\n"
     ]
    },
    {
     "name": "stdout",
     "output_type": "stream",
     "text": [
      "{'cohort': 'pdbp', 'version': 'amppdv1', 'tissue': 'wb', 'visit': 12, 'visit_name': 'SVM12T1'}\n",
      "/home/jupyter/notebooks/pdbp/pm_gend_nbs/pdbp.wb12_cis_ieqtl_tensorqtl.ipynb\n"
     ]
    },
    {
     "data": {
      "application/vnd.jupyter.widget-view+json": {
       "model_id": "4fc9accfcb04483fae143919b6f93e79",
       "version_major": 2,
       "version_minor": 0
      },
      "text/plain": [
       "Executing:   0%|          | 0/44 [00:00<?, ?cell/s]"
      ]
     },
     "metadata": {},
     "output_type": "display_data"
    },
    {
     "name": "stderr",
     "output_type": "stream",
     "text": [
      "Autosave too slow: 9.96 sec, over 25% limit. Backing off to 60 sec\n"
     ]
    },
    {
     "name": "stdout",
     "output_type": "stream",
     "text": [
      "{'cohort': 'pdbp', 'version': 'amppdv1', 'tissue': 'wb', 'visit': 18, 'visit_name': 'SVM18T1'}\n",
      "/home/jupyter/notebooks/pdbp/pm_gend_nbs/pdbp.wb18_cis_ieqtl_tensorqtl.ipynb\n"
     ]
    },
    {
     "data": {
      "application/vnd.jupyter.widget-view+json": {
       "model_id": "04f93c37679d4ed99e7096c9fe9eb4be",
       "version_major": 2,
       "version_minor": 0
      },
      "text/plain": [
       "Executing:   0%|          | 0/44 [00:00<?, ?cell/s]"
      ]
     },
     "metadata": {},
     "output_type": "display_data"
    },
    {
     "name": "stderr",
     "output_type": "stream",
     "text": [
      "Autosave too slow: 7.82 sec, over 25% limit. Backing off to 60 sec\n"
     ]
    },
    {
     "name": "stdout",
     "output_type": "stream",
     "text": [
      "{'cohort': 'pdbp', 'version': 'amppdv1', 'tissue': 'wb', 'visit': 24, 'visit_name': 'SVM24T1'}\n",
      "/home/jupyter/notebooks/pdbp/pm_gend_nbs/pdbp.wb24_cis_ieqtl_tensorqtl.ipynb\n"
     ]
    },
    {
     "data": {
      "application/vnd.jupyter.widget-view+json": {
       "model_id": "295f251287d648f98862a443c86135e0",
       "version_major": 2,
       "version_minor": 0
      },
      "text/plain": [
       "Executing:   0%|          | 0/44 [00:00<?, ?cell/s]"
      ]
     },
     "metadata": {},
     "output_type": "display_data"
    },
    {
     "name": "stderr",
     "output_type": "stream",
     "text": [
      "Autosave too slow: 7.50 sec, over 25% limit. Backing off to 60 sec\n"
     ]
    },
    {
     "name": "stdout",
     "output_type": "stream",
     "text": [
      "{'cohort': 'ppmi', 'version': 'amppdv1', 'tissue': 'wb', 'visit': 0, 'visit_name': 'BLM0T1'}\n",
      "/home/jupyter/notebooks/ppmi/pm_gend_nbs/ppmi.wb0_cis_ieqtl_tensorqtl.ipynb\n"
     ]
    },
    {
     "data": {
      "application/vnd.jupyter.widget-view+json": {
       "model_id": "772a35269f4040aba10662b3f92cf98a",
       "version_major": 2,
       "version_minor": 0
      },
      "text/plain": [
       "Executing:   0%|          | 0/44 [00:00<?, ?cell/s]"
      ]
     },
     "metadata": {},
     "output_type": "display_data"
    },
    {
     "name": "stderr",
     "output_type": "stream",
     "text": [
      "Autosave too slow: 7.56 sec, over 25% limit. Backing off to 60 sec\n"
     ]
    },
    {
     "name": "stdout",
     "output_type": "stream",
     "text": [
      "{'cohort': 'ppmi', 'version': 'amppdv1', 'tissue': 'wb', 'visit': 6, 'visit_name': 'SVM6T1'}\n",
      "/home/jupyter/notebooks/ppmi/pm_gend_nbs/ppmi.wb6_cis_ieqtl_tensorqtl.ipynb\n"
     ]
    },
    {
     "data": {
      "application/vnd.jupyter.widget-view+json": {
       "model_id": "d185b77cd54a49e6a156168228734799",
       "version_major": 2,
       "version_minor": 0
      },
      "text/plain": [
       "Executing:   0%|          | 0/44 [00:00<?, ?cell/s]"
      ]
     },
     "metadata": {},
     "output_type": "display_data"
    },
    {
     "name": "stderr",
     "output_type": "stream",
     "text": [
      "Autosave too slow: 7.50 sec, over 25% limit. Backing off to 60 sec\n"
     ]
    },
    {
     "name": "stdout",
     "output_type": "stream",
     "text": [
      "{'cohort': 'ppmi', 'version': 'amppdv1', 'tissue': 'wb', 'visit': 12, 'visit_name': 'SVM12T1'}\n",
      "/home/jupyter/notebooks/ppmi/pm_gend_nbs/ppmi.wb12_cis_ieqtl_tensorqtl.ipynb\n"
     ]
    },
    {
     "data": {
      "application/vnd.jupyter.widget-view+json": {
       "model_id": "b3e302205f684de593197aa094be5dcb",
       "version_major": 2,
       "version_minor": 0
      },
      "text/plain": [
       "Executing:   0%|          | 0/44 [00:00<?, ?cell/s]"
      ]
     },
     "metadata": {},
     "output_type": "display_data"
    },
    {
     "name": "stderr",
     "output_type": "stream",
     "text": [
      "Autosave too slow: 7.67 sec, over 25% limit. Backing off to 60 sec\n"
     ]
    },
    {
     "name": "stdout",
     "output_type": "stream",
     "text": [
      "{'cohort': 'ppmi', 'version': 'amppdv1', 'tissue': 'wb', 'visit': 24, 'visit_name': 'SVM24T1'}\n",
      "/home/jupyter/notebooks/ppmi/pm_gend_nbs/ppmi.wb24_cis_ieqtl_tensorqtl.ipynb\n"
     ]
    },
    {
     "data": {
      "application/vnd.jupyter.widget-view+json": {
       "model_id": "2d0099f4cac4492b845dfa8417727b3b",
       "version_major": 2,
       "version_minor": 0
      },
      "text/plain": [
       "Executing:   0%|          | 0/44 [00:00<?, ?cell/s]"
      ]
     },
     "metadata": {},
     "output_type": "display_data"
    },
    {
     "name": "stderr",
     "output_type": "stream",
     "text": [
      "Autosave too slow: 9.60 sec, over 25% limit. Backing off to 60 sec\n"
     ]
    },
    {
     "name": "stdout",
     "output_type": "stream",
     "text": [
      "{'cohort': 'ppmi', 'version': 'amppdv1', 'tissue': 'wb', 'visit': 36, 'visit_name': 'SVM36T1'}\n",
      "/home/jupyter/notebooks/ppmi/pm_gend_nbs/ppmi.wb36_cis_ieqtl_tensorqtl.ipynb\n"
     ]
    },
    {
     "data": {
      "application/vnd.jupyter.widget-view+json": {
       "model_id": "9874ed0853ef4201b9263658bb6cda57",
       "version_major": 2,
       "version_minor": 0
      },
      "text/plain": [
       "Executing:   0%|          | 0/44 [00:00<?, ?cell/s]"
      ]
     },
     "metadata": {},
     "output_type": "display_data"
    },
    {
     "name": "stderr",
     "output_type": "stream",
     "text": [
      "Autosave too slow: 7.55 sec, over 25% limit. Backing off to 60 sec\n"
     ]
    },
    {
     "name": "stdout",
     "output_type": "stream",
     "text": [
      "CPU times: user 1h 47min 5s, sys: 36.5 s, total: 1h 47min 41s\n",
      "Wall time: 13h 24min 43s\n"
     ]
    }
   ],
   "source": [
    "%%time\n",
    "\n",
    "for cohort in cohort_names:\n",
    "    out_nb_dir = f'/home/jupyter/notebooks/{cohort}/pm_gend_nbs'\n",
    "    # make sure the notebook output dir exists\n",
    "    os.makedirs(out_nb_dir, exist_ok=True)\n",
    "    wrk_dir = f'/home/jupyter/{cohort}'\n",
    "    visits = zip(months, visit_names)\n",
    "    for month, visit in visits:\n",
    "        # before running prep notebook make expr data for the cohort and visit\n",
    "        src_expression_matrix = f'{wrk_dir}/expression/{cohort}.{tissue}{month}.norm.adj.bed.gz'\n",
    "        if os.path.isfile(src_expression_matrix):\n",
    "            param_dict = {'cohort': cohort, 'version': version, \n",
    "                          'tissue': tissue, 'visit': month, 'visit_name': visit}\n",
    "            out_notebook = f'{out_nb_dir}/{cohort}.{tissue}{month}_cis_ieqtl_tensorqtl.ipynb'\n",
    "            print(param_dict)\n",
    "            print(out_notebook)\n",
    "            pm.execute_notebook(input_path=base_notebook, output_path=out_notebook, \n",
    "                                parameters=param_dict)"
   ]
  },
  {
   "cell_type": "code",
   "execution_count": null,
   "metadata": {},
   "outputs": [],
   "source": []
  }
 ],
 "metadata": {
  "environment": {
   "name": "pytorch-gpu.1-8.m65",
   "type": "gcloud",
   "uri": "gcr.io/deeplearning-platform-release/pytorch-gpu.1-8:m65"
  },
  "kernelspec": {
   "display_name": "Python 3",
   "language": "python",
   "name": "python3"
  },
  "language_info": {
   "codemirror_mode": {
    "name": "ipython",
    "version": 3
   },
   "file_extension": ".py",
   "mimetype": "text/x-python",
   "name": "python",
   "nbconvert_exporter": "python",
   "pygments_lexer": "ipython3",
   "version": "3.7.10"
  }
 },
 "nbformat": 4,
 "nbformat_minor": 4
}
