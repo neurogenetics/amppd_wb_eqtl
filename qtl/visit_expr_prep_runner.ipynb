{
 "cells": [
  {
   "cell_type": "markdown",
   "metadata": {},
   "source": [
    "## Notebook to runner for AMP-PD tissue and visit expression prep via papermill"
   ]
  },
  {
   "cell_type": "markdown",
   "metadata": {},
   "source": [
    "#### import libraries"
   ]
  },
  {
   "cell_type": "code",
   "execution_count": 1,
   "metadata": {},
   "outputs": [],
   "source": [
    "import pandas as pd\n",
    "import os\n",
    "import papermill as pm"
   ]
  },
  {
   "cell_type": "code",
   "execution_count": 2,
   "metadata": {},
   "outputs": [],
   "source": [
    "# base notebook to be run per tuple iteration\n",
    "base_notebook = '/home/jupyter/notebooks/visit_expression_prep.ipynb'\n",
    "\n",
    "# setup iteration tuples\n",
    "cohort_names = ['biofind', 'pdbp', 'ppmi']\n",
    "cohort_abbrvs = ['BF', 'PD', 'PP']\n",
    "version = 'amppdv1'\n",
    "tissue = 'wb'\n",
    "months = [0, 1, 6 , 12, 18, 24, 36]\n",
    "visit_names = ['BLM0T1', 'SVM0_5T1', 'SVM6T1', 'SVM12T1', 'SVM18T1', 'SVM24T1', 'SVM36T1']\n",
    "column_names = ['cohort', 'amp_abbr', 'version', 'tissue', 'visit', 'visit_name']\n",
    "# nb_combo_df = pd.DataFrame(data=X, columns=column_names)\n",
    "quant_type = 'genes'"
   ]
  },
  {
   "cell_type": "markdown",
   "metadata": {},
   "source": [
    "#### iterate over the tuples running the notebook per tuple"
   ]
  },
  {
   "cell_type": "code",
   "execution_count": 3,
   "metadata": {},
   "outputs": [
    {
     "name": "stdout",
     "output_type": "stream",
     "text": [
      "{'cohort': 'biofind', 'amp_abbr': 'BF', 'version': 'amppdv1', 'tissue': 'wb', 'visit': 1, 'visit_name': 'SVM0_5T1'}\n",
      "/home/jupyter/notebooks/biofind/pm_gend_nbs/biofind_wb_SVM0_5T1_expression_prep.ipynb\n"
     ]
    },
    {
     "data": {
      "application/vnd.jupyter.widget-view+json": {
       "model_id": "038b5d78f60a4e47860f4b5bf5fdcc83",
       "version_major": 2,
       "version_minor": 0
      },
      "text/plain": [
       "Executing:   0%|          | 0/78 [00:00<?, ?cell/s]"
      ]
     },
     "metadata": {},
     "output_type": "display_data"
    },
    {
     "name": "stdout",
     "output_type": "stream",
     "text": [
      "{'cohort': 'pdbp', 'amp_abbr': 'PD', 'version': 'amppdv1', 'tissue': 'wb', 'visit': 0, 'visit_name': 'BLM0T1'}\n",
      "/home/jupyter/notebooks/pdbp/pm_gend_nbs/pdbp_wb_BLM0T1_expression_prep.ipynb\n"
     ]
    },
    {
     "data": {
      "application/vnd.jupyter.widget-view+json": {
       "model_id": "b6c2b606512d4aa9ac833248c2ea3887",
       "version_major": 2,
       "version_minor": 0
      },
      "text/plain": [
       "Executing:   0%|          | 0/78 [00:00<?, ?cell/s]"
      ]
     },
     "metadata": {},
     "output_type": "display_data"
    },
    {
     "name": "stdout",
     "output_type": "stream",
     "text": [
      "{'cohort': 'pdbp', 'amp_abbr': 'PD', 'version': 'amppdv1', 'tissue': 'wb', 'visit': 6, 'visit_name': 'SVM6T1'}\n",
      "/home/jupyter/notebooks/pdbp/pm_gend_nbs/pdbp_wb_SVM6T1_expression_prep.ipynb\n"
     ]
    },
    {
     "data": {
      "application/vnd.jupyter.widget-view+json": {
       "model_id": "49c77c4834664304b5b6af8b55e3af6d",
       "version_major": 2,
       "version_minor": 0
      },
      "text/plain": [
       "Executing:   0%|          | 0/78 [00:00<?, ?cell/s]"
      ]
     },
     "metadata": {},
     "output_type": "display_data"
    },
    {
     "name": "stdout",
     "output_type": "stream",
     "text": [
      "{'cohort': 'pdbp', 'amp_abbr': 'PD', 'version': 'amppdv1', 'tissue': 'wb', 'visit': 12, 'visit_name': 'SVM12T1'}\n",
      "/home/jupyter/notebooks/pdbp/pm_gend_nbs/pdbp_wb_SVM12T1_expression_prep.ipynb\n"
     ]
    },
    {
     "data": {
      "application/vnd.jupyter.widget-view+json": {
       "model_id": "bef71224f74149c8a5f1c36ff0f98bd4",
       "version_major": 2,
       "version_minor": 0
      },
      "text/plain": [
       "Executing:   0%|          | 0/78 [00:00<?, ?cell/s]"
      ]
     },
     "metadata": {},
     "output_type": "display_data"
    },
    {
     "name": "stdout",
     "output_type": "stream",
     "text": [
      "{'cohort': 'pdbp', 'amp_abbr': 'PD', 'version': 'amppdv1', 'tissue': 'wb', 'visit': 18, 'visit_name': 'SVM18T1'}\n",
      "/home/jupyter/notebooks/pdbp/pm_gend_nbs/pdbp_wb_SVM18T1_expression_prep.ipynb\n"
     ]
    },
    {
     "data": {
      "application/vnd.jupyter.widget-view+json": {
       "model_id": "32e2852840b24c72afda477f7b39ff21",
       "version_major": 2,
       "version_minor": 0
      },
      "text/plain": [
       "Executing:   0%|          | 0/78 [00:00<?, ?cell/s]"
      ]
     },
     "metadata": {},
     "output_type": "display_data"
    },
    {
     "name": "stdout",
     "output_type": "stream",
     "text": [
      "{'cohort': 'pdbp', 'amp_abbr': 'PD', 'version': 'amppdv1', 'tissue': 'wb', 'visit': 24, 'visit_name': 'SVM24T1'}\n",
      "/home/jupyter/notebooks/pdbp/pm_gend_nbs/pdbp_wb_SVM24T1_expression_prep.ipynb\n"
     ]
    },
    {
     "data": {
      "application/vnd.jupyter.widget-view+json": {
       "model_id": "413dc0244adb48658e2cd9f17562a190",
       "version_major": 2,
       "version_minor": 0
      },
      "text/plain": [
       "Executing:   0%|          | 0/78 [00:00<?, ?cell/s]"
      ]
     },
     "metadata": {},
     "output_type": "display_data"
    },
    {
     "name": "stdout",
     "output_type": "stream",
     "text": [
      "{'cohort': 'ppmi', 'amp_abbr': 'PP', 'version': 'amppdv1', 'tissue': 'wb', 'visit': 0, 'visit_name': 'BLM0T1'}\n",
      "/home/jupyter/notebooks/ppmi/pm_gend_nbs/ppmi_wb_BLM0T1_expression_prep.ipynb\n"
     ]
    },
    {
     "data": {
      "application/vnd.jupyter.widget-view+json": {
       "model_id": "78b0206f36bc4191bad76574bc0aca0d",
       "version_major": 2,
       "version_minor": 0
      },
      "text/plain": [
       "Executing:   0%|          | 0/78 [00:00<?, ?cell/s]"
      ]
     },
     "metadata": {},
     "output_type": "display_data"
    },
    {
     "name": "stdout",
     "output_type": "stream",
     "text": [
      "{'cohort': 'ppmi', 'amp_abbr': 'PP', 'version': 'amppdv1', 'tissue': 'wb', 'visit': 6, 'visit_name': 'SVM6T1'}\n",
      "/home/jupyter/notebooks/ppmi/pm_gend_nbs/ppmi_wb_SVM6T1_expression_prep.ipynb\n"
     ]
    },
    {
     "data": {
      "application/vnd.jupyter.widget-view+json": {
       "model_id": "60f8d94f3a3e4cbeb5b62d82cca0535f",
       "version_major": 2,
       "version_minor": 0
      },
      "text/plain": [
       "Executing:   0%|          | 0/78 [00:00<?, ?cell/s]"
      ]
     },
     "metadata": {},
     "output_type": "display_data"
    },
    {
     "name": "stdout",
     "output_type": "stream",
     "text": [
      "{'cohort': 'ppmi', 'amp_abbr': 'PP', 'version': 'amppdv1', 'tissue': 'wb', 'visit': 12, 'visit_name': 'SVM12T1'}\n",
      "/home/jupyter/notebooks/ppmi/pm_gend_nbs/ppmi_wb_SVM12T1_expression_prep.ipynb\n"
     ]
    },
    {
     "data": {
      "application/vnd.jupyter.widget-view+json": {
       "model_id": "5056488853994e529033c07c1766b231",
       "version_major": 2,
       "version_minor": 0
      },
      "text/plain": [
       "Executing:   0%|          | 0/78 [00:00<?, ?cell/s]"
      ]
     },
     "metadata": {},
     "output_type": "display_data"
    },
    {
     "name": "stdout",
     "output_type": "stream",
     "text": [
      "{'cohort': 'ppmi', 'amp_abbr': 'PP', 'version': 'amppdv1', 'tissue': 'wb', 'visit': 24, 'visit_name': 'SVM24T1'}\n",
      "/home/jupyter/notebooks/ppmi/pm_gend_nbs/ppmi_wb_SVM24T1_expression_prep.ipynb\n"
     ]
    },
    {
     "data": {
      "application/vnd.jupyter.widget-view+json": {
       "model_id": "c0b05f43ca2e49faa4f13b3c58f181f4",
       "version_major": 2,
       "version_minor": 0
      },
      "text/plain": [
       "Executing:   0%|          | 0/78 [00:00<?, ?cell/s]"
      ]
     },
     "metadata": {},
     "output_type": "display_data"
    },
    {
     "name": "stdout",
     "output_type": "stream",
     "text": [
      "{'cohort': 'ppmi', 'amp_abbr': 'PP', 'version': 'amppdv1', 'tissue': 'wb', 'visit': 36, 'visit_name': 'SVM36T1'}\n",
      "/home/jupyter/notebooks/ppmi/pm_gend_nbs/ppmi_wb_SVM36T1_expression_prep.ipynb\n"
     ]
    },
    {
     "data": {
      "application/vnd.jupyter.widget-view+json": {
       "model_id": "d7629819e05744508ac9f4c08bc133f2",
       "version_major": 2,
       "version_minor": 0
      },
      "text/plain": [
       "Executing:   0%|          | 0/78 [00:00<?, ?cell/s]"
      ]
     },
     "metadata": {},
     "output_type": "display_data"
    },
    {
     "name": "stdout",
     "output_type": "stream",
     "text": [
      "CPU times: user 1min 37s, sys: 2.34 s, total: 1min 40s\n",
      "Wall time: 48min 47s\n"
     ]
    }
   ],
   "source": [
    "%%time\n",
    "\n",
    "cohorts = zip(cohort_names, cohort_abbrvs)\n",
    "for cohort, abbrv in cohorts:\n",
    "    out_nb_dir = f'/home/jupyter/notebooks/{cohort}/pm_gend_nbs'\n",
    "    # make sure the notebook output dir exists\n",
    "    os.makedirs(out_nb_dir, exist_ok=True)\n",
    "    wrk_dir = f'/home/jupyter/{cohort}'\n",
    "    visits = zip(months, visit_names)\n",
    "    for month, visit in visits:\n",
    "        # before running prep notebook make expr data for the cohort and visit\n",
    "        src_expression_matrix = f'/home/jupyter/amppd/expression/{abbrv}.{visit}.{quant_type}.hdf5'\n",
    "        if os.path.isfile(src_expression_matrix):\n",
    "            param_dict = {'cohort': cohort, 'amp_abbr': abbrv, 'version': version, \n",
    "                          'tissue': tissue, 'visit': month, 'visit_name': visit}\n",
    "            out_notebook = f'{out_nb_dir}/{cohort}_{tissue}_{visit}_expression_prep.ipynb'\n",
    "            print(param_dict)\n",
    "            print(out_notebook)\n",
    "            pm.execute_notebook(input_path=base_notebook, output_path=out_notebook, \n",
    "                                parameters=param_dict)"
   ]
  },
  {
   "cell_type": "code",
   "execution_count": null,
   "metadata": {},
   "outputs": [],
   "source": []
  }
 ],
 "metadata": {
  "environment": {
   "name": "pytorch-gpu.1-8.m65",
   "type": "gcloud",
   "uri": "gcr.io/deeplearning-platform-release/pytorch-gpu.1-8:m65"
  },
  "kernelspec": {
   "display_name": "Python 3",
   "language": "python",
   "name": "python3"
  },
  "language_info": {
   "codemirror_mode": {
    "name": "ipython",
    "version": 3
   },
   "file_extension": ".py",
   "mimetype": "text/x-python",
   "name": "python",
   "nbconvert_exporter": "python",
   "pygments_lexer": "ipython3",
   "version": "3.7.10"
  }
 },
 "nbformat": 4,
 "nbformat_minor": 4
}
