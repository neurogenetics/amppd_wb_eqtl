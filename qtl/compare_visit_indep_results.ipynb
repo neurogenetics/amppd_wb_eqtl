{
 "cells": [
  {
   "cell_type": "markdown",
   "id": "b5c5b898",
   "metadata": {},
   "source": [
    "#### Notebook to compare the significant independent singals for cohort by visit"
   ]
  },
  {
   "cell_type": "code",
   "execution_count": null,
   "id": "1f459fe6",
   "metadata": {},
   "outputs": [],
   "source": [
    "!date"
   ]
  },
  {
   "cell_type": "code",
   "execution_count": null,
   "id": "7ff34c54",
   "metadata": {},
   "outputs": [],
   "source": [
    "import pandas as pd\n",
    "import numpy as np\n",
    "import seaborn as sns\n",
    "import matplotlib.pyplot as plt\n",
    "import concurrent.futures"
   ]
  },
  {
   "cell_type": "code",
   "execution_count": null,
   "id": "9570e4ae",
   "metadata": {
    "tags": [
     "parameters"
    ]
   },
   "outputs": [],
   "source": [
    "# parameters\n",
    "cohort = 'ppmi'\n",
    "months = [0, 6 , 12, 24, 36]\n",
    "tissue = 'wb'"
   ]
  },
  {
   "cell_type": "code",
   "execution_count": null,
   "id": "23df0883",
   "metadata": {},
   "outputs": [],
   "source": [
    "# naming\n",
    "\n",
    "# directories\n",
    "home_dir = '/home/jupyter'\n",
    "wrk_dir = f'{home_dir}/{cohort}'\n",
    "tensorqtl_dir = f'{wrk_dir}/tensorqtl'\n",
    "results_dir = f'{wrk_dir}/results'\n",
    "\n",
    "# input files\n",
    "\n",
    "# out files\n",
    "indep_results_file = f'{results_dir}/{cohort}.{tissue}.cis.csv'\n",
    "\n",
    "# constants\n",
    "autosomes = [str(x) for x in list(range(1,23))]\n",
    "capture_out = !(nproc)\n",
    "max_threads = int(capture_out[0])"
   ]
  },
  {
   "cell_type": "markdown",
   "id": "eeb09fff",
   "metadata": {},
   "source": [
    "#### load the results"
   ]
  },
  {
   "cell_type": "code",
   "execution_count": null,
   "id": "826dfc44",
   "metadata": {},
   "outputs": [],
   "source": [
    "indep_df = None\n",
    "for month in months:\n",
    "    cohort_build = f'{cohort}.{tissue}{month}'\n",
    "    cis_indep_file = f'{results_dir}/{cohort_build}.cis.indep.csv'\n",
    "    this_df = pd.read_csv(cis_indep_file, index_col=0)\n",
    "    gene_cnt = len(this_df['phenotype_id'].unique())\n",
    "    print(f'month {month} shape is {this_df.shape} for {gene_cnt} genes')\n",
    "    this_df['month'] = month\n",
    "    indep_df = pd.concat([indep_df, this_df])\n",
    "    print(f'after month {month} total shape {indep_df.shape}')"
   ]
  },
  {
   "cell_type": "code",
   "execution_count": null,
   "id": "4786b213",
   "metadata": {},
   "outputs": [],
   "source": [
    "print(indep_df.shape)\n",
    "display(indep_df.sample(5))"
   ]
  },
  {
   "cell_type": "markdown",
   "id": "8521788e",
   "metadata": {},
   "source": [
    "#### make a key for the variant/pheno pair"
   ]
  },
  {
   "cell_type": "code",
   "execution_count": null,
   "id": "1e8a64f1",
   "metadata": {},
   "outputs": [],
   "source": [
    "indep_df['cispair'] = indep_df['phenotype_id'] + ':' + indep_df['variant_id']\n",
    "print(indep_df.shape)\n",
    "display(indep_df.sample(5))"
   ]
  },
  {
   "cell_type": "code",
   "execution_count": null,
   "id": "46dbb29f",
   "metadata": {},
   "outputs": [],
   "source": [
    "indep_df['cispair'].value_counts().value_counts()"
   ]
  },
  {
   "cell_type": "code",
   "execution_count": null,
   "id": "e606026b",
   "metadata": {},
   "outputs": [],
   "source": [
    "indep_df['month'].value_counts()"
   ]
  },
  {
   "cell_type": "markdown",
   "id": "0fe092f9",
   "metadata": {},
   "source": [
    "#### what is the max p-value in the independent signals"
   ]
  },
  {
   "cell_type": "code",
   "execution_count": null,
   "id": "a03e5630",
   "metadata": {},
   "outputs": [],
   "source": [
    "max_pvalue = indep_df['pval_nominal'].max()\n",
    "print(f'max nominal pvalue {max_pvalue}')"
   ]
  },
  {
   "cell_type": "markdown",
   "id": "c3bbcc0f",
   "metadata": {},
   "source": [
    "#### now that all the cispairs of interest are known get complete data for these"
   ]
  },
  {
   "cell_type": "code",
   "execution_count": null,
   "id": "091e6902",
   "metadata": {},
   "outputs": [],
   "source": [
    "def load_missing_qtl_results(find_items, in_file, month):\n",
    "    eqtl_df = pd.read_parquet(in_file)\n",
    "    eqtl_df['cispair'] = eqtl_df['phenotype_id'] + ':' + eqtl_df['variant_id']\n",
    "    found_df = eqtl_df.loc[eqtl_df['cispair'].isin(find_items)].copy()\n",
    "    found_df['month'] = month\n",
    "    return found_df"
   ]
  },
  {
   "cell_type": "code",
   "execution_count": null,
   "id": "9cde5ae3",
   "metadata": {},
   "outputs": [],
   "source": [
    "%%time\n",
    "fs_list = []\n",
    "lm_results = []\n",
    "with concurrent.futures.ThreadPoolExecutor(max_workers=max_threads*2) as tpe:\n",
    "    for month in months:\n",
    "        cohort_build = f'{cohort}.{tissue}{month}'\n",
    "        for chrom in autosomes:\n",
    "            this_result_file = f'{tensorqtl_dir}/{cohort_build}.cis_qtl_pairs.chr{chrom}.parquet'\n",
    "            fs_list.append(tpe.submit(load_missing_qtl_results, indep_df['cispair'], \n",
    "                                      this_result_file, month))\n",
    "for future in concurrent.futures.as_completed(fs_list):\n",
    "    lm_results.append(future.result())"
   ]
  },
  {
   "cell_type": "code",
   "execution_count": null,
   "id": "8a1e2859",
   "metadata": {},
   "outputs": [],
   "source": [
    "# combine the read results\n",
    "results_df = pd.concat(lm_results)\n",
    "print(results_df.shape)\n",
    "# display(results_df.sample(10))"
   ]
  },
  {
   "cell_type": "code",
   "execution_count": null,
   "id": "d8eb1a5e",
   "metadata": {},
   "outputs": [],
   "source": [
    "# %%time\n",
    "# results_df = None\n",
    "# for month in months:\n",
    "#     cohort_build = f'{cohort}.{tissue}{month}'\n",
    "#     for chrom in autosomes:\n",
    "#         this_result_file = f'{tensorqtl_dir}/{cohort_build}.cis_qtl_pairs.chr{chrom}.parquet'\n",
    "#         chrom_eqtl_df = pd.read_parquet(this_result_file)\n",
    "#         chrom_eqtl_df['cispair'] = chrom_eqtl_df['phenotype_id'] + ':' + chrom_eqtl_df['variant_id']\n",
    "#         this_keep_df = chrom_eqtl_df.loc[chrom_eqtl_df['cispair'].isin(indep_df['cispair'])].copy()\n",
    "#         this_keep_df['month'] = month\n",
    "#         results_df = pd.concat([results_df, this_keep_df])\n",
    "#     print(f'{month} total shape {results_df.shape}')"
   ]
  },
  {
   "cell_type": "code",
   "execution_count": null,
   "id": "704bc476",
   "metadata": {},
   "outputs": [],
   "source": [
    "results_df['cispair'].value_counts().value_counts()"
   ]
  },
  {
   "cell_type": "code",
   "execution_count": null,
   "id": "955ef40e",
   "metadata": {},
   "outputs": [],
   "source": [
    "results_df['month'].value_counts()"
   ]
  },
  {
   "cell_type": "code",
   "execution_count": null,
   "id": "643d6d37",
   "metadata": {},
   "outputs": [],
   "source": [
    "results_df['log10_pvalue'] = np.log10(results_df['pval_nominal'])*-1\n",
    "results_df['t_score'] = results_df['slope']/results_df['slope_se']\n",
    "results_df['t_score_abs'] = np.abs(results_df['t_score'])\n",
    "results_df['is_sig'] = np.where(results_df['pval_nominal'] < max_pvalue, 1, 0)"
   ]
  },
  {
   "cell_type": "code",
   "execution_count": null,
   "id": "1f62a935",
   "metadata": {},
   "outputs": [],
   "source": [
    "results_df.sample(5)"
   ]
  },
  {
   "cell_type": "code",
   "execution_count": null,
   "id": "010dc895",
   "metadata": {},
   "outputs": [],
   "source": [
    "results_df['is_sig'].value_counts()"
   ]
  },
  {
   "cell_type": "markdown",
   "id": "c0cb008c",
   "metadata": {},
   "source": [
    "#### save the combined results"
   ]
  },
  {
   "cell_type": "code",
   "execution_count": null,
   "id": "a730ef32",
   "metadata": {},
   "outputs": [],
   "source": [
    "results_df.to_csv(indep_results_file, index=False)"
   ]
  },
  {
   "cell_type": "code",
   "execution_count": null,
   "id": "b4dd28cf",
   "metadata": {},
   "outputs": [],
   "source": [
    "temp = results_df.groupby(['cispair'])['is_sig'].agg('sum')\n",
    "display(results_df.loc[results_df['is_sig'] == 0].head())\n",
    "display(temp.value_counts())"
   ]
  },
  {
   "cell_type": "code",
   "execution_count": null,
   "id": "c99c6299",
   "metadata": {},
   "outputs": [],
   "source": [
    "temp[temp == 0].head()"
   ]
  },
  {
   "cell_type": "code",
   "execution_count": null,
   "id": "3351a5d9",
   "metadata": {},
   "outputs": [],
   "source": [
    "results_df.groupby(['cispair'])['is_sig'].agg('sum').value_counts()"
   ]
  },
  {
   "cell_type": "markdown",
   "id": "bfca9e8f",
   "metadata": {},
   "source": [
    "#### for the stuff that isn't in largest powered group any visit standout"
   ]
  },
  {
   "cell_type": "code",
   "execution_count": null,
   "id": "07d61f15",
   "metadata": {},
   "outputs": [],
   "source": [
    "results_df.loc[results_df['month'] != 0]['month'].value_counts()"
   ]
  },
  {
   "cell_type": "code",
   "execution_count": null,
   "id": "14b838dd",
   "metadata": {},
   "outputs": [],
   "source": [
    "results_df.loc[results_df['month'] != 0].groupby(['cispair'])['is_sig'].agg('sum').value_counts()"
   ]
  },
  {
   "cell_type": "markdown",
   "id": "5f128c5a",
   "metadata": {},
   "source": [
    "#### annotate direction of effect for plotting"
   ]
  },
  {
   "cell_type": "code",
   "execution_count": null,
   "id": "e2e92561",
   "metadata": {},
   "outputs": [],
   "source": [
    "results_df['Direction'] = np.where(results_df['slope'] > 0, \n",
    "                                         'Increase', 'Descrease')\n",
    "display(results_df.sample(5))"
   ]
  },
  {
   "cell_type": "markdown",
   "id": "8bd9da13",
   "metadata": {},
   "source": [
    "#### do some quick plotting"
   ]
  },
  {
   "cell_type": "code",
   "execution_count": null,
   "id": "454ea097",
   "metadata": {},
   "outputs": [],
   "source": [
    "sns.lmplot(x='month', y='log10_pvalue', hue='Direction', \n",
    "           data=results_df, palette='Set1')"
   ]
  },
  {
   "cell_type": "code",
   "execution_count": null,
   "id": "c898a9e0",
   "metadata": {},
   "outputs": [],
   "source": [
    "sns.lmplot(x='month', y='t_score', hue='Direction', \n",
    "           data=results_df, palette='Set1')"
   ]
  },
  {
   "cell_type": "code",
   "execution_count": null,
   "id": "b2290330",
   "metadata": {},
   "outputs": [],
   "source": [
    "sns.lmplot(x='month', y='slope', hue='Direction', \n",
    "           data=results_df, palette='Set1')"
   ]
  },
  {
   "cell_type": "code",
   "execution_count": null,
   "id": "21c35ad5",
   "metadata": {},
   "outputs": [],
   "source": [
    "sns.lmplot(x='month', y='t_score_abs', hue='Direction', \n",
    "           data=results_df, palette='Set1')"
   ]
  },
  {
   "cell_type": "code",
   "execution_count": null,
   "id": "e52b011b",
   "metadata": {},
   "outputs": [],
   "source": [
    "sns.lmplot(x='month', y='af', hue='Direction', \n",
    "           data=results_df, palette='Set1')"
   ]
  },
  {
   "cell_type": "code",
   "execution_count": null,
   "id": "07e84a2f",
   "metadata": {},
   "outputs": [],
   "source": [
    "sns.lmplot(x='month', y='ma_count', hue='Direction', \n",
    "           data=results_df, palette='Set1')"
   ]
  },
  {
   "cell_type": "code",
   "execution_count": null,
   "id": "1d0babed",
   "metadata": {},
   "outputs": [],
   "source": [
    "sns.lmplot(x='month', y='tss_distance', hue='Direction', \n",
    "           data=results_df, palette='Set1')"
   ]
  },
  {
   "cell_type": "code",
   "execution_count": null,
   "id": "a54eb998",
   "metadata": {},
   "outputs": [],
   "source": [
    "sns.relplot(x='month', y='t_score', kind='line', hue='Direction',\n",
    "            data=results_df, palette='Set1')"
   ]
  },
  {
   "cell_type": "code",
   "execution_count": null,
   "id": "f43a53d6",
   "metadata": {},
   "outputs": [],
   "source": [
    "sns.relplot(x='month', y='t_score_abs', kind='line', hue='Direction',\n",
    "            data=results_df, palette='Set1')"
   ]
  },
  {
   "cell_type": "code",
   "execution_count": null,
   "id": "cb3e52bd",
   "metadata": {},
   "outputs": [],
   "source": [
    "sns.relplot(x='month', y='slope', kind='line', hue='Direction',\n",
    "            data=results_df, palette='Set1')"
   ]
  },
  {
   "cell_type": "code",
   "execution_count": null,
   "id": "8ddb66fd",
   "metadata": {},
   "outputs": [],
   "source": [
    "sns.relplot(x='month', y='log10_pvalue', kind='line', hue='Direction',\n",
    "            data=results_df, palette='Set1')"
   ]
  },
  {
   "cell_type": "code",
   "execution_count": null,
   "id": "18650153",
   "metadata": {},
   "outputs": [],
   "source": [
    "sns.relplot(x='tss_distance', y='log10_pvalue',hue='Direction',\n",
    "            data=results_df, palette='Set1')"
   ]
  },
  {
   "cell_type": "code",
   "execution_count": null,
   "id": "634cb633",
   "metadata": {},
   "outputs": [],
   "source": [
    "sns.scatterplot(x='tss_distance', y='log10_pvalue', hue='month',\n",
    "                data=results_df.sample(frac=1), palette='Set1')"
   ]
  },
  {
   "cell_type": "code",
   "execution_count": null,
   "id": "8d9537eb",
   "metadata": {},
   "outputs": [],
   "source": [
    "sns.relplot(x='tss_distance', y='t_score',hue='Direction',\n",
    "            data=results_df, palette='Set1')"
   ]
  },
  {
   "cell_type": "code",
   "execution_count": null,
   "id": "5ae3fdad",
   "metadata": {},
   "outputs": [],
   "source": [
    "sns.relplot(x='tss_distance', y='t_score',hue='month',\n",
    "            data=results_df.sample(frac=1), palette='Set1')"
   ]
  },
  {
   "cell_type": "code",
   "execution_count": null,
   "id": "31dda2e1",
   "metadata": {},
   "outputs": [],
   "source": []
  }
 ],
 "metadata": {
  "environment": {
   "name": "pytorch-gpu.1-8.m73",
   "type": "gcloud",
   "uri": "gcr.io/deeplearning-platform-release/pytorch-gpu.1-8:m73"
  },
  "kernelspec": {
   "display_name": "Python 3",
   "language": "python",
   "name": "python3"
  },
  "language_info": {
   "codemirror_mode": {
    "name": "ipython",
    "version": 3
   },
   "file_extension": ".py",
   "mimetype": "text/x-python",
   "name": "python",
   "nbconvert_exporter": "python",
   "pygments_lexer": "ipython3",
   "version": "3.7.10"
  },
  "widgets": {
   "application/vnd.jupyter.widget-state+json": {
    "state": {},
    "version_major": 2,
    "version_minor": 0
   }
  }
 },
 "nbformat": 4,
 "nbformat_minor": 5
}
