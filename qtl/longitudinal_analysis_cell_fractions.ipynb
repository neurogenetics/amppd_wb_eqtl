{
 "cells": [
  {
   "cell_type": "markdown",
   "id": "b2ee4154",
   "metadata": {},
   "source": [
    "## Notebook to do longitudinal analysis of cell fractions over time\n",
    "- here using PPMI as discovery cohort and PDBP as replication\n",
    "- features to be considered, probably should do in separate notebooks\n",
    "    - expression ~ time + (1| subject)\n",
    "    - cell fractions ~ time + (1| subject), (caveat cell fractions predicted based on PPMI, so PDBP not full replication)\n",
    "    - eqtl_betas ~ time\n",
    "    \n",
    "based on running linear mixed effects models in python examples:\n",
    "- [Comparing R lmer to Statsmodels MixedLM](https://nbviewer.jupyter.org/urls/umich.box.com/shared/static/6tfc1e0q6jincsv5pgfa.ipynb)\n",
    "- [Linear Mixed Effects Models](https://www.statsmodels.org/devel/examples/notebooks/generated/mixed_lm_example.html)\n",
    "- [statsmodel mixedlm from formula](https://www.statsmodels.org/dev/generated/statsmodels.regression.mixed_linear_model.MixedLM.from_formula.html)"
   ]
  },
  {
   "cell_type": "code",
   "execution_count": 1,
   "id": "f278aef8",
   "metadata": {},
   "outputs": [
    {
     "name": "stdout",
     "output_type": "stream",
     "text": [
      "Mon May  3 14:33:27 UTC 2021\n"
     ]
    }
   ],
   "source": [
    "!date"
   ]
  },
  {
   "cell_type": "markdown",
   "id": "a526fc1b",
   "metadata": {},
   "source": [
    "#### import libraries and set notebook variables"
   ]
  },
  {
   "cell_type": "code",
   "execution_count": 2,
   "id": "a48de210",
   "metadata": {},
   "outputs": [],
   "source": [
    "import pandas as pd\n",
    "import statsmodels.api as sm\n",
    "import statsmodels.formula.api as smf\n",
    "import seaborn as sns"
   ]
  },
  {
   "cell_type": "code",
   "execution_count": 3,
   "id": "3e9c92ac",
   "metadata": {},
   "outputs": [],
   "source": [
    "# parameters\n",
    "cohort = 'amppd'\n",
    "disc_cohort = 'PP'\n",
    "disc_name = 'ppmi'\n",
    "rep_cohort = 'PD'\n",
    "rep_name = 'pdbp'\n",
    "months = [0, 1, 6 , 12, 18, 24, 36]\n",
    "visit_names = ['BLM0T1', 'SVM0_5T1', 'SVM6T1', 'SVM12T1', 'SVM18T1', 'SVM24T1', 'SVM36T1']\n",
    "visits = zip(months, visit_names)\n",
    "quant_type = 'genes'\n",
    "min_ppscore = 0.05\n",
    "\n",
    "# directories\n",
    "home_dir = '/home/jupyter'\n",
    "wrk_dir = f'{home_dir}/{cohort}'\n",
    "expr_dir = f'{wrk_dir}/expression'\n",
    "info_dir = f'{wrk_dir}/sample_info'\n",
    "\n",
    "# in files\n",
    "known_covs_file = f'{info_dir}/{cohort}_rna_sample_info.csv'\n",
    "umaps_file = f'{info_dir}/{cohort}_rna.umap.covs.csv'\n",
    "quants_file = f'{expr_dir}/{cohort}.{quant_type}.norm.adj.hdf5'\n",
    "disc_grs_file = f'{home_dir}/{disc_name}/sample_info/{disc_name}.grs.scaled.csv'\n",
    "rep_grs_file = f'{home_dir}/{rep_name}/sample_info/{rep_name}.grs.scaled.csv'"
   ]
  },
  {
   "cell_type": "markdown",
   "id": "3c970b90",
   "metadata": {},
   "source": [
    "#### analysis functions"
   ]
  },
  {
   "cell_type": "code",
   "execution_count": 4,
   "id": "59268893",
   "metadata": {},
   "outputs": [],
   "source": [
    "def mixed_model(formula, df, group_name):\n",
    "    model = sm.MixedLM.from_formula(formula, df, groups=df[group_name])\n",
    "    result = model.fit()\n",
    "    return result\n",
    "\n",
    "def mm_by_subject_hard_covs(dep_var, indep_var, df):\n",
    "    this_formula = f'{dep_var} ~ {indep_var} + age_at_baseline + sex + \\\n",
    "DX + education_level_years + GRS + x_umap + y_umap'\n",
    "    print(this_formula)\n",
    "    results = mixed_model(this_formula, df, 'wgsid')\n",
    "    return results"
   ]
  },
  {
   "cell_type": "markdown",
   "id": "31325875",
   "metadata": {},
   "source": [
    "#### load the known sample covariates"
   ]
  },
  {
   "cell_type": "code",
   "execution_count": 5,
   "id": "948f42ed",
   "metadata": {},
   "outputs": [
    {
     "name": "stdout",
     "output_type": "stream",
     "text": [
      "(8356, 37)\n"
     ]
    }
   ],
   "source": [
    "known_covs_df = pd.read_csv(known_covs_file, index_col=0)\n",
    "print(known_covs_df.shape)\n",
    "# display(known_covs_df.head())"
   ]
  },
  {
   "cell_type": "code",
   "execution_count": 6,
   "id": "1743e9c5",
   "metadata": {},
   "outputs": [
    {
     "name": "stdout",
     "output_type": "stream",
     "text": [
      "(8266, 2)\n"
     ]
    }
   ],
   "source": [
    "umaps_df = pd.read_csv(umaps_file, index_col=0)\n",
    "print(umaps_df.shape)\n",
    "# display(umaps_df.head())"
   ]
  },
  {
   "cell_type": "code",
   "execution_count": 7,
   "id": "56480b24",
   "metadata": {},
   "outputs": [
    {
     "name": "stdout",
     "output_type": "stream",
     "text": [
      "(8266, 39)\n"
     ]
    }
   ],
   "source": [
    "covs_df = umaps_df.merge(known_covs_df, how='inner', left_index=True, right_index=True)\n",
    "print(covs_df.shape)\n",
    "# display(covs_df.head())"
   ]
  },
  {
   "cell_type": "markdown",
   "id": "a1392322",
   "metadata": {},
   "source": [
    "#### add month column based on visit"
   ]
  },
  {
   "cell_type": "code",
   "execution_count": 8,
   "id": "3fc977be",
   "metadata": {},
   "outputs": [],
   "source": [
    "for month, visit in visits:\n",
    "    covs_df.loc[covs_df['visit'] == visit, 'month'] = int(month)\n",
    "    \n",
    "covs_df['month'] = covs_df['month'].astype('int32')"
   ]
  },
  {
   "cell_type": "code",
   "execution_count": 9,
   "id": "60555a99",
   "metadata": {},
   "outputs": [
    {
     "data": {
      "text/plain": [
       "cohort  month\n",
       "BF      1         207\n",
       "PD      0        1383\n",
       "        12        575\n",
       "        6         551\n",
       "        18        487\n",
       "        24        456\n",
       "PP      0        1511\n",
       "        12        872\n",
       "        6         853\n",
       "        24        830\n",
       "        36        541\n",
       "Name: month, dtype: int64"
      ]
     },
     "execution_count": 9,
     "metadata": {},
     "output_type": "execute_result"
    }
   ],
   "source": [
    "covs_df.groupby('cohort')['month'].value_counts()"
   ]
  },
  {
   "cell_type": "markdown",
   "id": "ebec53d8",
   "metadata": {},
   "source": [
    "#### load the expression matrix"
   ]
  },
  {
   "cell_type": "code",
   "execution_count": 10,
   "id": "94024d0b",
   "metadata": {},
   "outputs": [
    {
     "name": "stdout",
     "output_type": "stream",
     "text": [
      "(8266, 15482)\n",
      "CPU times: user 384 ms, sys: 718 ms, total: 1.1 s\n",
      "Wall time: 1.1 s\n"
     ]
    }
   ],
   "source": [
    "%%time\n",
    "expr_df = pd.read_hdf(quants_file, index_col=0)\n",
    "print(expr_df.shape)\n",
    "# display(expr_df.head())"
   ]
  },
  {
   "cell_type": "code",
   "execution_count": 11,
   "id": "504c03d8",
   "metadata": {},
   "outputs": [],
   "source": [
    "# display(expr_df.head())"
   ]
  },
  {
   "cell_type": "markdown",
   "id": "68b24628",
   "metadata": {},
   "source": [
    "#### subset the discovery and replication cohorts"
   ]
  },
  {
   "cell_type": "code",
   "execution_count": 12,
   "id": "ddc622d0",
   "metadata": {},
   "outputs": [
    {
     "name": "stdout",
     "output_type": "stream",
     "text": [
      "(4607, 40)\n"
     ]
    },
    {
     "data": {
      "text/plain": [
       "cohort  month\n",
       "PP      0        1511\n",
       "        12        872\n",
       "        6         853\n",
       "        24        830\n",
       "        36        541\n",
       "Name: month, dtype: int64"
      ]
     },
     "execution_count": 12,
     "metadata": {},
     "output_type": "execute_result"
    }
   ],
   "source": [
    "disc_cov_df = covs_df.loc[covs_df['cohort'] == disc_cohort]\n",
    "print(disc_cov_df.shape)\n",
    "# display(disc_cov_df.head())\n",
    "disc_cov_df.groupby('cohort')['month'].value_counts()"
   ]
  },
  {
   "cell_type": "code",
   "execution_count": 13,
   "id": "64a52156",
   "metadata": {},
   "outputs": [
    {
     "name": "stdout",
     "output_type": "stream",
     "text": [
      "(3452, 40)\n"
     ]
    },
    {
     "data": {
      "text/plain": [
       "cohort  month\n",
       "PD      0        1383\n",
       "        12        575\n",
       "        6         551\n",
       "        18        487\n",
       "        24        456\n",
       "Name: month, dtype: int64"
      ]
     },
     "execution_count": 13,
     "metadata": {},
     "output_type": "execute_result"
    }
   ],
   "source": [
    "rep_cov_df = covs_df.loc[covs_df['cohort'] == rep_cohort]\n",
    "print(rep_cov_df.shape)\n",
    "# display(rep_cov_df.head())\n",
    "rep_cov_df.groupby('cohort')['month'].value_counts()"
   ]
  },
  {
   "cell_type": "markdown",
   "id": "d7653bb9",
   "metadata": {},
   "source": [
    "#### load and add GRS"
   ]
  },
  {
   "cell_type": "code",
   "execution_count": 14,
   "id": "428e8611",
   "metadata": {},
   "outputs": [
    {
     "name": "stdout",
     "output_type": "stream",
     "text": [
      "(1276, 3)\n",
      "(1383, 3)\n"
     ]
    }
   ],
   "source": [
    "disc_grs_df = pd.read_csv(disc_grs_file)\n",
    "print(disc_grs_df.shape)\n",
    "# display(disc_grs_df.head())\n",
    "rep_grs_df = pd.read_csv(rep_grs_file)\n",
    "print(rep_grs_df.shape)\n",
    "# display(rep_grs_df.head())"
   ]
  },
  {
   "cell_type": "code",
   "execution_count": 15,
   "id": "d692e288",
   "metadata": {},
   "outputs": [
    {
     "name": "stdout",
     "output_type": "stream",
     "text": [
      "(3870, 43)\n"
     ]
    }
   ],
   "source": [
    "disc_cov_df = disc_cov_df.reset_index().merge(disc_grs_df, how='inner', \n",
    "                                              left_on='wgsid', right_on='IID').set_index('index')\n",
    "print(disc_cov_df.shape)\n",
    "# display(disc_cov_df.head())"
   ]
  },
  {
   "cell_type": "code",
   "execution_count": 16,
   "id": "dba33d27",
   "metadata": {},
   "outputs": [
    {
     "name": "stdout",
     "output_type": "stream",
     "text": [
      "(3022, 43)\n"
     ]
    }
   ],
   "source": [
    "rep_cov_df = rep_cov_df.reset_index().merge(rep_grs_df, how='inner', \n",
    "                                            left_on='wgsid', right_on='IID').set_index('index')\n",
    "print(rep_cov_df.shape)\n",
    "# display(rep_cov_df.head())"
   ]
  },
  {
   "cell_type": "code",
   "execution_count": 17,
   "id": "1c0c2f8a",
   "metadata": {},
   "outputs": [],
   "source": [
    "# dep_var = 'predicted_Neutrophils'\n",
    "# indep_var = 'DX'\n",
    "# this_formula = f'{dep_var} ~ {indep_var}'\n",
    "# print(this_formula)\n",
    "# model = sm.MixedLM.from_formula(this_formula, disc_cov_df, \n",
    "#                                 groups=disc_cov_df['wgsid'])\n",
    "# result = model.fit()\n",
    "# print(result.summary())"
   ]
  },
  {
   "cell_type": "code",
   "execution_count": 18,
   "id": "efa9f5f2",
   "metadata": {},
   "outputs": [],
   "source": [
    "# dep_var = 'predicted_Neutrophils'\n",
    "# indep_var = 'month'\n",
    "# this_formula = f'{dep_var} ~ {indep_var}'\n",
    "# print(this_formula)\n",
    "# model = sm.MixedLM.from_formula(this_formula, disc_cov_df, \n",
    "#                                 groups=disc_cov_df['wgsid'])\n",
    "# result = model.fit()\n",
    "# print(result.summary())"
   ]
  },
  {
   "cell_type": "code",
   "execution_count": 19,
   "id": "9f3a8624",
   "metadata": {},
   "outputs": [],
   "source": [
    "# endog = disc_cov_df['predicted_Neutrophils']\n",
    "# disc_cov_df['Intercept'] = 1\n",
    "# exog = disc_cov_df[['Intercept', 'month']]\n",
    "# model = sm.MixedLM(endog, exog, groups=disc_cov_df['wgsid'], \n",
    "#                                 exog_re=exog['Intercept'])\n",
    "# result = model.fit()\n",
    "# print(result.summary())"
   ]
  },
  {
   "cell_type": "markdown",
   "id": "0b27127f",
   "metadata": {},
   "source": [
    "#### run just the mixed effects model"
   ]
  },
  {
   "cell_type": "code",
   "execution_count": 20,
   "id": "11cb5f8a",
   "metadata": {},
   "outputs": [
    {
     "name": "stderr",
     "output_type": "stream",
     "text": [
      "/opt/conda/lib/python3.7/site-packages/statsmodels/regression/mixed_linear_model.py:2237: ConvergenceWarning: The MLE may be on the boundary of the parameter space.\n",
      "  warnings.warn(msg, ConvergenceWarning)\n"
     ]
    },
    {
     "name": "stdout",
     "output_type": "stream",
     "text": [
      "              Mixed Linear Model Regression Results\n",
      "=================================================================\n",
      "Model:            MixedLM Dependent Variable: predicted_Basophils\n",
      "No. Observations: 3870    Method:             REML               \n",
      "No. Groups:       1241    Scale:              0.0064             \n",
      "Min. group size:  1       Log-Likelihood:     3367.2225          \n",
      "Max. group size:  5       Converged:          Yes                \n",
      "Mean group size:  3.1                                            \n",
      "-------------------------------------------------------------------\n",
      "               Coef.   Std.Err.      z      P>|z|   [0.025   0.975]\n",
      "-------------------------------------------------------------------\n",
      "Intercept      0.652      0.003   210.834   0.000    0.646    0.658\n",
      "month          0.000      0.000     0.059   0.953   -0.000    0.000\n",
      "Group Var      0.007      0.006                                    \n",
      "=================================================================\n",
      "\n"
     ]
    },
    {
     "name": "stderr",
     "output_type": "stream",
     "text": [
      "/opt/conda/lib/python3.7/site-packages/statsmodels/regression/mixed_linear_model.py:2237: ConvergenceWarning: The MLE may be on the boundary of the parameter space.\n",
      "  warnings.warn(msg, ConvergenceWarning)\n"
     ]
    },
    {
     "name": "stdout",
     "output_type": "stream",
     "text": [
      "              Mixed Linear Model Regression Results\n",
      "=================================================================\n",
      "Model:            MixedLM Dependent Variable: predicted_Basophils\n",
      "No. Observations: 3022    Method:             REML               \n",
      "No. Groups:       1213    Scale:              0.0047             \n",
      "Min. group size:  1       Log-Likelihood:     3090.1736          \n",
      "Max. group size:  5       Converged:          Yes                \n",
      "Mean group size:  2.5                                            \n",
      "-------------------------------------------------------------------\n",
      "              Coef.    Std.Err.      z      P>|z|   [0.025   0.975]\n",
      "-------------------------------------------------------------------\n",
      "Intercept      0.619      0.003   227.649   0.000    0.614    0.624\n",
      "month         -0.000      0.000    -0.131   0.896   -0.000    0.000\n",
      "Group Var      0.005      0.006                                    \n",
      "=================================================================\n",
      "\n",
      "               Mixed Linear Model Regression Results\n",
      "===================================================================\n",
      "Model:            MixedLM Dependent Variable: predicted_Eosinophils\n",
      "No. Observations: 3870    Method:             REML                 \n",
      "No. Groups:       1241    Scale:              0.4756               \n",
      "Min. group size:  1       Log-Likelihood:     -5308.9651           \n",
      "Max. group size:  5       Converged:          Yes                  \n",
      "Mean group size:  3.1                                              \n",
      "----------------------------------------------------------------------\n",
      "              Coef.    Std.Err.      z       P>|z|    [0.025    0.975]\n",
      "----------------------------------------------------------------------\n",
      "Intercept     2.332       0.034    67.973    0.000     2.265     2.400\n",
      "month         0.000       0.001     0.336    0.737    -0.002     0.002\n",
      "Group Var     1.132       0.093                                       \n",
      "===================================================================\n",
      "\n",
      "               Mixed Linear Model Regression Results\n",
      "===================================================================\n",
      "Model:            MixedLM Dependent Variable: predicted_Eosinophils\n",
      "No. Observations: 3022    Method:             REML                 \n",
      "No. Groups:       1213    Scale:              0.5123               \n",
      "Min. group size:  1       Log-Likelihood:     -4249.0845           \n",
      "Max. group size:  5       Converged:          Yes                  \n",
      "Mean group size:  2.5                                              \n",
      "----------------------------------------------------------------------\n",
      "              Coef.    Std.Err.      z       P>|z|    [0.025    0.975]\n",
      "----------------------------------------------------------------------\n",
      "Intercept     2.300       0.034    67.298    0.000     2.233     2.367\n",
      "month         0.004       0.002     2.467    0.014     0.001     0.008\n",
      "Group Var     0.987       0.093                                       \n",
      "===================================================================\n",
      "\n",
      "               Mixed Linear Model Regression Results\n",
      "===================================================================\n",
      "Model:            MixedLM Dependent Variable: predicted_Lymphocytes\n",
      "No. Observations: 3870    Method:             REML                 \n",
      "No. Groups:       1241    Scale:              13.7834              \n",
      "Min. group size:  1       Log-Likelihood:     -11798.0384          \n",
      "Max. group size:  5       Converged:          Yes                  \n",
      "Mean group size:  3.1                                              \n",
      "---------------------------------------------------------------------\n",
      "                Coef.    Std.Err.      z      P>|z|   [0.025   0.975]\n",
      "---------------------------------------------------------------------\n",
      "Intercept       28.746      0.182   158.167   0.000   28.390   29.102\n",
      "month           -0.029      0.005    -5.477   0.000   -0.040   -0.019\n",
      "Group Var       31.463      0.494                                    \n",
      "===================================================================\n",
      "\n",
      "               Mixed Linear Model Regression Results\n",
      "===================================================================\n",
      "Model:            MixedLM Dependent Variable: predicted_Lymphocytes\n",
      "No. Observations: 3022    Method:             REML                 \n",
      "No. Groups:       1213    Scale:              14.0148              \n",
      "Min. group size:  1       Log-Likelihood:     -9300.5717           \n",
      "Max. group size:  5       Converged:          Yes                  \n",
      "Mean group size:  2.5                                              \n",
      "---------------------------------------------------------------------\n",
      "                Coef.    Std.Err.      z      P>|z|   [0.025   0.975]\n",
      "---------------------------------------------------------------------\n",
      "Intercept       27.368      0.186   146.839   0.000   27.003   27.733\n",
      "month           -0.013      0.009    -1.482   0.138   -0.031    0.004\n",
      "Group Var       30.372      0.543                                    \n",
      "===================================================================\n",
      "\n",
      "              Mixed Linear Model Regression Results\n",
      "=================================================================\n",
      "Model:            MixedLM Dependent Variable: predicted_Monocytes\n",
      "No. Observations: 3870    Method:             REML               \n",
      "No. Groups:       1241    Scale:              0.3531             \n",
      "Min. group size:  1       Log-Likelihood:     -4615.0351         \n",
      "Max. group size:  5       Converged:          Yes                \n",
      "Mean group size:  3.1                                            \n",
      "-------------------------------------------------------------------\n",
      "               Coef.   Std.Err.      z      P>|z|   [0.025   0.975]\n",
      "-------------------------------------------------------------------\n",
      "Intercept      6.266      0.027   231.170   0.000    6.213    6.319\n",
      "month          0.002      0.001     2.442   0.015    0.000    0.004\n",
      "Group Var      0.668      0.066                                    \n",
      "=================================================================\n",
      "\n",
      "              Mixed Linear Model Regression Results\n",
      "=================================================================\n",
      "Model:            MixedLM Dependent Variable: predicted_Monocytes\n",
      "No. Observations: 3022    Method:             REML               \n",
      "No. Groups:       1213    Scale:              0.3415             \n",
      "Min. group size:  1       Log-Likelihood:     -3626.9249         \n",
      "Max. group size:  5       Converged:          Yes                \n",
      "Mean group size:  2.5                                            \n",
      "-------------------------------------------------------------------\n",
      "              Coef.    Std.Err.      z      P>|z|   [0.025   0.975]\n",
      "-------------------------------------------------------------------\n",
      "Intercept      6.473      0.028   233.666   0.000    6.419    6.527\n",
      "month         -0.001      0.001    -1.065   0.287   -0.004    0.001\n",
      "Group Var      0.645      0.073                                    \n",
      "=================================================================\n",
      "\n",
      "               Mixed Linear Model Regression Results\n",
      "===================================================================\n",
      "Model:            MixedLM Dependent Variable: predicted_Neutrophils\n",
      "No. Observations: 3870    Method:             REML                 \n",
      "No. Groups:       1241    Scale:              17.0894              \n",
      "Min. group size:  1       Log-Likelihood:     -12125.0575          \n",
      "Max. group size:  5       Converged:          Yes                  \n",
      "Mean group size:  3.1                                              \n",
      "---------------------------------------------------------------------\n",
      "                Coef.    Std.Err.      z      P>|z|   [0.025   0.975]\n",
      "---------------------------------------------------------------------\n",
      "Intercept       61.883      0.190   326.395   0.000   61.511   62.254\n",
      "month            0.028      0.006     4.641   0.000    0.016    0.039\n",
      "Group Var       32.821      0.476                                    \n",
      "===================================================================\n",
      "\n",
      "               Mixed Linear Model Regression Results\n",
      "===================================================================\n",
      "Model:            MixedLM Dependent Variable: predicted_Neutrophils\n",
      "No. Observations: 3022    Method:             REML                 \n",
      "No. Groups:       1213    Scale:              18.3909              \n",
      "Min. group size:  1       Log-Likelihood:     -9602.0715           \n",
      "Max. group size:  5       Converged:          Yes                  \n",
      "Mean group size:  2.5                                              \n",
      "---------------------------------------------------------------------\n",
      "                Coef.    Std.Err.      z      P>|z|   [0.025   0.975]\n",
      "---------------------------------------------------------------------\n",
      "Intercept       62.865      0.197   319.686   0.000   62.480   63.250\n",
      "month            0.010      0.010     0.947   0.344   -0.010    0.030\n",
      "Group Var       31.501      0.514                                    \n",
      "===================================================================\n",
      "\n",
      "CPU times: user 30.6 s, sys: 363 ms, total: 31 s\n",
      "Wall time: 17.8 s\n"
     ]
    }
   ],
   "source": [
    "%%time\n",
    "cell_cols = disc_cov_df.columns[disc_cov_df.columns.str.startswith('predicted_')].to_list()\n",
    "# dep_var = 'predicted_Neutrophils'\n",
    "indep_var = 'month'\n",
    "# run cell fracs ~ month for all cell types in both discovery and replication cohorts\n",
    "for cell_type in cell_cols:\n",
    "    this_formula = f'{cell_type} ~ {indep_var}'\n",
    "    grouping = 'wgsid'\n",
    "    result = mixed_model(this_formula, disc_cov_df, grouping)\n",
    "    print(result.summary())\n",
    "    result = mixed_model(this_formula, rep_cov_df, grouping)\n",
    "    print(result.summary())"
   ]
  },
  {
   "cell_type": "markdown",
   "id": "200eba23",
   "metadata": {},
   "source": [
    "#### run mixed effects model including age, sex, afftected status, GRS, and education level"
   ]
  },
  {
   "cell_type": "code",
   "execution_count": 21,
   "id": "3a60a0b9",
   "metadata": {},
   "outputs": [
    {
     "name": "stdout",
     "output_type": "stream",
     "text": [
      "predicted_Basophils ~ month + age_at_baseline + sex + DX + education_level_years + GRS + x_umap + y_umap\n"
     ]
    },
    {
     "name": "stderr",
     "output_type": "stream",
     "text": [
      "/opt/conda/lib/python3.7/site-packages/statsmodels/regression/mixed_linear_model.py:2237: ConvergenceWarning: The MLE may be on the boundary of the parameter space.\n",
      "  warnings.warn(msg, ConvergenceWarning)\n"
     ]
    },
    {
     "name": "stdout",
     "output_type": "stream",
     "text": [
      "                          Mixed Linear Model Regression Results\n",
      "=========================================================================================\n",
      "Model:                    MixedLM         Dependent Variable:         predicted_Basophils\n",
      "No. Observations:         3870            Method:                     REML               \n",
      "No. Groups:               1241            Scale:                      0.0059             \n",
      "Min. group size:          1               Log-Likelihood:             3467.3492          \n",
      "Max. group size:          5               Converged:                  Yes                \n",
      "Mean group size:          3.1                                                            \n",
      "-----------------------------------------------------------------------------------------\n",
      "                                               Coef.  Std.Err.   z    P>|z| [0.025 0.975]\n",
      "-----------------------------------------------------------------------------------------\n",
      "Intercept                                       0.634    0.068  9.275 0.000  0.500  0.769\n",
      "sex[T.Male]                                    -0.014    0.006 -2.368 0.018 -0.025 -0.002\n",
      "DX[T.GC-PD]                                    -0.022    0.012 -1.767 0.077 -0.046  0.002\n",
      "DX[T.GC-unaffected]                             0.001    0.012  0.084 0.933 -0.022  0.024\n",
      "DX[T.GR-PD]                                    -0.062    0.015 -4.217 0.000 -0.092 -0.033\n",
      "DX[T.GR-unaffected]                            -0.033    0.014 -2.457 0.014 -0.060 -0.007\n",
      "DX[T.Other]                                    -0.013    0.011 -1.151 0.250 -0.035  0.009\n",
      "DX[T.PD]                                       -0.029    0.008 -3.385 0.001 -0.045 -0.012\n",
      "education_level_years[T.12-16 years]            0.017    0.065  0.264 0.791 -0.111  0.145\n",
      "education_level_years[T.Greater than 16 years]  0.026    0.065  0.401 0.688 -0.102  0.154\n",
      "education_level_years[T.Less than 12 years]    -0.003    0.066 -0.050 0.960 -0.132  0.126\n",
      "education_level_years[T.None]                   0.020    0.132  0.152 0.879 -0.239  0.279\n",
      "education_level_years[T.Unknown]                0.032    0.104  0.309 0.757 -0.172  0.236\n",
      "month                                           0.000    0.000  1.808 0.071 -0.000  0.000\n",
      "age_at_baseline                                 0.000    0.000  0.384 0.701 -0.000  0.001\n",
      "GRS                                             0.019    0.025  0.766 0.444 -0.030  0.069\n",
      "x_umap                                          0.029    0.002 15.186 0.000  0.025  0.033\n",
      "y_umap                                         -0.003    0.002 -1.992 0.046 -0.007 -0.000\n",
      "Group Var                                       0.007    0.006                           \n",
      "=========================================================================================\n",
      "\n",
      "predicted_Basophils ~ month + age_at_baseline + sex + DX + education_level_years + GRS + x_umap + y_umap\n"
     ]
    },
    {
     "name": "stderr",
     "output_type": "stream",
     "text": [
      "/opt/conda/lib/python3.7/site-packages/statsmodels/regression/mixed_linear_model.py:2237: ConvergenceWarning: The MLE may be on the boundary of the parameter space.\n",
      "  warnings.warn(msg, ConvergenceWarning)\n"
     ]
    },
    {
     "name": "stdout",
     "output_type": "stream",
     "text": [
      "                          Mixed Linear Model Regression Results\n",
      "==========================================================================================\n",
      "Model:                     MixedLM         Dependent Variable:         predicted_Basophils\n",
      "No. Observations:          3022            Method:                     REML               \n",
      "No. Groups:                1213            Scale:                      0.0045             \n",
      "Min. group size:           1               Log-Likelihood:             3138.8291          \n",
      "Max. group size:           5               Converged:                  Yes                \n",
      "Mean group size:           2.5                                                            \n",
      "------------------------------------------------------------------------------------------\n",
      "                                               Coef.  Std.Err.    z    P>|z| [0.025 0.975]\n",
      "------------------------------------------------------------------------------------------\n",
      "Intercept                                       0.701    0.018  38.599 0.000  0.666  0.737\n",
      "sex[T.Male]                                    -0.009    0.005  -1.799 0.072 -0.019  0.001\n",
      "DX[T.Other]                                    -0.014    0.010  -1.417 0.157 -0.033  0.005\n",
      "DX[T.PD]                                       -0.013    0.006  -2.300 0.021 -0.024 -0.002\n",
      "education_level_years[T.Greater than 16 years]  0.014    0.005   2.707 0.007  0.004  0.025\n",
      "education_level_years[T.Less than 12 years]    -0.011    0.017  -0.668 0.504 -0.045  0.022\n",
      "education_level_years[T.Unknown]               -0.009    0.050  -0.174 0.862 -0.107  0.090\n",
      "month                                           0.000    0.000   0.589 0.556 -0.000  0.000\n",
      "age_at_baseline                                -0.001    0.000  -3.726 0.000 -0.001 -0.000\n",
      "GRS                                            -0.012    0.021  -0.564 0.573 -0.053  0.029\n",
      "x_umap                                          0.017    0.003   6.848 0.000  0.012  0.022\n",
      "y_umap                                         -0.024    0.002 -12.192 0.000 -0.028 -0.020\n",
      "Group Var                                       0.005    0.005                            \n",
      "==========================================================================================\n",
      "\n",
      "predicted_Eosinophils ~ month + age_at_baseline + sex + DX + education_level_years + GRS + x_umap + y_umap\n",
      "                          Mixed Linear Model Regression Results\n",
      "=========================================================================================\n",
      "Model:                    MixedLM        Dependent Variable:        predicted_Eosinophils\n",
      "No. Observations:         3870           Method:                    REML                 \n",
      "No. Groups:               1241           Scale:                     0.4700               \n",
      "Min. group size:          1              Log-Likelihood:            -5290.6545           \n",
      "Max. group size:          5              Converged:                 Yes                  \n",
      "Mean group size:          3.1                                                            \n",
      "-----------------------------------------------------------------------------------------\n",
      "                                               Coef.  Std.Err.   z    P>|z| [0.025 0.975]\n",
      "-----------------------------------------------------------------------------------------\n",
      "Intercept                                       1.597    0.815  1.959 0.050 -0.001  3.195\n",
      "sex[T.Male]                                     0.188    0.068  2.779 0.005  0.055  0.321\n",
      "DX[T.GC-PD]                                    -0.158    0.143 -1.101 0.271 -0.439  0.123\n",
      "DX[T.GC-unaffected]                            -0.082    0.139 -0.586 0.558 -0.355  0.191\n",
      "DX[T.GR-PD]                                    -0.410    0.168 -2.439 0.015 -0.740 -0.081\n",
      "DX[T.GR-unaffected]                            -0.251    0.154 -1.624 0.104 -0.553  0.052\n",
      "DX[T.Other]                                     0.005    0.134  0.040 0.968 -0.257  0.268\n",
      "DX[T.PD]                                       -0.280    0.101 -2.781 0.005 -0.478 -0.083\n",
      "education_level_years[T.12-16 years]            0.066    0.781  0.084 0.933 -1.465  1.596\n",
      "education_level_years[T.Greater than 16 years]  0.118    0.781  0.151 0.880 -1.413  1.649\n",
      "education_level_years[T.Less than 12 years]    -0.074    0.786 -0.094 0.925 -1.615  1.467\n",
      "education_level_years[T.None]                  -0.543    1.486 -0.366 0.715 -3.456  2.370\n",
      "education_level_years[T.Unknown]               -0.926    1.185 -0.781 0.435 -3.249  1.397\n",
      "month                                           0.001    0.001  0.852 0.394 -0.001  0.003\n",
      "age_at_baseline                                 0.012    0.003  3.642 0.000  0.005  0.018\n",
      "GRS                                            -0.130    0.291 -0.446 0.655 -0.701  0.441\n",
      "x_umap                                          0.100    0.018  5.701 0.000  0.066  0.135\n",
      "y_umap                                         -0.058    0.016 -3.683 0.000 -0.089 -0.027\n",
      "Group Var                                       1.100    0.092                           \n",
      "=========================================================================================\n",
      "\n",
      "predicted_Eosinophils ~ month + age_at_baseline + sex + DX + education_level_years + GRS + x_umap + y_umap\n",
      "                          Mixed Linear Model Regression Results\n",
      "=========================================================================================\n",
      "Model:                    MixedLM        Dependent Variable:        predicted_Eosinophils\n",
      "No. Observations:         3022           Method:                    REML                 \n",
      "No. Groups:               1213           Scale:                     0.5030               \n",
      "Min. group size:          1              Log-Likelihood:            -4236.2497           \n",
      "Max. group size:          5              Converged:                 Yes                  \n",
      "Mean group size:          2.5                                                            \n",
      "-----------------------------------------------------------------------------------------\n",
      "                                               Coef.  Std.Err.   z    P>|z| [0.025 0.975]\n",
      "-----------------------------------------------------------------------------------------\n",
      "Intercept                                       2.138    0.241  8.860 0.000  1.665  2.610\n",
      "sex[T.Male]                                     0.227    0.067  3.380 0.001  0.095  0.358\n",
      "DX[T.Other]                                     0.226    0.129  1.761 0.078 -0.026  0.478\n",
      "DX[T.PD]                                       -0.159    0.075 -2.123 0.034 -0.305 -0.012\n",
      "education_level_years[T.Greater than 16 years]  0.011    0.071  0.161 0.872 -0.128  0.151\n",
      "education_level_years[T.Less than 12 years]    -0.180    0.222 -0.813 0.416 -0.614  0.254\n",
      "education_level_years[T.Unknown]                0.103    0.666  0.155 0.876 -1.201  1.408\n",
      "month                                           0.005    0.002  3.046 0.002  0.002  0.009\n",
      "age_at_baseline                                 0.001    0.003  0.195 0.845 -0.006  0.007\n",
      "GRS                                             0.318    0.278  1.147 0.251 -0.226  0.862\n",
      "x_umap                                          0.134    0.029  4.613 0.000  0.077  0.192\n",
      "y_umap                                         -0.135    0.022 -6.103 0.000 -0.178 -0.092\n",
      "Group Var                                       0.975    0.092                           \n",
      "=========================================================================================\n",
      "\n",
      "predicted_Lymphocytes ~ month + age_at_baseline + sex + DX + education_level_years + GRS + x_umap + y_umap\n",
      "                           Mixed Linear Model Regression Results\n",
      "===========================================================================================\n",
      "Model:                    MixedLM         Dependent Variable:         predicted_Lymphocytes\n",
      "No. Observations:         3870            Method:                     REML                 \n",
      "No. Groups:               1241            Scale:                      13.0908              \n",
      "Min. group size:          1               Log-Likelihood:             -11601.3743          \n",
      "Max. group size:          5               Converged:                  Yes                  \n",
      "Mean group size:          3.1                                                              \n",
      "-------------------------------------------------------------------------------------------\n",
      "                                               Coef.  Std.Err.    z    P>|z|  [0.025 0.975]\n",
      "-------------------------------------------------------------------------------------------\n",
      "Intercept                                      34.583    3.950   8.755 0.000  26.841 42.325\n",
      "sex[T.Male]                                    -1.609    0.330  -4.877 0.000  -2.256 -0.962\n",
      "DX[T.GC-PD]                                    -3.285    0.698  -4.707 0.000  -4.652 -1.917\n",
      "DX[T.GC-unaffected]                            -0.913    0.679  -1.344 0.179  -2.244  0.418\n",
      "DX[T.GR-PD]                                    -4.818    0.825  -5.837 0.000  -6.435 -3.200\n",
      "DX[T.GR-unaffected]                            -2.568    0.757  -3.393 0.001  -4.051 -1.085\n",
      "DX[T.Other]                                    -1.916    0.649  -2.951 0.003  -3.189 -0.643\n",
      "DX[T.PD]                                       -1.727    0.489  -3.535 0.000  -2.685 -0.770\n",
      "education_level_years[T.12-16 years]           -0.454    3.782  -0.120 0.904  -7.866  6.958\n",
      "education_level_years[T.Greater than 16 years] -0.075    3.783  -0.020 0.984  -7.490  7.340\n",
      "education_level_years[T.Less than 12 years]     1.163    3.808   0.305 0.760  -6.300  8.626\n",
      "education_level_years[T.None]                  -9.241    7.309  -1.264 0.206 -23.567  5.084\n",
      "education_level_years[T.Unknown]               -4.395    5.810  -0.756 0.449 -15.782  6.993\n",
      "month                                          -0.019    0.005  -3.602 0.000  -0.030 -0.009\n",
      "age_at_baseline                                -0.069    0.016  -4.396 0.000  -0.100 -0.038\n",
      "GRS                                             2.248    1.422   1.581 0.114  -0.539  5.036\n",
      "x_umap                                          1.408    0.093  15.192 0.000   1.227  1.590\n",
      "y_umap                                         -1.128    0.083 -13.559 0.000  -1.292 -0.965\n",
      "Group Var                                      25.331    0.421                             \n",
      "===========================================================================================\n",
      "\n",
      "predicted_Lymphocytes ~ month + age_at_baseline + sex + DX + education_level_years + GRS + x_umap + y_umap\n",
      "                          Mixed Linear Model Regression Results\n",
      "==========================================================================================\n",
      "Model:                     MixedLM        Dependent Variable:        predicted_Lymphocytes\n",
      "No. Observations:          3022           Method:                    REML                 \n",
      "No. Groups:                1213           Scale:                     13.3970              \n",
      "Min. group size:           1              Log-Likelihood:            -9124.9439           \n",
      "Max. group size:           5              Converged:                 Yes                  \n",
      "Mean group size:           2.5                                                            \n",
      "------------------------------------------------------------------------------------------\n",
      "                                               Coef.  Std.Err.    z    P>|z| [0.025 0.975]\n",
      "------------------------------------------------------------------------------------------\n",
      "Intercept                                      39.368    1.193  33.008 0.000 37.031 41.706\n",
      "sex[T.Male]                                    -2.250    0.331  -6.788 0.000 -2.900 -1.600\n",
      "DX[T.Other]                                    -3.648    0.638  -5.720 0.000 -4.898 -2.398\n",
      "DX[T.PD]                                       -2.355    0.370  -6.370 0.000 -3.079 -1.630\n",
      "education_level_years[T.Greater than 16 years]  0.766    0.352   2.177 0.030  0.076  1.456\n",
      "education_level_years[T.Less than 12 years]    -0.997    1.099  -0.908 0.364 -3.150  1.156\n",
      "education_level_years[T.Unknown]               -1.574    3.292  -0.478 0.633 -8.027  4.879\n",
      "month                                          -0.007    0.009  -0.741 0.459 -0.024  0.011\n",
      "age_at_baseline                                -0.118    0.016  -7.236 0.000 -0.151 -0.086\n",
      "GRS                                            -2.287    1.372  -1.667 0.096 -4.977  0.402\n",
      "x_umap                                          1.389    0.148   9.363 0.000  1.098  1.679\n",
      "y_umap                                         -1.432    0.113 -12.649 0.000 -1.653 -1.210\n",
      "Group Var                                      23.199    0.444                            \n",
      "==========================================================================================\n",
      "\n",
      "predicted_Monocytes ~ month + age_at_baseline + sex + DX + education_level_years + GRS + x_umap + y_umap\n",
      "                          Mixed Linear Model Regression Results\n",
      "=========================================================================================\n",
      "Model:                    MixedLM         Dependent Variable:         predicted_Monocytes\n",
      "No. Observations:         3870            Method:                     REML               \n",
      "No. Groups:               1241            Scale:                      0.3522             \n",
      "Min. group size:          1               Log-Likelihood:             -4526.1567         \n",
      "Max. group size:          5               Converged:                  Yes                \n",
      "Mean group size:          3.1                                                            \n",
      "-----------------------------------------------------------------------------------------\n",
      "                                               Coef.  Std.Err.   z    P>|z| [0.025 0.975]\n",
      "-----------------------------------------------------------------------------------------\n",
      "Intercept                                       5.334    0.586  9.095 0.000  4.185  6.484\n",
      "sex[T.Male]                                     0.488    0.049  9.888 0.000  0.391  0.585\n",
      "DX[T.GC-PD]                                    -0.556    0.104 -5.330 0.000 -0.760 -0.351\n",
      "DX[T.GC-unaffected]                            -0.348    0.102 -3.419 0.001 -0.547 -0.148\n",
      "DX[T.GR-PD]                                    -0.670    0.125 -5.382 0.000 -0.915 -0.426\n",
      "DX[T.GR-unaffected]                            -0.211    0.114 -1.849 0.064 -0.435  0.013\n",
      "DX[T.Other]                                    -0.174    0.097 -1.802 0.072 -0.363  0.015\n",
      "DX[T.PD]                                       -0.287    0.073 -3.950 0.000 -0.429 -0.144\n",
      "education_level_years[T.12-16 years]           -0.315    0.561 -0.562 0.574 -1.415  0.784\n",
      "education_level_years[T.Greater than 16 years] -0.293    0.561 -0.521 0.602 -1.393  0.807\n",
      "education_level_years[T.Less than 12 years]    -0.483    0.565 -0.855 0.393 -1.590  0.624\n",
      "education_level_years[T.None]                  -0.385    1.107 -0.348 0.728 -2.555  1.785\n",
      "education_level_years[T.Unknown]               -0.956    0.876 -1.091 0.275 -2.674  0.761\n",
      "month                                           0.001    0.001  1.610 0.107 -0.000  0.003\n",
      "age_at_baseline                                 0.019    0.002  8.076 0.000  0.014  0.024\n",
      "GRS                                             0.299    0.213  1.400 0.162 -0.120  0.717\n",
      "x_umap                                          0.005    0.015  0.329 0.742 -0.024  0.034\n",
      "y_umap                                         -0.029    0.013 -2.136 0.033 -0.055 -0.002\n",
      "Group Var                                       0.543    0.056                           \n",
      "=========================================================================================\n",
      "\n",
      "predicted_Monocytes ~ month + age_at_baseline + sex + DX + education_level_years + GRS + x_umap + y_umap\n",
      "                          Mixed Linear Model Regression Results\n",
      "=========================================================================================\n",
      "Model:                    MixedLM         Dependent Variable:         predicted_Monocytes\n",
      "No. Observations:         3022            Method:                     REML               \n",
      "No. Groups:               1213            Scale:                      0.3405             \n",
      "Min. group size:          1               Log-Likelihood:             -3596.5451         \n",
      "Max. group size:          5               Converged:                  Yes                \n",
      "Mean group size:          2.5                                                            \n",
      "-----------------------------------------------------------------------------------------\n",
      "                                               Coef.  Std.Err.   z    P>|z| [0.025 0.975]\n",
      "-----------------------------------------------------------------------------------------\n",
      "Intercept                                       5.633    0.190 29.660 0.000  5.261  6.005\n",
      "sex[T.Male]                                     0.397    0.053  7.525 0.000  0.294  0.501\n",
      "DX[T.Other]                                    -0.022    0.102 -0.221 0.825 -0.222  0.177\n",
      "DX[T.PD]                                       -0.197    0.059 -3.354 0.001 -0.313 -0.082\n",
      "education_level_years[T.Greater than 16 years]  0.050    0.056  0.889 0.374 -0.060  0.160\n",
      "education_level_years[T.Less than 12 years]     0.024    0.175  0.136 0.892 -0.319  0.367\n",
      "education_level_years[T.Unknown]               -0.188    0.524 -0.358 0.721 -1.215  0.840\n",
      "month                                          -0.001    0.001 -0.753 0.451 -0.004  0.002\n",
      "age_at_baseline                                 0.010    0.003  3.766 0.000  0.005  0.015\n",
      "GRS                                             0.131    0.218  0.601 0.548 -0.297  0.560\n",
      "x_umap                                         -0.059    0.024 -2.475 0.013 -0.105 -0.012\n",
      "y_umap                                         -0.032    0.018 -1.753 0.080 -0.067  0.004\n",
      "Group Var                                       0.588    0.069                           \n",
      "=========================================================================================\n",
      "\n",
      "predicted_Neutrophils ~ month + age_at_baseline + sex + DX + education_level_years + GRS + x_umap + y_umap\n",
      "                          Mixed Linear Model Regression Results\n",
      "==========================================================================================\n",
      "Model:                     MixedLM        Dependent Variable:        predicted_Neutrophils\n",
      "No. Observations:          3870           Method:                    REML                 \n",
      "No. Groups:                1241           Scale:                     16.3603              \n",
      "Min. group size:           1              Log-Likelihood:            -11950.4382          \n",
      "Max. group size:           5              Converged:                 Yes                  \n",
      "Mean group size:           3.1                                                            \n",
      "------------------------------------------------------------------------------------------\n",
      "                                               Coef.  Std.Err.    z    P>|z| [0.025 0.975]\n",
      "------------------------------------------------------------------------------------------\n",
      "Intercept                                      57.888    4.111  14.081 0.000 49.830 65.946\n",
      "sex[T.Male]                                     0.857    0.345   2.483 0.013  0.180  1.534\n",
      "DX[T.GC-PD]                                     4.122    0.729   5.650 0.000  2.692  5.551\n",
      "DX[T.GC-unaffected]                             1.437    0.711   2.020 0.043  0.043  2.830\n",
      "DX[T.GR-PD]                                     6.239    0.869   7.180 0.000  4.536  7.942\n",
      "DX[T.GR-unaffected]                             3.212    0.797   4.030 0.000  1.650  4.774\n",
      "DX[T.Other]                                     2.140    0.676   3.163 0.002  0.814  3.465\n",
      "DX[T.PD]                                        2.398    0.509   4.714 0.000  1.401  3.394\n",
      "education_level_years[T.12-16 years]            0.288    3.934   0.073 0.942 -7.423  7.998\n",
      "education_level_years[T.Greater than 16 years] -0.140    3.935  -0.036 0.972 -7.852  7.573\n",
      "education_level_years[T.Less than 12 years]    -0.880    3.961  -0.222 0.824 -8.643  6.884\n",
      "education_level_years[T.None]                   9.697    7.715   1.257 0.209 -5.423 24.818\n",
      "education_level_years[T.Unknown]                5.963    6.114   0.975 0.329 -6.020 17.946\n",
      "month                                           0.019    0.006   3.117 0.002  0.007  0.030\n",
      "age_at_baseline                                 0.041    0.016   2.519 0.012  0.009  0.074\n",
      "GRS                                            -2.649    1.491  -1.776 0.076 -5.571  0.274\n",
      "x_umap                                         -1.432    0.103 -13.955 0.000 -1.633 -1.231\n",
      "y_umap                                          1.207    0.092  13.076 0.000  1.026  1.387\n",
      "Group Var                                      26.911    0.411                            \n",
      "==========================================================================================\n",
      "\n",
      "predicted_Neutrophils ~ month + age_at_baseline + sex + DX + education_level_years + GRS + x_umap + y_umap\n",
      "                          Mixed Linear Model Regression Results\n",
      "=========================================================================================\n",
      "Model:                    MixedLM        Dependent Variable:        predicted_Neutrophils\n",
      "No. Observations:         3022           Method:                    REML                 \n",
      "No. Groups:               1213           Scale:                     17.7589              \n",
      "Min. group size:          1              Log-Likelihood:            -9461.4518           \n",
      "Max. group size:          5              Converged:                 Yes                  \n",
      "Mean group size:          2.5                                                            \n",
      "-----------------------------------------------------------------------------------------\n",
      "                                               Coef.  Std.Err.   z    P>|z| [0.025 0.975]\n",
      "-----------------------------------------------------------------------------------------\n",
      "Intercept                                      51.719    1.275 40.564 0.000 49.220 54.218\n",
      "sex[T.Male]                                     1.602    0.354  4.526 0.000  0.908  2.296\n",
      "DX[T.Other]                                     3.467    0.686  5.051 0.000  2.122  4.812\n",
      "DX[T.PD]                                        2.766    0.395  7.006 0.000  1.992  3.539\n",
      "education_level_years[T.Greater than 16 years] -0.859    0.376 -2.287 0.022 -1.595 -0.123\n",
      "education_level_years[T.Less than 12 years]     1.078    1.181  0.913 0.361 -1.236  3.392\n",
      "education_level_years[T.Unknown]                1.783    3.525  0.506 0.613 -5.125  8.691\n",
      "month                                           0.002    0.010  0.171 0.864 -0.018  0.021\n",
      "age_at_baseline                                 0.113    0.017  6.437 0.000  0.078  0.147\n",
      "GRS                                             1.783    1.467  1.216 0.224 -1.092  4.659\n",
      "x_umap                                         -1.189    0.166 -7.146 0.000 -1.515 -0.863\n",
      "y_umap                                          1.464    0.127 11.481 0.000  1.214  1.714\n",
      "Group Var                                      25.169    0.436                           \n",
      "=========================================================================================\n",
      "\n",
      "CPU times: user 1min 53s, sys: 2.22 s, total: 1min 55s\n",
      "Wall time: 20.1 s\n"
     ]
    }
   ],
   "source": [
    "%%time\n",
    "cell_cols = disc_cov_df.columns[disc_cov_df.columns.str.startswith('predicted_')].to_list()\n",
    "# dep_var = 'predicted_Neutrophils'\n",
    "indep_var = 'month'\n",
    "# run cell fracs ~ month for all cell types in both discovery and replication cohorts\n",
    "for cell_type in cell_cols:\n",
    "    result = mm_by_subject_hard_covs(cell_type, indep_var, disc_cov_df)\n",
    "    print(result.summary())\n",
    "    result = mm_by_subject_hard_covs(cell_type, indep_var, rep_cov_df)\n",
    "    print(result.summary())"
   ]
  },
  {
   "cell_type": "code",
   "execution_count": 22,
   "id": "41f4eaf6",
   "metadata": {},
   "outputs": [
    {
     "name": "stdout",
     "output_type": "stream",
     "text": [
      "              Mixed Linear Model Regression Results\n",
      "=================================================================\n",
      "Model:            MixedLM Dependent Variable: predicted_Basophils\n",
      "No. Observations: 3870    Method:             REML               \n",
      "No. Groups:       7       Scale:              0.0137             \n",
      "Min. group size:  125     Log-Likelihood:     2785.8408          \n",
      "Max. group size:  1573    Converged:          Yes                \n",
      "Mean group size:  552.9                                          \n",
      "-------------------------------------------------------------------\n",
      "               Coef.    Std.Err.     z      P>|z|   [0.025   0.975]\n",
      "-------------------------------------------------------------------\n",
      "Intercept       0.654      0.008   82.969   0.000    0.638    0.669\n",
      "month          -0.000      0.000   -0.103   0.918   -0.000    0.000\n",
      "Group Var       0.000      0.002                                   \n",
      "=================================================================\n",
      "\n",
      "              Mixed Linear Model Regression Results\n",
      "=================================================================\n",
      "Model:            MixedLM Dependent Variable: predicted_Basophils\n",
      "No. Observations: 3022    Method:             REML               \n",
      "No. Groups:       3       Scale:              0.0099             \n",
      "Min. group size:  140     Log-Likelihood:     2674.3051          \n",
      "Max. group size:  1994    Converged:          Yes                \n",
      "Mean group size:  1007.3                                         \n",
      "-------------------------------------------------------------------\n",
      "                Coef.   Std.Err.     z      P>|z|   [0.025   0.975]\n",
      "-------------------------------------------------------------------\n",
      "Intercept       0.619      0.008   75.869   0.000    0.603    0.635\n",
      "month           0.000      0.000    1.167   0.243   -0.000    0.001\n",
      "Group Var       0.000      0.002                                   \n",
      "=================================================================\n",
      "\n"
     ]
    },
    {
     "name": "stderr",
     "output_type": "stream",
     "text": [
      "/opt/conda/lib/python3.7/site-packages/statsmodels/regression/mixed_linear_model.py:2237: ConvergenceWarning: The MLE may be on the boundary of the parameter space.\n",
      "  warnings.warn(msg, ConvergenceWarning)\n",
      "/opt/conda/lib/python3.7/site-packages/statsmodels/regression/mixed_linear_model.py:2237: ConvergenceWarning: The MLE may be on the boundary of the parameter space.\n",
      "  warnings.warn(msg, ConvergenceWarning)\n"
     ]
    },
    {
     "name": "stdout",
     "output_type": "stream",
     "text": [
      "               Mixed Linear Model Regression Results\n",
      "===================================================================\n",
      "Model:            MixedLM Dependent Variable: predicted_Eosinophils\n",
      "No. Observations: 3870    Method:             REML                 \n",
      "No. Groups:       7       Scale:              1.6361               \n",
      "Min. group size:  125     Log-Likelihood:     -6457.2167           \n",
      "Max. group size:  1573    Converged:          Yes                  \n",
      "Mean group size:  552.9                                            \n",
      "----------------------------------------------------------------------\n",
      "              Coef.    Std.Err.      z       P>|z|    [0.025    0.975]\n",
      "----------------------------------------------------------------------\n",
      "Intercept     2.349       0.070    33.772    0.000     2.213     2.486\n",
      "month         0.001       0.002     0.289    0.773    -0.003     0.004\n",
      "Group Var     0.027       0.015                                       \n",
      "===================================================================\n",
      "\n",
      "               Mixed Linear Model Regression Results\n",
      "===================================================================\n",
      "Model:            MixedLM Dependent Variable: predicted_Eosinophils\n",
      "No. Observations: 3022    Method:             REML                 \n",
      "No. Groups:       3       Scale:              1.5102               \n",
      "Min. group size:  140     Log-Likelihood:     -4920.0012           \n",
      "Max. group size:  1994    Converged:          Yes                  \n",
      "Mean group size:  1007.3                                           \n",
      "----------------------------------------------------------------------\n",
      "              Coef.    Std.Err.      z       P>|z|    [0.025    0.975]\n",
      "----------------------------------------------------------------------\n",
      "Intercept     2.381       0.095    25.188    0.000     2.196     2.567\n",
      "month         0.005       0.003     2.113    0.035     0.000     0.011\n",
      "Group Var     0.021       0.022                                       \n",
      "===================================================================\n",
      "\n",
      "               Mixed Linear Model Regression Results\n",
      "===================================================================\n",
      "Model:            MixedLM Dependent Variable: predicted_Lymphocytes\n",
      "No. Observations: 3870    Method:             REML                 \n",
      "No. Groups:       7       Scale:              43.4746              \n",
      "Min. group size:  125     Log-Likelihood:     -12803.8503          \n",
      "Max. group size:  1573    Converged:          Yes                  \n",
      "Mean group size:  552.9                                            \n",
      "----------------------------------------------------------------------\n",
      "             Coef.     Std.Err.      z       P>|z|    [0.025    0.975]\n",
      "----------------------------------------------------------------------\n",
      "Intercept    28.718       0.614    46.766    0.000    27.515    29.922\n",
      "month        -0.027       0.009    -2.932    0.003    -0.045    -0.009\n",
      "Group Var     2.443       0.235                                       \n",
      "===================================================================\n",
      "\n",
      "               Mixed Linear Model Regression Results\n",
      "===================================================================\n",
      "Model:            MixedLM Dependent Variable: predicted_Lymphocytes\n",
      "No. Observations: 3022    Method:             REML                 \n",
      "No. Groups:       3       Scale:              41.7934              \n",
      "Min. group size:  140     Log-Likelihood:     -9935.8232           \n",
      "Max. group size:  1994    Converged:          Yes                  \n",
      "Mean group size:  1007.3                                           \n",
      "----------------------------------------------------------------------\n",
      "             Coef.     Std.Err.      z       P>|z|    [0.025    0.975]\n",
      "----------------------------------------------------------------------\n",
      "Intercept    27.000       1.257    21.478    0.000    24.536    29.463\n",
      "month        -0.014       0.014    -1.052    0.293    -0.041     0.012\n",
      "Group Var     4.592       0.734                                       \n",
      "===================================================================\n",
      "\n",
      "              Mixed Linear Model Regression Results\n",
      "=================================================================\n",
      "Model:            MixedLM Dependent Variable: predicted_Monocytes\n",
      "No. Observations: 3870    Method:             REML               \n",
      "No. Groups:       7       Scale:              0.9898             \n",
      "Min. group size:  125     Log-Likelihood:     -5487.9740         \n",
      "Max. group size:  1573    Converged:          Yes                \n",
      "Mean group size:  552.9                                          \n",
      "-------------------------------------------------------------------\n",
      "                Coef.   Std.Err.     z      P>|z|   [0.025   0.975]\n",
      "-------------------------------------------------------------------\n",
      "Intercept       6.248      0.084   74.747   0.000    6.085    6.412\n",
      "month           0.001      0.001    0.747   0.455   -0.002    0.004\n",
      "Group Var       0.044      0.027                                   \n",
      "=================================================================\n",
      "\n",
      "              Mixed Linear Model Regression Results\n",
      "=================================================================\n",
      "Model:            MixedLM Dependent Variable: predicted_Monocytes\n",
      "No. Observations: 3022    Method:             REML               \n",
      "No. Groups:       3       Scale:              1.0044             \n",
      "Min. group size:  140     Log-Likelihood:     -4303.8676         \n",
      "Max. group size:  1994    Converged:          Yes                \n",
      "Mean group size:  1007.3                                         \n",
      "-------------------------------------------------------------------\n",
      "               Coef.    Std.Err.     z      P>|z|   [0.025   0.975]\n",
      "-------------------------------------------------------------------\n",
      "Intercept       6.518      0.070   93.338   0.000    6.381    6.655\n",
      "month          -0.001      0.002   -0.267   0.789   -0.005    0.004\n",
      "Group Var       0.011      0.013                                   \n",
      "=================================================================\n",
      "\n",
      "               Mixed Linear Model Regression Results\n",
      "===================================================================\n",
      "Model:            MixedLM Dependent Variable: predicted_Neutrophils\n",
      "No. Observations: 3870    Method:             REML                 \n",
      "No. Groups:       7       Scale:              47.4997              \n",
      "Min. group size:  125     Log-Likelihood:     -12975.8022          \n",
      "Max. group size:  1573    Converged:          Yes                  \n",
      "Mean group size:  552.9                                            \n",
      "----------------------------------------------------------------------\n",
      "             Coef.     Std.Err.      z       P>|z|    [0.025    0.975]\n",
      "----------------------------------------------------------------------\n",
      "Intercept    61.942       0.720    85.998    0.000    60.531    63.354\n",
      "month         0.027       0.010     2.764    0.006     0.008     0.046\n",
      "Group Var     3.416       0.308                                       \n",
      "===================================================================\n",
      "\n",
      "               Mixed Linear Model Regression Results\n",
      "===================================================================\n",
      "Model:            MixedLM Dependent Variable: predicted_Neutrophils\n",
      "No. Observations: 3022    Method:             REML                 \n",
      "No. Groups:       3       Scale:              47.1210              \n",
      "Min. group size:  140     Log-Likelihood:     -10116.8212          \n",
      "Max. group size:  1994    Converged:          Yes                  \n",
      "Mean group size:  1007.3                                           \n",
      "----------------------------------------------------------------------\n",
      "             Coef.     Std.Err.      z       P>|z|    [0.025    0.975]\n",
      "----------------------------------------------------------------------\n",
      "Intercept    63.064       1.225    51.491    0.000    60.664    65.465\n",
      "month         0.008       0.014     0.545    0.586    -0.020     0.036\n",
      "Group Var     4.333       0.654                                       \n",
      "===================================================================\n",
      "\n",
      "CPU times: user 4.97 s, sys: 79.9 ms, total: 5.05 s\n",
      "Wall time: 632 ms\n"
     ]
    }
   ],
   "source": [
    "%%time\n",
    "cell_cols = disc_cov_df.columns[disc_cov_df.columns.str.startswith('predicted_')].to_list()\n",
    "# dep_var = 'predicted_Neutrophils'\n",
    "indep_var = 'month'\n",
    "# run cell fracs ~ month for all cell types in both discovery and replication cohorts\n",
    "for cell_type in cell_cols:\n",
    "    this_formula = f'{cell_type} ~ {indep_var}'\n",
    "    grouping = 'DX'\n",
    "    result = mixed_model(this_formula, disc_cov_df, grouping)\n",
    "    print(result.summary())\n",
    "    result = mixed_model(this_formula, rep_cov_df, grouping)\n",
    "    print(result.summary())"
   ]
  },
  {
   "cell_type": "code",
   "execution_count": 23,
   "id": "065b0c0e",
   "metadata": {},
   "outputs": [
    {
     "data": {
      "text/plain": [
       "<seaborn.axisgrid.FacetGrid at 0x7f64a5bf5a90>"
      ]
     },
     "execution_count": 23,
     "metadata": {},
     "output_type": "execute_result"
    },
    {
     "data": {
      "image/png": "[encoded data removed]",
      "text/plain": [
       "<Figure size 468.375x360 with 1 Axes>"
      ]
     },
     "metadata": {
      "needs_background": "light"
     },
     "output_type": "display_data"
    }
   ],
   "source": [
    "sns.lmplot(x='month', y='predicted_Neutrophils', hue='DX', \n",
    "           data=disc_cov_df, palette='Set1')"
   ]
  },
  {
   "cell_type": "code",
   "execution_count": 24,
   "id": "4e22e345",
   "metadata": {},
   "outputs": [
    {
     "data": {
      "text/plain": [
       "<seaborn.axisgrid.FacetGrid at 0x7f64b091ef10>"
      ]
     },
     "execution_count": 24,
     "metadata": {},
     "output_type": "execute_result"
    },
    {
     "data": {
      "image/png": "[encoded data removed]",
      "text/plain": [
       "<Figure size 431.875x360 with 1 Axes>"
      ]
     },
     "metadata": {
      "needs_background": "light"
     },
     "output_type": "display_data"
    }
   ],
   "source": [
    "sns.lmplot(x='month', y='predicted_Neutrophils', hue='DX', \n",
    "           data=rep_cov_df, palette='Set1')"
   ]
  },
  {
   "cell_type": "code",
   "execution_count": 25,
   "id": "d127e6fc",
   "metadata": {},
   "outputs": [
    {
     "data": {
      "text/plain": [
       "<seaborn.axisgrid.FacetGrid at 0x7f64a41e6cd0>"
      ]
     },
     "execution_count": 25,
     "metadata": {},
     "output_type": "execute_result"
    },
    {
     "data": {
      "image/png": "[encoded data removed]",
      "text/plain": [
       "<Figure size 468.375x360 with 1 Axes>"
      ]
     },
     "metadata": {
      "needs_background": "light"
     },
     "output_type": "display_data"
    }
   ],
   "source": [
    "sns.lmplot(x='month', y='predicted_Lymphocytes', hue='DX', \n",
    "           data=disc_cov_df, palette='Set1')"
   ]
  },
  {
   "cell_type": "code",
   "execution_count": 26,
   "id": "44c030ff",
   "metadata": {},
   "outputs": [
    {
     "data": {
      "text/plain": [
       "<seaborn.axisgrid.FacetGrid at 0x7f64a5ce0550>"
      ]
     },
     "execution_count": 26,
     "metadata": {},
     "output_type": "execute_result"
    },
    {
     "data": {
      "image/png": "[encoded data removed]",
      "text/plain": [
       "<Figure size 431.875x360 with 1 Axes>"
      ]
     },
     "metadata": {
      "needs_background": "light"
     },
     "output_type": "display_data"
    }
   ],
   "source": [
    "sns.lmplot(x='month', y='predicted_Lymphocytes', hue='DX', \n",
    "           data=rep_cov_df, palette='Set1')"
   ]
  },
  {
   "cell_type": "code",
   "execution_count": 27,
   "id": "03110e8e",
   "metadata": {},
   "outputs": [
    {
     "data": {
      "text/plain": [
       "Intercept    0.000000\n",
       "month        0.586069\n",
       "Group Var    0.334280\n",
       "dtype: float64"
      ]
     },
     "execution_count": 27,
     "metadata": {},
     "output_type": "execute_result"
    }
   ],
   "source": [
    "result.pvalues"
   ]
  },
  {
   "cell_type": "code",
   "execution_count": 28,
   "id": "2a225cac",
   "metadata": {},
   "outputs": [
    {
     "data": {
      "text/plain": [
       "PD               1573\n",
       "Control           799\n",
       "Other             443\n",
       "GC-PD             426\n",
       "GC-unaffected     368\n",
       "GR-unaffected     136\n",
       "GR-PD             125\n",
       "Name: DX, dtype: int64"
      ]
     },
     "execution_count": 28,
     "metadata": {},
     "output_type": "execute_result"
    }
   ],
   "source": [
    "disc_cov_df['DX'].value_counts()"
   ]
  },
  {
   "cell_type": "code",
   "execution_count": 29,
   "id": "5ba76720",
   "metadata": {},
   "outputs": [
    {
     "data": {
      "text/plain": [
       "PD         1994\n",
       "Control     888\n",
       "Other       140\n",
       "Name: DX, dtype: int64"
      ]
     },
     "execution_count": 29,
     "metadata": {},
     "output_type": "execute_result"
    }
   ],
   "source": [
    "rep_cov_df['DX'].value_counts()"
   ]
  },
  {
   "cell_type": "code",
   "execution_count": 30,
   "id": "febb386d",
   "metadata": {},
   "outputs": [
    {
     "data": {
      "text/html": [
       "<div>\n",
       "<style scoped>\n",
       "    .dataframe tbody tr th:only-of-type {\n",
       "        vertical-align: middle;\n",
       "    }\n",
       "\n",
       "    .dataframe tbody tr th {\n",
       "        vertical-align: top;\n",
       "    }\n",
       "\n",
       "    .dataframe thead th {\n",
       "        text-align: right;\n",
       "    }\n",
       "</style>\n",
       "<table border=\"1\" class=\"dataframe\">\n",
       "  <thead>\n",
       "    <tr style=\"text-align: right;\">\n",
       "      <th></th>\n",
       "      <th>predicted_Neutrophils</th>\n",
       "      <th>predicted_Lymphocytes</th>\n",
       "      <th>x_umap</th>\n",
       "      <th>y_umap</th>\n",
       "    </tr>\n",
       "  </thead>\n",
       "  <tbody>\n",
       "    <tr>\n",
       "      <th>predicted_Neutrophils</th>\n",
       "      <td>1.000000</td>\n",
       "      <td>-0.958397</td>\n",
       "      <td>-0.147249</td>\n",
       "      <td>0.180252</td>\n",
       "    </tr>\n",
       "    <tr>\n",
       "      <th>predicted_Lymphocytes</th>\n",
       "      <td>-0.958397</td>\n",
       "      <td>1.000000</td>\n",
       "      <td>0.169287</td>\n",
       "      <td>-0.179271</td>\n",
       "    </tr>\n",
       "    <tr>\n",
       "      <th>x_umap</th>\n",
       "      <td>-0.147249</td>\n",
       "      <td>0.169287</td>\n",
       "      <td>1.000000</td>\n",
       "      <td>0.487340</td>\n",
       "    </tr>\n",
       "    <tr>\n",
       "      <th>y_umap</th>\n",
       "      <td>0.180252</td>\n",
       "      <td>-0.179271</td>\n",
       "      <td>0.487340</td>\n",
       "      <td>1.000000</td>\n",
       "    </tr>\n",
       "  </tbody>\n",
       "</table>\n",
       "</div>"
      ],
      "text/plain": [
       "                       predicted_Neutrophils  predicted_Lymphocytes    x_umap  \\\n",
       "predicted_Neutrophils               1.000000              -0.958397 -0.147249   \n",
       "predicted_Lymphocytes              -0.958397               1.000000  0.169287   \n",
       "x_umap                             -0.147249               0.169287  1.000000   \n",
       "y_umap                              0.180252              -0.179271  0.487340   \n",
       "\n",
       "                         y_umap  \n",
       "predicted_Neutrophils  0.180252  \n",
       "predicted_Lymphocytes -0.179271  \n",
       "x_umap                 0.487340  \n",
       "y_umap                 1.000000  "
      ]
     },
     "execution_count": 30,
     "metadata": {},
     "output_type": "execute_result"
    }
   ],
   "source": [
    "disc_cov_df[['predicted_Neutrophils', 'predicted_Lymphocytes', 'x_umap', 'y_umap']].corr()"
   ]
  },
  {
   "cell_type": "code",
   "execution_count": 31,
   "id": "f619a5e9",
   "metadata": {},
   "outputs": [
    {
     "ename": "SyntaxError",
     "evalue": "invalid syntax (<ipython-input-31-186fb8bc2c7b>, line 1)",
     "output_type": "error",
     "traceback": [
      "\u001b[0;36m  File \u001b[0;32m\"<ipython-input-31-186fb8bc2c7b>\"\u001b[0;36m, line \u001b[0;32m1\u001b[0m\n\u001b[0;31m    0.180252**2s\u001b[0m\n\u001b[0m               ^\u001b[0m\n\u001b[0;31mSyntaxError\u001b[0m\u001b[0;31m:\u001b[0m invalid syntax\n"
     ]
    }
   ],
   "source": [
    "0.180252**2s"
   ]
  },
  {
   "cell_type": "code",
   "execution_count": null,
   "id": "8b71a23b",
   "metadata": {},
   "outputs": [],
   "source": []
  }
 ],
 "metadata": {
  "environment": {
   "name": "pytorch-gpu.1-8.m65",
   "type": "gcloud",
   "uri": "gcr.io/deeplearning-platform-release/pytorch-gpu.1-8:m65"
  },
  "kernelspec": {
   "display_name": "Python 3",
   "language": "python",
   "name": "python3"
  },
  "language_info": {
   "codemirror_mode": {
    "name": "ipython",
    "version": 3
   },
   "file_extension": ".py",
   "mimetype": "text/x-python",
   "name": "python",
   "nbconvert_exporter": "python",
   "pygments_lexer": "ipython3",
   "version": "3.7.10"
  }
 },
 "nbformat": 4,
 "nbformat_minor": 5
}
