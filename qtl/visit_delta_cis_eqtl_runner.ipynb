{
 "cells": [
  {
   "cell_type": "markdown",
   "metadata": {},
   "source": [
    "## Notebook to runner for *cis*-eQTL for visit difference in expression between visits via papermill"
   ]
  },
  {
   "cell_type": "code",
   "execution_count": 1,
   "metadata": {},
   "outputs": [
    {
     "name": "stdout",
     "output_type": "stream",
     "text": [
      "Thu Jul  8 21:24:01 UTC 2021\n"
     ]
    }
   ],
   "source": [
    "!date"
   ]
  },
  {
   "cell_type": "markdown",
   "metadata": {},
   "source": [
    "#### import libraries"
   ]
  },
  {
   "cell_type": "code",
   "execution_count": 2,
   "metadata": {},
   "outputs": [
    {
     "name": "stderr",
     "output_type": "stream",
     "text": [
      "/opt/conda/lib/python3.7/site-packages/papermill/iorw.py:50: FutureWarning: pyarrow.HadoopFileSystem is deprecated as of 2.0.0, please use pyarrow.fs.HadoopFileSystem instead.\n",
      "  from pyarrow import HadoopFileSystem\n"
     ]
    }
   ],
   "source": [
    "import pandas as pd\n",
    "import os\n",
    "import papermill as pm"
   ]
  },
  {
   "cell_type": "code",
   "execution_count": 3,
   "metadata": {},
   "outputs": [],
   "source": [
    "# base notebook to be run per tuple iteration\n",
    "base_notebook = '/home/jupyter/notebooks/visit_delta_cis_eqtl_tensorqtl.ipynb'\n",
    "\n",
    "# setup iteration tuples\n",
    "cohorts = ['biofind', 'pdbp', 'ppmi']\n",
    "version = 'amppdv1'\n",
    "tissue = 'wb'\n",
    "months = [0, 1, 6 , 12, 18, 24, 36]"
   ]
  },
  {
   "cell_type": "markdown",
   "metadata": {},
   "source": [
    "#### iterate over the tuples running the notebook per tuple"
   ]
  },
  {
   "cell_type": "code",
   "execution_count": 4,
   "metadata": {},
   "outputs": [
    {
     "name": "stdout",
     "output_type": "stream",
     "text": [
      "{'cohort': 'pdbp', 'version': 'amppdv1', 'tissue': 'wb', 'visit': '6-0'}\n",
      "/home/jupyter/notebooks/pdbp/pm_gend_nbs/pdbp.wb.6-0.delta_cis_eqtl_tensorqtl.ipynb\n"
     ]
    },
    {
     "data": {
      "application/vnd.jupyter.widget-view+json": {
       "model_id": "5072d9e143814f708052625591878661",
       "version_major": 2,
       "version_minor": 0
      },
      "text/plain": [
       "Executing:   0%|          | 0/49 [00:00<?, ?cell/s]"
      ]
     },
     "metadata": {},
     "output_type": "display_data"
    },
    {
     "name": "stderr",
     "output_type": "stream",
     "text": [
      "Autosave too slow: 8.16 sec, over 25% limit. Backing off to 60 sec\n"
     ]
    },
    {
     "name": "stdout",
     "output_type": "stream",
     "text": [
      "{'cohort': 'pdbp', 'version': 'amppdv1', 'tissue': 'wb', 'visit': '12-0'}\n",
      "/home/jupyter/notebooks/pdbp/pm_gend_nbs/pdbp.wb.12-0.delta_cis_eqtl_tensorqtl.ipynb\n"
     ]
    },
    {
     "data": {
      "application/vnd.jupyter.widget-view+json": {
       "model_id": "ecf97363434e47f0be124bed1e1388cc",
       "version_major": 2,
       "version_minor": 0
      },
      "text/plain": [
       "Executing:   0%|          | 0/49 [00:00<?, ?cell/s]"
      ]
     },
     "metadata": {},
     "output_type": "display_data"
    },
    {
     "name": "stderr",
     "output_type": "stream",
     "text": [
      "Autosave too slow: 7.54 sec, over 25% limit. Backing off to 60 sec\n"
     ]
    },
    {
     "name": "stdout",
     "output_type": "stream",
     "text": [
      "{'cohort': 'pdbp', 'version': 'amppdv1', 'tissue': 'wb', 'visit': '18-0'}\n",
      "/home/jupyter/notebooks/pdbp/pm_gend_nbs/pdbp.wb.18-0.delta_cis_eqtl_tensorqtl.ipynb\n"
     ]
    },
    {
     "data": {
      "application/vnd.jupyter.widget-view+json": {
       "model_id": "f5300caca1ab46d19aa71280e4773280",
       "version_major": 2,
       "version_minor": 0
      },
      "text/plain": [
       "Executing:   0%|          | 0/49 [00:00<?, ?cell/s]"
      ]
     },
     "metadata": {},
     "output_type": "display_data"
    },
    {
     "name": "stderr",
     "output_type": "stream",
     "text": [
      "Autosave too slow: 7.58 sec, over 25% limit. Backing off to 60 sec\n"
     ]
    },
    {
     "name": "stdout",
     "output_type": "stream",
     "text": [
      "{'cohort': 'pdbp', 'version': 'amppdv1', 'tissue': 'wb', 'visit': '24-0'}\n",
      "/home/jupyter/notebooks/pdbp/pm_gend_nbs/pdbp.wb.24-0.delta_cis_eqtl_tensorqtl.ipynb\n"
     ]
    },
    {
     "data": {
      "application/vnd.jupyter.widget-view+json": {
       "model_id": "af7463b10c654e55b7824416f036eccb",
       "version_major": 2,
       "version_minor": 0
      },
      "text/plain": [
       "Executing:   0%|          | 0/49 [00:00<?, ?cell/s]"
      ]
     },
     "metadata": {},
     "output_type": "display_data"
    },
    {
     "name": "stderr",
     "output_type": "stream",
     "text": [
      "Autosave too slow: 7.61 sec, over 25% limit. Backing off to 60 sec\n"
     ]
    },
    {
     "name": "stdout",
     "output_type": "stream",
     "text": [
      "{'cohort': 'ppmi', 'version': 'amppdv1', 'tissue': 'wb', 'visit': '6-0'}\n",
      "/home/jupyter/notebooks/ppmi/pm_gend_nbs/ppmi.wb.6-0.delta_cis_eqtl_tensorqtl.ipynb\n"
     ]
    },
    {
     "data": {
      "application/vnd.jupyter.widget-view+json": {
       "model_id": "a9f45fd7a61042d6b7c0d43e780ac947",
       "version_major": 2,
       "version_minor": 0
      },
      "text/plain": [
       "Executing:   0%|          | 0/49 [00:00<?, ?cell/s]"
      ]
     },
     "metadata": {},
     "output_type": "display_data"
    },
    {
     "name": "stderr",
     "output_type": "stream",
     "text": [
      "Autosave too slow: 7.62 sec, over 25% limit. Backing off to 60 sec\n"
     ]
    },
    {
     "name": "stdout",
     "output_type": "stream",
     "text": [
      "{'cohort': 'ppmi', 'version': 'amppdv1', 'tissue': 'wb', 'visit': '12-0'}\n",
      "/home/jupyter/notebooks/ppmi/pm_gend_nbs/ppmi.wb.12-0.delta_cis_eqtl_tensorqtl.ipynb\n"
     ]
    },
    {
     "data": {
      "application/vnd.jupyter.widget-view+json": {
       "model_id": "df6b2b3938d34e84a30b60ba7b5ea264",
       "version_major": 2,
       "version_minor": 0
      },
      "text/plain": [
       "Executing:   0%|          | 0/49 [00:00<?, ?cell/s]"
      ]
     },
     "metadata": {},
     "output_type": "display_data"
    },
    {
     "name": "stderr",
     "output_type": "stream",
     "text": [
      "Autosave too slow: 8.33 sec, over 25% limit. Backing off to 60 sec\n"
     ]
    },
    {
     "name": "stdout",
     "output_type": "stream",
     "text": [
      "{'cohort': 'ppmi', 'version': 'amppdv1', 'tissue': 'wb', 'visit': '24-0'}\n",
      "/home/jupyter/notebooks/ppmi/pm_gend_nbs/ppmi.wb.24-0.delta_cis_eqtl_tensorqtl.ipynb\n"
     ]
    },
    {
     "data": {
      "application/vnd.jupyter.widget-view+json": {
       "model_id": "ce883ff4a4974279a0b62665e52f4265",
       "version_major": 2,
       "version_minor": 0
      },
      "text/plain": [
       "Executing:   0%|          | 0/49 [00:00<?, ?cell/s]"
      ]
     },
     "metadata": {},
     "output_type": "display_data"
    },
    {
     "name": "stderr",
     "output_type": "stream",
     "text": [
      "Autosave too slow: 7.56 sec, over 25% limit. Backing off to 60 sec\n"
     ]
    },
    {
     "name": "stdout",
     "output_type": "stream",
     "text": [
      "{'cohort': 'ppmi', 'version': 'amppdv1', 'tissue': 'wb', 'visit': '36-0'}\n",
      "/home/jupyter/notebooks/ppmi/pm_gend_nbs/ppmi.wb.36-0.delta_cis_eqtl_tensorqtl.ipynb\n"
     ]
    },
    {
     "data": {
      "application/vnd.jupyter.widget-view+json": {
       "model_id": "bd93b22528c24785a3accf2e865e8909",
       "version_major": 2,
       "version_minor": 0
      },
      "text/plain": [
       "Executing:   0%|          | 0/49 [00:00<?, ?cell/s]"
      ]
     },
     "metadata": {},
     "output_type": "display_data"
    },
    {
     "name": "stderr",
     "output_type": "stream",
     "text": [
      "Autosave too slow: 9.67 sec, over 25% limit. Backing off to 60 sec\n"
     ]
    },
    {
     "name": "stdout",
     "output_type": "stream",
     "text": [
      "CPU times: user 1h 6min 11s, sys: 23.8 s, total: 1h 6min 35s\n",
      "Wall time: 4h 43min 36s\n"
     ]
    }
   ],
   "source": [
    "%%time\n",
    "\n",
    "for cohort in cohorts:\n",
    "    out_nb_dir = f'/home/jupyter/notebooks/{cohort}/pm_gend_nbs'\n",
    "    # make sure the notebook output dir exists\n",
    "    os.makedirs(out_nb_dir, exist_ok=True)\n",
    "    wrk_dir = f'/home/jupyter/{cohort}'\n",
    "    begin_month = 0\n",
    "    for end_month in months:\n",
    "        if end_month == begin_month:\n",
    "            continue\n",
    "        # before running prep notebook make expr data for the cohort and begin & end visit exist\n",
    "        src_expression_matrix = f'/home/jupyter/{cohort}/expression/{cohort}.{tissue}{end_month}-{begin_month}.norm.adj.bed.gz'\n",
    "        if os.path.isfile(src_expression_matrix):\n",
    "            param_dict = {'cohort': cohort, 'version': version, \n",
    "                          'tissue': tissue, 'visit': f'{end_month}-{begin_month}'} \n",
    "            out_notebook = f'{out_nb_dir}/{cohort}.{tissue}.{end_month}-{begin_month}.delta_cis_eqtl_tensorqtl.ipynb'\n",
    "            print(param_dict)\n",
    "            print(out_notebook)\n",
    "            pm.execute_notebook(input_path=base_notebook, output_path=out_notebook, \n",
    "                                parameters=param_dict)"
   ]
  },
  {
   "cell_type": "code",
   "execution_count": null,
   "metadata": {},
   "outputs": [],
   "source": []
  }
 ],
 "metadata": {
  "environment": {
   "name": "pytorch-gpu.1-8.m73",
   "type": "gcloud",
   "uri": "gcr.io/deeplearning-platform-release/pytorch-gpu.1-8:m73"
  },
  "kernelspec": {
   "display_name": "Python 3",
   "language": "python",
   "name": "python3"
  },
  "language_info": {
   "codemirror_mode": {
    "name": "ipython",
    "version": 3
   },
   "file_extension": ".py",
   "mimetype": "text/x-python",
   "name": "python",
   "nbconvert_exporter": "python",
   "pygments_lexer": "ipython3",
   "version": "3.7.10"
  }
 },
 "nbformat": 4,
 "nbformat_minor": 4
}
