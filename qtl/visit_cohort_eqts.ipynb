{
 "cells": [
  {
   "cell_type": "markdown",
   "id": "11196d70",
   "metadata": {},
   "source": [
    "## Notebook for performing eQTS analysis for PD GRS and expression"
   ]
  },
  {
   "cell_type": "code",
   "execution_count": null,
   "id": "7946e70b",
   "metadata": {},
   "outputs": [],
   "source": [
    "!date"
   ]
  },
  {
   "cell_type": "markdown",
   "id": "5014b75b",
   "metadata": {},
   "source": [
    "#### import libraries and set notebook variables"
   ]
  },
  {
   "cell_type": "code",
   "execution_count": null,
   "id": "09b6ffd3",
   "metadata": {},
   "outputs": [],
   "source": [
    "import pandas as pd\n",
    "import os\n",
    "import numpy as np\n",
    "import statsmodels.stats.multitest as smm\n",
    "import statsmodels.api as sm\n",
    "import statsmodels.formula.api as smf\n",
    "import matplotlib.pyplot as plt\n",
    "import seaborn as sns\n",
    "from sklearn.preprocessing import MinMaxScaler"
   ]
  },
  {
   "cell_type": "code",
   "execution_count": null,
   "id": "b6126347",
   "metadata": {
    "tags": [
     "parameters"
    ]
   },
   "outputs": [],
   "source": [
    "# parameters\n",
    "cohort = 'ppmi'\n",
    "visit = 0\n",
    "visit_name = 'BLM0T1'\n",
    "tissue = 'wb'\n",
    "quant_type = 'genes'"
   ]
  },
  {
   "cell_type": "code",
   "execution_count": null,
   "id": "70168827",
   "metadata": {},
   "outputs": [],
   "source": [
    "# naming\n",
    "cohort_build = f'{cohort}.{tissue}{visit}'\n",
    "\n",
    "# directories\n",
    "home_dir = '/home/jupyter'\n",
    "wrk_dir = f'{home_dir}/{cohort}'\n",
    "expr_dir = f'{wrk_dir}/expression'\n",
    "info_dir = f'{wrk_dir}/sample_info'\n",
    "eqts_dir = f'{wrk_dir}/eqts'\n",
    "\n",
    "# in files\n",
    "covs_file = f'{info_dir}/{cohort}_rna_sample_info.csv'\n",
    "grs_file = f'{info_dir}/{cohort}.grs.scaled.csv'\n",
    "quants_file = f'{expr_dir}/{cohort_build}.norm.adj.hdf5'\n",
    "\n",
    "# out files\n",
    "eqts_file = f'{eqts_dir}/{cohort_build}.eqts.csv'"
   ]
  },
  {
   "cell_type": "code",
   "execution_count": null,
   "id": "705bea0c",
   "metadata": {},
   "outputs": [],
   "source": [
    "os.makedirs(eqts_dir, exist_ok=True)"
   ]
  },
  {
   "cell_type": "markdown",
   "id": "7f40bcc6",
   "metadata": {},
   "source": [
    "#### analysis functions"
   ]
  },
  {
   "cell_type": "code",
   "execution_count": null,
   "id": "301cc238",
   "metadata": {},
   "outputs": [],
   "source": [
    "# functions to run the linear regression\n",
    "def reg_model(y, x, term):\n",
    "    Xb = sm.add_constant(x)\n",
    "    reg_model = sm.OLS(y, Xb).fit()\n",
    "\n",
    "# #     formula api style\n",
    "#     this_formula = f'Q(\"{this_trait}\") ~ GRS + predicted_Lymphocytes + GRS * predicted_Lymphocytes'\n",
    "#     reg_model = smf.ols(this_formula, data=this_quants).fit()\n",
    "\n",
    "    # return the coef, stderr, adjusted r2, number of terms, and p-value\n",
    "    return [reg_model.params[term], reg_model.bse[term], reg_model.rsquared_adj, \n",
    "            reg_model.params.shape[0], reg_model.pvalues[term]]\n",
    "\n",
    "\n",
    "def grsresgression(cov_df, traits_df, dep_term='', extra_dep_terms=None):\n",
    "    print(dep_term)\n",
    "    this_sample = set(cov_df.index) & set(traits_df.index)\n",
    "    print(len(this_sample))\n",
    "    \n",
    "    this_cov_df = cov_df.loc[cov_df.index.isin(this_sample)]\n",
    "    this_traits_df = traits_df.loc[traits_df.index.isin(this_sample)]\n",
    "    this_cov_df = this_cov_df.reindex(this_traits_df.index)\n",
    "    \n",
    "    if not extra_dep_terms is None:\n",
    "        this_cov_df = this_cov_df[[dep_term] + extra_dep_terms]\n",
    "    else:\n",
    "        this_cov_df = this_cov_df[[dep_term]]\n",
    "    \n",
    "    lm_results = this_traits_df.apply(lambda x: reg_model(x, this_cov_df, dep_term),\n",
    "                                      result_type='expand').\\\n",
    "    rename(index={0: 'coef', 1: 'stderr', 2: 'r2_adj', 3:'term_cnt', 4:'p-value'}).T\n",
    "\n",
    "    alpha=0.05\n",
    "    method='fdr_bh'\n",
    "    test_adjust = smm.multipletests(np.array(lm_results['p-value']),\n",
    "                                    alpha=alpha, method=method)\n",
    "    lm_results['bh_fdr'] = test_adjust[1]\n",
    "    return lm_results"
   ]
  },
  {
   "cell_type": "code",
   "execution_count": null,
   "id": "d822e550",
   "metadata": {},
   "outputs": [],
   "source": [
    "#plot the eQTS\n",
    "def ploteqts(trait_id, study_name, score_df, traits_df):\n",
    "    this_scores_df = score_df.loc[score_df.index.isin(traits_df.index)]\n",
    "    this_scores_df = this_scores_df.reindex(traits_df.index)\n",
    "\n",
    "    temp = traits_df.merge(this_scores_df,left_index=True,right_index=True)\n",
    "\n",
    "    plt.figure(figsize=(9, 9))\n",
    "    sns.regplot(x=trait_id,y='GRS', data=temp, ci=95)\n",
    "    sns.scatterplot(x=trait_id,y='GRS', data=temp, hue='DX')\n",
    "    plt.xlabel('Trait')\n",
    "    plt.ylabel('GRS')\n",
    "    plt.title(f'{trait_id} in {study_name}')\n",
    "    plt.legend(bbox_to_anchor=(1.05, 1), loc=2, borderaxespad=0,prop={'size': 10})\n",
    "    plt.show()"
   ]
  },
  {
   "cell_type": "markdown",
   "id": "92c07b91",
   "metadata": {},
   "source": [
    "#### load the known sample covariates"
   ]
  },
  {
   "cell_type": "code",
   "execution_count": null,
   "id": "a06a40d7",
   "metadata": {},
   "outputs": [],
   "source": [
    "covs_df = pd.read_csv(covs_file, index_col=0)\n",
    "print(covs_df.shape)\n",
    "# display(known_covs_df.head())"
   ]
  },
  {
   "cell_type": "markdown",
   "id": "0011734e",
   "metadata": {},
   "source": [
    "#### load and add GRS"
   ]
  },
  {
   "cell_type": "code",
   "execution_count": null,
   "id": "c8131e0d",
   "metadata": {},
   "outputs": [],
   "source": [
    "grs_df = pd.read_csv(grs_file)\n",
    "print(grs_df.shape)\n",
    "# display(grs_df.head())"
   ]
  },
  {
   "cell_type": "code",
   "execution_count": null,
   "id": "9bcd561e",
   "metadata": {},
   "outputs": [],
   "source": [
    "# covs_df = covs_df.merge(grs_df, how='inner', left_on='wgsid', right_on='IID')\n",
    "covs_df = covs_df.reset_index().merge(grs_df, how='inner', left_on='wgsid', \n",
    "                                      right_on='IID').set_index('sample_id')\n",
    "print(covs_df.shape)\n",
    "# display(covs_df.head())"
   ]
  },
  {
   "cell_type": "markdown",
   "id": "2b0ffd30",
   "metadata": {},
   "source": [
    "#### load the expression data"
   ]
  },
  {
   "cell_type": "code",
   "execution_count": null,
   "id": "4d40cca8",
   "metadata": {},
   "outputs": [],
   "source": [
    "%%time\n",
    "expr_df = pd.read_hdf(quants_file, index_col=0)\n",
    "print(expr_df.shape)\n",
    "# display(expr_df.head())"
   ]
  },
  {
   "cell_type": "markdown",
   "id": "201abf21",
   "metadata": {},
   "source": [
    "#### run the eQTS (expression ~ GRS regression)"
   ]
  },
  {
   "cell_type": "code",
   "execution_count": null,
   "id": "96414b20",
   "metadata": {},
   "outputs": [],
   "source": [
    "%%time\n",
    "grs_results = grsresgression(covs_df, expr_df, dep_term='GRS')"
   ]
  },
  {
   "cell_type": "code",
   "execution_count": null,
   "id": "02673472",
   "metadata": {},
   "outputs": [],
   "source": [
    "grs_results.describe()"
   ]
  },
  {
   "cell_type": "code",
   "execution_count": null,
   "id": "caae6848",
   "metadata": {},
   "outputs": [],
   "source": [
    "print(grs_results.shape)\n",
    "print(grs_results.loc[grs_results['bh_fdr'] <= 0.05].shape)"
   ]
  },
  {
   "cell_type": "markdown",
   "id": "21911e68",
   "metadata": {},
   "source": [
    "#### plot the most significant results"
   ]
  },
  {
   "cell_type": "code",
   "execution_count": null,
   "id": "f04e0277",
   "metadata": {},
   "outputs": [],
   "source": [
    "scaled_expr_df =  pd.DataFrame(data=MinMaxScaler().fit_transform(expr_df), \n",
    "                               index=expr_df.index, columns=expr_df.columns)\n",
    "print(scaled_expr_df.shape)\n",
    "# display(scaled_expr_df.head())"
   ]
  },
  {
   "cell_type": "code",
   "execution_count": null,
   "id": "e7f06c84",
   "metadata": {},
   "outputs": [],
   "source": [
    "this_trait = grs_results.loc[grs_results['bh_fdr'] == min(grs_results['bh_fdr']),].index[0]\n",
    "print(grs_results.loc[this_trait])\n",
    "ploteqts(this_trait, cohort.upper(),  covs_df, expr_df)"
   ]
  },
  {
   "cell_type": "code",
   "execution_count": null,
   "id": "ae5bc950",
   "metadata": {},
   "outputs": [],
   "source": [
    "ploteqts(this_trait, cohort.upper(), covs_df, scaled_expr_df)"
   ]
  },
  {
   "cell_type": "markdown",
   "id": "b9c76523",
   "metadata": {},
   "source": [
    "#### now run the model with the cell fractions as covariates"
   ]
  },
  {
   "cell_type": "code",
   "execution_count": null,
   "id": "d2f03717",
   "metadata": {},
   "outputs": [],
   "source": [
    "%%time\n",
    "cell_cols = covs_df.columns[covs_df.columns.str.startswith('predicted_')].to_list()\n",
    "# cell_cols = ['age_at_baseline'] + cell_cols\n",
    "grs_results = grsresgression(covs_df, expr_df, dep_term='GRS', extra_dep_terms=cell_cols)"
   ]
  },
  {
   "cell_type": "code",
   "execution_count": null,
   "id": "f51ff314",
   "metadata": {},
   "outputs": [],
   "source": [
    "grs_results.describe()"
   ]
  },
  {
   "cell_type": "code",
   "execution_count": null,
   "id": "55fb0e7c",
   "metadata": {},
   "outputs": [],
   "source": [
    "print(grs_results.shape)\n",
    "print(grs_results.loc[grs_results['bh_fdr'] <= 0.05].shape)"
   ]
  },
  {
   "cell_type": "markdown",
   "id": "d6be6ba1",
   "metadata": {},
   "source": [
    "#### plot the most significant results"
   ]
  },
  {
   "cell_type": "code",
   "execution_count": null,
   "id": "17dc8054",
   "metadata": {},
   "outputs": [],
   "source": [
    "this_trait = grs_results.loc[grs_results['bh_fdr'] == min(grs_results['bh_fdr']),].index[0]\n",
    "print(grs_results.loc[this_trait])\n",
    "ploteqts(this_trait, cohort.upper(),  covs_df, expr_df)"
   ]
  },
  {
   "cell_type": "code",
   "execution_count": null,
   "id": "40c877eb",
   "metadata": {},
   "outputs": [],
   "source": [
    "ploteqts(this_trait, cohort.upper(), covs_df, scaled_expr_df)"
   ]
  },
  {
   "cell_type": "markdown",
   "id": "2de0b367",
   "metadata": {},
   "source": [
    "#### save the results files"
   ]
  },
  {
   "cell_type": "code",
   "execution_count": null,
   "id": "4c201e9e",
   "metadata": {},
   "outputs": [],
   "source": [
    "grs_results.to_csv(eqts_file)"
   ]
  },
  {
   "cell_type": "code",
   "execution_count": null,
   "id": "12f3dfcb",
   "metadata": {},
   "outputs": [],
   "source": []
  }
 ],
 "metadata": {
  "environment": {
   "name": "pytorch-gpu.1-8.m65",
   "type": "gcloud",
   "uri": "gcr.io/deeplearning-platform-release/pytorch-gpu.1-8:m65"
  },
  "kernelspec": {
   "display_name": "Python 3",
   "language": "python",
   "name": "python3"
  },
  "language_info": {
   "codemirror_mode": {
    "name": "ipython",
    "version": 3
   },
   "file_extension": ".py",
   "mimetype": "text/x-python",
   "name": "python",
   "nbconvert_exporter": "python",
   "pygments_lexer": "ipython3",
   "version": "3.7.10"
  }
 },
 "nbformat": 4,
 "nbformat_minor": 5
}
