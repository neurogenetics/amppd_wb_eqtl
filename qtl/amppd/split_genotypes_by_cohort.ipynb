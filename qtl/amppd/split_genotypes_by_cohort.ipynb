{
 "cells": [
  {
   "cell_type": "markdown",
   "metadata": {},
   "source": [
    "## Notebook to split larger genotype callset into individual AMP-PD cohorts"
   ]
  },
  {
   "cell_type": "markdown",
   "metadata": {},
   "source": [
    "#### import libraries and set notebook variables"
   ]
  },
  {
   "cell_type": "code",
   "execution_count": 1,
   "metadata": {},
   "outputs": [],
   "source": [
    "import pandas as pd\n",
    "import os\n",
    "import threading"
   ]
  },
  {
   "cell_type": "code",
   "execution_count": 2,
   "metadata": {},
   "outputs": [],
   "source": [
    "# directories\n",
    "wrk_dir = '/labshare/raph/datasets/amppd'\n",
    "genomes_dir = '/labseq/projects/neurod_wgs/genotypes'\n",
    "source_pfiles_prefix = f'{genomes_dir}/neurod.freeze9'\n",
    "genos_dir = f'{wrk_dir}/genotypes'\n",
    "info_dir = f'{wrk_dir}/sample_info'\n",
    "\n",
    "# constants \n",
    "autosomes = [str(x) for x in list(range(1,23))]\n",
    "sexomes = ['X']\n",
    "chromosomes = autosomes + sexomes\n",
    "\n",
    "cohort_prefix = {'ppmi': 'PP-', 'pdbp': 'PD-', 'biofind': 'BF-', 'hbs': 'HB-'}\n",
    "\n",
    "build = 'freeze9'\n",
    "\n",
    "amppd_psam = '/labseq/projects/neurod_wgs/sample_info/amppd.psam'"
   ]
  },
  {
   "cell_type": "markdown",
   "metadata": {},
   "source": [
    "#### threading related functions"
   ]
  },
  {
   "cell_type": "code",
   "execution_count": 3,
   "metadata": {},
   "outputs": [],
   "source": [
    "#### threading related function\n",
    "\n",
    "# run command line procsss with bash majic\n",
    "# make this a small function so it can be target function for threading\n",
    "def run_bash_cmd(this_cmd):\n",
    "    !{this_cmd}\n",
    "\n",
    "# for each bash command is list add to execution thread, join and wait til all done\n",
    "def run_bash_cmds_threaded(cmd_list):\n",
    "    job_threads = []\n",
    "    for this_cmd in cmd_list:\n",
    "        this_thread = threading.Thread(target=run_bash_cmd, args=(this_cmd,))\n",
    "        job_threads.append(this_thread)\n",
    "        this_thread.start()\n",
    "\n",
    "    for job_thread in job_threads:\n",
    "        job_thread.join()          "
   ]
  },
  {
   "cell_type": "markdown",
   "metadata": {},
   "source": [
    "#### make sure the needed output directories exist"
   ]
  },
  {
   "cell_type": "code",
   "execution_count": 4,
   "metadata": {},
   "outputs": [],
   "source": [
    "os.makedirs(genos_dir, exist_ok=True)\n",
    "os.makedirs(info_dir, exist_ok=True)"
   ]
  },
  {
   "cell_type": "markdown",
   "metadata": {},
   "source": [
    "#### generate per cohort psams from larger cohort"
   ]
  },
  {
   "cell_type": "code",
   "execution_count": 5,
   "metadata": {},
   "outputs": [
    {
     "name": "stdout",
     "output_type": "stream",
     "text": [
      "(4298, 4)\n"
     ]
    },
    {
     "data": {
      "text/html": [
       "<div>\n",
       "<style scoped>\n",
       "    .dataframe tbody tr th:only-of-type {\n",
       "        vertical-align: middle;\n",
       "    }\n",
       "\n",
       "    .dataframe tbody tr th {\n",
       "        vertical-align: top;\n",
       "    }\n",
       "\n",
       "    .dataframe thead th {\n",
       "        text-align: right;\n",
       "    }\n",
       "</style>\n",
       "<table border=\"1\" class=\"dataframe\">\n",
       "  <thead>\n",
       "    <tr style=\"text-align: right;\">\n",
       "      <th></th>\n",
       "      <th>#FID</th>\n",
       "      <th>IID</th>\n",
       "      <th>SEX</th>\n",
       "      <th>DX</th>\n",
       "    </tr>\n",
       "  </thead>\n",
       "  <tbody>\n",
       "    <tr>\n",
       "      <th>0</th>\n",
       "      <td>PP-41564</td>\n",
       "      <td>PP-41564</td>\n",
       "      <td>1</td>\n",
       "      <td>GR-unaffected</td>\n",
       "    </tr>\n",
       "    <tr>\n",
       "      <th>1</th>\n",
       "      <td>PD-PDZV843ATF</td>\n",
       "      <td>PD-PDZV843ATF</td>\n",
       "      <td>1</td>\n",
       "      <td>Control</td>\n",
       "    </tr>\n",
       "    <tr>\n",
       "      <th>2</th>\n",
       "      <td>PD-PDCK871NBR</td>\n",
       "      <td>PD-PDCK871NBR</td>\n",
       "      <td>1</td>\n",
       "      <td>Control</td>\n",
       "    </tr>\n",
       "    <tr>\n",
       "      <th>3</th>\n",
       "      <td>PP-51718</td>\n",
       "      <td>PP-51718</td>\n",
       "      <td>1</td>\n",
       "      <td>GR-unaffected</td>\n",
       "    </tr>\n",
       "    <tr>\n",
       "      <th>4</th>\n",
       "      <td>PP-56267</td>\n",
       "      <td>PP-56267</td>\n",
       "      <td>1</td>\n",
       "      <td>GR-unaffected</td>\n",
       "    </tr>\n",
       "  </tbody>\n",
       "</table>\n",
       "</div>"
      ],
      "text/plain": [
       "            #FID            IID  SEX             DX\n",
       "0       PP-41564       PP-41564    1  GR-unaffected\n",
       "1  PD-PDZV843ATF  PD-PDZV843ATF    1        Control\n",
       "2  PD-PDCK871NBR  PD-PDCK871NBR    1        Control\n",
       "3       PP-51718       PP-51718    1  GR-unaffected\n",
       "4       PP-56267       PP-56267    1  GR-unaffected"
      ]
     },
     "execution_count": 5,
     "metadata": {},
     "output_type": "execute_result"
    }
   ],
   "source": [
    "# read the psam\n",
    "psam_df = pd.read_csv(amppd_psam, sep='\\s+')\n",
    "print(psam_df.shape)\n",
    "psam_df.head()"
   ]
  },
  {
   "cell_type": "code",
   "execution_count": 6,
   "metadata": {},
   "outputs": [
    {
     "name": "stdout",
     "output_type": "stream",
     "text": [
      "ppmi PP-\n",
      "(1610, 4)\n",
      "pdbp PD-\n",
      "(1599, 4)\n",
      "biofind BF-\n",
      "(213, 4)\n",
      "hbs HB-\n",
      "(876, 4)\n"
     ]
    }
   ],
   "source": [
    "for cohort, prefix in cohort_prefix.items():\n",
    "    print(f'{cohort} {prefix}')\n",
    "    cohort_psam_df = psam_df.loc[psam_df['IID'].str.startswith(prefix)]\n",
    "    print(cohort_psam_df.shape)\n",
    "    cohort_psam_file = f'{info_dir}/{cohort}.psam'\n",
    "    cohort_psam_df.to_csv(cohort_psam_file, index=False, sep='\\t')"
   ]
  },
  {
   "cell_type": "markdown",
   "metadata": {},
   "source": [
    "#### for each cohort subset plink2 pfile set"
   ]
  },
  {
   "cell_type": "code",
   "execution_count": 8,
   "metadata": {},
   "outputs": [
    {
     "name": "stdout",
     "output_type": "stream",
     "text": [
      "ppmi\n",
      "pdbp\n",
      "biofind\n",
      "hbs\n"
     ]
    }
   ],
   "source": [
    "def frmt_plink2_subset(in_pfiles_prefix, genos_dir, out_name, chrom, \n",
    "                       keep_file, min_mac=1):\n",
    "    in_pfiles = f'{in_pfiles_prefix}.chr{chrom}'\n",
    "    out_pfiles = f'{genos_dir}/{out_name}.chr{chrom}'\n",
    "    if in_pfiles == out_pfiles:\n",
    "        print('in name cannot be same of out name, here')\n",
    "        plink_cmd = '#error'\n",
    "\n",
    "    filter_pass = ' --var-filter'\n",
    "    plink_cmd = f'plink2 --pfile {in_pfiles} --keep {keep_file} \\\n",
    "--mac {min_mac} --silent --make-pgen --out {out_pfiles}'\n",
    "    return plink_cmd\n",
    "\n",
    "for cohort in cohort_prefix.keys():\n",
    "    print(cohort)\n",
    "    keep_file = f'{info_dir}/{cohort}.psam'\n",
    "    cohort_build = f'{cohort}.{build}'\n",
    "    cmds = [frmt_plink2_subset(source_pfiles_prefix, genos_dir, cohort_build, chrom, \n",
    "                               keep_file) for chrom in chromosomes] \n",
    "\n",
    "#     print(cmds)\n",
    "    # now run the cmds concurrently    \n",
    "    run_bash_cmds_threaded(cmds)  "
   ]
  },
  {
   "cell_type": "code",
   "execution_count": null,
   "metadata": {},
   "outputs": [],
   "source": []
  }
 ],
 "metadata": {
  "kernelspec": {
   "display_name": "Python 3",
   "language": "python",
   "name": "python3"
  },
  "language_info": {
   "codemirror_mode": {
    "name": "ipython",
    "version": 3
   },
   "file_extension": ".py",
   "mimetype": "text/x-python",
   "name": "python",
   "nbconvert_exporter": "python",
   "pygments_lexer": "ipython3",
   "version": "3.7.7"
  }
 },
 "nbformat": 4,
 "nbformat_minor": 4
}
