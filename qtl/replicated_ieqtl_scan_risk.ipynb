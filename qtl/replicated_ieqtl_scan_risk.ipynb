{
 "cells": [
  {
   "cell_type": "markdown",
   "metadata": {},
   "source": [
    "## Notebook to browse the replicated ieQTL result for risk variants"
   ]
  },
  {
   "cell_type": "code",
   "execution_count": 1,
   "metadata": {},
   "outputs": [
    {
     "name": "stdout",
     "output_type": "stream",
     "text": [
      "Fri Jul  2 21:52:04 UTC 2021\n"
     ]
    }
   ],
   "source": [
    "!date"
   ]
  },
  {
   "cell_type": "markdown",
   "metadata": {},
   "source": [
    "#### import libraries and set notebook variables"
   ]
  },
  {
   "cell_type": "code",
   "execution_count": 2,
   "metadata": {},
   "outputs": [],
   "source": [
    "import pandas as pd\n",
    "import numpy as np\n",
    "import statsmodels.api as sm\n",
    "import statsmodels.formula.api as smf\n",
    "import concurrent.futures\n",
    "import seaborn as sns\n",
    "import matplotlib.pyplot as plt"
   ]
  },
  {
   "cell_type": "code",
   "execution_count": 3,
   "metadata": {
    "tags": [
     "parameters"
    ]
   },
   "outputs": [],
   "source": [
    "# parameters\n",
    "disc_cohort = 'ppmi'\n",
    "rep_cohort = 'pdbp'\n",
    "tissue = 'wb'\n",
    "interaction_term = 'GRS'"
   ]
  },
  {
   "cell_type": "code",
   "execution_count": 4,
   "metadata": {},
   "outputs": [],
   "source": [
    "# naming\n",
    "cohort_build = f'{disc_cohort}.{rep_cohort}'\n",
    "\n",
    "# directories\n",
    "home_dir = '/home/jupyter'\n",
    "wrk_dir = f'{home_dir}/{disc_cohort}'\n",
    "genos_dir = f'{wrk_dir}/genotypes'\n",
    "tensorqtl_dir = f'{wrk_dir}/tensorqtl'\n",
    "results_dir = f'{wrk_dir}/results'\n",
    "gwas_dir = f'{home_dir}/gwas'\n",
    "\n",
    "# input files\n",
    "gencode_pkl = f'{home_dir}/amppd/expression/gencode.v29.primary_assembly.annotation.pkl'\n",
    "eqtl_results_file = f'{results_dir}/{cohort_build}.replicated.wb.{interaction_term}.cis.ieqtl.csv'\n",
    "meta5_st2_clean_file = f'{gwas_dir}/pd.table_s2.clean.txt'\n",
    "meta5_stats_file = f'{gwas_dir}/pdmeta_sumstats_hg38.h5'\n",
    "\n",
    "# output files\n",
    "\n",
    "# constant values\n",
    "autosomes = [str(x) for x in list(range(1,23))]\n",
    "alpha_value = 0.05\n",
    "capture_out = !(nproc)\n",
    "max_threads = int(capture_out[0])\n"
   ]
  },
  {
   "cell_type": "markdown",
   "metadata": {},
   "source": [
    "#### analysis functions"
   ]
  },
  {
   "cell_type": "code",
   "execution_count": 5,
   "metadata": {},
   "outputs": [],
   "source": [
    "def mixed_model(formula, df, group_name):\n",
    "    model = sm.MixedLM.from_formula(formula, df, groups=df[group_name])\n",
    "    result = model.fit()\n",
    "    return result\n",
    "\n",
    "def regress_zscores_keep(this_df):\n",
    "    ret_value = False\n",
    "    # run the regression, mixed effects model with visit as random effect\n",
    "    this_formula = 'gwas_zscore_abs ~ eqtl_zscore_abs'\n",
    "    grouping = 'month'\n",
    "    result = mixed_model(this_formula, this_df, grouping)\n",
    "#     print(result.summary())\n",
    "    term = 'eqtl_zscore_abs'\n",
    "#     print(['feature', 'coef', 'stderr', 'term_cnt', 'p-value'])\n",
    "#     print(result.params[term], result.bse[term], \n",
    "#           result.params.shape[0], result.pvalues[term])    \n",
    "    return [result.params[term], result.bse[term], \n",
    "            result.params.shape[0], result.pvalues[term]]\n",
    "\n",
    "def create_merged_df_to_regress(eqtl_df, pheno_id, gwas_df):\n",
    "    pheno_df = eqtl_df.loc[eqtl_df['phenotype_id'] == pheno_id]\n",
    "    merged_df = pheno_df.merge(gwas_df, how='inner', \n",
    "                               left_on='variant_id', right_on='SNP')\n",
    "    # will test regression on absolute z-score instead of say p-value\n",
    "    merged_df['month'] =  merged_df['month'].astype(object)\n",
    "    merged_df['gwas_zscore_abs'] = np.abs(merged_df['b']/merged_df['se'])\n",
    "    merged_df['eqtl_zscore_abs'] = np.abs(merged_df['b_gi']/merged_df['b_gi_se'])\n",
    "\n",
    "    # for regression will only consider variants that are nominally\n",
    "    # significant in gwas or eqtl\n",
    "    df_to_return = merged_df.loc[(merged_df['pval_gi'] < alpha_value) | \n",
    "                                 (merged_df['p'] < alpha_value)]\n",
    "    #     print(pheno_df.shape, merged_df.shape, alpha_df.shape)\n",
    "    return df_to_return\n",
    "\n",
    "def load_chrom_result(chrom, visits, in_dir, cohort, tissue, term):\n",
    "    # have to do pass to find all phenos to possible capture\n",
    "    df_to_return = None\n",
    "    phenos_oi = []\n",
    "    for visit in visits:\n",
    "        chrom_file = f'{in_dir}/{cohort}.{tissue}{visit}.{term}.cis_qtl_pairs.chr{chrom}.parquet'\n",
    "        chrom_eqtl_df = pd.read_parquet(chrom_file)\n",
    "        oi_chrom_eqtl_df = chrom_eqtl_df.loc[chrom_eqtl_df['pval_gi'] < max_pvalue]\n",
    "        oi_results = oi_chrom_eqtl_df.loc[oi_chrom_eqtl_df['variant_id'].isin(variants_oi_df['SNP'])]\n",
    "        phenos_oi = phenos_oi + list(oi_results['phenotype_id'].unique())\n",
    "\n",
    "    # do pass to keep results that belong those phenos\n",
    "    for visit in visits:\n",
    "        chrom_file = f'{in_dir}/{cohort}.{tissue}{visit}.{term}.cis_qtl_pairs.chr{chrom}.parquet'\n",
    "        chrom_eqtl_df = pd.read_parquet(chrom_file)\n",
    "        possible_results_oi = chrom_eqtl_df.loc[chrom_eqtl_df['phenotype_id'].isin(phenos_oi)].copy()\n",
    "        possible_results_oi['month'] = visit\n",
    "        df_to_return = pd.concat([df_to_return, possible_results_oi])\n",
    "    return phenos_oi, df_to_return\n",
    "\n",
    "def process_regression_check(chrom, visits, in_dir, cohort, tissue, term, gwas_df):\n",
    "    results_to_keep = None\n",
    "    phenos_oi, results_to_test = load_chrom_result(chrom, visits, in_dir, cohort, tissue, term)\n",
    "    print(f'chr {chrom} shape {results_to_test.shape}')\n",
    "    # display(results_to_test.sample(5))\n",
    "\n",
    "    # test the GWAS~eQTL regression for possible significance\n",
    "    for phenotype_id in phenos_oi:\n",
    "        alpha_df = create_merged_df_to_regress(results_to_test, phenotype_id, gwas_df)\n",
    "\n",
    "        # ['coef', 'stderr', 'term_cnt', 'p-value']\n",
    "        ret_vals = regress_zscores_keep(alpha_df)\n",
    "        # must have postive coefficient and nomically significant p-value\n",
    "        if ret_vals[0] > 0 and ret_vals[3] < alpha_value:\n",
    "            results_to_keep = pd.concat([results_to_keep, alpha_df])\n",
    "    return results_to_keep"
   ]
  },
  {
   "cell_type": "markdown",
   "metadata": {},
   "source": [
    "#### load the gencode annotations"
   ]
  },
  {
   "cell_type": "code",
   "execution_count": 6,
   "metadata": {},
   "outputs": [
    {
     "name": "stdout",
     "output_type": "stream",
     "text": [
      "(2636995, 22)\n"
     ]
    },
    {
     "data": {
      "text/html": [
       "<div>\n",
       "<style scoped>\n",
       "    .dataframe tbody tr th:only-of-type {\n",
       "        vertical-align: middle;\n",
       "    }\n",
       "\n",
       "    .dataframe tbody tr th {\n",
       "        vertical-align: top;\n",
       "    }\n",
       "\n",
       "    .dataframe thead th {\n",
       "        text-align: right;\n",
       "    }\n",
       "</style>\n",
       "<table border=\"1\" class=\"dataframe\">\n",
       "  <thead>\n",
       "    <tr style=\"text-align: right;\">\n",
       "      <th></th>\n",
       "      <th>seqname</th>\n",
       "      <th>source</th>\n",
       "      <th>feature</th>\n",
       "      <th>start</th>\n",
       "      <th>end</th>\n",
       "      <th>score</th>\n",
       "      <th>strand</th>\n",
       "      <th>frame</th>\n",
       "      <th>ccdsid</th>\n",
       "      <th>exon_id</th>\n",
       "      <th>...</th>\n",
       "      <th>gene_name</th>\n",
       "      <th>gene_type</th>\n",
       "      <th>havana_gene</th>\n",
       "      <th>havana_transcript</th>\n",
       "      <th>level</th>\n",
       "      <th>protein_id</th>\n",
       "      <th>transcript_id</th>\n",
       "      <th>transcript_name</th>\n",
       "      <th>transcript_support_level</th>\n",
       "      <th>transcript_type</th>\n",
       "    </tr>\n",
       "  </thead>\n",
       "  <tbody>\n",
       "    <tr>\n",
       "      <th>0</th>\n",
       "      <td>chr1</td>\n",
       "      <td>HAVANA</td>\n",
       "      <td>gene</td>\n",
       "      <td>11869</td>\n",
       "      <td>14409</td>\n",
       "      <td>.</td>\n",
       "      <td>+</td>\n",
       "      <td>.</td>\n",
       "      <td>NaN</td>\n",
       "      <td>NaN</td>\n",
       "      <td>...</td>\n",
       "      <td>DDX11L1</td>\n",
       "      <td>transcribed_unprocessed_pseudogene</td>\n",
       "      <td>OTTHUMG00000000961.2</td>\n",
       "      <td>NaN</td>\n",
       "      <td>2</td>\n",
       "      <td>NaN</td>\n",
       "      <td>NaN</td>\n",
       "      <td>NaN</td>\n",
       "      <td>NaN</td>\n",
       "      <td>NaN</td>\n",
       "    </tr>\n",
       "    <tr>\n",
       "      <th>1</th>\n",
       "      <td>chr1</td>\n",
       "      <td>HAVANA</td>\n",
       "      <td>transcript</td>\n",
       "      <td>11869</td>\n",
       "      <td>14409</td>\n",
       "      <td>.</td>\n",
       "      <td>+</td>\n",
       "      <td>.</td>\n",
       "      <td>NaN</td>\n",
       "      <td>NaN</td>\n",
       "      <td>...</td>\n",
       "      <td>DDX11L1</td>\n",
       "      <td>transcribed_unprocessed_pseudogene</td>\n",
       "      <td>OTTHUMG00000000961.2</td>\n",
       "      <td>OTTHUMT00000362751.1</td>\n",
       "      <td>2</td>\n",
       "      <td>NaN</td>\n",
       "      <td>ENST00000456328.2</td>\n",
       "      <td>DDX11L1-202</td>\n",
       "      <td>1</td>\n",
       "      <td>processed_transcript</td>\n",
       "    </tr>\n",
       "    <tr>\n",
       "      <th>2</th>\n",
       "      <td>chr1</td>\n",
       "      <td>HAVANA</td>\n",
       "      <td>exon</td>\n",
       "      <td>11869</td>\n",
       "      <td>12227</td>\n",
       "      <td>.</td>\n",
       "      <td>+</td>\n",
       "      <td>.</td>\n",
       "      <td>NaN</td>\n",
       "      <td>ENSE00002234944.1</td>\n",
       "      <td>...</td>\n",
       "      <td>DDX11L1</td>\n",
       "      <td>transcribed_unprocessed_pseudogene</td>\n",
       "      <td>OTTHUMG00000000961.2</td>\n",
       "      <td>OTTHUMT00000362751.1</td>\n",
       "      <td>2</td>\n",
       "      <td>NaN</td>\n",
       "      <td>ENST00000456328.2</td>\n",
       "      <td>DDX11L1-202</td>\n",
       "      <td>1</td>\n",
       "      <td>processed_transcript</td>\n",
       "    </tr>\n",
       "    <tr>\n",
       "      <th>3</th>\n",
       "      <td>chr1</td>\n",
       "      <td>HAVANA</td>\n",
       "      <td>exon</td>\n",
       "      <td>12613</td>\n",
       "      <td>12721</td>\n",
       "      <td>.</td>\n",
       "      <td>+</td>\n",
       "      <td>.</td>\n",
       "      <td>NaN</td>\n",
       "      <td>ENSE00003582793.1</td>\n",
       "      <td>...</td>\n",
       "      <td>DDX11L1</td>\n",
       "      <td>transcribed_unprocessed_pseudogene</td>\n",
       "      <td>OTTHUMG00000000961.2</td>\n",
       "      <td>OTTHUMT00000362751.1</td>\n",
       "      <td>2</td>\n",
       "      <td>NaN</td>\n",
       "      <td>ENST00000456328.2</td>\n",
       "      <td>DDX11L1-202</td>\n",
       "      <td>1</td>\n",
       "      <td>processed_transcript</td>\n",
       "    </tr>\n",
       "    <tr>\n",
       "      <th>4</th>\n",
       "      <td>chr1</td>\n",
       "      <td>HAVANA</td>\n",
       "      <td>exon</td>\n",
       "      <td>13221</td>\n",
       "      <td>14409</td>\n",
       "      <td>.</td>\n",
       "      <td>+</td>\n",
       "      <td>.</td>\n",
       "      <td>NaN</td>\n",
       "      <td>ENSE00002312635.1</td>\n",
       "      <td>...</td>\n",
       "      <td>DDX11L1</td>\n",
       "      <td>transcribed_unprocessed_pseudogene</td>\n",
       "      <td>OTTHUMG00000000961.2</td>\n",
       "      <td>OTTHUMT00000362751.1</td>\n",
       "      <td>2</td>\n",
       "      <td>NaN</td>\n",
       "      <td>ENST00000456328.2</td>\n",
       "      <td>DDX11L1-202</td>\n",
       "      <td>1</td>\n",
       "      <td>processed_transcript</td>\n",
       "    </tr>\n",
       "  </tbody>\n",
       "</table>\n",
       "<p>5 rows × 22 columns</p>\n",
       "</div>"
      ],
      "text/plain": [
       "  seqname  source     feature  start    end score strand frame ccdsid  \\\n",
       "0    chr1  HAVANA        gene  11869  14409     .      +     .    NaN   \n",
       "1    chr1  HAVANA  transcript  11869  14409     .      +     .    NaN   \n",
       "2    chr1  HAVANA        exon  11869  12227     .      +     .    NaN   \n",
       "3    chr1  HAVANA        exon  12613  12721     .      +     .    NaN   \n",
       "4    chr1  HAVANA        exon  13221  14409     .      +     .    NaN   \n",
       "\n",
       "             exon_id  ... gene_name                           gene_type  \\\n",
       "0                NaN  ...   DDX11L1  transcribed_unprocessed_pseudogene   \n",
       "1                NaN  ...   DDX11L1  transcribed_unprocessed_pseudogene   \n",
       "2  ENSE00002234944.1  ...   DDX11L1  transcribed_unprocessed_pseudogene   \n",
       "3  ENSE00003582793.1  ...   DDX11L1  transcribed_unprocessed_pseudogene   \n",
       "4  ENSE00002312635.1  ...   DDX11L1  transcribed_unprocessed_pseudogene   \n",
       "\n",
       "            havana_gene     havana_transcript level protein_id  \\\n",
       "0  OTTHUMG00000000961.2                   NaN     2        NaN   \n",
       "1  OTTHUMG00000000961.2  OTTHUMT00000362751.1     2        NaN   \n",
       "2  OTTHUMG00000000961.2  OTTHUMT00000362751.1     2        NaN   \n",
       "3  OTTHUMG00000000961.2  OTTHUMT00000362751.1     2        NaN   \n",
       "4  OTTHUMG00000000961.2  OTTHUMT00000362751.1     2        NaN   \n",
       "\n",
       "       transcript_id transcript_name transcript_support_level  \\\n",
       "0                NaN             NaN                      NaN   \n",
       "1  ENST00000456328.2     DDX11L1-202                        1   \n",
       "2  ENST00000456328.2     DDX11L1-202                        1   \n",
       "3  ENST00000456328.2     DDX11L1-202                        1   \n",
       "4  ENST00000456328.2     DDX11L1-202                        1   \n",
       "\n",
       "        transcript_type  \n",
       "0                   NaN  \n",
       "1  processed_transcript  \n",
       "2  processed_transcript  \n",
       "3  processed_transcript  \n",
       "4  processed_transcript  \n",
       "\n",
       "[5 rows x 22 columns]"
      ]
     },
     "metadata": {},
     "output_type": "display_data"
    },
    {
     "name": "stdout",
     "output_type": "stream",
     "text": [
      "CPU times: user 5.39 s, sys: 2.22 s, total: 7.61 s\n",
      "Wall time: 7.61 s\n"
     ]
    }
   ],
   "source": [
    "%%time\n",
    "gencode_df = pd.read_pickle(gencode_pkl)\n",
    "# drop the ont and tag columns\n",
    "discard_cols = gencode_df.columns[(gencode_df.columns.str.startswith('ont:')) |\n",
    "                                (gencode_df.columns.str.startswith('tag:'))]\n",
    "gencode_df.drop(columns=discard_cols, inplace=True)\n",
    "# should only be autosomal but sometimes annotation quirks allow in others, so force\n",
    "gencode_df = gencode_df.loc[(gencode_df['seqname'].str.startswith('chr')) & \n",
    "                           (~gencode_df['seqname'].isin(['chrX','chrY','chrM']))]\n",
    "# every now and again having problem with mics_RNA genes mapping every chrom so drop\n",
    "gencode_df = gencode_df.loc[~gencode_df['gene_type'].isin(['misc_RNA'])]\n",
    "print(gencode_df.shape)\n",
    "display(gencode_df.head())"
   ]
  },
  {
   "cell_type": "markdown",
   "metadata": {},
   "source": [
    "#### load the risk variants of interest"
   ]
  },
  {
   "cell_type": "code",
   "execution_count": 7,
   "metadata": {},
   "outputs": [
    {
     "name": "stdout",
     "output_type": "stream",
     "text": [
      "(91, 12)\n"
     ]
    },
    {
     "data": {
      "text/html": [
       "<div>\n",
       "<style scoped>\n",
       "    .dataframe tbody tr th:only-of-type {\n",
       "        vertical-align: middle;\n",
       "    }\n",
       "\n",
       "    .dataframe tbody tr th {\n",
       "        vertical-align: top;\n",
       "    }\n",
       "\n",
       "    .dataframe thead th {\n",
       "        text-align: right;\n",
       "    }\n",
       "</style>\n",
       "<table border=\"1\" class=\"dataframe\">\n",
       "  <thead>\n",
       "    <tr style=\"text-align: right;\">\n",
       "      <th></th>\n",
       "      <th>SNP</th>\n",
       "      <th>CHR</th>\n",
       "      <th>BP</th>\n",
       "      <th>Nearest_Gene</th>\n",
       "      <th>QTL_Nominated_Gene</th>\n",
       "      <th>Effect_allele</th>\n",
       "      <th>Other_allele</th>\n",
       "      <th>EAF</th>\n",
       "      <th>Beta_all_studies</th>\n",
       "      <th>SE_all_studies</th>\n",
       "      <th>P_all_studies</th>\n",
       "      <th>P_COJO_all_studies</th>\n",
       "    </tr>\n",
       "  </thead>\n",
       "  <tbody>\n",
       "    <tr>\n",
       "      <th>0</th>\n",
       "      <td>rs114138760</td>\n",
       "      <td>1</td>\n",
       "      <td>154898185</td>\n",
       "      <td>PMVK</td>\n",
       "      <td>NaN</td>\n",
       "      <td>c</td>\n",
       "      <td>g</td>\n",
       "      <td>0.0112</td>\n",
       "      <td>0.2812</td>\n",
       "      <td>0.0478</td>\n",
       "      <td>4.190000e-09</td>\n",
       "      <td>1.090000e-08</td>\n",
       "    </tr>\n",
       "    <tr>\n",
       "      <th>1</th>\n",
       "      <td>rs35749011</td>\n",
       "      <td>1</td>\n",
       "      <td>155135036</td>\n",
       "      <td>KRTCAP2</td>\n",
       "      <td>EFNA3</td>\n",
       "      <td>a</td>\n",
       "      <td>g</td>\n",
       "      <td>0.0169</td>\n",
       "      <td>0.6068</td>\n",
       "      <td>0.0342</td>\n",
       "      <td>1.720000e-70</td>\n",
       "      <td>3.820000e-77</td>\n",
       "    </tr>\n",
       "    <tr>\n",
       "      <th>2</th>\n",
       "      <td>rs76763715</td>\n",
       "      <td>1</td>\n",
       "      <td>155205634</td>\n",
       "      <td>GBAP1</td>\n",
       "      <td>NaN</td>\n",
       "      <td>t</td>\n",
       "      <td>c</td>\n",
       "      <td>0.9953</td>\n",
       "      <td>-0.7467</td>\n",
       "      <td>0.0765</td>\n",
       "      <td>1.590000e-22</td>\n",
       "      <td>9.900000e-23</td>\n",
       "    </tr>\n",
       "    <tr>\n",
       "      <th>3</th>\n",
       "      <td>rs6658353</td>\n",
       "      <td>1</td>\n",
       "      <td>161469054</td>\n",
       "      <td>FCGR2A</td>\n",
       "      <td>FCGR2A</td>\n",
       "      <td>c</td>\n",
       "      <td>g</td>\n",
       "      <td>0.5011</td>\n",
       "      <td>0.0650</td>\n",
       "      <td>0.0094</td>\n",
       "      <td>6.100000e-12</td>\n",
       "      <td>4.690000e-12</td>\n",
       "    </tr>\n",
       "    <tr>\n",
       "      <th>4</th>\n",
       "      <td>rs11578699</td>\n",
       "      <td>1</td>\n",
       "      <td>171719769</td>\n",
       "      <td>VAMP4</td>\n",
       "      <td>VAMP4</td>\n",
       "      <td>t</td>\n",
       "      <td>c</td>\n",
       "      <td>0.1949</td>\n",
       "      <td>-0.0704</td>\n",
       "      <td>0.0120</td>\n",
       "      <td>4.470000e-09</td>\n",
       "      <td>4.450000e-09</td>\n",
       "    </tr>\n",
       "  </tbody>\n",
       "</table>\n",
       "</div>"
      ],
      "text/plain": [
       "           SNP  CHR         BP Nearest_Gene QTL_Nominated_Gene Effect_allele  \\\n",
       "0  rs114138760    1  154898185         PMVK                NaN             c   \n",
       "1   rs35749011    1  155135036      KRTCAP2              EFNA3             a   \n",
       "2   rs76763715    1  155205634        GBAP1                NaN             t   \n",
       "3    rs6658353    1  161469054       FCGR2A             FCGR2A             c   \n",
       "4   rs11578699    1  171719769        VAMP4              VAMP4             t   \n",
       "\n",
       "  Other_allele     EAF  Beta_all_studies  SE_all_studies  P_all_studies  \\\n",
       "0            g  0.0112            0.2812          0.0478   4.190000e-09   \n",
       "1            g  0.0169            0.6068          0.0342   1.720000e-70   \n",
       "2            c  0.9953           -0.7467          0.0765   1.590000e-22   \n",
       "3            g  0.5011            0.0650          0.0094   6.100000e-12   \n",
       "4            c  0.1949           -0.0704          0.0120   4.470000e-09   \n",
       "\n",
       "   P_COJO_all_studies  \n",
       "0        1.090000e-08  \n",
       "1        3.820000e-77  \n",
       "2        9.900000e-23  \n",
       "3        4.690000e-12  \n",
       "4        4.450000e-09  "
      ]
     },
     "execution_count": 7,
     "metadata": {},
     "output_type": "execute_result"
    }
   ],
   "source": [
    "variants_oi_df = pd.read_csv(meta5_st2_clean_file, sep='\\t')\n",
    "print(variants_oi_df.shape)\n",
    "variants_oi_df.head()"
   ]
  },
  {
   "cell_type": "markdown",
   "metadata": {
    "papermill": {
     "duration": 0.011883,
     "end_time": "2021-06-24T22:33:59.038114",
     "exception": false,
     "start_time": "2021-06-24T22:33:59.026231",
     "status": "completed"
    },
    "tags": []
   },
   "source": [
    "#### load the full gwas summary stats"
   ]
  },
  {
   "cell_type": "code",
   "execution_count": 8,
   "metadata": {
    "execution": {
     "iopub.execute_input": "2021-06-24T22:33:59.064270Z",
     "iopub.status.busy": "2021-06-24T22:33:59.063748Z",
     "iopub.status.idle": "2021-06-24T22:34:26.888066Z",
     "shell.execute_reply": "2021-06-24T22:34:26.887533Z"
    },
    "papermill": {
     "duration": 27.839467,
     "end_time": "2021-06-24T22:34:26.888216",
     "exception": false,
     "start_time": "2021-06-24T22:33:59.048749",
     "status": "completed"
    },
    "tags": []
   },
   "outputs": [
    {
     "name": "stdout",
     "output_type": "stream",
     "text": [
      "(7769022, 11)\n"
     ]
    },
    {
     "data": {
      "text/html": [
       "<div>\n",
       "<style scoped>\n",
       "    .dataframe tbody tr th:only-of-type {\n",
       "        vertical-align: middle;\n",
       "    }\n",
       "\n",
       "    .dataframe tbody tr th {\n",
       "        vertical-align: top;\n",
       "    }\n",
       "\n",
       "    .dataframe thead th {\n",
       "        text-align: right;\n",
       "    }\n",
       "</style>\n",
       "<table border=\"1\" class=\"dataframe\">\n",
       "  <thead>\n",
       "    <tr style=\"text-align: right;\">\n",
       "      <th></th>\n",
       "      <th>SNP</th>\n",
       "      <th>A1</th>\n",
       "      <th>A2</th>\n",
       "      <th>freq</th>\n",
       "      <th>b</th>\n",
       "      <th>se</th>\n",
       "      <th>p</th>\n",
       "      <th>N</th>\n",
       "      <th>chr</th>\n",
       "      <th>position</th>\n",
       "      <th>id</th>\n",
       "    </tr>\n",
       "  </thead>\n",
       "  <tbody>\n",
       "    <tr>\n",
       "      <th>2802885</th>\n",
       "      <td>rs61818144</td>\n",
       "      <td>T</td>\n",
       "      <td>C</td>\n",
       "      <td>0.7683</td>\n",
       "      <td>-0.0136</td>\n",
       "      <td>0.0119</td>\n",
       "      <td>0.2531</td>\n",
       "      <td>1460059</td>\n",
       "      <td>chr1</td>\n",
       "      <td>112204228</td>\n",
       "      <td>rs61818144</td>\n",
       "    </tr>\n",
       "    <tr>\n",
       "      <th>3747368</th>\n",
       "      <td>rs117477158</td>\n",
       "      <td>A</td>\n",
       "      <td>C</td>\n",
       "      <td>0.0965</td>\n",
       "      <td>0.0039</td>\n",
       "      <td>0.0160</td>\n",
       "      <td>0.8079</td>\n",
       "      <td>1474097</td>\n",
       "      <td>chr22</td>\n",
       "      <td>50090194</td>\n",
       "      <td>rs117477158</td>\n",
       "    </tr>\n",
       "    <tr>\n",
       "      <th>6997819</th>\n",
       "      <td>rs1484646</td>\n",
       "      <td>T</td>\n",
       "      <td>G</td>\n",
       "      <td>0.2516</td>\n",
       "      <td>-0.0015</td>\n",
       "      <td>0.0110</td>\n",
       "      <td>0.8919</td>\n",
       "      <td>1474097</td>\n",
       "      <td>chr8</td>\n",
       "      <td>10170886</td>\n",
       "      <td>rs1484646</td>\n",
       "    </tr>\n",
       "    <tr>\n",
       "      <th>2114874</th>\n",
       "      <td>rs150320983</td>\n",
       "      <td>A</td>\n",
       "      <td>G</td>\n",
       "      <td>0.0313</td>\n",
       "      <td>-0.0228</td>\n",
       "      <td>0.0306</td>\n",
       "      <td>0.4562</td>\n",
       "      <td>1460059</td>\n",
       "      <td>chr16</td>\n",
       "      <td>82860411</td>\n",
       "      <td>rs150320983</td>\n",
       "    </tr>\n",
       "    <tr>\n",
       "      <th>2275491</th>\n",
       "      <td>rs118177303</td>\n",
       "      <td>A</td>\n",
       "      <td>G</td>\n",
       "      <td>0.9459</td>\n",
       "      <td>0.0134</td>\n",
       "      <td>0.0256</td>\n",
       "      <td>0.6013</td>\n",
       "      <td>1460059</td>\n",
       "      <td>chr17</td>\n",
       "      <td>57782246</td>\n",
       "      <td>rs118177303</td>\n",
       "    </tr>\n",
       "  </tbody>\n",
       "</table>\n",
       "</div>"
      ],
      "text/plain": [
       "                 SNP A1 A2    freq       b      se       p        N    chr  \\\n",
       "2802885   rs61818144  T  C  0.7683 -0.0136  0.0119  0.2531  1460059   chr1   \n",
       "3747368  rs117477158  A  C  0.0965  0.0039  0.0160  0.8079  1474097  chr22   \n",
       "6997819    rs1484646  T  G  0.2516 -0.0015  0.0110  0.8919  1474097   chr8   \n",
       "2114874  rs150320983  A  G  0.0313 -0.0228  0.0306  0.4562  1460059  chr16   \n",
       "2275491  rs118177303  A  G  0.9459  0.0134  0.0256  0.6013  1460059  chr17   \n",
       "\n",
       "          position           id  \n",
       "2802885  112204228   rs61818144  \n",
       "3747368   50090194  rs117477158  \n",
       "6997819   10170886    rs1484646  \n",
       "2114874   82860411  rs150320983  \n",
       "2275491   57782246  rs118177303  "
      ]
     },
     "metadata": {},
     "output_type": "display_data"
    },
    {
     "name": "stdout",
     "output_type": "stream",
     "text": [
      "CPU times: user 24.5 s, sys: 2.05 s, total: 26.6 s\n",
      "Wall time: 26.6 s\n"
     ]
    }
   ],
   "source": [
    "%%time\n",
    "gwas_stats_df = pd.read_hdf(meta5_stats_file)\n",
    "print(gwas_stats_df.shape)\n",
    "display(gwas_stats_df.head())"
   ]
  },
  {
   "cell_type": "markdown",
   "metadata": {},
   "source": [
    "#### load the replicated eQTL"
   ]
  },
  {
   "cell_type": "code",
   "execution_count": 9,
   "metadata": {},
   "outputs": [
    {
     "name": "stdout",
     "output_type": "stream",
     "text": [
      "(20, 22)\n",
      "replicated eqtl for 2 genes\n"
     ]
    },
    {
     "data": {
      "text/html": [
       "<div>\n",
       "<style scoped>\n",
       "    .dataframe tbody tr th:only-of-type {\n",
       "        vertical-align: middle;\n",
       "    }\n",
       "\n",
       "    .dataframe tbody tr th {\n",
       "        vertical-align: top;\n",
       "    }\n",
       "\n",
       "    .dataframe thead th {\n",
       "        text-align: right;\n",
       "    }\n",
       "</style>\n",
       "<table border=\"1\" class=\"dataframe\">\n",
       "  <thead>\n",
       "    <tr style=\"text-align: right;\">\n",
       "      <th></th>\n",
       "      <th>phenotype_id</th>\n",
       "      <th>variant_id</th>\n",
       "      <th>tss_distance</th>\n",
       "      <th>af</th>\n",
       "      <th>ma_samples</th>\n",
       "      <th>ma_count</th>\n",
       "      <th>pval_g</th>\n",
       "      <th>b_g</th>\n",
       "      <th>b_g_se</th>\n",
       "      <th>pval_i</th>\n",
       "      <th>...</th>\n",
       "      <th>pval_gi</th>\n",
       "      <th>b_gi</th>\n",
       "      <th>b_gi_se</th>\n",
       "      <th>cispair</th>\n",
       "      <th>month</th>\n",
       "      <th>log10_pvalue</th>\n",
       "      <th>z_score</th>\n",
       "      <th>z_score_abs</th>\n",
       "      <th>is_sig</th>\n",
       "      <th>cohort</th>\n",
       "    </tr>\n",
       "  </thead>\n",
       "  <tbody>\n",
       "    <tr>\n",
       "      <th>0</th>\n",
       "      <td>ENSG00000214401.4</td>\n",
       "      <td>rs76969039</td>\n",
       "      <td>-486579</td>\n",
       "      <td>0.418205</td>\n",
       "      <td>802</td>\n",
       "      <td>997</td>\n",
       "      <td>1.113184e-23</td>\n",
       "      <td>-0.969207</td>\n",
       "      <td>0.094553</td>\n",
       "      <td>4.441574e-11</td>\n",
       "      <td>...</td>\n",
       "      <td>2.397787e-08</td>\n",
       "      <td>1.392393</td>\n",
       "      <td>0.247816</td>\n",
       "      <td>ENSG00000214401.4:rs76969039</td>\n",
       "      <td>0</td>\n",
       "      <td>7.620189</td>\n",
       "      <td>5.618665</td>\n",
       "      <td>5.618665</td>\n",
       "      <td>1</td>\n",
       "      <td>ppmi</td>\n",
       "    </tr>\n",
       "    <tr>\n",
       "      <th>1</th>\n",
       "      <td>ENSG00000214401.4</td>\n",
       "      <td>rs76969039</td>\n",
       "      <td>-486579</td>\n",
       "      <td>0.407115</td>\n",
       "      <td>499</td>\n",
       "      <td>618</td>\n",
       "      <td>1.309432e-20</td>\n",
       "      <td>-1.065344</td>\n",
       "      <td>0.111134</td>\n",
       "      <td>3.184163e-11</td>\n",
       "      <td>...</td>\n",
       "      <td>2.598226e-08</td>\n",
       "      <td>1.893998</td>\n",
       "      <td>0.336624</td>\n",
       "      <td>ENSG00000214401.4:rs76969039</td>\n",
       "      <td>12</td>\n",
       "      <td>7.585323</td>\n",
       "      <td>5.626458</td>\n",
       "      <td>5.626458</td>\n",
       "      <td>1</td>\n",
       "      <td>ppmi</td>\n",
       "    </tr>\n",
       "    <tr>\n",
       "      <th>2</th>\n",
       "      <td>ENSG00000214425.7</td>\n",
       "      <td>rs9898399</td>\n",
       "      <td>322621</td>\n",
       "      <td>0.378828</td>\n",
       "      <td>466</td>\n",
       "      <td>569</td>\n",
       "      <td>1.793138e-30</td>\n",
       "      <td>-1.215024</td>\n",
       "      <td>0.101201</td>\n",
       "      <td>7.218832e-02</td>\n",
       "      <td>...</td>\n",
       "      <td>1.126462e-07</td>\n",
       "      <td>1.574987</td>\n",
       "      <td>0.293973</td>\n",
       "      <td>ENSG00000214425.7:rs9898399</td>\n",
       "      <td>6</td>\n",
       "      <td>6.948283</td>\n",
       "      <td>5.357581</td>\n",
       "      <td>5.357581</td>\n",
       "      <td>1</td>\n",
       "      <td>ppmi</td>\n",
       "    </tr>\n",
       "    <tr>\n",
       "      <th>3</th>\n",
       "      <td>ENSG00000214401.4</td>\n",
       "      <td>rs76969039</td>\n",
       "      <td>-486579</td>\n",
       "      <td>0.404794</td>\n",
       "      <td>489</td>\n",
       "      <td>608</td>\n",
       "      <td>5.301063e-20</td>\n",
       "      <td>-1.030330</td>\n",
       "      <td>0.109307</td>\n",
       "      <td>1.100697e-10</td>\n",
       "      <td>...</td>\n",
       "      <td>1.424551e-07</td>\n",
       "      <td>1.633694</td>\n",
       "      <td>0.307470</td>\n",
       "      <td>ENSG00000214401.4:rs76969039</td>\n",
       "      <td>6</td>\n",
       "      <td>6.846322</td>\n",
       "      <td>5.313346</td>\n",
       "      <td>5.313346</td>\n",
       "      <td>0</td>\n",
       "      <td>ppmi</td>\n",
       "    </tr>\n",
       "    <tr>\n",
       "      <th>4</th>\n",
       "      <td>ENSG00000214425.7</td>\n",
       "      <td>rs9898399</td>\n",
       "      <td>322621</td>\n",
       "      <td>0.361224</td>\n",
       "      <td>296</td>\n",
       "      <td>354</td>\n",
       "      <td>2.512451e-20</td>\n",
       "      <td>-1.455830</td>\n",
       "      <td>0.150572</td>\n",
       "      <td>2.606193e-02</td>\n",
       "      <td>...</td>\n",
       "      <td>7.086006e-07</td>\n",
       "      <td>2.778783</td>\n",
       "      <td>0.552912</td>\n",
       "      <td>ENSG00000214425.7:rs9898399</td>\n",
       "      <td>36</td>\n",
       "      <td>6.149598</td>\n",
       "      <td>5.025722</td>\n",
       "      <td>5.025722</td>\n",
       "      <td>0</td>\n",
       "      <td>ppmi</td>\n",
       "    </tr>\n",
       "  </tbody>\n",
       "</table>\n",
       "<p>5 rows × 22 columns</p>\n",
       "</div>"
      ],
      "text/plain": [
       "        phenotype_id  variant_id  tss_distance        af  ma_samples  \\\n",
       "0  ENSG00000214401.4  rs76969039       -486579  0.418205         802   \n",
       "1  ENSG00000214401.4  rs76969039       -486579  0.407115         499   \n",
       "2  ENSG00000214425.7   rs9898399        322621  0.378828         466   \n",
       "3  ENSG00000214401.4  rs76969039       -486579  0.404794         489   \n",
       "4  ENSG00000214425.7   rs9898399        322621  0.361224         296   \n",
       "\n",
       "   ma_count        pval_g       b_g    b_g_se        pval_i  ...  \\\n",
       "0       997  1.113184e-23 -0.969207  0.094553  4.441574e-11  ...   \n",
       "1       618  1.309432e-20 -1.065344  0.111134  3.184163e-11  ...   \n",
       "2       569  1.793138e-30 -1.215024  0.101201  7.218832e-02  ...   \n",
       "3       608  5.301063e-20 -1.030330  0.109307  1.100697e-10  ...   \n",
       "4       354  2.512451e-20 -1.455830  0.150572  2.606193e-02  ...   \n",
       "\n",
       "        pval_gi      b_gi   b_gi_se                       cispair  month  \\\n",
       "0  2.397787e-08  1.392393  0.247816  ENSG00000214401.4:rs76969039      0   \n",
       "1  2.598226e-08  1.893998  0.336624  ENSG00000214401.4:rs76969039     12   \n",
       "2  1.126462e-07  1.574987  0.293973   ENSG00000214425.7:rs9898399      6   \n",
       "3  1.424551e-07  1.633694  0.307470  ENSG00000214401.4:rs76969039      6   \n",
       "4  7.086006e-07  2.778783  0.552912   ENSG00000214425.7:rs9898399     36   \n",
       "\n",
       "  log10_pvalue   z_score  z_score_abs  is_sig  cohort  \n",
       "0     7.620189  5.618665     5.618665       1    ppmi  \n",
       "1     7.585323  5.626458     5.626458       1    ppmi  \n",
       "2     6.948283  5.357581     5.357581       1    ppmi  \n",
       "3     6.846322  5.313346     5.313346       0    ppmi  \n",
       "4     6.149598  5.025722     5.025722       0    ppmi  \n",
       "\n",
       "[5 rows x 22 columns]"
      ]
     },
     "execution_count": 9,
     "metadata": {},
     "output_type": "execute_result"
    }
   ],
   "source": [
    "eqtl_df = pd.read_csv(eqtl_results_file)\n",
    "print(eqtl_df.shape)\n",
    "number_genes = len(eqtl_df['phenotype_id'].unique())\n",
    "print(f'replicated eqtl for {number_genes} genes')\n",
    "eqtl_df.head()"
   ]
  },
  {
   "cell_type": "markdown",
   "metadata": {},
   "source": [
    "#### which visit are present in the results (typically will be all in cohort)"
   ]
  },
  {
   "cell_type": "code",
   "execution_count": 10,
   "metadata": {},
   "outputs": [
    {
     "name": "stdout",
     "output_type": "stream",
     "text": [
      "[0, 6, 12, 24, 36]\n"
     ]
    }
   ],
   "source": [
    "visits = sorted(list(eqtl_df.loc[eqtl_df['cohort'] == disc_cohort]['month'].unique()))\n",
    "print(visits)"
   ]
  },
  {
   "cell_type": "markdown",
   "metadata": {},
   "source": [
    "#### grab the max pval_gi"
   ]
  },
  {
   "cell_type": "code",
   "execution_count": 11,
   "metadata": {},
   "outputs": [
    {
     "name": "stdout",
     "output_type": "stream",
     "text": [
      "max p-value: 0.0008990619741416\n"
     ]
    }
   ],
   "source": [
    "max_nomical_pvalue = eqtl_df[eqtl_df['is_sig'] == 1]['pval_gi'].max()\n",
    "try:\n",
    "    max_cnt_pvalue = 0.05/number_genes\n",
    "except ZeroDivisionError:\n",
    "    print('number of genes less than one, switching to raw alpha value')\n",
    "    max_cnt_pvalue = alpha_value\n",
    "    \n",
    "print(f'max_nomical_pvalue == {max_nomical_pvalue}')\n",
    "print(f'max_cnt_pvalue == {max_cnt_pvalue}')\n",
    "\n",
    "max_pvalue = max_nomical_pvalue if max_nomical_pvalue > max_cnt_pvalue else max_cnt_pvalue\n",
    "print(f'max nominal pvalue {max_pvalue}')"
   ]
  },
  {
   "cell_type": "markdown",
   "metadata": {},
   "source": [
    "#### see if any of the top significant results happen to be risk independent variants"
   ]
  },
  {
   "cell_type": "code",
   "execution_count": 12,
   "metadata": {},
   "outputs": [],
   "source": [
    "def check_eqtls_for_variants(eqtl_df, variants_df, gencode_df):\n",
    "    eqtl_variants_oi_df = eqtl_df.loc[eqtl_df['variant_id'].isin(variants_df['SNP'])]\n",
    "    print(eqtl_variants_oi_df.shape)\n",
    "    this_cnt = len(eqtl_variants_oi_df['variant_id'].unique())\n",
    "    print(f'variants {this_cnt}')\n",
    "    print(eqtl_variants_oi_df['variant_id'].unique())\n",
    "    this_cnt = len(eqtl_variants_oi_df['phenotype_id'].unique())\n",
    "    print(f'genes {this_cnt}')\n",
    "    oi_genes = gencode_df.loc[gencode_df['gene_id'].isin(eqtl_variants_oi_df['phenotype_id']), \n",
    "                              ['gene_name']]['gene_name'].unique()\n",
    "    print(oi_genes)\n",
    "    return eqtl_variants_oi_df"
   ]
  },
  {
   "cell_type": "code",
   "execution_count": 13,
   "metadata": {},
   "outputs": [
    {
     "name": "stdout",
     "output_type": "stream",
     "text": [
      "(0, 22)\n",
      "variants 0\n",
      "[]\n",
      "genes 0\n",
      "[]\n"
     ]
    }
   ],
   "source": [
    "risk_genes = check_eqtls_for_variants(eqtl_df, variants_oi_df, gencode_df)\n",
    "if len(risk_genes) > 0:\n",
    "    display(risk_genes.head())"
   ]
  },
  {
   "cell_type": "markdown",
   "metadata": {},
   "source": [
    "#### now load rest of results and see if risk index variants are eQTL"
   ]
  },
  {
   "cell_type": "code",
   "execution_count": 14,
   "metadata": {},
   "outputs": [],
   "source": [
    "import warnings\n",
    "# warnings.filterwarnings(action='once')\n",
    "warnings.filterwarnings('ignore')"
   ]
  },
  {
   "cell_type": "code",
   "execution_count": 15,
   "metadata": {},
   "outputs": [
    {
     "name": "stdout",
     "output_type": "stream",
     "text": [
      "chr 1 shape (25039, 16)\n",
      "chr 2 shape (0, 16)\n",
      "chr 3 shape (0, 16)\n",
      "chr 4 shape (0, 16)\n",
      "chr 5 shape (0, 16)\n",
      "chr 6 shape (0, 16)\n",
      "chr 7 shape (0, 16)\n",
      "chr 8 shape (0, 16)\n",
      "chr 9 shape (0, 16)\n",
      "chr 10 shape (0, 16)\n",
      "chr 11 shape (0, 16)\n",
      "chr 13 shape (0, 16)\n",
      "chr 12 shape (0, 16)\n",
      "chr 14 shape (0, 16)\n",
      "chr 15 shape (0, 16)\n",
      "chr 16 shape (0, 16)\n",
      "chr 18 shape (0, 16)\n",
      "chr 17 shape (19803, 16)\n",
      "chr 20 shape (0, 16)\n",
      "chr 19 shape (0, 16)\n",
      "chr 21 shape (0, 16)\n",
      "chr 22 shape (0, 16)\n",
      "CPU times: user 3min 17s, sys: 28.8 s, total: 3min 46s\n",
      "Wall time: 4min 5s\n"
     ]
    }
   ],
   "source": [
    "%%time\n",
    "\n",
    "fs_list = []\n",
    "lm_results = []\n",
    "with concurrent.futures.ProcessPoolExecutor(max_workers=max_threads*2) as ppe:\n",
    "    for chrom in autosomes:\n",
    "        fs_list.append(ppe.submit(process_regression_check, chrom, visits, \n",
    "                                  tensorqtl_dir, disc_cohort, tissue, \n",
    "                                  interaction_term, gwas_stats_df))\n",
    "# for future in concurrent.futures.as_completed(fs_list):\n",
    "#     lm_results.append(future.result())\n",
    "\n",
    "# # flatten the list\n",
    "# results_to_keep = pd.concat([item for item in lm_results])"
   ]
  },
  {
   "cell_type": "code",
   "execution_count": null,
   "metadata": {},
   "outputs": [],
   "source": [
    "for future in concurrent.futures.as_completed(fs_list):\n",
    "    lm_results.append(future.result())\n",
    "\n",
    "# flatten the list\n",
    "results_to_keep = pd.concat([item for item in lm_results])"
   ]
  },
  {
   "cell_type": "code",
   "execution_count": null,
   "metadata": {},
   "outputs": [],
   "source": [
    "print(results_to_keep.shape)\n",
    "display(results_to_keep.head())"
   ]
  },
  {
   "cell_type": "code",
   "execution_count": null,
   "metadata": {},
   "outputs": [],
   "source": [
    "print(len(results_to_keep['phenotype_id'].unique()))\n",
    "print(results_to_keep['phenotype_id'].unique())"
   ]
  },
  {
   "cell_type": "code",
   "execution_count": null,
   "metadata": {},
   "outputs": [],
   "source": [
    "genes_kept  = gencode_df.loc[gencode_df['gene_id'].isin(results_to_keep['phenotype_id']), \n",
    "                             ['gene_name']]['gene_name'].unique()\n",
    "print(len(genes_kept))\n",
    "print(genes_kept)"
   ]
  },
  {
   "cell_type": "code",
   "execution_count": null,
   "metadata": {},
   "outputs": [],
   "source": [
    "import random\n",
    "phenotype_id = random.choice(results_to_keep['phenotype_id'].unique())\n",
    "print(phenotype_id)"
   ]
  },
  {
   "cell_type": "code",
   "execution_count": null,
   "metadata": {},
   "outputs": [],
   "source": [
    "gencode_df.loc[gencode_df['gene_id'] == phenotype_id, \n",
    "               ['gene_name']]['gene_name'].unique()"
   ]
  },
  {
   "cell_type": "code",
   "execution_count": null,
   "metadata": {},
   "outputs": [],
   "source": [
    "# phenotype_id = 'ENSG00000143537.13'\n",
    "# phenotype_id = 'ENSG00000164733.20'\n",
    "temp = results_to_keep.loc[results_to_keep['phenotype_id'] == phenotype_id]\n",
    "print(temp.shape)\n",
    "display(temp.head())"
   ]
  },
  {
   "cell_type": "code",
   "execution_count": null,
   "metadata": {},
   "outputs": [],
   "source": [
    "sns.lmplot(x='gwas_zscore_abs', y='eqtl_zscore_abs', hue='month', data=temp)"
   ]
  },
  {
   "cell_type": "code",
   "execution_count": null,
   "metadata": {},
   "outputs": [],
   "source": [
    "sns.relplot(x='gwas_zscore_abs', \n",
    "            y='eqtl_zscore_abs', \n",
    "            hue='month', alpha=.5, palette=\"dark\", \n",
    "            height=12, data=temp) "
   ]
  },
  {
   "cell_type": "code",
   "execution_count": null,
   "metadata": {},
   "outputs": [],
   "source": [
    "this_formula = 'gwas_zscore_abs ~ eqtl_zscore_abs'\n",
    "grouping = 'month'\n",
    "result = mixed_model(this_formula, temp, grouping)\n",
    "print(result.summary())"
   ]
  },
  {
   "cell_type": "code",
   "execution_count": null,
   "metadata": {},
   "outputs": [],
   "source": [
    "term = 'eqtl_zscore_abs'\n",
    "print(['feature', 'coef', 'stderr', 'term_cnt', 'p-value'])\n",
    "print(result.params[term], result.bse[term], \n",
    "      result.params.shape[0], result.pvalues[term])"
   ]
  },
  {
   "cell_type": "code",
   "execution_count": null,
   "metadata": {},
   "outputs": [],
   "source": [
    "this_formula = 'gwas_zscore_abs ~ eqtl_zscore_abs'\n",
    "reg_model = smf.ols(this_formula, data=temp).fit()\n",
    "print(reg_model.summary())"
   ]
  },
  {
   "cell_type": "code",
   "execution_count": null,
   "metadata": {},
   "outputs": [],
   "source": [
    "this_formula = 'gwas_zscore_abs ~ eqtl_zscore_abs + month'\n",
    "reg_model = smf.ols(this_formula, data=temp).fit()\n",
    "print(reg_model.summary())"
   ]
  },
  {
   "cell_type": "code",
   "execution_count": null,
   "metadata": {},
   "outputs": [],
   "source": [
    "this_formula = 'gwas_zscore_abs ~ eqtl_zscore_abs + month + eqtl_zscore_abs * month'\n",
    "reg_model = smf.ols(this_formula, data=temp).fit()\n",
    "print(reg_model.summary())"
   ]
  },
  {
   "cell_type": "code",
   "execution_count": null,
   "metadata": {},
   "outputs": [],
   "source": [
    "this_formula = 'gwas_zscore_abs ~ eqtl_zscore_abs + (1|month)'\n",
    "reg_model = smf.ols(this_formula, data=temp).fit()\n",
    "print(reg_model.summary())"
   ]
  },
  {
   "cell_type": "markdown",
   "metadata": {},
   "source": [
    "#### now scan kept genes in the replication cohort"
   ]
  },
  {
   "cell_type": "markdown",
   "metadata": {},
   "source": [
    "#### which visit are present in the results (typically will be all in cohort)"
   ]
  },
  {
   "cell_type": "code",
   "execution_count": null,
   "metadata": {},
   "outputs": [],
   "source": [
    "rep_visits = sorted(list(eqtl_df.loc[eqtl_df['cohort'] == rep_cohort]['month'].unique()))\n",
    "print(rep_visits)"
   ]
  },
  {
   "cell_type": "code",
   "execution_count": null,
   "metadata": {},
   "outputs": [],
   "source": [
    "def load_pheno_result(ids, chrom, visits, in_dir, cohort, tissue, term):\n",
    "    df_to_return = None\n",
    "    for visit in visits:\n",
    "        chrom_file = f'{in_dir}/{cohort}.{tissue}{visit}.{term}.cis_qtl_pairs.chr{chrom}.parquet'\n",
    "        chrom_eqtl_df = pd.read_parquet(chrom_file)\n",
    "        possible_results_oi = chrom_eqtl_df.loc[chrom_eqtl_df['phenotype_id'].isin(ids)].copy()\n",
    "        possible_results_oi['month'] = visit\n",
    "        df_to_return = pd.concat([df_to_return, possible_results_oi])\n",
    "    return df_to_return\n",
    "\n",
    "def process_replication_check(pheno_ids, chrom, visits, in_dir, cohort, tissue, \n",
    "                              term, gwas_df):\n",
    "    results_to_keep = None\n",
    "    results_to_test = load_pheno_result(pheno_ids, chrom, visits, in_dir, cohort, \n",
    "                                        tissue, term)\n",
    "\n",
    "    # test the GWAS~eQTL regression for possible significance\n",
    "    phenos_oi = list(results_to_test['phenotype_id'].unique())\n",
    "    print(f'chr {chrom} shape {results_to_test.shape} pheno-count {len(phenos_oi)}')\n",
    "    for phenotype_id in phenos_oi:\n",
    "        alpha_df = create_merged_df_to_regress(results_to_test, phenotype_id, gwas_df)\n",
    "\n",
    "        if alpha_df.shape[0] > 0 and regress_zscores_keep(alpha_df):\n",
    "            results_to_keep = pd.concat([results_to_keep, alpha_df])\n",
    "    return results_to_keep"
   ]
  },
  {
   "cell_type": "code",
   "execution_count": null,
   "metadata": {},
   "outputs": [],
   "source": [
    "%%time\n",
    "\n",
    "rep_tensorqtl_dir = f'{home_dir}/{rep_cohort}/tensorqtl'\n",
    "\n",
    "pheno_ids = list(results_to_keep['phenotype_id'].unique())\n",
    "\n",
    "rep_results_to_keep = None\n",
    "for chrom in autosomes:\n",
    "    chr_result = process_replication_check(pheno_ids, chrom, rep_visits, rep_tensorqtl_dir, \n",
    "                                           rep_cohort, tissue, interaction_term, gwas_stats_df)\n",
    "    if not chr_result is None:\n",
    "        rep_results_to_keep = pd.concat([rep_results_to_keep, chr_result])\n",
    "\n",
    "print(rep_results_to_keep.shape)\n",
    "display(rep_results_to_keep.head())"
   ]
  },
  {
   "cell_type": "code",
   "execution_count": null,
   "metadata": {},
   "outputs": [],
   "source": [
    "print(len(rep_results_to_keep['phenotype_id'].unique()))\n",
    "print(rep_results_to_keep['phenotype_id'].unique())"
   ]
  },
  {
   "cell_type": "code",
   "execution_count": null,
   "metadata": {},
   "outputs": [],
   "source": [
    "rep_genes_kept  = gencode_df.loc[gencode_df['gene_id'].isin(rep_results_to_keep['phenotype_id']), \n",
    "                             ['gene_name']]['gene_name'].unique()\n",
    "print(len(rep_genes_kept))\n",
    "print(rep_genes_kept)"
   ]
  },
  {
   "cell_type": "code",
   "execution_count": null,
   "metadata": {},
   "outputs": [],
   "source": [
    "set(genes_kept) - set(rep_genes_kept)"
   ]
  },
  {
   "cell_type": "code",
   "execution_count": null,
   "metadata": {},
   "outputs": [],
   "source": []
  }
 ],
 "metadata": {
  "environment": {
   "name": "pytorch-gpu.1-8.m65",
   "type": "gcloud",
   "uri": "gcr.io/deeplearning-platform-release/pytorch-gpu.1-8:m65"
  },
  "kernelspec": {
   "display_name": "Python 3",
   "language": "python",
   "name": "python3"
  },
  "language_info": {
   "codemirror_mode": {
    "name": "ipython",
    "version": 3
   },
   "file_extension": ".py",
   "mimetype": "text/x-python",
   "name": "python",
   "nbconvert_exporter": "python",
   "pygments_lexer": "ipython3",
   "version": "3.7.10"
  },
  "widgets": {
   "application/vnd.jupyter.widget-state+json": {
    "state": {},
    "version_major": 2,
    "version_minor": 0
   }
  }
 },
 "nbformat": 4,
 "nbformat_minor": 4
}
