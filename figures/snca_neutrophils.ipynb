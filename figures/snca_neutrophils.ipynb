{
 "cells": [
  {
   "cell_type": "markdown",
   "id": "6e480a3d-efdc-4f3d-9a3e-cfff2a08102a",
   "metadata": {},
   "source": [
    "# Visualize SNCA expression and predicted neutrophil cell fraction"
   ]
  },
  {
   "cell_type": "code",
   "execution_count": null,
   "id": "841486fd-8695-447f-8297-ac30a68449ee",
   "metadata": {},
   "outputs": [],
   "source": [
    "!date"
   ]
  },
  {
   "cell_type": "markdown",
   "id": "f7795e7f-13c5-4909-ae25-8074f066c82b",
   "metadata": {},
   "source": [
    "#### import libraries"
   ]
  },
  {
   "cell_type": "code",
   "execution_count": null,
   "id": "41290c85-16f3-434e-9b66-db6406f78399",
   "metadata": {},
   "outputs": [],
   "source": [
    "from pandas import read_csv\n",
    "from numpy import log2\n",
    "from seaborn import scatterplot, lmplot\n",
    "import matplotlib.pyplot as plt\n",
    "from matplotlib.pyplot import rc_context\n",
    "\n",
    "import warnings\n",
    "warnings.filterwarnings('ignore')\n",
    "\n",
    "%matplotlib inline\n",
    "# for white background of figures (only for docs rendering)\n",
    "%config InlineBackend.print_figure_kwargs={'facecolor' : \"w\"}\n",
    "%config InlineBackend.figure_format='retina'"
   ]
  },
  {
   "cell_type": "markdown",
   "id": "81a6eebd-cf4d-4685-9bc7-113239de01ad",
   "metadata": {},
   "source": [
    "#### set notebook variables"
   ]
  },
  {
   "cell_type": "code",
   "execution_count": null,
   "id": "e3582160-215f-4834-8891-cbed3d254de7",
   "metadata": {},
   "outputs": [],
   "source": [
    "# naming\n",
    "set_name = 'amppd'\n",
    "gene = 'SNCA'\n",
    "gene_id = 'ENSG00000145335.15'\n",
    "\n",
    "# directory \n",
    "wrk_dir = '/labshare/raph/datasets/amppd'\n",
    "info_dir = f'{wrk_dir}/info'\n",
    "quants_dir = f'{wrk_dir}/quants'\n",
    "\n",
    "# in files\n",
    "quants_file = f'{quants_dir}/matrix.genes.tsv'\n",
    "info_file = f'{info_dir}/amp_pd_case_control.csv'\n",
    "mutation_status_file = f'{info_dir}/amp_pd_participant_mutations.csv'\n",
    "cell_fracs_file = f'{wrk_dir}/deconvolution/automl_tables/amppd.wb.pred_cell_fracs.csv'\n",
    "\n",
    "# variables and constants\n",
    "DEBUG = True\n",
    "dpi_value = 100\n",
    "\n",
    "if DEBUG:\n",
    "    print(f'quants_file if {quants_file}')\n",
    "    print(f'info_file if {info_file}')\n",
    "    print(f'mutation_status_file if {mutation_status_file}')\n",
    "    print(f'cell_fracs_file if {cell_fracs_file}')"
   ]
  },
  {
   "cell_type": "markdown",
   "id": "c8154606-5a61-4079-9082-83c1c44d2ab0",
   "metadata": {},
   "source": [
    "## load the inputs"
   ]
  },
  {
   "cell_type": "markdown",
   "id": "62b7fb4f-7cb6-4370-aa56-0df2151ee26d",
   "metadata": {},
   "source": [
    "### load the sample/subject information"
   ]
  },
  {
   "cell_type": "code",
   "execution_count": null,
   "id": "a23d44de-07d6-41d7-bfb0-63c044933c17",
   "metadata": {},
   "outputs": [],
   "source": [
    "info_df = read_csv(info_file, index_col=0)\n",
    "print(f'shape of info_df is {info_df.shape}')\n",
    "if DEBUG:\n",
    "    display(info_df.head())\n",
    "    display(info_df.diagnosis_latest.value_counts())\n",
    "    display(info_df.case_control_other_latest.value_counts())"
   ]
  },
  {
   "cell_type": "markdown",
   "id": "4d6d1f62-70e3-409d-a057-9ce78750d567",
   "metadata": {},
   "source": [
    "### load the subject mutation status from WGS"
   ]
  },
  {
   "cell_type": "code",
   "execution_count": null,
   "id": "f1dc2206-a2e1-4eca-b171-2b6e825fb8f7",
   "metadata": {},
   "outputs": [],
   "source": [
    "mut_df = read_csv(mutation_status_file, index_col=0)\n",
    "print(f'mut_df shape is {mut_df.shape}')\n",
    "# simplify the column names\n",
    "mut_df = mut_df.rename(columns=lambda x: x.replace('has_known_', ''))\n",
    "mut_df = mut_df.rename(columns=lambda x: x.replace('_mutation_in_WGS', '+'))\n",
    "mut_df = mut_df.rename(columns=lambda x: x.replace('_in_WGS', '+'))\n",
    "if DEBUG:\n",
    "    display(mut_df.head())\n",
    "    display(mut_df.apply(lambda x: x.value_counts()))"
   ]
  },
  {
   "cell_type": "markdown",
   "id": "dbc7456d-317c-4a42-9dd6-7fe251c1a835",
   "metadata": {},
   "source": [
    "### load the gene quantifications"
   ]
  },
  {
   "cell_type": "code",
   "execution_count": null,
   "id": "845d369b-7fd9-4a7a-bfab-f6dc82382806",
   "metadata": {},
   "outputs": [],
   "source": [
    "%%time\n",
    "quants_df = read_csv(quants_file, index_col=0, sep='\\t').transpose()\n",
    "print(f'shape of quants_df is {quants_df.shape}')\n",
    "if DEBUG:\n",
    "    display(quants_df.head())"
   ]
  },
  {
   "cell_type": "markdown",
   "id": "8c83ec23-8541-431c-b12c-559e5684263d",
   "metadata": {},
   "source": [
    "### load the predicted whole-blood cell-type fractions"
   ]
  },
  {
   "cell_type": "code",
   "execution_count": null,
   "id": "0a598973-d5b2-441b-8e08-4e820c7d08d1",
   "metadata": {},
   "outputs": [],
   "source": [
    "fracs_df = read_csv(cell_fracs_file, index_col=0)\n",
    "print(f'shape of fracs_df is {fracs_df.shape}')\n",
    "if DEBUG:\n",
    "    display(fracs_df.head())"
   ]
  },
  {
   "cell_type": "markdown",
   "id": "f52fb6d8-0d76-452b-bb51-b9adf3fcea82",
   "metadata": {},
   "source": [
    "## merge the gene of insterest's quantification with the predicted cell-fractions"
   ]
  },
  {
   "cell_type": "code",
   "execution_count": null,
   "id": "79be2631-cbe5-4f85-a3c4-409f5d96c5c2",
   "metadata": {},
   "outputs": [],
   "source": [
    "fq_df = fracs_df.merge(quants_df[[gene_id]], \n",
    "                       how='inner', left_index=True, right_index=True)\n",
    "print(f'shape of fq_df is {fq_df.shape}')\n",
    "if DEBUG:\n",
    "    display(fq_df.head())"
   ]
  },
  {
   "cell_type": "markdown",
   "id": "12eda032-d212-4cb5-8b31-0faeb4ad92aa",
   "metadata": {},
   "source": [
    "## merge the mutation info"
   ]
  },
  {
   "cell_type": "markdown",
   "id": "9b93c52a-b6a0-4a9c-a95f-a91b05a3163f",
   "metadata": {},
   "source": [
    "### in order to merge need to split the subject ID from the sample ID"
   ]
  },
  {
   "cell_type": "code",
   "execution_count": null,
   "id": "fb6b3383-6f80-4d48-a67f-2f9a4a5d4988",
   "metadata": {},
   "outputs": [],
   "source": [
    "ids_df = fq_df.index.str.split('-', expand=True).to_frame()\n",
    "ids_df.columns = ['group', 'individual', 'visit']\n",
    "ids_df['subject'] = ids_df.group + '-' + ids_df.individual\n",
    "if DEBUG:\n",
    "    display(ids_df.head())\n",
    "\n",
    "fq_df['subject'] = ids_df.subject.values\n",
    "fq_df['visit'] = ids_df.visit.values\n",
    "print(f'new shape of fq_df is {fq_df.shape}')\n",
    "if DEBUG:\n",
    "    display(fq_df.head())"
   ]
  },
  {
   "cell_type": "markdown",
   "id": "3ad2a18a-d221-4541-9628-b6d362eb6d84",
   "metadata": {},
   "source": [
    "### now can acutally merge additional subject info"
   ]
  },
  {
   "cell_type": "code",
   "execution_count": null,
   "id": "88bf6f0f-3358-4223-89b5-275027e9afed",
   "metadata": {},
   "outputs": [],
   "source": [
    "merged_df = fq_df.merge(info_df, how='left', left_on='subject', right_index=True)\n",
    "merged_df = merged_df.merge(mut_df, how='left', left_on='subject', right_index=True)\n",
    "print(f'shape of merged_df is {merged_df.shape}')\n",
    "if DEBUG:\n",
    "    display(merged_df.head())"
   ]
  },
  {
   "cell_type": "markdown",
   "id": "8a93218b-db78-4a1d-b4e7-b3d1949e4a84",
   "metadata": {},
   "source": [
    "## log the gene's counts"
   ]
  },
  {
   "cell_type": "code",
   "execution_count": null,
   "id": "3fcf5a79-f528-4e9d-8a15-a78f00e8a79d",
   "metadata": {},
   "outputs": [],
   "source": [
    "merged_df[gene_id] = log2(merged_df[gene_id])"
   ]
  },
  {
   "cell_type": "markdown",
   "id": "ededd121-14b3-43e7-9301-dbe466566027",
   "metadata": {},
   "source": [
    "## generate the plot"
   ]
  },
  {
   "cell_type": "code",
   "execution_count": null,
   "id": "59ffda08-41c2-4521-a5a5-5409a4056489",
   "metadata": {},
   "outputs": [],
   "source": [
    "def frac_gene_scatter(df, feature_id, feature_name, cell_name, hue_cat, dpi_val: int=100):\n",
    "    with rc_context({'figure.figsize': (9, 9), 'figure.dpi': dpi_val}):\n",
    "        plt.style.use('seaborn-v0_8-poster') \n",
    "        lmplot(x=cell_name, \n",
    "               y=feature_id, hue=hue_cat,\n",
    "               height=12, data=df.sample(frac=1))\n",
    "        plt.xlabel(cell_name)\n",
    "        plt.ylabel(feature_name)\n",
    "        plt.title(f'{feature_name} quantification and {cell_name} fraction with {hue_cat} interaction', \n",
    "              fontsize='large') \n",
    "        plt.show()"
   ]
  },
  {
   "cell_type": "code",
   "execution_count": null,
   "id": "2e0e83a3-1d75-4696-b613-0ef6cef88ad6",
   "metadata": {},
   "outputs": [],
   "source": [
    "frac_gene_scatter(merged_df, gene_id, gene, 'predicted_Neutrophils', 'case_control_other_latest', dpi_val=50)"
   ]
  },
  {
   "cell_type": "code",
   "execution_count": null,
   "id": "645f3a26-b7b6-4902-8792-521c910d1cec",
   "metadata": {},
   "outputs": [],
   "source": [
    "frac_gene_scatter(merged_df, gene_id, gene, 'predicted_Neutrophils', 'GBA+', dpi_val=50)"
   ]
  },
  {
   "cell_type": "code",
   "execution_count": null,
   "id": "1e38f6d9-3ac7-41b8-861b-7a20837ed05e",
   "metadata": {},
   "outputs": [],
   "source": [
    "frac_gene_scatter(merged_df, gene_id, gene, 'predicted_Neutrophils', 'LRRK2+', dpi_val=50)"
   ]
  },
  {
   "cell_type": "code",
   "execution_count": null,
   "id": "7b93d6a9-3821-41c9-ae9d-c9d97af1e9a1",
   "metadata": {},
   "outputs": [],
   "source": [
    "frac_gene_scatter(merged_df, gene_id, gene, 'predicted_Neutrophils', 'SNCA+', dpi_val=50)"
   ]
  },
  {
   "cell_type": "code",
   "execution_count": null,
   "id": "5410f8bc-1fb1-476c-974f-4c3978d388d1",
   "metadata": {},
   "outputs": [],
   "source": [
    "frac_gene_scatter(merged_df, gene_id, gene, 'predicted_Neutrophils', 'APOE_E4+', dpi_val=50)"
   ]
  },
  {
   "cell_type": "code",
   "execution_count": null,
   "id": "1f1b862b-55f1-49fd-88a6-b16e49068d05",
   "metadata": {},
   "outputs": [],
   "source": [
    "frac_gene_scatter(merged_df, gene_id, gene, 'predicted_Neutrophils', 'PD_Mutation+', dpi_val=50)"
   ]
  },
  {
   "cell_type": "code",
   "execution_count": null,
   "id": "34d53a7b-50b2-47bf-b219-12101fbebcb7",
   "metadata": {},
   "outputs": [],
   "source": []
  }
 ],
 "metadata": {
  "kernelspec": {
   "display_name": "Python 3 (ipykernel)",
   "language": "python",
   "name": "python3"
  },
  "language_info": {
   "codemirror_mode": {
    "name": "ipython",
    "version": 3
   },
   "file_extension": ".py",
   "mimetype": "text/x-python",
   "name": "python",
   "nbconvert_exporter": "python",
   "pygments_lexer": "ipython3",
   "version": "3.12.4"
  }
 },
 "nbformat": 4,
 "nbformat_minor": 5
}
